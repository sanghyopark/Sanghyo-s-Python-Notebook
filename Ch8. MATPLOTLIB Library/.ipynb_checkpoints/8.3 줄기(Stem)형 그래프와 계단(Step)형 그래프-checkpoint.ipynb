{
 "cells": [
  {
   "cell_type": "markdown",
   "id": "7dbf399a",
   "metadata": {},
   "source": [
    "# 8.3 줄기(Stem)형 그래프와 계단(Step)형 그래프"
   ]
  },
  {
   "cell_type": "code",
   "execution_count": 13,
   "id": "728645f2",
   "metadata": {
    "ExecuteTime": {
     "end_time": "2022-02-13T14:53:00.171149Z",
     "start_time": "2022-02-13T14:53:00.047628Z"
    }
   },
   "outputs": [
    {
     "data": {
      "image/png": "[encoded data removed]",
      "text/plain": [
       "<Figure size 633.6x172.8 with 2 Axes>"
      ]
     },
     "metadata": {
      "needs_background": "light"
     },
     "output_type": "display_data"
    }
   ],
   "source": [
    "import matplotlib.pyplot as plt\n",
    "import numpy as np\n",
    "\n",
    "plt.figure(tight_layout=True, figsize=(8.8,2.4))\n",
    "\n",
    "x0, xf, N = (0.1, 2*np.pi, 20)\n",
    "x = np.linspace(x0,xf,N) #[0.1,2pi]구간에 등간격으로 20개의 등차수열\n",
    "y = np.sin(x)\n",
    "\n",
    "plt.subplot(1,2,1)\n",
    "plt.stem(x,y) #x에 대한 y값들을 줄기형 그래프로 만든다.\n",
    "\n",
    "plt.subplot(1,2,2)\n",
    "plt.step(x,y) #x에 대한 y값들을 줄기형 그래프로 만든다.\n",
    "\n",
    "plt.plot([x0,xf],[0,0],'k') #x0와 xf를 직선으로 이어 x축을 만든다.\n",
    "\n",
    "plt.show()"
   ]
  }
 ],
 "metadata": {
  "kernelspec": {
   "display_name": "Python 3 (ipykernel)",
   "language": "python",
   "name": "python3"
  },
  "language_info": {
   "codemirror_mode": {
    "name": "ipython",
    "version": 3
   },
   "file_extension": ".py",
   "mimetype": "text/x-python",
   "name": "python",
   "nbconvert_exporter": "python",
   "pygments_lexer": "ipython3",
   "version": "3.9.7"
  },
  "toc": {
   "base_numbering": 1,
   "nav_menu": {},
   "number_sections": true,
   "sideBar": true,
   "skip_h1_title": false,
   "title_cell": "Table of Contents",
   "title_sidebar": "Contents",
   "toc_cell": false,
   "toc_position": {},
   "toc_section_display": true,
   "toc_window_display": false
  }
 },
 "nbformat": 4,
 "nbformat_minor": 5
}
