{
 "cells": [
  {
   "cell_type": "code",
   "execution_count": 1,
   "id": "038bf277",
   "metadata": {
    "ExecuteTime": {
     "end_time": "2022-02-15T00:04:04.513409Z",
     "start_time": "2022-02-15T00:04:04.498905Z"
    }
   },
   "outputs": [],
   "source": [
    "from IPython.core.interactiveshell import InteractiveShell\n",
    "InteractiveShell.ast_node_interactivity = \"all\""
   ]
  },
  {
   "cell_type": "markdown",
   "id": "a7f6c198",
   "metadata": {},
   "source": [
    "# 9.1 NUMPY Library"
   ]
  },
  {
   "cell_type": "code",
   "execution_count": 2,
   "id": "66a2fd87",
   "metadata": {
    "ExecuteTime": {
     "end_time": "2022-02-15T00:04:06.252463Z",
     "start_time": "2022-02-15T00:04:06.166210Z"
    }
   },
   "outputs": [],
   "source": [
    "import numpy as np"
   ]
  },
  {
   "cell_type": "code",
   "execution_count": 2,
   "id": "102f4538",
   "metadata": {
    "ExecuteTime": {
     "end_time": "2022-02-14T09:35:19.526151Z",
     "start_time": "2022-02-14T09:35:19.505147Z"
    }
   },
   "outputs": [
    {
     "name": "stderr",
     "output_type": "stream",
     "text": [
      "C:\\Users\\shpar\\AppData\\Local\\Temp/ipykernel_14424/2544270126.py:1: DeprecationWarning: `np.float` is a deprecated alias for the builtin `float`. To silence this warning, use `float` by itself. Doing this will not modify any behavior and is safe. If you specifically wanted the numpy scalar type, use `np.float64` here.\n",
      "Deprecated in NumPy 1.20; for more details and guidance: https://numpy.org/devdocs/release/1.20.0-notes.html#deprecations\n",
      "  np.float(1)\n"
     ]
    },
    {
     "data": {
      "text/plain": [
       "1.0"
      ]
     },
     "execution_count": 2,
     "metadata": {},
     "output_type": "execute_result"
    }
   ],
   "source": [
    "np.float(1)"
   ]
  },
  {
   "cell_type": "code",
   "execution_count": 3,
   "id": "7daa0cde",
   "metadata": {
    "ExecuteTime": {
     "end_time": "2022-02-14T09:35:40.354882Z",
     "start_time": "2022-02-14T09:35:40.339378Z"
    }
   },
   "outputs": [
    {
     "data": {
      "text/plain": [
       "1.0"
      ]
     },
     "execution_count": 3,
     "metadata": {},
     "output_type": "execute_result"
    }
   ],
   "source": [
    "float(1)"
   ]
  },
  {
   "cell_type": "code",
   "execution_count": 4,
   "id": "bd5de1b1",
   "metadata": {
    "ExecuteTime": {
     "end_time": "2022-02-14T09:36:04.638724Z",
     "start_time": "2022-02-14T09:36:04.629223Z"
    }
   },
   "outputs": [
    {
     "data": {
      "text/plain": [
       "array([1., 2.])"
      ]
     },
     "execution_count": 4,
     "metadata": {},
     "output_type": "execute_result"
    }
   ],
   "source": [
    "np.array([1,2], dtype='float')"
   ]
  },
  {
   "cell_type": "code",
   "execution_count": 6,
   "id": "08fd8f7f",
   "metadata": {
    "ExecuteTime": {
     "end_time": "2022-02-14T09:36:15.508755Z",
     "start_time": "2022-02-14T09:36:15.498753Z"
    }
   },
   "outputs": [
    {
     "data": {
      "text/plain": [
       "(1+0j)"
      ]
     },
     "execution_count": 6,
     "metadata": {},
     "output_type": "execute_result"
    }
   ],
   "source": [
    "np.complex_(1)"
   ]
  },
  {
   "cell_type": "code",
   "execution_count": 7,
   "id": "635d145e",
   "metadata": {
    "ExecuteTime": {
     "end_time": "2022-02-14T09:36:31.133862Z",
     "start_time": "2022-02-14T09:36:31.128362Z"
    }
   },
   "outputs": [
    {
     "data": {
      "text/plain": [
       "array([1.+0.j, 2.+0.j])"
      ]
     },
     "execution_count": 7,
     "metadata": {},
     "output_type": "execute_result"
    }
   ],
   "source": [
    "np.array([1,2],dtype='complex_')"
   ]
  },
  {
   "cell_type": "code",
   "execution_count": 8,
   "id": "4246d428",
   "metadata": {
    "ExecuteTime": {
     "end_time": "2022-02-14T09:37:08.205729Z",
     "start_time": "2022-02-14T09:37:08.192726Z"
    }
   },
   "outputs": [
    {
     "data": {
      "text/plain": [
       "[1, 9, 16]"
      ]
     },
     "execution_count": 8,
     "metadata": {},
     "output_type": "execute_result"
    }
   ],
   "source": [
    "x = [1,3,4]\n",
    "x1 = [a**2 for a in x]; x1"
   ]
  },
  {
   "cell_type": "code",
   "execution_count": 9,
   "id": "61c67667",
   "metadata": {
    "ExecuteTime": {
     "end_time": "2022-02-14T09:37:21.018614Z",
     "start_time": "2022-02-14T09:37:21.008112Z"
    }
   },
   "outputs": [
    {
     "data": {
      "text/plain": [
       "array([ 1,  9, 16], dtype=int32)"
      ]
     },
     "execution_count": 9,
     "metadata": {},
     "output_type": "execute_result"
    }
   ],
   "source": [
    "xn = np.array([1,3,4])\n",
    "xn1 = xn**2; xn1"
   ]
  },
  {
   "cell_type": "code",
   "execution_count": 11,
   "id": "e07a7190",
   "metadata": {
    "ExecuteTime": {
     "end_time": "2022-02-14T09:38:40.271937Z",
     "start_time": "2022-02-14T09:38:40.258935Z"
    }
   },
   "outputs": [
    {
     "ename": "TypeError",
     "evalue": "'float' object cannot be interpreted as an integer",
     "output_type": "error",
     "traceback": [
      "\u001b[1;31m---------------------------------------------------------------------------\u001b[0m",
      "\u001b[1;31mTypeError\u001b[0m                                 Traceback (most recent call last)",
      "\u001b[1;32m~\\AppData\\Local\\Temp/ipykernel_14424/3529208740.py\u001b[0m in \u001b[0;36m<module>\u001b[1;34m\u001b[0m\n\u001b[1;32m----> 1\u001b[1;33m \u001b[0mr\u001b[0m \u001b[1;33m=\u001b[0m \u001b[0mlist\u001b[0m\u001b[1;33m(\u001b[0m\u001b[0mrange\u001b[0m\u001b[1;33m(\u001b[0m\u001b[1;36m2\u001b[0m\u001b[1;33m,\u001b[0m\u001b[1;36m4\u001b[0m\u001b[1;33m,\u001b[0m\u001b[1;36m0.5\u001b[0m\u001b[1;33m)\u001b[0m\u001b[1;33m)\u001b[0m\u001b[1;33m\u001b[0m\u001b[1;33m\u001b[0m\u001b[0m\n\u001b[0m",
      "\u001b[1;31mTypeError\u001b[0m: 'float' object cannot be interpreted as an integer"
     ]
    }
   ],
   "source": [
    "r = list(range(2,4,0.5))"
   ]
  },
  {
   "cell_type": "code",
   "execution_count": 13,
   "id": "bd9982bd",
   "metadata": {
    "ExecuteTime": {
     "end_time": "2022-02-14T09:39:08.673570Z",
     "start_time": "2022-02-14T09:39:08.663068Z"
    }
   },
   "outputs": [
    {
     "data": {
      "text/plain": [
       "array([2. , 2.5, 3. , 3.5])"
      ]
     },
     "execution_count": 13,
     "metadata": {},
     "output_type": "execute_result"
    }
   ],
   "source": [
    "rn = np.arange(2, 4, 0.5); rn #2부터 4미만까지 0.5씩 증가시켜서"
   ]
  },
  {
   "cell_type": "markdown",
   "id": "c3a4ac48",
   "metadata": {},
   "source": [
    "## 9.1.1 Numpy Array의 생성"
   ]
  },
  {
   "cell_type": "code",
   "execution_count": 5,
   "id": "8c0c6a90",
   "metadata": {
    "ExecuteTime": {
     "end_time": "2022-02-14T21:20:08.242389Z",
     "start_time": "2022-02-14T21:20:08.237888Z"
    }
   },
   "outputs": [
    {
     "data": {
      "text/plain": [
       "array([1, 2, 3, 4, 5, 6, 7])"
      ]
     },
     "execution_count": 5,
     "metadata": {},
     "output_type": "execute_result"
    }
   ],
   "source": [
    "a = np.array([1,2,3,4,5,6,7]); a"
   ]
  },
  {
   "cell_type": "code",
   "execution_count": 15,
   "id": "8f82d12c",
   "metadata": {
    "ExecuteTime": {
     "end_time": "2022-02-14T09:41:51.640998Z",
     "start_time": "2022-02-14T09:41:51.626496Z"
    }
   },
   "outputs": [
    {
     "data": {
      "text/plain": [
       "[1, 2, 3, 4, 5, 6, 7]"
      ]
     },
     "execution_count": 15,
     "metadata": {},
     "output_type": "execute_result"
    }
   ],
   "source": [
    "list(a)"
   ]
  },
  {
   "cell_type": "code",
   "execution_count": 18,
   "id": "bf7a71d6",
   "metadata": {
    "ExecuteTime": {
     "end_time": "2022-02-14T09:42:41.957495Z",
     "start_time": "2022-02-14T09:42:41.946493Z"
    }
   },
   "outputs": [
    {
     "data": {
      "text/plain": [
       "array([[ 1,  0,  3,  4],\n",
       "       [ 5,  6,  0,  8],\n",
       "       [ 9, 10, 11, 12]])"
      ]
     },
     "execution_count": 18,
     "metadata": {},
     "output_type": "execute_result"
    },
    {
     "name": "stdout",
     "output_type": "stream",
     "text": [
      "[[ 1  0  3  4]\n",
      " [ 5  6  0  8]\n",
      " [ 9 10 11 12]]\n"
     ]
    }
   ],
   "source": [
    "A = np.array([[1,0,3,4],[5,6,0,8],[9,10,11,12]]); A; print(A)"
   ]
  },
  {
   "cell_type": "code",
   "execution_count": 19,
   "id": "c7942ea0",
   "metadata": {
    "ExecuteTime": {
     "end_time": "2022-02-14T09:43:45.030910Z",
     "start_time": "2022-02-14T09:43:45.017409Z"
    }
   },
   "outputs": [
    {
     "data": {
      "text/plain": [
       "(3, 4)"
      ]
     },
     "execution_count": 19,
     "metadata": {},
     "output_type": "execute_result"
    },
    {
     "data": {
      "text/plain": [
       "2"
      ]
     },
     "execution_count": 19,
     "metadata": {},
     "output_type": "execute_result"
    },
    {
     "data": {
      "text/plain": [
       "4"
      ]
     },
     "execution_count": 19,
     "metadata": {},
     "output_type": "execute_result"
    },
    {
     "data": {
      "text/plain": [
       "dtype('int32')"
      ]
     },
     "execution_count": 19,
     "metadata": {},
     "output_type": "execute_result"
    }
   ],
   "source": [
    "A.shape #모양\n",
    "A.ndim #차원\n",
    "A.itemsize #한 요소의 byte 개수\n",
    "A.dtype # data type"
   ]
  },
  {
   "cell_type": "markdown",
   "id": "19d3636f",
   "metadata": {},
   "source": [
    "## 9.1.2 Numpy Array의 색인(Indexing)"
   ]
  },
  {
   "cell_type": "code",
   "execution_count": 6,
   "id": "8a78a9f1",
   "metadata": {
    "ExecuteTime": {
     "end_time": "2022-02-14T21:20:10.987536Z",
     "start_time": "2022-02-14T21:20:10.970533Z"
    }
   },
   "outputs": [
    {
     "data": {
      "text/plain": [
       "2"
      ]
     },
     "execution_count": 6,
     "metadata": {},
     "output_type": "execute_result"
    }
   ],
   "source": [
    "a[1]"
   ]
  },
  {
   "cell_type": "code",
   "execution_count": 9,
   "id": "a2d470f2",
   "metadata": {
    "ExecuteTime": {
     "end_time": "2022-02-14T21:21:27.345794Z",
     "start_time": "2022-02-14T21:21:27.337793Z"
    }
   },
   "outputs": [
    {
     "data": {
      "text/plain": [
       "array([[ 1,  0,  3,  4],\n",
       "       [ 5,  6,  0,  8],\n",
       "       [ 9, 10, 11, 12]])"
      ]
     },
     "execution_count": 9,
     "metadata": {},
     "output_type": "execute_result"
    }
   ],
   "source": [
    "A = np.array([[1,0,3,4],[5,6,0,8],[9,10,11,12]]); A"
   ]
  },
  {
   "cell_type": "code",
   "execution_count": 10,
   "id": "8896c878",
   "metadata": {
    "ExecuteTime": {
     "end_time": "2022-02-14T21:21:40.039901Z",
     "start_time": "2022-02-14T21:21:40.027899Z"
    }
   },
   "outputs": [
    {
     "data": {
      "text/plain": [
       "0"
      ]
     },
     "execution_count": 10,
     "metadata": {},
     "output_type": "execute_result"
    }
   ],
   "source": [
    "A[1,2] # 1행 2열 요소"
   ]
  },
  {
   "cell_type": "code",
   "execution_count": 11,
   "id": "b77efdb2",
   "metadata": {
    "ExecuteTime": {
     "end_time": "2022-02-14T21:22:07.307484Z",
     "start_time": "2022-02-14T21:22:07.303483Z"
    }
   },
   "outputs": [
    {
     "data": {
      "text/plain": [
       "(array([1, 0, 3, 4]), (4,))"
      ]
     },
     "execution_count": 11,
     "metadata": {},
     "output_type": "execute_result"
    }
   ],
   "source": [
    "A[0], A[0].shape # A의 0행, 행벡터"
   ]
  },
  {
   "cell_type": "code",
   "execution_count": 13,
   "id": "038bc222",
   "metadata": {
    "ExecuteTime": {
     "end_time": "2022-02-14T21:23:49.863046Z",
     "start_time": "2022-02-14T21:23:49.852044Z"
    }
   },
   "outputs": [
    {
     "data": {
      "text/plain": [
       "(array([ 0,  6, 10]), (3,))"
      ]
     },
     "execution_count": 13,
     "metadata": {},
     "output_type": "execute_result"
    }
   ],
   "source": [
    "A[:,1], A[:,1].shape #A의 1열, 행벡터"
   ]
  },
  {
   "cell_type": "code",
   "execution_count": 21,
   "id": "e1d14866",
   "metadata": {
    "ExecuteTime": {
     "end_time": "2022-02-14T21:25:56.221255Z",
     "start_time": "2022-02-14T21:25:56.212753Z"
    }
   },
   "outputs": [
    {
     "data": {
      "text/plain": [
       "array([[0, 4],\n",
       "       [6, 8]])"
      ]
     },
     "execution_count": 21,
     "metadata": {},
     "output_type": "execute_result"
    }
   ],
   "source": [
    "A[0:2,1:4:2] #A의 0~1행, 1~3행중 2열간격으로"
   ]
  },
  {
   "cell_type": "code",
   "execution_count": 22,
   "id": "2295b583",
   "metadata": {
    "ExecuteTime": {
     "end_time": "2022-02-14T21:26:25.714560Z",
     "start_time": "2022-02-14T21:26:25.702058Z"
    }
   },
   "outputs": [
    {
     "data": {
      "text/plain": [
       "array([[ 5,  6],\n",
       "       [ 9, 10]])"
      ]
     },
     "execution_count": 22,
     "metadata": {},
     "output_type": "execute_result"
    }
   ],
   "source": [
    "A[1:,:2] #A의 1~행, ~1열"
   ]
  },
  {
   "cell_type": "code",
   "execution_count": 23,
   "id": "b27f94f1",
   "metadata": {
    "ExecuteTime": {
     "end_time": "2022-02-14T21:26:43.162726Z",
     "start_time": "2022-02-14T21:26:43.153725Z"
    }
   },
   "outputs": [
    {
     "data": {
      "text/plain": [
       "array([[False, False, False, False],\n",
       "       [False, False, False, False],\n",
       "       [False,  True,  True,  True]])"
      ]
     },
     "execution_count": 23,
     "metadata": {},
     "output_type": "execute_result"
    }
   ],
   "source": [
    "A>9"
   ]
  },
  {
   "cell_type": "code",
   "execution_count": 25,
   "id": "6d1f0f7c",
   "metadata": {
    "ExecuteTime": {
     "end_time": "2022-02-14T21:26:55.035586Z",
     "start_time": "2022-02-14T21:26:55.022083Z"
    }
   },
   "outputs": [
    {
     "data": {
      "text/plain": [
       "array([10, 11, 12])"
      ]
     },
     "execution_count": 25,
     "metadata": {},
     "output_type": "execute_result"
    }
   ],
   "source": [
    "A[A>9]"
   ]
  },
  {
   "cell_type": "code",
   "execution_count": 26,
   "id": "f07568d2",
   "metadata": {
    "ExecuteTime": {
     "end_time": "2022-02-14T21:27:09.840696Z",
     "start_time": "2022-02-14T21:27:09.827695Z"
    }
   },
   "outputs": [
    {
     "data": {
      "text/plain": [
       "array([10, 11, 12])"
      ]
     },
     "execution_count": 26,
     "metadata": {},
     "output_type": "execute_result"
    }
   ],
   "source": [
    "np.extract(A>9,A)"
   ]
  },
  {
   "cell_type": "code",
   "execution_count": 27,
   "id": "56504f56",
   "metadata": {
    "ExecuteTime": {
     "end_time": "2022-02-14T21:27:25.457023Z",
     "start_time": "2022-02-14T21:27:25.441520Z"
    }
   },
   "outputs": [
    {
     "data": {
      "text/plain": [
       "(array([2, 2, 2], dtype=int64), array([1, 2, 3], dtype=int64))"
      ]
     },
     "execution_count": 27,
     "metadata": {},
     "output_type": "execute_result"
    }
   ],
   "source": [
    "ind = np.where(A>9); ind"
   ]
  },
  {
   "cell_type": "code",
   "execution_count": 28,
   "id": "4f02f5db",
   "metadata": {
    "ExecuteTime": {
     "end_time": "2022-02-14T21:28:07.771521Z",
     "start_time": "2022-02-14T21:28:07.761520Z"
    }
   },
   "outputs": [
    {
     "data": {
      "text/plain": [
       "array([[2, 1],\n",
       "       [2, 2],\n",
       "       [2, 3]], dtype=int64)"
      ]
     },
     "execution_count": 28,
     "metadata": {},
     "output_type": "execute_result"
    }
   ],
   "source": [
    "inda = np.argwhere(A>9); inda"
   ]
  },
  {
   "cell_type": "code",
   "execution_count": 29,
   "id": "070645c2",
   "metadata": {
    "ExecuteTime": {
     "end_time": "2022-02-14T21:28:27.543785Z",
     "start_time": "2022-02-14T21:28:27.529782Z"
    }
   },
   "outputs": [
    {
     "data": {
      "text/plain": [
       "array([10, 11, 12])"
      ]
     },
     "execution_count": 29,
     "metadata": {},
     "output_type": "execute_result"
    }
   ],
   "source": [
    "A[ind]"
   ]
  },
  {
   "cell_type": "code",
   "execution_count": 30,
   "id": "365688ef",
   "metadata": {
    "ExecuteTime": {
     "end_time": "2022-02-14T21:28:30.701459Z",
     "start_time": "2022-02-14T21:28:30.682456Z"
    }
   },
   "outputs": [
    {
     "ename": "IndexError",
     "evalue": "index 3 is out of bounds for axis 0 with size 3",
     "output_type": "error",
     "traceback": [
      "\u001b[1;31m---------------------------------------------------------------------------\u001b[0m",
      "\u001b[1;31mIndexError\u001b[0m                                Traceback (most recent call last)",
      "\u001b[1;32m~\\AppData\\Local\\Temp/ipykernel_1172/2087858239.py\u001b[0m in \u001b[0;36m<module>\u001b[1;34m\u001b[0m\n\u001b[1;32m----> 1\u001b[1;33m \u001b[0mA\u001b[0m\u001b[1;33m[\u001b[0m\u001b[0minda\u001b[0m\u001b[1;33m]\u001b[0m\u001b[1;33m\u001b[0m\u001b[1;33m\u001b[0m\u001b[0m\n\u001b[0m",
      "\u001b[1;31mIndexError\u001b[0m: index 3 is out of bounds for axis 0 with size 3"
     ]
    }
   ],
   "source": [
    "A[inda]"
   ]
  },
  {
   "cell_type": "code",
   "execution_count": 31,
   "id": "51939360",
   "metadata": {
    "ExecuteTime": {
     "end_time": "2022-02-14T21:29:04.560383Z",
     "start_time": "2022-02-14T21:29:04.556883Z"
    }
   },
   "outputs": [
    {
     "data": {
      "text/plain": [
       "array([[1, 0, 3, 0],\n",
       "       [0, 0, 0, 0],\n",
       "       [0, 0, 0, 0]])"
      ]
     },
     "execution_count": 31,
     "metadata": {},
     "output_type": "execute_result"
    }
   ],
   "source": [
    "A1 = np.where(A<4, A, 0); A1"
   ]
  },
  {
   "cell_type": "code",
   "execution_count": 32,
   "id": "5a1b2109",
   "metadata": {
    "ExecuteTime": {
     "end_time": "2022-02-14T21:29:58.477169Z",
     "start_time": "2022-02-14T21:29:58.472169Z"
    }
   },
   "outputs": [
    {
     "data": {
      "text/plain": [
       "(array([0, 0], dtype=int64), array([0, 2], dtype=int64))"
      ]
     },
     "execution_count": 32,
     "metadata": {},
     "output_type": "execute_result"
    }
   ],
   "source": [
    "ind1 = np.where(A1 != 0); ind1"
   ]
  },
  {
   "cell_type": "code",
   "execution_count": 33,
   "id": "55343ce0",
   "metadata": {
    "ExecuteTime": {
     "end_time": "2022-02-14T21:30:16.033613Z",
     "start_time": "2022-02-14T21:30:16.023111Z"
    }
   },
   "outputs": [
    {
     "data": {
      "text/plain": [
       "(array([0, 0], dtype=int64), array([0, 2], dtype=int64))"
      ]
     },
     "execution_count": 33,
     "metadata": {},
     "output_type": "execute_result"
    }
   ],
   "source": [
    "ind2 = np.nonzero(A1); ind2"
   ]
  },
  {
   "cell_type": "code",
   "execution_count": 34,
   "id": "870db5f7",
   "metadata": {
    "ExecuteTime": {
     "end_time": "2022-02-14T21:31:11.582494Z",
     "start_time": "2022-02-14T21:31:11.574993Z"
    }
   },
   "outputs": [
    {
     "data": {
      "text/plain": [
       "False"
      ]
     },
     "execution_count": 34,
     "metadata": {},
     "output_type": "execute_result"
    }
   ],
   "source": [
    "teven = np.all(A%2==0); teven #A의 모든 요소들이 2로 나누어 지는지"
   ]
  },
  {
   "cell_type": "code",
   "execution_count": 35,
   "id": "4d9bd09a",
   "metadata": {
    "ExecuteTime": {
     "end_time": "2022-02-14T21:31:35.454410Z",
     "start_time": "2022-02-14T21:31:35.440908Z"
    }
   },
   "outputs": [
    {
     "data": {
      "text/plain": [
       "True"
      ]
     },
     "execution_count": 35,
     "metadata": {},
     "output_type": "execute_result"
    }
   ],
   "source": [
    "teven = np.any(A%2==0); teven #A의 하나의 요소라도 2로 나누어 지는지"
   ]
  },
  {
   "cell_type": "code",
   "execution_count": 36,
   "id": "db637a74",
   "metadata": {
    "ExecuteTime": {
     "end_time": "2022-02-14T21:33:23.700234Z",
     "start_time": "2022-02-14T21:33:23.695734Z"
    }
   },
   "outputs": [
    {
     "data": {
      "text/plain": [
       "array([False,  True,  True, False])"
      ]
     },
     "execution_count": 36,
     "metadata": {},
     "output_type": "execute_result"
    }
   ],
   "source": [
    "tzero1 = np.any(A==0, axis=0); tzero1 # axis=0: A의 열벡터들이 0을 하나라도 갖고있는지"
   ]
  },
  {
   "cell_type": "code",
   "execution_count": 37,
   "id": "32c6f920",
   "metadata": {
    "ExecuteTime": {
     "end_time": "2022-02-14T21:33:50.317080Z",
     "start_time": "2022-02-14T21:33:50.299577Z"
    }
   },
   "outputs": [
    {
     "data": {
      "text/plain": [
       "array([ True,  True, False])"
      ]
     },
     "execution_count": 37,
     "metadata": {},
     "output_type": "execute_result"
    }
   ],
   "source": [
    "tzero2 = np.any(A==0, axis=1); tzero2 # axis=1: A의 행벡터들이 0을 하나라도 갖고있는지"
   ]
  },
  {
   "cell_type": "markdown",
   "id": "32dce28f",
   "metadata": {},
   "source": [
    "## 9.1.3 Numpy Array의 정렬(Sorting)"
   ]
  },
  {
   "cell_type": "raw",
   "id": "9f6361e9",
   "metadata": {},
   "source": [
    "np.sort(A, axis, order)\n",
    "A: 정렬대상 array\n",
    "axis = 0/1: 수직/수평방향 정렬축\n",
    "order: 만약 A를 구성하는 요소들 하나 하나가 여러 개의 요소로 구성된 tuple인 경우 어떤 요소를 기준으로 정렬시킬지 설정"
   ]
  },
  {
   "cell_type": "code",
   "execution_count": 39,
   "id": "3123a1d5",
   "metadata": {
    "ExecuteTime": {
     "end_time": "2022-02-14T21:36:29.722397Z",
     "start_time": "2022-02-14T21:36:29.704393Z"
    }
   },
   "outputs": [
    {
     "data": {
      "text/plain": [
       "array([1, 2, 4, 7, 9])"
      ]
     },
     "execution_count": 39,
     "metadata": {},
     "output_type": "execute_result"
    }
   ],
   "source": [
    "a = np.array([1,7,4,9,2])\n",
    "a1 = np.sort(a); a1 #오름차순 정렬"
   ]
  },
  {
   "cell_type": "code",
   "execution_count": 40,
   "id": "48ff0649",
   "metadata": {
    "ExecuteTime": {
     "end_time": "2022-02-14T21:36:54.436983Z",
     "start_time": "2022-02-14T21:36:54.420981Z"
    }
   },
   "outputs": [
    {
     "data": {
      "text/plain": [
       "array([9, 7, 4, 2, 1])"
      ]
     },
     "execution_count": 40,
     "metadata": {},
     "output_type": "execute_result"
    }
   ],
   "source": [
    "a2 = np.sort(a)[::-1]; a2 #내림차순 정렬"
   ]
  },
  {
   "cell_type": "code",
   "execution_count": 41,
   "id": "a607adfd",
   "metadata": {
    "ExecuteTime": {
     "end_time": "2022-02-14T21:37:31.779363Z",
     "start_time": "2022-02-14T21:37:31.776862Z"
    }
   },
   "outputs": [
    {
     "data": {
      "text/plain": [
       "array([9, 7, 4, 2, 1])"
      ]
     },
     "execution_count": 41,
     "metadata": {},
     "output_type": "execute_result"
    }
   ],
   "source": [
    "np.flip(a1) #내림차순 정렬"
   ]
  },
  {
   "cell_type": "code",
   "execution_count": 42,
   "id": "2c5a3dd3",
   "metadata": {
    "ExecuteTime": {
     "end_time": "2022-02-14T21:37:55.138285Z",
     "start_time": "2022-02-14T21:37:55.132784Z"
    }
   },
   "outputs": [
    {
     "data": {
      "text/plain": [
       "array([9, 7, 4, 2, 1])"
      ]
     },
     "execution_count": 42,
     "metadata": {},
     "output_type": "execute_result"
    }
   ],
   "source": [
    "a3 = -np.sort(-a); a3 #내림차순 정렬"
   ]
  },
  {
   "cell_type": "code",
   "execution_count": 43,
   "id": "44906028",
   "metadata": {
    "ExecuteTime": {
     "end_time": "2022-02-14T21:38:25.943779Z",
     "start_time": "2022-02-14T21:38:25.925775Z"
    }
   },
   "outputs": [
    {
     "data": {
      "text/plain": [
       "array([[8, 5, 1],\n",
       "       [3, 2, 4]])"
      ]
     },
     "execution_count": 43,
     "metadata": {},
     "output_type": "execute_result"
    }
   ],
   "source": [
    "A = np.array([[8,5,1],[3,2,4]]); A"
   ]
  },
  {
   "cell_type": "code",
   "execution_count": 44,
   "id": "dab4ac12",
   "metadata": {
    "ExecuteTime": {
     "end_time": "2022-02-14T21:38:42.688116Z",
     "start_time": "2022-02-14T21:38:42.671113Z"
    }
   },
   "outputs": [
    {
     "data": {
      "text/plain": [
       "array([[3, 2, 1],\n",
       "       [8, 5, 4]])"
      ]
     },
     "execution_count": 44,
     "metadata": {},
     "output_type": "execute_result"
    }
   ],
   "source": [
    "A0 = np.sort(A, axis=0); A0 #수직방향 정렬"
   ]
  },
  {
   "cell_type": "code",
   "execution_count": 46,
   "id": "64af0d9e",
   "metadata": {
    "ExecuteTime": {
     "end_time": "2022-02-14T21:39:32.687008Z",
     "start_time": "2022-02-14T21:39:32.675006Z"
    }
   },
   "outputs": [
    {
     "data": {
      "text/plain": [
       "array([[1, 5, 8],\n",
       "       [2, 3, 4]])"
      ]
     },
     "execution_count": 46,
     "metadata": {},
     "output_type": "execute_result"
    }
   ],
   "source": [
    "A1 = np.sort(A, axis=1); A1 #수평방향 정렬"
   ]
  },
  {
   "cell_type": "code",
   "execution_count": 47,
   "id": "68709ff7",
   "metadata": {
    "ExecuteTime": {
     "end_time": "2022-02-14T21:40:13.102636Z",
     "start_time": "2022-02-14T21:40:13.089635Z"
    }
   },
   "outputs": [
    {
     "data": {
      "text/plain": [
       "array([[1, 5, 8],\n",
       "       [2, 3, 4]])"
      ]
     },
     "execution_count": 47,
     "metadata": {},
     "output_type": "execute_result"
    }
   ],
   "source": [
    "A_ = np.sort(A); A_ # aixs를 안정해주면 axis=1로 default"
   ]
  },
  {
   "cell_type": "code",
   "execution_count": 48,
   "id": "4bc49e2e",
   "metadata": {
    "ExecuteTime": {
     "end_time": "2022-02-14T21:40:49.960726Z",
     "start_time": "2022-02-14T21:40:49.953224Z"
    }
   },
   "outputs": [
    {
     "data": {
      "text/plain": [
       "array([[[8, 2],\n",
       "        [3, 7]],\n",
       "\n",
       "       [[6, 5],\n",
       "        [1, 4]]])"
      ]
     },
     "execution_count": 48,
     "metadata": {},
     "output_type": "execute_result"
    }
   ],
   "source": [
    "A = np.array([[[8,2],[3,7]],[[6,5],[1,4]]]);A"
   ]
  },
  {
   "cell_type": "code",
   "execution_count": 52,
   "id": "b5055b15",
   "metadata": {
    "ExecuteTime": {
     "end_time": "2022-02-14T21:45:22.837500Z",
     "start_time": "2022-02-14T21:45:22.821996Z"
    }
   },
   "outputs": [
    {
     "data": {
      "text/plain": [
       "array([[[6, 2],\n",
       "        [1, 4]],\n",
       "\n",
       "       [[8, 5],\n",
       "        [3, 7]]])"
      ]
     },
     "execution_count": 52,
     "metadata": {},
     "output_type": "execute_result"
    }
   ],
   "source": [
    "Ax = np.sort(A, axis=0); Ax"
   ]
  },
  {
   "cell_type": "code",
   "execution_count": 55,
   "id": "fa6cff64",
   "metadata": {
    "ExecuteTime": {
     "end_time": "2022-02-14T21:45:39.311949Z",
     "start_time": "2022-02-14T21:45:39.299447Z"
    }
   },
   "outputs": [
    {
     "data": {
      "text/plain": [
       "array([[[3, 2],\n",
       "        [8, 7]],\n",
       "\n",
       "       [[1, 4],\n",
       "        [6, 5]]])"
      ]
     },
     "execution_count": 55,
     "metadata": {},
     "output_type": "execute_result"
    }
   ],
   "source": [
    "Ay = np.sort(A, axis=1); Ay"
   ]
  },
  {
   "cell_type": "code",
   "execution_count": 56,
   "id": "c8be0f43",
   "metadata": {
    "ExecuteTime": {
     "end_time": "2022-02-14T21:45:47.420031Z",
     "start_time": "2022-02-14T21:45:47.405029Z"
    }
   },
   "outputs": [
    {
     "data": {
      "text/plain": [
       "array([[[2, 8],\n",
       "        [3, 7]],\n",
       "\n",
       "       [[5, 6],\n",
       "        [1, 4]]])"
      ]
     },
     "execution_count": 56,
     "metadata": {},
     "output_type": "execute_result"
    }
   ],
   "source": [
    "Az = np.sort(A, axis=2); Az"
   ]
  },
  {
   "cell_type": "raw",
   "id": "5eebd69d",
   "metadata": {},
   "source": [
    "axis = 0/1/2\n",
    "axis의 순서는 가장 바깥 괄호 순이다.\n",
    "[ [8,2], [3,7] ], [ [6,5], [1,4] ]\n",
    "[ [6,2], [1,4] ], [ [8,5], [3,7] ]: axis=0 정렬\n",
    "[ [3,2], [8,7] ], [ [1,4], [6,5] ]: aixs=1 정렬\n",
    "[ [2,8], [3,7] ], [ [5,6], [1,4] ]: aixs=2 정렬"
   ]
  },
  {
   "cell_type": "code",
   "execution_count": 58,
   "id": "7005c87a",
   "metadata": {
    "ExecuteTime": {
     "end_time": "2022-02-14T21:54:34.316805Z",
     "start_time": "2022-02-14T21:54:34.305303Z"
    }
   },
   "outputs": [
    {
     "data": {
      "text/plain": [
       "array([[[2, 8],\n",
       "        [3, 7]],\n",
       "\n",
       "       [[5, 6],\n",
       "        [1, 4]]])"
      ]
     },
     "execution_count": 58,
     "metadata": {},
     "output_type": "execute_result"
    }
   ],
   "source": [
    "Ad = np.sort(A); Ad #axis=2가 default값, 즉 sort()함수의 axis default는 최대값이다."
   ]
  },
  {
   "cell_type": "markdown",
   "id": "2a1d8888",
   "metadata": {},
   "source": [
    "## 9.1.4 특수한 Numpy Array들"
   ]
  },
  {
   "cell_type": "code",
   "execution_count": 59,
   "id": "43bc1e03",
   "metadata": {
    "ExecuteTime": {
     "end_time": "2022-02-14T22:09:47.259558Z",
     "start_time": "2022-02-14T22:09:47.252557Z"
    }
   },
   "outputs": [
    {
     "data": {
      "text/plain": [
       "array([0., 0., 0.])"
      ]
     },
     "execution_count": 59,
     "metadata": {},
     "output_type": "execute_result"
    }
   ],
   "source": [
    "a = np.zeros(3); a"
   ]
  },
  {
   "cell_type": "code",
   "execution_count": 61,
   "id": "65ac7089",
   "metadata": {
    "ExecuteTime": {
     "end_time": "2022-02-14T22:10:14.496647Z",
     "start_time": "2022-02-14T22:10:14.488145Z"
    }
   },
   "outputs": [
    {
     "data": {
      "text/plain": [
       "array([[0., 0., 0.],\n",
       "       [0., 0., 0.]])"
      ]
     },
     "execution_count": 61,
     "metadata": {},
     "output_type": "execute_result"
    }
   ],
   "source": [
    "Z = np.zeros((2,3)); Z #2x3 zeros array"
   ]
  },
  {
   "cell_type": "code",
   "execution_count": 63,
   "id": "ce4e5d9e",
   "metadata": {
    "ExecuteTime": {
     "end_time": "2022-02-14T22:10:41.489609Z",
     "start_time": "2022-02-14T22:10:41.475607Z"
    }
   },
   "outputs": [
    {
     "data": {
      "text/plain": [
       "array([[1., 1., 1.],\n",
       "       [1., 1., 1.]])"
      ]
     },
     "execution_count": 63,
     "metadata": {},
     "output_type": "execute_result"
    }
   ],
   "source": [
    "U = np.ones((2,3)); U #2x3 ones array"
   ]
  },
  {
   "cell_type": "code",
   "execution_count": 64,
   "id": "fdaa8ce4",
   "metadata": {
    "ExecuteTime": {
     "end_time": "2022-02-14T22:11:02.658715Z",
     "start_time": "2022-02-14T22:11:02.645213Z"
    }
   },
   "outputs": [
    {
     "data": {
      "text/plain": [
       "array([[1., 0., 0.],\n",
       "       [0., 1., 0.],\n",
       "       [0., 0., 1.]])"
      ]
     },
     "execution_count": 64,
     "metadata": {},
     "output_type": "execute_result"
    }
   ],
   "source": [
    "I = np.eye(3); I #3x3 identity array"
   ]
  },
  {
   "cell_type": "code",
   "execution_count": 65,
   "id": "288c0e6b",
   "metadata": {
    "ExecuteTime": {
     "end_time": "2022-02-14T22:11:33.995947Z",
     "start_time": "2022-02-14T22:11:33.979444Z"
    }
   },
   "outputs": [
    {
     "data": {
      "text/plain": [
       "array([[0., 0., 0.],\n",
       "       [1., 0., 0.],\n",
       "       [0., 1., 0.]])"
      ]
     },
     "execution_count": 65,
     "metadata": {},
     "output_type": "execute_result"
    }
   ],
   "source": [
    "I1 = np.eye(3, k=-1); I1 # np.eye()함수의 k입력인자를 사용하여 부 대각요소들만 1인 array"
   ]
  },
  {
   "cell_type": "code",
   "execution_count": 67,
   "id": "946b0561",
   "metadata": {
    "ExecuteTime": {
     "end_time": "2022-02-14T22:12:13.661345Z",
     "start_time": "2022-02-14T22:12:13.656343Z"
    }
   },
   "outputs": [
    {
     "data": {
      "text/plain": [
       "array([[8, 5, 1],\n",
       "       [3, 2, 4]])"
      ]
     },
     "execution_count": 67,
     "metadata": {},
     "output_type": "execute_result"
    }
   ],
   "source": [
    "B = np.array([[8,5,1],[3,2,4]]); B"
   ]
  },
  {
   "cell_type": "code",
   "execution_count": 69,
   "id": "8bda63e9",
   "metadata": {
    "ExecuteTime": {
     "end_time": "2022-02-14T22:12:39.947940Z",
     "start_time": "2022-02-14T22:12:39.931937Z"
    }
   },
   "outputs": [
    {
     "data": {
      "text/plain": [
       "array([[0, 0, 0],\n",
       "       [0, 0, 0]])"
      ]
     },
     "execution_count": 69,
     "metadata": {},
     "output_type": "execute_result"
    }
   ],
   "source": [
    "ZB = np.zeros_like(B); ZB # B와 같은 shape을 가진 zeros array"
   ]
  },
  {
   "cell_type": "code",
   "execution_count": 70,
   "id": "581f4ec7",
   "metadata": {
    "ExecuteTime": {
     "end_time": "2022-02-14T22:12:59.666215Z",
     "start_time": "2022-02-14T22:12:59.652713Z"
    }
   },
   "outputs": [
    {
     "data": {
      "text/plain": [
       "array([[1, 1, 1],\n",
       "       [1, 1, 1]])"
      ]
     },
     "execution_count": 70,
     "metadata": {},
     "output_type": "execute_result"
    }
   ],
   "source": [
    "UB = np.ones_like(B); UB # B와 같은 shape을 가진 ones array"
   ]
  },
  {
   "cell_type": "code",
   "execution_count": 71,
   "id": "5237137b",
   "metadata": {
    "ExecuteTime": {
     "end_time": "2022-02-14T22:13:59.951482Z",
     "start_time": "2022-02-14T22:13:59.937480Z"
    }
   },
   "outputs": [
    {
     "data": {
      "text/plain": [
       "array([0. , 0.5, 1. , 1.5, 2. , 2.5, 3. , 3.5, 4. , 4.5])"
      ]
     },
     "execution_count": 71,
     "metadata": {},
     "output_type": "execute_result"
    }
   ],
   "source": [
    "x = np.arange(0, 5, 0.5); x #0부터 5미만까지 공차가 0.5인 등차수열"
   ]
  },
  {
   "cell_type": "code",
   "execution_count": 72,
   "id": "e81b2061",
   "metadata": {
    "ExecuteTime": {
     "end_time": "2022-02-14T22:16:06.714083Z",
     "start_time": "2022-02-14T22:16:06.698580Z"
    }
   },
   "outputs": [
    {
     "data": {
      "text/plain": [
       "array([0.  , 1.25, 2.5 , 3.75, 5.  ])"
      ]
     },
     "execution_count": 72,
     "metadata": {},
     "output_type": "execute_result"
    }
   ],
   "source": [
    "x1 = np.linspace(0,5,5); x1 #0부터 5까지의 구간에서 5개 값으로 구성된 등차수열"
   ]
  },
  {
   "cell_type": "code",
   "execution_count": 73,
   "id": "5d4ddc44",
   "metadata": {
    "ExecuteTime": {
     "end_time": "2022-02-14T22:16:38.575217Z",
     "start_time": "2022-02-14T22:16:38.570217Z"
    }
   },
   "outputs": [
    {
     "data": {
      "text/plain": [
       "array([  0.1       ,   0.56234133,   3.16227766,  17.7827941 ,\n",
       "       100.        ])"
      ]
     },
     "execution_count": 73,
     "metadata": {},
     "output_type": "execute_result"
    }
   ],
   "source": [
    "x2 = np.logspace(-1,2,5); x2# log축상 10^-`부터 10^2까지 구간에서 5개 값으로 구성된 수열"
   ]
  },
  {
   "cell_type": "code",
   "execution_count": 74,
   "id": "a53f9219",
   "metadata": {
    "ExecuteTime": {
     "end_time": "2022-02-14T22:16:54.225538Z",
     "start_time": "2022-02-14T22:16:54.213536Z"
    }
   },
   "outputs": [
    {
     "data": {
      "text/plain": [
       "array([-1.  , -0.25,  0.5 ,  1.25,  2.  ])"
      ]
     },
     "execution_count": 74,
     "metadata": {},
     "output_type": "execute_result"
    }
   ],
   "source": [
    "np.log10(x2)"
   ]
  },
  {
   "cell_type": "code",
   "execution_count": 75,
   "id": "4e76d8c3",
   "metadata": {
    "ExecuteTime": {
     "end_time": "2022-02-14T22:17:28.696996Z",
     "start_time": "2022-02-14T22:17:28.688494Z"
    }
   },
   "outputs": [
    {
     "data": {
      "text/plain": [
       "array([0.5       , 0.84089642, 1.41421356, 2.37841423, 4.        ])"
      ]
     },
     "execution_count": 75,
     "metadata": {},
     "output_type": "execute_result"
    }
   ],
   "source": [
    "x4 = np.logspace(-1,2,5, base=2); x4# log2축상 수열"
   ]
  },
  {
   "cell_type": "code",
   "execution_count": 76,
   "id": "0c984143",
   "metadata": {
    "ExecuteTime": {
     "end_time": "2022-02-14T22:17:39.250354Z",
     "start_time": "2022-02-14T22:17:39.233350Z"
    }
   },
   "outputs": [
    {
     "data": {
      "text/plain": [
       "array([-1.  , -0.25,  0.5 ,  1.25,  2.  ])"
      ]
     },
     "execution_count": 76,
     "metadata": {},
     "output_type": "execute_result"
    }
   ],
   "source": [
    "np.log2(x4)"
   ]
  },
  {
   "cell_type": "markdown",
   "id": "0b0a0dd3",
   "metadata": {},
   "source": [
    "## 9.1.5 Numpy Array의 변경"
   ]
  },
  {
   "cell_type": "code",
   "execution_count": 77,
   "id": "09026b33",
   "metadata": {
    "ExecuteTime": {
     "end_time": "2022-02-14T22:18:03.387284Z",
     "start_time": "2022-02-14T22:18:03.371782Z"
    }
   },
   "outputs": [
    {
     "data": {
      "text/plain": [
       "array([0, 1, 2, 3, 4, 5])"
      ]
     },
     "execution_count": 77,
     "metadata": {},
     "output_type": "execute_result"
    }
   ],
   "source": [
    "a = np.arange(6); a"
   ]
  },
  {
   "cell_type": "code",
   "execution_count": 81,
   "id": "f8421831",
   "metadata": {
    "ExecuteTime": {
     "end_time": "2022-02-14T22:18:48.034681Z",
     "start_time": "2022-02-14T22:18:48.029180Z"
    }
   },
   "outputs": [
    {
     "data": {
      "text/plain": [
       "array([[0, 1, 2],\n",
       "       [3, 4, 5]])"
      ]
     },
     "execution_count": 81,
     "metadata": {},
     "output_type": "execute_result"
    }
   ],
   "source": [
    "A1 = a.reshape(2,3); A1 #a array를 2x3 array로 reshape"
   ]
  },
  {
   "cell_type": "code",
   "execution_count": 82,
   "id": "b0d331ed",
   "metadata": {
    "ExecuteTime": {
     "end_time": "2022-02-14T22:19:11.850602Z",
     "start_time": "2022-02-14T22:19:11.842600Z"
    }
   },
   "outputs": [
    {
     "data": {
      "text/plain": [
       "array([0, 1, 2, 3, 4, 5])"
      ]
     },
     "execution_count": 82,
     "metadata": {},
     "output_type": "execute_result"
    }
   ],
   "source": [
    "a1 = A1.flatten(); a1 # 2D array를 1D array로 변경"
   ]
  },
  {
   "cell_type": "code",
   "execution_count": 83,
   "id": "2ddcc770",
   "metadata": {
    "ExecuteTime": {
     "end_time": "2022-02-14T22:19:39.642921Z",
     "start_time": "2022-02-14T22:19:39.637921Z"
    }
   },
   "outputs": [
    {
     "data": {
      "text/plain": [
       "array([0, 3, 1, 4, 2, 5])"
      ]
     },
     "execution_count": 83,
     "metadata": {},
     "output_type": "execute_result"
    }
   ],
   "source": [
    "a2= A1.flatten(order='F'); a2 # 열을 우선으로 flatten"
   ]
  },
  {
   "cell_type": "code",
   "execution_count": 85,
   "id": "e719948d",
   "metadata": {
    "ExecuteTime": {
     "end_time": "2022-02-14T22:20:02.192623Z",
     "start_time": "2022-02-14T22:20:02.175120Z"
    }
   },
   "outputs": [
    {
     "data": {
      "text/plain": [
       "array([[0, 3],\n",
       "       [1, 4],\n",
       "       [2, 5]])"
      ]
     },
     "execution_count": 85,
     "metadata": {},
     "output_type": "execute_result"
    }
   ],
   "source": [
    "AT = np.transpose(A1); AT #transpose"
   ]
  },
  {
   "cell_type": "code",
   "execution_count": 86,
   "id": "1ff2ef93",
   "metadata": {
    "ExecuteTime": {
     "end_time": "2022-02-14T22:20:12.778589Z",
     "start_time": "2022-02-14T22:20:12.767087Z"
    }
   },
   "outputs": [
    {
     "data": {
      "text/plain": [
       "array([[0, 3],\n",
       "       [1, 4],\n",
       "       [2, 5]])"
      ]
     },
     "execution_count": 86,
     "metadata": {},
     "output_type": "execute_result"
    }
   ],
   "source": [
    "AT = A1.T; AT"
   ]
  },
  {
   "cell_type": "code",
   "execution_count": 87,
   "id": "094baef2",
   "metadata": {
    "ExecuteTime": {
     "end_time": "2022-02-14T22:21:52.565399Z",
     "start_time": "2022-02-14T22:21:52.556897Z"
    }
   },
   "outputs": [
    {
     "name": "stdout",
     "output_type": "stream",
     "text": [
      "[[[8 2]\n",
      "  [3 7]]\n",
      "\n",
      " [[6 5]\n",
      "  [1 4]]]\n"
     ]
    }
   ],
   "source": [
    "Aa = np.array([ [[8,2], [3,7]], [[6,5], [1,4]] ]); print(Aa)"
   ]
  },
  {
   "cell_type": "code",
   "execution_count": 90,
   "id": "3a21597c",
   "metadata": {
    "ExecuteTime": {
     "end_time": "2022-02-14T22:22:36.752480Z",
     "start_time": "2022-02-14T22:22:36.749980Z"
    }
   },
   "outputs": [
    {
     "name": "stdout",
     "output_type": "stream",
     "text": [
      "[[[8 2]\n",
      "  [6 5]]\n",
      "\n",
      " [[3 7]\n",
      "  [1 4]]]\n"
     ]
    }
   ],
   "source": [
    "Ab = Aa.swapaxes(0,1); print(Ab)\n",
    "#axis=0과 axis=1을 swap"
   ]
  },
  {
   "cell_type": "code",
   "execution_count": 92,
   "id": "2ccc1eef",
   "metadata": {
    "ExecuteTime": {
     "end_time": "2022-02-14T22:24:34.796085Z",
     "start_time": "2022-02-14T22:24:34.778582Z"
    }
   },
   "outputs": [
    {
     "name": "stdout",
     "output_type": "stream",
     "text": [
      "[[[8 3]\n",
      "  [2 7]]\n",
      "\n",
      " [[6 1]\n",
      "  [5 4]]]\n"
     ]
    }
   ],
   "source": [
    "Ac = Aa.swapaxes(1,2); print(Ac)\n",
    "#aixs=1과 axs=2를 swap"
   ]
  },
  {
   "cell_type": "code",
   "execution_count": 93,
   "id": "caf45bb3",
   "metadata": {
    "ExecuteTime": {
     "end_time": "2022-02-14T22:24:50.631322Z",
     "start_time": "2022-02-14T22:24:50.622821Z"
    }
   },
   "outputs": [
    {
     "name": "stdout",
     "output_type": "stream",
     "text": [
      "[[[8 6]\n",
      "  [3 1]]\n",
      "\n",
      " [[2 5]\n",
      "  [7 4]]]\n"
     ]
    }
   ],
   "source": [
    "Ad = Aa.swapaxes(0,2); print(Ad)"
   ]
  },
  {
   "cell_type": "code",
   "execution_count": 94,
   "id": "4d9443a8",
   "metadata": {
    "ExecuteTime": {
     "end_time": "2022-02-14T22:25:23.687763Z",
     "start_time": "2022-02-14T22:25:23.680262Z"
    }
   },
   "outputs": [
    {
     "data": {
      "text/plain": [
       "array([[0, 1, 2],\n",
       "       [3, 4, 5]])"
      ]
     },
     "execution_count": 94,
     "metadata": {},
     "output_type": "execute_result"
    }
   ],
   "source": [
    "A1"
   ]
  },
  {
   "cell_type": "code",
   "execution_count": 95,
   "id": "a02463b9",
   "metadata": {
    "ExecuteTime": {
     "end_time": "2022-02-14T22:25:58.204348Z",
     "start_time": "2022-02-14T22:25:58.199847Z"
    }
   },
   "outputs": [
    {
     "data": {
      "text/plain": [
       "array([0, 1, 7, 8, 2, 3, 4, 5])"
      ]
     },
     "execution_count": 95,
     "metadata": {},
     "output_type": "execute_result"
    }
   ],
   "source": [
    "np.insert(A1, 2, [7,8]) #A1을 flatten한 후 2번째 위치에 [7,8]을 삽입"
   ]
  },
  {
   "cell_type": "code",
   "execution_count": 97,
   "id": "48d2d186",
   "metadata": {
    "ExecuteTime": {
     "end_time": "2022-02-14T22:26:55.635083Z",
     "start_time": "2022-02-14T22:26:55.621080Z"
    }
   },
   "outputs": [
    {
     "data": {
      "text/plain": [
       "array([[0, 1, 2],\n",
       "       [7, 8, 9],\n",
       "       [3, 4, 5]])"
      ]
     },
     "execution_count": 97,
     "metadata": {},
     "output_type": "execute_result"
    }
   ],
   "source": [
    "np.insert(A1, 1, [7,8,9], axis=0)\n",
    "#flatten을 하지 않고 추가하려면 입력인자에 axis를 추가한다"
   ]
  },
  {
   "cell_type": "code",
   "execution_count": 99,
   "id": "57eee2f9",
   "metadata": {
    "ExecuteTime": {
     "end_time": "2022-02-14T22:27:15.171248Z",
     "start_time": "2022-02-14T22:27:15.153245Z"
    }
   },
   "outputs": [
    {
     "data": {
      "text/plain": [
       "array([[0, 1, 7, 2],\n",
       "       [3, 4, 8, 5]])"
      ]
     },
     "execution_count": 99,
     "metadata": {},
     "output_type": "execute_result"
    }
   ],
   "source": [
    "np.insert(A1, 2, [7,8], axis=1)"
   ]
  },
  {
   "cell_type": "code",
   "execution_count": 101,
   "id": "33b3d0c6",
   "metadata": {
    "ExecuteTime": {
     "end_time": "2022-02-14T22:27:37.228498Z",
     "start_time": "2022-02-14T22:27:37.222496Z"
    }
   },
   "outputs": [
    {
     "data": {
      "text/plain": [
       "array([0, 2, 3, 4, 5])"
      ]
     },
     "execution_count": 101,
     "metadata": {},
     "output_type": "execute_result"
    }
   ],
   "source": [
    "np.delete(A1, 1) # A1을 flatten한 후에 그 제 1요소를 제거"
   ]
  },
  {
   "cell_type": "code",
   "execution_count": 102,
   "id": "446d3282",
   "metadata": {
    "ExecuteTime": {
     "end_time": "2022-02-14T22:27:53.896842Z",
     "start_time": "2022-02-14T22:27:53.882340Z"
    }
   },
   "outputs": [
    {
     "data": {
      "text/plain": [
       "array([[0, 1, 2]])"
      ]
     },
     "execution_count": 102,
     "metadata": {},
     "output_type": "execute_result"
    }
   ],
   "source": [
    "np.delete(A1, 1, axis=0)\n",
    "#flatten하지 않고 제거하려면 입력인자에 axis를 추가\n",
    "#1행을 제거"
   ]
  },
  {
   "cell_type": "code",
   "execution_count": 104,
   "id": "4b9baf65",
   "metadata": {
    "ExecuteTime": {
     "end_time": "2022-02-14T22:29:26.261728Z",
     "start_time": "2022-02-14T22:29:26.253225Z"
    }
   },
   "outputs": [
    {
     "data": {
      "text/plain": [
       "array([[1],\n",
       "       [4]])"
      ]
     },
     "execution_count": 104,
     "metadata": {},
     "output_type": "execute_result"
    }
   ],
   "source": [
    "np.delete(A1, [0,2], axis=1) #0, 2열을 제거"
   ]
  },
  {
   "cell_type": "markdown",
   "id": "a86c84e8",
   "metadata": {},
   "source": [
    "## 9.1.6 Numpy Array의 차원 변경"
   ]
  },
  {
   "cell_type": "code",
   "execution_count": 168,
   "id": "a801552d",
   "metadata": {
    "ExecuteTime": {
     "end_time": "2022-02-15T03:32:17.837207Z",
     "start_time": "2022-02-15T03:32:17.825204Z"
    }
   },
   "outputs": [
    {
     "data": {
      "text/plain": [
       "array([1, 2])"
      ]
     },
     "execution_count": 168,
     "metadata": {},
     "output_type": "execute_result"
    }
   ],
   "source": [
    "A = np.array([1,2]);A"
   ]
  },
  {
   "cell_type": "code",
   "execution_count": 169,
   "id": "96264a1e",
   "metadata": {
    "ExecuteTime": {
     "end_time": "2022-02-15T03:32:18.177686Z",
     "start_time": "2022-02-15T03:32:18.173686Z"
    }
   },
   "outputs": [
    {
     "data": {
      "text/plain": [
       "((2,), 1)"
      ]
     },
     "execution_count": 169,
     "metadata": {},
     "output_type": "execute_result"
    }
   ],
   "source": [
    "A.shape, A.ndim"
   ]
  },
  {
   "cell_type": "raw",
   "id": "1d417c5b",
   "metadata": {},
   "source": [
    "행벡터인것 같지만 shape이 (1,2)이 아니므로 행벡터인지 열벡터인지 분명하지 않다.\n",
    "이것은 행렬벡터 연산이 수행될 때 dimension compatibility조건이 만족되는 방향으로 스스로 행벡터나 열벡터로 변신한다는 면에서 장점일 수도 있지만, 행벡터인지 열벡터인지 그 정체를 분명히 해야할때도 있다."
   ]
  },
  {
   "cell_type": "code",
   "execution_count": 170,
   "id": "ea42ad11",
   "metadata": {
    "ExecuteTime": {
     "end_time": "2022-02-15T03:32:19.545811Z",
     "start_time": "2022-02-15T03:32:19.529808Z"
    }
   },
   "outputs": [],
   "source": [
    "A_r = A[np.newaxis, :] #행벡터"
   ]
  },
  {
   "cell_type": "code",
   "execution_count": 171,
   "id": "629413ce",
   "metadata": {
    "ExecuteTime": {
     "end_time": "2022-02-15T03:32:20.208042Z",
     "start_time": "2022-02-15T03:32:20.204541Z"
    }
   },
   "outputs": [
    {
     "data": {
      "text/plain": [
       "array([[1, 2]])"
      ]
     },
     "execution_count": 171,
     "metadata": {},
     "output_type": "execute_result"
    },
    {
     "data": {
      "text/plain": [
       "((1, 2), 2)"
      ]
     },
     "execution_count": 171,
     "metadata": {},
     "output_type": "execute_result"
    }
   ],
   "source": [
    "A_r; A_r.shape, A_r.ndim"
   ]
  },
  {
   "cell_type": "code",
   "execution_count": 172,
   "id": "c457d0b1",
   "metadata": {
    "ExecuteTime": {
     "end_time": "2022-02-15T03:32:46.986897Z",
     "start_time": "2022-02-15T03:32:46.977895Z"
    }
   },
   "outputs": [],
   "source": [
    "A_c = A[:, np.newaxis] #열벡터"
   ]
  },
  {
   "cell_type": "code",
   "execution_count": 173,
   "id": "d543b506",
   "metadata": {
    "ExecuteTime": {
     "end_time": "2022-02-15T03:32:59.418096Z",
     "start_time": "2022-02-15T03:32:59.405093Z"
    }
   },
   "outputs": [
    {
     "data": {
      "text/plain": [
       "array([[1],\n",
       "       [2]])"
      ]
     },
     "execution_count": 173,
     "metadata": {},
     "output_type": "execute_result"
    },
    {
     "data": {
      "text/plain": [
       "((2, 1), 2)"
      ]
     },
     "execution_count": 173,
     "metadata": {},
     "output_type": "execute_result"
    }
   ],
   "source": [
    "A_c; A_c.shape, A_c.ndim"
   ]
  },
  {
   "cell_type": "code",
   "execution_count": 113,
   "id": "f96d66f6",
   "metadata": {
    "ExecuteTime": {
     "end_time": "2022-02-14T22:38:36.266553Z",
     "start_time": "2022-02-14T22:38:36.256550Z"
    }
   },
   "outputs": [
    {
     "data": {
      "text/plain": [
       "((1, 2), 2)"
      ]
     },
     "execution_count": 113,
     "metadata": {},
     "output_type": "execute_result"
    }
   ],
   "source": [
    "A_r = np.array([[1,2]]); A_r.shape, A_r.ndim"
   ]
  },
  {
   "cell_type": "code",
   "execution_count": 112,
   "id": "21ae0430",
   "metadata": {
    "ExecuteTime": {
     "end_time": "2022-02-14T22:38:34.297668Z",
     "start_time": "2022-02-14T22:38:34.281665Z"
    }
   },
   "outputs": [
    {
     "data": {
      "text/plain": [
       "((2, 1), 2)"
      ]
     },
     "execution_count": 112,
     "metadata": {},
     "output_type": "execute_result"
    }
   ],
   "source": [
    "A_c = np.array([[1],[2]]); A_c.shape, A_c.ndim"
   ]
  },
  {
   "cell_type": "raw",
   "id": "cfa8ac7e",
   "metadata": {},
   "source": [
    "np.repeat(A, N, axis)\n",
    "A: 반복대상 array, N: 반복횟수, axis: 반복기준 축"
   ]
  },
  {
   "cell_type": "code",
   "execution_count": 115,
   "id": "c21f6fec",
   "metadata": {
    "ExecuteTime": {
     "end_time": "2022-02-14T22:38:59.237562Z",
     "start_time": "2022-02-14T22:38:59.222559Z"
    }
   },
   "outputs": [
    {
     "data": {
      "text/plain": [
       "(array([1, 1, 2, 2]), (4,))"
      ]
     },
     "execution_count": 115,
     "metadata": {},
     "output_type": "execute_result"
    }
   ],
   "source": [
    "Ar1 = np.repeat(A_r, 2); Ar1, Ar1.shape"
   ]
  },
  {
   "cell_type": "code",
   "execution_count": 118,
   "id": "f585c3c7",
   "metadata": {
    "ExecuteTime": {
     "end_time": "2022-02-14T22:39:42.492276Z",
     "start_time": "2022-02-14T22:39:42.476274Z"
    }
   },
   "outputs": [
    {
     "data": {
      "text/plain": [
       "(array([[1, 2],\n",
       "        [1, 2]]),\n",
       " (2, 2))"
      ]
     },
     "execution_count": 118,
     "metadata": {},
     "output_type": "execute_result"
    }
   ],
   "source": [
    "Ar2 = np.repeat(A_r, 2, axis=0); Ar2, Ar2.shape"
   ]
  },
  {
   "cell_type": "code",
   "execution_count": 119,
   "id": "01d6dadc",
   "metadata": {
    "ExecuteTime": {
     "end_time": "2022-02-14T22:40:14.665964Z",
     "start_time": "2022-02-14T22:40:14.656962Z"
    }
   },
   "outputs": [
    {
     "data": {
      "text/plain": [
       "(array([[1, 1, 2, 2]]), (1, 4))"
      ]
     },
     "execution_count": 119,
     "metadata": {},
     "output_type": "execute_result"
    }
   ],
   "source": [
    "Ar3 = np.repeat(A_r, 2, axis=1); Ar3, Ar3.shape"
   ]
  },
  {
   "cell_type": "code",
   "execution_count": 121,
   "id": "95d966d3",
   "metadata": {
    "ExecuteTime": {
     "end_time": "2022-02-14T22:40:41.567056Z",
     "start_time": "2022-02-14T22:40:41.552554Z"
    }
   },
   "outputs": [
    {
     "data": {
      "text/plain": [
       "(array([1, 1, 2, 2]), (4,))"
      ]
     },
     "execution_count": 121,
     "metadata": {},
     "output_type": "execute_result"
    }
   ],
   "source": [
    "Ar4 = np.repeat(A_c, 2); Ar4, Ar4.shape"
   ]
  },
  {
   "cell_type": "code",
   "execution_count": 125,
   "id": "b2d664a1",
   "metadata": {
    "ExecuteTime": {
     "end_time": "2022-02-14T22:41:45.140137Z",
     "start_time": "2022-02-14T22:41:45.128635Z"
    }
   },
   "outputs": [
    {
     "data": {
      "text/plain": [
       "(array([[1],\n",
       "        [1],\n",
       "        [2],\n",
       "        [2]]),\n",
       " (4, 1))"
      ]
     },
     "execution_count": 125,
     "metadata": {},
     "output_type": "execute_result"
    }
   ],
   "source": [
    "Ar5 = np.repeat(A_c, 2, axis=0); Ar5, Ar5.shape"
   ]
  },
  {
   "cell_type": "code",
   "execution_count": 123,
   "id": "d1584fa8",
   "metadata": {
    "ExecuteTime": {
     "end_time": "2022-02-14T22:41:21.205078Z",
     "start_time": "2022-02-14T22:41:21.195576Z"
    }
   },
   "outputs": [
    {
     "data": {
      "text/plain": [
       "(array([[1, 1],\n",
       "        [2, 2]]),\n",
       " (2, 2))"
      ]
     },
     "execution_count": 123,
     "metadata": {},
     "output_type": "execute_result"
    }
   ],
   "source": [
    "Ar6 = np.repeat(A_c, 2, axis=1); Ar6, Ar6.shape"
   ]
  },
  {
   "cell_type": "markdown",
   "id": "fc6dfe2d",
   "metadata": {},
   "source": [
    "## 9.1.7 Numpy Array의 복제(Copy)"
   ]
  },
  {
   "cell_type": "code",
   "execution_count": 3,
   "id": "9f0c20c8",
   "metadata": {
    "ExecuteTime": {
     "end_time": "2022-02-15T00:05:42.244620Z",
     "start_time": "2022-02-15T00:05:42.237119Z"
    }
   },
   "outputs": [
    {
     "data": {
      "text/plain": [
       "array([0, 1, 2, 3, 4, 5])"
      ]
     },
     "execution_count": 3,
     "metadata": {},
     "output_type": "execute_result"
    }
   ],
   "source": [
    "A = np.arange(6); A"
   ]
  },
  {
   "cell_type": "code",
   "execution_count": 4,
   "id": "cdee7085",
   "metadata": {
    "ExecuteTime": {
     "end_time": "2022-02-15T00:05:55.311194Z",
     "start_time": "2022-02-15T00:05:55.296692Z"
    }
   },
   "outputs": [
    {
     "data": {
      "text/plain": [
       "array([[0, 1, 2],\n",
       "       [3, 4, 5]])"
      ]
     },
     "execution_count": 4,
     "metadata": {},
     "output_type": "execute_result"
    }
   ],
   "source": [
    "A1 = A\n",
    "A1.shape = 2,3; A1"
   ]
  },
  {
   "cell_type": "code",
   "execution_count": 5,
   "id": "73dd1676",
   "metadata": {
    "ExecuteTime": {
     "end_time": "2022-02-15T00:06:19.004895Z",
     "start_time": "2022-02-15T00:06:18.997894Z"
    }
   },
   "outputs": [
    {
     "data": {
      "text/plain": [
       "array([[0, 1, 2],\n",
       "       [3, 4, 5]])"
      ]
     },
     "execution_count": 5,
     "metadata": {},
     "output_type": "execute_result"
    }
   ],
   "source": [
    "A"
   ]
  },
  {
   "cell_type": "code",
   "execution_count": 6,
   "id": "a0b7d7be",
   "metadata": {
    "ExecuteTime": {
     "end_time": "2022-02-15T00:07:10.668347Z",
     "start_time": "2022-02-15T00:07:10.661846Z"
    }
   },
   "outputs": [
    {
     "data": {
      "text/plain": [
       "(1456278374512, 1456278374512)"
      ]
     },
     "execution_count": 6,
     "metadata": {},
     "output_type": "execute_result"
    }
   ],
   "source": [
    "id(A), id(A1)\n",
    "#이름은 다르지만 동일한 객체로 복제가 되지 않는다."
   ]
  },
  {
   "cell_type": "code",
   "execution_count": 9,
   "id": "d6d5fcb7",
   "metadata": {
    "ExecuteTime": {
     "end_time": "2022-02-15T00:08:02.930465Z",
     "start_time": "2022-02-15T00:08:02.916462Z"
    }
   },
   "outputs": [
    {
     "data": {
      "text/plain": [
       "array([0, 1, 2, 3, 4, 5])"
      ]
     },
     "execution_count": 9,
     "metadata": {},
     "output_type": "execute_result"
    }
   ],
   "source": [
    "A = np.arange(6); A"
   ]
  },
  {
   "cell_type": "code",
   "execution_count": 10,
   "id": "96a29f18",
   "metadata": {
    "ExecuteTime": {
     "end_time": "2022-02-15T00:08:03.177073Z",
     "start_time": "2022-02-15T00:08:03.161571Z"
    }
   },
   "outputs": [
    {
     "data": {
      "text/plain": [
       "array([[ 0,  1, -2],\n",
       "       [ 3,  4,  5]])"
      ]
     },
     "execution_count": 10,
     "metadata": {},
     "output_type": "execute_result"
    }
   ],
   "source": [
    "A3 = A.copy()\n",
    "A3.shape = 2,3\n",
    "A3[0,2] = -2; A3"
   ]
  },
  {
   "cell_type": "code",
   "execution_count": 12,
   "id": "02ed22fa",
   "metadata": {
    "ExecuteTime": {
     "end_time": "2022-02-15T00:08:23.971295Z",
     "start_time": "2022-02-15T00:08:23.965794Z"
    }
   },
   "outputs": [
    {
     "data": {
      "text/plain": [
       "array([0, 1, 2, 3, 4, 5])"
      ]
     },
     "execution_count": 12,
     "metadata": {},
     "output_type": "execute_result"
    }
   ],
   "source": [
    "A\n",
    "#~.copy() 함수를 사용하여 복제할 수 있다."
   ]
  },
  {
   "cell_type": "markdown",
   "id": "2e6024cc",
   "metadata": {},
   "source": [
    "## 9.1.8 Numpy.nan과 Numpy.inf"
   ]
  },
  {
   "cell_type": "raw",
   "id": "d599f9d3",
   "metadata": {},
   "source": [
    "Numpy는 주로 없거나 유효하지 않은 값을 나타내기 위해 np.nan\n",
    "그리고 무한대 숫자를 나타내기 위해 np.inf라는 keyword를 가지고 있다."
   ]
  },
  {
   "cell_type": "raw",
   "id": "6fdd0f5d",
   "metadata": {},
   "source": [
    "이 중 np.nan은 None과 비슷하면서도 다른점이 있다."
   ]
  },
  {
   "cell_type": "code",
   "execution_count": 13,
   "id": "621ef5ca",
   "metadata": {
    "ExecuteTime": {
     "end_time": "2022-02-15T00:11:04.384776Z",
     "start_time": "2022-02-15T00:11:04.372273Z"
    }
   },
   "outputs": [
    {
     "data": {
      "text/plain": [
       "True"
      ]
     },
     "execution_count": 13,
     "metadata": {},
     "output_type": "execute_result"
    }
   ],
   "source": [
    "x = None; x == None"
   ]
  },
  {
   "cell_type": "code",
   "execution_count": 14,
   "id": "508a1e38",
   "metadata": {
    "ExecuteTime": {
     "end_time": "2022-02-15T00:11:40.227121Z",
     "start_time": "2022-02-15T00:11:40.224120Z"
    }
   },
   "outputs": [
    {
     "data": {
      "text/plain": [
       "(True, True)"
      ]
     },
     "execution_count": 14,
     "metadata": {},
     "output_type": "execute_result"
    }
   ],
   "source": [
    "import math\n",
    "x1 = np.nan\n",
    "np.isnan(x1), math.isnan(x1)"
   ]
  },
  {
   "cell_type": "code",
   "execution_count": 15,
   "id": "237cbd7d",
   "metadata": {
    "ExecuteTime": {
     "end_time": "2022-02-15T00:11:45.800538Z",
     "start_time": "2022-02-15T00:11:45.784035Z"
    }
   },
   "outputs": [
    {
     "data": {
      "text/plain": [
       "False"
      ]
     },
     "execution_count": 15,
     "metadata": {},
     "output_type": "execute_result"
    }
   ],
   "source": [
    "x1 == np.nan"
   ]
  },
  {
   "cell_type": "raw",
   "id": "28c582c1",
   "metadata": {},
   "source": [
    "즉 np.nan인지 검사하기 위해서는 ==연산자가 아닌 np.isnan() 또는 math.isnan() 함수를 사용해야 한다."
   ]
  },
  {
   "cell_type": "raw",
   "id": "869b76bd",
   "metadata": {},
   "source": [
    "한편 np.inf는 Python에서 무한대 숫자를 나타내는 float('inf')와 동일한 것으로 간단히 ==연산자를 사용해도 된다."
   ]
  },
  {
   "cell_type": "code",
   "execution_count": 16,
   "id": "e2686be5",
   "metadata": {
    "ExecuteTime": {
     "end_time": "2022-02-15T00:14:19.767196Z",
     "start_time": "2022-02-15T00:14:19.752194Z"
    }
   },
   "outputs": [],
   "source": [
    "y = float('inf'); y1 = np.inf; y_ = -float('inf'); y1_ = -np.inf"
   ]
  },
  {
   "cell_type": "code",
   "execution_count": 17,
   "id": "e908a439",
   "metadata": {
    "ExecuteTime": {
     "end_time": "2022-02-15T00:14:28.618480Z",
     "start_time": "2022-02-15T00:14:28.610980Z"
    }
   },
   "outputs": [
    {
     "data": {
      "text/plain": [
       "(True, True)"
      ]
     },
     "execution_count": 17,
     "metadata": {},
     "output_type": "execute_result"
    }
   ],
   "source": [
    "y == y1, y_ == y1_"
   ]
  },
  {
   "cell_type": "code",
   "execution_count": 18,
   "id": "7b6b3a6b",
   "metadata": {
    "ExecuteTime": {
     "end_time": "2022-02-15T00:14:50.797586Z",
     "start_time": "2022-02-15T00:14:50.792585Z"
    }
   },
   "outputs": [
    {
     "data": {
      "text/plain": [
       "(True, True, True, True)"
      ]
     },
     "execution_count": 18,
     "metadata": {},
     "output_type": "execute_result"
    }
   ],
   "source": [
    "np.isinf(y), np.isinf(y_), math.isinf(y), math.isinf(y_)"
   ]
  },
  {
   "cell_type": "code",
   "execution_count": 19,
   "id": "73c96468",
   "metadata": {
    "ExecuteTime": {
     "end_time": "2022-02-15T00:17:02.498259Z",
     "start_time": "2022-02-15T00:17:02.478255Z"
    }
   },
   "outputs": [
    {
     "name": "stderr",
     "output_type": "stream",
     "text": [
      "C:\\Users\\shpar\\AppData\\Local\\Temp/ipykernel_11636/1235112836.py:1: RuntimeWarning: divide by zero encountered in true_divide\n",
      "  np.array([1])/0, np.array([0])/0, np.sqrt(-1)\n",
      "C:\\Users\\shpar\\AppData\\Local\\Temp/ipykernel_11636/1235112836.py:1: RuntimeWarning: invalid value encountered in true_divide\n",
      "  np.array([1])/0, np.array([0])/0, np.sqrt(-1)\n",
      "C:\\Users\\shpar\\AppData\\Local\\Temp/ipykernel_11636/1235112836.py:1: RuntimeWarning: invalid value encountered in sqrt\n",
      "  np.array([1])/0, np.array([0])/0, np.sqrt(-1)\n"
     ]
    },
    {
     "data": {
      "text/plain": [
       "(array([inf]), array([nan]), nan)"
      ]
     },
     "execution_count": 19,
     "metadata": {},
     "output_type": "execute_result"
    }
   ],
   "source": [
    "np.array([1])/0, np.array([0])/0, np.sqrt(-1)"
   ]
  },
  {
   "cell_type": "markdown",
   "id": "7587482c",
   "metadata": {},
   "source": [
    "### [Remark 9.1] Numpy.nan이나 Numpy.inf를 대체하기 - Numpy.nan_to_num() 함수"
   ]
  },
  {
   "cell_type": "raw",
   "id": "3be8b727",
   "metadata": {},
   "source": [
    "np.nan 및 np.inf를 np.nan_to_num()함수를 통해 각각 0 및 매우 큰 숫자로 대체해보자 "
   ]
  },
  {
   "cell_type": "raw",
   "id": "bb706406",
   "metadata": {
    "ExecuteTime": {
     "end_time": "2022-02-15T00:20:02.762103Z",
     "start_time": "2022-02-15T00:20:02.756102Z"
    }
   },
   "source": [
    "x1 = np.nan_to_num(x, nan=0.0, posinf=None, neginf=None, copy=True)\n",
    "제 0입력인자로 x라는 ndarray만 넣고 실행시키면 x에 있는 np.nan과 np.inf가 각각 0과 매우 큰 숫자로 대체된 결과가 x1이라는 이름으로 저장되며, copy입력인자는 그 default값인 True로 처리되었기 때문에 x의 값은 그대로 보존된다. 만약 np.nan/np.inf/-np.inf를 다른 값으로 대체하고자 한다면 각 해당 입력인자 nan/posinf/neginf에 값을 넣어주면 된다."
   ]
  },
  {
   "cell_type": "code",
   "execution_count": 33,
   "id": "82278ae2",
   "metadata": {
    "ExecuteTime": {
     "end_time": "2022-02-15T00:23:34.683479Z",
     "start_time": "2022-02-15T00:23:34.676478Z"
    }
   },
   "outputs": [
    {
     "data": {
      "text/plain": [
       "array([[ nan, -inf,   3.],\n",
       "       [  2.,  inf,  nan]], dtype=float16)"
      ]
     },
     "execution_count": 33,
     "metadata": {},
     "output_type": "execute_result"
    }
   ],
   "source": [
    "x = np.array([ [np.nan, -np.inf, 3], [2, np.inf, None] ], dtype=np.float16); x"
   ]
  },
  {
   "cell_type": "code",
   "execution_count": 32,
   "id": "3ed330f3",
   "metadata": {
    "ExecuteTime": {
     "end_time": "2022-02-15T00:23:27.811565Z",
     "start_time": "2022-02-15T00:23:27.802064Z"
    }
   },
   "outputs": [
    {
     "data": {
      "text/plain": [
       "array([[ 0.00e+00, -6.55e+04,  3.00e+00],\n",
       "       [ 2.00e+00,  6.55e+04,  0.00e+00]], dtype=float16)"
      ]
     },
     "execution_count": 32,
     "metadata": {},
     "output_type": "execute_result"
    }
   ],
   "source": [
    "x1 = np.nan_to_num(x); x1"
   ]
  },
  {
   "cell_type": "markdown",
   "id": "ab7a5c06",
   "metadata": {},
   "source": [
    "## 9.1.9 여러 Numpy Array의 병합"
   ]
  },
  {
   "cell_type": "code",
   "execution_count": 34,
   "id": "e9320696",
   "metadata": {
    "ExecuteTime": {
     "end_time": "2022-02-15T00:25:17.873899Z",
     "start_time": "2022-02-15T00:25:17.865397Z"
    }
   },
   "outputs": [
    {
     "data": {
      "text/plain": [
       "array([[0, 1],\n",
       "       [2, 3]])"
      ]
     },
     "execution_count": 34,
     "metadata": {},
     "output_type": "execute_result"
    }
   ],
   "source": [
    "A3 = np.arange(4).reshape(2, 2); A3"
   ]
  },
  {
   "cell_type": "code",
   "execution_count": 35,
   "id": "e8ccaf41",
   "metadata": {
    "ExecuteTime": {
     "end_time": "2022-02-15T00:25:54.279997Z",
     "start_time": "2022-02-15T00:25:54.265495Z"
    }
   },
   "outputs": [
    {
     "data": {
      "text/plain": [
       "array([[5, 6]])"
      ]
     },
     "execution_count": 35,
     "metadata": {},
     "output_type": "execute_result"
    }
   ],
   "source": [
    "A4 = np.arange(5, 7).reshape(1, 2); A4"
   ]
  },
  {
   "cell_type": "code",
   "execution_count": 43,
   "id": "f7b15bfe",
   "metadata": {
    "ExecuteTime": {
     "end_time": "2022-02-15T00:27:21.183790Z",
     "start_time": "2022-02-15T00:27:21.180789Z"
    }
   },
   "outputs": [
    {
     "data": {
      "text/plain": [
       "array([[0, 1],\n",
       "       [2, 3],\n",
       "       [5, 6]])"
      ]
     },
     "execution_count": 43,
     "metadata": {},
     "output_type": "execute_result"
    }
   ],
   "source": [
    "np.concatenate((A3, A4)) #default값은 axis=0"
   ]
  },
  {
   "cell_type": "code",
   "execution_count": 40,
   "id": "6f4640e8",
   "metadata": {
    "ExecuteTime": {
     "end_time": "2022-02-15T00:26:45.137231Z",
     "start_time": "2022-02-15T00:26:45.134230Z"
    }
   },
   "outputs": [
    {
     "data": {
      "text/plain": [
       "array([[0, 1],\n",
       "       [2, 3],\n",
       "       [5, 6]])"
      ]
     },
     "execution_count": 40,
     "metadata": {},
     "output_type": "execute_result"
    }
   ],
   "source": [
    "np.concatenate((A3, A4), axis=0) #행으로 추가하기"
   ]
  },
  {
   "cell_type": "code",
   "execution_count": 42,
   "id": "61c0f7ab",
   "metadata": {
    "ExecuteTime": {
     "end_time": "2022-02-15T00:26:59.929182Z",
     "start_time": "2022-02-15T00:26:59.912179Z"
    }
   },
   "outputs": [
    {
     "data": {
      "text/plain": [
       "array([[0, 1, 5],\n",
       "       [2, 3, 6]])"
      ]
     },
     "execution_count": 42,
     "metadata": {},
     "output_type": "execute_result"
    }
   ],
   "source": [
    "np.concatenate((A3, A4.T), axis=1) #열로 추가하기"
   ]
  },
  {
   "cell_type": "code",
   "execution_count": 44,
   "id": "bd278c71",
   "metadata": {
    "ExecuteTime": {
     "end_time": "2022-02-15T00:27:49.928097Z",
     "start_time": "2022-02-15T00:27:49.912093Z"
    }
   },
   "outputs": [
    {
     "data": {
      "text/plain": [
       "array([[0, 1],\n",
       "       [2, 3],\n",
       "       [5, 6]])"
      ]
     },
     "execution_count": 44,
     "metadata": {},
     "output_type": "execute_result"
    }
   ],
   "source": [
    "np.append(A3, A4, axis=0)"
   ]
  },
  {
   "cell_type": "code",
   "execution_count": 46,
   "id": "0571079e",
   "metadata": {
    "ExecuteTime": {
     "end_time": "2022-02-15T00:28:05.689350Z",
     "start_time": "2022-02-15T00:28:05.676348Z"
    }
   },
   "outputs": [
    {
     "data": {
      "text/plain": [
       "array([[0, 1, 5],\n",
       "       [2, 3, 6]])"
      ]
     },
     "execution_count": 46,
     "metadata": {},
     "output_type": "execute_result"
    }
   ],
   "source": [
    "np.append(A3, A4.T, axis=1)"
   ]
  },
  {
   "cell_type": "code",
   "execution_count": 47,
   "id": "af13e578",
   "metadata": {
    "ExecuteTime": {
     "end_time": "2022-02-15T00:28:41.130607Z",
     "start_time": "2022-02-15T00:28:41.112104Z"
    }
   },
   "outputs": [
    {
     "data": {
      "text/plain": [
       "array([0, 1, 2, 3, 5, 6])"
      ]
     },
     "execution_count": 47,
     "metadata": {},
     "output_type": "execute_result"
    }
   ],
   "source": [
    "np.append(A3, A4)\n",
    "#np.append함수는 np.concatenate와 다르게 axis를 지정해주지 않으면 flatten하여 묶어준다."
   ]
  },
  {
   "cell_type": "markdown",
   "id": "596e8f4f",
   "metadata": {},
   "source": [
    "## 9.1.10 Numpy Array에 대한 집합 논리(Set Logic)"
   ]
  },
  {
   "cell_type": "code",
   "execution_count": 48,
   "id": "141a59aa",
   "metadata": {
    "ExecuteTime": {
     "end_time": "2022-02-15T00:34:53.231521Z",
     "start_time": "2022-02-15T00:34:53.226021Z"
    }
   },
   "outputs": [],
   "source": [
    "A = np.array( ['Bob','Joe','Will','Bob','Will','Ted'] )\n",
    "B = np.array( ['Will','Mary','Bob','Jennie'])"
   ]
  },
  {
   "cell_type": "code",
   "execution_count": 50,
   "id": "b031f592",
   "metadata": {
    "ExecuteTime": {
     "end_time": "2022-02-15T00:35:24.134220Z",
     "start_time": "2022-02-15T00:35:24.126719Z"
    }
   },
   "outputs": [
    {
     "data": {
      "text/plain": [
       "array([ True, False,  True, False])"
      ]
     },
     "execution_count": 50,
     "metadata": {},
     "output_type": "execute_result"
    }
   ],
   "source": [
    "np.in1d(B, A) #B의 각 요소들이 A에 포함되어 있나"
   ]
  },
  {
   "cell_type": "code",
   "execution_count": 51,
   "id": "e6e0d7bf",
   "metadata": {
    "ExecuteTime": {
     "end_time": "2022-02-15T00:35:43.887355Z",
     "start_time": "2022-02-15T00:35:43.873852Z"
    }
   },
   "outputs": [
    {
     "data": {
      "text/plain": [
       "array(['Bob', 'Will'], dtype='<U6')"
      ]
     },
     "execution_count": 51,
     "metadata": {},
     "output_type": "execute_result"
    }
   ],
   "source": [
    "np.intersect1d(A,B) #A와 B의 (정렬된) 교집합"
   ]
  },
  {
   "cell_type": "code",
   "execution_count": 52,
   "id": "76306e0b",
   "metadata": {
    "ExecuteTime": {
     "end_time": "2022-02-15T00:36:39.431516Z",
     "start_time": "2022-02-15T00:36:39.417014Z"
    }
   },
   "outputs": [
    {
     "data": {
      "text/plain": [
       "array(['Bob', 'Jennie', 'Joe', 'Mary', 'Ted', 'Will'], dtype='<U6')"
      ]
     },
     "execution_count": 52,
     "metadata": {},
     "output_type": "execute_result"
    }
   ],
   "source": [
    "np.union1d(A,B) #A와 B의 (정렬된) 합집합"
   ]
  },
  {
   "cell_type": "code",
   "execution_count": 53,
   "id": "4bad4073",
   "metadata": {
    "ExecuteTime": {
     "end_time": "2022-02-15T00:37:03.866412Z",
     "start_time": "2022-02-15T00:37:03.857911Z"
    }
   },
   "outputs": [
    {
     "data": {
      "text/plain": [
       "array(['Bob', 'Joe', 'Ted', 'Will'], dtype='<U4')"
      ]
     },
     "execution_count": 53,
     "metadata": {},
     "output_type": "execute_result"
    }
   ],
   "source": [
    "np.unique(A) #A의 unique한 요소들의 (정렬된) 집합"
   ]
  },
  {
   "cell_type": "code",
   "execution_count": 54,
   "id": "9628bf62",
   "metadata": {
    "ExecuteTime": {
     "end_time": "2022-02-15T00:37:14.610528Z",
     "start_time": "2022-02-15T00:37:14.594525Z"
    }
   },
   "outputs": [
    {
     "data": {
      "text/plain": [
       "array(['Joe', 'Ted'], dtype='<U4')"
      ]
     },
     "execution_count": 54,
     "metadata": {},
     "output_type": "execute_result"
    }
   ],
   "source": [
    "np.setdiff1d(A,B) #A와 B의 차집합"
   ]
  },
  {
   "cell_type": "code",
   "execution_count": 55,
   "id": "6177263f",
   "metadata": {
    "ExecuteTime": {
     "end_time": "2022-02-15T00:37:27.755036Z",
     "start_time": "2022-02-15T00:37:27.741534Z"
    }
   },
   "outputs": [
    {
     "data": {
      "text/plain": [
       "array(['Jennie', 'Joe', 'Mary', 'Ted'], dtype='<U6')"
      ]
     },
     "execution_count": 55,
     "metadata": {},
     "output_type": "execute_result"
    }
   ],
   "source": [
    "np.setxor1d(A,B) #A와 B의 배타적 합집합"
   ]
  },
  {
   "cell_type": "markdown",
   "id": "915406c3",
   "metadata": {},
   "source": [
    "## 9.1.11 NumPy Array에 대한 논리(Logical)/비교(Comparision)연산"
   ]
  },
  {
   "cell_type": "code",
   "execution_count": 56,
   "id": "6b0511be",
   "metadata": {
    "ExecuteTime": {
     "end_time": "2022-02-15T00:38:08.455221Z",
     "start_time": "2022-02-15T00:38:08.450219Z"
    }
   },
   "outputs": [],
   "source": [
    "x = np.array([1,2,3,4,5,6])"
   ]
  },
  {
   "cell_type": "code",
   "execution_count": 58,
   "id": "e2ea4854",
   "metadata": {
    "ExecuteTime": {
     "end_time": "2022-02-15T00:39:18.940196Z",
     "start_time": "2022-02-15T00:39:18.925695Z"
    }
   },
   "outputs": [
    {
     "data": {
      "text/plain": [
       "array([False, False,  True,  True, False, False])"
      ]
     },
     "execution_count": 58,
     "metadata": {},
     "output_type": "execute_result"
    }
   ],
   "source": [
    "C = np.logical_and(x>2, x<5); C #2보다 크고 5보다 작은 요소들에 대해 True"
   ]
  },
  {
   "cell_type": "code",
   "execution_count": 60,
   "id": "55ce6911",
   "metadata": {
    "ExecuteTime": {
     "end_time": "2022-02-15T00:39:46.204357Z",
     "start_time": "2022-02-15T00:39:46.193854Z"
    }
   },
   "outputs": [
    {
     "data": {
      "text/plain": [
       "array([3, 4])"
      ]
     },
     "execution_count": 60,
     "metadata": {},
     "output_type": "execute_result"
    }
   ],
   "source": [
    "x[C] #위 조건을 만족시키는 요소들을 x에서 골라내기"
   ]
  },
  {
   "cell_type": "code",
   "execution_count": 61,
   "id": "53d4d1cb",
   "metadata": {
    "ExecuteTime": {
     "end_time": "2022-02-15T00:40:09.977424Z",
     "start_time": "2022-02-15T00:40:09.962422Z"
    }
   },
   "outputs": [
    {
     "data": {
      "text/plain": [
       "array([3, 4])"
      ]
     },
     "execution_count": 61,
     "metadata": {},
     "output_type": "execute_result"
    }
   ],
   "source": [
    "x[(x>2)&(x<5)]"
   ]
  },
  {
   "cell_type": "code",
   "execution_count": 62,
   "id": "1b46e1e1",
   "metadata": {
    "ExecuteTime": {
     "end_time": "2022-02-15T00:40:42.497977Z",
     "start_time": "2022-02-15T00:40:42.487475Z"
    }
   },
   "outputs": [
    {
     "data": {
      "text/plain": [
       "array([ True,  True, False, False,  True,  True])"
      ]
     },
     "execution_count": 62,
     "metadata": {},
     "output_type": "execute_result"
    }
   ],
   "source": [
    "D = np.logical_or(x<=2, x>=5); D"
   ]
  },
  {
   "cell_type": "code",
   "execution_count": 63,
   "id": "bd4eba20",
   "metadata": {
    "ExecuteTime": {
     "end_time": "2022-02-15T00:40:53.604395Z",
     "start_time": "2022-02-15T00:40:53.595394Z"
    }
   },
   "outputs": [
    {
     "data": {
      "text/plain": [
       "array([ True,  True, False, False,  True,  True])"
      ]
     },
     "execution_count": 63,
     "metadata": {},
     "output_type": "execute_result"
    }
   ],
   "source": [
    "E = np.logical_xor(x>2, x<5); E"
   ]
  },
  {
   "cell_type": "code",
   "execution_count": 64,
   "id": "91664bb1",
   "metadata": {
    "ExecuteTime": {
     "end_time": "2022-02-15T00:41:01.574388Z",
     "start_time": "2022-02-15T00:41:01.567390Z"
    }
   },
   "outputs": [
    {
     "data": {
      "text/plain": [
       "array([False, False, False,  True,  True,  True])"
      ]
     },
     "execution_count": 64,
     "metadata": {},
     "output_type": "execute_result"
    }
   ],
   "source": [
    "F = np.logical_not(x<=3); F"
   ]
  },
  {
   "cell_type": "raw",
   "id": "194ec2e0",
   "metadata": {},
   "source": [
    "numpy.isclose(x,y, rtol=1e-05, atol=1e-08, equal_nan=False)\n",
    "abs(x-y) <= atol + rtol*abs(y)"
   ]
  },
  {
   "cell_type": "code",
   "execution_count": 66,
   "id": "83cf1488",
   "metadata": {
    "ExecuteTime": {
     "end_time": "2022-02-15T01:06:10.792571Z",
     "start_time": "2022-02-15T01:06:10.781569Z"
    }
   },
   "outputs": [],
   "source": [
    "x1 = np.array([5,10,9,np.nan]); x2 = np.array([5,9,10,np.nan])"
   ]
  },
  {
   "cell_type": "code",
   "execution_count": 67,
   "id": "df6288c1",
   "metadata": {
    "ExecuteTime": {
     "end_time": "2022-02-15T01:06:20.888574Z",
     "start_time": "2022-02-15T01:06:20.872071Z"
    }
   },
   "outputs": [
    {
     "data": {
      "text/plain": [
       "array([ True,  True,  True, False])"
      ]
     },
     "execution_count": 67,
     "metadata": {},
     "output_type": "execute_result"
    }
   ],
   "source": [
    "np.isclose(x1,x2, atol=1,rtol=0)"
   ]
  },
  {
   "cell_type": "code",
   "execution_count": 68,
   "id": "1cbcfc23",
   "metadata": {
    "ExecuteTime": {
     "end_time": "2022-02-15T01:06:54.349505Z",
     "start_time": "2022-02-15T01:06:54.332502Z"
    }
   },
   "outputs": [
    {
     "data": {
      "text/plain": [
       "array([ True, False,  True,  True])"
      ]
     },
     "execution_count": 68,
     "metadata": {},
     "output_type": "execute_result"
    }
   ],
   "source": [
    "np.isclose(x1,x2, rtol=0.1,atol=0, equal_nan=True)"
   ]
  },
  {
   "cell_type": "code",
   "execution_count": 69,
   "id": "de29d855",
   "metadata": {
    "ExecuteTime": {
     "end_time": "2022-02-15T01:07:14.521887Z",
     "start_time": "2022-02-15T01:07:14.507385Z"
    }
   },
   "outputs": [
    {
     "data": {
      "text/plain": [
       "True"
      ]
     },
     "execution_count": 69,
     "metadata": {},
     "output_type": "execute_result"
    }
   ],
   "source": [
    "np.allclose(x1,x2,atol=1,equal_nan=True) #각 요소들끼리 다 가까운가"
   ]
  },
  {
   "cell_type": "code",
   "execution_count": 70,
   "id": "23ad3580",
   "metadata": {
    "ExecuteTime": {
     "end_time": "2022-02-15T01:07:19.464400Z",
     "start_time": "2022-02-15T01:07:19.457899Z"
    }
   },
   "outputs": [
    {
     "data": {
      "text/plain": [
       "array([ True, False, False, False])"
      ]
     },
     "execution_count": 70,
     "metadata": {},
     "output_type": "execute_result"
    }
   ],
   "source": [
    "np.equal(x1,x2)"
   ]
  },
  {
   "cell_type": "code",
   "execution_count": 72,
   "id": "e311953b",
   "metadata": {
    "ExecuteTime": {
     "end_time": "2022-02-15T01:08:07.090302Z",
     "start_time": "2022-02-15T01:08:07.085801Z"
    }
   },
   "outputs": [
    {
     "data": {
      "text/plain": [
       "False"
      ]
     },
     "execution_count": 72,
     "metadata": {},
     "output_type": "execute_result"
    }
   ],
   "source": [
    "np.array_equal(x1, x2, equal_nan=True) #x1과 x2의 요소들끼리 다 같은가"
   ]
  },
  {
   "cell_type": "code",
   "execution_count": 73,
   "id": "e6f1ef3f",
   "metadata": {
    "ExecuteTime": {
     "end_time": "2022-02-15T01:08:16.158132Z",
     "start_time": "2022-02-15T01:08:16.144629Z"
    }
   },
   "outputs": [
    {
     "data": {
      "text/plain": [
       "array([ True,  True, False, False])"
      ]
     },
     "execution_count": 73,
     "metadata": {},
     "output_type": "execute_result"
    }
   ],
   "source": [
    "np.greater_equal(x1,x2)"
   ]
  },
  {
   "cell_type": "markdown",
   "id": "bc73fbfe",
   "metadata": {},
   "source": [
    "## 9.1.12 Numpy Array에 대한 요소별(Element-wise) 산술적 연산"
   ]
  },
  {
   "cell_type": "markdown",
   "id": "853e6c8f",
   "metadata": {},
   "source": [
    "### 9.1.12.1 요소별 사칙연산과  Broadingcasting"
   ]
  },
  {
   "cell_type": "code",
   "execution_count": 74,
   "id": "680f70fd",
   "metadata": {
    "ExecuteTime": {
     "end_time": "2022-02-15T02:48:25.222747Z",
     "start_time": "2022-02-15T02:48:25.208745Z"
    }
   },
   "outputs": [
    {
     "data": {
      "text/plain": [
       "array([[0, 1],\n",
       "       [2, 3]])"
      ]
     },
     "execution_count": 74,
     "metadata": {},
     "output_type": "execute_result"
    }
   ],
   "source": [
    "A = np.array( [[0,1], [2,3]] ); A"
   ]
  },
  {
   "cell_type": "code",
   "execution_count": 75,
   "id": "7c243829",
   "metadata": {
    "ExecuteTime": {
     "end_time": "2022-02-15T02:48:38.662665Z",
     "start_time": "2022-02-15T02:48:38.658664Z"
    }
   },
   "outputs": [
    {
     "data": {
      "text/plain": [
       "array([[2, 5],\n",
       "       [6, 1]])"
      ]
     },
     "execution_count": 75,
     "metadata": {},
     "output_type": "execute_result"
    }
   ],
   "source": [
    "B = np.array( [[2,5], [6,1]]); B"
   ]
  },
  {
   "cell_type": "code",
   "execution_count": 77,
   "id": "2ff6fee2",
   "metadata": {
    "ExecuteTime": {
     "end_time": "2022-02-15T02:48:55.668004Z",
     "start_time": "2022-02-15T02:48:55.653002Z"
    }
   },
   "outputs": [
    {
     "data": {
      "text/plain": [
       "array([[2, 6],\n",
       "       [8, 4]])"
      ]
     },
     "execution_count": 77,
     "metadata": {},
     "output_type": "execute_result"
    },
    {
     "data": {
      "text/plain": [
       "array([[2, 6],\n",
       "       [8, 4]])"
      ]
     },
     "execution_count": 77,
     "metadata": {},
     "output_type": "execute_result"
    }
   ],
   "source": [
    "A + B; np.add(A,B)"
   ]
  },
  {
   "cell_type": "code",
   "execution_count": 78,
   "id": "76a534cb",
   "metadata": {
    "ExecuteTime": {
     "end_time": "2022-02-15T02:49:09.649905Z",
     "start_time": "2022-02-15T02:49:09.645904Z"
    }
   },
   "outputs": [
    {
     "data": {
      "text/plain": [
       "array([[-2, -4],\n",
       "       [-4,  2]])"
      ]
     },
     "execution_count": 78,
     "metadata": {},
     "output_type": "execute_result"
    },
    {
     "data": {
      "text/plain": [
       "array([[-2, -4],\n",
       "       [-4,  2]])"
      ]
     },
     "execution_count": 78,
     "metadata": {},
     "output_type": "execute_result"
    }
   ],
   "source": [
    "A - B; np.subtract(A,B)"
   ]
  },
  {
   "cell_type": "code",
   "execution_count": 80,
   "id": "b186b8a8",
   "metadata": {
    "ExecuteTime": {
     "end_time": "2022-02-15T02:49:49.730047Z",
     "start_time": "2022-02-15T02:49:49.725046Z"
    }
   },
   "outputs": [
    {
     "data": {
      "text/plain": [
       "(array([[ 0,  5],\n",
       "        [12,  3]]),\n",
       " array([[ 0,  5],\n",
       "        [12,  3]]))"
      ]
     },
     "execution_count": 80,
     "metadata": {},
     "output_type": "execute_result"
    }
   ],
   "source": [
    "A * B, np.multiply(A,B)\n",
    "#행렬이 곱셈이 아닌 대응되는 요소들끼리 곱하는 요소별 연산"
   ]
  },
  {
   "cell_type": "code",
   "execution_count": 83,
   "id": "ac4f08b1",
   "metadata": {
    "ExecuteTime": {
     "end_time": "2022-02-15T02:50:19.608816Z",
     "start_time": "2022-02-15T02:50:19.602816Z"
    }
   },
   "outputs": [
    {
     "data": {
      "text/plain": [
       "(array([[0.        , 0.2       ],\n",
       "        [0.33333333, 3.        ]]),\n",
       " array([[0.        , 0.2       ],\n",
       "        [0.33333333, 3.        ]]))"
      ]
     },
     "execution_count": 83,
     "metadata": {},
     "output_type": "execute_result"
    }
   ],
   "source": [
    "A / B, np.divide(A,B)"
   ]
  },
  {
   "cell_type": "code",
   "execution_count": 85,
   "id": "7aec9f61",
   "metadata": {
    "ExecuteTime": {
     "end_time": "2022-02-15T02:52:08.610913Z",
     "start_time": "2022-02-15T02:52:08.594411Z"
    }
   },
   "outputs": [
    {
     "name": "stderr",
     "output_type": "stream",
     "text": [
      "C:\\Users\\shpar\\AppData\\Local\\Temp/ipykernel_11636/3945756830.py:1: RuntimeWarning: divide by zero encountered in true_divide\n",
      "  1 / A, np.reciprocal(A)\n",
      "C:\\Users\\shpar\\AppData\\Local\\Temp/ipykernel_11636/3945756830.py:1: RuntimeWarning: divide by zero encountered in reciprocal\n",
      "  1 / A, np.reciprocal(A)\n",
      "C:\\Users\\shpar\\AppData\\Local\\Temp/ipykernel_11636/3945756830.py:1: RuntimeWarning: invalid value encountered in reciprocal\n",
      "  1 / A, np.reciprocal(A)\n"
     ]
    },
    {
     "data": {
      "text/plain": [
       "(array([[       inf, 1.        ],\n",
       "        [0.5       , 0.33333333]]),\n",
       " array([[-2147483648,           1],\n",
       "        [          0,           0]], dtype=int32))"
      ]
     },
     "execution_count": 85,
     "metadata": {},
     "output_type": "execute_result"
    }
   ],
   "source": [
    "1 / A, np.reciprocal(A)\n",
    "#np.reciprocal()함수는 array요소들이 정수형으로 주어질때 정수범위 내에서 계산하기 때문에\n",
    "#틀린 연산을 보여준다."
   ]
  },
  {
   "cell_type": "code",
   "execution_count": 87,
   "id": "eb8b8087",
   "metadata": {
    "ExecuteTime": {
     "end_time": "2022-02-15T02:53:04.230180Z",
     "start_time": "2022-02-15T02:53:04.223679Z"
    }
   },
   "outputs": [
    {
     "data": {
      "text/plain": [
       "array([[0., 1.],\n",
       "       [2., 3.]])"
      ]
     },
     "execution_count": 87,
     "metadata": {},
     "output_type": "execute_result"
    },
    {
     "name": "stderr",
     "output_type": "stream",
     "text": [
      "C:\\Users\\shpar\\AppData\\Local\\Temp/ipykernel_11636/4247877820.py:2: RuntimeWarning: divide by zero encountered in true_divide\n",
      "  1 / A, np.reciprocal(A)\n",
      "C:\\Users\\shpar\\AppData\\Local\\Temp/ipykernel_11636/4247877820.py:2: RuntimeWarning: divide by zero encountered in reciprocal\n",
      "  1 / A, np.reciprocal(A)\n"
     ]
    },
    {
     "data": {
      "text/plain": [
       "(array([[       inf, 1.        ],\n",
       "        [0.5       , 0.33333333]]),\n",
       " array([[       inf, 1.        ],\n",
       "        [0.5       , 0.33333333]]))"
      ]
     },
     "execution_count": 87,
     "metadata": {},
     "output_type": "execute_result"
    }
   ],
   "source": [
    "A = np.array( [[0.,1], [2,3]] ); A\n",
    "1 / A, np.reciprocal(A)\n",
    "#이는 array를 실수형으로 정의하면 해결된다."
   ]
  },
  {
   "cell_type": "code",
   "execution_count": 90,
   "id": "99018033",
   "metadata": {
    "ExecuteTime": {
     "end_time": "2022-02-15T02:54:42.104557Z",
     "start_time": "2022-02-15T02:54:42.090554Z"
    }
   },
   "outputs": [
    {
     "data": {
      "text/plain": [
       "array([[0., 1.],\n",
       "       [2., 3.]])"
      ]
     },
     "execution_count": 90,
     "metadata": {},
     "output_type": "execute_result"
    },
    {
     "data": {
      "text/plain": [
       "array([2, 5])"
      ]
     },
     "execution_count": 90,
     "metadata": {},
     "output_type": "execute_result"
    }
   ],
   "source": [
    "B = np.array( [2,5] ); A; B"
   ]
  },
  {
   "cell_type": "code",
   "execution_count": 89,
   "id": "d5fde07c",
   "metadata": {
    "ExecuteTime": {
     "end_time": "2022-02-15T02:54:33.818154Z",
     "start_time": "2022-02-15T02:54:33.804152Z"
    }
   },
   "outputs": [
    {
     "data": {
      "text/plain": [
       "array([[2., 6.],\n",
       "       [4., 8.]])"
      ]
     },
     "execution_count": 89,
     "metadata": {},
     "output_type": "execute_result"
    }
   ],
   "source": [
    "A + B\n",
    "#Array의 shape이 서로 다를경우 크기가 작은 array가 복사되어 큰 array의 shape이 된후 연산된다."
   ]
  },
  {
   "cell_type": "code",
   "execution_count": 93,
   "id": "d82141e7",
   "metadata": {
    "ExecuteTime": {
     "end_time": "2022-02-15T02:55:17.192641Z",
     "start_time": "2022-02-15T02:55:17.180639Z"
    }
   },
   "outputs": [
    {
     "data": {
      "text/plain": [
       "array([[0., 1.],\n",
       "       [2., 3.]])"
      ]
     },
     "execution_count": 93,
     "metadata": {},
     "output_type": "execute_result"
    },
    {
     "data": {
      "text/plain": [
       "array([[2],\n",
       "       [5]])"
      ]
     },
     "execution_count": 93,
     "metadata": {},
     "output_type": "execute_result"
    }
   ],
   "source": [
    "C = np.array( [[2], [5]] ); A; C"
   ]
  },
  {
   "cell_type": "code",
   "execution_count": 92,
   "id": "03d1005c",
   "metadata": {
    "ExecuteTime": {
     "end_time": "2022-02-15T02:55:09.703023Z",
     "start_time": "2022-02-15T02:55:09.698522Z"
    }
   },
   "outputs": [
    {
     "data": {
      "text/plain": [
       "array([[2., 3.],\n",
       "       [7., 8.]])"
      ]
     },
     "execution_count": 92,
     "metadata": {},
     "output_type": "execute_result"
    }
   ],
   "source": [
    "A + C"
   ]
  },
  {
   "cell_type": "code",
   "execution_count": 94,
   "id": "5db7e59b",
   "metadata": {
    "ExecuteTime": {
     "end_time": "2022-02-15T02:55:29.454142Z",
     "start_time": "2022-02-15T02:55:29.437139Z"
    }
   },
   "outputs": [
    {
     "data": {
      "text/plain": [
       "array([[2., 3.],\n",
       "       [4., 5.]])"
      ]
     },
     "execution_count": 94,
     "metadata": {},
     "output_type": "execute_result"
    }
   ],
   "source": [
    "D = A + 2; D"
   ]
  },
  {
   "cell_type": "code",
   "execution_count": 95,
   "id": "6795c70c",
   "metadata": {
    "ExecuteTime": {
     "end_time": "2022-02-15T02:56:04.879800Z",
     "start_time": "2022-02-15T02:56:04.868298Z"
    }
   },
   "outputs": [
    {
     "data": {
      "text/plain": [
       "(14.0, 14.0)"
      ]
     },
     "execution_count": 95,
     "metadata": {},
     "output_type": "execute_result"
    }
   ],
   "source": [
    "np.sum(D), D.sum() #D 요소들의 합"
   ]
  },
  {
   "cell_type": "code",
   "execution_count": 97,
   "id": "a7a5475a",
   "metadata": {
    "ExecuteTime": {
     "end_time": "2022-02-15T02:56:30.456147Z",
     "start_time": "2022-02-15T02:56:30.452646Z"
    }
   },
   "outputs": [
    {
     "data": {
      "text/plain": [
       "(array([ 2.,  5.,  9., 14.]), array([ 2.,  5.,  9., 14.]))"
      ]
     },
     "execution_count": 97,
     "metadata": {},
     "output_type": "execute_result"
    }
   ],
   "source": [
    "np.cumsum(D), D.cumsum() #D 요소들의 누적합"
   ]
  },
  {
   "cell_type": "code",
   "execution_count": 98,
   "id": "f383db1c",
   "metadata": {
    "ExecuteTime": {
     "end_time": "2022-02-15T02:56:56.461174Z",
     "start_time": "2022-02-15T02:56:56.455673Z"
    }
   },
   "outputs": [
    {
     "data": {
      "text/plain": [
       "(120.0, 120.0)"
      ]
     },
     "execution_count": 98,
     "metadata": {},
     "output_type": "execute_result"
    }
   ],
   "source": [
    "np.prod(D), D.prod() #모든 요소들의 곱"
   ]
  },
  {
   "cell_type": "code",
   "execution_count": 100,
   "id": "8e7eadd4",
   "metadata": {
    "ExecuteTime": {
     "end_time": "2022-02-15T02:57:18.660387Z",
     "start_time": "2022-02-15T02:57:18.654885Z"
    }
   },
   "outputs": [
    {
     "data": {
      "text/plain": [
       "(array([  2.,   6.,  24., 120.]), array([  2.,   6.,  24., 120.]))"
      ]
     },
     "execution_count": 100,
     "metadata": {},
     "output_type": "execute_result"
    }
   ],
   "source": [
    "np.cumprod(D), D.cumprod() #모든 요소들의 누적 곱"
   ]
  },
  {
   "cell_type": "markdown",
   "id": "fb8c7e62",
   "metadata": {},
   "source": [
    "### 9.1.12.2 요소별 누승연산과 Broadcasting"
   ]
  },
  {
   "cell_type": "code",
   "execution_count": 101,
   "id": "9b01f8c3",
   "metadata": {
    "ExecuteTime": {
     "end_time": "2022-02-15T02:57:47.245943Z",
     "start_time": "2022-02-15T02:57:47.242444Z"
    }
   },
   "outputs": [
    {
     "data": {
      "text/plain": [
       "array([[0., 1.],\n",
       "       [2., 3.]])"
      ]
     },
     "execution_count": 101,
     "metadata": {},
     "output_type": "execute_result"
    }
   ],
   "source": [
    "A = np.array( [[0.,1], [2,3]] ); A"
   ]
  },
  {
   "cell_type": "code",
   "execution_count": 102,
   "id": "2e176d22",
   "metadata": {
    "ExecuteTime": {
     "end_time": "2022-02-15T02:57:59.436026Z",
     "start_time": "2022-02-15T02:57:59.418524Z"
    }
   },
   "outputs": [
    {
     "data": {
      "text/plain": [
       "array([[2., 3.],\n",
       "       [4., 5.]])"
      ]
     },
     "execution_count": 102,
     "metadata": {},
     "output_type": "execute_result"
    }
   ],
   "source": [
    "D = np.array( [[2.,3], [4,5]] ); D"
   ]
  },
  {
   "cell_type": "code",
   "execution_count": 103,
   "id": "84f95bb1",
   "metadata": {
    "ExecuteTime": {
     "end_time": "2022-02-15T02:58:05.055276Z",
     "start_time": "2022-02-15T02:58:05.042273Z"
    }
   },
   "outputs": [
    {
     "data": {
      "text/plain": [
       "array([[  0.,   1.],\n",
       "       [ 16., 243.]])"
      ]
     },
     "execution_count": 103,
     "metadata": {},
     "output_type": "execute_result"
    }
   ],
   "source": [
    "np.power(A, D) #요소별 연산"
   ]
  },
  {
   "cell_type": "code",
   "execution_count": 104,
   "id": "6b2fbb84",
   "metadata": {
    "ExecuteTime": {
     "end_time": "2022-02-15T02:58:15.046271Z",
     "start_time": "2022-02-15T02:58:15.040270Z"
    }
   },
   "outputs": [
    {
     "data": {
      "text/plain": [
       "array([[0., 1.],\n",
       "       [4., 9.]])"
      ]
     },
     "execution_count": 104,
     "metadata": {},
     "output_type": "execute_result"
    }
   ],
   "source": [
    "np.power(A, 2)"
   ]
  },
  {
   "cell_type": "markdown",
   "id": "f9527fa7",
   "metadata": {},
   "source": [
    "## 9.1.13 Numpy Array의 통계적 특성 파악하기"
   ]
  },
  {
   "cell_type": "markdown",
   "id": "207db27d",
   "metadata": {},
   "source": [
    "### 9.1.13.1 1D Array의 통계적 특성"
   ]
  },
  {
   "cell_type": "raw",
   "id": "d642da84",
   "metadata": {},
   "source": [
    "np.random.rand(M): [0,1) 구간에서 uniform한 임의 실수값들로 된 1xM 벡터"
   ]
  },
  {
   "cell_type": "code",
   "execution_count": 108,
   "id": "b198e698",
   "metadata": {
    "ExecuteTime": {
     "end_time": "2022-02-15T03:00:50.297969Z",
     "start_time": "2022-02-15T03:00:50.289968Z"
    }
   },
   "outputs": [
    {
     "data": {
      "text/plain": [
       "array([0.24306353, 0.18497409, 0.88538405, 0.17346311, 0.1034511 ])"
      ]
     },
     "execution_count": 108,
     "metadata": {},
     "output_type": "execute_result"
    }
   ],
   "source": [
    "A = np.random.rand(5); A"
   ]
  },
  {
   "cell_type": "raw",
   "id": "10c6ce5b",
   "metadata": {},
   "source": [
    "np.random.rand(M,N): [0,1) 구간에서 uniform한 임의 실수값들로 된 MxN 행렬"
   ]
  },
  {
   "cell_type": "code",
   "execution_count": 109,
   "id": "5a5d4367",
   "metadata": {
    "ExecuteTime": {
     "end_time": "2022-02-15T03:01:30.308922Z",
     "start_time": "2022-02-15T03:01:30.303421Z"
    }
   },
   "outputs": [
    {
     "data": {
      "text/plain": [
       "array([[0.43251482, 0.11719473, 0.90427936, 0.9956605 , 0.37227428],\n",
       "       [0.22818581, 0.92348372, 0.80621751, 0.86947635, 0.10038998],\n",
       "       [0.91140819, 0.54923131, 0.06349986, 0.99898713, 0.57296023],\n",
       "       [0.42178617, 0.55477819, 0.41506891, 0.83812086, 0.81535543],\n",
       "       [0.15923504, 0.81291185, 0.5840531 , 0.95699217, 0.19623289]])"
      ]
     },
     "execution_count": 109,
     "metadata": {},
     "output_type": "execute_result"
    }
   ],
   "source": [
    "B = np.random.rand(5,5); B"
   ]
  },
  {
   "cell_type": "raw",
   "id": "e1120d02",
   "metadata": {},
   "source": [
    "np.random.uniform(a,b,M): [a,b) 구간에서 uniform한 임의 실수값으로 구성된 1xM 벡터"
   ]
  },
  {
   "cell_type": "code",
   "execution_count": 110,
   "id": "f15b5f93",
   "metadata": {
    "ExecuteTime": {
     "end_time": "2022-02-15T03:02:21.469309Z",
     "start_time": "2022-02-15T03:02:21.462807Z"
    }
   },
   "outputs": [
    {
     "data": {
      "text/plain": [
       "array([5.47018505, 4.94327945, 1.44131568, 6.01955483, 4.89656366])"
      ]
     },
     "execution_count": 110,
     "metadata": {},
     "output_type": "execute_result"
    }
   ],
   "source": [
    "np.random.uniform(0,10,5)"
   ]
  },
  {
   "cell_type": "raw",
   "id": "c082bdc5",
   "metadata": {},
   "source": [
    "np.random.uniform(a,b,size=(M,N)): [a,b) 구간에서 uniform한 임의 실수값으로 구성된 MxN 행렬"
   ]
  },
  {
   "cell_type": "code",
   "execution_count": 111,
   "id": "edf34142",
   "metadata": {
    "ExecuteTime": {
     "end_time": "2022-02-15T03:03:19.947309Z",
     "start_time": "2022-02-15T03:03:19.929807Z"
    }
   },
   "outputs": [
    {
     "data": {
      "text/plain": [
       "array([[1.87347587, 3.96130589, 9.82472277, 4.52628026, 2.213025  ],\n",
       "       [5.04521955, 8.08921599, 2.21990497, 2.66013923, 8.92719308],\n",
       "       [3.51241787, 1.6561309 , 3.29999351, 7.15565513, 0.77854022],\n",
       "       [0.14576342, 5.25079278, 5.09519471, 4.5740173 , 2.78238994],\n",
       "       [7.50799881, 6.6811328 , 8.31883452, 8.11383172, 3.51170186]])"
      ]
     },
     "execution_count": 111,
     "metadata": {},
     "output_type": "execute_result"
    }
   ],
   "source": [
    "np.random.uniform(0,10,size=(5,5))"
   ]
  },
  {
   "cell_type": "raw",
   "id": "af2cc388",
   "metadata": {},
   "source": [
    "np.random.randn(M,N): 정규분포를 가진 임의 실수값으로 구성된 MxN행렬"
   ]
  },
  {
   "cell_type": "code",
   "execution_count": 112,
   "id": "6f211b10",
   "metadata": {
    "ExecuteTime": {
     "end_time": "2022-02-15T03:03:56.973753Z",
     "start_time": "2022-02-15T03:03:56.955749Z"
    }
   },
   "outputs": [
    {
     "data": {
      "text/plain": [
       "array([[-0.8668657 , -0.33246657, -0.16896622, -0.6576972 , -1.29760848],\n",
       "       [-0.7191741 , -0.00730865, -0.21434399,  0.91827529,  0.51603307],\n",
       "       [-0.98686186,  0.79118647, -2.16578754,  0.14219108, -2.01605829],\n",
       "       [ 0.63319655,  1.0938957 ,  1.99661004, -0.01251368, -0.93279051],\n",
       "       [ 0.94693058,  0.32779011,  0.48086831, -1.31513119, -0.38212131]])"
      ]
     },
     "execution_count": 112,
     "metadata": {},
     "output_type": "execute_result"
    }
   ],
   "source": [
    "np.random.randn(5,5)"
   ]
  },
  {
   "cell_type": "raw",
   "id": "24a476e7",
   "metadata": {},
   "source": [
    "np.random.randint(a,b,size=(M,N)): [a,b)구간에서 uniform한 임의 정수값으로 구성된 MxN 행렬"
   ]
  },
  {
   "cell_type": "code",
   "execution_count": 113,
   "id": "ec978c04",
   "metadata": {
    "ExecuteTime": {
     "end_time": "2022-02-15T03:04:44.351731Z",
     "start_time": "2022-02-15T03:04:44.336228Z"
    }
   },
   "outputs": [
    {
     "data": {
      "text/plain": [
       "array([[9, 7, 1, 5, 6],\n",
       "       [6, 0, 4, 6, 5],\n",
       "       [2, 8, 0, 7, 1],\n",
       "       [8, 7, 8, 1, 6],\n",
       "       [8, 3, 6, 4, 2]])"
      ]
     },
     "execution_count": 113,
     "metadata": {},
     "output_type": "execute_result"
    }
   ],
   "source": [
    "np.random.randint(0,10,size=(5,5))"
   ]
  },
  {
   "cell_type": "raw",
   "id": "d7de0967",
   "metadata": {},
   "source": [
    "np.random.choice(L,N,replace,p):\n",
    " 제 0입력인자로 주어진 L이 하나의 정수라면 [0,L) 구간에서 정수를, L이 list라면 그 list의 요소들을 무작위로 N개씩 뽑아내되, replace 입력인자가 True로 주어지면 중복이 허용되며, p입력인자가 주어지면 그 p에 지정된 확률로 추출한다."
   ]
  },
  {
   "cell_type": "code",
   "execution_count": 114,
   "id": "93387d01",
   "metadata": {
    "ExecuteTime": {
     "end_time": "2022-02-15T03:06:47.522728Z",
     "start_time": "2022-02-15T03:06:47.508725Z"
    }
   },
   "outputs": [
    {
     "data": {
      "text/plain": [
       "array([6, 0, 5, 4, 0, 9, 6, 1, 6, 6, 2, 6, 8, 6, 4, 6, 6, 7, 7, 8, 2, 3,\n",
       "       4, 0, 2, 8, 3, 4, 1, 1, 8, 2, 1, 4, 0, 4, 5, 7, 5, 0, 1, 2, 2, 4,\n",
       "       6, 4, 8, 3, 7, 5, 5, 2, 5, 4, 5, 4, 7, 2, 2, 3, 2, 1, 4, 2, 9, 7,\n",
       "       0, 6, 2, 3, 0, 1, 5, 5, 1, 5, 2, 2, 4, 1, 6, 4, 8, 1, 7, 2, 1, 5,\n",
       "       2, 9, 6, 9, 1, 9, 5, 4, 7, 7, 5, 8])"
      ]
     },
     "execution_count": 114,
     "metadata": {},
     "output_type": "execute_result"
    }
   ],
   "source": [
    "np.random.choice(10,100,True)"
   ]
  },
  {
   "cell_type": "code",
   "execution_count": 120,
   "id": "fbc530c6",
   "metadata": {
    "ExecuteTime": {
     "end_time": "2022-02-15T03:11:06.801139Z",
     "start_time": "2022-02-15T03:11:06.609106Z"
    }
   },
   "outputs": [
    {
     "data": {
      "text/plain": [
       "<AxesSubplot:>"
      ]
     },
     "execution_count": 120,
     "metadata": {},
     "output_type": "execute_result"
    },
    {
     "data": {
      "text/plain": [
       "[<matplotlib.lines.Line2D at 0x153139f9bb0>]"
      ]
     },
     "execution_count": 120,
     "metadata": {},
     "output_type": "execute_result"
    },
    {
     "data": {
      "text/plain": [
       "<AxesSubplot:>"
      ]
     },
     "execution_count": 120,
     "metadata": {},
     "output_type": "execute_result"
    },
    {
     "data": {
      "text/plain": [
       "[<matplotlib.lines.Line2D at 0x15313cb0250>]"
      ]
     },
     "execution_count": 120,
     "metadata": {},
     "output_type": "execute_result"
    },
    {
     "data": {
      "image/png": "[encoded data removed]",
      "text/plain": [
       "<Figure size 720x216 with 2 Axes>"
      ]
     },
     "metadata": {
      "needs_background": "light"
     },
     "output_type": "display_data"
    }
   ],
   "source": [
    "import numpy as np\n",
    "import matplotlib.pyplot as plt\n",
    "\n",
    "fig = plt.figure(tight_layout=True, figsize=(10,3))\n",
    "\n",
    "Nx = 50000\n",
    "m = 100\n",
    "sigma = 15\n",
    "xn = m + sigma*np.random.randn(Nx)\n",
    "\n",
    "plt.subplot(1,2,1)\n",
    "Nb = 50\n",
    "ns, bins, patches = plt.hist(xn, Nb, density=True)\n",
    "ys = (1/(np.sqrt(2*np.pi)*sigma) * np.exp(-((bins-m)/sigma)**2/2))\n",
    "plt.plot(bins, ys, 'r--')\n",
    "\n",
    "a = -1; b = 2\n",
    "xu = np.random.uniform(a,b,Nx)\n",
    "\n",
    "plt.subplot(1,2,2)\n",
    "Nb = 20\n",
    "ns, bins, patches = plt.hist(xu, Nb, density=True)\n",
    "ys = [1/(b-a) for bin in bins]\n",
    "plt.plot(bins, ys, 'r--')\n",
    "\n",
    "plt.show()"
   ]
  },
  {
   "cell_type": "code",
   "execution_count": 123,
   "id": "5f508208",
   "metadata": {
    "ExecuteTime": {
     "end_time": "2022-02-15T03:13:47.691302Z",
     "start_time": "2022-02-15T03:13:47.681800Z"
    }
   },
   "outputs": [
    {
     "data": {
      "text/plain": [
       "(100.01206708093848, 100.01206708093848)"
      ]
     },
     "execution_count": 123,
     "metadata": {},
     "output_type": "execute_result"
    }
   ],
   "source": [
    "np.mean(xn), xn.mean()"
   ]
  },
  {
   "cell_type": "code",
   "execution_count": 124,
   "id": "a0b4c20d",
   "metadata": {
    "ExecuteTime": {
     "end_time": "2022-02-15T03:13:56.825988Z",
     "start_time": "2022-02-15T03:13:56.808985Z"
    }
   },
   "outputs": [
    {
     "data": {
      "text/plain": [
       "(15.021165367511278, 15.021165367511278)"
      ]
     },
     "execution_count": 124,
     "metadata": {},
     "output_type": "execute_result"
    }
   ],
   "source": [
    "np.std(xn), xn.std()"
   ]
  },
  {
   "cell_type": "code",
   "execution_count": 125,
   "id": "49b61320",
   "metadata": {
    "ExecuteTime": {
     "end_time": "2022-02-15T03:14:11.197639Z",
     "start_time": "2022-02-15T03:14:11.187136Z"
    }
   },
   "outputs": [
    {
     "data": {
      "text/plain": [
       "(225.63540899812025, 225.63540899812025, 225.63540899812023)"
      ]
     },
     "execution_count": 125,
     "metadata": {},
     "output_type": "execute_result"
    }
   ],
   "source": [
    "np.var(xn), xn.var(), np.std(xn)**2"
   ]
  },
  {
   "cell_type": "code",
   "execution_count": 126,
   "id": "71c739ad",
   "metadata": {
    "ExecuteTime": {
     "end_time": "2022-02-15T03:14:27.460871Z",
     "start_time": "2022-02-15T03:14:27.445869Z"
    }
   },
   "outputs": [
    {
     "data": {
      "text/plain": [
       "(158.97610919204416, 158.97610919204416)"
      ]
     },
     "execution_count": 126,
     "metadata": {},
     "output_type": "execute_result"
    }
   ],
   "source": [
    "np.max(xn), xn.max()"
   ]
  },
  {
   "cell_type": "code",
   "execution_count": 127,
   "id": "9b247293",
   "metadata": {
    "ExecuteTime": {
     "end_time": "2022-02-15T03:15:06.069062Z",
     "start_time": "2022-02-15T03:15:06.052060Z"
    }
   },
   "outputs": [
    {
     "data": {
      "text/plain": [
       "(7301, 7301)"
      ]
     },
     "execution_count": 127,
     "metadata": {},
     "output_type": "execute_result"
    }
   ],
   "source": [
    "np.argmax(xn), xn.argmax() #최대값 요소의 index"
   ]
  },
  {
   "cell_type": "code",
   "execution_count": 128,
   "id": "5b64c845",
   "metadata": {
    "ExecuteTime": {
     "end_time": "2022-02-15T03:15:18.003728Z",
     "start_time": "2022-02-15T03:15:17.989726Z"
    }
   },
   "outputs": [
    {
     "data": {
      "text/plain": [
       "(36.164766330501784, 36.164766330501784)"
      ]
     },
     "execution_count": 128,
     "metadata": {},
     "output_type": "execute_result"
    }
   ],
   "source": [
    "np.min(xn), xn.min()"
   ]
  },
  {
   "cell_type": "code",
   "execution_count": 130,
   "id": "e3384067",
   "metadata": {
    "ExecuteTime": {
     "end_time": "2022-02-15T03:15:32.894067Z",
     "start_time": "2022-02-15T03:15:32.880065Z"
    }
   },
   "outputs": [
    {
     "data": {
      "text/plain": [
       "(29871, 29871)"
      ]
     },
     "execution_count": 130,
     "metadata": {},
     "output_type": "execute_result"
    }
   ],
   "source": [
    "np.argmin(xn), xn.argmin()"
   ]
  },
  {
   "cell_type": "code",
   "execution_count": 132,
   "id": "22545d59",
   "metadata": {
    "ExecuteTime": {
     "end_time": "2022-02-15T03:18:12.374554Z",
     "start_time": "2022-02-15T03:18:12.359051Z"
    }
   },
   "outputs": [],
   "source": [
    "def mymedian(L):\n",
    "    import numpy as np\n",
    "    L.sort()\n",
    "    Nh = len(L)/2\n",
    "    if np.mod(Nh,1)==0:\n",
    "        ind0 = int(Nh)-1; med = np.mean(L[ind0:ind0+2])\n",
    "    else: med = L[int(np.floor(Nh))]\n",
    "    return med"
   ]
  },
  {
   "cell_type": "code",
   "execution_count": 145,
   "id": "23f4e716",
   "metadata": {
    "ExecuteTime": {
     "end_time": "2022-02-15T03:22:08.834205Z",
     "start_time": "2022-02-15T03:22:08.826705Z"
    }
   },
   "outputs": [],
   "source": [
    "L1 = [1., 2, 3, 4, 5, 6, 7, 8 ]"
   ]
  },
  {
   "cell_type": "code",
   "execution_count": 146,
   "id": "042aabd3",
   "metadata": {
    "ExecuteTime": {
     "end_time": "2022-02-15T03:22:09.618387Z",
     "start_time": "2022-02-15T03:22:09.608886Z"
    }
   },
   "outputs": [
    {
     "data": {
      "text/plain": [
       "(4.5, 4.5)"
      ]
     },
     "execution_count": 146,
     "metadata": {},
     "output_type": "execute_result"
    }
   ],
   "source": [
    "np.median(L1), mymedian(L1)"
   ]
  },
  {
   "cell_type": "markdown",
   "id": "4cc0035b",
   "metadata": {},
   "source": [
    "### 9.1.13.2 2D Array의 통계적 특성"
   ]
  },
  {
   "cell_type": "code",
   "execution_count": 147,
   "id": "af3b961a",
   "metadata": {
    "ExecuteTime": {
     "end_time": "2022-02-15T03:22:52.719394Z",
     "start_time": "2022-02-15T03:22:52.706392Z"
    }
   },
   "outputs": [
    {
     "data": {
      "text/plain": [
       "array([[4, 3, 2, 7],\n",
       "       [1, 8, 2, 9]])"
      ]
     },
     "execution_count": 147,
     "metadata": {},
     "output_type": "execute_result"
    }
   ],
   "source": [
    "A = np.array( [[4,3,2,7], [1,8,2,9]] ); A"
   ]
  },
  {
   "cell_type": "code",
   "execution_count": 149,
   "id": "b5be1a31",
   "metadata": {
    "ExecuteTime": {
     "end_time": "2022-02-15T03:23:29.218287Z",
     "start_time": "2022-02-15T03:23:29.206285Z"
    }
   },
   "outputs": [
    {
     "data": {
      "text/plain": [
       "array([4, 8, 2, 9])"
      ]
     },
     "execution_count": 149,
     "metadata": {},
     "output_type": "execute_result"
    },
    {
     "data": {
      "text/plain": [
       "array([4, 8, 2, 9])"
      ]
     },
     "execution_count": 149,
     "metadata": {},
     "output_type": "execute_result"
    }
   ],
   "source": [
    "np.max(A, axis=0), A.max(axis=0) #각 열의 최대값"
   ]
  },
  {
   "cell_type": "code",
   "execution_count": 150,
   "id": "d75620d5",
   "metadata": {
    "ExecuteTime": {
     "end_time": "2022-02-15T03:23:48.950834Z",
     "start_time": "2022-02-15T03:23:48.937331Z"
    }
   },
   "outputs": [
    {
     "data": {
      "text/plain": [
       "(array([7, 9]), array([7, 9]))"
      ]
     },
     "execution_count": 150,
     "metadata": {},
     "output_type": "execute_result"
    }
   ],
   "source": [
    "np.max(A, axis=1), A.max(axis=1) #각 행의 최대값"
   ]
  },
  {
   "cell_type": "code",
   "execution_count": 152,
   "id": "27c19b66",
   "metadata": {
    "ExecuteTime": {
     "end_time": "2022-02-15T03:24:18.883809Z",
     "start_time": "2022-02-15T03:24:18.875807Z"
    }
   },
   "outputs": [
    {
     "data": {
      "text/plain": [
       "(array([2.5, 5.5, 2. , 8. ]), array([2.5, 5.5, 2. , 8. ]))"
      ]
     },
     "execution_count": 152,
     "metadata": {},
     "output_type": "execute_result"
    }
   ],
   "source": [
    "np.mean(A, axis=0), A.mean(axis=0) #각 열의 평균값"
   ]
  },
  {
   "cell_type": "markdown",
   "id": "386dd3f4",
   "metadata": {},
   "source": [
    "## 9.1.14 Numpy Array에 대한 대수적 연산"
   ]
  },
  {
   "cell_type": "markdown",
   "id": "19942c17",
   "metadata": {},
   "source": [
    "### 9.1.14.1 두 Array의 행렬 곱(Matrix Product) - numpy.matmul()"
   ]
  },
  {
   "cell_type": "code",
   "execution_count": 153,
   "id": "40bd4cbd",
   "metadata": {
    "ExecuteTime": {
     "end_time": "2022-02-15T03:25:39.183239Z",
     "start_time": "2022-02-15T03:25:39.179739Z"
    }
   },
   "outputs": [
    {
     "data": {
      "text/plain": [
       "array([[0, 2],\n",
       "       [1, 1]])"
      ]
     },
     "execution_count": 153,
     "metadata": {},
     "output_type": "execute_result"
    }
   ],
   "source": [
    "A = np.array( [[0,2], [1,1]] ); A"
   ]
  },
  {
   "cell_type": "code",
   "execution_count": 154,
   "id": "ea745f95",
   "metadata": {
    "ExecuteTime": {
     "end_time": "2022-02-15T03:25:50.973750Z",
     "start_time": "2022-02-15T03:25:50.964749Z"
    }
   },
   "outputs": [
    {
     "data": {
      "text/plain": [
       "array([[2, 5],\n",
       "       [6, 1]])"
      ]
     },
     "execution_count": 154,
     "metadata": {},
     "output_type": "execute_result"
    }
   ],
   "source": [
    "B = np.array( [[2,5], [6,1]] ); B"
   ]
  },
  {
   "cell_type": "code",
   "execution_count": 156,
   "id": "3376d6ee",
   "metadata": {
    "ExecuteTime": {
     "end_time": "2022-02-15T03:26:05.199873Z",
     "start_time": "2022-02-15T03:26:05.193872Z"
    }
   },
   "outputs": [
    {
     "data": {
      "text/plain": [
       "array([[12,  2],\n",
       "       [ 8,  6]])"
      ]
     },
     "execution_count": 156,
     "metadata": {},
     "output_type": "execute_result"
    }
   ],
   "source": [
    "np.matmul(A, B) #행렬 곱"
   ]
  },
  {
   "cell_type": "code",
   "execution_count": 157,
   "id": "2b0cde3d",
   "metadata": {
    "ExecuteTime": {
     "end_time": "2022-02-15T03:26:14.270269Z",
     "start_time": "2022-02-15T03:26:14.254266Z"
    }
   },
   "outputs": [
    {
     "data": {
      "text/plain": [
       "array([[ 5,  9],\n",
       "       [ 1, 13]])"
      ]
     },
     "execution_count": 157,
     "metadata": {},
     "output_type": "execute_result"
    }
   ],
   "source": [
    "np.matmul(B,A)"
   ]
  },
  {
   "cell_type": "code",
   "execution_count": 158,
   "id": "df7b16cc",
   "metadata": {
    "ExecuteTime": {
     "end_time": "2022-02-15T03:26:25.408124Z",
     "start_time": "2022-02-15T03:26:25.394122Z"
    }
   },
   "outputs": [
    {
     "data": {
      "text/plain": [
       "array([2, 5])"
      ]
     },
     "execution_count": 158,
     "metadata": {},
     "output_type": "execute_result"
    }
   ],
   "source": [
    "C = B[0]; C"
   ]
  },
  {
   "cell_type": "code",
   "execution_count": 159,
   "id": "1d7c06bf",
   "metadata": {
    "ExecuteTime": {
     "end_time": "2022-02-15T03:26:53.262667Z",
     "start_time": "2022-02-15T03:26:53.251666Z"
    }
   },
   "outputs": [
    {
     "data": {
      "text/plain": [
       "array([10,  7])"
      ]
     },
     "execution_count": 159,
     "metadata": {},
     "output_type": "execute_result"
    }
   ],
   "source": [
    "np.matmul(A,C) #matrix 곱하기 vector"
   ]
  },
  {
   "cell_type": "code",
   "execution_count": 160,
   "id": "c33458b6",
   "metadata": {
    "ExecuteTime": {
     "end_time": "2022-02-15T03:27:06.184386Z",
     "start_time": "2022-02-15T03:27:06.179386Z"
    }
   },
   "outputs": [
    {
     "data": {
      "text/plain": [
       "array([5, 9])"
      ]
     },
     "execution_count": 160,
     "metadata": {},
     "output_type": "execute_result"
    }
   ],
   "source": [
    "np.matmul(C,A) #vector 곱하기 matrix"
   ]
  },
  {
   "cell_type": "raw",
   "id": "4fcc3741",
   "metadata": {},
   "source": [
    "np.matmul()은 주어진 벡터가 어떤 형태이던 곱이 가능한 방향으로 행벡터나 열벡터로 바뀐다."
   ]
  },
  {
   "cell_type": "code",
   "execution_count": 161,
   "id": "aa17ac0c",
   "metadata": {
    "ExecuteTime": {
     "end_time": "2022-02-15T03:28:23.243774Z",
     "start_time": "2022-02-15T03:28:23.236773Z"
    }
   },
   "outputs": [
    {
     "data": {
      "text/plain": [
       "(2,)"
      ]
     },
     "execution_count": 161,
     "metadata": {},
     "output_type": "execute_result"
    }
   ],
   "source": [
    "C.shape"
   ]
  },
  {
   "cell_type": "code",
   "execution_count": 162,
   "id": "a1ed597a",
   "metadata": {
    "ExecuteTime": {
     "end_time": "2022-02-15T03:28:29.142881Z",
     "start_time": "2022-02-15T03:28:29.138880Z"
    }
   },
   "outputs": [
    {
     "data": {
      "text/plain": [
       "29"
      ]
     },
     "execution_count": 162,
     "metadata": {},
     "output_type": "execute_result"
    }
   ],
   "source": [
    "np.matmul(C,C)"
   ]
  },
  {
   "cell_type": "code",
   "execution_count": 164,
   "id": "3c9154bf",
   "metadata": {
    "ExecuteTime": {
     "end_time": "2022-02-15T03:29:11.643730Z",
     "start_time": "2022-02-15T03:29:11.636228Z"
    }
   },
   "outputs": [
    {
     "data": {
      "text/plain": [
       "29"
      ]
     },
     "execution_count": 164,
     "metadata": {},
     "output_type": "execute_result"
    }
   ],
   "source": [
    "np.matmul(C,C.T) #우리가 원하는 모양이 아니다"
   ]
  },
  {
   "cell_type": "code",
   "execution_count": 175,
   "id": "31283107",
   "metadata": {
    "ExecuteTime": {
     "end_time": "2022-02-15T03:33:47.465808Z",
     "start_time": "2022-02-15T03:33:47.453306Z"
    }
   },
   "outputs": [
    {
     "data": {
      "text/plain": [
       "array([[ 4, 10],\n",
       "       [10, 25]])"
      ]
     },
     "execution_count": 175,
     "metadata": {},
     "output_type": "execute_result"
    }
   ],
   "source": [
    "C_r = C[np.newaxis, :]; C_c = C[:,np.newaxis]\n",
    "np.matmul(C_c,C_r)"
   ]
  },
  {
   "cell_type": "markdown",
   "id": "e169362a",
   "metadata": {},
   "source": [
    "### 9.1.14.2 역행렬(Inverse Matrix) - numpy.linalg.inv()"
   ]
  },
  {
   "cell_type": "code",
   "execution_count": 177,
   "id": "8b565fd8",
   "metadata": {
    "ExecuteTime": {
     "end_time": "2022-02-15T03:34:43.846897Z",
     "start_time": "2022-02-15T03:34:43.841897Z"
    }
   },
   "outputs": [
    {
     "data": {
      "text/plain": [
       "array([[0, 2],\n",
       "       [1, 1]])"
      ]
     },
     "execution_count": 177,
     "metadata": {},
     "output_type": "execute_result"
    }
   ],
   "source": [
    "A = np.array( [[0,2], [1,1]] ); A"
   ]
  },
  {
   "cell_type": "code",
   "execution_count": 179,
   "id": "1666d88d",
   "metadata": {
    "ExecuteTime": {
     "end_time": "2022-02-15T03:35:00.861909Z",
     "start_time": "2022-02-15T03:35:00.849907Z"
    }
   },
   "outputs": [
    {
     "data": {
      "text/plain": [
       "array([[-0.5,  1. ],\n",
       "       [ 0.5,  0. ]])"
      ]
     },
     "execution_count": 179,
     "metadata": {},
     "output_type": "execute_result"
    }
   ],
   "source": [
    "Ai = np.linalg.inv(A); Ai #역행렬"
   ]
  },
  {
   "cell_type": "code",
   "execution_count": 180,
   "id": "11a92ff4",
   "metadata": {
    "ExecuteTime": {
     "end_time": "2022-02-15T03:35:06.494270Z",
     "start_time": "2022-02-15T03:35:06.491271Z"
    }
   },
   "outputs": [
    {
     "data": {
      "text/plain": [
       "array([[1., 0.],\n",
       "       [0., 1.]])"
      ]
     },
     "execution_count": 180,
     "metadata": {},
     "output_type": "execute_result"
    }
   ],
   "source": [
    "np.matmul(A,Ai)"
   ]
  },
  {
   "cell_type": "markdown",
   "id": "20e48ca2",
   "metadata": {},
   "source": [
    "### 9.1.14.3 행렬식(Determinant) - numpy.linalg.det()"
   ]
  },
  {
   "cell_type": "code",
   "execution_count": 181,
   "id": "a5be527f",
   "metadata": {
    "ExecuteTime": {
     "end_time": "2022-02-15T03:35:39.171488Z",
     "start_time": "2022-02-15T03:35:39.168487Z"
    }
   },
   "outputs": [
    {
     "data": {
      "text/plain": [
       "-2.0"
      ]
     },
     "execution_count": 181,
     "metadata": {},
     "output_type": "execute_result"
    }
   ],
   "source": [
    "detA = np.linalg.det(A); detA"
   ]
  },
  {
   "cell_type": "markdown",
   "id": "f3b44380",
   "metadata": {},
   "source": [
    "### 9.1.14.4 행렬의 Trace - numpy.trace()"
   ]
  },
  {
   "cell_type": "code",
   "execution_count": 182,
   "id": "d4cd1272",
   "metadata": {
    "ExecuteTime": {
     "end_time": "2022-02-15T03:36:35.068676Z",
     "start_time": "2022-02-15T03:36:35.057674Z"
    }
   },
   "outputs": [
    {
     "data": {
      "text/plain": [
       "1"
      ]
     },
     "execution_count": 182,
     "metadata": {},
     "output_type": "execute_result"
    }
   ],
   "source": [
    "trA = np.trace(A); trA"
   ]
  },
  {
   "cell_type": "markdown",
   "id": "ffb0fc23",
   "metadata": {},
   "source": [
    "### 9.1.14.5 행렬의 Eigenvalue와 Eigenvector - numpy.linalg.eig()"
   ]
  },
  {
   "cell_type": "code",
   "execution_count": 183,
   "id": "b28d3be8",
   "metadata": {
    "ExecuteTime": {
     "end_time": "2022-02-15T03:37:17.482655Z",
     "start_time": "2022-02-15T03:37:17.473655Z"
    }
   },
   "outputs": [],
   "source": [
    "A = np.array( [[0,2], [1,1]])\n",
    "L, V = np.linalg.eig(A)"
   ]
  },
  {
   "cell_type": "code",
   "execution_count": 185,
   "id": "71dc9193",
   "metadata": {
    "ExecuteTime": {
     "end_time": "2022-02-15T03:37:40.676546Z",
     "start_time": "2022-02-15T03:37:40.672045Z"
    }
   },
   "outputs": [
    {
     "data": {
      "text/plain": [
       "array([-1.,  2.])"
      ]
     },
     "execution_count": 185,
     "metadata": {},
     "output_type": "execute_result"
    },
    {
     "data": {
      "text/plain": [
       "array([[-0.89442719, -0.70710678],\n",
       "       [ 0.4472136 , -0.70710678]])"
      ]
     },
     "execution_count": 185,
     "metadata": {},
     "output_type": "execute_result"
    }
   ],
   "source": [
    "L #Eigenvalue\n",
    "V #Eigenvector (열방향)"
   ]
  },
  {
   "cell_type": "markdown",
   "id": "fbe184ff",
   "metadata": {},
   "source": [
    "### 9.1.14.6 선형방정식의 풀이 - numpy.linalg.solve()"
   ]
  },
  {
   "cell_type": "code",
   "execution_count": 188,
   "id": "3a69f9d3",
   "metadata": {
    "ExecuteTime": {
     "end_time": "2022-02-15T03:39:08.243337Z",
     "start_time": "2022-02-15T03:39:08.232835Z"
    }
   },
   "outputs": [],
   "source": [
    "A = [[1,-2,0], [-2,4,1], [-1,1,2]]\n",
    "b = [5,-7,3]"
   ]
  },
  {
   "cell_type": "code",
   "execution_count": 189,
   "id": "18273b2d",
   "metadata": {
    "ExecuteTime": {
     "end_time": "2022-02-15T03:39:28.247695Z",
     "start_time": "2022-02-15T03:39:28.236193Z"
    }
   },
   "outputs": [
    {
     "data": {
      "text/plain": [
       "array([ 1., -2.,  3.])"
      ]
     },
     "execution_count": 189,
     "metadata": {},
     "output_type": "execute_result"
    }
   ],
   "source": [
    "x = np.linalg.solve(A,b); x # A*x = b의 해"
   ]
  },
  {
   "cell_type": "markdown",
   "id": "c70c4395",
   "metadata": {},
   "source": [
    "#### (예제 9.1) 다항함수 맞춤 (Polynomial Fitting)"
   ]
  },
  {
   "cell_type": "code",
   "execution_count": 191,
   "id": "4a35f5e8",
   "metadata": {
    "ExecuteTime": {
     "end_time": "2022-02-15T03:44:21.569258Z",
     "start_time": "2022-02-15T03:44:21.458233Z"
    }
   },
   "outputs": [
    {
     "name": "stdout",
     "output_type": "stream",
     "text": [
      "True polynomial =\n",
      "    2\n",
      "2 x - 3 x + 1\n",
      "\n",
      " 추정된 fitting polynomial =\n",
      "        2\n",
      "1.928 x - 2.901 x + 1.038\n"
     ]
    },
    {
     "data": {
      "text/plain": [
       "[<matplotlib.lines.Line2D at 0x15315d42a30>]"
      ]
     },
     "execution_count": 191,
     "metadata": {},
     "output_type": "execute_result"
    },
    {
     "data": {
      "text/plain": [
       "[<matplotlib.lines.Line2D at 0x15315d42e80>]"
      ]
     },
     "execution_count": 191,
     "metadata": {},
     "output_type": "execute_result"
    },
    {
     "data": {
      "text/plain": [
       "Text(0.5, 0, 'x')"
      ]
     },
     "execution_count": 191,
     "metadata": {},
     "output_type": "execute_result"
    },
    {
     "data": {
      "text/plain": [
       "Text(0, 0.5, 'y')"
      ]
     },
     "execution_count": 191,
     "metadata": {},
     "output_type": "execute_result"
    },
    {
     "data": {
      "text/plain": [
       "<matplotlib.legend.Legend at 0x15313d53a90>"
      ]
     },
     "execution_count": 191,
     "metadata": {},
     "output_type": "execute_result"
    },
    {
     "data": {
      "image/png": "[encoded data removed]",
      "text/plain": [
       "<Figure size 432x288 with 1 Axes>"
      ]
     },
     "metadata": {
      "needs_background": "light"
     },
     "output_type": "display_data"
    }
   ],
   "source": [
    "import numpy as np\n",
    "import matplotlib.pyplot as plt\n",
    "\n",
    "a = [2,-3,1]\n",
    "fa = np.poly1d(a) #a를 계수로한 다항함수\n",
    "print('True polynomial =\\n', fa)\n",
    "\n",
    "x = np.arange(-1, 2, 0.1)\n",
    "Nx = len(x)\n",
    "sigma = 0.3\n",
    "y = fa(x) + sigma*np.random.randn(Nx)\n",
    "\n",
    "a2 = np.polyfit(x,y,deg=2) #(x,y)에 맞는 2차 다항함수 계수 추정\n",
    "fa2 = np.poly1d(a2)\n",
    "print('\\n 추정된 fitting polynomial =\\n', fa2)\n",
    "\n",
    "plt.plot(x,y, 'bo', label=\"Data\")\n",
    "plt.plot(x, fa2(x), 'b-', label=\"Polyfit\")\n",
    "plt.xlabel('x'); plt.ylabel('y'); plt.legend()\n",
    "\n",
    "plt.show()"
   ]
  },
  {
   "cell_type": "markdown",
   "id": "31d6ba99",
   "metadata": {},
   "source": [
    "### 9.1.14.8 행렬의 내적(Inner Product) - numpy.inner()"
   ]
  },
  {
   "cell_type": "raw",
   "id": "05559a8b",
   "metadata": {},
   "source": [
    "여기서 inner product는 행렬에도 적용되며 그것은 벡터와 똑같은 방식으로\n",
    "(v,u) = v * u.T 같이 (A,B) = A * B.T 이다."
   ]
  },
  {
   "cell_type": "code",
   "execution_count": 197,
   "id": "2467b39c",
   "metadata": {
    "ExecuteTime": {
     "end_time": "2022-02-15T03:53:00.029962Z",
     "start_time": "2022-02-15T03:53:00.016460Z"
    }
   },
   "outputs": [
    {
     "data": {
      "text/plain": [
       "array([[ 1,  2],\n",
       "       [ 3, -1]])"
      ]
     },
     "execution_count": 197,
     "metadata": {},
     "output_type": "execute_result"
    }
   ],
   "source": [
    "A = np.array( [[1,2], [3,-1]] ); A"
   ]
  },
  {
   "cell_type": "code",
   "execution_count": 198,
   "id": "eebd5db0",
   "metadata": {
    "ExecuteTime": {
     "end_time": "2022-02-15T03:53:09.981686Z",
     "start_time": "2022-02-15T03:53:09.976685Z"
    }
   },
   "outputs": [
    {
     "data": {
      "text/plain": [
       "array([[ 2,  3],\n",
       "       [-1,  1]])"
      ]
     },
     "execution_count": 198,
     "metadata": {},
     "output_type": "execute_result"
    }
   ],
   "source": [
    "B = np.array( [[2,3], [-1,1]] ); B"
   ]
  },
  {
   "cell_type": "code",
   "execution_count": 199,
   "id": "5789f7b4",
   "metadata": {
    "ExecuteTime": {
     "end_time": "2022-02-15T03:53:11.753354Z",
     "start_time": "2022-02-15T03:53:11.748354Z"
    }
   },
   "outputs": [
    {
     "data": {
      "text/plain": [
       "array([[ 8,  1],\n",
       "       [ 3, -4]])"
      ]
     },
     "execution_count": 199,
     "metadata": {},
     "output_type": "execute_result"
    }
   ],
   "source": [
    "np.inner(A,B) "
   ]
  },
  {
   "cell_type": "markdown",
   "id": "e6c0aeda",
   "metadata": {},
   "source": [
    "### 9.1.14.9 행렬의 Dot Product - numpy.dot()"
   ]
  },
  {
   "cell_type": "raw",
   "id": "45a7fd7c",
   "metadata": {},
   "source": [
    "여기서 dot product는 일반적인 행렬곱으로 이루어지므로, 벡터끼리의 dot product는 그 값이 꼭 scalar가 아니다.\n",
    "\n",
    "벡터에 대해서는 np.dot()함수와 np.inner()함수로 계산한 값이 일치한다."
   ]
  },
  {
   "cell_type": "code",
   "execution_count": 200,
   "id": "ca41e032",
   "metadata": {
    "ExecuteTime": {
     "end_time": "2022-02-15T03:55:19.550340Z",
     "start_time": "2022-02-15T03:55:19.546841Z"
    }
   },
   "outputs": [
    {
     "data": {
      "text/plain": [
       "array([[0, 5],\n",
       "       [7, 8]])"
      ]
     },
     "execution_count": 200,
     "metadata": {},
     "output_type": "execute_result"
    }
   ],
   "source": [
    "np.dot(A,B)"
   ]
  },
  {
   "cell_type": "code",
   "execution_count": 201,
   "id": "88ab1806",
   "metadata": {
    "ExecuteTime": {
     "end_time": "2022-02-15T03:55:28.941115Z",
     "start_time": "2022-02-15T03:55:28.929114Z"
    }
   },
   "outputs": [
    {
     "data": {
      "text/plain": [
       "array([[0, 5],\n",
       "       [7, 8]])"
      ]
     },
     "execution_count": 201,
     "metadata": {},
     "output_type": "execute_result"
    }
   ],
   "source": [
    "A.dot(B)"
   ]
  },
  {
   "cell_type": "code",
   "execution_count": 202,
   "id": "ea8edf95",
   "metadata": {
    "ExecuteTime": {
     "end_time": "2022-02-15T03:55:42.961999Z",
     "start_time": "2022-02-15T03:55:42.945996Z"
    }
   },
   "outputs": [
    {
     "data": {
      "text/plain": [
       "array([[0, 5],\n",
       "       [7, 8]])"
      ]
     },
     "execution_count": 202,
     "metadata": {},
     "output_type": "execute_result"
    },
    {
     "data": {
      "text/plain": [
       "array([[0, 5],\n",
       "       [7, 8]])"
      ]
     },
     "execution_count": 202,
     "metadata": {},
     "output_type": "execute_result"
    }
   ],
   "source": [
    "np.inner(A,B.T); np.dot(A,B)"
   ]
  },
  {
   "cell_type": "markdown",
   "id": "c8bd7afe",
   "metadata": {},
   "source": [
    "### 9.1.14.10 행렬의 Vector(Cross) Product - numpy.cross()"
   ]
  },
  {
   "cell_type": "code",
   "execution_count": 206,
   "id": "049f96a4",
   "metadata": {
    "ExecuteTime": {
     "end_time": "2022-02-15T03:58:46.830711Z",
     "start_time": "2022-02-15T03:58:46.818708Z"
    }
   },
   "outputs": [],
   "source": [
    "a = np.array([1,-2,3])\n",
    "b = np.array([2,1,-1])"
   ]
  },
  {
   "cell_type": "code",
   "execution_count": 207,
   "id": "125947f2",
   "metadata": {
    "ExecuteTime": {
     "end_time": "2022-02-15T03:58:52.535571Z",
     "start_time": "2022-02-15T03:58:52.527571Z"
    }
   },
   "outputs": [
    {
     "data": {
      "text/plain": [
       "array([-1,  7,  5])"
      ]
     },
     "execution_count": 207,
     "metadata": {},
     "output_type": "execute_result"
    }
   ],
   "source": [
    "np.cross(a,b)"
   ]
  },
  {
   "cell_type": "markdown",
   "id": "4f16f41e",
   "metadata": {},
   "source": [
    "## 9.1.15 다항식(Polynomial)"
   ]
  },
  {
   "cell_type": "markdown",
   "id": "bfddf0ec",
   "metadata": {},
   "source": [
    "### 9.1.15.1 다항(방정)식의 생성"
   ]
  },
  {
   "cell_type": "code",
   "execution_count": 208,
   "id": "1464061b",
   "metadata": {
    "ExecuteTime": {
     "end_time": "2022-02-15T03:59:56.218039Z",
     "start_time": "2022-02-15T03:59:56.210038Z"
    }
   },
   "outputs": [
    {
     "data": {
      "text/plain": [
       "poly1d([1, 3, 2])"
      ]
     },
     "execution_count": 208,
     "metadata": {},
     "output_type": "execute_result"
    }
   ],
   "source": [
    "px = np.poly1d([1, 3, 2]); px #계수가 내림차순으로 1, 3, 2인 다항함수"
   ]
  },
  {
   "cell_type": "code",
   "execution_count": 209,
   "id": "3b4060c3",
   "metadata": {
    "ExecuteTime": {
     "end_time": "2022-02-15T03:59:59.229087Z",
     "start_time": "2022-02-15T03:59:59.217085Z"
    }
   },
   "outputs": [
    {
     "name": "stdout",
     "output_type": "stream",
     "text": [
      "   2\n",
      "1 x + 3 x + 2\n"
     ]
    }
   ],
   "source": [
    "print(px)"
   ]
  },
  {
   "cell_type": "code",
   "execution_count": 210,
   "id": "ed22eb90",
   "metadata": {
    "ExecuteTime": {
     "end_time": "2022-02-15T04:00:15.453693Z",
     "start_time": "2022-02-15T04:00:15.451692Z"
    }
   },
   "outputs": [],
   "source": [
    "py = np.poly1d([1,3,2], variable='y')"
   ]
  },
  {
   "cell_type": "code",
   "execution_count": 211,
   "id": "4e99aecd",
   "metadata": {
    "ExecuteTime": {
     "end_time": "2022-02-15T04:00:18.585869Z",
     "start_time": "2022-02-15T04:00:18.569367Z"
    }
   },
   "outputs": [
    {
     "name": "stdout",
     "output_type": "stream",
     "text": [
      "   2\n",
      "1 y + 3 y + 2\n"
     ]
    }
   ],
   "source": [
    "print(py)"
   ]
  },
  {
   "cell_type": "code",
   "execution_count": 212,
   "id": "132c9f57",
   "metadata": {
    "ExecuteTime": {
     "end_time": "2022-02-15T04:00:33.260516Z",
     "start_time": "2022-02-15T04:00:33.246014Z"
    }
   },
   "outputs": [
    {
     "data": {
      "text/plain": [
       "(array([1, 3, 2]), array([1, 3, 2]))"
      ]
     },
     "execution_count": 212,
     "metadata": {},
     "output_type": "execute_result"
    }
   ],
   "source": [
    "px.coef, px.c #다항식 px의 계수벡터"
   ]
  },
  {
   "cell_type": "code",
   "execution_count": 213,
   "id": "6342d8bf",
   "metadata": {
    "ExecuteTime": {
     "end_time": "2022-02-15T04:00:40.482981Z",
     "start_time": "2022-02-15T04:00:40.465978Z"
    }
   },
   "outputs": [
    {
     "data": {
      "text/plain": [
       "(2, 2)"
      ]
     },
     "execution_count": 213,
     "metadata": {},
     "output_type": "execute_result"
    }
   ],
   "source": [
    "px.order, px.o #다항식 px의 차수"
   ]
  },
  {
   "cell_type": "code",
   "execution_count": 214,
   "id": "12914ad8",
   "metadata": {
    "ExecuteTime": {
     "end_time": "2022-02-15T04:00:48.587644Z",
     "start_time": "2022-02-15T04:00:48.579643Z"
    }
   },
   "outputs": [
    {
     "data": {
      "text/plain": [
       "'x'"
      ]
     },
     "execution_count": 214,
     "metadata": {},
     "output_type": "execute_result"
    }
   ],
   "source": [
    "px.variable #다항함수 px의 변수"
   ]
  },
  {
   "cell_type": "code",
   "execution_count": 215,
   "id": "16cdb867",
   "metadata": {
    "ExecuteTime": {
     "end_time": "2022-02-15T04:01:25.884245Z",
     "start_time": "2022-02-15T04:01:25.869742Z"
    }
   },
   "outputs": [
    {
     "data": {
      "text/plain": [
       "array([2, 6])"
      ]
     },
     "execution_count": 215,
     "metadata": {},
     "output_type": "execute_result"
    }
   ],
   "source": [
    "np.polyval(px, [0,1]) # 다항함수 px의 0, 1에 대한 함수값"
   ]
  },
  {
   "cell_type": "markdown",
   "id": "64c7e860",
   "metadata": {},
   "source": [
    "### 9.1.15.2 다항방정식의 근(Root)"
   ]
  },
  {
   "cell_type": "code",
   "execution_count": 216,
   "id": "c2684b58",
   "metadata": {
    "ExecuteTime": {
     "end_time": "2022-02-15T04:01:52.004867Z",
     "start_time": "2022-02-15T04:01:51.987364Z"
    }
   },
   "outputs": [
    {
     "data": {
      "text/plain": [
       "(array([-2., -1.]), array([-2., -1.]))"
      ]
     },
     "execution_count": 216,
     "metadata": {},
     "output_type": "execute_result"
    }
   ],
   "source": [
    "px.roots, px.r #다항방정식 px=0의 근"
   ]
  },
  {
   "cell_type": "code",
   "execution_count": 217,
   "id": "e50e8b2c",
   "metadata": {
    "ExecuteTime": {
     "end_time": "2022-02-15T04:02:34.690215Z",
     "start_time": "2022-02-15T04:02:34.682713Z"
    }
   },
   "outputs": [
    {
     "data": {
      "text/plain": [
       "(array([-2., -1.]), array([-2., -1.]))"
      ]
     },
     "execution_count": 217,
     "metadata": {},
     "output_type": "execute_result"
    }
   ],
   "source": [
    "np.roots(px), np.roots([1,3,2]) #px의 근, 계수를 1, 3, 2로 갖는 다항방정식의 근"
   ]
  },
  {
   "cell_type": "code",
   "execution_count": 218,
   "id": "55928abf",
   "metadata": {
    "ExecuteTime": {
     "end_time": "2022-02-15T04:03:07.468793Z",
     "start_time": "2022-02-15T04:03:07.456291Z"
    }
   },
   "outputs": [
    {
     "data": {
      "text/plain": [
       "array([1., 3., 2.])"
      ]
     },
     "execution_count": 218,
     "metadata": {},
     "output_type": "execute_result"
    }
   ],
   "source": [
    "np.poly([-1,-2]) #근 -1, -2를 가진 다항방정식의 계수"
   ]
  },
  {
   "cell_type": "code",
   "execution_count": 221,
   "id": "809415bd",
   "metadata": {
    "ExecuteTime": {
     "end_time": "2022-02-15T04:03:37.822764Z",
     "start_time": "2022-02-15T04:03:37.806762Z"
    }
   },
   "outputs": [
    {
     "data": {
      "text/plain": [
       "array([ 1.00000000e+000, -4.95000000e+003,  1.20870750e+007,\n",
       "       -1.94100638e+010,  2.30575904e+013, -2.16096898e+016,\n",
       "        1.66416355e+019, -1.08299363e+022,  6.07892536e+024,\n",
       "       -2.98930683e+027,  1.30371560e+030, -5.09281728e+032,\n",
       "        1.79650380e+035, -5.76163401e+037,  1.68971187e+040,\n",
       "       -4.55379422e+042,  1.13261802e+045, -2.60952736e+047,\n",
       "        5.58767627e+049, -1.11519147e+052,  2.07986169e+054,\n",
       "       -3.63316024e+056,  5.95654755e+058, -9.18268213e+060,\n",
       "        1.33332317e+063, -1.82620160e+065,  2.36267585e+067,\n",
       "       -2.89095433e+069,  3.34926861e+071, -3.67769439e+073,\n",
       "        3.83109449e+075, -3.78930257e+077,  3.56138229e+079,\n",
       "       -3.18275527e+081,  2.70636759e+083, -2.19086642e+085,\n",
       "        1.68932112e+087, -1.24129164e+089,  8.69514270e+090,\n",
       "       -5.80865878e+092,  3.70174388e+094, -2.25104552e+096,\n",
       "        1.30649395e+098, -7.23862303e+099,  3.82906844e+101,\n",
       "       -1.93404030e+103,  9.32832225e+104, -4.29656798e+106,\n",
       "        1.88981267e+108, -7.93739453e+109,  3.18322278e+111,\n",
       "       -1.21881598e+113,  4.45479625e+114, -1.55402121e+116,\n",
       "        5.17285368e+117, -1.64261598e+119,  4.97446287e+120,\n",
       "       -1.43620074e+122,  3.95166046e+123, -1.03575701e+125,\n",
       "        2.58493109e+126, -6.13948318e+127,  1.38696086e+129,\n",
       "       -2.97839057e+130,  6.07569612e+131, -1.17650615e+133,\n",
       "        2.16090733e+134, -3.76143191e+135,  6.19934563e+136,\n",
       "       -9.66454064e+137,  1.42360760e+139, -1.97908637e+140,\n",
       "        2.59330266e+141, -3.19857905e+142,  3.70788056e+143,\n",
       "       -4.03320955e+144,  4.10922227e+145, -3.91388243e+146,\n",
       "        3.47752142e+147, -2.87560209e+148,  2.20731071e+149,\n",
       "       -1.56831413e+150,  1.02815511e+151, -6.19727115e+151,\n",
       "        3.42081815e+152, -1.72144954e+153,  7.85727040e+153,\n",
       "       -3.23380471e+154,  1.19198178e+155, -3.90376773e+155,\n",
       "        1.12527238e+156, -2.82260530e+156,  6.07562591e+156,\n",
       "       -1.10265622e+157,  1.64922954e+157, -1.97109087e+157,\n",
       "        1.80106555e+157, -1.17452694e+157,  4.83185050e+156,\n",
       "       -9.33262154e+155,  0.00000000e+000])"
      ]
     },
     "execution_count": 221,
     "metadata": {},
     "output_type": "execute_result"
    }
   ],
   "source": [
    "np.poly(range(100))"
   ]
  }
 ],
 "metadata": {
  "kernelspec": {
   "display_name": "Python 3 (ipykernel)",
   "language": "python",
   "name": "python3"
  },
  "language_info": {
   "codemirror_mode": {
    "name": "ipython",
    "version": 3
   },
   "file_extension": ".py",
   "mimetype": "text/x-python",
   "name": "python",
   "nbconvert_exporter": "python",
   "pygments_lexer": "ipython3",
   "version": "3.9.7"
  },
  "toc": {
   "base_numbering": 1,
   "nav_menu": {},
   "number_sections": true,
   "sideBar": false,
   "skip_h1_title": false,
   "title_cell": "Table of Contents",
   "title_sidebar": "Contents",
   "toc_cell": false,
   "toc_position": {
    "height": "991px",
    "left": "125px",
    "top": "131.06px",
    "width": "731.594px"
   },
   "toc_section_display": true,
   "toc_window_display": false
  }
 },
 "nbformat": 4,
 "nbformat_minor": 5
}
