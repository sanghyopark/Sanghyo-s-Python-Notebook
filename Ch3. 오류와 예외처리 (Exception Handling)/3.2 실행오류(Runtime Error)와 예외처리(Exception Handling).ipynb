{
 "cells": [
  {
   "cell_type": "code",
   "execution_count": null,
   "id": "f7e8611d",
   "metadata": {
    "ExecuteTime": {
     "start_time": "2022-01-27T06:48:59.867Z"
    }
   },
   "outputs": [],
   "source": [
    "x = int(input(\"숫자를 입력하세요: \"))"
   ]
  },
  {
   "cell_type": "code",
   "execution_count": null,
   "id": "26c54bd5",
   "metadata": {
    "ExecuteTime": {
     "start_time": "2022-01-27T06:48:59.868Z"
    }
   },
   "outputs": [],
   "source": [
    "while True:\n",
    "    x = input(\"숫자를 입력하세요: \")\n",
    "    if x.isdigit(): #숫자를 판별\n",
    "        x = int(x)\n",
    "        print(f' {x}**2 = {x**2}')\n",
    "        break\n",
    "    else: #error\n",
    "        print(\"숫자를 쓰라고 했잔아\")\n",
    "        continue"
   ]
  },
  {
   "cell_type": "code",
   "execution_count": null,
   "id": "7c05798c",
   "metadata": {
    "ExecuteTime": {
     "start_time": "2022-01-27T06:48:59.868Z"
    }
   },
   "outputs": [],
   "source": [
    "while True:\n",
    "    try: #이 부분은 iteration마다 수행되며, 실행오류 발생시 except로 넘어간다.\n",
    "        x = int(input(\"숫자를 입력하세요: \"))\n",
    "        print(f' {x}**2 = {x**2}')\n",
    "        break\n",
    "    except: #오류 발생시\n",
    "        print(\"숫자를 쓰라고\")\n",
    "        continue"
   ]
  },
  {
   "cell_type": "code",
   "execution_count": 4,
   "id": "bddf08fd",
   "metadata": {
    "ExecuteTime": {
     "end_time": "2022-01-27T06:49:49.627387Z",
     "start_time": "2022-01-27T06:49:49.256053Z"
    }
   },
   "outputs": [
    {
     "name": "stdout",
     "output_type": "stream",
     "text": [
      "숫자를 입력하세요: \n",
      "End of this block\n"
     ]
    }
   ],
   "source": [
    "while True:\n",
    "    try: #오류가 발생할 수 있는 구간\n",
    "        x = input(\"숫자를 입력하세요: \")\n",
    "        if x == '': break\n",
    "        x = int(x)\n",
    "    except:\n",
    "        print(\"말 좀 들어라\")\n",
    "        continue\n",
    "    else: #오류가 발생하지 않는 구간\n",
    "        print(f'{x}**2 = {x**2}')\n",
    "    finally: #어떤 경우든지 이 loop을 벗어나기 직전에 꼭 수행되는 부분\n",
    "        print('End of this block')"
   ]
  },
  {
   "cell_type": "code",
   "execution_count": 6,
   "id": "2c0d1232",
   "metadata": {
    "ExecuteTime": {
     "end_time": "2022-01-27T06:52:38.310932Z",
     "start_time": "2022-01-27T06:52:38.302930Z"
    }
   },
   "outputs": [
    {
     "name": "stdout",
     "output_type": "stream",
     "text": [
      "예외가 발생했습니다.\n",
      "파일이 닫혀졌나요? True\n"
     ]
    }
   ],
   "source": [
    "#finally 구문의 유용한 쓰임새 중 하나는, try 문에서 어떤 파일작업이 수행되는 경우 실행오류와\n",
    "#상관없이 최종적으로 파일이 꼭 닫혀지도록 보장하는 것이다.\n",
    "f = open(\"test.txt\", \"w\")\n",
    "try:\n",
    "    f.write(\"We try writing a file ...\")\n",
    "    f.write(42)\n",
    "except:\n",
    "    print(\"예외가 발생했습니다.\")\n",
    "finally:\n",
    "    f.close()\n",
    "    print(\"파일이 닫혀졌나요?\", f.closed)"
   ]
  },
  {
   "cell_type": "code",
   "execution_count": 7,
   "id": "4bf091a5",
   "metadata": {
    "ExecuteTime": {
     "end_time": "2022-01-27T06:54:22.286090Z",
     "start_time": "2022-01-27T06:54:22.271087Z"
    }
   },
   "outputs": [],
   "source": [
    "def divide(x, y):\n",
    "    try:\n",
    "        result = x/y\n",
    "    except ZeroDivisionError:\n",
    "        print('Division by zero!')\n",
    "    except TypeError:\n",
    "        print('TypeError')\n",
    "    else:\n",
    "        print(f'{x}/{y} = {result}')"
   ]
  },
  {
   "cell_type": "code",
   "execution_count": 8,
   "id": "7b8bfe70",
   "metadata": {
    "ExecuteTime": {
     "end_time": "2022-01-27T06:54:26.935972Z",
     "start_time": "2022-01-27T06:54:26.927471Z"
    }
   },
   "outputs": [
    {
     "name": "stdout",
     "output_type": "stream",
     "text": [
      "3/2 = 1.5\n"
     ]
    }
   ],
   "source": [
    "divide(3,2)"
   ]
  },
  {
   "cell_type": "code",
   "execution_count": 9,
   "id": "05985943",
   "metadata": {
    "ExecuteTime": {
     "end_time": "2022-01-27T06:54:35.755500Z",
     "start_time": "2022-01-27T06:54:35.752000Z"
    }
   },
   "outputs": [
    {
     "name": "stdout",
     "output_type": "stream",
     "text": [
      "Division by zero!\n"
     ]
    }
   ],
   "source": [
    "divide(2,0)"
   ]
  },
  {
   "cell_type": "code",
   "execution_count": 10,
   "id": "b9c83fd7",
   "metadata": {
    "ExecuteTime": {
     "end_time": "2022-01-27T06:54:42.032471Z",
     "start_time": "2022-01-27T06:54:42.022969Z"
    }
   },
   "outputs": [
    {
     "name": "stdout",
     "output_type": "stream",
     "text": [
      "TypeError\n"
     ]
    }
   ],
   "source": [
    "divide('3',2)"
   ]
  },
  {
   "cell_type": "code",
   "execution_count": 11,
   "id": "53d4dd3f",
   "metadata": {
    "ExecuteTime": {
     "end_time": "2022-01-27T06:55:55.888894Z",
     "start_time": "2022-01-27T06:55:55.876391Z"
    }
   },
   "outputs": [],
   "source": [
    "def divide(x,y):\n",
    "    try: result = x/y\n",
    "    except Exception as e:\n",
    "        print(f'{type(e)}: {e}')\n",
    "    else:\n",
    "        print(f'{x}/{y} = {result}')"
   ]
  },
  {
   "cell_type": "code",
   "execution_count": 13,
   "id": "98e6396e",
   "metadata": {
    "ExecuteTime": {
     "end_time": "2022-01-27T06:56:23.706431Z",
     "start_time": "2022-01-27T06:56:23.695428Z"
    }
   },
   "outputs": [
    {
     "name": "stdout",
     "output_type": "stream",
     "text": [
      "3/2 = 1.5\n"
     ]
    }
   ],
   "source": [
    "divide(3,2)"
   ]
  },
  {
   "cell_type": "code",
   "execution_count": 14,
   "id": "0f66e230",
   "metadata": {
    "ExecuteTime": {
     "end_time": "2022-01-27T06:56:48.959639Z",
     "start_time": "2022-01-27T06:56:48.949137Z"
    }
   },
   "outputs": [
    {
     "name": "stdout",
     "output_type": "stream",
     "text": [
      "<class 'ZeroDivisionError'>: division by zero\n"
     ]
    }
   ],
   "source": [
    "divide(2,0)"
   ]
  },
  {
   "cell_type": "code",
   "execution_count": 15,
   "id": "86e9aa9b",
   "metadata": {
    "ExecuteTime": {
     "end_time": "2022-01-27T06:56:54.407163Z",
     "start_time": "2022-01-27T06:56:54.405162Z"
    }
   },
   "outputs": [
    {
     "name": "stdout",
     "output_type": "stream",
     "text": [
      "<class 'TypeError'>: unsupported operand type(s) for /: 'str' and 'int'\n"
     ]
    }
   ],
   "source": [
    "divide('3',2)"
   ]
  },
  {
   "cell_type": "code",
   "execution_count": 17,
   "id": "fc1de5cd",
   "metadata": {
    "ExecuteTime": {
     "end_time": "2022-01-27T06:58:21.742421Z",
     "start_time": "2022-01-27T06:58:21.736920Z"
    }
   },
   "outputs": [],
   "source": [
    "import math\n",
    "def my_sqrt(x):\n",
    "    assert type(x) != str, 'x should not be a string!'\n",
    "#assert 다음에 주어진 조건, 즉 x값이 str이 아니라는 조건이 만족되지 않으면, 즉 문자열이면, 그뒤에\n",
    "#있는 문자열을 포함한 오류메시지를 print한 후 실행오류를 발생시켜 프로그램을 종료한다.\n",
    "    if x < 0:\n",
    "        raise Exception('x must be nonnegative!')\n",
    "#x값이 음수이면 raise문이 실행되어 문자열을 마지막에 포함한 오류가 화면에 나타나고 프로그램은\n",
    "#실행오류로 종료되도록 한다.\n",
    "    else:\n",
    "        y = math.sqrt(x)\n",
    "    return y"
   ]
  },
  {
   "cell_type": "code",
   "execution_count": 18,
   "id": "fe625d44",
   "metadata": {
    "ExecuteTime": {
     "end_time": "2022-01-27T06:58:56.329370Z",
     "start_time": "2022-01-27T06:58:56.310867Z"
    }
   },
   "outputs": [
    {
     "ename": "AssertionError",
     "evalue": "x should not be a string!",
     "output_type": "error",
     "traceback": [
      "\u001b[1;31m---------------------------------------------------------------------------\u001b[0m",
      "\u001b[1;31mAssertionError\u001b[0m                            Traceback (most recent call last)",
      "\u001b[1;32m~\\AppData\\Local\\Temp/ipykernel_18568/625453141.py\u001b[0m in \u001b[0;36m<module>\u001b[1;34m\u001b[0m\n\u001b[1;32m----> 1\u001b[1;33m \u001b[0mmy_sqrt\u001b[0m\u001b[1;33m(\u001b[0m\u001b[1;34m'3'\u001b[0m\u001b[1;33m)\u001b[0m\u001b[1;33m\u001b[0m\u001b[1;33m\u001b[0m\u001b[0m\n\u001b[0m",
      "\u001b[1;32m~\\AppData\\Local\\Temp/ipykernel_18568/1148877316.py\u001b[0m in \u001b[0;36mmy_sqrt\u001b[1;34m(x)\u001b[0m\n\u001b[0;32m      1\u001b[0m \u001b[1;32mimport\u001b[0m \u001b[0mmath\u001b[0m\u001b[1;33m\u001b[0m\u001b[1;33m\u001b[0m\u001b[0m\n\u001b[0;32m      2\u001b[0m \u001b[1;32mdef\u001b[0m \u001b[0mmy_sqrt\u001b[0m\u001b[1;33m(\u001b[0m\u001b[0mx\u001b[0m\u001b[1;33m)\u001b[0m\u001b[1;33m:\u001b[0m\u001b[1;33m\u001b[0m\u001b[1;33m\u001b[0m\u001b[0m\n\u001b[1;32m----> 3\u001b[1;33m     \u001b[1;32massert\u001b[0m \u001b[0mtype\u001b[0m\u001b[1;33m(\u001b[0m\u001b[0mx\u001b[0m\u001b[1;33m)\u001b[0m \u001b[1;33m!=\u001b[0m \u001b[0mstr\u001b[0m\u001b[1;33m,\u001b[0m \u001b[1;34m'x should not be a string!'\u001b[0m\u001b[1;33m\u001b[0m\u001b[1;33m\u001b[0m\u001b[0m\n\u001b[0m\u001b[0;32m      4\u001b[0m     \u001b[1;32mif\u001b[0m \u001b[0mx\u001b[0m \u001b[1;33m<\u001b[0m \u001b[1;36m0\u001b[0m\u001b[1;33m:\u001b[0m\u001b[1;33m\u001b[0m\u001b[1;33m\u001b[0m\u001b[0m\n\u001b[0;32m      5\u001b[0m         \u001b[1;32mraise\u001b[0m \u001b[0mException\u001b[0m\u001b[1;33m(\u001b[0m\u001b[1;34m'x must be nonnegative!'\u001b[0m\u001b[1;33m)\u001b[0m\u001b[1;33m\u001b[0m\u001b[1;33m\u001b[0m\u001b[0m\n",
      "\u001b[1;31mAssertionError\u001b[0m: x should not be a string!"
     ]
    }
   ],
   "source": [
    "my_sqrt('3')"
   ]
  },
  {
   "cell_type": "code",
   "execution_count": 19,
   "id": "24ee9b9b",
   "metadata": {
    "ExecuteTime": {
     "end_time": "2022-01-27T07:00:38.442441Z",
     "start_time": "2022-01-27T07:00:38.425938Z"
    }
   },
   "outputs": [
    {
     "ename": "Exception",
     "evalue": "x must be nonnegative!",
     "output_type": "error",
     "traceback": [
      "\u001b[1;31m---------------------------------------------------------------------------\u001b[0m",
      "\u001b[1;31mException\u001b[0m                                 Traceback (most recent call last)",
      "\u001b[1;32m~\\AppData\\Local\\Temp/ipykernel_18568/960724661.py\u001b[0m in \u001b[0;36m<module>\u001b[1;34m\u001b[0m\n\u001b[1;32m----> 1\u001b[1;33m \u001b[0mmy_sqrt\u001b[0m\u001b[1;33m(\u001b[0m\u001b[1;33m-\u001b[0m\u001b[1;36m1\u001b[0m\u001b[1;33m)\u001b[0m\u001b[1;33m\u001b[0m\u001b[1;33m\u001b[0m\u001b[0m\n\u001b[0m",
      "\u001b[1;32m~\\AppData\\Local\\Temp/ipykernel_18568/1148877316.py\u001b[0m in \u001b[0;36mmy_sqrt\u001b[1;34m(x)\u001b[0m\n\u001b[0;32m      3\u001b[0m     \u001b[1;32massert\u001b[0m \u001b[0mtype\u001b[0m\u001b[1;33m(\u001b[0m\u001b[0mx\u001b[0m\u001b[1;33m)\u001b[0m \u001b[1;33m!=\u001b[0m \u001b[0mstr\u001b[0m\u001b[1;33m,\u001b[0m \u001b[1;34m'x should not be a string!'\u001b[0m\u001b[1;33m\u001b[0m\u001b[1;33m\u001b[0m\u001b[0m\n\u001b[0;32m      4\u001b[0m     \u001b[1;32mif\u001b[0m \u001b[0mx\u001b[0m \u001b[1;33m<\u001b[0m \u001b[1;36m0\u001b[0m\u001b[1;33m:\u001b[0m\u001b[1;33m\u001b[0m\u001b[1;33m\u001b[0m\u001b[0m\n\u001b[1;32m----> 5\u001b[1;33m         \u001b[1;32mraise\u001b[0m \u001b[0mException\u001b[0m\u001b[1;33m(\u001b[0m\u001b[1;34m'x must be nonnegative!'\u001b[0m\u001b[1;33m)\u001b[0m\u001b[1;33m\u001b[0m\u001b[1;33m\u001b[0m\u001b[0m\n\u001b[0m\u001b[0;32m      6\u001b[0m     \u001b[1;32melse\u001b[0m\u001b[1;33m:\u001b[0m\u001b[1;33m\u001b[0m\u001b[1;33m\u001b[0m\u001b[0m\n\u001b[0;32m      7\u001b[0m         \u001b[0my\u001b[0m \u001b[1;33m=\u001b[0m \u001b[0mmath\u001b[0m\u001b[1;33m.\u001b[0m\u001b[0msqrt\u001b[0m\u001b[1;33m(\u001b[0m\u001b[0mx\u001b[0m\u001b[1;33m)\u001b[0m\u001b[1;33m\u001b[0m\u001b[1;33m\u001b[0m\u001b[0m\n",
      "\u001b[1;31mException\u001b[0m: x must be nonnegative!"
     ]
    }
   ],
   "source": [
    "my_sqrt(-1)"
   ]
  },
  {
   "cell_type": "code",
   "execution_count": null,
   "id": "cebcbbd0",
   "metadata": {},
   "outputs": [],
   "source": []
  }
 ],
 "metadata": {
  "kernelspec": {
   "display_name": "Python 3 (ipykernel)",
   "language": "python",
   "name": "python3"
  },
  "language_info": {
   "codemirror_mode": {
    "name": "ipython",
    "version": 3
   },
   "file_extension": ".py",
   "mimetype": "text/x-python",
   "name": "python",
   "nbconvert_exporter": "python",
   "pygments_lexer": "ipython3",
   "version": "3.9.7"
  },
  "toc": {
   "base_numbering": 1,
   "nav_menu": {},
   "number_sections": true,
   "sideBar": true,
   "skip_h1_title": false,
   "title_cell": "Table of Contents",
   "title_sidebar": "Contents",
   "toc_cell": false,
   "toc_position": {},
   "toc_section_display": true,
   "toc_window_display": false
  }
 },
 "nbformat": 4,
 "nbformat_minor": 5
}
