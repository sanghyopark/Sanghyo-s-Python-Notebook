{
 "cells": [
  {
   "cell_type": "markdown",
   "id": "2785d9a7",
   "metadata": {},
   "source": [
    "# 5.8 내포함수(Nested Function)와 재귀함수(Recursive Function)"
   ]
  },
  {
   "cell_type": "code",
   "execution_count": 5,
   "id": "c85bc221",
   "metadata": {
    "ExecuteTime": {
     "end_time": "2022-02-05T14:36:09.351819Z",
     "start_time": "2022-02-05T14:36:09.345318Z"
    }
   },
   "outputs": [],
   "source": [
    "def comp_int6(P, i, n=1, 단복='단복'):\n",
    "    Ic = 0; Is = 0\n",
    "    def int_s(P, i, n):\n",
    "        global Is\n",
    "        Is = P*i*n\n",
    "        return Is\n",
    "    def int_c(P, i, n):\n",
    "        nonlocal Ic\n",
    "        Ic = P*(1+i)**n - P\n",
    "        return Ic\n",
    "    Int_s = int_s(P,i,n)\n",
    "    Int_c = int_c(P,i,n)\n",
    "    print(f\"Is (int_s()함수 안 global) = {Is}\")\n",
    "    print(f\"Ic (int_c()함수 안 nonlocal) = {Ic}\")\n",
    "    \n",
    "    if 단복 == '단': Int = Int_s\n",
    "    elif 단복 == '복': Int = Int_c\n",
    "    else: Int = (Int_s, Int_c)\n",
    "    return Int"
   ]
  },
  {
   "cell_type": "code",
   "execution_count": 6,
   "id": "9059aa79",
   "metadata": {
    "ExecuteTime": {
     "end_time": "2022-02-05T14:36:09.903793Z",
     "start_time": "2022-02-05T14:36:09.885788Z"
    }
   },
   "outputs": [
    {
     "name": "stdout",
     "output_type": "stream",
     "text": [
      "Is (int_s()함수 안 global) = 0\n",
      "Ic (int_c()함수 안 nonlocal) = 62.889462677744206\n"
     ]
    },
    {
     "data": {
      "text/plain": [
       "(50.0, 62.889462677744206)"
      ]
     },
     "execution_count": 6,
     "metadata": {},
     "output_type": "execute_result"
    }
   ],
   "source": [
    "comp_int6(100,0.05,10)"
   ]
  },
  {
   "cell_type": "code",
   "execution_count": 7,
   "id": "598585da",
   "metadata": {
    "ExecuteTime": {
     "end_time": "2022-02-05T14:36:10.455511Z",
     "start_time": "2022-02-05T14:36:10.443509Z"
    }
   },
   "outputs": [
    {
     "data": {
      "text/plain": [
       "50.0"
      ]
     },
     "execution_count": 7,
     "metadata": {},
     "output_type": "execute_result"
    }
   ],
   "source": [
    "Is"
   ]
  },
  {
   "cell_type": "code",
   "execution_count": 4,
   "id": "b65b3ab8",
   "metadata": {
    "ExecuteTime": {
     "end_time": "2022-02-05T14:33:51.377975Z",
     "start_time": "2022-02-05T14:33:51.258947Z"
    }
   },
   "outputs": [
    {
     "ename": "NameError",
     "evalue": "name 'Ic' is not defined",
     "output_type": "error",
     "traceback": [
      "\u001b[1;31m---------------------------------------------------------------------------\u001b[0m",
      "\u001b[1;31mNameError\u001b[0m                                 Traceback (most recent call last)",
      "\u001b[1;32m~\\AppData\\Local\\Temp/ipykernel_3472/2696274760.py\u001b[0m in \u001b[0;36m<module>\u001b[1;34m\u001b[0m\n\u001b[1;32m----> 1\u001b[1;33m \u001b[0mIc\u001b[0m\u001b[1;33m\u001b[0m\u001b[1;33m\u001b[0m\u001b[0m\n\u001b[0m",
      "\u001b[1;31mNameError\u001b[0m: name 'Ic' is not defined"
     ]
    }
   ],
   "source": [
    "Ic"
   ]
  },
  {
   "cell_type": "code",
   "execution_count": 9,
   "id": "36824e1d",
   "metadata": {
    "ExecuteTime": {
     "end_time": "2022-02-05T14:37:10.023535Z",
     "start_time": "2022-02-05T14:37:10.021535Z"
    }
   },
   "outputs": [],
   "source": [
    "def factorial(n):\n",
    "    if n<=1: return 1\n",
    "    else: return n*factorial(n-1)"
   ]
  },
  {
   "cell_type": "code",
   "execution_count": 11,
   "id": "81a3f811",
   "metadata": {
    "ExecuteTime": {
     "end_time": "2022-02-05T14:37:31.803824Z",
     "start_time": "2022-02-05T14:37:31.797823Z"
    }
   },
   "outputs": [
    {
     "data": {
      "text/plain": [
       "6"
      ]
     },
     "execution_count": 11,
     "metadata": {},
     "output_type": "execute_result"
    }
   ],
   "source": [
    "factorial(3)"
   ]
  },
  {
   "cell_type": "code",
   "execution_count": 12,
   "id": "aa185722",
   "metadata": {
    "ExecuteTime": {
     "end_time": "2022-02-05T14:37:59.614642Z",
     "start_time": "2022-02-05T14:37:59.606141Z"
    }
   },
   "outputs": [],
   "source": [
    "def factorial1(n):\n",
    "    f = 1\n",
    "    for i in range(1,n+1): f = f*i\n",
    "    return f"
   ]
  },
  {
   "cell_type": "code",
   "execution_count": 13,
   "id": "df45da9b",
   "metadata": {
    "ExecuteTime": {
     "end_time": "2022-02-05T14:38:04.259366Z",
     "start_time": "2022-02-05T14:38:04.251866Z"
    }
   },
   "outputs": [
    {
     "data": {
      "text/plain": [
       "6"
      ]
     },
     "execution_count": 13,
     "metadata": {},
     "output_type": "execute_result"
    }
   ],
   "source": [
    "factorial1(3)"
   ]
  },
  {
   "cell_type": "code",
   "execution_count": null,
   "id": "72c3f1fc",
   "metadata": {},
   "outputs": [],
   "source": []
  }
 ],
 "metadata": {
  "kernelspec": {
   "display_name": "Python 3 (ipykernel)",
   "language": "python",
   "name": "python3"
  },
  "language_info": {
   "codemirror_mode": {
    "name": "ipython",
    "version": 3
   },
   "file_extension": ".py",
   "mimetype": "text/x-python",
   "name": "python",
   "nbconvert_exporter": "python",
   "pygments_lexer": "ipython3",
   "version": "3.9.7"
  },
  "toc": {
   "base_numbering": 1,
   "nav_menu": {},
   "number_sections": true,
   "sideBar": true,
   "skip_h1_title": false,
   "title_cell": "Table of Contents",
   "title_sidebar": "Contents",
   "toc_cell": false,
   "toc_position": {},
   "toc_section_display": true,
   "toc_window_display": false
  }
 },
 "nbformat": 4,
 "nbformat_minor": 5
}
