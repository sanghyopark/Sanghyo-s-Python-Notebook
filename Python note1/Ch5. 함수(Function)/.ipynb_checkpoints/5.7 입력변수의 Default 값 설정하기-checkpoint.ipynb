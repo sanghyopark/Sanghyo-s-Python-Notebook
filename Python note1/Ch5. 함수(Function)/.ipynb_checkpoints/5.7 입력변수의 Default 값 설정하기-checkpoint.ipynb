{
 "cells": [
  {
   "cell_type": "markdown",
   "id": "65c872b8",
   "metadata": {},
   "source": [
    "# 5.7 입력변수의 Default 값 설정하기"
   ]
  },
  {
   "cell_type": "code",
   "execution_count": 1,
   "id": "e8cebfac",
   "metadata": {
    "ExecuteTime": {
     "end_time": "2022-02-05T12:42:33.848917Z",
     "start_time": "2022-02-05T12:42:33.845916Z"
    }
   },
   "outputs": [],
   "source": [
    "def comp_int5(P, i=0.05, n=10):\n",
    "    I = P*(1+i)**n-P\n",
    "    print(f'Interest = {I:6.1f}')\n",
    "#함수의 입력변수 안에 등호로 default값을 지정해 해당 변수가 입력되지 않은 경우에도 함수를 출력할 수 있다."
   ]
  },
  {
   "cell_type": "code",
   "execution_count": 2,
   "id": "a4d8f310",
   "metadata": {
    "ExecuteTime": {
     "end_time": "2022-02-05T12:42:48.053595Z",
     "start_time": "2022-02-05T12:42:48.046594Z"
    }
   },
   "outputs": [
    {
     "name": "stdout",
     "output_type": "stream",
     "text": [
      "Interest =   62.9\n"
     ]
    }
   ],
   "source": [
    "comp_int5(100)"
   ]
  }
 ],
 "metadata": {
  "kernelspec": {
   "display_name": "Python 3 (ipykernel)",
   "language": "python",
   "name": "python3"
  },
  "language_info": {
   "codemirror_mode": {
    "name": "ipython",
    "version": 3
   },
   "file_extension": ".py",
   "mimetype": "text/x-python",
   "name": "python",
   "nbconvert_exporter": "python",
   "pygments_lexer": "ipython3",
   "version": "3.9.7"
  },
  "toc": {
   "base_numbering": 1,
   "nav_menu": {},
   "number_sections": true,
   "sideBar": true,
   "skip_h1_title": false,
   "title_cell": "Table of Contents",
   "title_sidebar": "Contents",
   "toc_cell": false,
   "toc_position": {},
   "toc_section_display": true,
   "toc_window_display": false
  }
 },
 "nbformat": 4,
 "nbformat_minor": 5
}
