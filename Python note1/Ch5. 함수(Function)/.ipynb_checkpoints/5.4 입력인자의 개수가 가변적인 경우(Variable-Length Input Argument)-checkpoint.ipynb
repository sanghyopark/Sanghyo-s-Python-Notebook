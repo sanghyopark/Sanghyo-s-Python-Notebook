{
 "cells": [
  {
   "cell_type": "markdown",
   "id": "77fd7403",
   "metadata": {},
   "source": [
    "# 5.4 입력인자의 개수가 가변적인 경우(Variable-Length Input Argument)"
   ]
  },
  {
   "cell_type": "markdown",
   "id": "4053733f",
   "metadata": {},
   "source": [
    "## 5.4.1 List를 이용하는 방법"
   ]
  },
  {
   "cell_type": "code",
   "execution_count": 1,
   "id": "869bbe15",
   "metadata": {
    "ExecuteTime": {
     "end_time": "2022-02-05T12:11:09.041347Z",
     "start_time": "2022-02-05T12:11:09.033845Z"
    }
   },
   "outputs": [],
   "source": [
    "def comp_int1(P, i, ns):\n",
    "    I = []\n",
    "    for n in ns:\n",
    "        I = I + [P*(1+i)**n-P]\n",
    "    return I"
   ]
  },
  {
   "cell_type": "code",
   "execution_count": 2,
   "id": "bfe4f020",
   "metadata": {
    "ExecuteTime": {
     "end_time": "2022-02-05T12:11:54.660268Z",
     "start_time": "2022-02-05T12:11:54.646766Z"
    }
   },
   "outputs": [
    {
     "name": "stdout",
     "output_type": "stream",
     "text": [
      "Interest = [62.889462677744206, 165.3297705144422]\n"
     ]
    }
   ],
   "source": [
    "P = 100; i = 0.05; 연수 = [10,20]\n",
    "Int = comp_int1(P,i,연수)\n",
    "print('Interest =', Int)"
   ]
  },
  {
   "cell_type": "code",
   "execution_count": 5,
   "id": "d38a5f0f",
   "metadata": {
    "ExecuteTime": {
     "end_time": "2022-02-05T12:15:20.003203Z",
     "start_time": "2022-02-05T12:15:19.989200Z"
    }
   },
   "outputs": [
    {
     "ename": "TypeError",
     "evalue": "'int' object is not iterable",
     "output_type": "error",
     "traceback": [
      "\u001b[1;31m---------------------------------------------------------------------------\u001b[0m",
      "\u001b[1;31mTypeError\u001b[0m                                 Traceback (most recent call last)",
      "\u001b[1;32m~\\AppData\\Local\\Temp/ipykernel_7636/1573798137.py\u001b[0m in \u001b[0;36m<module>\u001b[1;34m\u001b[0m\n\u001b[1;32m----> 1\u001b[1;33m \u001b[0mInt\u001b[0m \u001b[1;33m=\u001b[0m \u001b[0mcomp_int1\u001b[0m\u001b[1;33m(\u001b[0m\u001b[0mP\u001b[0m\u001b[1;33m,\u001b[0m\u001b[0mi\u001b[0m\u001b[1;33m,\u001b[0m\u001b[1;36m10\u001b[0m\u001b[1;33m)\u001b[0m\u001b[1;33m\u001b[0m\u001b[1;33m\u001b[0m\u001b[0m\n\u001b[0m",
      "\u001b[1;32m~\\AppData\\Local\\Temp/ipykernel_7636/2923234010.py\u001b[0m in \u001b[0;36mcomp_int1\u001b[1;34m(P, i, ns)\u001b[0m\n\u001b[0;32m      1\u001b[0m \u001b[1;32mdef\u001b[0m \u001b[0mcomp_int1\u001b[0m\u001b[1;33m(\u001b[0m\u001b[0mP\u001b[0m\u001b[1;33m,\u001b[0m \u001b[0mi\u001b[0m\u001b[1;33m,\u001b[0m \u001b[0mns\u001b[0m\u001b[1;33m)\u001b[0m\u001b[1;33m:\u001b[0m\u001b[1;33m\u001b[0m\u001b[1;33m\u001b[0m\u001b[0m\n\u001b[0;32m      2\u001b[0m     \u001b[0mI\u001b[0m \u001b[1;33m=\u001b[0m \u001b[1;33m[\u001b[0m\u001b[1;33m]\u001b[0m\u001b[1;33m\u001b[0m\u001b[1;33m\u001b[0m\u001b[0m\n\u001b[1;32m----> 3\u001b[1;33m     \u001b[1;32mfor\u001b[0m \u001b[0mn\u001b[0m \u001b[1;32min\u001b[0m \u001b[0mns\u001b[0m\u001b[1;33m:\u001b[0m\u001b[1;33m\u001b[0m\u001b[1;33m\u001b[0m\u001b[0m\n\u001b[0m\u001b[0;32m      4\u001b[0m         \u001b[0mI\u001b[0m \u001b[1;33m=\u001b[0m \u001b[0mI\u001b[0m \u001b[1;33m+\u001b[0m \u001b[1;33m[\u001b[0m\u001b[0mP\u001b[0m\u001b[1;33m*\u001b[0m\u001b[1;33m(\u001b[0m\u001b[1;36m1\u001b[0m\u001b[1;33m+\u001b[0m\u001b[0mi\u001b[0m\u001b[1;33m)\u001b[0m\u001b[1;33m**\u001b[0m\u001b[0mn\u001b[0m\u001b[1;33m-\u001b[0m\u001b[0mP\u001b[0m\u001b[1;33m]\u001b[0m\u001b[1;33m\u001b[0m\u001b[1;33m\u001b[0m\u001b[0m\n\u001b[0;32m      5\u001b[0m     \u001b[1;32mreturn\u001b[0m \u001b[0mI\u001b[0m\u001b[1;33m\u001b[0m\u001b[1;33m\u001b[0m\u001b[0m\n",
      "\u001b[1;31mTypeError\u001b[0m: 'int' object is not iterable"
     ]
    }
   ],
   "source": [
    "Int = comp_int1(P,i,10)"
   ]
  },
  {
   "cell_type": "markdown",
   "id": "e6f05492",
   "metadata": {},
   "source": [
    "## 5.4.2 가변 인자(Variable-Length Argument)"
   ]
  },
  {
   "cell_type": "code",
   "execution_count": 14,
   "id": "db7be593",
   "metadata": {
    "ExecuteTime": {
     "end_time": "2022-02-05T12:23:11.744018Z",
     "start_time": "2022-02-05T12:23:11.736018Z"
    }
   },
   "outputs": [],
   "source": [
    "def comp_int2(P, i, *ns):\n",
    "    I = []\n",
    "    for n in ns:\n",
    "        I = I + [P*(1+i)**n-P]\n",
    "    return I\n",
    "#변수 앞에 *를 붙이면 가변적인 개수의 입력인자를 허용하는 가변 매개변수로 만들 수 있다."
   ]
  },
  {
   "cell_type": "code",
   "execution_count": 15,
   "id": "b73d86ab",
   "metadata": {
    "ExecuteTime": {
     "end_time": "2022-02-05T12:23:12.327935Z",
     "start_time": "2022-02-05T12:23:12.314428Z"
    }
   },
   "outputs": [
    {
     "name": "stdout",
     "output_type": "stream",
     "text": [
      "interest = [62.889462677744206, 165.3297705144422]\n"
     ]
    }
   ],
   "source": [
    "Int = comp_int2(P, i, 10, 20)\n",
    "print('interest =', Int)"
   ]
  },
  {
   "cell_type": "code",
   "execution_count": 16,
   "id": "b6fcb3a3",
   "metadata": {
    "ExecuteTime": {
     "end_time": "2022-02-05T12:23:12.636194Z",
     "start_time": "2022-02-05T12:23:12.623220Z"
    }
   },
   "outputs": [
    {
     "name": "stdout",
     "output_type": "stream",
     "text": [
      "interest = [62.889462677744206]\n"
     ]
    }
   ],
   "source": [
    "Int = comp_int2(P, i, 10)\n",
    "print('interest =', Int)"
   ]
  }
 ],
 "metadata": {
  "kernelspec": {
   "display_name": "Python 3 (ipykernel)",
   "language": "python",
   "name": "python3"
  },
  "language_info": {
   "codemirror_mode": {
    "name": "ipython",
    "version": 3
   },
   "file_extension": ".py",
   "mimetype": "text/x-python",
   "name": "python",
   "nbconvert_exporter": "python",
   "pygments_lexer": "ipython3",
   "version": "3.9.7"
  },
  "toc": {
   "base_numbering": 1,
   "nav_menu": {},
   "number_sections": true,
   "sideBar": true,
   "skip_h1_title": false,
   "title_cell": "Table of Contents",
   "title_sidebar": "Contents",
   "toc_cell": false,
   "toc_position": {},
   "toc_section_display": true,
   "toc_window_display": false
  }
 },
 "nbformat": 4,
 "nbformat_minor": 5
}
