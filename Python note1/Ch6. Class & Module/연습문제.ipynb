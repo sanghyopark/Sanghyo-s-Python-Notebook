{
 "cells": [
  {
   "cell_type": "markdown",
   "id": "68b7349e",
   "metadata": {},
   "source": [
    "# 1. Class"
   ]
  },
  {
   "cell_type": "code",
   "execution_count": 1,
   "id": "1d0cad10",
   "metadata": {
    "ExecuteTime": {
     "end_time": "2022-02-09T06:57:15.987689Z",
     "start_time": "2022-02-09T06:57:15.973186Z"
    }
   },
   "outputs": [],
   "source": [
    "#(a)\n",
    "class Customer:\n",
    "    def __init__(self, 이름, 잔고):\n",
    "        self.name = 이름\n",
    "        self.balance = 잔고\n",
    "        \n",
    "    \n",
    "    def deposit(self, amount):\n",
    "        self.balance += amount\n",
    "        return self.balance\n",
    "    \n",
    "    def withdraw(self, amount):\n",
    "        done = False\n",
    "        if amount > self.balance:\n",
    "            print(\"You can't withdraw {amout} > {self.blance}!\")\n",
    "        else:\n",
    "            self.balance -= amount\n",
    "            done = True\n",
    "        return done"
   ]
  },
  {
   "cell_type": "code",
   "execution_count": 2,
   "id": "5833f452",
   "metadata": {
    "ExecuteTime": {
     "end_time": "2022-02-09T06:57:30.605810Z",
     "start_time": "2022-02-09T06:57:30.588808Z"
    }
   },
   "outputs": [],
   "source": [
    "홍길동 = Customer('홍길동', 10000)"
   ]
  },
  {
   "cell_type": "code",
   "execution_count": 3,
   "id": "bbea3221",
   "metadata": {
    "ExecuteTime": {
     "end_time": "2022-02-09T06:57:38.889840Z",
     "start_time": "2022-02-09T06:57:38.874838Z"
    }
   },
   "outputs": [
    {
     "data": {
      "text/plain": [
       "True"
      ]
     },
     "execution_count": 3,
     "metadata": {},
     "output_type": "execute_result"
    }
   ],
   "source": [
    "홍길동.withdraw(2000)"
   ]
  },
  {
   "cell_type": "code",
   "execution_count": 4,
   "id": "54ff8b5f",
   "metadata": {
    "ExecuteTime": {
     "end_time": "2022-02-09T06:57:49.158899Z",
     "start_time": "2022-02-09T06:57:49.154898Z"
    }
   },
   "outputs": [
    {
     "data": {
      "text/plain": [
       "9000"
      ]
     },
     "execution_count": 4,
     "metadata": {},
     "output_type": "execute_result"
    }
   ],
   "source": [
    "홍길동.deposit(1000)"
   ]
  },
  {
   "cell_type": "code",
   "execution_count": 5,
   "id": "92440f0f",
   "metadata": {
    "ExecuteTime": {
     "end_time": "2022-02-09T06:57:54.576072Z",
     "start_time": "2022-02-09T06:57:54.558569Z"
    }
   },
   "outputs": [
    {
     "data": {
      "text/plain": [
       "9000"
      ]
     },
     "execution_count": 5,
     "metadata": {},
     "output_type": "execute_result"
    }
   ],
   "source": [
    "홍길동.balance"
   ]
  },
  {
   "cell_type": "code",
   "execution_count": 6,
   "id": "9f93abe0",
   "metadata": {
    "ExecuteTime": {
     "end_time": "2022-02-09T07:02:21.455651Z",
     "start_time": "2022-02-09T07:02:21.441648Z"
    }
   },
   "outputs": [],
   "source": [
    "#(b)\n",
    "from class_Customer import *\n",
    "\n",
    "class Customer_insurance(Customer):\n",
    "    def __init__(self, 이름, 잔고):\n",
    "        Customer.__init__(self, 이름, 잔고)  # parent class의 __init__() method\n",
    "        self.insurance = [] # child class의 __init__() method에 새 속성 추가\n",
    "        \n",
    "    def buy_insurance(self, 보험, price):\n",
    "        if price > self.balance:\n",
    "            print(\"잔고부족으로 이 보험을 살 수 없습니다!\")\n",
    "        else:\n",
    "            done = self.withdraw(price)\n",
    "            if done: self.insurance.append(보험)\n",
    "        return self.insurance, self.balance"
   ]
  },
  {
   "cell_type": "code",
   "execution_count": 7,
   "id": "a325576e",
   "metadata": {
    "ExecuteTime": {
     "end_time": "2022-02-09T07:03:22.813248Z",
     "start_time": "2022-02-09T07:03:22.808247Z"
    }
   },
   "outputs": [],
   "source": [
    "홍길동 = Customer_insurance('홍길동', 10000)"
   ]
  },
  {
   "cell_type": "code",
   "execution_count": 8,
   "id": "9837bb09",
   "metadata": {
    "ExecuteTime": {
     "end_time": "2022-02-09T07:03:34.449563Z",
     "start_time": "2022-02-09T07:03:34.433060Z"
    }
   },
   "outputs": [
    {
     "data": {
      "text/plain": [
       "True"
      ]
     },
     "execution_count": 8,
     "metadata": {},
     "output_type": "execute_result"
    }
   ],
   "source": [
    "홍길동.withdraw(2000)"
   ]
  },
  {
   "cell_type": "code",
   "execution_count": 9,
   "id": "b28585b6",
   "metadata": {
    "ExecuteTime": {
     "end_time": "2022-02-09T07:03:47.631958Z",
     "start_time": "2022-02-09T07:03:47.618456Z"
    }
   },
   "outputs": [
    {
     "data": {
      "text/plain": [
       "9000"
      ]
     },
     "execution_count": 9,
     "metadata": {},
     "output_type": "execute_result"
    }
   ],
   "source": [
    "홍길동.deposit(1000)"
   ]
  },
  {
   "cell_type": "code",
   "execution_count": 10,
   "id": "34a3b9b9",
   "metadata": {
    "ExecuteTime": {
     "end_time": "2022-02-09T07:04:50.558599Z",
     "start_time": "2022-02-09T07:04:50.541596Z"
    }
   },
   "outputs": [],
   "source": [
    "보험, 잔고 = 홍길동.buy_insurance(\"실손보험\", 1500)"
   ]
  },
  {
   "cell_type": "code",
   "execution_count": 11,
   "id": "bbe3a572",
   "metadata": {
    "ExecuteTime": {
     "end_time": "2022-02-09T07:04:57.682532Z",
     "start_time": "2022-02-09T07:04:57.673530Z"
    }
   },
   "outputs": [
    {
     "data": {
      "text/plain": [
       "['실손보험']"
      ]
     },
     "execution_count": 11,
     "metadata": {},
     "output_type": "execute_result"
    }
   ],
   "source": [
    "홍길동.insurance"
   ]
  },
  {
   "cell_type": "code",
   "execution_count": 12,
   "id": "54d92687",
   "metadata": {
    "ExecuteTime": {
     "end_time": "2022-02-09T07:05:21.054699Z",
     "start_time": "2022-02-09T07:05:21.045698Z"
    }
   },
   "outputs": [
    {
     "name": "stdout",
     "output_type": "stream",
     "text": [
      "홍길동님의 보험: ['실손보험'], 잔고: 7500\n"
     ]
    }
   ],
   "source": [
    "print(f\"홍길동님의 보험: {보험}, 잔고: {잔고}\")"
   ]
  },
  {
   "cell_type": "markdown",
   "id": "b2896e8f",
   "metadata": {},
   "source": [
    "# 2.Operator Overloading"
   ]
  },
  {
   "cell_type": "code",
   "execution_count": 14,
   "id": "9827da93",
   "metadata": {
    "ExecuteTime": {
     "end_time": "2022-02-09T07:13:28.214445Z",
     "start_time": "2022-02-09T07:13:28.205944Z"
    }
   },
   "outputs": [
    {
     "name": "stdout",
     "output_type": "stream",
     "text": [
      "True False True (1, 2)\n"
     ]
    }
   ],
   "source": [
    "from class_Vector2D import *\n",
    "class Vector2D_(Vector2D): #Vector2D class를 parent로\n",
    "    def __eq__(self,other): # == equality operator\n",
    "        return (self.x, self.y) == (other.x, other.y)\n",
    "    \n",
    "    def __gt__(self,other): # > greater than operator\n",
    "        return Vector2D.mag(self) > Vector2D.mag(other)\n",
    "    \n",
    "    def __ge__(self,other): # >= greater than or equal to operator\n",
    "        return Vector2D.mag(self) >= Vector2D.mag(other)\n",
    "    \n",
    "    def __lt__(self,other): # < less than operator\n",
    "        return Vector2D.mag(self) < Vector2D.mag(other)\n",
    "    \n",
    "    def __le__(self,other): # <= less than or equal to operator\n",
    "        return Vector2D.mag(self) <= Vector2D.mag(other)\n",
    "\n",
    "if __name__ == \"__main__\":\n",
    "    v1 = Vector2D_(1,2); v2 = Vector2D_(3,4)\n",
    "    v3 = Vector2D_(2,2); v0 = Vector2D_(0,0)\n",
    "    print(v1 - v2 + v3 == v0, v1 >= v2, v1 < v3, v1)"
   ]
  },
  {
   "cell_type": "markdown",
   "id": "0ce7efb7",
   "metadata": {},
   "source": [
    "# 3. Class의 상속(Inheritance)"
   ]
  },
  {
   "cell_type": "code",
   "execution_count": 213,
   "id": "4103ed9e",
   "metadata": {
    "ExecuteTime": {
     "end_time": "2022-02-09T08:34:34.267070Z",
     "start_time": "2022-02-09T08:34:34.258069Z"
    }
   },
   "outputs": [],
   "source": [
    "class Employee:\n",
    "    def __init__(self, 이름, 전화번호, 연봉):\n",
    "        self.name = 이름; self.tel = 전화번호; self.pay = 연봉\n",
    "    \n",
    "    def set_pay(self, 연봉):\n",
    "        self.pay = 연봉\n",
    "        \n",
    "        \n",
    "class Developer(Employee):\n",
    "    def __init__(self, 이름, 전화번호, 연봉, 전공):\n",
    "        Employee.__init__(self, 이름, 전화번호, 연봉)\n",
    "        self.major = 전공\n",
    "    \n",
    "    \n",
    "class Manager(Employee):\n",
    "    def __init__(self, 이름, 전화번호, 연봉, employees=[]):\n",
    "        Employee.__init__(self, 이름, 전화번호, 연봉)\n",
    "        self.team = employees\n",
    "    \n",
    "    def add_emp(self, employees):\n",
    "        if len(self.team) < 1: self.team.extend(employees)\n",
    "        else:\n",
    "            for emp in employees: self.team.append(emp)\n",
    "    \n",
    "    def subtract_emp(self, employees):\n",
    "        if type(employees) != list: self.team.remove(employees)\n",
    "        else:\n",
    "            for emp in employees:\n",
    "                if emp in self.team: self.team.remove(emp)\n",
    "        \n",
    "    def show_team(self):\n",
    "        emp_names = []\n",
    "        for emp in self.team: emp_names.append(emp.name)\n",
    "        return emp_names"
   ]
  },
  {
   "cell_type": "code",
   "execution_count": 218,
   "id": "f0a41aa5",
   "metadata": {
    "ExecuteTime": {
     "end_time": "2022-02-09T08:34:54.230721Z",
     "start_time": "2022-02-09T08:34:54.226721Z"
    }
   },
   "outputs": [],
   "source": [
    "홍길동 = Developer('홍길동', '010-1234-5678', 5800, 'C')\n",
    "한석봉 = Developer('한석봉', '010-4321-6789', 6100, 'Python')\n",
    "이몽룡 = Developer('이몽룡', '010-4321-7890', 4500, 'R')\n",
    "강감찬 = Manager('강감찬', '010-2345-6789', 7200, [홍길동, 한석봉, 이몽룡])"
   ]
  },
  {
   "cell_type": "code",
   "execution_count": 219,
   "id": "e1125964",
   "metadata": {
    "ExecuteTime": {
     "end_time": "2022-02-09T08:34:54.493241Z",
     "start_time": "2022-02-09T08:34:54.487740Z"
    }
   },
   "outputs": [
    {
     "data": {
      "text/plain": [
       "6400"
      ]
     },
     "execution_count": 219,
     "metadata": {},
     "output_type": "execute_result"
    }
   ],
   "source": [
    "#(a)\n",
    "홍길동.set_pay(6400); 홍길동.pay"
   ]
  },
  {
   "cell_type": "code",
   "execution_count": 220,
   "id": "c790b97b",
   "metadata": {
    "ExecuteTime": {
     "end_time": "2022-02-09T08:34:54.769794Z",
     "start_time": "2022-02-09T08:34:54.766794Z"
    }
   },
   "outputs": [
    {
     "data": {
      "text/plain": [
       "['홍길동', '한석봉']"
      ]
     },
     "execution_count": 220,
     "metadata": {},
     "output_type": "execute_result"
    }
   ],
   "source": [
    "#(b)\n",
    "강감찬.subtract_emp(이몽룡); 강감찬.show_team()"
   ]
  },
  {
   "cell_type": "code",
   "execution_count": 222,
   "id": "2b8e777c",
   "metadata": {
    "ExecuteTime": {
     "end_time": "2022-02-09T08:36:09.860474Z",
     "start_time": "2022-02-09T08:36:09.850472Z"
    }
   },
   "outputs": [
    {
     "data": {
      "text/plain": [
       "12500"
      ]
     },
     "execution_count": 222,
     "metadata": {},
     "output_type": "execute_result"
    }
   ],
   "source": [
    "#(c)\n",
    "n = 0\n",
    "for emp in 강감찬.team:\n",
    "    n += emp.pay\n",
    "n"
   ]
  },
  {
   "cell_type": "markdown",
   "id": "b5aaf6a5",
   "metadata": {},
   "source": [
    "# 6.4 Class의 상속(Inheritance)"
   ]
  },
  {
   "cell_type": "code",
   "execution_count": 223,
   "id": "ff42ba86",
   "metadata": {
    "ExecuteTime": {
     "end_time": "2022-02-09T08:40:42.985991Z",
     "start_time": "2022-02-09T08:40:42.981991Z"
    }
   },
   "outputs": [
    {
     "name": "stdout",
     "output_type": "stream",
     "text": [
      "안녕, 내 이름은 홍길동, 취미는 낚시야.\n",
      "내 전공은 Python이지.\n"
     ]
    }
   ],
   "source": [
    "class Person:\n",
    "    def __init__(self, name, 취미=None, 전공=None, 계급=None):\n",
    "        self.이름 = name; self.취미 = 취미\n",
    "        self.major = 전공; self.rank = 계급\n",
    "        \n",
    "    def greeting(self):\n",
    "        print(f'{self.hi}, 내 이름은 {self.이름}, 취미는 {self.취미}야.')\n",
    "        \n",
    "    hi = '안녕'\n",
    "    \n",
    "\n",
    "class Programmer(Person):\n",
    "    def show_major(self):\n",
    "        print(f'내 전공은 {self.major}이지.')\n",
    "        \n",
    "class Soldier(Person):\n",
    "    def show_rank(self):\n",
    "        print(f'내 계급은 {self.rank}이지.')\n",
    "\n",
    "\n",
    "if __name__ == \"__main__\":\n",
    "    홍길동 = Programmer('홍길동', '낚시', 전공 = 'Python')\n",
    "    홍길동.greeting(); 홍길동.show_major()"
   ]
  },
  {
   "cell_type": "code",
   "execution_count": 224,
   "id": "fa048822",
   "metadata": {
    "ExecuteTime": {
     "end_time": "2022-02-09T08:45:34.510762Z",
     "start_time": "2022-02-09T08:45:34.506761Z"
    }
   },
   "outputs": [
    {
     "name": "stdout",
     "output_type": "stream",
     "text": [
      "안녕, 내 이름은 온달, 취미는 활쏘기야.\n",
      "내 계급은 장군이지.\n"
     ]
    }
   ],
   "source": [
    "#(a)\n",
    "온달 = Soldier('온달', '활쏘기', 계급 = '장군')\n",
    "온달.greeting()\n",
    "온달.show_rank()"
   ]
  },
  {
   "cell_type": "code",
   "execution_count": 225,
   "id": "634b9b8a",
   "metadata": {
    "ExecuteTime": {
     "end_time": "2022-02-09T08:46:54.873543Z",
     "start_time": "2022-02-09T08:46:54.861541Z"
    }
   },
   "outputs": [],
   "source": [
    "#(b)\n",
    "from class_Person import *\n",
    "\n",
    "class Solmer(Soldier, Programmer):\n",
    "    pass"
   ]
  },
  {
   "cell_type": "code",
   "execution_count": 226,
   "id": "310d9aef",
   "metadata": {
    "ExecuteTime": {
     "end_time": "2022-02-09T08:47:51.174267Z",
     "start_time": "2022-02-09T08:47:51.158765Z"
    }
   },
   "outputs": [],
   "source": [
    "강감찬 = Solmer('강감찬', '승마', 계급 = '대장', 전공 = 'Python')"
   ]
  },
  {
   "cell_type": "code",
   "execution_count": 227,
   "id": "0a27b523",
   "metadata": {
    "ExecuteTime": {
     "end_time": "2022-02-09T08:49:13.558577Z",
     "start_time": "2022-02-09T08:49:13.546076Z"
    }
   },
   "outputs": [
    {
     "name": "stdout",
     "output_type": "stream",
     "text": [
      "안녕, 내 이름은 강감찬, 취미는 승마야.\n",
      "내 계급은 대장이지.\n"
     ]
    }
   ],
   "source": [
    "강감찬.greeting(); 강감찬.show_rank()"
   ]
  },
  {
   "cell_type": "code",
   "execution_count": 246,
   "id": "c560310a",
   "metadata": {
    "ExecuteTime": {
     "end_time": "2022-02-09T13:05:18.595494Z",
     "start_time": "2022-02-09T13:05:18.587993Z"
    }
   },
   "outputs": [],
   "source": [
    "#(c)\n",
    "from class_Person import *\n",
    "\n",
    "class Student(Person):\n",
    "    def __init__(self, name, 취미 = None, 학교 = None):\n",
    "        Person.__init__(self, name, 취미)\n",
    "        self.school = 학교\n",
    "        \n",
    "    def show_school(self):\n",
    "        print(f'내 학교는 {self.school}지.')"
   ]
  },
  {
   "cell_type": "code",
   "execution_count": 247,
   "id": "4dd4302d",
   "metadata": {
    "ExecuteTime": {
     "end_time": "2022-02-09T13:05:18.917852Z",
     "start_time": "2022-02-09T13:05:18.911351Z"
    }
   },
   "outputs": [],
   "source": [
    "유라 = Student('유라', 취미 = '노래', 학교 = '중앙대')"
   ]
  },
  {
   "cell_type": "code",
   "execution_count": 248,
   "id": "5bc05a11",
   "metadata": {
    "ExecuteTime": {
     "end_time": "2022-02-09T13:05:19.241221Z",
     "start_time": "2022-02-09T13:05:19.224215Z"
    }
   },
   "outputs": [
    {
     "name": "stdout",
     "output_type": "stream",
     "text": [
      "안녕, 내 이름은 유라, 취미는 노래야.\n",
      "내 학교는 중앙대지.\n"
     ]
    }
   ],
   "source": [
    "유라.greeting(); 유라.show_school()"
   ]
  },
  {
   "cell_type": "markdown",
   "id": "27201ff1",
   "metadata": {},
   "source": [
    "# 6.5 Class를 사용한 BST (Binary Search Tree) Data Structure 구현"
   ]
  },
  {
   "cell_type": "code",
   "execution_count": 249,
   "id": "6bfa0a88",
   "metadata": {
    "ExecuteTime": {
     "end_time": "2022-02-09T13:09:35.445490Z",
     "start_time": "2022-02-09T13:09:35.435488Z"
    }
   },
   "outputs": [],
   "source": [
    "class Tree:\n",
    "    def __init__(self, x, L=None):\n",
    "        self.val = x\n",
    "        self.children = L\n",
    "        \n",
    "def show(node, depth = 0):\n",
    "    if node is not None:\n",
    "        print(f'{node.val:10s} - ', end = '')\n",
    "        if node.children is not None:\n",
    "            show(node.children[0], depth+1)\n",
    "            for i in range(1,len(node.children)):\n",
    "                print('\\n' + ' '*(15*(depth + 1) - 3) + '- ', end='')\n",
    "                show(node.children[i], depth+1)"
   ]
  },
  {
   "cell_type": "code",
   "execution_count": 250,
   "id": "c343782f",
   "metadata": {
    "ExecuteTime": {
     "end_time": "2022-02-09T13:29:43.855973Z",
     "start_time": "2022-02-09T13:29:43.847472Z"
    }
   },
   "outputs": [
    {
     "name": "stdout",
     "output_type": "stream",
     "text": [
      "나          - 자식1        - 손주1        - \n",
      "                           - 손주2        - \n",
      "                           - 손주3        - \n",
      "            - 자식2        - 손주4        - \n",
      "                           - 손주5        - "
     ]
    }
   ],
   "source": [
    "g1 = Tree('손주1'); g2 = Tree('손주2'); g3 = Tree('손주3')\n",
    "g4 = Tree('손주4'); g5 = Tree('손주5')\n",
    "c1 = Tree('자식1', [g1, g2, g3]); c2 = Tree('자식2', [g4 ,g5])\n",
    "나 = Tree('나', [c1, c2])\n",
    "show(나)"
   ]
  },
  {
   "cell_type": "markdown",
   "id": "8705809f",
   "metadata": {},
   "source": [
    "# 6.6 Class를 사용한 BST (Binary Search Tree) Data Structure 구현"
   ]
  },
  {
   "cell_type": "code",
   "execution_count": 255,
   "id": "789b94d4",
   "metadata": {
    "ExecuteTime": {
     "end_time": "2022-02-09T13:45:15.436884Z",
     "start_time": "2022-02-09T13:45:15.419381Z"
    }
   },
   "outputs": [],
   "source": [
    "class BSTnode:\n",
    "    def __init__(self, x):\n",
    "        self.val = x\n",
    "        self.left = None\n",
    "        self.right = None\n",
    "\n",
    "def BST_from_list(Lnum):\n",
    "    if not Lnum: return None\n",
    "    Lnum.sort()\n",
    "    mid_val = len(Lnum)//2\n",
    "    node = BSTnode(Lnum[mid_val])\n",
    "    node.left = BST_from_list(Lnum[:mid_val])\n",
    "    node.right = BST_from_list(Lnum[mid_val+1:])\n",
    "    return node\n",
    "\n",
    "def show(node, depth=0):\n",
    "    if node is not None:\n",
    "        print(f'{node.val:3d} - ', end='')\n",
    "        show(node.left, depth+1)\n",
    "        if node.right is not None:\n",
    "            print('\\n' + ' '*(6*(depth+1)-2) + '- ', end='')\n",
    "        show(node.right, depth+1)"
   ]
  },
  {
   "cell_type": "code",
   "execution_count": 256,
   "id": "b8e9aa8a",
   "metadata": {
    "ExecuteTime": {
     "end_time": "2022-02-09T13:45:15.929370Z",
     "start_time": "2022-02-09T13:45:15.922369Z"
    }
   },
   "outputs": [],
   "source": [
    "import random\n",
    "Lnum = list(range(1,8))\n",
    "random.shuffle(Lnum)"
   ]
  },
  {
   "cell_type": "code",
   "execution_count": 257,
   "id": "9dff23ce",
   "metadata": {
    "ExecuteTime": {
     "end_time": "2022-02-09T13:45:16.236518Z",
     "start_time": "2022-02-09T13:45:16.224515Z"
    }
   },
   "outputs": [
    {
     "name": "stdout",
     "output_type": "stream",
     "text": [
      "  4 -   2 -   1 - \n",
      "          -   3 - \n",
      "    -   6 -   5 - \n",
      "          -   7 - "
     ]
    }
   ],
   "source": [
    "root = BST_from_list(Lnum)\n",
    "show(root)"
   ]
  },
  {
   "cell_type": "markdown",
   "id": "b05a0984",
   "metadata": {},
   "source": [
    "# 6.8 Tkinter module과 Class를 이용한 Animation Program"
   ]
  },
  {
   "cell_type": "code",
   "execution_count": null,
   "id": "a5acd8fd",
   "metadata": {
    "ExecuteTime": {
     "start_time": "2022-02-09T13:57:41.973Z"
    }
   },
   "outputs": [],
   "source": [
    "from tkinter import *\n",
    "\n",
    "class Ball:\n",
    "    def __init__(self, xspeed, yspeed, size, color):\n",
    "        self.shape = canvas.create_oval(10,10,size,size,fill=color)\n",
    "        self.xspeed = xspeed\n",
    "        self.yspeed = yspeed\n",
    "    \n",
    "    def move(self):\n",
    "        canvas.move(self.shape, self.xspeed, self.yspeed)\n",
    "        pos = canvas.coords(self.shape)\n",
    "        if pos[3] >= HEIGHT or pos[1] <= 0:\n",
    "            self.yspeed = -self.yspeed\n",
    "        if pos[2] >= WIDTH or pos[0] <= 0:\n",
    "            self.xspeed = -self.xspeed\n",
    "            \n",
    "WIDTH = 480; HEIGHT = 360\n",
    "win = Tk()\n",
    "win.title(\"Bouncing ball\")\n",
    "canvas = Canvas(win, width = WIDTH, height = HEIGHT)\n",
    "canvas.pack()\n",
    "\n",
    "ball1 = Ball(1, 2, 30, \"red\")\n",
    "ball2 = Ball(2, 1, 50, \"blue\")\n",
    "ball3 = Ball(3, 1, 50, \"blue\")\n",
    "ball4 = Ball(4, 1, 50, \"blue\")\n",
    "ball5 = Ball(5, 1, 50, \"blue\")\n",
    "ball6 = Ball(6, 1, 50, \"blue\")\n",
    "ball7 = Ball(7, 1, 50, \"blue\")\n",
    "while True:\n",
    "    ball1.move(); ball2.move(); ball3.move(); ball4.move(); ball5.move(); ball6.move()\n",
    "    ball7.move()\n",
    "    canvas.update()\n",
    "    canvas.after(10)\n",
    "    \n",
    "win.mainloop()"
   ]
  },
  {
   "cell_type": "code",
   "execution_count": null,
   "id": "d7b4aa62",
   "metadata": {},
   "outputs": [],
   "source": []
  }
 ],
 "metadata": {
  "kernelspec": {
   "display_name": "Python 3 (ipykernel)",
   "language": "python",
   "name": "python3"
  },
  "language_info": {
   "codemirror_mode": {
    "name": "ipython",
    "version": 3
   },
   "file_extension": ".py",
   "mimetype": "text/x-python",
   "name": "python",
   "nbconvert_exporter": "python",
   "pygments_lexer": "ipython3",
   "version": "3.9.7"
  },
  "toc": {
   "base_numbering": 1,
   "nav_menu": {},
   "number_sections": true,
   "sideBar": true,
   "skip_h1_title": false,
   "title_cell": "Table of Contents",
   "title_sidebar": "Contents",
   "toc_cell": false,
   "toc_position": {},
   "toc_section_display": true,
   "toc_window_display": false
  }
 },
 "nbformat": 4,
 "nbformat_minor": 5
}
