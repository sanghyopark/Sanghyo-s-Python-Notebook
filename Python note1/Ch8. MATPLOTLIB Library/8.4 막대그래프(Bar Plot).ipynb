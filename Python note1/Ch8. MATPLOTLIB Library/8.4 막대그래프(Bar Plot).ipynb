{
 "cells": [
  {
   "cell_type": "markdown",
   "id": "09ab77a4",
   "metadata": {},
   "source": [
    "# 8.4 막대그래프(Bar Plot)"
   ]
  },
  {
   "cell_type": "code",
   "execution_count": 7,
   "id": "3ae60b50",
   "metadata": {
    "ExecuteTime": {
     "end_time": "2022-02-13T15:01:59.252041Z",
     "start_time": "2022-02-13T15:01:59.016998Z"
    }
   },
   "outputs": [
    {
     "data": {
      "text/plain": [
       "<function matplotlib.pyplot.show(close=None, block=None)>"
      ]
     },
     "execution_count": 7,
     "metadata": {},
     "output_type": "execute_result"
    },
    {
     "data": {
      "image/png": "[encoded data removed]",
      "text/plain": [
       "<Figure size 720x360 with 4 Axes>"
      ]
     },
     "metadata": {
      "needs_background": "light"
     },
     "output_type": "display_data"
    }
   ],
   "source": [
    "import matplotlib.pyplot as plt\n",
    "import numpy as np\n",
    "\n",
    "fig = plt.figure(tight_layout=True, figsize=(10,5))\n",
    "\n",
    "years = ['14','15','16','17','18','19']\n",
    "x = np.arange(len(years))\n",
    "male = [154697, 146983, 129564, 119782, 96539, 91374]\n",
    "female = [168981, 154012, 134675, 125879, 117386, 106143]\n",
    "\n",
    "plt.subplot(2,2,1)\n",
    "plt.bar(x, male, width=0.2) #연도 x에 대해 male을 막대 폭이 0.2인 막대그래프로 그린다.\n",
    "plt.xticks(x, years) # x축 눈금에 years를 표시한다.\n",
    "\n",
    "plt.subplot(2,2,2)\n",
    "plt.bar(x-0.1, male, width=0.2) #x로 저장된 눈금보다 0.1만큼 좌측에 male을\n",
    "plt.bar(x+0.1, female, width=0.2) #0.1만큼 우측에 female을 배치하여 막대그래프를 그린다.\n",
    "plt.xticks(x,years)\n",
    "\n",
    "plt.subplot(2,2,3)\n",
    "plt.barh(x, male, height=0.5, color='red') #male을 폭이 0.5인 누운 막대그래프를 그린다. \n",
    "plt.barh(x, female, height=0.5, left=male, color='blue')\n",
    "#male을 왼쪽에 두고 막대그래프를 그린다.\n",
    "plt.yticks(x,years) #y축 눈금에 years를 표시한다.\n",
    "\n",
    "plt.subplot(2,2,4)\n",
    "plt.bar(x, male, width=0.5, color='red')\n",
    "plt.bar(x, female, width=0.5, bottom=male, color='blue')\n",
    "#male을 아래에 두고 막대그래프를 그린다.\n",
    "plt.xticks(x,years)\n",
    "\n",
    "plt.show"
   ]
  },
  {
   "cell_type": "code",
   "execution_count": 23,
   "id": "83c9f59f",
   "metadata": {
    "ExecuteTime": {
     "end_time": "2022-02-13T15:16:07.438084Z",
     "start_time": "2022-02-13T15:16:07.275418Z"
    }
   },
   "outputs": [
    {
     "data": {
      "image/png": "[encoded data removed]",
      "text/plain": [
       "<Figure size 864x216 with 2 Axes>"
      ]
     },
     "metadata": {
      "needs_background": "light"
     },
     "output_type": "display_data"
    }
   ],
   "source": [
    "import matplotlib.pyplot as plt\n",
    "import numpy as np\n",
    "\n",
    "years = ['14','15','16','17','18','19']\n",
    "x = np.arange(len(years))\n",
    "male = [154697, 146983, 129564, 119782, 96539, 91374]\n",
    "female = [168981, 154012, 134675, 125879, 117386, 106143]\n",
    "\n",
    "fig, axs = plt.subplots(ncols=2, sharey=True, tight_layout=True, figsize=(12,3))\n",
    "#ncols=2 그래프창을 좌우 2조각으로 나눈다.\n",
    "#sharey=True 그래프들의 y축이 공유되게 한다.\n",
    "\n",
    "axs[0].barh(x, male, height=0.5)\n",
    "#좌우로 나누어진 그래프창의 0번째 조각에다 수평 막대그래프를 그린다.\n",
    "axs[0].set(title='Male')\n",
    "axs[0].invert_xaxis()#이 그래프를 좌우대칭이동시킨다.\n",
    "axs[0].set(yticks=x, yticklabels=years)\n",
    "#y축에 x값을 표시값은 years로 나타낸다.\n",
    "axs[0].yaxis.tick_right()\n",
    "#y축 눈금값을 오른쪽에 배치한다.\n",
    "\n",
    "axs[1].barh(x, female, height=0.5)\n",
    "axs[1].set(title='Female')\n",
    "\n",
    "plt.show()"
   ]
  },
  {
   "cell_type": "markdown",
   "id": "aedb2bd7",
   "metadata": {},
   "source": [
    "## (예제8.2) Pyramid(항아리)형 그래프 - 성별 인구분포도"
   ]
  },
  {
   "cell_type": "code",
   "execution_count": 24,
   "id": "cf9aad54",
   "metadata": {
    "ExecuteTime": {
     "end_time": "2022-02-13T15:34:36.231211Z",
     "start_time": "2022-02-13T15:34:36.213707Z"
    }
   },
   "outputs": [
    {
     "ename": "UnboundLocalError",
     "evalue": "local variable 'np' referenced before assignment",
     "output_type": "error",
     "traceback": [
      "\u001b[1;31m---------------------------------------------------------------------------\u001b[0m",
      "\u001b[1;31mUnboundLocalError\u001b[0m                         Traceback (most recent call last)",
      "\u001b[1;32m~\\AppData\\Local\\Temp/ipykernel_9632/562721311.py\u001b[0m in \u001b[0;36m<module>\u001b[1;34m\u001b[0m\n\u001b[0;32m     31\u001b[0m \u001b[0mfemale\u001b[0m \u001b[1;33m=\u001b[0m \u001b[1;33m[\u001b[0m\u001b[1;36m168981\u001b[0m\u001b[1;33m,\u001b[0m \u001b[1;36m154012\u001b[0m\u001b[1;33m,\u001b[0m \u001b[1;36m134675\u001b[0m\u001b[1;33m,\u001b[0m \u001b[1;36m125879\u001b[0m\u001b[1;33m,\u001b[0m \u001b[1;36m117386\u001b[0m\u001b[1;33m,\u001b[0m \u001b[1;36m106143\u001b[0m\u001b[1;33m]\u001b[0m\u001b[1;33m\u001b[0m\u001b[1;33m\u001b[0m\u001b[0m\n\u001b[0;32m     32\u001b[0m \u001b[0mx12\u001b[0m \u001b[1;33m=\u001b[0m \u001b[0mnp\u001b[0m\u001b[1;33m.\u001b[0m\u001b[0marray\u001b[0m\u001b[1;33m(\u001b[0m\u001b[1;33m[\u001b[0m\u001b[0mmale\u001b[0m\u001b[1;33m,\u001b[0m\u001b[0mfemale\u001b[0m\u001b[1;33m]\u001b[0m\u001b[1;33m)\u001b[0m\u001b[1;33m\u001b[0m\u001b[1;33m\u001b[0m\u001b[0m\n\u001b[1;32m---> 33\u001b[1;33m \u001b[0mpyramid\u001b[0m\u001b[1;33m(\u001b[0m\u001b[0mx12\u001b[0m\u001b[1;33m,\u001b[0m \u001b[0myears\u001b[0m\u001b[1;33m,\u001b[0m \u001b[1;33m[\u001b[0m\u001b[1;34m'Male'\u001b[0m\u001b[1;33m,\u001b[0m\u001b[1;34m'Female'\u001b[0m\u001b[1;33m]\u001b[0m\u001b[1;33m)\u001b[0m\u001b[1;33m\u001b[0m\u001b[1;33m\u001b[0m\u001b[0m\n\u001b[0m\u001b[0;32m     34\u001b[0m \u001b[1;33m\u001b[0m\u001b[0m\n",
      "\u001b[1;32m~\\AppData\\Local\\Temp/ipykernel_9632/562721311.py\u001b[0m in \u001b[0;36mpyramid\u001b[1;34m(x12, xlabels, labels)\u001b[0m\n\u001b[0;32m      4\u001b[0m \u001b[1;32mdef\u001b[0m \u001b[0mpyramid\u001b[0m\u001b[1;33m(\u001b[0m\u001b[0mx12\u001b[0m\u001b[1;33m,\u001b[0m \u001b[0mxlabels\u001b[0m\u001b[1;33m,\u001b[0m \u001b[0mlabels\u001b[0m\u001b[1;33m=\u001b[0m\u001b[1;33m[\u001b[0m\u001b[1;34m'Male'\u001b[0m\u001b[1;33m,\u001b[0m\u001b[1;34m'Female'\u001b[0m\u001b[1;33m]\u001b[0m\u001b[1;33m)\u001b[0m\u001b[1;33m:\u001b[0m\u001b[1;33m\u001b[0m\u001b[1;33m\u001b[0m\u001b[0m\n\u001b[0;32m      5\u001b[0m     \u001b[0mx1\u001b[0m \u001b[1;33m=\u001b[0m \u001b[0mx12\u001b[0m\u001b[1;33m[\u001b[0m\u001b[1;36m0\u001b[0m\u001b[1;33m]\u001b[0m\u001b[1;33m;\u001b[0m \u001b[0mx2\u001b[0m\u001b[1;33m=\u001b[0m\u001b[0mx12\u001b[0m\u001b[1;33m[\u001b[0m\u001b[1;36m1\u001b[0m\u001b[1;33m]\u001b[0m\u001b[1;33m\u001b[0m\u001b[1;33m\u001b[0m\u001b[0m\n\u001b[1;32m----> 6\u001b[1;33m     \u001b[0mys\u001b[0m \u001b[1;33m=\u001b[0m \u001b[0mnp\u001b[0m\u001b[1;33m.\u001b[0m\u001b[0marange\u001b[0m\u001b[1;33m(\u001b[0m\u001b[0mlen\u001b[0m\u001b[1;33m(\u001b[0m\u001b[0mxlabels\u001b[0m\u001b[1;33m)\u001b[0m\u001b[1;33m)\u001b[0m\u001b[1;33m\u001b[0m\u001b[1;33m\u001b[0m\u001b[0m\n\u001b[0m\u001b[0;32m      7\u001b[0m     \u001b[0mx2_\u001b[0m \u001b[1;33m=\u001b[0m \u001b[0mnp\u001b[0m\u001b[1;33m.\u001b[0m\u001b[0mmultiply\u001b[0m\u001b[1;33m(\u001b[0m\u001b[0mx2\u001b[0m\u001b[1;33m,\u001b[0m\u001b[1;33m-\u001b[0m\u001b[1;36m1\u001b[0m\u001b[1;33m)\u001b[0m\u001b[1;33m\u001b[0m\u001b[1;33m\u001b[0m\u001b[0m\n\u001b[0;32m      8\u001b[0m     \u001b[0mmax1\u001b[0m \u001b[1;33m=\u001b[0m \u001b[0mmax\u001b[0m\u001b[1;33m(\u001b[0m\u001b[0mx1\u001b[0m\u001b[1;33m)\u001b[0m\u001b[1;33m;\u001b[0m \u001b[0mmax2\u001b[0m \u001b[1;33m=\u001b[0m \u001b[0mmax\u001b[0m\u001b[1;33m(\u001b[0m\u001b[0mx2\u001b[0m\u001b[1;33m)\u001b[0m\u001b[1;33m\u001b[0m\u001b[1;33m\u001b[0m\u001b[0m\n",
      "\u001b[1;31mUnboundLocalError\u001b[0m: local variable 'np' referenced before assignment"
     ]
    }
   ],
   "source": [
    "import matplotlib.pyplot as plt\n",
    "import numpy as np\n",
    "\n",
    "def pyramid(x12, xlabels, labels=['Male','Female']):\n",
    "    x1 = x12[0]; x2=x12[1]\n",
    "    ys = np.arange(len(xlabels))\n",
    "    x2_ = np.multiply(x2,-1)\n",
    "    max1 = max(x1); max2 = max(x2)\n",
    "    xd = xd_tick(max(max1,max2))\n",
    "    ns1 = np.arange(0,max1,xd)\n",
    "    ns2 = np.arange(xd,max2,xd)\n",
    "    np = list(np.multiply(ns2,-1)) + list(ns1)\n",
    "    ns.sort()\n",
    "    nlabels = list(map(str,np.abs(ns)))\n",
    "    \n",
    "    fig = plt.figure(tight_layout=True)\n",
    "    plt.barh(ys,x1, height=0.5, label=labels[0])\n",
    "    plt.yticks(ticks=ys, labels=xlabels)\n",
    "    plt.barh(hs,x2_, height=0.5, label=labels[1])\n",
    "    plt.xticks(ticks=ns, labels=nlabels)\n",
    "    plt.legend()\n",
    "    plt.show()\n",
    "    \n",
    "def xd_tick(xmax):\n",
    "    N=3\n",
    "    dmin = pow(10,np.floor(np.log10(xmax/N+1)))\n",
    "    return int(np.ceil(xmax/(N+1)/dmin)*dmin)\n",
    "\n",
    "years = ['14','15','16','17','18','19']\n",
    "male = [154697, 146983, 129564, 119782, 96539, 91374]\n",
    "female = [168981, 154012, 134675, 125879, 117386, 106143]\n",
    "x12 = np.array([male,female])\n",
    "pyramid(x12, years, ['Male','Female'])\n",
    "    "
   ]
  },
  {
   "cell_type": "code",
   "execution_count": null,
   "id": "7f3c601e",
   "metadata": {},
   "outputs": [],
   "source": []
  }
 ],
 "metadata": {
  "kernelspec": {
   "display_name": "Python 3 (ipykernel)",
   "language": "python",
   "name": "python3"
  },
  "language_info": {
   "codemirror_mode": {
    "name": "ipython",
    "version": 3
   },
   "file_extension": ".py",
   "mimetype": "text/x-python",
   "name": "python",
   "nbconvert_exporter": "python",
   "pygments_lexer": "ipython3",
   "version": "3.9.7"
  },
  "toc": {
   "base_numbering": 1,
   "nav_menu": {},
   "number_sections": true,
   "sideBar": true,
   "skip_h1_title": false,
   "title_cell": "Table of Contents",
   "title_sidebar": "Contents",
   "toc_cell": false,
   "toc_position": {},
   "toc_section_display": true,
   "toc_window_display": false
  }
 },
 "nbformat": 4,
 "nbformat_minor": 5
}
