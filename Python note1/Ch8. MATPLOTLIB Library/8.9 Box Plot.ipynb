{
 "cells": [
  {
   "cell_type": "markdown",
   "id": "84c84b0d",
   "metadata": {},
   "source": [
    "# 8.9 Box Plot"
   ]
  },
  {
   "cell_type": "code",
   "execution_count": 1,
   "id": "af037f51",
   "metadata": {
    "ExecuteTime": {
     "end_time": "2022-02-13T17:42:54.010406Z",
     "start_time": "2022-02-13T17:42:53.672154Z"
    }
   },
   "outputs": [
    {
     "data": {
      "text/plain": [
       "<function matplotlib.pyplot.show(close=None, block=None)>"
      ]
     },
     "execution_count": 1,
     "metadata": {},
     "output_type": "execute_result"
    },
    {
     "data": {
      "image/png": "[encoded data removed]",
      "text/plain": [
       "<Figure size 432x288 with 1 Axes>"
      ]
     },
     "metadata": {
      "needs_background": "light"
     },
     "output_type": "display_data"
    }
   ],
   "source": [
    "import matplotlib.pyplot as plt\n",
    "\n",
    "g = [65,67,68,68,68,69,69,69,69,70,70,70,70,70,71,71,71,71.5,74]\n",
    "g1 = [66,66,67,67,68,68,68,69,69,69,69,70,70,70,70,71,71,71,72,72]\n",
    "\n",
    "plt.boxplot([g,g1], vert=False, labels=['g','g1'])\n",
    "# ~.boxplot()함수의 제 0입력인자로 data list g, g1을 하나의 list로 묶어 대입\n",
    "# vert=False: boxplot을 수직방향이 아닌 수평방향으로 플롯\n",
    "# labels=['g','g1']: 각 data list에 대한 label명을 모음\n",
    "plt.grid(True)\n",
    "plt.show"
   ]
  }
 ],
 "metadata": {
  "kernelspec": {
   "display_name": "Python 3 (ipykernel)",
   "language": "python",
   "name": "python3"
  },
  "language_info": {
   "codemirror_mode": {
    "name": "ipython",
    "version": 3
   },
   "file_extension": ".py",
   "mimetype": "text/x-python",
   "name": "python",
   "nbconvert_exporter": "python",
   "pygments_lexer": "ipython3",
   "version": "3.9.7"
  },
  "toc": {
   "base_numbering": 1,
   "nav_menu": {},
   "number_sections": true,
   "sideBar": true,
   "skip_h1_title": false,
   "title_cell": "Table of Contents",
   "title_sidebar": "Contents",
   "toc_cell": false,
   "toc_position": {},
   "toc_section_display": true,
   "toc_window_display": false
  }
 },
 "nbformat": 4,
 "nbformat_minor": 5
}
