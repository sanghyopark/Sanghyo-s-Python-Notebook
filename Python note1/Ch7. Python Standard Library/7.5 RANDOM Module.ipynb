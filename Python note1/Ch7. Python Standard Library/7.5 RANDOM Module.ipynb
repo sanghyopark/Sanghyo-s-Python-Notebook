{
 "cells": [
  {
   "cell_type": "markdown",
   "id": "9ebbd58a",
   "metadata": {},
   "source": [
    "# 7.5 RANDOM Module"
   ]
  },
  {
   "cell_type": "code",
   "execution_count": 1,
   "id": "d700e0ff",
   "metadata": {
    "ExecuteTime": {
     "end_time": "2022-02-11T01:15:49.725947Z",
     "start_time": "2022-02-11T01:15:49.711444Z"
    }
   },
   "outputs": [],
   "source": [
    "import random"
   ]
  },
  {
   "cell_type": "raw",
   "id": "81733985",
   "metadata": {},
   "source": [
    "random.choice(L): 입력으로 받은 list L의 요수들 중 무작위 1개\n",
    "random.choices(L,W,k): 입력으로 받은 list L의 요소들 중 W로 주어진 가중치 비율로 중복을 허용하여 무작위 k개\n",
    "random.randint(a,b): [a,b) 구간에서 무작위 정수값 1개\n",
    "random.random(): [0,1) 구간에서 무작위로 실수값 1개\n",
    "random.randrange(a,b,[,step]): [a:step:b-1] 정수 중에서 무작위로 1개\n",
    "random.sample(L,n): list L의 요소들 중에서 중복없이 무작위로 n개\n",
    "random.shuffle(L): list L의 요소들의 순서를 무작위로 바꿔준다.\n",
    "random.uniform(a,b): [a,b] 구간에서 무작위로 실수값 1개\n",
    "random.triangular(a,b,c): (a,0),(c,?),(d,0)인 삼각형 확률밀도함수를 가진 실수값 1개"
   ]
  },
  {
   "cell_type": "code",
   "execution_count": 31,
   "id": "9e384801",
   "metadata": {
    "ExecuteTime": {
     "end_time": "2022-02-11T01:23:14.743523Z",
     "start_time": "2022-02-11T01:23:14.736022Z"
    }
   },
   "outputs": [
    {
     "name": "stdout",
     "output_type": "stream",
     "text": [
      "['민석', '영희']\n",
      "['철수', '영희']\n"
     ]
    }
   ],
   "source": [
    "import random\n",
    "\n",
    "applicants = ['영희','철수','재석','가희','민석','오성','길동','개똥']\n",
    "K = 2\n",
    "\n",
    "winners = random.sample(applicants, K)\n",
    "print(winners)\n",
    "\n",
    "random.shuffle(applicants)\n",
    "winners1 = applicants[0:K]\n",
    "print(winners1)"
   ]
  },
  {
   "cell_type": "code",
   "execution_count": null,
   "id": "964f6d16",
   "metadata": {},
   "outputs": [],
   "source": []
  }
 ],
 "metadata": {
  "kernelspec": {
   "display_name": "Python 3 (ipykernel)",
   "language": "python",
   "name": "python3"
  },
  "language_info": {
   "codemirror_mode": {
    "name": "ipython",
    "version": 3
   },
   "file_extension": ".py",
   "mimetype": "text/x-python",
   "name": "python",
   "nbconvert_exporter": "python",
   "pygments_lexer": "ipython3",
   "version": "3.9.7"
  },
  "toc": {
   "base_numbering": 1,
   "nav_menu": {},
   "number_sections": true,
   "sideBar": true,
   "skip_h1_title": false,
   "title_cell": "Table of Contents",
   "title_sidebar": "Contents",
   "toc_cell": false,
   "toc_position": {},
   "toc_section_display": true,
   "toc_window_display": false
  }
 },
 "nbformat": 4,
 "nbformat_minor": 5
}
