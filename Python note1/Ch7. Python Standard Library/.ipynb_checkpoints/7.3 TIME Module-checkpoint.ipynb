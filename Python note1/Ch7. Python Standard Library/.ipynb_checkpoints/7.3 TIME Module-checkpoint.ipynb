{
 "cells": [
  {
   "cell_type": "markdown",
   "id": "3c0c82db",
   "metadata": {},
   "source": [
    "# 7.3 TIME Module"
   ]
  },
  {
   "cell_type": "markdown",
   "id": "3accf73a",
   "metadata": {
    "ExecuteTime": {
     "end_time": "2022-02-10T08:01:38.852801Z",
     "start_time": "2022-02-10T08:01:38.844800Z"
    }
   },
   "source": [
    "time.ctime(n): 숫자가 입력인자 n으로 주어지면 epoch으로부터 n초후 time을, 아무입력인자가 주어지지 않으면 현재 time을 시간 문자열로 만들어준다.\n",
    "\n",
    "time.sleep(n): 이 명령을 호출한 thread의 실행을 n초만큼 정지시킨다.\n",
    "\n",
    "time.time(): UTC(세계 협정 표준시) 또는 GMT로 1970년부터 현재까지 지난 시간을 초단위의 실수값으로 반환한다.\n",
    "\n",
    "time.perf_counter(): 임의시점으로부터 경과한 시간을 초 단위로 반환한ek."
   ]
  },
  {
   "cell_type": "code",
   "execution_count": 3,
   "id": "22154d3e",
   "metadata": {
    "ExecuteTime": {
     "end_time": "2022-02-10T08:03:51.500902Z",
     "start_time": "2022-02-10T08:03:51.486400Z"
    }
   },
   "outputs": [],
   "source": [
    "import time"
   ]
  },
  {
   "cell_type": "code",
   "execution_count": 5,
   "id": "c1ea2772",
   "metadata": {
    "ExecuteTime": {
     "end_time": "2022-02-10T08:04:09.768501Z",
     "start_time": "2022-02-10T08:04:09.754999Z"
    }
   },
   "outputs": [
    {
     "data": {
      "text/plain": [
       "1644480249.7555"
      ]
     },
     "execution_count": 5,
     "metadata": {},
     "output_type": "execute_result"
    }
   ],
   "source": [
    "time.time()"
   ]
  },
  {
   "cell_type": "code",
   "execution_count": 6,
   "id": "00c91338",
   "metadata": {
    "ExecuteTime": {
     "end_time": "2022-02-10T08:04:10.032047Z",
     "start_time": "2022-02-10T08:04:10.028047Z"
    }
   },
   "outputs": [
    {
     "data": {
      "text/plain": [
       "'Thu Feb 10 17:04:10 2022'"
      ]
     },
     "execution_count": 6,
     "metadata": {},
     "output_type": "execute_result"
    }
   ],
   "source": [
    "time.ctime()"
   ]
  },
  {
   "cell_type": "code",
   "execution_count": 7,
   "id": "09d0e4b1",
   "metadata": {
    "ExecuteTime": {
     "end_time": "2022-02-10T10:46:28.168241Z",
     "start_time": "2022-02-10T10:46:25.621574Z"
    }
   },
   "outputs": [
    {
     "name": "stdout",
     "output_type": "stream",
     "text": [
      "0\n",
      "1\n",
      "2\n",
      "3\n",
      "4\n",
      "2.5299868999991304\n"
     ]
    }
   ],
   "source": [
    "import time\n",
    "start = time.perf_counter() # 다음 행부터 작업이 시작되는 시점\n",
    "for i in range(5):\n",
    "    print(i)\n",
    "    time.sleep(0.5)\n",
    "end = time.perf_counter() # 바로 전 행까지 작업이 끝난 시점\n",
    "run_time = end - start\n",
    "print(run_time)"
   ]
  }
 ],
 "metadata": {
  "kernelspec": {
   "display_name": "Python 3 (ipykernel)",
   "language": "python",
   "name": "python3"
  },
  "language_info": {
   "codemirror_mode": {
    "name": "ipython",
    "version": 3
   },
   "file_extension": ".py",
   "mimetype": "text/x-python",
   "name": "python",
   "nbconvert_exporter": "python",
   "pygments_lexer": "ipython3",
   "version": "3.9.7"
  },
  "toc": {
   "base_numbering": 1,
   "nav_menu": {},
   "number_sections": true,
   "sideBar": true,
   "skip_h1_title": false,
   "title_cell": "Table of Contents",
   "title_sidebar": "Contents",
   "toc_cell": false,
   "toc_position": {},
   "toc_section_display": true,
   "toc_window_display": false
  }
 },
 "nbformat": 4,
 "nbformat_minor": 5
}
