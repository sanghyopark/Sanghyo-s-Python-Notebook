{
 "cells": [
  {
   "cell_type": "markdown",
   "id": "85b0fa63",
   "metadata": {},
   "source": [
    "# 7.2 SYS Module"
   ]
  },
  {
   "cell_type": "raw",
   "id": "c6dd6384",
   "metadata": {},
   "source": [
    "sys module은 Python 실행 환경을 다루는 데 사용되는 함수/명령어/변수들을 갖고 있다."
   ]
  },
  {
   "cell_type": "markdown",
   "id": "3e17898f",
   "metadata": {},
   "source": [
    "## 7.2.1 sys.argv: 명령행에서 입력인자 전달하기"
   ]
  },
  {
   "cell_type": "raw",
   "id": "984d8189",
   "metadata": {},
   "source": [
    "sys.argv는 Window명령창이나 PowerShell에서 Python 명령어를 사용하여 Python path에 저장된 파일을 실행시킬 때 그 인자들을 전달받는 용도로 사용된다."
   ]
  },
  {
   "cell_type": "code",
   "execution_count": 1,
   "id": "8c5e862e",
   "metadata": {
    "ExecuteTime": {
     "end_time": "2022-02-10T07:51:08.290184Z",
     "start_time": "2022-02-10T07:51:08.282683Z"
    }
   },
   "outputs": [
    {
     "name": "stdout",
     "output_type": "stream",
     "text": [
      "['C:\\\\Users\\\\shpar\\\\anaconda3\\\\lib\\\\site-packages\\\\ipykernel_launcher.py', '-f', 'C:\\\\Users\\\\shpar\\\\AppData\\\\Roaming\\\\jupyter\\\\runtime\\\\kernel-40084b51-12a4-4adb-aa0d-12375854872f.json']\n"
     ]
    }
   ],
   "source": [
    "#test_args.py\n",
    "import sys\n",
    "print(sys.argv)"
   ]
  },
  {
   "cell_type": "markdown",
   "id": "793dd4c9",
   "metadata": {},
   "source": [
    "## 7.2.2 sys.exit: 강제로 Script 종료하기"
   ]
  },
  {
   "cell_type": "markdown",
   "id": "d7e06fd5",
   "metadata": {},
   "source": [
    "sys.exit()는 한 script 내에서 무조건 그 program을 정상적으로 종료시킨다. 이에비해 assert문은 그 조건이 만족되지 않은 경우에만 오류메시지를 발령하며 program을 비정상적으로 종료시킨다."
   ]
  },
  {
   "cell_type": "markdown",
   "id": "bcefeaea",
   "metadata": {},
   "source": [
    "## 7.2.3 sys.path: Python 경로(Path) 목록보기"
   ]
  },
  {
   "cell_type": "code",
   "execution_count": 3,
   "id": "03a3d26c",
   "metadata": {
    "ExecuteTime": {
     "end_time": "2022-02-10T07:55:54.307293Z",
     "start_time": "2022-02-10T07:55:54.185071Z"
    }
   },
   "outputs": [
    {
     "ename": "TypeError",
     "evalue": "'list' object is not callable",
     "output_type": "error",
     "traceback": [
      "\u001b[1;31m---------------------------------------------------------------------------\u001b[0m",
      "\u001b[1;31mTypeError\u001b[0m                                 Traceback (most recent call last)",
      "\u001b[1;32m~\\AppData\\Local\\Temp/ipykernel_9876/1575241687.py\u001b[0m in \u001b[0;36m<module>\u001b[1;34m\u001b[0m\n\u001b[1;32m----> 1\u001b[1;33m \u001b[0msys\u001b[0m\u001b[1;33m.\u001b[0m\u001b[0mpath\u001b[0m\u001b[1;33m(\u001b[0m\u001b[1;33m)\u001b[0m\u001b[1;33m\u001b[0m\u001b[1;33m\u001b[0m\u001b[0m\n\u001b[0m",
      "\u001b[1;31mTypeError\u001b[0m: 'list' object is not callable"
     ]
    }
   ],
   "source": [
    "sys.path()"
   ]
  },
  {
   "cell_type": "code",
   "execution_count": null,
   "id": "05adfc70",
   "metadata": {},
   "outputs": [],
   "source": []
  }
 ],
 "metadata": {
  "kernelspec": {
   "display_name": "Python 3 (ipykernel)",
   "language": "python",
   "name": "python3"
  },
  "language_info": {
   "codemirror_mode": {
    "name": "ipython",
    "version": 3
   },
   "file_extension": ".py",
   "mimetype": "text/x-python",
   "name": "python",
   "nbconvert_exporter": "python",
   "pygments_lexer": "ipython3",
   "version": "3.9.7"
  },
  "toc": {
   "base_numbering": 1,
   "nav_menu": {},
   "number_sections": true,
   "sideBar": true,
   "skip_h1_title": false,
   "title_cell": "Table of Contents",
   "title_sidebar": "Contents",
   "toc_cell": false,
   "toc_position": {},
   "toc_section_display": true,
   "toc_window_display": false
  }
 },
 "nbformat": 4,
 "nbformat_minor": 5
}
