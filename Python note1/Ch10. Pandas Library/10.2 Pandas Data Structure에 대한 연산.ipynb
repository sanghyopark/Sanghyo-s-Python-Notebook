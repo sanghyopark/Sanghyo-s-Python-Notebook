{
 "cells": [
  {
   "cell_type": "markdown",
   "id": "5c50b997",
   "metadata": {},
   "source": [
    "# 10.2 Pandas Data Structure에 대한 연산"
   ]
  },
  {
   "cell_type": "markdown",
   "id": "520b588f",
   "metadata": {},
   "source": [
    "## 10.2.1 요소(들)의 Type 알아내고 바꾸기 ~.dtypes과 ~.astype()"
   ]
  },
  {
   "cell_type": "code",
   "execution_count": 61,
   "id": "1f0ce510",
   "metadata": {
    "ExecuteTime": {
     "end_time": "2022-02-16T02:08:37.619026Z",
     "start_time": "2022-02-16T02:08:37.613025Z"
    }
   },
   "outputs": [],
   "source": [
    "import pandas as pd\n",
    "import numpy as np"
   ]
  },
  {
   "cell_type": "code",
   "execution_count": 19,
   "id": "f78a9a26",
   "metadata": {
    "ExecuteTime": {
     "end_time": "2022-02-16T01:42:45.442360Z",
     "start_time": "2022-02-16T01:42:45.429995Z"
    }
   },
   "outputs": [],
   "source": [
    "dic1 = {'이름': ['성춘향','이몽룡'],\n",
    "        '보통예금': [2100,2700],\n",
    "        '저축예금': [3400,4600]}"
   ]
  },
  {
   "cell_type": "code",
   "execution_count": 20,
   "id": "0f9d696a",
   "metadata": {
    "ExecuteTime": {
     "end_time": "2022-02-16T01:42:45.704385Z",
     "start_time": "2022-02-16T01:42:45.690879Z"
    }
   },
   "outputs": [],
   "source": [
    "df1 = pd.DataFrame(dic1,index=[1012,1010])"
   ]
  },
  {
   "cell_type": "code",
   "execution_count": 21,
   "id": "450aa479",
   "metadata": {
    "ExecuteTime": {
     "end_time": "2022-02-16T01:42:45.874659Z",
     "start_time": "2022-02-16T01:42:45.855652Z"
    }
   },
   "outputs": [
    {
     "data": {
      "text/html": [
       "<div>\n",
       "<style scoped>\n",
       "    .dataframe tbody tr th:only-of-type {\n",
       "        vertical-align: middle;\n",
       "    }\n",
       "\n",
       "    .dataframe tbody tr th {\n",
       "        vertical-align: top;\n",
       "    }\n",
       "\n",
       "    .dataframe thead th {\n",
       "        text-align: right;\n",
       "    }\n",
       "</style>\n",
       "<table border=\"1\" class=\"dataframe\">\n",
       "  <thead>\n",
       "    <tr style=\"text-align: right;\">\n",
       "      <th></th>\n",
       "      <th>이름</th>\n",
       "      <th>보통예금</th>\n",
       "      <th>저축예금</th>\n",
       "    </tr>\n",
       "  </thead>\n",
       "  <tbody>\n",
       "    <tr>\n",
       "      <th>1012</th>\n",
       "      <td>성춘향</td>\n",
       "      <td>2100</td>\n",
       "      <td>3400</td>\n",
       "    </tr>\n",
       "    <tr>\n",
       "      <th>1010</th>\n",
       "      <td>이몽룡</td>\n",
       "      <td>2700</td>\n",
       "      <td>4600</td>\n",
       "    </tr>\n",
       "  </tbody>\n",
       "</table>\n",
       "</div>"
      ],
      "text/plain": [
       "       이름  보통예금  저축예금\n",
       "1012  성춘향  2100  3400\n",
       "1010  이몽룡  2700  4600"
      ]
     },
     "execution_count": 21,
     "metadata": {},
     "output_type": "execute_result"
    }
   ],
   "source": [
    "df1"
   ]
  },
  {
   "cell_type": "code",
   "execution_count": 22,
   "id": "db920455",
   "metadata": {
    "ExecuteTime": {
     "end_time": "2022-02-16T01:42:46.013300Z",
     "start_time": "2022-02-16T01:42:45.998794Z"
    }
   },
   "outputs": [
    {
     "data": {
      "text/plain": [
       "이름      object\n",
       "보통예금     int64\n",
       "저축예금     int64\n",
       "dtype: object"
      ]
     },
     "execution_count": 22,
     "metadata": {},
     "output_type": "execute_result"
    }
   ],
   "source": [
    "df1.dtypes"
   ]
  },
  {
   "cell_type": "code",
   "execution_count": 23,
   "id": "cfc22605",
   "metadata": {
    "ExecuteTime": {
     "end_time": "2022-02-16T01:42:46.136794Z",
     "start_time": "2022-02-16T01:42:46.129293Z"
    }
   },
   "outputs": [],
   "source": [
    "df1[['보통예금','저축예금']] = df1[['보통예금','저축예금']].astype(float)"
   ]
  },
  {
   "cell_type": "code",
   "execution_count": 24,
   "id": "1ed291ea",
   "metadata": {
    "ExecuteTime": {
     "end_time": "2022-02-16T01:42:46.259792Z",
     "start_time": "2022-02-16T01:42:46.249787Z"
    }
   },
   "outputs": [
    {
     "data": {
      "text/plain": [
       "이름       object\n",
       "보통예금    float64\n",
       "저축예금    float64\n",
       "dtype: object"
      ]
     },
     "execution_count": 24,
     "metadata": {},
     "output_type": "execute_result"
    }
   ],
   "source": [
    "df1.dtypes"
   ]
  },
  {
   "cell_type": "code",
   "execution_count": 25,
   "id": "20535854",
   "metadata": {
    "ExecuteTime": {
     "end_time": "2022-02-16T01:42:46.383402Z",
     "start_time": "2022-02-16T01:42:46.370841Z"
    }
   },
   "outputs": [
    {
     "data": {
      "text/html": [
       "<div>\n",
       "<style scoped>\n",
       "    .dataframe tbody tr th:only-of-type {\n",
       "        vertical-align: middle;\n",
       "    }\n",
       "\n",
       "    .dataframe tbody tr th {\n",
       "        vertical-align: top;\n",
       "    }\n",
       "\n",
       "    .dataframe thead th {\n",
       "        text-align: right;\n",
       "    }\n",
       "</style>\n",
       "<table border=\"1\" class=\"dataframe\">\n",
       "  <thead>\n",
       "    <tr style=\"text-align: right;\">\n",
       "      <th></th>\n",
       "      <th>이름</th>\n",
       "      <th>보통예금</th>\n",
       "      <th>저축예금</th>\n",
       "    </tr>\n",
       "  </thead>\n",
       "  <tbody>\n",
       "    <tr>\n",
       "      <th>1012</th>\n",
       "      <td>성춘향</td>\n",
       "      <td>2100.0</td>\n",
       "      <td>3400.0</td>\n",
       "    </tr>\n",
       "    <tr>\n",
       "      <th>1010</th>\n",
       "      <td>이몽룡</td>\n",
       "      <td>2700.0</td>\n",
       "      <td>4600.0</td>\n",
       "    </tr>\n",
       "  </tbody>\n",
       "</table>\n",
       "</div>"
      ],
      "text/plain": [
       "       이름    보통예금    저축예금\n",
       "1012  성춘향  2100.0  3400.0\n",
       "1010  이몽룡  2700.0  4600.0"
      ]
     },
     "execution_count": 25,
     "metadata": {},
     "output_type": "execute_result"
    }
   ],
   "source": [
    "df1"
   ]
  },
  {
   "cell_type": "markdown",
   "id": "4fc1d5ff",
   "metadata": {},
   "source": [
    "## 10.2.2 요소(들)의 포함 여부 판별 ~.isin(), ~.str.find()"
   ]
  },
  {
   "cell_type": "code",
   "execution_count": 26,
   "id": "7d887d6c",
   "metadata": {
    "ExecuteTime": {
     "end_time": "2022-02-16T01:43:54.628964Z",
     "start_time": "2022-02-16T01:43:54.625463Z"
    }
   },
   "outputs": [
    {
     "data": {
      "text/plain": [
       "array([False, False])"
      ]
     },
     "execution_count": 26,
     "metadata": {},
     "output_type": "execute_result"
    }
   ],
   "source": [
    "df1.index.isin([1011])"
   ]
  },
  {
   "cell_type": "code",
   "execution_count": 27,
   "id": "01d4223a",
   "metadata": {
    "ExecuteTime": {
     "end_time": "2022-02-16T01:44:17.260006Z",
     "start_time": "2022-02-16T01:44:17.254506Z"
    }
   },
   "outputs": [
    {
     "data": {
      "text/plain": [
       "array([False,  True, False])"
      ]
     },
     "execution_count": 27,
     "metadata": {},
     "output_type": "execute_result"
    }
   ],
   "source": [
    "df1.columns.isin(['보통예금','정기예금'])"
   ]
  },
  {
   "cell_type": "code",
   "execution_count": 28,
   "id": "17c369e1",
   "metadata": {
    "ExecuteTime": {
     "end_time": "2022-02-16T01:44:23.379497Z",
     "start_time": "2022-02-16T01:44:23.363995Z"
    }
   },
   "outputs": [
    {
     "data": {
      "text/plain": [
       "array([False,  True,  True])"
      ]
     },
     "execution_count": 28,
     "metadata": {},
     "output_type": "execute_result"
    }
   ],
   "source": [
    "df1.columns.isin(['보통예금','저축예금'])"
   ]
  },
  {
   "cell_type": "code",
   "execution_count": 29,
   "id": "817f6b65",
   "metadata": {
    "ExecuteTime": {
     "end_time": "2022-02-16T01:45:22.288404Z",
     "start_time": "2022-02-16T01:45:22.273902Z"
    }
   },
   "outputs": [
    {
     "data": {
      "text/html": [
       "<div>\n",
       "<style scoped>\n",
       "    .dataframe tbody tr th:only-of-type {\n",
       "        vertical-align: middle;\n",
       "    }\n",
       "\n",
       "    .dataframe tbody tr th {\n",
       "        vertical-align: top;\n",
       "    }\n",
       "\n",
       "    .dataframe thead th {\n",
       "        text-align: right;\n",
       "    }\n",
       "</style>\n",
       "<table border=\"1\" class=\"dataframe\">\n",
       "  <thead>\n",
       "    <tr style=\"text-align: right;\">\n",
       "      <th></th>\n",
       "      <th>이름</th>\n",
       "      <th>보통예금</th>\n",
       "      <th>저축예금</th>\n",
       "    </tr>\n",
       "  </thead>\n",
       "  <tbody>\n",
       "    <tr>\n",
       "      <th>1012</th>\n",
       "      <td>False</td>\n",
       "      <td>False</td>\n",
       "      <td>False</td>\n",
       "    </tr>\n",
       "    <tr>\n",
       "      <th>1010</th>\n",
       "      <td>True</td>\n",
       "      <td>False</td>\n",
       "      <td>False</td>\n",
       "    </tr>\n",
       "  </tbody>\n",
       "</table>\n",
       "</div>"
      ],
      "text/plain": [
       "         이름   보통예금   저축예금\n",
       "1012  False  False  False\n",
       "1010   True  False  False"
      ]
     },
     "execution_count": 29,
     "metadata": {},
     "output_type": "execute_result"
    }
   ],
   "source": [
    "df1.isin({'이름': ['이몽룡','홍길동']})"
   ]
  },
  {
   "cell_type": "code",
   "execution_count": 31,
   "id": "8df3099e",
   "metadata": {
    "ExecuteTime": {
     "end_time": "2022-02-16T01:45:48.223757Z",
     "start_time": "2022-02-16T01:45:48.212257Z"
    }
   },
   "outputs": [
    {
     "data": {
      "text/html": [
       "<div>\n",
       "<style scoped>\n",
       "    .dataframe tbody tr th:only-of-type {\n",
       "        vertical-align: middle;\n",
       "    }\n",
       "\n",
       "    .dataframe tbody tr th {\n",
       "        vertical-align: top;\n",
       "    }\n",
       "\n",
       "    .dataframe thead th {\n",
       "        text-align: right;\n",
       "    }\n",
       "</style>\n",
       "<table border=\"1\" class=\"dataframe\">\n",
       "  <thead>\n",
       "    <tr style=\"text-align: right;\">\n",
       "      <th></th>\n",
       "      <th>이름</th>\n",
       "      <th>보통예금</th>\n",
       "      <th>저축예금</th>\n",
       "    </tr>\n",
       "  </thead>\n",
       "  <tbody>\n",
       "    <tr>\n",
       "      <th>1012</th>\n",
       "      <td>False</td>\n",
       "      <td>False</td>\n",
       "      <td>False</td>\n",
       "    </tr>\n",
       "    <tr>\n",
       "      <th>1010</th>\n",
       "      <td>False</td>\n",
       "      <td>False</td>\n",
       "      <td>False</td>\n",
       "    </tr>\n",
       "  </tbody>\n",
       "</table>\n",
       "</div>"
      ],
      "text/plain": [
       "         이름   보통예금   저축예금\n",
       "1012  False  False  False\n",
       "1010  False  False  False"
      ]
     },
     "execution_count": 31,
     "metadata": {},
     "output_type": "execute_result"
    }
   ],
   "source": [
    "df1.isin({'이름': [2100.0,'홍길동']})"
   ]
  },
  {
   "cell_type": "code",
   "execution_count": 32,
   "id": "3ce8aeeb",
   "metadata": {
    "ExecuteTime": {
     "end_time": "2022-02-16T01:46:16.613589Z",
     "start_time": "2022-02-16T01:46:16.607088Z"
    }
   },
   "outputs": [
    {
     "data": {
      "text/plain": [
       "1012    False\n",
       "1010     True\n",
       "Name: 이름, dtype: bool"
      ]
     },
     "execution_count": 32,
     "metadata": {},
     "output_type": "execute_result"
    }
   ],
   "source": [
    "df1['이름'].isin(['이몽룡','홍길동'])"
   ]
  },
  {
   "cell_type": "code",
   "execution_count": 42,
   "id": "982db566",
   "metadata": {
    "ExecuteTime": {
     "end_time": "2022-02-16T01:48:20.924894Z",
     "start_time": "2022-02-16T01:48:20.915394Z"
    }
   },
   "outputs": [
    {
     "data": {
      "text/plain": [
       "1012   -1\n",
       "1010    0\n",
       "Name: 이름, dtype: int64"
      ]
     },
     "execution_count": 42,
     "metadata": {},
     "output_type": "execute_result"
    }
   ],
   "source": [
    "df1['이름'].str.find('이', 0) #0: searching을 시작하는 문자 위치"
   ]
  },
  {
   "cell_type": "code",
   "execution_count": 43,
   "id": "38659ea6",
   "metadata": {
    "ExecuteTime": {
     "end_time": "2022-02-16T01:48:38.452427Z",
     "start_time": "2022-02-16T01:48:38.434424Z"
    }
   },
   "outputs": [
    {
     "data": {
      "text/plain": [
       "1012   -1\n",
       "1010   -1\n",
       "Name: 이름, dtype: int64"
      ]
     },
     "execution_count": 43,
     "metadata": {},
     "output_type": "execute_result"
    }
   ],
   "source": [
    "df1['이름'].str.find('이', 1)"
   ]
  },
  {
   "cell_type": "code",
   "execution_count": 45,
   "id": "bb0c43d8",
   "metadata": {
    "ExecuteTime": {
     "end_time": "2022-02-16T01:50:48.341528Z",
     "start_time": "2022-02-16T01:50:48.328526Z"
    }
   },
   "outputs": [
    {
     "data": {
      "text/plain": [
       "1012   -1\n",
       "1010    1\n",
       "Name: 이름, dtype: int64"
      ]
     },
     "execution_count": 45,
     "metadata": {},
     "output_type": "execute_result"
    }
   ],
   "source": [
    "df1['이름'].str.find('몽') #시작위치의 default=0"
   ]
  },
  {
   "cell_type": "raw",
   "id": "2751396f",
   "metadata": {},
   "source": [
    "실행결과 중\n",
    "-1: 그 위치에 있는 요소가 검색 문자를 포함하지 않음\n",
    "0이상의 정수: 검색을 시작하는 문자위치로 부터 거리"
   ]
  },
  {
   "cell_type": "code",
   "execution_count": 46,
   "id": "37715b85",
   "metadata": {
    "ExecuteTime": {
     "end_time": "2022-02-16T01:51:03.698658Z",
     "start_time": "2022-02-16T01:51:03.689656Z"
    }
   },
   "outputs": [],
   "source": [
    "df1['이씨'] = df1['이름'].str.find('이', end=1)\n",
    "# end=1 검색을 마무리할 위치 즉 검색범위를 [0:1]로 제한"
   ]
  },
  {
   "cell_type": "code",
   "execution_count": 47,
   "id": "9e186005",
   "metadata": {
    "ExecuteTime": {
     "end_time": "2022-02-16T01:51:08.767519Z",
     "start_time": "2022-02-16T01:51:08.750516Z"
    }
   },
   "outputs": [
    {
     "data": {
      "text/html": [
       "<div>\n",
       "<style scoped>\n",
       "    .dataframe tbody tr th:only-of-type {\n",
       "        vertical-align: middle;\n",
       "    }\n",
       "\n",
       "    .dataframe tbody tr th {\n",
       "        vertical-align: top;\n",
       "    }\n",
       "\n",
       "    .dataframe thead th {\n",
       "        text-align: right;\n",
       "    }\n",
       "</style>\n",
       "<table border=\"1\" class=\"dataframe\">\n",
       "  <thead>\n",
       "    <tr style=\"text-align: right;\">\n",
       "      <th></th>\n",
       "      <th>이름</th>\n",
       "      <th>보통예금</th>\n",
       "      <th>저축예금</th>\n",
       "      <th>이씨</th>\n",
       "    </tr>\n",
       "  </thead>\n",
       "  <tbody>\n",
       "    <tr>\n",
       "      <th>1012</th>\n",
       "      <td>성춘향</td>\n",
       "      <td>2100.0</td>\n",
       "      <td>3400.0</td>\n",
       "      <td>-1</td>\n",
       "    </tr>\n",
       "    <tr>\n",
       "      <th>1010</th>\n",
       "      <td>이몽룡</td>\n",
       "      <td>2700.0</td>\n",
       "      <td>4600.0</td>\n",
       "      <td>0</td>\n",
       "    </tr>\n",
       "  </tbody>\n",
       "</table>\n",
       "</div>"
      ],
      "text/plain": [
       "       이름    보통예금    저축예금  이씨\n",
       "1012  성춘향  2100.0  3400.0  -1\n",
       "1010  이몽룡  2700.0  4600.0   0"
      ]
     },
     "execution_count": 47,
     "metadata": {},
     "output_type": "execute_result"
    }
   ],
   "source": [
    "df1"
   ]
  },
  {
   "cell_type": "markdown",
   "id": "46a75306",
   "metadata": {},
   "source": [
    "## 10.2.3 중복된 data(row) 찾아내고 제거하기 ~.duplicated(), ~.drop_duplicates()"
   ]
  },
  {
   "cell_type": "code",
   "execution_count": 49,
   "id": "28dd9eda",
   "metadata": {
    "ExecuteTime": {
     "end_time": "2022-02-16T01:55:04.587546Z",
     "start_time": "2022-02-16T01:55:04.581044Z"
    }
   },
   "outputs": [],
   "source": [
    "dic2 = {'Flower': ['Rose','Rose','Lily','Lily','Rose','Lily','Rose'],\n",
    "        'Color': ['red','white','white','pink','red','pink','red'],\n",
    "        'Size': ['L','S','S','L','L','L','S']}"
   ]
  },
  {
   "cell_type": "code",
   "execution_count": 50,
   "id": "a86d8957",
   "metadata": {
    "ExecuteTime": {
     "end_time": "2022-02-16T01:55:14.836636Z",
     "start_time": "2022-02-16T01:55:14.816632Z"
    }
   },
   "outputs": [
    {
     "data": {
      "text/html": [
       "<div>\n",
       "<style scoped>\n",
       "    .dataframe tbody tr th:only-of-type {\n",
       "        vertical-align: middle;\n",
       "    }\n",
       "\n",
       "    .dataframe tbody tr th {\n",
       "        vertical-align: top;\n",
       "    }\n",
       "\n",
       "    .dataframe thead th {\n",
       "        text-align: right;\n",
       "    }\n",
       "</style>\n",
       "<table border=\"1\" class=\"dataframe\">\n",
       "  <thead>\n",
       "    <tr style=\"text-align: right;\">\n",
       "      <th></th>\n",
       "      <th>Flower</th>\n",
       "      <th>Color</th>\n",
       "      <th>Size</th>\n",
       "    </tr>\n",
       "  </thead>\n",
       "  <tbody>\n",
       "    <tr>\n",
       "      <th>0</th>\n",
       "      <td>Rose</td>\n",
       "      <td>red</td>\n",
       "      <td>L</td>\n",
       "    </tr>\n",
       "    <tr>\n",
       "      <th>1</th>\n",
       "      <td>Rose</td>\n",
       "      <td>white</td>\n",
       "      <td>S</td>\n",
       "    </tr>\n",
       "    <tr>\n",
       "      <th>2</th>\n",
       "      <td>Lily</td>\n",
       "      <td>white</td>\n",
       "      <td>S</td>\n",
       "    </tr>\n",
       "    <tr>\n",
       "      <th>3</th>\n",
       "      <td>Lily</td>\n",
       "      <td>pink</td>\n",
       "      <td>L</td>\n",
       "    </tr>\n",
       "    <tr>\n",
       "      <th>4</th>\n",
       "      <td>Rose</td>\n",
       "      <td>red</td>\n",
       "      <td>L</td>\n",
       "    </tr>\n",
       "    <tr>\n",
       "      <th>5</th>\n",
       "      <td>Lily</td>\n",
       "      <td>pink</td>\n",
       "      <td>L</td>\n",
       "    </tr>\n",
       "    <tr>\n",
       "      <th>6</th>\n",
       "      <td>Rose</td>\n",
       "      <td>red</td>\n",
       "      <td>S</td>\n",
       "    </tr>\n",
       "  </tbody>\n",
       "</table>\n",
       "</div>"
      ],
      "text/plain": [
       "  Flower  Color Size\n",
       "0   Rose    red    L\n",
       "1   Rose  white    S\n",
       "2   Lily  white    S\n",
       "3   Lily   pink    L\n",
       "4   Rose    red    L\n",
       "5   Lily   pink    L\n",
       "6   Rose    red    S"
      ]
     },
     "execution_count": 50,
     "metadata": {},
     "output_type": "execute_result"
    }
   ],
   "source": [
    "df2 = pd.DataFrame(dic2);df2"
   ]
  },
  {
   "cell_type": "code",
   "execution_count": 51,
   "id": "ef1582b9",
   "metadata": {
    "ExecuteTime": {
     "end_time": "2022-02-16T01:55:45.267906Z",
     "start_time": "2022-02-16T01:55:45.248403Z"
    }
   },
   "outputs": [
    {
     "data": {
      "text/plain": [
       "0    False\n",
       "1    False\n",
       "2    False\n",
       "3    False\n",
       "4     True\n",
       "5     True\n",
       "6    False\n",
       "dtype: bool"
      ]
     },
     "execution_count": 51,
     "metadata": {},
     "output_type": "execute_result"
    }
   ],
   "source": [
    "df2.duplicated() #중복된 row"
   ]
  },
  {
   "cell_type": "raw",
   "id": "0c0afa76",
   "metadata": {},
   "source": [
    "4번째 5번째 row가 그전에 있는 data와 중복됨"
   ]
  },
  {
   "cell_type": "code",
   "execution_count": 52,
   "id": "527b837e",
   "metadata": {
    "ExecuteTime": {
     "end_time": "2022-02-16T01:57:11.469403Z",
     "start_time": "2022-02-16T01:57:11.450899Z"
    }
   },
   "outputs": [
    {
     "data": {
      "text/html": [
       "<div>\n",
       "<style scoped>\n",
       "    .dataframe tbody tr th:only-of-type {\n",
       "        vertical-align: middle;\n",
       "    }\n",
       "\n",
       "    .dataframe tbody tr th {\n",
       "        vertical-align: top;\n",
       "    }\n",
       "\n",
       "    .dataframe thead th {\n",
       "        text-align: right;\n",
       "    }\n",
       "</style>\n",
       "<table border=\"1\" class=\"dataframe\">\n",
       "  <thead>\n",
       "    <tr style=\"text-align: right;\">\n",
       "      <th></th>\n",
       "      <th>Flower</th>\n",
       "      <th>Color</th>\n",
       "      <th>Size</th>\n",
       "    </tr>\n",
       "  </thead>\n",
       "  <tbody>\n",
       "    <tr>\n",
       "      <th>0</th>\n",
       "      <td>Rose</td>\n",
       "      <td>red</td>\n",
       "      <td>L</td>\n",
       "    </tr>\n",
       "    <tr>\n",
       "      <th>1</th>\n",
       "      <td>Rose</td>\n",
       "      <td>white</td>\n",
       "      <td>S</td>\n",
       "    </tr>\n",
       "    <tr>\n",
       "      <th>2</th>\n",
       "      <td>Lily</td>\n",
       "      <td>white</td>\n",
       "      <td>S</td>\n",
       "    </tr>\n",
       "    <tr>\n",
       "      <th>3</th>\n",
       "      <td>Lily</td>\n",
       "      <td>pink</td>\n",
       "      <td>L</td>\n",
       "    </tr>\n",
       "    <tr>\n",
       "      <th>6</th>\n",
       "      <td>Rose</td>\n",
       "      <td>red</td>\n",
       "      <td>S</td>\n",
       "    </tr>\n",
       "  </tbody>\n",
       "</table>\n",
       "</div>"
      ],
      "text/plain": [
       "  Flower  Color Size\n",
       "0   Rose    red    L\n",
       "1   Rose  white    S\n",
       "2   Lily  white    S\n",
       "3   Lily   pink    L\n",
       "6   Rose    red    S"
      ]
     },
     "execution_count": 52,
     "metadata": {},
     "output_type": "execute_result"
    }
   ],
   "source": [
    "df2.drop_duplicates()"
   ]
  },
  {
   "cell_type": "code",
   "execution_count": 54,
   "id": "b3817c15",
   "metadata": {
    "ExecuteTime": {
     "end_time": "2022-02-16T01:58:14.583531Z",
     "start_time": "2022-02-16T01:58:14.574530Z"
    }
   },
   "outputs": [
    {
     "data": {
      "text/html": [
       "<div>\n",
       "<style scoped>\n",
       "    .dataframe tbody tr th:only-of-type {\n",
       "        vertical-align: middle;\n",
       "    }\n",
       "\n",
       "    .dataframe tbody tr th {\n",
       "        vertical-align: top;\n",
       "    }\n",
       "\n",
       "    .dataframe thead th {\n",
       "        text-align: right;\n",
       "    }\n",
       "</style>\n",
       "<table border=\"1\" class=\"dataframe\">\n",
       "  <thead>\n",
       "    <tr style=\"text-align: right;\">\n",
       "      <th></th>\n",
       "      <th>Flower</th>\n",
       "      <th>Color</th>\n",
       "      <th>Size</th>\n",
       "    </tr>\n",
       "  </thead>\n",
       "  <tbody>\n",
       "    <tr>\n",
       "      <th>0</th>\n",
       "      <td>Rose</td>\n",
       "      <td>red</td>\n",
       "      <td>L</td>\n",
       "    </tr>\n",
       "    <tr>\n",
       "      <th>1</th>\n",
       "      <td>Rose</td>\n",
       "      <td>white</td>\n",
       "      <td>S</td>\n",
       "    </tr>\n",
       "    <tr>\n",
       "      <th>2</th>\n",
       "      <td>Lily</td>\n",
       "      <td>white</td>\n",
       "      <td>S</td>\n",
       "    </tr>\n",
       "    <tr>\n",
       "      <th>3</th>\n",
       "      <td>Lily</td>\n",
       "      <td>pink</td>\n",
       "      <td>L</td>\n",
       "    </tr>\n",
       "  </tbody>\n",
       "</table>\n",
       "</div>"
      ],
      "text/plain": [
       "  Flower  Color Size\n",
       "0   Rose    red    L\n",
       "1   Rose  white    S\n",
       "2   Lily  white    S\n",
       "3   Lily   pink    L"
      ]
     },
     "execution_count": 54,
     "metadata": {},
     "output_type": "execute_result"
    }
   ],
   "source": [
    "df2.drop_duplicates(['Flower','Color'])\n",
    "# Size column과 상관없이 Flower와 Color에서 중복된 것을 제거"
   ]
  },
  {
   "cell_type": "markdown",
   "id": "0b3b2dcc",
   "metadata": {},
   "source": [
    "## 10.2.4 Ranking ~.rank()"
   ]
  },
  {
   "cell_type": "code",
   "execution_count": 55,
   "id": "7630887f",
   "metadata": {
    "ExecuteTime": {
     "end_time": "2022-02-16T01:59:48.608558Z",
     "start_time": "2022-02-16T01:59:48.602557Z"
    }
   },
   "outputs": [],
   "source": [
    "dic3 = {'이름': ['이몽룡','한석봉','성춘향','제갈량','관우'],\n",
    "        '점수': [72,90,None,100,90]}"
   ]
  },
  {
   "cell_type": "code",
   "execution_count": 56,
   "id": "9a964dcc",
   "metadata": {
    "ExecuteTime": {
     "end_time": "2022-02-16T01:59:57.965714Z",
     "start_time": "2022-02-16T01:59:57.956213Z"
    }
   },
   "outputs": [
    {
     "data": {
      "text/html": [
       "<div>\n",
       "<style scoped>\n",
       "    .dataframe tbody tr th:only-of-type {\n",
       "        vertical-align: middle;\n",
       "    }\n",
       "\n",
       "    .dataframe tbody tr th {\n",
       "        vertical-align: top;\n",
       "    }\n",
       "\n",
       "    .dataframe thead th {\n",
       "        text-align: right;\n",
       "    }\n",
       "</style>\n",
       "<table border=\"1\" class=\"dataframe\">\n",
       "  <thead>\n",
       "    <tr style=\"text-align: right;\">\n",
       "      <th></th>\n",
       "      <th>이름</th>\n",
       "      <th>점수</th>\n",
       "    </tr>\n",
       "  </thead>\n",
       "  <tbody>\n",
       "    <tr>\n",
       "      <th>0</th>\n",
       "      <td>이몽룡</td>\n",
       "      <td>72.0</td>\n",
       "    </tr>\n",
       "    <tr>\n",
       "      <th>1</th>\n",
       "      <td>한석봉</td>\n",
       "      <td>90.0</td>\n",
       "    </tr>\n",
       "    <tr>\n",
       "      <th>2</th>\n",
       "      <td>성춘향</td>\n",
       "      <td>NaN</td>\n",
       "    </tr>\n",
       "    <tr>\n",
       "      <th>3</th>\n",
       "      <td>제갈량</td>\n",
       "      <td>100.0</td>\n",
       "    </tr>\n",
       "    <tr>\n",
       "      <th>4</th>\n",
       "      <td>관우</td>\n",
       "      <td>90.0</td>\n",
       "    </tr>\n",
       "  </tbody>\n",
       "</table>\n",
       "</div>"
      ],
      "text/plain": [
       "    이름     점수\n",
       "0  이몽룡   72.0\n",
       "1  한석봉   90.0\n",
       "2  성춘향    NaN\n",
       "3  제갈량  100.0\n",
       "4   관우   90.0"
      ]
     },
     "execution_count": 56,
     "metadata": {},
     "output_type": "execute_result"
    }
   ],
   "source": [
    "df3 = pd.DataFrame(dic3); df3"
   ]
  },
  {
   "cell_type": "code",
   "execution_count": 58,
   "id": "9ae5d4b7",
   "metadata": {
    "ExecuteTime": {
     "end_time": "2022-02-16T02:02:53.403293Z",
     "start_time": "2022-02-16T02:02:53.392791Z"
    }
   },
   "outputs": [
    {
     "data": {
      "text/html": [
       "<div>\n",
       "<style scoped>\n",
       "    .dataframe tbody tr th:only-of-type {\n",
       "        vertical-align: middle;\n",
       "    }\n",
       "\n",
       "    .dataframe tbody tr th {\n",
       "        vertical-align: top;\n",
       "    }\n",
       "\n",
       "    .dataframe thead th {\n",
       "        text-align: right;\n",
       "    }\n",
       "</style>\n",
       "<table border=\"1\" class=\"dataframe\">\n",
       "  <thead>\n",
       "    <tr style=\"text-align: right;\">\n",
       "      <th></th>\n",
       "      <th>이름</th>\n",
       "      <th>점수</th>\n",
       "      <th>default_rank</th>\n",
       "      <th>1st_rank</th>\n",
       "      <th>max_rank</th>\n",
       "      <th>NA_bottom</th>\n",
       "      <th>pct_rank</th>\n",
       "    </tr>\n",
       "  </thead>\n",
       "  <tbody>\n",
       "    <tr>\n",
       "      <th>0</th>\n",
       "      <td>이몽룡</td>\n",
       "      <td>72.0</td>\n",
       "      <td>1.0</td>\n",
       "      <td>1.0</td>\n",
       "      <td>1.0</td>\n",
       "      <td>1.0</td>\n",
       "      <td>0.250</td>\n",
       "    </tr>\n",
       "    <tr>\n",
       "      <th>1</th>\n",
       "      <td>한석봉</td>\n",
       "      <td>90.0</td>\n",
       "      <td>2.5</td>\n",
       "      <td>2.0</td>\n",
       "      <td>3.0</td>\n",
       "      <td>2.5</td>\n",
       "      <td>0.625</td>\n",
       "    </tr>\n",
       "    <tr>\n",
       "      <th>2</th>\n",
       "      <td>성춘향</td>\n",
       "      <td>NaN</td>\n",
       "      <td>NaN</td>\n",
       "      <td>NaN</td>\n",
       "      <td>NaN</td>\n",
       "      <td>5.0</td>\n",
       "      <td>NaN</td>\n",
       "    </tr>\n",
       "    <tr>\n",
       "      <th>3</th>\n",
       "      <td>제갈량</td>\n",
       "      <td>100.0</td>\n",
       "      <td>4.0</td>\n",
       "      <td>4.0</td>\n",
       "      <td>4.0</td>\n",
       "      <td>4.0</td>\n",
       "      <td>1.000</td>\n",
       "    </tr>\n",
       "    <tr>\n",
       "      <th>4</th>\n",
       "      <td>관우</td>\n",
       "      <td>90.0</td>\n",
       "      <td>2.5</td>\n",
       "      <td>3.0</td>\n",
       "      <td>3.0</td>\n",
       "      <td>2.5</td>\n",
       "      <td>0.625</td>\n",
       "    </tr>\n",
       "  </tbody>\n",
       "</table>\n",
       "</div>"
      ],
      "text/plain": [
       "    이름     점수  default_rank  1st_rank  max_rank  NA_bottom  pct_rank\n",
       "0  이몽룡   72.0           1.0       1.0       1.0        1.0     0.250\n",
       "1  한석봉   90.0           2.5       2.0       3.0        2.5     0.625\n",
       "2  성춘향    NaN           NaN       NaN       NaN        5.0       NaN\n",
       "3  제갈량  100.0           4.0       4.0       4.0        4.0     1.000\n",
       "4   관우   90.0           2.5       3.0       3.0        2.5     0.625"
      ]
     },
     "execution_count": 58,
     "metadata": {},
     "output_type": "execute_result"
    }
   ],
   "source": [
    "df3['점수'] = df3['점수'].astype(float)\n",
    "df3['default_rank'] = df3['점수'].rank()\n",
    "df3['1st_rank'] = df3['점수'].rank(method='first')\n",
    "df3['max_rank'] = df3['점수'].rank(method='max')\n",
    "df3['NA_bottom'] = df3['점수'].rank(na_option='bottom')\n",
    "df3['pct_rank'] = df3['점수'].rank(pct=True)\n",
    "df3"
   ]
  },
  {
   "cell_type": "raw",
   "id": "ced32e69",
   "metadata": {},
   "source": [
    "df3['default_rank'] = df3['점수'].rank()\n",
    "아무런 입력인자를 넣어주지 않으면 동점자의 순위를 평균으로 나타냄\n",
    "\n",
    "method = 'first'/'min'/'max'\n",
    "동점 중 첫번째 것을 앞선것으로 처리 / 매길수 있는 순위중 최소 / 최대\n",
    "\n",
    "na_option = 'bottom'\n",
    "NaN을 꼴등으로 원래 default는 그냥 NaN으로 표시하는것\n",
    "#NaN: data를 불러올때 자리가 비어있으면 그 자리 값을 NaN으로 표시한다 즉 누락된값\n",
    "\n",
    "pct = True\n",
    "순위를 자연수대신 1로 정규화된 값으로 표시"
   ]
  },
  {
   "cell_type": "markdown",
   "id": "fc7ee413",
   "metadata": {},
   "source": [
    "## 10.2.5 Missing Data 찾아내고 처리하기 ~.isnull(), ~.dropna(), ~.fillna()"
   ]
  },
  {
   "cell_type": "code",
   "execution_count": 62,
   "id": "b6635683",
   "metadata": {
    "ExecuteTime": {
     "end_time": "2022-02-16T02:08:42.526862Z",
     "start_time": "2022-02-16T02:08:42.517361Z"
    }
   },
   "outputs": [],
   "source": [
    "df4 = pd.DataFrame( [[4.1,None,np.nan,None],\n",
    "                     [0.0,-1.0,2.5,None],\n",
    "                     [3.3,2.7,None,None],\n",
    "                     [None,None,None,None]],\n",
    "                   columns=['A','B','C','D'])"
   ]
  },
  {
   "cell_type": "code",
   "execution_count": 63,
   "id": "9fe0dcdf",
   "metadata": {
    "ExecuteTime": {
     "end_time": "2022-02-16T02:30:20.801913Z",
     "start_time": "2022-02-16T02:30:20.788911Z"
    }
   },
   "outputs": [
    {
     "data": {
      "text/html": [
       "<div>\n",
       "<style scoped>\n",
       "    .dataframe tbody tr th:only-of-type {\n",
       "        vertical-align: middle;\n",
       "    }\n",
       "\n",
       "    .dataframe tbody tr th {\n",
       "        vertical-align: top;\n",
       "    }\n",
       "\n",
       "    .dataframe thead th {\n",
       "        text-align: right;\n",
       "    }\n",
       "</style>\n",
       "<table border=\"1\" class=\"dataframe\">\n",
       "  <thead>\n",
       "    <tr style=\"text-align: right;\">\n",
       "      <th></th>\n",
       "      <th>A</th>\n",
       "      <th>B</th>\n",
       "      <th>C</th>\n",
       "      <th>D</th>\n",
       "    </tr>\n",
       "  </thead>\n",
       "  <tbody>\n",
       "    <tr>\n",
       "      <th>0</th>\n",
       "      <td>4.1</td>\n",
       "      <td>NaN</td>\n",
       "      <td>NaN</td>\n",
       "      <td>None</td>\n",
       "    </tr>\n",
       "    <tr>\n",
       "      <th>1</th>\n",
       "      <td>0.0</td>\n",
       "      <td>-1.0</td>\n",
       "      <td>2.5</td>\n",
       "      <td>None</td>\n",
       "    </tr>\n",
       "    <tr>\n",
       "      <th>2</th>\n",
       "      <td>3.3</td>\n",
       "      <td>2.7</td>\n",
       "      <td>NaN</td>\n",
       "      <td>None</td>\n",
       "    </tr>\n",
       "    <tr>\n",
       "      <th>3</th>\n",
       "      <td>NaN</td>\n",
       "      <td>NaN</td>\n",
       "      <td>NaN</td>\n",
       "      <td>None</td>\n",
       "    </tr>\n",
       "  </tbody>\n",
       "</table>\n",
       "</div>"
      ],
      "text/plain": [
       "     A    B    C     D\n",
       "0  4.1  NaN  NaN  None\n",
       "1  0.0 -1.0  2.5  None\n",
       "2  3.3  2.7  NaN  None\n",
       "3  NaN  NaN  NaN  None"
      ]
     },
     "execution_count": 63,
     "metadata": {},
     "output_type": "execute_result"
    }
   ],
   "source": [
    "df4"
   ]
  },
  {
   "cell_type": "code",
   "execution_count": 64,
   "id": "99b043ab",
   "metadata": {
    "ExecuteTime": {
     "end_time": "2022-02-16T02:30:47.837295Z",
     "start_time": "2022-02-16T02:30:47.819292Z"
    }
   },
   "outputs": [
    {
     "data": {
      "text/html": [
       "<div>\n",
       "<style scoped>\n",
       "    .dataframe tbody tr th:only-of-type {\n",
       "        vertical-align: middle;\n",
       "    }\n",
       "\n",
       "    .dataframe tbody tr th {\n",
       "        vertical-align: top;\n",
       "    }\n",
       "\n",
       "    .dataframe thead th {\n",
       "        text-align: right;\n",
       "    }\n",
       "</style>\n",
       "<table border=\"1\" class=\"dataframe\">\n",
       "  <thead>\n",
       "    <tr style=\"text-align: right;\">\n",
       "      <th></th>\n",
       "      <th>A</th>\n",
       "      <th>B</th>\n",
       "      <th>C</th>\n",
       "      <th>D</th>\n",
       "    </tr>\n",
       "  </thead>\n",
       "  <tbody>\n",
       "    <tr>\n",
       "      <th>0</th>\n",
       "      <td>False</td>\n",
       "      <td>True</td>\n",
       "      <td>True</td>\n",
       "      <td>True</td>\n",
       "    </tr>\n",
       "    <tr>\n",
       "      <th>1</th>\n",
       "      <td>False</td>\n",
       "      <td>False</td>\n",
       "      <td>False</td>\n",
       "      <td>True</td>\n",
       "    </tr>\n",
       "    <tr>\n",
       "      <th>2</th>\n",
       "      <td>False</td>\n",
       "      <td>False</td>\n",
       "      <td>True</td>\n",
       "      <td>True</td>\n",
       "    </tr>\n",
       "    <tr>\n",
       "      <th>3</th>\n",
       "      <td>True</td>\n",
       "      <td>True</td>\n",
       "      <td>True</td>\n",
       "      <td>True</td>\n",
       "    </tr>\n",
       "  </tbody>\n",
       "</table>\n",
       "</div>"
      ],
      "text/plain": [
       "       A      B      C     D\n",
       "0  False   True   True  True\n",
       "1  False  False  False  True\n",
       "2  False  False   True  True\n",
       "3   True   True   True  True"
      ]
     },
     "execution_count": 64,
     "metadata": {},
     "output_type": "execute_result"
    }
   ],
   "source": [
    "df4.isna()"
   ]
  },
  {
   "cell_type": "code",
   "execution_count": 65,
   "id": "09f40fa8",
   "metadata": {
    "ExecuteTime": {
     "end_time": "2022-02-16T02:30:53.438158Z",
     "start_time": "2022-02-16T02:30:53.421655Z"
    }
   },
   "outputs": [
    {
     "data": {
      "text/html": [
       "<div>\n",
       "<style scoped>\n",
       "    .dataframe tbody tr th:only-of-type {\n",
       "        vertical-align: middle;\n",
       "    }\n",
       "\n",
       "    .dataframe tbody tr th {\n",
       "        vertical-align: top;\n",
       "    }\n",
       "\n",
       "    .dataframe thead th {\n",
       "        text-align: right;\n",
       "    }\n",
       "</style>\n",
       "<table border=\"1\" class=\"dataframe\">\n",
       "  <thead>\n",
       "    <tr style=\"text-align: right;\">\n",
       "      <th></th>\n",
       "      <th>A</th>\n",
       "      <th>B</th>\n",
       "      <th>C</th>\n",
       "      <th>D</th>\n",
       "    </tr>\n",
       "  </thead>\n",
       "  <tbody>\n",
       "    <tr>\n",
       "      <th>0</th>\n",
       "      <td>True</td>\n",
       "      <td>False</td>\n",
       "      <td>False</td>\n",
       "      <td>False</td>\n",
       "    </tr>\n",
       "    <tr>\n",
       "      <th>1</th>\n",
       "      <td>True</td>\n",
       "      <td>True</td>\n",
       "      <td>True</td>\n",
       "      <td>False</td>\n",
       "    </tr>\n",
       "    <tr>\n",
       "      <th>2</th>\n",
       "      <td>True</td>\n",
       "      <td>True</td>\n",
       "      <td>False</td>\n",
       "      <td>False</td>\n",
       "    </tr>\n",
       "    <tr>\n",
       "      <th>3</th>\n",
       "      <td>False</td>\n",
       "      <td>False</td>\n",
       "      <td>False</td>\n",
       "      <td>False</td>\n",
       "    </tr>\n",
       "  </tbody>\n",
       "</table>\n",
       "</div>"
      ],
      "text/plain": [
       "       A      B      C      D\n",
       "0   True  False  False  False\n",
       "1   True   True   True  False\n",
       "2   True   True  False  False\n",
       "3  False  False  False  False"
      ]
     },
     "execution_count": 65,
     "metadata": {},
     "output_type": "execute_result"
    }
   ],
   "source": [
    "df4.notna()"
   ]
  },
  {
   "cell_type": "code",
   "execution_count": 66,
   "id": "9ef92a36",
   "metadata": {
    "ExecuteTime": {
     "end_time": "2022-02-16T02:32:07.063070Z",
     "start_time": "2022-02-16T02:32:07.042567Z"
    }
   },
   "outputs": [
    {
     "data": {
      "text/html": [
       "<div>\n",
       "<style scoped>\n",
       "    .dataframe tbody tr th:only-of-type {\n",
       "        vertical-align: middle;\n",
       "    }\n",
       "\n",
       "    .dataframe tbody tr th {\n",
       "        vertical-align: top;\n",
       "    }\n",
       "\n",
       "    .dataframe thead th {\n",
       "        text-align: right;\n",
       "    }\n",
       "</style>\n",
       "<table border=\"1\" class=\"dataframe\">\n",
       "  <thead>\n",
       "    <tr style=\"text-align: right;\">\n",
       "      <th></th>\n",
       "      <th>A</th>\n",
       "      <th>B</th>\n",
       "      <th>C</th>\n",
       "      <th>D</th>\n",
       "    </tr>\n",
       "  </thead>\n",
       "  <tbody>\n",
       "    <tr>\n",
       "      <th>0</th>\n",
       "      <td>4.1</td>\n",
       "      <td>NaN</td>\n",
       "      <td>NaN</td>\n",
       "      <td>None</td>\n",
       "    </tr>\n",
       "    <tr>\n",
       "      <th>1</th>\n",
       "      <td>0.0</td>\n",
       "      <td>-1.0</td>\n",
       "      <td>2.5</td>\n",
       "      <td>None</td>\n",
       "    </tr>\n",
       "    <tr>\n",
       "      <th>2</th>\n",
       "      <td>3.3</td>\n",
       "      <td>2.7</td>\n",
       "      <td>NaN</td>\n",
       "      <td>None</td>\n",
       "    </tr>\n",
       "  </tbody>\n",
       "</table>\n",
       "</div>"
      ],
      "text/plain": [
       "     A    B    C     D\n",
       "0  4.1  NaN  NaN  None\n",
       "1  0.0 -1.0  2.5  None\n",
       "2  3.3  2.7  NaN  None"
      ]
     },
     "execution_count": 66,
     "metadata": {},
     "output_type": "execute_result"
    }
   ],
   "source": [
    "df4.dropna(how='all') #모든 요소가 NaN/None인 행 제거\n",
    "#how='any' NaN/None이 하나라도 있는 행제거"
   ]
  },
  {
   "cell_type": "code",
   "execution_count": 67,
   "id": "5008c220",
   "metadata": {
    "ExecuteTime": {
     "end_time": "2022-02-16T02:35:36.082184Z",
     "start_time": "2022-02-16T02:35:36.073183Z"
    }
   },
   "outputs": [
    {
     "data": {
      "text/html": [
       "<div>\n",
       "<style scoped>\n",
       "    .dataframe tbody tr th:only-of-type {\n",
       "        vertical-align: middle;\n",
       "    }\n",
       "\n",
       "    .dataframe tbody tr th {\n",
       "        vertical-align: top;\n",
       "    }\n",
       "\n",
       "    .dataframe thead th {\n",
       "        text-align: right;\n",
       "    }\n",
       "</style>\n",
       "<table border=\"1\" class=\"dataframe\">\n",
       "  <thead>\n",
       "    <tr style=\"text-align: right;\">\n",
       "      <th></th>\n",
       "      <th>A</th>\n",
       "      <th>B</th>\n",
       "      <th>C</th>\n",
       "    </tr>\n",
       "  </thead>\n",
       "  <tbody>\n",
       "    <tr>\n",
       "      <th>0</th>\n",
       "      <td>4.1</td>\n",
       "      <td>NaN</td>\n",
       "      <td>NaN</td>\n",
       "    </tr>\n",
       "    <tr>\n",
       "      <th>1</th>\n",
       "      <td>0.0</td>\n",
       "      <td>-1.0</td>\n",
       "      <td>2.5</td>\n",
       "    </tr>\n",
       "    <tr>\n",
       "      <th>2</th>\n",
       "      <td>3.3</td>\n",
       "      <td>2.7</td>\n",
       "      <td>NaN</td>\n",
       "    </tr>\n",
       "    <tr>\n",
       "      <th>3</th>\n",
       "      <td>NaN</td>\n",
       "      <td>NaN</td>\n",
       "      <td>NaN</td>\n",
       "    </tr>\n",
       "  </tbody>\n",
       "</table>\n",
       "</div>"
      ],
      "text/plain": [
       "     A    B    C\n",
       "0  4.1  NaN  NaN\n",
       "1  0.0 -1.0  2.5\n",
       "2  3.3  2.7  NaN\n",
       "3  NaN  NaN  NaN"
      ]
     },
     "execution_count": 67,
     "metadata": {},
     "output_type": "execute_result"
    }
   ],
   "source": [
    "df4.dropna(axis=1, how='all') #열 제거"
   ]
  },
  {
   "cell_type": "code",
   "execution_count": 68,
   "id": "cef7fe88",
   "metadata": {
    "ExecuteTime": {
     "end_time": "2022-02-16T02:36:13.382475Z",
     "start_time": "2022-02-16T02:36:13.371473Z"
    }
   },
   "outputs": [
    {
     "data": {
      "text/html": [
       "<div>\n",
       "<style scoped>\n",
       "    .dataframe tbody tr th:only-of-type {\n",
       "        vertical-align: middle;\n",
       "    }\n",
       "\n",
       "    .dataframe tbody tr th {\n",
       "        vertical-align: top;\n",
       "    }\n",
       "\n",
       "    .dataframe thead th {\n",
       "        text-align: right;\n",
       "    }\n",
       "</style>\n",
       "<table border=\"1\" class=\"dataframe\">\n",
       "  <thead>\n",
       "    <tr style=\"text-align: right;\">\n",
       "      <th></th>\n",
       "      <th>A</th>\n",
       "      <th>B</th>\n",
       "      <th>C</th>\n",
       "      <th>D</th>\n",
       "    </tr>\n",
       "  </thead>\n",
       "  <tbody>\n",
       "    <tr>\n",
       "      <th>1</th>\n",
       "      <td>0.0</td>\n",
       "      <td>-1.0</td>\n",
       "      <td>2.5</td>\n",
       "      <td>None</td>\n",
       "    </tr>\n",
       "    <tr>\n",
       "      <th>2</th>\n",
       "      <td>3.3</td>\n",
       "      <td>2.7</td>\n",
       "      <td>NaN</td>\n",
       "      <td>None</td>\n",
       "    </tr>\n",
       "  </tbody>\n",
       "</table>\n",
       "</div>"
      ],
      "text/plain": [
       "     A    B    C     D\n",
       "1  0.0 -1.0  2.5  None\n",
       "2  3.3  2.7  NaN  None"
      ]
     },
     "execution_count": 68,
     "metadata": {},
     "output_type": "execute_result"
    }
   ],
   "source": [
    "df4.dropna(thresh=2) #3개 이상인 행만 삭제"
   ]
  },
  {
   "cell_type": "code",
   "execution_count": 70,
   "id": "0caadd98",
   "metadata": {
    "ExecuteTime": {
     "end_time": "2022-02-16T02:38:13.220192Z",
     "start_time": "2022-02-16T02:38:13.214692Z"
    }
   },
   "outputs": [
    {
     "data": {
      "text/html": [
       "<div>\n",
       "<style scoped>\n",
       "    .dataframe tbody tr th:only-of-type {\n",
       "        vertical-align: middle;\n",
       "    }\n",
       "\n",
       "    .dataframe tbody tr th {\n",
       "        vertical-align: top;\n",
       "    }\n",
       "\n",
       "    .dataframe thead th {\n",
       "        text-align: right;\n",
       "    }\n",
       "</style>\n",
       "<table border=\"1\" class=\"dataframe\">\n",
       "  <thead>\n",
       "    <tr style=\"text-align: right;\">\n",
       "      <th></th>\n",
       "      <th>data</th>\n",
       "    </tr>\n",
       "  </thead>\n",
       "  <tbody>\n",
       "    <tr>\n",
       "      <th>0</th>\n",
       "      <td>1.0</td>\n",
       "    </tr>\n",
       "    <tr>\n",
       "      <th>1</th>\n",
       "      <td>2.0</td>\n",
       "    </tr>\n",
       "    <tr>\n",
       "      <th>2</th>\n",
       "      <td>NaN</td>\n",
       "    </tr>\n",
       "    <tr>\n",
       "      <th>3</th>\n",
       "      <td>4.0</td>\n",
       "    </tr>\n",
       "    <tr>\n",
       "      <th>4</th>\n",
       "      <td>5.0</td>\n",
       "    </tr>\n",
       "    <tr>\n",
       "      <th>5</th>\n",
       "      <td>NaN</td>\n",
       "    </tr>\n",
       "  </tbody>\n",
       "</table>\n",
       "</div>"
      ],
      "text/plain": [
       "   data\n",
       "0   1.0\n",
       "1   2.0\n",
       "2   NaN\n",
       "3   4.0\n",
       "4   5.0\n",
       "5   NaN"
      ]
     },
     "execution_count": 70,
     "metadata": {},
     "output_type": "execute_result"
    }
   ],
   "source": [
    "df5 = {'data': [1,2,None,4,5,np.nan]}\n",
    "df5 = pd.DataFrame(df5); df5"
   ]
  },
  {
   "cell_type": "code",
   "execution_count": 71,
   "id": "657a889e",
   "metadata": {
    "ExecuteTime": {
     "end_time": "2022-02-16T02:38:34.603602Z",
     "start_time": "2022-02-16T02:38:34.588100Z"
    }
   },
   "outputs": [],
   "source": [
    "df5['(0)'] = df5['data'].fillna(0)\n",
    "# NaN을 0 으로 대체"
   ]
  },
  {
   "cell_type": "code",
   "execution_count": 72,
   "id": "fe79da26",
   "metadata": {
    "ExecuteTime": {
     "end_time": "2022-02-16T02:38:59.799235Z",
     "start_time": "2022-02-16T02:38:59.790234Z"
    }
   },
   "outputs": [],
   "source": [
    "df5['mean'] = df5['data'].fillna(df5['data'].mean())\n",
    "# NaN을 평균값으로 대체"
   ]
  },
  {
   "cell_type": "code",
   "execution_count": 73,
   "id": "ca970864",
   "metadata": {
    "ExecuteTime": {
     "end_time": "2022-02-16T02:39:15.691089Z",
     "start_time": "2022-02-16T02:39:15.684588Z"
    }
   },
   "outputs": [],
   "source": [
    "df5['ffill'] = df5['data'].fillna(method='ffill')\n",
    "# NaN을 그 바로 전 요소의 값으로 대체"
   ]
  },
  {
   "cell_type": "code",
   "execution_count": 74,
   "id": "6a45a1f2",
   "metadata": {
    "ExecuteTime": {
     "end_time": "2022-02-16T02:39:17.016307Z",
     "start_time": "2022-02-16T02:39:17.003305Z"
    }
   },
   "outputs": [
    {
     "data": {
      "text/html": [
       "<div>\n",
       "<style scoped>\n",
       "    .dataframe tbody tr th:only-of-type {\n",
       "        vertical-align: middle;\n",
       "    }\n",
       "\n",
       "    .dataframe tbody tr th {\n",
       "        vertical-align: top;\n",
       "    }\n",
       "\n",
       "    .dataframe thead th {\n",
       "        text-align: right;\n",
       "    }\n",
       "</style>\n",
       "<table border=\"1\" class=\"dataframe\">\n",
       "  <thead>\n",
       "    <tr style=\"text-align: right;\">\n",
       "      <th></th>\n",
       "      <th>data</th>\n",
       "      <th>(0)</th>\n",
       "      <th>mean</th>\n",
       "      <th>ffill</th>\n",
       "    </tr>\n",
       "  </thead>\n",
       "  <tbody>\n",
       "    <tr>\n",
       "      <th>0</th>\n",
       "      <td>1.0</td>\n",
       "      <td>1.0</td>\n",
       "      <td>1.0</td>\n",
       "      <td>1.0</td>\n",
       "    </tr>\n",
       "    <tr>\n",
       "      <th>1</th>\n",
       "      <td>2.0</td>\n",
       "      <td>2.0</td>\n",
       "      <td>2.0</td>\n",
       "      <td>2.0</td>\n",
       "    </tr>\n",
       "    <tr>\n",
       "      <th>2</th>\n",
       "      <td>NaN</td>\n",
       "      <td>0.0</td>\n",
       "      <td>3.0</td>\n",
       "      <td>2.0</td>\n",
       "    </tr>\n",
       "    <tr>\n",
       "      <th>3</th>\n",
       "      <td>4.0</td>\n",
       "      <td>4.0</td>\n",
       "      <td>4.0</td>\n",
       "      <td>4.0</td>\n",
       "    </tr>\n",
       "    <tr>\n",
       "      <th>4</th>\n",
       "      <td>5.0</td>\n",
       "      <td>5.0</td>\n",
       "      <td>5.0</td>\n",
       "      <td>5.0</td>\n",
       "    </tr>\n",
       "    <tr>\n",
       "      <th>5</th>\n",
       "      <td>NaN</td>\n",
       "      <td>0.0</td>\n",
       "      <td>3.0</td>\n",
       "      <td>5.0</td>\n",
       "    </tr>\n",
       "  </tbody>\n",
       "</table>\n",
       "</div>"
      ],
      "text/plain": [
       "   data  (0)  mean  ffill\n",
       "0   1.0  1.0   1.0    1.0\n",
       "1   2.0  2.0   2.0    2.0\n",
       "2   NaN  0.0   3.0    2.0\n",
       "3   4.0  4.0   4.0    4.0\n",
       "4   5.0  5.0   5.0    5.0\n",
       "5   NaN  0.0   3.0    5.0"
      ]
     },
     "execution_count": 74,
     "metadata": {},
     "output_type": "execute_result"
    }
   ],
   "source": [
    "df5"
   ]
  },
  {
   "cell_type": "markdown",
   "id": "33a31924",
   "metadata": {},
   "source": [
    "## 10.2.6 Data값 바꾸기 ~.replace()"
   ]
  },
  {
   "cell_type": "code",
   "execution_count": 75,
   "id": "57ba8e02",
   "metadata": {
    "ExecuteTime": {
     "end_time": "2022-02-16T02:43:38.617044Z",
     "start_time": "2022-02-16T02:43:38.607042Z"
    }
   },
   "outputs": [],
   "source": [
    "df7 = pd.DataFrame({'col1': ['A','A','B','B'],\n",
    "                    'col2': ['a1','a2','b1','b2'],\n",
    "                    'col3': [2,5,4,np.nan]})"
   ]
  },
  {
   "cell_type": "code",
   "execution_count": 76,
   "id": "49c6b8f7",
   "metadata": {
    "ExecuteTime": {
     "end_time": "2022-02-16T02:43:42.675190Z",
     "start_time": "2022-02-16T02:43:42.665189Z"
    }
   },
   "outputs": [
    {
     "data": {
      "text/html": [
       "<div>\n",
       "<style scoped>\n",
       "    .dataframe tbody tr th:only-of-type {\n",
       "        vertical-align: middle;\n",
       "    }\n",
       "\n",
       "    .dataframe tbody tr th {\n",
       "        vertical-align: top;\n",
       "    }\n",
       "\n",
       "    .dataframe thead th {\n",
       "        text-align: right;\n",
       "    }\n",
       "</style>\n",
       "<table border=\"1\" class=\"dataframe\">\n",
       "  <thead>\n",
       "    <tr style=\"text-align: right;\">\n",
       "      <th></th>\n",
       "      <th>col1</th>\n",
       "      <th>col2</th>\n",
       "      <th>col3</th>\n",
       "    </tr>\n",
       "  </thead>\n",
       "  <tbody>\n",
       "    <tr>\n",
       "      <th>0</th>\n",
       "      <td>A</td>\n",
       "      <td>a1</td>\n",
       "      <td>2.0</td>\n",
       "    </tr>\n",
       "    <tr>\n",
       "      <th>1</th>\n",
       "      <td>A</td>\n",
       "      <td>a2</td>\n",
       "      <td>5.0</td>\n",
       "    </tr>\n",
       "    <tr>\n",
       "      <th>2</th>\n",
       "      <td>B</td>\n",
       "      <td>b1</td>\n",
       "      <td>4.0</td>\n",
       "    </tr>\n",
       "    <tr>\n",
       "      <th>3</th>\n",
       "      <td>B</td>\n",
       "      <td>b2</td>\n",
       "      <td>NaN</td>\n",
       "    </tr>\n",
       "  </tbody>\n",
       "</table>\n",
       "</div>"
      ],
      "text/plain": [
       "  col1 col2  col3\n",
       "0    A   a1   2.0\n",
       "1    A   a2   5.0\n",
       "2    B   b1   4.0\n",
       "3    B   b2   NaN"
      ]
     },
     "execution_count": 76,
     "metadata": {},
     "output_type": "execute_result"
    }
   ],
   "source": [
    "df7"
   ]
  },
  {
   "cell_type": "code",
   "execution_count": 77,
   "id": "12d8f760",
   "metadata": {
    "ExecuteTime": {
     "end_time": "2022-02-16T02:44:54.173805Z",
     "start_time": "2022-02-16T02:44:54.161304Z"
    }
   },
   "outputs": [
    {
     "data": {
      "text/html": [
       "<div>\n",
       "<style scoped>\n",
       "    .dataframe tbody tr th:only-of-type {\n",
       "        vertical-align: middle;\n",
       "    }\n",
       "\n",
       "    .dataframe tbody tr th {\n",
       "        vertical-align: top;\n",
       "    }\n",
       "\n",
       "    .dataframe thead th {\n",
       "        text-align: right;\n",
       "    }\n",
       "</style>\n",
       "<table border=\"1\" class=\"dataframe\">\n",
       "  <thead>\n",
       "    <tr style=\"text-align: right;\">\n",
       "      <th></th>\n",
       "      <th>col1</th>\n",
       "      <th>col2</th>\n",
       "      <th>col3</th>\n",
       "    </tr>\n",
       "  </thead>\n",
       "  <tbody>\n",
       "    <tr>\n",
       "      <th>0</th>\n",
       "      <td>A</td>\n",
       "      <td>a12</td>\n",
       "      <td>2.0</td>\n",
       "    </tr>\n",
       "    <tr>\n",
       "      <th>1</th>\n",
       "      <td>A</td>\n",
       "      <td>a12</td>\n",
       "      <td>5.0</td>\n",
       "    </tr>\n",
       "    <tr>\n",
       "      <th>2</th>\n",
       "      <td>B</td>\n",
       "      <td>b1</td>\n",
       "      <td>4.0</td>\n",
       "    </tr>\n",
       "    <tr>\n",
       "      <th>3</th>\n",
       "      <td>B</td>\n",
       "      <td>b2</td>\n",
       "      <td>NaN</td>\n",
       "    </tr>\n",
       "  </tbody>\n",
       "</table>\n",
       "</div>"
      ],
      "text/plain": [
       "  col1 col2  col3\n",
       "0    A  a12   2.0\n",
       "1    A  a12   5.0\n",
       "2    B   b1   4.0\n",
       "3    B   b2   NaN"
      ]
     },
     "execution_count": 77,
     "metadata": {},
     "output_type": "execute_result"
    }
   ],
   "source": [
    "df7.replace(['a1','a2'],'a12')"
   ]
  },
  {
   "cell_type": "code",
   "execution_count": 78,
   "id": "449b1a61",
   "metadata": {
    "ExecuteTime": {
     "end_time": "2022-02-16T02:45:19.613717Z",
     "start_time": "2022-02-16T02:45:19.596714Z"
    }
   },
   "outputs": [
    {
     "data": {
      "text/html": [
       "<div>\n",
       "<style scoped>\n",
       "    .dataframe tbody tr th:only-of-type {\n",
       "        vertical-align: middle;\n",
       "    }\n",
       "\n",
       "    .dataframe tbody tr th {\n",
       "        vertical-align: top;\n",
       "    }\n",
       "\n",
       "    .dataframe thead th {\n",
       "        text-align: right;\n",
       "    }\n",
       "</style>\n",
       "<table border=\"1\" class=\"dataframe\">\n",
       "  <thead>\n",
       "    <tr style=\"text-align: right;\">\n",
       "      <th></th>\n",
       "      <th>col1</th>\n",
       "      <th>col2</th>\n",
       "      <th>col3</th>\n",
       "    </tr>\n",
       "  </thead>\n",
       "  <tbody>\n",
       "    <tr>\n",
       "      <th>0</th>\n",
       "      <td>A</td>\n",
       "      <td>a1</td>\n",
       "      <td>2.0</td>\n",
       "    </tr>\n",
       "    <tr>\n",
       "      <th>1</th>\n",
       "      <td>A</td>\n",
       "      <td>a2</td>\n",
       "      <td>5.0</td>\n",
       "    </tr>\n",
       "    <tr>\n",
       "      <th>2</th>\n",
       "      <td>B</td>\n",
       "      <td>b_1</td>\n",
       "      <td>4.0</td>\n",
       "    </tr>\n",
       "    <tr>\n",
       "      <th>3</th>\n",
       "      <td>B</td>\n",
       "      <td>b_2</td>\n",
       "      <td>NaN</td>\n",
       "    </tr>\n",
       "  </tbody>\n",
       "</table>\n",
       "</div>"
      ],
      "text/plain": [
       "  col1 col2  col3\n",
       "0    A   a1   2.0\n",
       "1    A   a2   5.0\n",
       "2    B  b_1   4.0\n",
       "3    B  b_2   NaN"
      ]
     },
     "execution_count": 78,
     "metadata": {},
     "output_type": "execute_result"
    }
   ],
   "source": [
    "df7.replace(['b1','b2'],['b_1','b_2'])"
   ]
  },
  {
   "cell_type": "code",
   "execution_count": 80,
   "id": "a5113e7f",
   "metadata": {
    "ExecuteTime": {
     "end_time": "2022-02-16T02:45:44.924399Z",
     "start_time": "2022-02-16T02:45:44.905394Z"
    }
   },
   "outputs": [
    {
     "data": {
      "text/html": [
       "<div>\n",
       "<style scoped>\n",
       "    .dataframe tbody tr th:only-of-type {\n",
       "        vertical-align: middle;\n",
       "    }\n",
       "\n",
       "    .dataframe tbody tr th {\n",
       "        vertical-align: top;\n",
       "    }\n",
       "\n",
       "    .dataframe thead th {\n",
       "        text-align: right;\n",
       "    }\n",
       "</style>\n",
       "<table border=\"1\" class=\"dataframe\">\n",
       "  <thead>\n",
       "    <tr style=\"text-align: right;\">\n",
       "      <th></th>\n",
       "      <th>col1</th>\n",
       "      <th>col2</th>\n",
       "      <th>col3</th>\n",
       "    </tr>\n",
       "  </thead>\n",
       "  <tbody>\n",
       "    <tr>\n",
       "      <th>0</th>\n",
       "      <td>A</td>\n",
       "      <td>a1</td>\n",
       "      <td>2.0</td>\n",
       "    </tr>\n",
       "    <tr>\n",
       "      <th>1</th>\n",
       "      <td>A</td>\n",
       "      <td>a2</td>\n",
       "      <td>5.0</td>\n",
       "    </tr>\n",
       "    <tr>\n",
       "      <th>2</th>\n",
       "      <td>B</td>\n",
       "      <td>b_1</td>\n",
       "      <td>4.0</td>\n",
       "    </tr>\n",
       "    <tr>\n",
       "      <th>3</th>\n",
       "      <td>B</td>\n",
       "      <td>b_2</td>\n",
       "      <td>NaN</td>\n",
       "    </tr>\n",
       "  </tbody>\n",
       "</table>\n",
       "</div>"
      ],
      "text/plain": [
       "  col1 col2  col3\n",
       "0    A   a1   2.0\n",
       "1    A   a2   5.0\n",
       "2    B  b_1   4.0\n",
       "3    B  b_2   NaN"
      ]
     },
     "execution_count": 80,
     "metadata": {},
     "output_type": "execute_result"
    }
   ],
   "source": [
    "df7.replace({'b1':'b_1','b2':'b_2'})"
   ]
  },
  {
   "cell_type": "code",
   "execution_count": 81,
   "id": "d2638842",
   "metadata": {
    "ExecuteTime": {
     "end_time": "2022-02-16T02:45:59.322164Z",
     "start_time": "2022-02-16T02:45:59.314163Z"
    }
   },
   "outputs": [
    {
     "data": {
      "text/html": [
       "<div>\n",
       "<style scoped>\n",
       "    .dataframe tbody tr th:only-of-type {\n",
       "        vertical-align: middle;\n",
       "    }\n",
       "\n",
       "    .dataframe tbody tr th {\n",
       "        vertical-align: top;\n",
       "    }\n",
       "\n",
       "    .dataframe thead th {\n",
       "        text-align: right;\n",
       "    }\n",
       "</style>\n",
       "<table border=\"1\" class=\"dataframe\">\n",
       "  <thead>\n",
       "    <tr style=\"text-align: right;\">\n",
       "      <th></th>\n",
       "      <th>col1</th>\n",
       "      <th>col2</th>\n",
       "      <th>col3</th>\n",
       "    </tr>\n",
       "  </thead>\n",
       "  <tbody>\n",
       "    <tr>\n",
       "      <th>0</th>\n",
       "      <td>A</td>\n",
       "      <td>a1</td>\n",
       "      <td>2.0</td>\n",
       "    </tr>\n",
       "    <tr>\n",
       "      <th>1</th>\n",
       "      <td>A</td>\n",
       "      <td>NaN</td>\n",
       "      <td>5.0</td>\n",
       "    </tr>\n",
       "    <tr>\n",
       "      <th>2</th>\n",
       "      <td>B</td>\n",
       "      <td>b1</td>\n",
       "      <td>4.0</td>\n",
       "    </tr>\n",
       "    <tr>\n",
       "      <th>3</th>\n",
       "      <td>B</td>\n",
       "      <td>b2</td>\n",
       "      <td>NaN</td>\n",
       "    </tr>\n",
       "  </tbody>\n",
       "</table>\n",
       "</div>"
      ],
      "text/plain": [
       "  col1 col2  col3\n",
       "0    A   a1   2.0\n",
       "1    A  NaN   5.0\n",
       "2    B   b1   4.0\n",
       "3    B   b2   NaN"
      ]
     },
     "execution_count": 81,
     "metadata": {},
     "output_type": "execute_result"
    }
   ],
   "source": [
    "df7.replace('a2',np.nan)"
   ]
  },
  {
   "cell_type": "code",
   "execution_count": 83,
   "id": "f3b2b62f",
   "metadata": {
    "ExecuteTime": {
     "end_time": "2022-02-16T02:46:15.680441Z",
     "start_time": "2022-02-16T02:46:15.661438Z"
    }
   },
   "outputs": [
    {
     "data": {
      "text/html": [
       "<div>\n",
       "<style scoped>\n",
       "    .dataframe tbody tr th:only-of-type {\n",
       "        vertical-align: middle;\n",
       "    }\n",
       "\n",
       "    .dataframe tbody tr th {\n",
       "        vertical-align: top;\n",
       "    }\n",
       "\n",
       "    .dataframe thead th {\n",
       "        text-align: right;\n",
       "    }\n",
       "</style>\n",
       "<table border=\"1\" class=\"dataframe\">\n",
       "  <thead>\n",
       "    <tr style=\"text-align: right;\">\n",
       "      <th></th>\n",
       "      <th>col1</th>\n",
       "      <th>col2</th>\n",
       "      <th>col3</th>\n",
       "    </tr>\n",
       "  </thead>\n",
       "  <tbody>\n",
       "    <tr>\n",
       "      <th>0</th>\n",
       "      <td>A</td>\n",
       "      <td>a1</td>\n",
       "      <td>2.0</td>\n",
       "    </tr>\n",
       "    <tr>\n",
       "      <th>1</th>\n",
       "      <td>A</td>\n",
       "      <td>a1</td>\n",
       "      <td>5.0</td>\n",
       "    </tr>\n",
       "    <tr>\n",
       "      <th>2</th>\n",
       "      <td>B</td>\n",
       "      <td>b1</td>\n",
       "      <td>4.0</td>\n",
       "    </tr>\n",
       "    <tr>\n",
       "      <th>3</th>\n",
       "      <td>B</td>\n",
       "      <td>b2</td>\n",
       "      <td>NaN</td>\n",
       "    </tr>\n",
       "  </tbody>\n",
       "</table>\n",
       "</div>"
      ],
      "text/plain": [
       "  col1 col2  col3\n",
       "0    A   a1   2.0\n",
       "1    A   a1   5.0\n",
       "2    B   b1   4.0\n",
       "3    B   b2   NaN"
      ]
     },
     "execution_count": 83,
     "metadata": {},
     "output_type": "execute_result"
    }
   ],
   "source": [
    "df7.replace('a2',None)"
   ]
  },
  {
   "cell_type": "code",
   "execution_count": 84,
   "id": "b8e5eaee",
   "metadata": {
    "ExecuteTime": {
     "end_time": "2022-02-16T02:46:46.289016Z",
     "start_time": "2022-02-16T02:46:46.271513Z"
    }
   },
   "outputs": [
    {
     "data": {
      "text/html": [
       "<div>\n",
       "<style scoped>\n",
       "    .dataframe tbody tr th:only-of-type {\n",
       "        vertical-align: middle;\n",
       "    }\n",
       "\n",
       "    .dataframe tbody tr th {\n",
       "        vertical-align: top;\n",
       "    }\n",
       "\n",
       "    .dataframe thead th {\n",
       "        text-align: right;\n",
       "    }\n",
       "</style>\n",
       "<table border=\"1\" class=\"dataframe\">\n",
       "  <thead>\n",
       "    <tr style=\"text-align: right;\">\n",
       "      <th></th>\n",
       "      <th>col1</th>\n",
       "      <th>col2</th>\n",
       "      <th>col3</th>\n",
       "    </tr>\n",
       "  </thead>\n",
       "  <tbody>\n",
       "    <tr>\n",
       "      <th>0</th>\n",
       "      <td>A</td>\n",
       "      <td>a1</td>\n",
       "      <td>2.0</td>\n",
       "    </tr>\n",
       "    <tr>\n",
       "      <th>1</th>\n",
       "      <td>A</td>\n",
       "      <td>b1</td>\n",
       "      <td>5.0</td>\n",
       "    </tr>\n",
       "    <tr>\n",
       "      <th>2</th>\n",
       "      <td>B</td>\n",
       "      <td>b1</td>\n",
       "      <td>4.0</td>\n",
       "    </tr>\n",
       "    <tr>\n",
       "      <th>3</th>\n",
       "      <td>B</td>\n",
       "      <td>b2</td>\n",
       "      <td>NaN</td>\n",
       "    </tr>\n",
       "  </tbody>\n",
       "</table>\n",
       "</div>"
      ],
      "text/plain": [
       "  col1 col2  col3\n",
       "0    A   a1   2.0\n",
       "1    A   b1   5.0\n",
       "2    B   b1   4.0\n",
       "3    B   b2   NaN"
      ]
     },
     "execution_count": 84,
     "metadata": {},
     "output_type": "execute_result"
    }
   ],
   "source": [
    "df7.replace('a2',method='bfill')"
   ]
  },
  {
   "cell_type": "code",
   "execution_count": 87,
   "id": "bfc5e0ab",
   "metadata": {
    "ExecuteTime": {
     "end_time": "2022-02-16T02:47:17.280039Z",
     "start_time": "2022-02-16T02:47:17.274538Z"
    }
   },
   "outputs": [
    {
     "data": {
      "text/html": [
       "<div>\n",
       "<style scoped>\n",
       "    .dataframe tbody tr th:only-of-type {\n",
       "        vertical-align: middle;\n",
       "    }\n",
       "\n",
       "    .dataframe tbody tr th {\n",
       "        vertical-align: top;\n",
       "    }\n",
       "\n",
       "    .dataframe thead th {\n",
       "        text-align: right;\n",
       "    }\n",
       "</style>\n",
       "<table border=\"1\" class=\"dataframe\">\n",
       "  <thead>\n",
       "    <tr style=\"text-align: right;\">\n",
       "      <th></th>\n",
       "      <th>col1</th>\n",
       "      <th>col2</th>\n",
       "      <th>col3</th>\n",
       "    </tr>\n",
       "  </thead>\n",
       "  <tbody>\n",
       "    <tr>\n",
       "      <th>0</th>\n",
       "      <td>A</td>\n",
       "      <td>a1</td>\n",
       "      <td>2.0</td>\n",
       "    </tr>\n",
       "    <tr>\n",
       "      <th>1</th>\n",
       "      <td>A</td>\n",
       "      <td>a2</td>\n",
       "      <td>5.0</td>\n",
       "    </tr>\n",
       "    <tr>\n",
       "      <th>2</th>\n",
       "      <td>B</td>\n",
       "      <td>b1</td>\n",
       "      <td>4.0</td>\n",
       "    </tr>\n",
       "    <tr>\n",
       "      <th>3</th>\n",
       "      <td>B</td>\n",
       "      <td>b2</td>\n",
       "      <td>0.0</td>\n",
       "    </tr>\n",
       "  </tbody>\n",
       "</table>\n",
       "</div>"
      ],
      "text/plain": [
       "  col1 col2  col3\n",
       "0    A   a1   2.0\n",
       "1    A   a2   5.0\n",
       "2    B   b1   4.0\n",
       "3    B   b2   0.0"
      ]
     },
     "execution_count": 87,
     "metadata": {},
     "output_type": "execute_result"
    }
   ],
   "source": [
    "df7.replace(np.nan, 0)"
   ]
  },
  {
   "cell_type": "markdown",
   "id": "de426dd5",
   "metadata": {},
   "source": [
    "## 10.2.7 특정조건을 만족시키는 Data 찾기 ~.where()"
   ]
  },
  {
   "cell_type": "code",
   "execution_count": 88,
   "id": "f4a239ef",
   "metadata": {
    "ExecuteTime": {
     "end_time": "2022-02-16T02:48:10.664196Z",
     "start_time": "2022-02-16T02:48:10.658695Z"
    }
   },
   "outputs": [],
   "source": [
    "filter = (df7['col1']=='A') & (df7['col3']>4)"
   ]
  },
  {
   "cell_type": "code",
   "execution_count": 89,
   "id": "f91f4a45",
   "metadata": {
    "ExecuteTime": {
     "end_time": "2022-02-16T02:48:21.990243Z",
     "start_time": "2022-02-16T02:48:21.975240Z"
    }
   },
   "outputs": [
    {
     "data": {
      "text/html": [
       "<div>\n",
       "<style scoped>\n",
       "    .dataframe tbody tr th:only-of-type {\n",
       "        vertical-align: middle;\n",
       "    }\n",
       "\n",
       "    .dataframe tbody tr th {\n",
       "        vertical-align: top;\n",
       "    }\n",
       "\n",
       "    .dataframe thead th {\n",
       "        text-align: right;\n",
       "    }\n",
       "</style>\n",
       "<table border=\"1\" class=\"dataframe\">\n",
       "  <thead>\n",
       "    <tr style=\"text-align: right;\">\n",
       "      <th></th>\n",
       "      <th>col1</th>\n",
       "      <th>col2</th>\n",
       "      <th>col3</th>\n",
       "    </tr>\n",
       "  </thead>\n",
       "  <tbody>\n",
       "    <tr>\n",
       "      <th>0</th>\n",
       "      <td>NaN</td>\n",
       "      <td>NaN</td>\n",
       "      <td>NaN</td>\n",
       "    </tr>\n",
       "    <tr>\n",
       "      <th>1</th>\n",
       "      <td>A</td>\n",
       "      <td>a2</td>\n",
       "      <td>5.0</td>\n",
       "    </tr>\n",
       "    <tr>\n",
       "      <th>2</th>\n",
       "      <td>NaN</td>\n",
       "      <td>NaN</td>\n",
       "      <td>NaN</td>\n",
       "    </tr>\n",
       "    <tr>\n",
       "      <th>3</th>\n",
       "      <td>NaN</td>\n",
       "      <td>NaN</td>\n",
       "      <td>NaN</td>\n",
       "    </tr>\n",
       "  </tbody>\n",
       "</table>\n",
       "</div>"
      ],
      "text/plain": [
       "  col1 col2  col3\n",
       "0  NaN  NaN   NaN\n",
       "1    A   a2   5.0\n",
       "2  NaN  NaN   NaN\n",
       "3  NaN  NaN   NaN"
      ]
     },
     "execution_count": 89,
     "metadata": {},
     "output_type": "execute_result"
    }
   ],
   "source": [
    "df7.where(filter)"
   ]
  },
  {
   "cell_type": "code",
   "execution_count": 95,
   "id": "48e3a395",
   "metadata": {
    "ExecuteTime": {
     "end_time": "2022-02-16T02:49:18.296716Z",
     "start_time": "2022-02-16T02:49:18.281713Z"
    }
   },
   "outputs": [
    {
     "data": {
      "text/html": [
       "<div>\n",
       "<style scoped>\n",
       "    .dataframe tbody tr th:only-of-type {\n",
       "        vertical-align: middle;\n",
       "    }\n",
       "\n",
       "    .dataframe tbody tr th {\n",
       "        vertical-align: top;\n",
       "    }\n",
       "\n",
       "    .dataframe thead th {\n",
       "        text-align: right;\n",
       "    }\n",
       "</style>\n",
       "<table border=\"1\" class=\"dataframe\">\n",
       "  <thead>\n",
       "    <tr style=\"text-align: right;\">\n",
       "      <th></th>\n",
       "      <th>col1</th>\n",
       "      <th>col2</th>\n",
       "      <th>col3</th>\n",
       "    </tr>\n",
       "  </thead>\n",
       "  <tbody>\n",
       "    <tr>\n",
       "      <th>1</th>\n",
       "      <td>A</td>\n",
       "      <td>a2</td>\n",
       "      <td>5.0</td>\n",
       "    </tr>\n",
       "  </tbody>\n",
       "</table>\n",
       "</div>"
      ],
      "text/plain": [
       "  col1 col2  col3\n",
       "1    A   a2   5.0"
      ]
     },
     "execution_count": 95,
     "metadata": {},
     "output_type": "execute_result"
    }
   ],
   "source": [
    "df7[abs(df7['col3'])>4]"
   ]
  },
  {
   "cell_type": "code",
   "execution_count": 96,
   "id": "34246c75",
   "metadata": {
    "ExecuteTime": {
     "end_time": "2022-02-16T02:50:06.978503Z",
     "start_time": "2022-02-16T02:50:06.971501Z"
    }
   },
   "outputs": [],
   "source": [
    "inlier = lambda x: abs(x) <= 4"
   ]
  },
  {
   "cell_type": "code",
   "execution_count": 97,
   "id": "49f19a3b",
   "metadata": {
    "ExecuteTime": {
     "end_time": "2022-02-16T02:50:36.720193Z",
     "start_time": "2022-02-16T02:50:36.710192Z"
    }
   },
   "outputs": [
    {
     "data": {
      "text/html": [
       "<div>\n",
       "<style scoped>\n",
       "    .dataframe tbody tr th:only-of-type {\n",
       "        vertical-align: middle;\n",
       "    }\n",
       "\n",
       "    .dataframe tbody tr th {\n",
       "        vertical-align: top;\n",
       "    }\n",
       "\n",
       "    .dataframe thead th {\n",
       "        text-align: right;\n",
       "    }\n",
       "</style>\n",
       "<table border=\"1\" class=\"dataframe\">\n",
       "  <thead>\n",
       "    <tr style=\"text-align: right;\">\n",
       "      <th></th>\n",
       "      <th>col1</th>\n",
       "      <th>col2</th>\n",
       "      <th>col3</th>\n",
       "    </tr>\n",
       "  </thead>\n",
       "  <tbody>\n",
       "    <tr>\n",
       "      <th>0</th>\n",
       "      <td>A</td>\n",
       "      <td>a1</td>\n",
       "      <td>2.0</td>\n",
       "    </tr>\n",
       "    <tr>\n",
       "      <th>1</th>\n",
       "      <td>A</td>\n",
       "      <td>a2</td>\n",
       "      <td>NaN</td>\n",
       "    </tr>\n",
       "    <tr>\n",
       "      <th>2</th>\n",
       "      <td>B</td>\n",
       "      <td>b1</td>\n",
       "      <td>4.0</td>\n",
       "    </tr>\n",
       "    <tr>\n",
       "      <th>3</th>\n",
       "      <td>B</td>\n",
       "      <td>b2</td>\n",
       "      <td>NaN</td>\n",
       "    </tr>\n",
       "  </tbody>\n",
       "</table>\n",
       "</div>"
      ],
      "text/plain": [
       "  col1 col2  col3\n",
       "0    A   a1   2.0\n",
       "1    A   a2   NaN\n",
       "2    B   b1   4.0\n",
       "3    B   b2   NaN"
      ]
     },
     "execution_count": 97,
     "metadata": {},
     "output_type": "execute_result"
    }
   ],
   "source": [
    "df7['col3'] = df7['col3'].where(inlier, np.nan); df7"
   ]
  },
  {
   "cell_type": "markdown",
   "id": "7b94daa9",
   "metadata": {},
   "source": [
    "## 10.2.8 합 / 평균 / 최소 / 최대치 구하기"
   ]
  },
  {
   "cell_type": "code",
   "execution_count": 104,
   "id": "9dcebda9",
   "metadata": {
    "ExecuteTime": {
     "end_time": "2022-02-16T03:01:40.492740Z",
     "start_time": "2022-02-16T03:01:40.489738Z"
    }
   },
   "outputs": [],
   "source": [
    "df8 = pd.DataFrame([[4,2],\n",
    "                    [9,3],\n",
    "                    [-1,8],\n",
    "                    [5,np.nan]],\n",
    "                  columns=['A','B'],)"
   ]
  },
  {
   "cell_type": "code",
   "execution_count": 105,
   "id": "4f41430d",
   "metadata": {
    "ExecuteTime": {
     "end_time": "2022-02-16T03:01:53.153859Z",
     "start_time": "2022-02-16T03:01:53.135856Z"
    }
   },
   "outputs": [
    {
     "data": {
      "text/html": [
       "<div>\n",
       "<style scoped>\n",
       "    .dataframe tbody tr th:only-of-type {\n",
       "        vertical-align: middle;\n",
       "    }\n",
       "\n",
       "    .dataframe tbody tr th {\n",
       "        vertical-align: top;\n",
       "    }\n",
       "\n",
       "    .dataframe thead th {\n",
       "        text-align: right;\n",
       "    }\n",
       "</style>\n",
       "<table border=\"1\" class=\"dataframe\">\n",
       "  <thead>\n",
       "    <tr style=\"text-align: right;\">\n",
       "      <th></th>\n",
       "      <th>A</th>\n",
       "      <th>B</th>\n",
       "    </tr>\n",
       "  </thead>\n",
       "  <tbody>\n",
       "    <tr>\n",
       "      <th>0</th>\n",
       "      <td>4</td>\n",
       "      <td>2.0</td>\n",
       "    </tr>\n",
       "    <tr>\n",
       "      <th>1</th>\n",
       "      <td>9</td>\n",
       "      <td>3.0</td>\n",
       "    </tr>\n",
       "    <tr>\n",
       "      <th>2</th>\n",
       "      <td>-1</td>\n",
       "      <td>8.0</td>\n",
       "    </tr>\n",
       "    <tr>\n",
       "      <th>3</th>\n",
       "      <td>5</td>\n",
       "      <td>NaN</td>\n",
       "    </tr>\n",
       "  </tbody>\n",
       "</table>\n",
       "</div>"
      ],
      "text/plain": [
       "   A    B\n",
       "0  4  2.0\n",
       "1  9  3.0\n",
       "2 -1  8.0\n",
       "3  5  NaN"
      ]
     },
     "execution_count": 105,
     "metadata": {},
     "output_type": "execute_result"
    }
   ],
   "source": [
    "df8"
   ]
  },
  {
   "cell_type": "code",
   "execution_count": 106,
   "id": "d3645c2f",
   "metadata": {
    "ExecuteTime": {
     "end_time": "2022-02-16T03:02:04.331403Z",
     "start_time": "2022-02-16T03:02:04.316401Z"
    }
   },
   "outputs": [
    {
     "data": {
      "text/plain": [
       "A    17.0\n",
       "B    13.0\n",
       "dtype: float64"
      ]
     },
     "execution_count": 106,
     "metadata": {},
     "output_type": "execute_result"
    }
   ],
   "source": [
    "df8.sum()"
   ]
  },
  {
   "cell_type": "code",
   "execution_count": 108,
   "id": "e97da35c",
   "metadata": {
    "ExecuteTime": {
     "end_time": "2022-02-16T03:02:26.718345Z",
     "start_time": "2022-02-16T03:02:26.701842Z"
    }
   },
   "outputs": [
    {
     "data": {
      "text/plain": [
       "A    17.0\n",
       "B     NaN\n",
       "dtype: float64"
      ]
     },
     "execution_count": 108,
     "metadata": {},
     "output_type": "execute_result"
    }
   ],
   "source": [
    "df8.sum(skipna=False)"
   ]
  },
  {
   "cell_type": "code",
   "execution_count": 109,
   "id": "863f15ed",
   "metadata": {
    "ExecuteTime": {
     "end_time": "2022-02-16T03:02:35.382582Z",
     "start_time": "2022-02-16T03:02:35.372580Z"
    }
   },
   "outputs": [
    {
     "data": {
      "text/plain": [
       "0     6.0\n",
       "1    12.0\n",
       "2     7.0\n",
       "3     5.0\n",
       "dtype: float64"
      ]
     },
     "execution_count": 109,
     "metadata": {},
     "output_type": "execute_result"
    }
   ],
   "source": [
    "df8.sum(axis=1)"
   ]
  },
  {
   "cell_type": "code",
   "execution_count": 110,
   "id": "5c381105",
   "metadata": {
    "ExecuteTime": {
     "end_time": "2022-02-16T03:02:52.115044Z",
     "start_time": "2022-02-16T03:02:52.106042Z"
    }
   },
   "outputs": [
    {
     "data": {
      "text/plain": [
       "A    9.0\n",
       "B    8.0\n",
       "dtype: float64"
      ]
     },
     "execution_count": 110,
     "metadata": {},
     "output_type": "execute_result"
    }
   ],
   "source": [
    "df8.max()"
   ]
  },
  {
   "cell_type": "code",
   "execution_count": 111,
   "id": "b7eab32c",
   "metadata": {
    "ExecuteTime": {
     "end_time": "2022-02-16T03:03:10.769774Z",
     "start_time": "2022-02-16T03:03:10.765774Z"
    }
   },
   "outputs": [
    {
     "data": {
      "text/plain": [
       "A    1\n",
       "B    2\n",
       "dtype: int64"
      ]
     },
     "execution_count": 111,
     "metadata": {},
     "output_type": "execute_result"
    }
   ],
   "source": [
    "df8.idxmax() #각 열의 최대값에 대한 index들"
   ]
  },
  {
   "cell_type": "code",
   "execution_count": 113,
   "id": "99b8ba10",
   "metadata": {
    "ExecuteTime": {
     "end_time": "2022-02-16T03:03:51.538502Z",
     "start_time": "2022-02-16T03:03:51.526500Z"
    }
   },
   "outputs": [
    {
     "data": {
      "text/html": [
       "<div>\n",
       "<style scoped>\n",
       "    .dataframe tbody tr th:only-of-type {\n",
       "        vertical-align: middle;\n",
       "    }\n",
       "\n",
       "    .dataframe tbody tr th {\n",
       "        vertical-align: top;\n",
       "    }\n",
       "\n",
       "    .dataframe thead th {\n",
       "        text-align: right;\n",
       "    }\n",
       "</style>\n",
       "<table border=\"1\" class=\"dataframe\">\n",
       "  <thead>\n",
       "    <tr style=\"text-align: right;\">\n",
       "      <th></th>\n",
       "      <th>A</th>\n",
       "      <th>B</th>\n",
       "    </tr>\n",
       "  </thead>\n",
       "  <tbody>\n",
       "    <tr>\n",
       "      <th>count</th>\n",
       "      <td>4.000000</td>\n",
       "      <td>3.000000</td>\n",
       "    </tr>\n",
       "    <tr>\n",
       "      <th>mean</th>\n",
       "      <td>4.250000</td>\n",
       "      <td>4.333333</td>\n",
       "    </tr>\n",
       "    <tr>\n",
       "      <th>std</th>\n",
       "      <td>4.112988</td>\n",
       "      <td>3.214550</td>\n",
       "    </tr>\n",
       "    <tr>\n",
       "      <th>min</th>\n",
       "      <td>-1.000000</td>\n",
       "      <td>2.000000</td>\n",
       "    </tr>\n",
       "    <tr>\n",
       "      <th>25%</th>\n",
       "      <td>2.750000</td>\n",
       "      <td>2.500000</td>\n",
       "    </tr>\n",
       "    <tr>\n",
       "      <th>50%</th>\n",
       "      <td>4.500000</td>\n",
       "      <td>3.000000</td>\n",
       "    </tr>\n",
       "    <tr>\n",
       "      <th>75%</th>\n",
       "      <td>6.000000</td>\n",
       "      <td>5.500000</td>\n",
       "    </tr>\n",
       "    <tr>\n",
       "      <th>max</th>\n",
       "      <td>9.000000</td>\n",
       "      <td>8.000000</td>\n",
       "    </tr>\n",
       "  </tbody>\n",
       "</table>\n",
       "</div>"
      ],
      "text/plain": [
       "              A         B\n",
       "count  4.000000  3.000000\n",
       "mean   4.250000  4.333333\n",
       "std    4.112988  3.214550\n",
       "min   -1.000000  2.000000\n",
       "25%    2.750000  2.500000\n",
       "50%    4.500000  3.000000\n",
       "75%    6.000000  5.500000\n",
       "max    9.000000  8.000000"
      ]
     },
     "execution_count": 113,
     "metadata": {},
     "output_type": "execute_result"
    }
   ],
   "source": [
    "df8.describe() # 각 열의 요소 개수, 평균, 표준편차, 최소값 등"
   ]
  },
  {
   "cell_type": "markdown",
   "id": "60d71f74",
   "metadata": {},
   "source": [
    "## 10.2.9 Function 적용과 Mapping ~.apply(), ~.applymap(), ~.assign()"
   ]
  },
  {
   "cell_type": "code",
   "execution_count": 114,
   "id": "7a2ee85a",
   "metadata": {
    "ExecuteTime": {
     "end_time": "2022-02-16T03:04:54.166071Z",
     "start_time": "2022-02-16T03:04:54.151068Z"
    }
   },
   "outputs": [
    {
     "data": {
      "text/plain": [
       "A    17.0\n",
       "B    13.0\n",
       "dtype: float64"
      ]
     },
     "execution_count": 114,
     "metadata": {},
     "output_type": "execute_result"
    }
   ],
   "source": [
    "df8.apply(np.sum)"
   ]
  },
  {
   "cell_type": "code",
   "execution_count": 115,
   "id": "82d9f035",
   "metadata": {
    "ExecuteTime": {
     "end_time": "2022-02-16T03:05:00.483653Z",
     "start_time": "2022-02-16T03:05:00.476152Z"
    }
   },
   "outputs": [
    {
     "data": {
      "text/html": [
       "<div>\n",
       "<style scoped>\n",
       "    .dataframe tbody tr th:only-of-type {\n",
       "        vertical-align: middle;\n",
       "    }\n",
       "\n",
       "    .dataframe tbody tr th {\n",
       "        vertical-align: top;\n",
       "    }\n",
       "\n",
       "    .dataframe thead th {\n",
       "        text-align: right;\n",
       "    }\n",
       "</style>\n",
       "<table border=\"1\" class=\"dataframe\">\n",
       "  <thead>\n",
       "    <tr style=\"text-align: right;\">\n",
       "      <th></th>\n",
       "      <th>A</th>\n",
       "      <th>B</th>\n",
       "    </tr>\n",
       "  </thead>\n",
       "  <tbody>\n",
       "    <tr>\n",
       "      <th>0</th>\n",
       "      <td>2.000000</td>\n",
       "      <td>1.414214</td>\n",
       "    </tr>\n",
       "    <tr>\n",
       "      <th>1</th>\n",
       "      <td>3.000000</td>\n",
       "      <td>1.732051</td>\n",
       "    </tr>\n",
       "    <tr>\n",
       "      <th>2</th>\n",
       "      <td>NaN</td>\n",
       "      <td>2.828427</td>\n",
       "    </tr>\n",
       "    <tr>\n",
       "      <th>3</th>\n",
       "      <td>2.236068</td>\n",
       "      <td>NaN</td>\n",
       "    </tr>\n",
       "  </tbody>\n",
       "</table>\n",
       "</div>"
      ],
      "text/plain": [
       "          A         B\n",
       "0  2.000000  1.414214\n",
       "1  3.000000  1.732051\n",
       "2       NaN  2.828427\n",
       "3  2.236068       NaN"
      ]
     },
     "execution_count": 115,
     "metadata": {},
     "output_type": "execute_result"
    }
   ],
   "source": [
    "df8.apply(np.sqrt)"
   ]
  },
  {
   "cell_type": "code",
   "execution_count": 116,
   "id": "e5c93eb2",
   "metadata": {
    "ExecuteTime": {
     "end_time": "2022-02-16T03:05:15.095500Z",
     "start_time": "2022-02-16T03:05:15.090499Z"
    }
   },
   "outputs": [],
   "source": [
    "f = lambda x: max(x) - min(x)"
   ]
  },
  {
   "cell_type": "code",
   "execution_count": 117,
   "id": "8cf5d8c1",
   "metadata": {
    "ExecuteTime": {
     "end_time": "2022-02-16T03:05:25.036980Z",
     "start_time": "2022-02-16T03:05:25.031480Z"
    }
   },
   "outputs": [
    {
     "data": {
      "text/plain": [
       "A    10.0\n",
       "B     6.0\n",
       "dtype: float64"
      ]
     },
     "execution_count": 117,
     "metadata": {},
     "output_type": "execute_result"
    }
   ],
   "source": [
    "df8.apply(f)"
   ]
  },
  {
   "cell_type": "code",
   "execution_count": 118,
   "id": "200fb94c",
   "metadata": {
    "ExecuteTime": {
     "end_time": "2022-02-16T03:05:37.916413Z",
     "start_time": "2022-02-16T03:05:37.901910Z"
    }
   },
   "outputs": [],
   "source": [
    "f2 = lambda x: x**2"
   ]
  },
  {
   "cell_type": "code",
   "execution_count": 119,
   "id": "2456a709",
   "metadata": {
    "ExecuteTime": {
     "end_time": "2022-02-16T03:05:41.907841Z",
     "start_time": "2022-02-16T03:05:41.895339Z"
    }
   },
   "outputs": [
    {
     "data": {
      "text/html": [
       "<div>\n",
       "<style scoped>\n",
       "    .dataframe tbody tr th:only-of-type {\n",
       "        vertical-align: middle;\n",
       "    }\n",
       "\n",
       "    .dataframe tbody tr th {\n",
       "        vertical-align: top;\n",
       "    }\n",
       "\n",
       "    .dataframe thead th {\n",
       "        text-align: right;\n",
       "    }\n",
       "</style>\n",
       "<table border=\"1\" class=\"dataframe\">\n",
       "  <thead>\n",
       "    <tr style=\"text-align: right;\">\n",
       "      <th></th>\n",
       "      <th>A</th>\n",
       "      <th>B</th>\n",
       "    </tr>\n",
       "  </thead>\n",
       "  <tbody>\n",
       "    <tr>\n",
       "      <th>0</th>\n",
       "      <td>16</td>\n",
       "      <td>4.0</td>\n",
       "    </tr>\n",
       "    <tr>\n",
       "      <th>1</th>\n",
       "      <td>81</td>\n",
       "      <td>9.0</td>\n",
       "    </tr>\n",
       "    <tr>\n",
       "      <th>2</th>\n",
       "      <td>1</td>\n",
       "      <td>64.0</td>\n",
       "    </tr>\n",
       "    <tr>\n",
       "      <th>3</th>\n",
       "      <td>25</td>\n",
       "      <td>NaN</td>\n",
       "    </tr>\n",
       "  </tbody>\n",
       "</table>\n",
       "</div>"
      ],
      "text/plain": [
       "    A     B\n",
       "0  16   4.0\n",
       "1  81   9.0\n",
       "2   1  64.0\n",
       "3  25   NaN"
      ]
     },
     "execution_count": 119,
     "metadata": {},
     "output_type": "execute_result"
    }
   ],
   "source": [
    "df8.apply(f2)"
   ]
  },
  {
   "cell_type": "code",
   "execution_count": 120,
   "id": "c64a6304",
   "metadata": {
    "ExecuteTime": {
     "end_time": "2022-02-16T03:05:47.895394Z",
     "start_time": "2022-02-16T03:05:47.877890Z"
    }
   },
   "outputs": [
    {
     "data": {
      "text/html": [
       "<div>\n",
       "<style scoped>\n",
       "    .dataframe tbody tr th:only-of-type {\n",
       "        vertical-align: middle;\n",
       "    }\n",
       "\n",
       "    .dataframe tbody tr th {\n",
       "        vertical-align: top;\n",
       "    }\n",
       "\n",
       "    .dataframe thead th {\n",
       "        text-align: right;\n",
       "    }\n",
       "</style>\n",
       "<table border=\"1\" class=\"dataframe\">\n",
       "  <thead>\n",
       "    <tr style=\"text-align: right;\">\n",
       "      <th></th>\n",
       "      <th>A</th>\n",
       "      <th>B</th>\n",
       "    </tr>\n",
       "  </thead>\n",
       "  <tbody>\n",
       "    <tr>\n",
       "      <th>0</th>\n",
       "      <td>16</td>\n",
       "      <td>4.0</td>\n",
       "    </tr>\n",
       "    <tr>\n",
       "      <th>1</th>\n",
       "      <td>81</td>\n",
       "      <td>9.0</td>\n",
       "    </tr>\n",
       "    <tr>\n",
       "      <th>2</th>\n",
       "      <td>1</td>\n",
       "      <td>64.0</td>\n",
       "    </tr>\n",
       "    <tr>\n",
       "      <th>3</th>\n",
       "      <td>25</td>\n",
       "      <td>NaN</td>\n",
       "    </tr>\n",
       "  </tbody>\n",
       "</table>\n",
       "</div>"
      ],
      "text/plain": [
       "    A     B\n",
       "0  16   4.0\n",
       "1  81   9.0\n",
       "2   1  64.0\n",
       "3  25   NaN"
      ]
     },
     "execution_count": 120,
     "metadata": {},
     "output_type": "execute_result"
    }
   ],
   "source": [
    "df8**2"
   ]
  },
  {
   "cell_type": "code",
   "execution_count": 121,
   "id": "28a6d8da",
   "metadata": {
    "ExecuteTime": {
     "end_time": "2022-02-16T03:06:14.043213Z",
     "start_time": "2022-02-16T03:06:14.028711Z"
    }
   },
   "outputs": [],
   "source": [
    "format = lambda x: '%.2f' %x"
   ]
  },
  {
   "cell_type": "code",
   "execution_count": 122,
   "id": "8c231803",
   "metadata": {
    "ExecuteTime": {
     "end_time": "2022-02-16T03:06:20.821045Z",
     "start_time": "2022-02-16T03:06:20.805542Z"
    }
   },
   "outputs": [
    {
     "data": {
      "text/html": [
       "<div>\n",
       "<style scoped>\n",
       "    .dataframe tbody tr th:only-of-type {\n",
       "        vertical-align: middle;\n",
       "    }\n",
       "\n",
       "    .dataframe tbody tr th {\n",
       "        vertical-align: top;\n",
       "    }\n",
       "\n",
       "    .dataframe thead th {\n",
       "        text-align: right;\n",
       "    }\n",
       "</style>\n",
       "<table border=\"1\" class=\"dataframe\">\n",
       "  <thead>\n",
       "    <tr style=\"text-align: right;\">\n",
       "      <th></th>\n",
       "      <th>A</th>\n",
       "      <th>B</th>\n",
       "    </tr>\n",
       "  </thead>\n",
       "  <tbody>\n",
       "    <tr>\n",
       "      <th>0</th>\n",
       "      <td>4.00</td>\n",
       "      <td>2.00</td>\n",
       "    </tr>\n",
       "    <tr>\n",
       "      <th>1</th>\n",
       "      <td>9.00</td>\n",
       "      <td>3.00</td>\n",
       "    </tr>\n",
       "    <tr>\n",
       "      <th>2</th>\n",
       "      <td>-1.00</td>\n",
       "      <td>8.00</td>\n",
       "    </tr>\n",
       "    <tr>\n",
       "      <th>3</th>\n",
       "      <td>5.00</td>\n",
       "      <td>nan</td>\n",
       "    </tr>\n",
       "  </tbody>\n",
       "</table>\n",
       "</div>"
      ],
      "text/plain": [
       "       A     B\n",
       "0   4.00  2.00\n",
       "1   9.00  3.00\n",
       "2  -1.00  8.00\n",
       "3   5.00   nan"
      ]
     },
     "execution_count": 122,
     "metadata": {},
     "output_type": "execute_result"
    }
   ],
   "source": [
    "df8.applymap(format)"
   ]
  },
  {
   "cell_type": "code",
   "execution_count": 135,
   "id": "c97ca92e",
   "metadata": {
    "ExecuteTime": {
     "end_time": "2022-02-16T03:11:22.442889Z",
     "start_time": "2022-02-16T03:11:22.431387Z"
    }
   },
   "outputs": [],
   "source": [
    "c2f = lambda x: x.B*2 + x.A #x.B는 x의 B열"
   ]
  },
  {
   "cell_type": "code",
   "execution_count": 136,
   "id": "4a034eee",
   "metadata": {
    "ExecuteTime": {
     "end_time": "2022-02-16T03:11:22.688941Z",
     "start_time": "2022-02-16T03:11:22.672438Z"
    }
   },
   "outputs": [
    {
     "data": {
      "text/html": [
       "<div>\n",
       "<style scoped>\n",
       "    .dataframe tbody tr th:only-of-type {\n",
       "        vertical-align: middle;\n",
       "    }\n",
       "\n",
       "    .dataframe tbody tr th {\n",
       "        vertical-align: top;\n",
       "    }\n",
       "\n",
       "    .dataframe thead th {\n",
       "        text-align: right;\n",
       "    }\n",
       "</style>\n",
       "<table border=\"1\" class=\"dataframe\">\n",
       "  <thead>\n",
       "    <tr style=\"text-align: right;\">\n",
       "      <th></th>\n",
       "      <th>A</th>\n",
       "      <th>B</th>\n",
       "      <th>C</th>\n",
       "    </tr>\n",
       "  </thead>\n",
       "  <tbody>\n",
       "    <tr>\n",
       "      <th>0</th>\n",
       "      <td>4</td>\n",
       "      <td>2.0</td>\n",
       "      <td>8.0</td>\n",
       "    </tr>\n",
       "    <tr>\n",
       "      <th>1</th>\n",
       "      <td>9</td>\n",
       "      <td>3.0</td>\n",
       "      <td>15.0</td>\n",
       "    </tr>\n",
       "    <tr>\n",
       "      <th>2</th>\n",
       "      <td>-1</td>\n",
       "      <td>8.0</td>\n",
       "      <td>15.0</td>\n",
       "    </tr>\n",
       "    <tr>\n",
       "      <th>3</th>\n",
       "      <td>5</td>\n",
       "      <td>NaN</td>\n",
       "      <td>NaN</td>\n",
       "    </tr>\n",
       "  </tbody>\n",
       "</table>\n",
       "</div>"
      ],
      "text/plain": [
       "   A    B     C\n",
       "0  4  2.0   8.0\n",
       "1  9  3.0  15.0\n",
       "2 -1  8.0  15.0\n",
       "3  5  NaN   NaN"
      ]
     },
     "execution_count": 136,
     "metadata": {},
     "output_type": "execute_result"
    }
   ],
   "source": [
    "df8_1 = df8.assign(C=c2f); df8_1"
   ]
  },
  {
   "cell_type": "code",
   "execution_count": 137,
   "id": "f628ff04",
   "metadata": {
    "ExecuteTime": {
     "end_time": "2022-02-16T03:11:23.627410Z",
     "start_time": "2022-02-16T03:11:23.618408Z"
    }
   },
   "outputs": [],
   "source": [
    "df8_2 = df8_1.copy()"
   ]
  },
  {
   "cell_type": "code",
   "execution_count": 140,
   "id": "087b61c9",
   "metadata": {
    "ExecuteTime": {
     "end_time": "2022-02-16T03:11:49.842138Z",
     "start_time": "2022-02-16T03:11:49.826136Z"
    }
   },
   "outputs": [],
   "source": [
    "df8_2['C'] = df8_2['C'].clip(9,16) #수의 범위를 (9,16) 구간으로 제한"
   ]
  },
  {
   "cell_type": "code",
   "execution_count": 141,
   "id": "df6e2898",
   "metadata": {
    "ExecuteTime": {
     "end_time": "2022-02-16T03:11:50.027257Z",
     "start_time": "2022-02-16T03:11:50.019255Z"
    }
   },
   "outputs": [
    {
     "data": {
      "text/html": [
       "<div>\n",
       "<style scoped>\n",
       "    .dataframe tbody tr th:only-of-type {\n",
       "        vertical-align: middle;\n",
       "    }\n",
       "\n",
       "    .dataframe tbody tr th {\n",
       "        vertical-align: top;\n",
       "    }\n",
       "\n",
       "    .dataframe thead th {\n",
       "        text-align: right;\n",
       "    }\n",
       "</style>\n",
       "<table border=\"1\" class=\"dataframe\">\n",
       "  <thead>\n",
       "    <tr style=\"text-align: right;\">\n",
       "      <th></th>\n",
       "      <th>A</th>\n",
       "      <th>B</th>\n",
       "      <th>C</th>\n",
       "    </tr>\n",
       "  </thead>\n",
       "  <tbody>\n",
       "    <tr>\n",
       "      <th>0</th>\n",
       "      <td>4</td>\n",
       "      <td>2.0</td>\n",
       "      <td>9.0</td>\n",
       "    </tr>\n",
       "    <tr>\n",
       "      <th>1</th>\n",
       "      <td>9</td>\n",
       "      <td>3.0</td>\n",
       "      <td>15.0</td>\n",
       "    </tr>\n",
       "    <tr>\n",
       "      <th>2</th>\n",
       "      <td>-1</td>\n",
       "      <td>8.0</td>\n",
       "      <td>15.0</td>\n",
       "    </tr>\n",
       "    <tr>\n",
       "      <th>3</th>\n",
       "      <td>5</td>\n",
       "      <td>NaN</td>\n",
       "      <td>NaN</td>\n",
       "    </tr>\n",
       "  </tbody>\n",
       "</table>\n",
       "</div>"
      ],
      "text/plain": [
       "   A    B     C\n",
       "0  4  2.0   9.0\n",
       "1  9  3.0  15.0\n",
       "2 -1  8.0  15.0\n",
       "3  5  NaN   NaN"
      ]
     },
     "execution_count": 141,
     "metadata": {},
     "output_type": "execute_result"
    }
   ],
   "source": [
    "df8_2"
   ]
  },
  {
   "cell_type": "code",
   "execution_count": 142,
   "id": "c3cf22f6",
   "metadata": {
    "ExecuteTime": {
     "end_time": "2022-02-16T03:12:40.006460Z",
     "start_time": "2022-02-16T03:12:39.991958Z"
    }
   },
   "outputs": [],
   "source": [
    "pd.options.display.float_format = '{:,.3f}'.format #모든 float을 소수점 세자리까지 표시"
   ]
  },
  {
   "cell_type": "code",
   "execution_count": 143,
   "id": "aa4150a4",
   "metadata": {
    "ExecuteTime": {
     "end_time": "2022-02-16T03:12:46.562100Z",
     "start_time": "2022-02-16T03:12:46.542596Z"
    }
   },
   "outputs": [
    {
     "data": {
      "text/html": [
       "<div>\n",
       "<style scoped>\n",
       "    .dataframe tbody tr th:only-of-type {\n",
       "        vertical-align: middle;\n",
       "    }\n",
       "\n",
       "    .dataframe tbody tr th {\n",
       "        vertical-align: top;\n",
       "    }\n",
       "\n",
       "    .dataframe thead th {\n",
       "        text-align: right;\n",
       "    }\n",
       "</style>\n",
       "<table border=\"1\" class=\"dataframe\">\n",
       "  <thead>\n",
       "    <tr style=\"text-align: right;\">\n",
       "      <th></th>\n",
       "      <th>A</th>\n",
       "      <th>B</th>\n",
       "      <th>C</th>\n",
       "    </tr>\n",
       "  </thead>\n",
       "  <tbody>\n",
       "    <tr>\n",
       "      <th>0</th>\n",
       "      <td>4</td>\n",
       "      <td>2.000</td>\n",
       "      <td>9.000</td>\n",
       "    </tr>\n",
       "    <tr>\n",
       "      <th>1</th>\n",
       "      <td>9</td>\n",
       "      <td>3.000</td>\n",
       "      <td>15.000</td>\n",
       "    </tr>\n",
       "    <tr>\n",
       "      <th>2</th>\n",
       "      <td>-1</td>\n",
       "      <td>8.000</td>\n",
       "      <td>15.000</td>\n",
       "    </tr>\n",
       "    <tr>\n",
       "      <th>3</th>\n",
       "      <td>5</td>\n",
       "      <td>NaN</td>\n",
       "      <td>NaN</td>\n",
       "    </tr>\n",
       "  </tbody>\n",
       "</table>\n",
       "</div>"
      ],
      "text/plain": [
       "   A     B      C\n",
       "0  4 2.000  9.000\n",
       "1  9 3.000 15.000\n",
       "2 -1 8.000 15.000\n",
       "3  5   NaN    NaN"
      ]
     },
     "execution_count": 143,
     "metadata": {},
     "output_type": "execute_result"
    }
   ],
   "source": [
    "df8_2"
   ]
  },
  {
   "cell_type": "markdown",
   "id": "4f97a8b8",
   "metadata": {},
   "source": [
    "## 10.2.10 Group별 Function 적용 ~.groupby(), ~.agg(), ~.apply(), ~.pivot_table()"
   ]
  },
  {
   "cell_type": "code",
   "execution_count": 144,
   "id": "57704e54",
   "metadata": {
    "ExecuteTime": {
     "end_time": "2022-02-16T03:15:01.165189Z",
     "start_time": "2022-02-16T03:15:01.154187Z"
    }
   },
   "outputs": [],
   "source": [
    "df = pd.DataFrame({'State': ['CA','NY','NY','CA','NY','CA','CA','NY'],\n",
    "                   'Gender': ['M','M','F','F','F','F','M','M'],\n",
    "                   'Income': [21,17,23,32,25,14,29,18],\n",
    "                   'Expense': [15,21,28,13,21,18,25,15]})"
   ]
  },
  {
   "cell_type": "code",
   "execution_count": 145,
   "id": "81e478f3",
   "metadata": {
    "ExecuteTime": {
     "end_time": "2022-02-16T03:15:26.076066Z",
     "start_time": "2022-02-16T03:15:26.070565Z"
    }
   },
   "outputs": [
    {
     "data": {
      "text/html": [
       "<div>\n",
       "<style scoped>\n",
       "    .dataframe tbody tr th:only-of-type {\n",
       "        vertical-align: middle;\n",
       "    }\n",
       "\n",
       "    .dataframe tbody tr th {\n",
       "        vertical-align: top;\n",
       "    }\n",
       "\n",
       "    .dataframe thead th {\n",
       "        text-align: right;\n",
       "    }\n",
       "</style>\n",
       "<table border=\"1\" class=\"dataframe\">\n",
       "  <thead>\n",
       "    <tr style=\"text-align: right;\">\n",
       "      <th></th>\n",
       "      <th>State</th>\n",
       "      <th>Gender</th>\n",
       "      <th>Income</th>\n",
       "      <th>Expense</th>\n",
       "      <th>Revenue</th>\n",
       "    </tr>\n",
       "  </thead>\n",
       "  <tbody>\n",
       "    <tr>\n",
       "      <th>0</th>\n",
       "      <td>CA</td>\n",
       "      <td>M</td>\n",
       "      <td>21</td>\n",
       "      <td>15</td>\n",
       "      <td>6</td>\n",
       "    </tr>\n",
       "    <tr>\n",
       "      <th>1</th>\n",
       "      <td>NY</td>\n",
       "      <td>M</td>\n",
       "      <td>17</td>\n",
       "      <td>21</td>\n",
       "      <td>-4</td>\n",
       "    </tr>\n",
       "    <tr>\n",
       "      <th>2</th>\n",
       "      <td>NY</td>\n",
       "      <td>F</td>\n",
       "      <td>23</td>\n",
       "      <td>28</td>\n",
       "      <td>-5</td>\n",
       "    </tr>\n",
       "    <tr>\n",
       "      <th>3</th>\n",
       "      <td>CA</td>\n",
       "      <td>F</td>\n",
       "      <td>32</td>\n",
       "      <td>13</td>\n",
       "      <td>19</td>\n",
       "    </tr>\n",
       "    <tr>\n",
       "      <th>4</th>\n",
       "      <td>NY</td>\n",
       "      <td>F</td>\n",
       "      <td>25</td>\n",
       "      <td>21</td>\n",
       "      <td>4</td>\n",
       "    </tr>\n",
       "    <tr>\n",
       "      <th>5</th>\n",
       "      <td>CA</td>\n",
       "      <td>F</td>\n",
       "      <td>14</td>\n",
       "      <td>18</td>\n",
       "      <td>-4</td>\n",
       "    </tr>\n",
       "    <tr>\n",
       "      <th>6</th>\n",
       "      <td>CA</td>\n",
       "      <td>M</td>\n",
       "      <td>29</td>\n",
       "      <td>25</td>\n",
       "      <td>4</td>\n",
       "    </tr>\n",
       "    <tr>\n",
       "      <th>7</th>\n",
       "      <td>NY</td>\n",
       "      <td>M</td>\n",
       "      <td>18</td>\n",
       "      <td>15</td>\n",
       "      <td>3</td>\n",
       "    </tr>\n",
       "  </tbody>\n",
       "</table>\n",
       "</div>"
      ],
      "text/plain": [
       "  State Gender  Income  Expense  Revenue\n",
       "0    CA      M      21       15        6\n",
       "1    NY      M      17       21       -4\n",
       "2    NY      F      23       28       -5\n",
       "3    CA      F      32       13       19\n",
       "4    NY      F      25       21        4\n",
       "5    CA      F      14       18       -4\n",
       "6    CA      M      29       25        4\n",
       "7    NY      M      18       15        3"
      ]
     },
     "execution_count": 145,
     "metadata": {},
     "output_type": "execute_result"
    }
   ],
   "source": [
    "df['Revenue'] = df['Income'] - df['Expense']; df"
   ]
  },
  {
   "cell_type": "code",
   "execution_count": 152,
   "id": "c30aa77b",
   "metadata": {
    "ExecuteTime": {
     "end_time": "2022-02-16T03:17:09.547896Z",
     "start_time": "2022-02-16T03:17:09.529893Z"
    }
   },
   "outputs": [],
   "source": [
    "groups_G = df.groupby('Gender')"
   ]
  },
  {
   "cell_type": "code",
   "execution_count": 153,
   "id": "e4b7a9a0",
   "metadata": {
    "ExecuteTime": {
     "end_time": "2022-02-16T03:17:09.702350Z",
     "start_time": "2022-02-16T03:17:09.682347Z"
    }
   },
   "outputs": [
    {
     "name": "stdout",
     "output_type": "stream",
     "text": [
      "F\n",
      "  State Gender  Income  Expense  Revenue\n",
      "2    NY      F      23       28       -5\n",
      "3    CA      F      32       13       19\n",
      "4    NY      F      25       21        4\n",
      "5    CA      F      14       18       -4\n",
      "M\n",
      "  State Gender  Income  Expense  Revenue\n",
      "0    CA      M      21       15        6\n",
      "1    NY      M      17       21       -4\n",
      "6    CA      M      29       25        4\n",
      "7    NY      M      18       15        3\n"
     ]
    }
   ],
   "source": [
    "for name, group in groups_G:\n",
    "    print(name); print(group)"
   ]
  },
  {
   "cell_type": "code",
   "execution_count": 154,
   "id": "11adf48b",
   "metadata": {
    "ExecuteTime": {
     "end_time": "2022-02-16T03:17:09.841548Z",
     "start_time": "2022-02-16T03:17:09.823545Z"
    }
   },
   "outputs": [
    {
     "data": {
      "text/html": [
       "<div>\n",
       "<style scoped>\n",
       "    .dataframe tbody tr th:only-of-type {\n",
       "        vertical-align: middle;\n",
       "    }\n",
       "\n",
       "    .dataframe tbody tr th {\n",
       "        vertical-align: top;\n",
       "    }\n",
       "\n",
       "    .dataframe thead th {\n",
       "        text-align: right;\n",
       "    }\n",
       "</style>\n",
       "<table border=\"1\" class=\"dataframe\">\n",
       "  <thead>\n",
       "    <tr style=\"text-align: right;\">\n",
       "      <th></th>\n",
       "      <th>State</th>\n",
       "      <th>Gender</th>\n",
       "      <th>Income</th>\n",
       "      <th>Expense</th>\n",
       "      <th>Revenue</th>\n",
       "    </tr>\n",
       "  </thead>\n",
       "  <tbody>\n",
       "    <tr>\n",
       "      <th>0</th>\n",
       "      <td>CA</td>\n",
       "      <td>M</td>\n",
       "      <td>21</td>\n",
       "      <td>15</td>\n",
       "      <td>6</td>\n",
       "    </tr>\n",
       "    <tr>\n",
       "      <th>1</th>\n",
       "      <td>NY</td>\n",
       "      <td>M</td>\n",
       "      <td>17</td>\n",
       "      <td>21</td>\n",
       "      <td>-4</td>\n",
       "    </tr>\n",
       "    <tr>\n",
       "      <th>6</th>\n",
       "      <td>CA</td>\n",
       "      <td>M</td>\n",
       "      <td>29</td>\n",
       "      <td>25</td>\n",
       "      <td>4</td>\n",
       "    </tr>\n",
       "    <tr>\n",
       "      <th>7</th>\n",
       "      <td>NY</td>\n",
       "      <td>M</td>\n",
       "      <td>18</td>\n",
       "      <td>15</td>\n",
       "      <td>3</td>\n",
       "    </tr>\n",
       "  </tbody>\n",
       "</table>\n",
       "</div>"
      ],
      "text/plain": [
       "  State Gender  Income  Expense  Revenue\n",
       "0    CA      M      21       15        6\n",
       "1    NY      M      17       21       -4\n",
       "6    CA      M      29       25        4\n",
       "7    NY      M      18       15        3"
      ]
     },
     "execution_count": 154,
     "metadata": {},
     "output_type": "execute_result"
    }
   ],
   "source": [
    "groups_G.get_group('M')"
   ]
  },
  {
   "cell_type": "code",
   "execution_count": 155,
   "id": "d409509e",
   "metadata": {
    "ExecuteTime": {
     "end_time": "2022-02-16T03:17:19.040494Z",
     "start_time": "2022-02-16T03:17:19.023991Z"
    }
   },
   "outputs": [
    {
     "data": {
      "text/html": [
       "<div>\n",
       "<style scoped>\n",
       "    .dataframe tbody tr th:only-of-type {\n",
       "        vertical-align: middle;\n",
       "    }\n",
       "\n",
       "    .dataframe tbody tr th {\n",
       "        vertical-align: top;\n",
       "    }\n",
       "\n",
       "    .dataframe thead th {\n",
       "        text-align: right;\n",
       "    }\n",
       "</style>\n",
       "<table border=\"1\" class=\"dataframe\">\n",
       "  <thead>\n",
       "    <tr style=\"text-align: right;\">\n",
       "      <th></th>\n",
       "      <th>Income</th>\n",
       "      <th>Expense</th>\n",
       "      <th>Revenue</th>\n",
       "    </tr>\n",
       "    <tr>\n",
       "      <th>Gender</th>\n",
       "      <th></th>\n",
       "      <th></th>\n",
       "      <th></th>\n",
       "    </tr>\n",
       "  </thead>\n",
       "  <tbody>\n",
       "    <tr>\n",
       "      <th>F</th>\n",
       "      <td>94</td>\n",
       "      <td>80</td>\n",
       "      <td>14</td>\n",
       "    </tr>\n",
       "    <tr>\n",
       "      <th>M</th>\n",
       "      <td>85</td>\n",
       "      <td>76</td>\n",
       "      <td>9</td>\n",
       "    </tr>\n",
       "  </tbody>\n",
       "</table>\n",
       "</div>"
      ],
      "text/plain": [
       "        Income  Expense  Revenue\n",
       "Gender                          \n",
       "F           94       80       14\n",
       "M           85       76        9"
      ]
     },
     "execution_count": 155,
     "metadata": {},
     "output_type": "execute_result"
    }
   ],
   "source": [
    "groups_G.sum()"
   ]
  },
  {
   "cell_type": "code",
   "execution_count": 156,
   "id": "6bca8aef",
   "metadata": {
    "ExecuteTime": {
     "end_time": "2022-02-16T03:17:56.775171Z",
     "start_time": "2022-02-16T03:17:56.756168Z"
    }
   },
   "outputs": [
    {
     "data": {
      "text/html": [
       "<div>\n",
       "<style scoped>\n",
       "    .dataframe tbody tr th:only-of-type {\n",
       "        vertical-align: middle;\n",
       "    }\n",
       "\n",
       "    .dataframe tbody tr th {\n",
       "        vertical-align: top;\n",
       "    }\n",
       "\n",
       "    .dataframe thead th {\n",
       "        text-align: right;\n",
       "    }\n",
       "</style>\n",
       "<table border=\"1\" class=\"dataframe\">\n",
       "  <thead>\n",
       "    <tr style=\"text-align: right;\">\n",
       "      <th></th>\n",
       "      <th>Income</th>\n",
       "      <th>Revenue</th>\n",
       "    </tr>\n",
       "    <tr>\n",
       "      <th>Gender</th>\n",
       "      <th></th>\n",
       "      <th></th>\n",
       "    </tr>\n",
       "  </thead>\n",
       "  <tbody>\n",
       "    <tr>\n",
       "      <th>F</th>\n",
       "      <td>94</td>\n",
       "      <td>3.500</td>\n",
       "    </tr>\n",
       "    <tr>\n",
       "      <th>M</th>\n",
       "      <td>85</td>\n",
       "      <td>2.250</td>\n",
       "    </tr>\n",
       "  </tbody>\n",
       "</table>\n",
       "</div>"
      ],
      "text/plain": [
       "        Income  Revenue\n",
       "Gender                 \n",
       "F           94    3.500\n",
       "M           85    2.250"
      ]
     },
     "execution_count": 156,
     "metadata": {},
     "output_type": "execute_result"
    }
   ],
   "source": [
    "groups_G.agg({'Income': 'sum',\n",
    "              'Revenue': 'mean'})"
   ]
  },
  {
   "cell_type": "code",
   "execution_count": 157,
   "id": "ae032560",
   "metadata": {
    "ExecuteTime": {
     "end_time": "2022-02-16T03:18:32.816332Z",
     "start_time": "2022-02-16T03:18:32.800829Z"
    }
   },
   "outputs": [
    {
     "data": {
      "text/html": [
       "<div>\n",
       "<style scoped>\n",
       "    .dataframe tbody tr th:only-of-type {\n",
       "        vertical-align: middle;\n",
       "    }\n",
       "\n",
       "    .dataframe tbody tr th {\n",
       "        vertical-align: top;\n",
       "    }\n",
       "\n",
       "    .dataframe thead th {\n",
       "        text-align: right;\n",
       "    }\n",
       "</style>\n",
       "<table border=\"1\" class=\"dataframe\">\n",
       "  <thead>\n",
       "    <tr style=\"text-align: right;\">\n",
       "      <th></th>\n",
       "      <th>수입_합계</th>\n",
       "      <th>수익_평균</th>\n",
       "    </tr>\n",
       "    <tr>\n",
       "      <th>Gender</th>\n",
       "      <th></th>\n",
       "      <th></th>\n",
       "    </tr>\n",
       "  </thead>\n",
       "  <tbody>\n",
       "    <tr>\n",
       "      <th>F</th>\n",
       "      <td>94</td>\n",
       "      <td>3.500</td>\n",
       "    </tr>\n",
       "    <tr>\n",
       "      <th>M</th>\n",
       "      <td>85</td>\n",
       "      <td>2.250</td>\n",
       "    </tr>\n",
       "  </tbody>\n",
       "</table>\n",
       "</div>"
      ],
      "text/plain": [
       "        수입_합계  수익_평균\n",
       "Gender              \n",
       "F          94  3.500\n",
       "M          85  2.250"
      ]
     },
     "execution_count": 157,
     "metadata": {},
     "output_type": "execute_result"
    }
   ],
   "source": [
    "groups_G.agg(수입_합계=('Income','sum'),\n",
    "             수익_평균=('Revenue','mean'))"
   ]
  },
  {
   "cell_type": "code",
   "execution_count": 158,
   "id": "c3de6f88",
   "metadata": {
    "ExecuteTime": {
     "end_time": "2022-02-16T03:18:53.069087Z",
     "start_time": "2022-02-16T03:18:53.048584Z"
    }
   },
   "outputs": [
    {
     "data": {
      "text/html": [
       "<div>\n",
       "<style scoped>\n",
       "    .dataframe tbody tr th:only-of-type {\n",
       "        vertical-align: middle;\n",
       "    }\n",
       "\n",
       "    .dataframe tbody tr th {\n",
       "        vertical-align: top;\n",
       "    }\n",
       "\n",
       "    .dataframe thead th {\n",
       "        text-align: right;\n",
       "    }\n",
       "</style>\n",
       "<table border=\"1\" class=\"dataframe\">\n",
       "  <thead>\n",
       "    <tr style=\"text-align: right;\">\n",
       "      <th></th>\n",
       "      <th></th>\n",
       "      <th>Income</th>\n",
       "      <th>Expense</th>\n",
       "      <th>Revenue</th>\n",
       "    </tr>\n",
       "    <tr>\n",
       "      <th>Gender</th>\n",
       "      <th></th>\n",
       "      <th></th>\n",
       "      <th></th>\n",
       "      <th></th>\n",
       "    </tr>\n",
       "  </thead>\n",
       "  <tbody>\n",
       "    <tr>\n",
       "      <th rowspan=\"8\" valign=\"top\">F</th>\n",
       "      <th>count</th>\n",
       "      <td>4.000</td>\n",
       "      <td>4.000</td>\n",
       "      <td>4.000</td>\n",
       "    </tr>\n",
       "    <tr>\n",
       "      <th>mean</th>\n",
       "      <td>23.500</td>\n",
       "      <td>20.000</td>\n",
       "      <td>3.500</td>\n",
       "    </tr>\n",
       "    <tr>\n",
       "      <th>std</th>\n",
       "      <td>7.416</td>\n",
       "      <td>6.272</td>\n",
       "      <td>11.091</td>\n",
       "    </tr>\n",
       "    <tr>\n",
       "      <th>min</th>\n",
       "      <td>14.000</td>\n",
       "      <td>13.000</td>\n",
       "      <td>-5.000</td>\n",
       "    </tr>\n",
       "    <tr>\n",
       "      <th>25%</th>\n",
       "      <td>20.750</td>\n",
       "      <td>16.750</td>\n",
       "      <td>-4.250</td>\n",
       "    </tr>\n",
       "    <tr>\n",
       "      <th>50%</th>\n",
       "      <td>24.000</td>\n",
       "      <td>19.500</td>\n",
       "      <td>0.000</td>\n",
       "    </tr>\n",
       "    <tr>\n",
       "      <th>75%</th>\n",
       "      <td>26.750</td>\n",
       "      <td>22.750</td>\n",
       "      <td>7.750</td>\n",
       "    </tr>\n",
       "    <tr>\n",
       "      <th>max</th>\n",
       "      <td>32.000</td>\n",
       "      <td>28.000</td>\n",
       "      <td>19.000</td>\n",
       "    </tr>\n",
       "    <tr>\n",
       "      <th rowspan=\"8\" valign=\"top\">M</th>\n",
       "      <th>count</th>\n",
       "      <td>4.000</td>\n",
       "      <td>4.000</td>\n",
       "      <td>4.000</td>\n",
       "    </tr>\n",
       "    <tr>\n",
       "      <th>mean</th>\n",
       "      <td>21.250</td>\n",
       "      <td>19.000</td>\n",
       "      <td>2.250</td>\n",
       "    </tr>\n",
       "    <tr>\n",
       "      <th>std</th>\n",
       "      <td>5.439</td>\n",
       "      <td>4.899</td>\n",
       "      <td>4.349</td>\n",
       "    </tr>\n",
       "    <tr>\n",
       "      <th>min</th>\n",
       "      <td>17.000</td>\n",
       "      <td>15.000</td>\n",
       "      <td>-4.000</td>\n",
       "    </tr>\n",
       "    <tr>\n",
       "      <th>25%</th>\n",
       "      <td>17.750</td>\n",
       "      <td>15.000</td>\n",
       "      <td>1.250</td>\n",
       "    </tr>\n",
       "    <tr>\n",
       "      <th>50%</th>\n",
       "      <td>19.500</td>\n",
       "      <td>18.000</td>\n",
       "      <td>3.500</td>\n",
       "    </tr>\n",
       "    <tr>\n",
       "      <th>75%</th>\n",
       "      <td>23.000</td>\n",
       "      <td>22.000</td>\n",
       "      <td>4.500</td>\n",
       "    </tr>\n",
       "    <tr>\n",
       "      <th>max</th>\n",
       "      <td>29.000</td>\n",
       "      <td>25.000</td>\n",
       "      <td>6.000</td>\n",
       "    </tr>\n",
       "  </tbody>\n",
       "</table>\n",
       "</div>"
      ],
      "text/plain": [
       "              Income  Expense  Revenue\n",
       "Gender                                \n",
       "F      count   4.000    4.000    4.000\n",
       "       mean   23.500   20.000    3.500\n",
       "       std     7.416    6.272   11.091\n",
       "       min    14.000   13.000   -5.000\n",
       "       25%    20.750   16.750   -4.250\n",
       "       50%    24.000   19.500    0.000\n",
       "       75%    26.750   22.750    7.750\n",
       "       max    32.000   28.000   19.000\n",
       "M      count   4.000    4.000    4.000\n",
       "       mean   21.250   19.000    2.250\n",
       "       std     5.439    4.899    4.349\n",
       "       min    17.000   15.000   -4.000\n",
       "       25%    17.750   15.000    1.250\n",
       "       50%    19.500   18.000    3.500\n",
       "       75%    23.000   22.000    4.500\n",
       "       max    29.000   25.000    6.000"
      ]
     },
     "execution_count": 158,
     "metadata": {},
     "output_type": "execute_result"
    }
   ],
   "source": [
    "groups_G.apply(lambda x: x.describe())"
   ]
  }
 ],
 "metadata": {
  "kernelspec": {
   "display_name": "Python 3 (ipykernel)",
   "language": "python",
   "name": "python3"
  },
  "language_info": {
   "codemirror_mode": {
    "name": "ipython",
    "version": 3
   },
   "file_extension": ".py",
   "mimetype": "text/x-python",
   "name": "python",
   "nbconvert_exporter": "python",
   "pygments_lexer": "ipython3",
   "version": "3.9.7"
  },
  "toc": {
   "base_numbering": 1,
   "nav_menu": {},
   "number_sections": true,
   "sideBar": true,
   "skip_h1_title": false,
   "title_cell": "Table of Contents",
   "title_sidebar": "Contents",
   "toc_cell": false,
   "toc_position": {},
   "toc_section_display": true,
   "toc_window_display": false
  }
 },
 "nbformat": 4,
 "nbformat_minor": 5
}
