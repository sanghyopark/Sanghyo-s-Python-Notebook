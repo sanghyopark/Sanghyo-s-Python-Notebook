{
 "cells": [
  {
   "cell_type": "markdown",
   "id": "2af25135",
   "metadata": {},
   "source": [
    "# 4.2.1 파일생성하기"
   ]
  },
  {
   "cell_type": "code",
   "execution_count": 1,
   "id": "d8109bf8",
   "metadata": {
    "ExecuteTime": {
     "end_time": "2022-01-27T08:12:10.895744Z",
     "start_time": "2022-01-27T08:12:10.881242Z"
    }
   },
   "outputs": [],
   "source": [
    "f = open(\"새파일.txt\",'w')\n",
    "f.close()"
   ]
  },
  {
   "cell_type": "code",
   "execution_count": 2,
   "id": "9688f13c",
   "metadata": {
    "ExecuteTime": {
     "end_time": "2022-01-27T08:12:10.911187Z",
     "start_time": "2022-01-27T08:12:10.896745Z"
    }
   },
   "outputs": [
    {
     "data": {
      "text/plain": [
       "'C:\\\\Users\\\\shpar\\\\OQT\\\\python\\\\Ch4. 입력(Input)과 출력(Output)'"
      ]
     },
     "execution_count": 2,
     "metadata": {},
     "output_type": "execute_result"
    }
   ],
   "source": [
    "import os\n",
    "os.getcwd() #현재 작업 주소"
   ]
  },
  {
   "cell_type": "code",
   "execution_count": 3,
   "id": "cfb36f13",
   "metadata": {
    "ExecuteTime": {
     "end_time": "2022-01-27T08:12:10.926810Z",
     "start_time": "2022-01-27T08:12:10.912687Z"
    }
   },
   "outputs": [],
   "source": [
    "g = open(\"dummy\\\\세파일.txt\",'w')\n",
    "g.close()"
   ]
  },
  {
   "cell_type": "code",
   "execution_count": 4,
   "id": "08c9c191",
   "metadata": {
    "ExecuteTime": {
     "end_time": "2022-01-27T08:12:10.941994Z",
     "start_time": "2022-01-27T08:12:10.927810Z"
    }
   },
   "outputs": [
    {
     "data": {
      "text/plain": [
       "'C:\\\\Users\\\\shpar\\\\OQT\\\\python\\\\Ch4. 입력(Input)과 출력(Output)\\\\새파일.txt'"
      ]
     },
     "execution_count": 4,
     "metadata": {},
     "output_type": "execute_result"
    }
   ],
   "source": [
    "os.path.abspath(f.name) #이름이 f인 파일 저장경로"
   ]
  },
  {
   "cell_type": "code",
   "execution_count": 5,
   "id": "9506f859",
   "metadata": {
    "ExecuteTime": {
     "end_time": "2022-01-27T08:12:10.957280Z",
     "start_time": "2022-01-27T08:12:10.942769Z"
    }
   },
   "outputs": [
    {
     "data": {
      "text/plain": [
       "'C:\\\\Users\\\\shpar\\\\OQT\\\\python\\\\Ch4. 입력(Input)과 출력(Output)\\\\dummy\\\\세파일.txt'"
      ]
     },
     "execution_count": 5,
     "metadata": {},
     "output_type": "execute_result"
    }
   ],
   "source": [
    "os.path.abspath(g.name) #이름이 f인 파일 저장경로"
   ]
  },
  {
   "cell_type": "code",
   "execution_count": 6,
   "id": "ba3ab6cf",
   "metadata": {
    "ExecuteTime": {
     "end_time": "2022-01-27T08:12:10.972788Z",
     "start_time": "2022-01-27T08:12:10.958280Z"
    }
   },
   "outputs": [
    {
     "data": {
      "text/plain": [
       "['.ipynb_checkpoints',\n",
       " '4.1 Keyboard, 화면을 통한 입출력.ipynb',\n",
       " '4.2 파일 생성하고 읽고 쓰기.ipynb',\n",
       " 'dummy',\n",
       " '새파일.txt']"
      ]
     },
     "execution_count": 6,
     "metadata": {},
     "output_type": "execute_result"
    }
   ],
   "source": [
    "os.listdir() #현재 경로의 모든 파일목록을 보여줘"
   ]
  },
  {
   "cell_type": "code",
   "execution_count": 7,
   "id": "886b6436",
   "metadata": {
    "ExecuteTime": {
     "end_time": "2022-01-27T08:12:10.988297Z",
     "start_time": "2022-01-27T08:12:10.973789Z"
    }
   },
   "outputs": [
    {
     "name": "stdout",
     "output_type": "stream",
     "text": [
      "새파일.txt stored in C:\\Users\\shpar\\OQT\\python\\Ch4. 입력(Input)과 출력(Output)\n"
     ]
    }
   ],
   "source": [
    "print(f.name,'stored in', os.path.dirname(os.path.abspath(f.name)))"
   ]
  },
  {
   "cell_type": "code",
   "execution_count": 8,
   "id": "f1aa887d",
   "metadata": {
    "ExecuteTime": {
     "end_time": "2022-01-27T08:12:11.003802Z",
     "start_time": "2022-01-27T08:12:10.989297Z"
    }
   },
   "outputs": [
    {
     "name": "stdout",
     "output_type": "stream",
     "text": [
      "dummy\\세파일.txt stored in C:\\Users\\shpar\\OQT\\python\\Ch4. 입력(Input)과 출력(Output)\n"
     ]
    }
   ],
   "source": [
    "print(g.name,'stored in', os.path.dirname(os.path.abspath(f.name)))"
   ]
  },
  {
   "cell_type": "markdown",
   "id": "0487acc9",
   "metadata": {},
   "source": [
    "# 4.2.2 파일 쓰기 / 읽기"
   ]
  },
  {
   "cell_type": "markdown",
   "id": "139a9234",
   "metadata": {},
   "source": [
    "## 4.2.2.1 Text 파일 쓰기"
   ]
  },
  {
   "cell_type": "code",
   "execution_count": 9,
   "id": "0174e6e1",
   "metadata": {
    "ExecuteTime": {
     "end_time": "2022-01-27T08:15:50.046084Z",
     "start_time": "2022-01-27T08:15:50.029081Z"
    }
   },
   "outputs": [],
   "source": [
    "f = open(\"새파일.txt\",'w')\n",
    "for i in range(0,3):\n",
    "    data = f'{i+1:2d}th line.\\n'\n",
    "    f.write(data)\n",
    "f.close()"
   ]
  },
  {
   "cell_type": "code",
   "execution_count": 10,
   "id": "494dd314",
   "metadata": {
    "ExecuteTime": {
     "end_time": "2022-01-27T08:17:49.349537Z",
     "start_time": "2022-01-27T08:17:49.342536Z"
    }
   },
   "outputs": [],
   "source": [
    "f = open(\"새파일.txt\",'a')\n",
    "f.write('Another line appended.\\n')\n",
    "f.close()\n",
    "# w를 사용하면 기존 파일이 지워지고 내용이 써지기 때문에 내용을 추가하려면 a를 사용한다"
   ]
  },
  {
   "cell_type": "code",
   "execution_count": 12,
   "id": "05ae4fee",
   "metadata": {
    "ExecuteTime": {
     "end_time": "2022-01-27T08:20:00.976228Z",
     "start_time": "2022-01-27T08:20:00.959722Z"
    }
   },
   "outputs": [],
   "source": [
    "with open('새파일.txt','a') as f:\n",
    "    f.write(\"사랑합니다.\")\n",
    "#with와 함께 사용하면 close해줄 필요없다.\n",
    "#write에 들어갈 입력인자는 항상 str이어야 한다. 그렇지 않으면 str()함수를 사용해 변환해야 한다."
   ]
  },
  {
   "cell_type": "markdown",
   "id": "c327c1e0",
   "metadata": {},
   "source": [
    "## 4.2.2.2 Text 파일 읽기"
   ]
  },
  {
   "cell_type": "code",
   "execution_count": 14,
   "id": "cb75cd4b",
   "metadata": {
    "ExecuteTime": {
     "end_time": "2022-01-27T08:22:05.982552Z",
     "start_time": "2022-01-27T08:22:05.972550Z"
    }
   },
   "outputs": [
    {
     "name": "stdout",
     "output_type": "stream",
     "text": [
      " 1th line.\n",
      " 2th line.\n",
      " 3th line.\n",
      "Another line appended.\n",
      "사랑합니다.사랑합니다."
     ]
    }
   ],
   "source": [
    "f = open(\"새파일.txt\",'r')\n",
    "while True:\n",
    "    line = f.readline()\n",
    "    if not line: break\n",
    "    print(line, end='')\n",
    "f.close()\n",
    "\n",
    "#file.readline() method는 파일 내용을 한 줄씩 읽어 들이며, 더 이상 읽을 줄이 없으면 빈 문자열을\n",
    "#반환하면서 while loop가 종료된다."
   ]
  },
  {
   "cell_type": "code",
   "execution_count": 15,
   "id": "64ae2c1c",
   "metadata": {
    "ExecuteTime": {
     "end_time": "2022-01-27T08:22:47.805057Z",
     "start_time": "2022-01-27T08:22:47.796555Z"
    }
   },
   "outputs": [
    {
     "name": "stdout",
     "output_type": "stream",
     "text": [
      "[' 1th line.\\n', ' 2th line.\\n', ' 3th line.\\n', 'Another line appended.\\n', '사랑합니다.사랑합니다.']\n"
     ]
    }
   ],
   "source": [
    "f = open('새파일.txt','r')\n",
    "line = f.readlines()\n",
    "print(line)\n",
    "f.close()\n",
    "\n",
    "#file.readlines() method는 파일의 모든 줄을 한꺼번에 읽어서 각 줄을 요소로 가진 list를 돌려준다."
   ]
  },
  {
   "cell_type": "code",
   "execution_count": 25,
   "id": "61014ce6",
   "metadata": {
    "ExecuteTime": {
     "end_time": "2022-01-27T08:29:59.540713Z",
     "start_time": "2022-01-27T08:29:59.524210Z"
    }
   },
   "outputs": [
    {
     "name": "stdout",
     "output_type": "stream",
     "text": [
      " 1th line.\n",
      " 2th line.\n",
      " 3th line.\n",
      "Another line appended.\n",
      "사랑합니다.사랑합니다.\n"
     ]
    }
   ],
   "source": [
    "with open('새파일.txt','r') as f:\n",
    "    line = f.read()\n",
    "    print(line)\n",
    "#file.read() method는 파일을 모두 읽어 하나의 문자열을 돌려준다."
   ]
  },
  {
   "cell_type": "code",
   "execution_count": 26,
   "id": "f3efdafc",
   "metadata": {
    "ExecuteTime": {
     "end_time": "2022-01-27T08:30:37.862772Z",
     "start_time": "2022-01-27T08:30:37.849270Z"
    }
   },
   "outputs": [
    {
     "name": "stdout",
     "output_type": "stream",
     "text": [
      " 1th line.\n",
      " 2th line.\n",
      " 3th line.\n",
      "Another line appended.\n",
      "사랑합니다.사랑합니다."
     ]
    }
   ],
   "source": [
    "f = open(\"새파일.txt\", 'r')\n",
    "for line in f:\n",
    "    print(line, end='')\n",
    "f.close()\n",
    "#method없이 할수도 있다."
   ]
  },
  {
   "cell_type": "markdown",
   "id": "3f22dc8c",
   "metadata": {},
   "source": [
    "# 4.2.2.3 Excel 파일 읽기/쓰기"
   ]
  },
  {
   "cell_type": "code",
   "execution_count": 1,
   "id": "d71ff1e9",
   "metadata": {
    "ExecuteTime": {
     "end_time": "2022-01-28T20:28:11.336388Z",
     "start_time": "2022-01-28T20:28:10.464439Z"
    }
   },
   "outputs": [],
   "source": [
    "import openpyxl as opx\n",
    "import pandas as pd"
   ]
  },
  {
   "cell_type": "code",
   "execution_count": 2,
   "id": "90f0ff03",
   "metadata": {
    "ExecuteTime": {
     "end_time": "2022-01-28T20:32:26.055262Z",
     "start_time": "2022-01-28T20:32:26.032257Z"
    }
   },
   "outputs": [
    {
     "data": {
      "text/plain": [
       "<openpyxl.workbook.workbook.Workbook at 0x1de9abc8fa0>"
      ]
     },
     "execution_count": 2,
     "metadata": {},
     "output_type": "execute_result"
    }
   ],
   "source": [
    "wb = opx.load_workbook('grade_1.xlsx'); wb"
   ]
  },
  {
   "cell_type": "code",
   "execution_count": 3,
   "id": "3df2b57e",
   "metadata": {
    "ExecuteTime": {
     "end_time": "2022-01-28T20:32:48.979795Z",
     "start_time": "2022-01-28T20:32:48.971293Z"
    }
   },
   "outputs": [
    {
     "data": {
      "text/plain": [
       "['Sheet1']"
      ]
     },
     "execution_count": 3,
     "metadata": {},
     "output_type": "execute_result"
    }
   ],
   "source": [
    "sheet_names = wb.sheetnames; sheet_names"
   ]
  },
  {
   "cell_type": "code",
   "execution_count": null,
   "id": "fedcebcb",
   "metadata": {},
   "outputs": [],
   "source": []
  }
 ],
 "metadata": {
  "kernelspec": {
   "display_name": "Python 3 (ipykernel)",
   "language": "python",
   "name": "python3"
  },
  "language_info": {
   "codemirror_mode": {
    "name": "ipython",
    "version": 3
   },
   "file_extension": ".py",
   "mimetype": "text/x-python",
   "name": "python",
   "nbconvert_exporter": "python",
   "pygments_lexer": "ipython3",
   "version": "3.9.7"
  },
  "toc": {
   "base_numbering": 1,
   "nav_menu": {},
   "number_sections": true,
   "sideBar": true,
   "skip_h1_title": false,
   "title_cell": "Table of Contents",
   "title_sidebar": "Contents",
   "toc_cell": false,
   "toc_position": {},
   "toc_section_display": true,
   "toc_window_display": false
  }
 },
 "nbformat": 4,
 "nbformat_minor": 5
}
