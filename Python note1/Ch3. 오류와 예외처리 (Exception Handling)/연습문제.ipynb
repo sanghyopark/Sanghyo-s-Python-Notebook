{
 "cells": [
  {
   "cell_type": "markdown",
   "id": "82d8414c",
   "metadata": {},
   "source": [
    "# 3.1 예외처리(Exception Handling)"
   ]
  },
  {
   "cell_type": "code",
   "execution_count": 4,
   "id": "eb242944",
   "metadata": {
    "ExecuteTime": {
     "end_time": "2022-01-27T07:06:40.962547Z",
     "start_time": "2022-01-27T07:06:40.949357Z"
    }
   },
   "outputs": [
    {
     "name": "stdout",
     "output_type": "stream",
     "text": [
      "1/2 = 0.5\n",
      "<class 'ZeroDivisionError'>: division by zero\n",
      "<class 'TypeError'>: unsupported operand type(s) for /: 'str' and 'int'\n",
      "<class 'IndexError'>: list index out of range\n"
     ]
    }
   ],
   "source": [
    "L = [(1,2),(3,0),('x',4)]\n",
    "n = 0\n",
    "while n <= len(L):\n",
    "    try:\n",
    "        x = L[n][0]; y = L[n][1]\n",
    "        z = x/y\n",
    "    except Exception as e:\n",
    "        print(f'{type(e)}: {e}')\n",
    "    else: print(f'{x}/{y} = {z}')\n",
    "    finally: n = n + 1"
   ]
  },
  {
   "cell_type": "markdown",
   "id": "9baf7e64",
   "metadata": {
    "ExecuteTime": {
     "end_time": "2022-01-27T07:06:30.222159Z",
     "start_time": "2022-01-27T07:06:30.213158Z"
    }
   },
   "source": [
    "# 3.2 예외처리(Exception Handling)"
   ]
  },
  {
   "cell_type": "code",
   "execution_count": 13,
   "id": "e9afd6bd",
   "metadata": {
    "ExecuteTime": {
     "end_time": "2022-01-27T07:09:56.234562Z",
     "start_time": "2022-01-27T07:09:56.224060Z"
    }
   },
   "outputs": [],
   "source": [
    "import numpy as np\n",
    "\n",
    "def my_sqrt(x):\n",
    "    try: y = np.sqrt(x)\n",
    "    except Exception as e:\n",
    "        print(f'{type(e)}: x must be a number!')\n",
    "        y = '????'\n",
    "    else:\n",
    "        if x < 0:\n",
    "            print('x must be nonnegative!')\n",
    "    finally: return y"
   ]
  },
  {
   "cell_type": "code",
   "execution_count": 14,
   "id": "f8d3d6ed",
   "metadata": {
    "ExecuteTime": {
     "end_time": "2022-01-27T07:09:56.988122Z",
     "start_time": "2022-01-27T07:09:56.972616Z"
    }
   },
   "outputs": [
    {
     "name": "stdout",
     "output_type": "stream",
     "text": [
      "1.4142135623730951\n"
     ]
    }
   ],
   "source": [
    "#(a)\n",
    "print(my_sqrt(2))"
   ]
  },
  {
   "cell_type": "code",
   "execution_count": 15,
   "id": "db6d052f",
   "metadata": {
    "ExecuteTime": {
     "end_time": "2022-01-27T07:09:57.372372Z",
     "start_time": "2022-01-27T07:09:57.367872Z"
    }
   },
   "outputs": [
    {
     "name": "stdout",
     "output_type": "stream",
     "text": [
      "x must be nonnegative!\n",
      "nan\n"
     ]
    },
    {
     "name": "stderr",
     "output_type": "stream",
     "text": [
      "C:\\Users\\shpar\\AppData\\Local\\Temp/ipykernel_15136/22502865.py:4: RuntimeWarning: invalid value encountered in sqrt\n",
      "  try: y = np.sqrt(x)\n"
     ]
    }
   ],
   "source": [
    "print(my_sqrt(-2))"
   ]
  },
  {
   "cell_type": "code",
   "execution_count": 16,
   "id": "b451a64f",
   "metadata": {
    "ExecuteTime": {
     "end_time": "2022-01-27T07:09:57.756554Z",
     "start_time": "2022-01-27T07:09:57.745083Z"
    }
   },
   "outputs": [
    {
     "name": "stdout",
     "output_type": "stream",
     "text": [
      "<class 'TypeError'>: x must be a number!\n",
      "????\n"
     ]
    }
   ],
   "source": [
    "print(my_sqrt('2'))"
   ]
  },
  {
   "cell_type": "code",
   "execution_count": null,
   "id": "ac367475",
   "metadata": {},
   "outputs": [],
   "source": [
    "# else 문이 없다면 이 모듈에선 음수가 들어갈때 오류가 발생하지 않기때문에 except문이 실행되지않아\n",
    "#음수가 들어가도 if문이 실행되지 않는다."
   ]
  },
  {
   "cell_type": "code",
   "execution_count": 17,
   "id": "f188ee39",
   "metadata": {
    "ExecuteTime": {
     "end_time": "2022-01-27T07:11:00.001944Z",
     "start_time": "2022-01-27T07:10:59.988942Z"
    }
   },
   "outputs": [
    {
     "name": "stderr",
     "output_type": "stream",
     "text": [
      "C:\\Users\\shpar\\AppData\\Local\\Temp/ipykernel_15136/2418628377.py:1: RuntimeWarning: invalid value encountered in sqrt\n",
      "  np.sqrt(-2)\n"
     ]
    },
    {
     "data": {
      "text/plain": [
       "nan"
      ]
     },
     "execution_count": 17,
     "metadata": {},
     "output_type": "execute_result"
    }
   ],
   "source": [
    "np.sqrt(-2)"
   ]
  },
  {
   "cell_type": "code",
   "execution_count": null,
   "id": "1e649888",
   "metadata": {},
   "outputs": [],
   "source": []
  }
 ],
 "metadata": {
  "kernelspec": {
   "display_name": "Python 3 (ipykernel)",
   "language": "python",
   "name": "python3"
  },
  "language_info": {
   "codemirror_mode": {
    "name": "ipython",
    "version": 3
   },
   "file_extension": ".py",
   "mimetype": "text/x-python",
   "name": "python",
   "nbconvert_exporter": "python",
   "pygments_lexer": "ipython3",
   "version": "3.9.7"
  },
  "toc": {
   "base_numbering": 1,
   "nav_menu": {},
   "number_sections": true,
   "sideBar": true,
   "skip_h1_title": false,
   "title_cell": "Table of Contents",
   "title_sidebar": "Contents",
   "toc_cell": false,
   "toc_position": {},
   "toc_section_display": true,
   "toc_window_display": false
  }
 },
 "nbformat": 4,
 "nbformat_minor": 5
}
