{
 "cells": [
  {
   "cell_type": "markdown",
   "id": "7df24ec3",
   "metadata": {},
   "source": [
    "# 5.6 출력인자가 여러 개인 경우"
   ]
  },
  {
   "cell_type": "code",
   "execution_count": 1,
   "id": "7059dcd6",
   "metadata": {
    "ExecuteTime": {
     "end_time": "2022-02-05T12:36:35.275179Z",
     "start_time": "2022-02-05T12:36:35.259676Z"
    }
   },
   "outputs": [],
   "source": [
    "def comp_int4(P, i, n):\n",
    "    Is = P*i*n #Simple interest (단리이자)\n",
    "    Ic = P*(1+i)**n-P #Compound interest (복리이자)\n",
    "    return Is, Ic\n",
    "#출력 인자가 여러개인경우 tuple로만 출력한다."
   ]
  },
  {
   "cell_type": "code",
   "execution_count": 2,
   "id": "264a4f8e",
   "metadata": {
    "ExecuteTime": {
     "end_time": "2022-02-05T12:39:21.297659Z",
     "start_time": "2022-02-05T12:39:21.286156Z"
    }
   },
   "outputs": [
    {
     "name": "stdout",
     "output_type": "stream",
     "text": [
      "단/복리 이자 =   50.0/  62.9\n"
     ]
    }
   ],
   "source": [
    "I_s, I_c = comp_int4(P=100,i=0.05,n=10)\n",
    "print(f'단/복리 이자 = {I_s:6.1f}/{I_c:6.1f}')"
   ]
  }
 ],
 "metadata": {
  "kernelspec": {
   "display_name": "Python 3 (ipykernel)",
   "language": "python",
   "name": "python3"
  },
  "language_info": {
   "codemirror_mode": {
    "name": "ipython",
    "version": 3
   },
   "file_extension": ".py",
   "mimetype": "text/x-python",
   "name": "python",
   "nbconvert_exporter": "python",
   "pygments_lexer": "ipython3",
   "version": "3.9.7"
  },
  "toc": {
   "base_numbering": 1,
   "nav_menu": {},
   "number_sections": true,
   "sideBar": true,
   "skip_h1_title": false,
   "title_cell": "Table of Contents",
   "title_sidebar": "Contents",
   "toc_cell": false,
   "toc_position": {},
   "toc_section_display": true,
   "toc_window_display": false
  }
 },
 "nbformat": 4,
 "nbformat_minor": 5
}
