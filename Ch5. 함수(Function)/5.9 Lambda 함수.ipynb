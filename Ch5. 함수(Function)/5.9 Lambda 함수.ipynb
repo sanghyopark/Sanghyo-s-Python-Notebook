{
 "cells": [
  {
   "cell_type": "markdown",
   "id": "020440a6",
   "metadata": {},
   "source": [
    "# 5.9 Lambda 함수"
   ]
  },
  {
   "cell_type": "code",
   "execution_count": 1,
   "id": "4b03a554",
   "metadata": {
    "ExecuteTime": {
     "end_time": "2022-02-05T14:39:09.638883Z",
     "start_time": "2022-02-05T14:39:09.636382Z"
    }
   },
   "outputs": [],
   "source": [
    "comp_int6 = lambda P,i,n: P*(1+i)**n-P"
   ]
  },
  {
   "cell_type": "code",
   "execution_count": 2,
   "id": "157484da",
   "metadata": {
    "ExecuteTime": {
     "end_time": "2022-02-05T14:39:48.324229Z",
     "start_time": "2022-02-05T14:39:48.321729Z"
    }
   },
   "outputs": [],
   "source": [
    "mul_div = lambda a,b: (a*b, a/b)"
   ]
  },
  {
   "cell_type": "code",
   "execution_count": 3,
   "id": "a4f69b20",
   "metadata": {
    "ExecuteTime": {
     "end_time": "2022-02-05T14:39:52.528619Z",
     "start_time": "2022-02-05T14:39:52.514117Z"
    }
   },
   "outputs": [
    {
     "data": {
      "text/plain": [
       "(12, 0.75)"
      ]
     },
     "execution_count": 3,
     "metadata": {},
     "output_type": "execute_result"
    }
   ],
   "source": [
    "mul_div(3,4)"
   ]
  },
  {
   "cell_type": "code",
   "execution_count": 4,
   "id": "302484ef",
   "metadata": {
    "ExecuteTime": {
     "end_time": "2022-02-05T14:40:22.831805Z",
     "start_time": "2022-02-05T14:40:22.823803Z"
    }
   },
   "outputs": [],
   "source": [
    "L1 = [1, -2, 4, 0, -7, 9]"
   ]
  },
  {
   "cell_type": "code",
   "execution_count": 5,
   "id": "10d0442f",
   "metadata": {
    "ExecuteTime": {
     "end_time": "2022-02-05T14:40:28.872654Z",
     "start_time": "2022-02-05T14:40:28.864653Z"
    }
   },
   "outputs": [],
   "source": [
    "square = lambda x: x**2"
   ]
  },
  {
   "cell_type": "code",
   "execution_count": 6,
   "id": "e272f3af",
   "metadata": {
    "ExecuteTime": {
     "end_time": "2022-02-05T14:40:40.821838Z",
     "start_time": "2022-02-05T14:40:40.804835Z"
    }
   },
   "outputs": [],
   "source": [
    "L2 = list(map(square, L1))"
   ]
  },
  {
   "cell_type": "code",
   "execution_count": 7,
   "id": "8a561509",
   "metadata": {
    "ExecuteTime": {
     "end_time": "2022-02-05T14:40:45.942665Z",
     "start_time": "2022-02-05T14:40:45.938163Z"
    }
   },
   "outputs": [
    {
     "name": "stdout",
     "output_type": "stream",
     "text": [
      "[1, 4, 16, 0, 49, 81]\n"
     ]
    }
   ],
   "source": [
    "print(L2)"
   ]
  },
  {
   "cell_type": "code",
   "execution_count": 8,
   "id": "71db8bce",
   "metadata": {
    "ExecuteTime": {
     "end_time": "2022-02-05T14:41:09.175085Z",
     "start_time": "2022-02-05T14:41:09.158583Z"
    }
   },
   "outputs": [],
   "source": [
    "L3 = list(map(lambda x: x**2, L1))"
   ]
  },
  {
   "cell_type": "code",
   "execution_count": 9,
   "id": "a5e9eb1d",
   "metadata": {
    "ExecuteTime": {
     "end_time": "2022-02-05T14:41:15.517790Z",
     "start_time": "2022-02-05T14:41:15.512290Z"
    }
   },
   "outputs": [
    {
     "name": "stdout",
     "output_type": "stream",
     "text": [
      "[1, 4, 16, 0, 49, 81]\n"
     ]
    }
   ],
   "source": [
    "print(L3)"
   ]
  },
  {
   "cell_type": "code",
   "execution_count": 10,
   "id": "cc91036d",
   "metadata": {
    "ExecuteTime": {
     "end_time": "2022-02-05T14:41:42.948102Z",
     "start_time": "2022-02-05T14:41:42.933100Z"
    }
   },
   "outputs": [],
   "source": [
    "sign = lambda x: '+' if x>0 else '-' if x<0 else 0"
   ]
  },
  {
   "cell_type": "code",
   "execution_count": 11,
   "id": "2124b701",
   "metadata": {
    "ExecuteTime": {
     "end_time": "2022-02-05T14:42:04.021089Z",
     "start_time": "2022-02-05T14:42:04.010587Z"
    }
   },
   "outputs": [
    {
     "data": {
      "text/plain": [
       "['+', '-', '+', 0, '-', '+']"
      ]
     },
     "execution_count": 11,
     "metadata": {},
     "output_type": "execute_result"
    }
   ],
   "source": [
    "L4 = list(map(sign, L1)); L4"
   ]
  },
  {
   "cell_type": "code",
   "execution_count": 12,
   "id": "c8416ad7",
   "metadata": {
    "ExecuteTime": {
     "end_time": "2022-02-05T14:42:32.791977Z",
     "start_time": "2022-02-05T14:42:32.788476Z"
    }
   },
   "outputs": [
    {
     "data": {
      "text/plain": [
       "[-2, -7]"
      ]
     },
     "execution_count": 12,
     "metadata": {},
     "output_type": "execute_result"
    }
   ],
   "source": [
    "negative = lambda x: x<0\n",
    "L5 = list(filter(negative, L1)); L5"
   ]
  },
  {
   "cell_type": "code",
   "execution_count": 13,
   "id": "34c58068",
   "metadata": {
    "ExecuteTime": {
     "end_time": "2022-02-05T14:43:25.029605Z",
     "start_time": "2022-02-05T14:43:25.016601Z"
    }
   },
   "outputs": [
    {
     "name": "stdout",
     "output_type": "stream",
     "text": [
      "[False, True, False, False, True, False]\n"
     ]
    }
   ],
   "source": [
    "print(list(map(negative, L1)))"
   ]
  },
  {
   "cell_type": "code",
   "execution_count": 15,
   "id": "083749b5",
   "metadata": {
    "ExecuteTime": {
     "end_time": "2022-02-05T14:46:57.774332Z",
     "start_time": "2022-02-05T14:46:57.763830Z"
    }
   },
   "outputs": [
    {
     "name": "stdout",
     "output_type": "stream",
     "text": [
      "Intersection between two lists:  ['Python', 'Go', 'C#']\n",
      "Difference between two lists:  ['Java', 'Scala', 'JavaScript', 'PHP']\n"
     ]
    }
   ],
   "source": [
    "L1 = [\"Python\", \"C#\", \"Java\", \"Go\"]\n",
    "L2 = [\"Python\", \"Scala\", \"JavaScript\", \"Go\", \"PHP\", \"C#\"]\n",
    "# 교집합 구하기\n",
    "L_int = list(filter(lambda x: x in L1, L2))\n",
    "print(\"Intersection between two lists: \",L_int)\n",
    "#대칭적 차집합\n",
    "L12 = list(filter(lambda x: x not in L2, L1))\n",
    "L21 = list(filter(lambda x: x not in L1, L2))\n",
    "L_dif = L12 + L21\n",
    "print(\"Difference between two lists: \", L_dif)"
   ]
  },
  {
   "cell_type": "code",
   "execution_count": null,
   "id": "6334b2a0",
   "metadata": {},
   "outputs": [],
   "source": []
  }
 ],
 "metadata": {
  "kernelspec": {
   "display_name": "Python 3 (ipykernel)",
   "language": "python",
   "name": "python3"
  },
  "language_info": {
   "codemirror_mode": {
    "name": "ipython",
    "version": 3
   },
   "file_extension": ".py",
   "mimetype": "text/x-python",
   "name": "python",
   "nbconvert_exporter": "python",
   "pygments_lexer": "ipython3",
   "version": "3.9.7"
  },
  "toc": {
   "base_numbering": 1,
   "nav_menu": {},
   "number_sections": true,
   "sideBar": true,
   "skip_h1_title": false,
   "title_cell": "Table of Contents",
   "title_sidebar": "Contents",
   "toc_cell": false,
   "toc_position": {},
   "toc_section_display": true,
   "toc_window_display": false
  }
 },
 "nbformat": 4,
 "nbformat_minor": 5
}
