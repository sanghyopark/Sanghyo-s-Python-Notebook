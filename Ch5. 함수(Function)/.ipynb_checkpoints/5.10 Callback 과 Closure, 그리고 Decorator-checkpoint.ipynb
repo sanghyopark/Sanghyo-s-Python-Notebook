{
 "cells": [
  {
   "cell_type": "markdown",
   "id": "dfc44707",
   "metadata": {},
   "source": [
    "# 5.10 Callback 과 Closure, 그리고 Decorator"
   ]
  },
  {
   "cell_type": "code",
   "execution_count": 5,
   "id": "1f7e2522",
   "metadata": {
    "ExecuteTime": {
     "end_time": "2022-02-05T14:54:22.153605Z",
     "start_time": "2022-02-05T14:54:22.151105Z"
    }
   },
   "outputs": [],
   "source": [
    "def cal(callback_ftn, L_in):\n",
    "    L_out = []\n",
    "    for i in L_in:\n",
    "        L_out.append(callback_ftn(i))\n",
    "    return L_out\n",
    "\n",
    "def add2(num):\n",
    "    return num + 2\n",
    "\n",
    "def mul2(num):\n",
    "    return num * 2\n",
    "\n",
    "#함수를 입력인자로 넣어줌으로써 필요할 때 호출하도록 하는 것을 callback이라 하며 입력인자로 넣어주는\n",
    "#함수를 callback function이라고 한다."
   ]
  },
  {
   "cell_type": "code",
   "execution_count": 6,
   "id": "fb9b33ae",
   "metadata": {
    "ExecuteTime": {
     "end_time": "2022-02-05T14:54:22.553538Z",
     "start_time": "2022-02-05T14:54:22.541536Z"
    }
   },
   "outputs": [],
   "source": [
    "L = [1,2,3,4]"
   ]
  },
  {
   "cell_type": "code",
   "execution_count": 7,
   "id": "bca8f75e",
   "metadata": {
    "ExecuteTime": {
     "end_time": "2022-02-05T14:54:22.906280Z",
     "start_time": "2022-02-05T14:54:22.899279Z"
    }
   },
   "outputs": [
    {
     "data": {
      "text/plain": [
       "[3, 4, 5, 6]"
      ]
     },
     "execution_count": 7,
     "metadata": {},
     "output_type": "execute_result"
    }
   ],
   "source": [
    "cal(add2,L)"
   ]
  },
  {
   "cell_type": "code",
   "execution_count": 8,
   "id": "c948e549",
   "metadata": {
    "ExecuteTime": {
     "end_time": "2022-02-05T14:54:30.910530Z",
     "start_time": "2022-02-05T14:54:30.904529Z"
    }
   },
   "outputs": [
    {
     "data": {
      "text/plain": [
       "[2, 4, 6, 8]"
      ]
     },
     "execution_count": 8,
     "metadata": {},
     "output_type": "execute_result"
    }
   ],
   "source": [
    "cal(mul2,L)"
   ]
  },
  {
   "cell_type": "code",
   "execution_count": 13,
   "id": "7daf82b9",
   "metadata": {
    "ExecuteTime": {
     "end_time": "2022-02-05T14:57:43.773530Z",
     "start_time": "2022-02-05T14:57:43.769029Z"
    }
   },
   "outputs": [],
   "source": [
    "def my_closure(n):\n",
    "    def mul_by(x):\n",
    "        return x * n\n",
    "    return mul_by\n",
    "\n",
    "def my_closure1(n):\n",
    "    return lambda x : x*n\n",
    "\n",
    "#closure는 함수가 다른 함수의 출력인자로 반환되는 것이다."
   ]
  },
  {
   "cell_type": "code",
   "execution_count": 21,
   "id": "e86f0fb7",
   "metadata": {
    "ExecuteTime": {
     "end_time": "2022-02-05T14:58:34.629805Z",
     "start_time": "2022-02-05T14:58:34.613014Z"
    }
   },
   "outputs": [],
   "source": [
    "mul2 = my_closure(2)\n",
    "mul2_1 = my_closure1(2)"
   ]
  },
  {
   "cell_type": "code",
   "execution_count": 22,
   "id": "3c07949f",
   "metadata": {
    "ExecuteTime": {
     "end_time": "2022-02-05T14:58:35.503338Z",
     "start_time": "2022-02-05T14:58:35.488625Z"
    }
   },
   "outputs": [
    {
     "data": {
      "text/plain": [
       "22"
      ]
     },
     "execution_count": 22,
     "metadata": {},
     "output_type": "execute_result"
    }
   ],
   "source": [
    "mul2(11)"
   ]
  },
  {
   "cell_type": "code",
   "execution_count": 23,
   "id": "ac468669",
   "metadata": {
    "ExecuteTime": {
     "end_time": "2022-02-05T14:58:38.170351Z",
     "start_time": "2022-02-05T14:58:38.157346Z"
    }
   },
   "outputs": [
    {
     "data": {
      "text/plain": [
       "22"
      ]
     },
     "execution_count": 23,
     "metadata": {},
     "output_type": "execute_result"
    }
   ],
   "source": [
    "mul2_1(11)"
   ]
  },
  {
   "cell_type": "code",
   "execution_count": 24,
   "id": "1b3d24bc",
   "metadata": {
    "ExecuteTime": {
     "end_time": "2022-02-05T15:00:46.660187Z",
     "start_time": "2022-02-05T15:00:46.657187Z"
    }
   },
   "outputs": [],
   "source": [
    "def my_closure2(func):\n",
    "    def f(x):\n",
    "        return func(list(map(abs,x)))\n",
    "    return f\n",
    "    #return lambda x: func(list(map(abs, x)))\n",
    "\n",
    "#하나의 함수를 입력인자로 받아서 그 함수에 따라 다른 작업을 수행하는 함수를 만들어 반환할 수 있다."
   ]
  },
  {
   "cell_type": "code",
   "execution_count": 27,
   "id": "9ac1a612",
   "metadata": {
    "ExecuteTime": {
     "end_time": "2022-02-05T15:01:17.897548Z",
     "start_time": "2022-02-05T15:01:17.888046Z"
    }
   },
   "outputs": [],
   "source": [
    "sort_abs = my_closure2(sorted)\n",
    "sum_abs = my_closure2(sum)"
   ]
  },
  {
   "cell_type": "code",
   "execution_count": 28,
   "id": "10ad4e86",
   "metadata": {
    "ExecuteTime": {
     "end_time": "2022-02-05T15:01:30.774944Z",
     "start_time": "2022-02-05T15:01:30.766442Z"
    }
   },
   "outputs": [],
   "source": [
    "L = [1, -4, 3]"
   ]
  },
  {
   "cell_type": "code",
   "execution_count": 29,
   "id": "5d2ade04",
   "metadata": {
    "ExecuteTime": {
     "end_time": "2022-02-05T15:01:34.180729Z",
     "start_time": "2022-02-05T15:01:34.168727Z"
    }
   },
   "outputs": [
    {
     "data": {
      "text/plain": [
       "[1, 3, 4]"
      ]
     },
     "execution_count": 29,
     "metadata": {},
     "output_type": "execute_result"
    }
   ],
   "source": [
    "sort_abs(L)"
   ]
  },
  {
   "cell_type": "code",
   "execution_count": 30,
   "id": "31a0185b",
   "metadata": {
    "ExecuteTime": {
     "end_time": "2022-02-05T15:01:42.870125Z",
     "start_time": "2022-02-05T15:01:42.858623Z"
    }
   },
   "outputs": [
    {
     "data": {
      "text/plain": [
       "8"
      ]
     },
     "execution_count": 30,
     "metadata": {},
     "output_type": "execute_result"
    }
   ],
   "source": [
    "sum_abs(L)"
   ]
  },
  {
   "cell_type": "code",
   "execution_count": 33,
   "id": "c4be323f",
   "metadata": {
    "ExecuteTime": {
     "end_time": "2022-02-05T15:04:52.648381Z",
     "start_time": "2022-02-05T15:04:52.631105Z"
    }
   },
   "outputs": [],
   "source": [
    "def divide(a,b):\n",
    "    print(a/b)\n",
    "    \n",
    "def decorate_divide(func):\n",
    "    def div(a,b):\n",
    "        print(\"I am going to divide\", a, 'by', b)\n",
    "        if b==0:\n",
    "            print(\"Whoops! Zero-division is impossible.\")\n",
    "            return\n",
    "        return func(a,b)\n",
    "    return div"
   ]
  },
  {
   "cell_type": "code",
   "execution_count": 34,
   "id": "0e53f50c",
   "metadata": {
    "ExecuteTime": {
     "end_time": "2022-02-05T15:04:52.801867Z",
     "start_time": "2022-02-05T15:04:52.788540Z"
    }
   },
   "outputs": [],
   "source": [
    "smart_divide = decorate_divide(divide)"
   ]
  },
  {
   "cell_type": "code",
   "execution_count": 35,
   "id": "6eeb6e9d",
   "metadata": {
    "ExecuteTime": {
     "end_time": "2022-02-05T15:04:59.795285Z",
     "start_time": "2022-02-05T15:04:59.789285Z"
    }
   },
   "outputs": [
    {
     "name": "stdout",
     "output_type": "stream",
     "text": [
      "I am going to divide 3 by 2\n",
      "1.5\n"
     ]
    }
   ],
   "source": [
    "smart_divide(3,2)"
   ]
  },
  {
   "cell_type": "code",
   "execution_count": 36,
   "id": "96162c23",
   "metadata": {
    "ExecuteTime": {
     "end_time": "2022-02-05T15:05:07.448993Z",
     "start_time": "2022-02-05T15:05:07.433991Z"
    }
   },
   "outputs": [
    {
     "name": "stdout",
     "output_type": "stream",
     "text": [
      "I am going to divide 3 by 0\n",
      "Whoops! Zero-division is impossible.\n"
     ]
    }
   ],
   "source": [
    "smart_divide(3,0)"
   ]
  },
  {
   "cell_type": "markdown",
   "id": "04c21755",
   "metadata": {
    "ExecuteTime": {
     "end_time": "2022-02-05T15:06:10.212549Z",
     "start_time": "2022-02-05T15:06:10.202047Z"
    }
   },
   "source": [
    "## Remark 5.2 functools Module에 속한 partial() 함수"
   ]
  },
  {
   "cell_type": "code",
   "execution_count": 38,
   "id": "cc9d23ca",
   "metadata": {
    "ExecuteTime": {
     "end_time": "2022-02-05T15:07:22.873132Z",
     "start_time": "2022-02-05T15:07:22.870631Z"
    }
   },
   "outputs": [],
   "source": [
    "from functools import partial"
   ]
  },
  {
   "cell_type": "code",
   "execution_count": 39,
   "id": "682075ca",
   "metadata": {
    "ExecuteTime": {
     "end_time": "2022-02-05T15:07:31.553539Z",
     "start_time": "2022-02-05T15:07:31.541537Z"
    }
   },
   "outputs": [],
   "source": [
    "def pow2to(n):\n",
    "    return 2**n"
   ]
  },
  {
   "cell_type": "code",
   "execution_count": 40,
   "id": "8c94577c",
   "metadata": {
    "ExecuteTime": {
     "end_time": "2022-02-05T15:07:46.566738Z",
     "start_time": "2022-02-05T15:07:46.562237Z"
    }
   },
   "outputs": [],
   "source": [
    "pow2to3 = partial(pow2to, 3)\n",
    "#pow2to()함수의 입력인자 n을 3으로 설정한 함수를 정의"
   ]
  },
  {
   "cell_type": "code",
   "execution_count": 41,
   "id": "8ff34621",
   "metadata": {
    "ExecuteTime": {
     "end_time": "2022-02-05T15:08:03.308699Z",
     "start_time": "2022-02-05T15:08:03.291696Z"
    }
   },
   "outputs": [
    {
     "data": {
      "text/plain": [
       "8"
      ]
     },
     "execution_count": 41,
     "metadata": {},
     "output_type": "execute_result"
    }
   ],
   "source": [
    "pow2to3()"
   ]
  },
  {
   "cell_type": "code",
   "execution_count": 42,
   "id": "ddaba59d",
   "metadata": {
    "ExecuteTime": {
     "end_time": "2022-02-05T15:09:34.340030Z",
     "start_time": "2022-02-05T15:09:34.334529Z"
    }
   },
   "outputs": [],
   "source": [
    "def power(x,n):\n",
    "    return x**n"
   ]
  },
  {
   "cell_type": "code",
   "execution_count": 51,
   "id": "8cf5cef3",
   "metadata": {
    "ExecuteTime": {
     "end_time": "2022-02-05T15:10:39.818804Z",
     "start_time": "2022-02-05T15:10:39.805801Z"
    }
   },
   "outputs": [],
   "source": [
    "pow2to = partial(power,2)"
   ]
  },
  {
   "cell_type": "code",
   "execution_count": 52,
   "id": "aa343e23",
   "metadata": {
    "ExecuteTime": {
     "end_time": "2022-02-05T15:10:42.781420Z",
     "start_time": "2022-02-05T15:10:42.764417Z"
    }
   },
   "outputs": [
    {
     "data": {
      "text/plain": [
       "8"
      ]
     },
     "execution_count": 52,
     "metadata": {},
     "output_type": "execute_result"
    }
   ],
   "source": [
    "pow2to(3)"
   ]
  },
  {
   "cell_type": "code",
   "execution_count": 53,
   "id": "86157d1f",
   "metadata": {
    "ExecuteTime": {
     "end_time": "2022-02-05T15:11:03.017783Z",
     "start_time": "2022-02-05T15:11:03.013782Z"
    }
   },
   "outputs": [],
   "source": [
    "pow2to_ = lambda n: power(2,n)"
   ]
  },
  {
   "cell_type": "code",
   "execution_count": 54,
   "id": "f8253fe8",
   "metadata": {
    "ExecuteTime": {
     "end_time": "2022-02-05T15:11:09.274711Z",
     "start_time": "2022-02-05T15:11:09.266209Z"
    }
   },
   "outputs": [
    {
     "data": {
      "text/plain": [
       "8"
      ]
     },
     "execution_count": 54,
     "metadata": {},
     "output_type": "execute_result"
    }
   ],
   "source": [
    "pow2to_(3)"
   ]
  },
  {
   "cell_type": "code",
   "execution_count": null,
   "id": "abaf1595",
   "metadata": {},
   "outputs": [],
   "source": []
  }
 ],
 "metadata": {
  "kernelspec": {
   "display_name": "Python 3 (ipykernel)",
   "language": "python",
   "name": "python3"
  },
  "language_info": {
   "codemirror_mode": {
    "name": "ipython",
    "version": 3
   },
   "file_extension": ".py",
   "mimetype": "text/x-python",
   "name": "python",
   "nbconvert_exporter": "python",
   "pygments_lexer": "ipython3",
   "version": "3.9.7"
  },
  "toc": {
   "base_numbering": 1,
   "nav_menu": {},
   "number_sections": true,
   "sideBar": true,
   "skip_h1_title": false,
   "title_cell": "Table of Contents",
   "title_sidebar": "Contents",
   "toc_cell": false,
   "toc_position": {},
   "toc_section_display": true,
   "toc_window_display": false
  }
 },
 "nbformat": 4,
 "nbformat_minor": 5
}
