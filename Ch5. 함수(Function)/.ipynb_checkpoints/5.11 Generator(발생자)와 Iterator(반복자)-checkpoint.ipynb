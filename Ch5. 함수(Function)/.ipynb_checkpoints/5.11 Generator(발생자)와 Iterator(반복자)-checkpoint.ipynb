{
 "cells": [
  {
   "cell_type": "markdown",
   "id": "7cbdf1c5",
   "metadata": {},
   "source": [
    "# 5.11 Generator(발생자)와 Iterator(반복자)"
   ]
  },
  {
   "cell_type": "code",
   "execution_count": 1,
   "id": "cd49c5e1",
   "metadata": {
    "ExecuteTime": {
     "end_time": "2022-02-05T16:39:35.806383Z",
     "start_time": "2022-02-05T16:39:35.749370Z"
    }
   },
   "outputs": [],
   "source": [
    "N = 1000000\n",
    "L = [i*2 for i in range(N)]"
   ]
  },
  {
   "cell_type": "code",
   "execution_count": 2,
   "id": "89bcb002",
   "metadata": {
    "ExecuteTime": {
     "end_time": "2022-02-05T16:39:51.311824Z",
     "start_time": "2022-02-05T16:39:51.300822Z"
    }
   },
   "outputs": [],
   "source": [
    "I = iter(L)"
   ]
  },
  {
   "cell_type": "code",
   "execution_count": 3,
   "id": "417cbf02",
   "metadata": {
    "ExecuteTime": {
     "end_time": "2022-02-05T16:40:04.332139Z",
     "start_time": "2022-02-05T16:40:04.322638Z"
    }
   },
   "outputs": [],
   "source": [
    "G = (i*2 for i in range(N))"
   ]
  },
  {
   "cell_type": "code",
   "execution_count": 4,
   "id": "c151d831",
   "metadata": {
    "ExecuteTime": {
     "end_time": "2022-02-05T16:40:07.414435Z",
     "start_time": "2022-02-05T16:40:07.394933Z"
    }
   },
   "outputs": [
    {
     "data": {
      "text/plain": [
       "list_iterator"
      ]
     },
     "execution_count": 4,
     "metadata": {},
     "output_type": "execute_result"
    }
   ],
   "source": [
    "type(I)"
   ]
  },
  {
   "cell_type": "code",
   "execution_count": 5,
   "id": "cd2f7752",
   "metadata": {
    "ExecuteTime": {
     "end_time": "2022-02-05T16:40:11.311393Z",
     "start_time": "2022-02-05T16:40:11.307893Z"
    }
   },
   "outputs": [
    {
     "data": {
      "text/plain": [
       "generator"
      ]
     },
     "execution_count": 5,
     "metadata": {},
     "output_type": "execute_result"
    }
   ],
   "source": [
    "type(G)"
   ]
  },
  {
   "cell_type": "code",
   "execution_count": 6,
   "id": "62d15524",
   "metadata": {
    "ExecuteTime": {
     "end_time": "2022-02-05T16:40:26.899720Z",
     "start_time": "2022-02-05T16:40:26.888219Z"
    }
   },
   "outputs": [
    {
     "data": {
      "text/plain": [
       "(0, 0)"
      ]
     },
     "execution_count": 6,
     "metadata": {},
     "output_type": "execute_result"
    }
   ],
   "source": [
    "next(I), next(G)"
   ]
  },
  {
   "cell_type": "code",
   "execution_count": 7,
   "id": "b60c0b74",
   "metadata": {
    "ExecuteTime": {
     "end_time": "2022-02-05T16:40:27.837258Z",
     "start_time": "2022-02-05T16:40:27.822255Z"
    }
   },
   "outputs": [
    {
     "data": {
      "text/plain": [
       "(2, 2)"
      ]
     },
     "execution_count": 7,
     "metadata": {},
     "output_type": "execute_result"
    }
   ],
   "source": [
    "next(I), next(G)"
   ]
  },
  {
   "cell_type": "code",
   "execution_count": 8,
   "id": "b2ab97f2",
   "metadata": {
    "ExecuteTime": {
     "end_time": "2022-02-05T16:40:29.050683Z",
     "start_time": "2022-02-05T16:40:29.039181Z"
    }
   },
   "outputs": [
    {
     "data": {
      "text/plain": [
       "(4, 4)"
      ]
     },
     "execution_count": 8,
     "metadata": {},
     "output_type": "execute_result"
    }
   ],
   "source": [
    "next(I), next(G)"
   ]
  },
  {
   "cell_type": "code",
   "execution_count": 9,
   "id": "7652caf1",
   "metadata": {
    "ExecuteTime": {
     "end_time": "2022-02-05T16:40:40.580437Z",
     "start_time": "2022-02-05T16:40:40.575438Z"
    }
   },
   "outputs": [],
   "source": [
    "from sys import getsizeof"
   ]
  },
  {
   "cell_type": "code",
   "execution_count": 10,
   "id": "921d81e4",
   "metadata": {
    "ExecuteTime": {
     "end_time": "2022-02-05T16:40:45.660306Z",
     "start_time": "2022-02-05T16:40:45.652304Z"
    }
   },
   "outputs": [
    {
     "data": {
      "text/plain": [
       "8448728"
      ]
     },
     "execution_count": 10,
     "metadata": {},
     "output_type": "execute_result"
    }
   ],
   "source": [
    "getsizeof(L)"
   ]
  },
  {
   "cell_type": "code",
   "execution_count": 11,
   "id": "c7a9f00b",
   "metadata": {
    "ExecuteTime": {
     "end_time": "2022-02-05T16:40:50.539303Z",
     "start_time": "2022-02-05T16:40:50.533802Z"
    }
   },
   "outputs": [
    {
     "data": {
      "text/plain": [
       "48"
      ]
     },
     "execution_count": 11,
     "metadata": {},
     "output_type": "execute_result"
    }
   ],
   "source": [
    "getsizeof(I)"
   ]
  },
  {
   "cell_type": "code",
   "execution_count": 12,
   "id": "f4871645",
   "metadata": {
    "ExecuteTime": {
     "end_time": "2022-02-05T16:40:54.553368Z",
     "start_time": "2022-02-05T16:40:54.550866Z"
    }
   },
   "outputs": [
    {
     "data": {
      "text/plain": [
       "112"
      ]
     },
     "execution_count": 12,
     "metadata": {},
     "output_type": "execute_result"
    }
   ],
   "source": [
    "getsizeof(G)"
   ]
  },
  {
   "cell_type": "code",
   "execution_count": 13,
   "id": "00f4e9c0",
   "metadata": {
    "ExecuteTime": {
     "end_time": "2022-02-05T16:41:11.345382Z",
     "start_time": "2022-02-05T16:41:11.341882Z"
    }
   },
   "outputs": [],
   "source": [
    "import cProfile"
   ]
  },
  {
   "cell_type": "code",
   "execution_count": 14,
   "id": "a98c4ae3",
   "metadata": {
    "ExecuteTime": {
     "end_time": "2022-02-05T16:41:25.470778Z",
     "start_time": "2022-02-05T16:41:25.396266Z"
    }
   },
   "outputs": [
    {
     "name": "stdout",
     "output_type": "stream",
     "text": [
      "         3 function calls in 0.061 seconds\n",
      "\n",
      "   Ordered by: standard name\n",
      "\n",
      "   ncalls  tottime  percall  cumtime  percall filename:lineno(function)\n",
      "        1    0.061    0.061    0.061    0.061 <string>:1(<module>)\n",
      "        1    0.000    0.000    0.061    0.061 {built-in method builtins.exec}\n",
      "        1    0.000    0.000    0.000    0.000 {method 'disable' of '_lsprof.Profiler' objects}\n",
      "\n",
      "\n"
     ]
    }
   ],
   "source": [
    "sumL = 0; cProfile.run('for n in L: sumL += n')"
   ]
  },
  {
   "cell_type": "code",
   "execution_count": 15,
   "id": "beef54e4",
   "metadata": {
    "ExecuteTime": {
     "end_time": "2022-02-05T16:41:53.088300Z",
     "start_time": "2022-02-05T16:41:53.018287Z"
    }
   },
   "outputs": [
    {
     "name": "stdout",
     "output_type": "stream",
     "text": [
      "         3 function calls in 0.065 seconds\n",
      "\n",
      "   Ordered by: standard name\n",
      "\n",
      "   ncalls  tottime  percall  cumtime  percall filename:lineno(function)\n",
      "        1    0.065    0.065    0.065    0.065 <string>:1(<module>)\n",
      "        1    0.000    0.000    0.065    0.065 {built-in method builtins.exec}\n",
      "        1    0.000    0.000    0.000    0.000 {method 'disable' of '_lsprof.Profiler' objects}\n",
      "\n",
      "\n"
     ]
    }
   ],
   "source": [
    "sumI = 0; cProfile.run('for n in I: sumI += n')"
   ]
  },
  {
   "cell_type": "code",
   "execution_count": 16,
   "id": "18b663c3",
   "metadata": {
    "ExecuteTime": {
     "end_time": "2022-02-05T16:42:13.116761Z",
     "start_time": "2022-02-05T16:42:12.910015Z"
    }
   },
   "outputs": [
    {
     "name": "stdout",
     "output_type": "stream",
     "text": [
      "         1000001 function calls in 0.190 seconds\n",
      "\n",
      "   Ordered by: standard name\n",
      "\n",
      "   ncalls  tottime  percall  cumtime  percall filename:lineno(function)\n",
      "   999998    0.071    0.000    0.071    0.000 117613837.py:1(<genexpr>)\n",
      "        1    0.119    0.119    0.190    0.190 <string>:1(<module>)\n",
      "        1    0.000    0.000    0.190    0.190 {built-in method builtins.exec}\n",
      "        1    0.000    0.000    0.000    0.000 {method 'disable' of '_lsprof.Profiler' objects}\n",
      "\n",
      "\n"
     ]
    }
   ],
   "source": [
    "sumG = 0; cProfile.run('for n in G: sumG += n')"
   ]
  },
  {
   "cell_type": "code",
   "execution_count": 17,
   "id": "f4771a61",
   "metadata": {
    "ExecuteTime": {
     "end_time": "2022-02-05T16:42:25.940408Z",
     "start_time": "2022-02-05T16:42:25.937908Z"
    }
   },
   "outputs": [
    {
     "data": {
      "text/plain": [
       "(999999000000, 999998999994, 999998999994)"
      ]
     },
     "execution_count": 17,
     "metadata": {},
     "output_type": "execute_result"
    }
   ],
   "source": [
    "sumL, sumI, sumG"
   ]
  },
  {
   "cell_type": "code",
   "execution_count": 19,
   "id": "94fd5cb8",
   "metadata": {
    "ExecuteTime": {
     "end_time": "2022-02-05T16:46:33.930779Z",
     "start_time": "2022-02-05T16:46:33.924778Z"
    }
   },
   "outputs": [],
   "source": [
    "def generator3():\n",
    "    yield 0\n",
    "    yield 1\n",
    "    yield 2\n",
    "#보통의 함수는 return문이 수행되면 그 실행이 완전히 종료되는 데 비해, generator 함수는 첫번째\n",
    "#yield문을 만나면 그 지점에서 실행이 중지되고 그 함수에 대한 generator형 객체를 반환한다.\n",
    "#그 다음에 그 객체를 입력으로 받은 next()함수가 실행되면 그 generator함수가 실행되어 전에 수행되었던\n",
    "#yield 다음 값을 반환하고, 그 다음 yield문이 있다면 그 바로 전까지 실행되며, 없다면 그 다음\n",
    "#return문이나 그 함수의 끝까지 실행된 후 StopIteration이라는 예외를 발생시킨다."
   ]
  },
  {
   "cell_type": "code",
   "execution_count": 20,
   "id": "95f47b66",
   "metadata": {
    "ExecuteTime": {
     "end_time": "2022-02-05T16:46:48.613768Z",
     "start_time": "2022-02-05T16:46:48.607267Z"
    }
   },
   "outputs": [],
   "source": [
    "g = generator3()"
   ]
  },
  {
   "cell_type": "code",
   "execution_count": 21,
   "id": "f26b7239",
   "metadata": {
    "ExecuteTime": {
     "end_time": "2022-02-05T16:46:50.348722Z",
     "start_time": "2022-02-05T16:46:50.341221Z"
    }
   },
   "outputs": [
    {
     "data": {
      "text/plain": [
       "0"
      ]
     },
     "execution_count": 21,
     "metadata": {},
     "output_type": "execute_result"
    }
   ],
   "source": [
    "next(g)"
   ]
  },
  {
   "cell_type": "code",
   "execution_count": 22,
   "id": "51a07f49",
   "metadata": {
    "ExecuteTime": {
     "end_time": "2022-02-05T16:46:52.463700Z",
     "start_time": "2022-02-05T16:46:52.450697Z"
    }
   },
   "outputs": [
    {
     "data": {
      "text/plain": [
       "1"
      ]
     },
     "execution_count": 22,
     "metadata": {},
     "output_type": "execute_result"
    }
   ],
   "source": [
    "next(g)"
   ]
  },
  {
   "cell_type": "code",
   "execution_count": 23,
   "id": "7e392d32",
   "metadata": {
    "ExecuteTime": {
     "end_time": "2022-02-05T16:46:54.366924Z",
     "start_time": "2022-02-05T16:46:54.354421Z"
    }
   },
   "outputs": [
    {
     "data": {
      "text/plain": [
       "2"
      ]
     },
     "execution_count": 23,
     "metadata": {},
     "output_type": "execute_result"
    }
   ],
   "source": [
    "next(g)"
   ]
  },
  {
   "cell_type": "code",
   "execution_count": 24,
   "id": "ef79f1a3",
   "metadata": {
    "ExecuteTime": {
     "end_time": "2022-02-05T16:46:58.494411Z",
     "start_time": "2022-02-05T16:46:58.359885Z"
    }
   },
   "outputs": [
    {
     "ename": "StopIteration",
     "evalue": "",
     "output_type": "error",
     "traceback": [
      "\u001b[1;31m---------------------------------------------------------------------------\u001b[0m",
      "\u001b[1;31mStopIteration\u001b[0m                             Traceback (most recent call last)",
      "\u001b[1;32m~\\AppData\\Local\\Temp/ipykernel_17884/4253931490.py\u001b[0m in \u001b[0;36m<module>\u001b[1;34m\u001b[0m\n\u001b[1;32m----> 1\u001b[1;33m \u001b[0mnext\u001b[0m\u001b[1;33m(\u001b[0m\u001b[0mg\u001b[0m\u001b[1;33m)\u001b[0m\u001b[1;33m\u001b[0m\u001b[1;33m\u001b[0m\u001b[0m\n\u001b[0m",
      "\u001b[1;31mStopIteration\u001b[0m: "
     ]
    }
   ],
   "source": [
    "next(g)"
   ]
  },
  {
   "cell_type": "code",
   "execution_count": 25,
   "id": "691f953c",
   "metadata": {
    "ExecuteTime": {
     "end_time": "2022-02-05T16:48:12.546807Z",
     "start_time": "2022-02-05T16:48:12.543306Z"
    }
   },
   "outputs": [],
   "source": [
    "def gen_even():\n",
    "    n = 0\n",
    "    while True:\n",
    "        yield n\n",
    "        n += 2\n",
    "        \n",
    "#generator가 iterator보다 나은 면은 위와 같이 무한한 sequence/stream을 발생시킬 수 있다는 것이다."
   ]
  },
  {
   "cell_type": "code",
   "execution_count": 27,
   "id": "ad52b233",
   "metadata": {
    "ExecuteTime": {
     "end_time": "2022-02-05T16:48:40.646319Z",
     "start_time": "2022-02-05T16:48:40.634817Z"
    }
   },
   "outputs": [],
   "source": [
    "g1 = gen_even()\n",
    "g2 = gen_even()"
   ]
  },
  {
   "cell_type": "code",
   "execution_count": 28,
   "id": "bda3b43f",
   "metadata": {
    "ExecuteTime": {
     "end_time": "2022-02-05T16:48:53.729598Z",
     "start_time": "2022-02-05T16:48:53.720096Z"
    }
   },
   "outputs": [
    {
     "data": {
      "text/plain": [
       "0"
      ]
     },
     "execution_count": 28,
     "metadata": {},
     "output_type": "execute_result"
    }
   ],
   "source": [
    "next(g1)"
   ]
  },
  {
   "cell_type": "code",
   "execution_count": 29,
   "id": "24cd0fae",
   "metadata": {
    "ExecuteTime": {
     "end_time": "2022-02-05T16:48:57.288526Z",
     "start_time": "2022-02-05T16:48:57.272523Z"
    }
   },
   "outputs": [
    {
     "data": {
      "text/plain": [
       "2"
      ]
     },
     "execution_count": 29,
     "metadata": {},
     "output_type": "execute_result"
    }
   ],
   "source": [
    "next(g1)"
   ]
  },
  {
   "cell_type": "code",
   "execution_count": 30,
   "id": "bf378fd7",
   "metadata": {
    "ExecuteTime": {
     "end_time": "2022-02-05T16:49:00.814161Z",
     "start_time": "2022-02-05T16:49:00.803159Z"
    }
   },
   "outputs": [
    {
     "data": {
      "text/plain": [
       "0"
      ]
     },
     "execution_count": 30,
     "metadata": {},
     "output_type": "execute_result"
    }
   ],
   "source": [
    "next(g2)"
   ]
  },
  {
   "cell_type": "code",
   "execution_count": 33,
   "id": "9bba761f",
   "metadata": {
    "ExecuteTime": {
     "end_time": "2022-02-05T16:50:22.191763Z",
     "start_time": "2022-02-05T16:50:22.183763Z"
    }
   },
   "outputs": [
    {
     "data": {
      "text/plain": [
       "[0, 2, 4, 6, 8]"
      ]
     },
     "execution_count": 33,
     "metadata": {},
     "output_type": "execute_result"
    }
   ],
   "source": [
    "g1 = gen_even()\n",
    "even_nos = [next(g1) for i in range(5)]; even_nos\n",
    "#generator의 좀 더 요긴한 쓰임새는, 커다란 파일을 한꺼번에 읽는 대신에, 한줄씩 읽어냄으로써\n",
    "#computer memory에 과부화를 지우지 않는 데 있다."
   ]
  },
  {
   "cell_type": "code",
   "execution_count": 35,
   "id": "b7eee64e",
   "metadata": {
    "ExecuteTime": {
     "end_time": "2022-02-05T16:53:05.557132Z",
     "start_time": "2022-02-05T16:53:05.549631Z"
    }
   },
   "outputs": [
    {
     "ename": "FileNotFoundError",
     "evalue": "[Errno 2] No such file or directory: 'grade.csv'",
     "output_type": "error",
     "traceback": [
      "\u001b[1;31m---------------------------------------------------------------------------\u001b[0m",
      "\u001b[1;31mFileNotFoundError\u001b[0m                         Traceback (most recent call last)",
      "\u001b[1;32m~\\AppData\\Local\\Temp/ipykernel_17884/4073126686.py\u001b[0m in \u001b[0;36m<module>\u001b[1;34m\u001b[0m\n\u001b[0;32m      4\u001b[0m     \u001b[1;32mreturn\u001b[0m \u001b[0mrows\u001b[0m\u001b[1;33m\u001b[0m\u001b[1;33m\u001b[0m\u001b[0m\n\u001b[0;32m      5\u001b[0m \u001b[1;33m\u001b[0m\u001b[0m\n\u001b[1;32m----> 6\u001b[1;33m \u001b[0mrows1\u001b[0m \u001b[1;33m=\u001b[0m \u001b[0mreader\u001b[0m\u001b[1;33m(\u001b[0m\u001b[1;34m\"grade.csv\"\u001b[0m\u001b[1;33m)\u001b[0m\u001b[1;33m\u001b[0m\u001b[1;33m\u001b[0m\u001b[0m\n\u001b[0m\u001b[0;32m      7\u001b[0m \u001b[1;32mfor\u001b[0m \u001b[0mn\u001b[0m \u001b[1;32min\u001b[0m \u001b[0mrange\u001b[0m\u001b[1;33m(\u001b[0m\u001b[0mlen\u001b[0m\u001b[1;33m(\u001b[0m\u001b[0mrows1\u001b[0m\u001b[1;33m)\u001b[0m\u001b[1;33m)\u001b[0m\u001b[1;33m:\u001b[0m\u001b[1;33m\u001b[0m\u001b[1;33m\u001b[0m\u001b[0m\n\u001b[0;32m      8\u001b[0m     \u001b[0mprint\u001b[0m\u001b[1;33m(\u001b[0m\u001b[0mrows1\u001b[0m\u001b[1;33m[\u001b[0m\u001b[0mn\u001b[0m\u001b[1;33m]\u001b[0m\u001b[1;33m,\u001b[0m \u001b[0mend\u001b[0m\u001b[1;33m=\u001b[0m\u001b[1;34m''\u001b[0m\u001b[1;33m)\u001b[0m\u001b[1;33m\u001b[0m\u001b[1;33m\u001b[0m\u001b[0m\n",
      "\u001b[1;32m~\\AppData\\Local\\Temp/ipykernel_17884/4073126686.py\u001b[0m in \u001b[0;36mreader\u001b[1;34m(file_name)\u001b[0m\n\u001b[0;32m      1\u001b[0m \u001b[1;32mdef\u001b[0m \u001b[0mreader\u001b[0m\u001b[1;33m(\u001b[0m\u001b[0mfile_name\u001b[0m\u001b[1;33m)\u001b[0m\u001b[1;33m:\u001b[0m\u001b[1;33m\u001b[0m\u001b[1;33m\u001b[0m\u001b[0m\n\u001b[1;32m----> 2\u001b[1;33m     \u001b[0mf\u001b[0m \u001b[1;33m=\u001b[0m \u001b[0mopen\u001b[0m\u001b[1;33m(\u001b[0m\u001b[0mfile_name\u001b[0m\u001b[1;33m,\u001b[0m \u001b[1;34m\"r\"\u001b[0m\u001b[1;33m)\u001b[0m\u001b[1;33m\u001b[0m\u001b[1;33m\u001b[0m\u001b[0m\n\u001b[0m\u001b[0;32m      3\u001b[0m     \u001b[0mrows\u001b[0m \u001b[1;33m=\u001b[0m \u001b[0mf\u001b[0m\u001b[1;33m.\u001b[0m\u001b[0mreadlines\u001b[0m\u001b[1;33m(\u001b[0m\u001b[1;33m)\u001b[0m \u001b[1;31m#readlines()로 파일 전체 내용을 한꺼번에 읽는다.\u001b[0m\u001b[1;33m\u001b[0m\u001b[1;33m\u001b[0m\u001b[0m\n\u001b[0;32m      4\u001b[0m     \u001b[1;32mreturn\u001b[0m \u001b[0mrows\u001b[0m\u001b[1;33m\u001b[0m\u001b[1;33m\u001b[0m\u001b[0m\n\u001b[0;32m      5\u001b[0m \u001b[1;33m\u001b[0m\u001b[0m\n",
      "\u001b[1;31mFileNotFoundError\u001b[0m: [Errno 2] No such file or directory: 'grade.csv'"
     ]
    }
   ],
   "source": [
    "def reader(file_name):\n",
    "    f = open(file_name, \"r\")\n",
    "    rows = f.readlines() #readlines()로 파일 전체 내용을 한꺼번에 읽는다.\n",
    "    return rows\n",
    "\n",
    "rows1 = reader(\"grade.csv\")\n",
    "for n in range(len(rows1)):\n",
    "    print(rows1[n], end='')"
   ]
  },
  {
   "cell_type": "code",
   "execution_count": 37,
   "id": "81f1a531",
   "metadata": {
    "ExecuteTime": {
     "end_time": "2022-02-05T16:55:27.385420Z",
     "start_time": "2022-02-05T16:55:27.373918Z"
    }
   },
   "outputs": [
    {
     "name": "stdout",
     "output_type": "stream",
     "text": [
      "generator gen has been out of stock!\n"
     ]
    }
   ],
   "source": [
    "def generator1(file_name):\n",
    "    for row in open(file_name, \"r\"):\n",
    "        yield row\n",
    "\n",
    "gen = generator1(\"grade.csv\")\n",
    "while True:\n",
    "    try: print(next(gen), end='')\n",
    "    except:\n",
    "        print(\"generator gen has been out of stock!\")\n",
    "        break"
   ]
  },
  {
   "cell_type": "code",
   "execution_count": 38,
   "id": "39d11340",
   "metadata": {
    "ExecuteTime": {
     "end_time": "2022-02-05T16:55:48.849266Z",
     "start_time": "2022-02-05T16:55:48.844265Z"
    }
   },
   "outputs": [
    {
     "ename": "FileNotFoundError",
     "evalue": "[Errno 2] No such file or directory: 'grade.csv'",
     "output_type": "error",
     "traceback": [
      "\u001b[1;31m---------------------------------------------------------------------------\u001b[0m",
      "\u001b[1;31mFileNotFoundError\u001b[0m                         Traceback (most recent call last)",
      "\u001b[1;32m~\\AppData\\Local\\Temp/ipykernel_17884/4163810752.py\u001b[0m in \u001b[0;36m<module>\u001b[1;34m\u001b[0m\n\u001b[1;32m----> 1\u001b[1;33m \u001b[0mgen\u001b[0m \u001b[1;33m=\u001b[0m \u001b[1;33m(\u001b[0m\u001b[0mrow\u001b[0m \u001b[1;32mfor\u001b[0m \u001b[0mrow\u001b[0m \u001b[1;32min\u001b[0m \u001b[0mopen\u001b[0m\u001b[1;33m(\u001b[0m\u001b[1;34m\"grade.csv\"\u001b[0m\u001b[1;33m)\u001b[0m\u001b[1;33m)\u001b[0m\u001b[1;33m\u001b[0m\u001b[1;33m\u001b[0m\u001b[0m\n\u001b[0m\u001b[0;32m      2\u001b[0m \u001b[1;32mfor\u001b[0m \u001b[0mrow\u001b[0m \u001b[1;32min\u001b[0m \u001b[0mgen\u001b[0m\u001b[1;33m:\u001b[0m\u001b[1;33m\u001b[0m\u001b[1;33m\u001b[0m\u001b[0m\n\u001b[0;32m      3\u001b[0m     \u001b[0mprint\u001b[0m\u001b[1;33m(\u001b[0m\u001b[0mrow\u001b[0m\u001b[1;33m,\u001b[0m \u001b[0mend\u001b[0m\u001b[1;33m=\u001b[0m\u001b[1;34m''\u001b[0m\u001b[1;33m)\u001b[0m\u001b[1;33m\u001b[0m\u001b[1;33m\u001b[0m\u001b[0m\n",
      "\u001b[1;31mFileNotFoundError\u001b[0m: [Errno 2] No such file or directory: 'grade.csv'"
     ]
    }
   ],
   "source": [
    "gen = (row for row in open(\"grade.csv\"))\n",
    "for row in gen:\n",
    "    print(row, end='')\n"
   ]
  },
  {
   "cell_type": "code",
   "execution_count": null,
   "id": "19843c8d",
   "metadata": {},
   "outputs": [],
   "source": []
  }
 ],
 "metadata": {
  "kernelspec": {
   "display_name": "Python 3 (ipykernel)",
   "language": "python",
   "name": "python3"
  },
  "language_info": {
   "codemirror_mode": {
    "name": "ipython",
    "version": 3
   },
   "file_extension": ".py",
   "mimetype": "text/x-python",
   "name": "python",
   "nbconvert_exporter": "python",
   "pygments_lexer": "ipython3",
   "version": "3.9.7"
  },
  "toc": {
   "base_numbering": 1,
   "nav_menu": {},
   "number_sections": true,
   "sideBar": true,
   "skip_h1_title": false,
   "title_cell": "Table of Contents",
   "title_sidebar": "Contents",
   "toc_cell": false,
   "toc_position": {},
   "toc_section_display": true,
   "toc_window_display": false
  }
 },
 "nbformat": 4,
 "nbformat_minor": 5
}
