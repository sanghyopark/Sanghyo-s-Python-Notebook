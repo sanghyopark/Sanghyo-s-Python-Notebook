{
 "cells": [
  {
   "cell_type": "markdown",
   "id": "58794342",
   "metadata": {},
   "source": [
    "# 5.1 함수(Function)"
   ]
  },
  {
   "cell_type": "code",
   "execution_count": 3,
   "id": "762dffbe",
   "metadata": {
    "ExecuteTime": {
     "end_time": "2022-02-01T03:52:37.634131Z",
     "start_time": "2022-02-01T03:52:37.625236Z"
    }
   },
   "outputs": [],
   "source": [
    "def comp_int(P, i, n):\n",
    "    \"\"\"Compound interest with P=principal(원금),\n",
    "    i=interest rate(이자율), n=number of periods(연수)\"\"\"\n",
    "    I = P*(1+i)**n - P #Compound interest(복리이자)\n",
    "    return I"
   ]
  },
  {
   "cell_type": "code",
   "execution_count": 4,
   "id": "3436a15c",
   "metadata": {
    "ExecuteTime": {
     "end_time": "2022-02-01T03:52:37.971497Z",
     "start_time": "2022-02-01T03:52:37.958861Z"
    }
   },
   "outputs": [
    {
     "name": "stdout",
     "output_type": "stream",
     "text": [
      "Compound interest with P=principal(원금),\n",
      "    i=interest rate(이자율), n=number of periods(연수)\n"
     ]
    }
   ],
   "source": [
    "print(comp_int.__doc__)"
   ]
  },
  {
   "cell_type": "code",
   "execution_count": 5,
   "id": "89f4b901",
   "metadata": {
    "ExecuteTime": {
     "end_time": "2022-02-01T03:52:38.262948Z",
     "start_time": "2022-02-01T03:52:38.247856Z"
    }
   },
   "outputs": [
    {
     "data": {
      "text/plain": [
       "62.889462677744206"
      ]
     },
     "execution_count": 5,
     "metadata": {},
     "output_type": "execute_result"
    }
   ],
   "source": [
    "Int = comp_int(100,0.05,10); Int"
   ]
  },
  {
   "cell_type": "code",
   "execution_count": 6,
   "id": "895d4360",
   "metadata": {
    "ExecuteTime": {
     "end_time": "2022-02-01T03:52:38.538616Z",
     "start_time": "2022-02-01T03:52:38.520629Z"
    }
   },
   "outputs": [
    {
     "data": {
      "text/plain": [
       "62.889462677744206"
      ]
     },
     "execution_count": 6,
     "metadata": {},
     "output_type": "execute_result"
    }
   ],
   "source": [
    "원금 = 100; 이자율 = 0.05; 연수 = 10\n",
    "이자 = comp_int(원금, 이자율, 연수)\n",
    "이자"
   ]
  },
  {
   "cell_type": "code",
   "execution_count": 8,
   "id": "49759f98",
   "metadata": {
    "ExecuteTime": {
     "end_time": "2022-02-01T03:52:53.665367Z",
     "start_time": "2022-02-01T03:52:53.653698Z"
    }
   },
   "outputs": [
    {
     "data": {
      "text/plain": [
       "62.889462677744206"
      ]
     },
     "execution_count": 8,
     "metadata": {},
     "output_type": "execute_result"
    }
   ],
   "source": [
    "Interest = comp_int(i=0.05,P=100,n=10); Interest\n",
    "#순서와 상관없이 함수 안에서 정의된 입력변수명과 일치시킬 수 있음"
   ]
  },
  {
   "cell_type": "code",
   "execution_count": 9,
   "id": "990d8d5d",
   "metadata": {
    "ExecuteTime": {
     "end_time": "2022-02-01T03:53:52.431094Z",
     "start_time": "2022-02-01T03:53:52.414819Z"
    }
   },
   "outputs": [
    {
     "name": "stdout",
     "output_type": "stream",
     "text": [
      "이자 = 62.9\n"
     ]
    }
   ],
   "source": [
    "def comp_int(P,i,n):\n",
    "    I = P*(1+i)**n - P\n",
    "    return I\n",
    "\n",
    "Int = comp_int(100,0.05,10)\n",
    "print(f\"이자 = {Int:4.1f}\")"
   ]
  },
  {
   "cell_type": "markdown",
   "id": "45966841",
   "metadata": {},
   "source": [
    "# 5.2 변수의 유효 범위(Scope)"
   ]
  },
  {
   "cell_type": "code",
   "execution_count": 1,
   "id": "0e536c5c",
   "metadata": {
    "ExecuteTime": {
     "end_time": "2022-02-05T11:46:39.625213Z",
     "start_time": "2022-02-05T11:46:39.620712Z"
    }
   },
   "outputs": [],
   "source": [
    "def func_a():\n",
    "    print(f'a = {a} inside func_a().')\n",
    "def func_b():\n",
    "    b = 20\n",
    "    print(f'b = {b} inside func_b().')\n",
    "def func_c():\n",
    "    func_b()\n",
    "    print(f'b = {b} inside func_c().')\n",
    "def func_d():\n",
    "    global a\n",
    "    a = 30\n",
    "def func_e():\n",
    "    c = c + 1"
   ]
  },
  {
   "cell_type": "code",
   "execution_count": 7,
   "id": "701b2c80",
   "metadata": {
    "ExecuteTime": {
     "end_time": "2022-02-05T11:57:05.519944Z",
     "start_time": "2022-02-05T11:57:05.509443Z"
    }
   },
   "outputs": [
    {
     "name": "stdout",
     "output_type": "stream",
     "text": [
      "a = 1 inside func_a().\n"
     ]
    }
   ],
   "source": [
    "[a,b,c]=[1,2,4]\n",
    "func_a()\n",
    "#func_a() 함수 안에서는 정의되지 않은 변수 a의 값이 print되며, 이는 함수바깥에서 정의되었던 a값이\n",
    "#함수 안에서도 적용된다는 것을 뜻한다."
   ]
  },
  {
   "cell_type": "code",
   "execution_count": 8,
   "id": "d3403894",
   "metadata": {
    "ExecuteTime": {
     "end_time": "2022-02-05T11:57:13.783486Z",
     "start_time": "2022-02-05T11:57:13.768543Z"
    }
   },
   "outputs": [
    {
     "name": "stdout",
     "output_type": "stream",
     "text": [
      "b = 20 inside func_b().\n",
      "b = 2 outside func_b().\n"
     ]
    }
   ],
   "source": [
    "func_b()\n",
    "print(f'b = {b} outside func_b().')\n",
    "#func_b() 함수 안에서 정의된 변수 b의 값이 print된다. 그러나 명령창에서 b의 값을 찍어보면\n",
    "#함수 바깥에서 정의된 변수값이 출력된다. 즉 바깥에서 정의된 변수의 값을 함수 안에서 바꾸려고 해도\n",
    "#바꿔지지 않는다"
   ]
  },
  {
   "cell_type": "code",
   "execution_count": 9,
   "id": "bfdaa013",
   "metadata": {
    "ExecuteTime": {
     "end_time": "2022-02-05T11:57:19.089719Z",
     "start_time": "2022-02-05T11:57:19.082719Z"
    }
   },
   "outputs": [
    {
     "name": "stdout",
     "output_type": "stream",
     "text": [
      "b = 20 inside func_b().\n",
      "b = 2 inside func_c().\n"
     ]
    }
   ],
   "source": [
    "func_c()\n",
    "#먼저 func_b()함수가 실행되어 b값이 20으로 바뀌는 것 같아도, 그 함수 바깥에서는 원래 값 2를\n",
    "#그대로 갖고 있는 것을 볼 수 있다."
   ]
  },
  {
   "cell_type": "code",
   "execution_count": 10,
   "id": "bf07884b",
   "metadata": {
    "ExecuteTime": {
     "end_time": "2022-02-05T11:59:01.628915Z",
     "start_time": "2022-02-05T11:59:01.620913Z"
    }
   },
   "outputs": [
    {
     "name": "stdout",
     "output_type": "stream",
     "text": [
      "a =  30\n"
     ]
    }
   ],
   "source": [
    "func_d()\n",
    "print('a = ',a)\n",
    "#func_d()함수 안에서 a를 전역 변수로 선언하고 그 값을 30으로 할당했으므로 a의 원래값은\n",
    "#덮어쓰기가 되는 것을 볼 수 있다."
   ]
  },
  {
   "cell_type": "code",
   "execution_count": 11,
   "id": "144d5688",
   "metadata": {
    "ExecuteTime": {
     "end_time": "2022-02-05T11:59:13.341188Z",
     "start_time": "2022-02-05T11:59:13.209665Z"
    }
   },
   "outputs": [
    {
     "ename": "UnboundLocalError",
     "evalue": "local variable 'c' referenced before assignment",
     "output_type": "error",
     "traceback": [
      "\u001b[1;31m---------------------------------------------------------------------------\u001b[0m",
      "\u001b[1;31mUnboundLocalError\u001b[0m                         Traceback (most recent call last)",
      "\u001b[1;32m~\\AppData\\Local\\Temp/ipykernel_14088/2088737068.py\u001b[0m in \u001b[0;36m<module>\u001b[1;34m\u001b[0m\n\u001b[1;32m----> 1\u001b[1;33m \u001b[0mfunc_e\u001b[0m\u001b[1;33m(\u001b[0m\u001b[1;33m)\u001b[0m\u001b[1;33m\u001b[0m\u001b[1;33m\u001b[0m\u001b[0m\n\u001b[0m",
      "\u001b[1;32m~\\AppData\\Local\\Temp/ipykernel_14088/2647444232.py\u001b[0m in \u001b[0;36mfunc_e\u001b[1;34m()\u001b[0m\n\u001b[0;32m     11\u001b[0m     \u001b[0ma\u001b[0m \u001b[1;33m=\u001b[0m \u001b[1;36m30\u001b[0m\u001b[1;33m\u001b[0m\u001b[1;33m\u001b[0m\u001b[0m\n\u001b[0;32m     12\u001b[0m \u001b[1;32mdef\u001b[0m \u001b[0mfunc_e\u001b[0m\u001b[1;33m(\u001b[0m\u001b[1;33m)\u001b[0m\u001b[1;33m:\u001b[0m\u001b[1;33m\u001b[0m\u001b[1;33m\u001b[0m\u001b[0m\n\u001b[1;32m---> 13\u001b[1;33m     \u001b[0mc\u001b[0m \u001b[1;33m=\u001b[0m \u001b[0mc\u001b[0m \u001b[1;33m+\u001b[0m \u001b[1;36m1\u001b[0m\u001b[1;33m\u001b[0m\u001b[1;33m\u001b[0m\u001b[0m\n\u001b[0m",
      "\u001b[1;31mUnboundLocalError\u001b[0m: local variable 'c' referenced before assignment"
     ]
    }
   ],
   "source": [
    "func_e()\n",
    "#함수 안에 c를 할당연산자 =로 정의하므로 c는 이 함수 내부의 지역변수로 간주되고 따라서 c값이 정의되지\n",
    "#않아 인용할 수 없다."
   ]
  },
  {
   "cell_type": "markdown",
   "id": "d171741a",
   "metadata": {},
   "source": [
    "# 5.3 함수의 유효 범위(Scope)"
   ]
  },
  {
   "cell_type": "code",
   "execution_count": 12,
   "id": "16735b61",
   "metadata": {
    "ExecuteTime": {
     "end_time": "2022-02-05T12:04:10.910310Z",
     "start_time": "2022-02-05T12:04:10.896808Z"
    }
   },
   "outputs": [],
   "source": [
    "import my_module as mmd"
   ]
  },
  {
   "cell_type": "code",
   "execution_count": 15,
   "id": "1d46b736",
   "metadata": {
    "ExecuteTime": {
     "end_time": "2022-02-05T12:04:49.754273Z",
     "start_time": "2022-02-05T12:04:49.746271Z"
    }
   },
   "outputs": [
    {
     "data": {
      "text/plain": [
       "628.894626777442"
      ]
     },
     "execution_count": 15,
     "metadata": {},
     "output_type": "execute_result"
    }
   ],
   "source": [
    "Int = mmd.comp_int(mmd.My_principal, 0.05, 10); Int\n",
    "#이와 같이 모듈에 저장된 함수뿐만 아니라 전역 변수 또한 불러올 수 있다."
   ]
  }
 ],
 "metadata": {
  "kernelspec": {
   "display_name": "Python 3 (ipykernel)",
   "language": "python",
   "name": "python3"
  },
  "language_info": {
   "codemirror_mode": {
    "name": "ipython",
    "version": 3
   },
   "file_extension": ".py",
   "mimetype": "text/x-python",
   "name": "python",
   "nbconvert_exporter": "python",
   "pygments_lexer": "ipython3",
   "version": "3.9.7"
  },
  "toc": {
   "base_numbering": 1,
   "nav_menu": {},
   "number_sections": true,
   "sideBar": true,
   "skip_h1_title": false,
   "title_cell": "Table of Contents",
   "title_sidebar": "Contents",
   "toc_cell": false,
   "toc_position": {},
   "toc_section_display": true,
   "toc_window_display": false
  }
 },
 "nbformat": 4,
 "nbformat_minor": 5
}
