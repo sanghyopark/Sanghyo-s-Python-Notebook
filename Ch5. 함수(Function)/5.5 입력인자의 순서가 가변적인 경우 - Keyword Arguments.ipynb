{
 "cells": [
  {
   "cell_type": "markdown",
   "id": "e7fdd83a",
   "metadata": {},
   "source": [
    "# 5.5 입력인자의 순서가 가변적인 경우 - Keyword Arguments"
   ]
  },
  {
   "cell_type": "code",
   "execution_count": 2,
   "id": "4fd5efa1",
   "metadata": {
    "ExecuteTime": {
     "end_time": "2022-02-05T12:30:57.512006Z",
     "start_time": "2022-02-05T12:30:57.498004Z"
    }
   },
   "outputs": [],
   "source": [
    "def comp_int3(**kwargs):\n",
    "    if len(kwargs)<1: return\n",
    "    P = kwargs['P']; i = kwargs['i']; n = kwargs['n']\n",
    "    I = P*(1+i)**n-P\n",
    "    print(f'Interest with {kwargs} = {I:6.1f}')\n",
    "    return I\n",
    "#입력인자의 순서에 상관없이 입력인자들의 값이 개별적으로 함수에 전달되게 하는 방법으로는 입력변수 앞에\n",
    "#** 를 붙여 keyword arguments를 사용하는 것이다\n",
    "#이런 형식으로 함수 안에 들어가는 data는 dictionary형태로 변형된다."
   ]
  },
  {
   "cell_type": "code",
   "execution_count": 10,
   "id": "b3bbb1d2",
   "metadata": {
    "ExecuteTime": {
     "end_time": "2022-02-05T12:35:25.370397Z",
     "start_time": "2022-02-05T12:35:25.356395Z"
    }
   },
   "outputs": [
    {
     "name": "stdout",
     "output_type": "stream",
     "text": [
      "Interest with {'i': 0.05, 'P': 100, 'n': 10} =   62.9\n"
     ]
    },
    {
     "data": {
      "text/plain": [
       "62.889462677744206"
      ]
     },
     "execution_count": 10,
     "metadata": {},
     "output_type": "execute_result"
    }
   ],
   "source": [
    "comp_int3(i = 0.05, P = 100, n = 10)\n",
    "#함수안의 print와 함수값 출력이 동시에 이루어진다."
   ]
  }
 ],
 "metadata": {
  "kernelspec": {
   "display_name": "Python 3 (ipykernel)",
   "language": "python",
   "name": "python3"
  },
  "language_info": {
   "codemirror_mode": {
    "name": "ipython",
    "version": 3
   },
   "file_extension": ".py",
   "mimetype": "text/x-python",
   "name": "python",
   "nbconvert_exporter": "python",
   "pygments_lexer": "ipython3",
   "version": "3.9.7"
  },
  "toc": {
   "base_numbering": 1,
   "nav_menu": {},
   "number_sections": true,
   "sideBar": true,
   "skip_h1_title": false,
   "title_cell": "Table of Contents",
   "title_sidebar": "Contents",
   "toc_cell": false,
   "toc_position": {},
   "toc_section_display": true,
   "toc_window_display": false
  }
 },
 "nbformat": 4,
 "nbformat_minor": 5
}
