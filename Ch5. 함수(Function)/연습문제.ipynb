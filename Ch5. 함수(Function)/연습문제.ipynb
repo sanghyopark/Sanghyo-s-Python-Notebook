{
 "cells": [
  {
   "cell_type": "code",
   "execution_count": 26,
   "id": "5fe2e805",
   "metadata": {
    "ExecuteTime": {
     "end_time": "2022-02-06T08:58:33.234003Z",
     "start_time": "2022-02-06T08:58:33.228003Z"
    }
   },
   "outputs": [],
   "source": [
    "from IPython.core.interactiveshell import InteractiveShell\n",
    "InteractiveShell.ast_node_interactivity = \"all\""
   ]
  },
  {
   "cell_type": "markdown",
   "id": "a5c287ab",
   "metadata": {},
   "source": [
    "# 5.1 함수(Function)"
   ]
  },
  {
   "cell_type": "code",
   "execution_count": 1,
   "id": "ff0df5b7",
   "metadata": {
    "ExecuteTime": {
     "end_time": "2022-02-05T17:19:10.929887Z",
     "start_time": "2022-02-05T17:19:10.927386Z"
    }
   },
   "outputs": [],
   "source": [
    "#(a)\n",
    "def sub(a, b=2):\n",
    "    x = a - b\n",
    "    return x"
   ]
  },
  {
   "cell_type": "code",
   "execution_count": 2,
   "id": "145daaf3",
   "metadata": {
    "ExecuteTime": {
     "end_time": "2022-02-05T17:19:24.248542Z",
     "start_time": "2022-02-05T17:19:24.230039Z"
    }
   },
   "outputs": [
    {
     "data": {
      "text/plain": [
       "-1"
      ]
     },
     "execution_count": 2,
     "metadata": {},
     "output_type": "execute_result"
    }
   ],
   "source": [
    "#(a1)\n",
    "sub(2,3)"
   ]
  },
  {
   "cell_type": "code",
   "execution_count": 3,
   "id": "b03a2aa3",
   "metadata": {
    "ExecuteTime": {
     "end_time": "2022-02-05T17:19:36.390830Z",
     "start_time": "2022-02-05T17:19:36.385829Z"
    }
   },
   "outputs": [
    {
     "data": {
      "text/plain": [
       "2"
      ]
     },
     "execution_count": 3,
     "metadata": {},
     "output_type": "execute_result"
    }
   ],
   "source": [
    "#(a2)\n",
    "sub(b=3, a=5)"
   ]
  },
  {
   "cell_type": "code",
   "execution_count": 4,
   "id": "80efe9dd",
   "metadata": {
    "ExecuteTime": {
     "end_time": "2022-02-05T17:19:49.197269Z",
     "start_time": "2022-02-05T17:19:49.189768Z"
    }
   },
   "outputs": [
    {
     "data": {
      "text/plain": [
       "1"
      ]
     },
     "execution_count": 4,
     "metadata": {},
     "output_type": "execute_result"
    }
   ],
   "source": [
    "#(a3)\n",
    "sub(3)"
   ]
  },
  {
   "cell_type": "code",
   "execution_count": 5,
   "id": "5a3a1ce6",
   "metadata": {
    "ExecuteTime": {
     "end_time": "2022-02-05T17:20:32.393268Z",
     "start_time": "2022-02-05T17:20:32.389767Z"
    }
   },
   "outputs": [],
   "source": [
    "#(b)\n",
    "def mul(a=1):\n",
    "    if type(a) != list: y=a\n",
    "    else:\n",
    "        y = 1\n",
    "        for x in a:\n",
    "            y = y*x\n",
    "    return y"
   ]
  },
  {
   "cell_type": "code",
   "execution_count": 6,
   "id": "ae592758",
   "metadata": {
    "ExecuteTime": {
     "end_time": "2022-02-05T17:21:25.805802Z",
     "start_time": "2022-02-05T17:21:25.793300Z"
    }
   },
   "outputs": [
    {
     "data": {
      "text/plain": [
       "30"
      ]
     },
     "execution_count": 6,
     "metadata": {},
     "output_type": "execute_result"
    }
   ],
   "source": [
    "#(b1)\n",
    "mul([2,3,5])"
   ]
  },
  {
   "cell_type": "code",
   "execution_count": 7,
   "id": "a3ebbb46",
   "metadata": {
    "ExecuteTime": {
     "end_time": "2022-02-05T17:21:31.373733Z",
     "start_time": "2022-02-05T17:21:31.368232Z"
    }
   },
   "outputs": [
    {
     "data": {
      "text/plain": [
       "1"
      ]
     },
     "execution_count": 7,
     "metadata": {},
     "output_type": "execute_result"
    }
   ],
   "source": [
    "#(b2)\n",
    "mul()"
   ]
  },
  {
   "cell_type": "code",
   "execution_count": 8,
   "id": "0dfa4abb",
   "metadata": {
    "ExecuteTime": {
     "end_time": "2022-02-05T17:22:35.050567Z",
     "start_time": "2022-02-05T17:22:35.034565Z"
    }
   },
   "outputs": [],
   "source": [
    "#(c)\n",
    "def avg(*t):\n",
    "    if type(t) != tuple: y = t\n",
    "    else:\n",
    "        y = sum(t)/len(t)\n",
    "    return y"
   ]
  },
  {
   "cell_type": "code",
   "execution_count": 9,
   "id": "43fd47b5",
   "metadata": {
    "ExecuteTime": {
     "end_time": "2022-02-05T17:22:48.677870Z",
     "start_time": "2022-02-05T17:22:48.669867Z"
    }
   },
   "outputs": [
    {
     "data": {
      "text/plain": [
       "3.0"
      ]
     },
     "execution_count": 9,
     "metadata": {},
     "output_type": "execute_result"
    }
   ],
   "source": [
    "#(c1)\n",
    "avg(1,3,5)"
   ]
  },
  {
   "cell_type": "code",
   "execution_count": 10,
   "id": "5d5944a3",
   "metadata": {
    "ExecuteTime": {
     "end_time": "2022-02-05T17:22:56.657281Z",
     "start_time": "2022-02-05T17:22:56.651780Z"
    }
   },
   "outputs": [
    {
     "data": {
      "text/plain": [
       "2.0"
      ]
     },
     "execution_count": 10,
     "metadata": {},
     "output_type": "execute_result"
    }
   ],
   "source": [
    "#(c2)\n",
    "avg(2)"
   ]
  },
  {
   "cell_type": "code",
   "execution_count": 11,
   "id": "ccf2a73f",
   "metadata": {
    "ExecuteTime": {
     "end_time": "2022-02-05T17:24:07.072182Z",
     "start_time": "2022-02-05T17:24:07.063181Z"
    }
   },
   "outputs": [],
   "source": [
    "#(d)\n",
    "def div(**d):\n",
    "    if type(d) != dict:\n",
    "        y = None\n",
    "    else:\n",
    "        a = d['a']; b = d['b']\n",
    "        y = a/b\n",
    "    return y"
   ]
  },
  {
   "cell_type": "code",
   "execution_count": 12,
   "id": "5c2e8ace",
   "metadata": {
    "ExecuteTime": {
     "end_time": "2022-02-05T17:24:17.545663Z",
     "start_time": "2022-02-05T17:24:17.531661Z"
    }
   },
   "outputs": [
    {
     "data": {
      "text/plain": [
       "0.4"
      ]
     },
     "execution_count": 12,
     "metadata": {},
     "output_type": "execute_result"
    }
   ],
   "source": [
    "#(d1)\n",
    "div(a=2, b=5)"
   ]
  },
  {
   "cell_type": "code",
   "execution_count": 13,
   "id": "0efa1dba",
   "metadata": {
    "ExecuteTime": {
     "end_time": "2022-02-05T17:24:25.018757Z",
     "start_time": "2022-02-05T17:24:25.012255Z"
    }
   },
   "outputs": [
    {
     "data": {
      "text/plain": [
       "2.5"
      ]
     },
     "execution_count": 13,
     "metadata": {},
     "output_type": "execute_result"
    }
   ],
   "source": [
    "#(d2)\n",
    "div(b=2, a=5)"
   ]
  },
  {
   "cell_type": "code",
   "execution_count": 14,
   "id": "48077229",
   "metadata": {
    "ExecuteTime": {
     "end_time": "2022-02-05T17:24:33.063904Z",
     "start_time": "2022-02-05T17:24:32.939382Z"
    }
   },
   "outputs": [
    {
     "ename": "KeyError",
     "evalue": "'b'",
     "output_type": "error",
     "traceback": [
      "\u001b[1;31m---------------------------------------------------------------------------\u001b[0m",
      "\u001b[1;31mKeyError\u001b[0m                                  Traceback (most recent call last)",
      "\u001b[1;32m~\\AppData\\Local\\Temp/ipykernel_4300/3338927488.py\u001b[0m in \u001b[0;36m<module>\u001b[1;34m\u001b[0m\n\u001b[0;32m      1\u001b[0m \u001b[1;31m#(d3)\u001b[0m\u001b[1;33m\u001b[0m\u001b[1;33m\u001b[0m\u001b[0m\n\u001b[1;32m----> 2\u001b[1;33m \u001b[0mdiv\u001b[0m\u001b[1;33m(\u001b[0m\u001b[0ma\u001b[0m\u001b[1;33m=\u001b[0m\u001b[1;36m2\u001b[0m\u001b[1;33m,\u001b[0m\u001b[0mc\u001b[0m\u001b[1;33m=\u001b[0m\u001b[1;36m5\u001b[0m\u001b[1;33m)\u001b[0m\u001b[1;33m\u001b[0m\u001b[1;33m\u001b[0m\u001b[0m\n\u001b[0m",
      "\u001b[1;32m~\\AppData\\Local\\Temp/ipykernel_4300/2909382942.py\u001b[0m in \u001b[0;36mdiv\u001b[1;34m(**d)\u001b[0m\n\u001b[0;32m      4\u001b[0m         \u001b[0my\u001b[0m \u001b[1;33m=\u001b[0m \u001b[1;32mNone\u001b[0m\u001b[1;33m\u001b[0m\u001b[1;33m\u001b[0m\u001b[0m\n\u001b[0;32m      5\u001b[0m     \u001b[1;32melse\u001b[0m\u001b[1;33m:\u001b[0m\u001b[1;33m\u001b[0m\u001b[1;33m\u001b[0m\u001b[0m\n\u001b[1;32m----> 6\u001b[1;33m         \u001b[0ma\u001b[0m \u001b[1;33m=\u001b[0m \u001b[0md\u001b[0m\u001b[1;33m[\u001b[0m\u001b[1;34m'a'\u001b[0m\u001b[1;33m]\u001b[0m\u001b[1;33m;\u001b[0m \u001b[0mb\u001b[0m \u001b[1;33m=\u001b[0m \u001b[0md\u001b[0m\u001b[1;33m[\u001b[0m\u001b[1;34m'b'\u001b[0m\u001b[1;33m]\u001b[0m\u001b[1;33m\u001b[0m\u001b[1;33m\u001b[0m\u001b[0m\n\u001b[0m\u001b[0;32m      7\u001b[0m         \u001b[0my\u001b[0m \u001b[1;33m=\u001b[0m \u001b[0ma\u001b[0m\u001b[1;33m/\u001b[0m\u001b[0mb\u001b[0m\u001b[1;33m\u001b[0m\u001b[1;33m\u001b[0m\u001b[0m\n\u001b[0;32m      8\u001b[0m     \u001b[1;32mreturn\u001b[0m \u001b[0my\u001b[0m\u001b[1;33m\u001b[0m\u001b[1;33m\u001b[0m\u001b[0m\n",
      "\u001b[1;31mKeyError\u001b[0m: 'b'"
     ]
    }
   ],
   "source": [
    "#(d3)\n",
    "div(a=2,c=5)"
   ]
  },
  {
   "cell_type": "code",
   "execution_count": 15,
   "id": "e0943a69",
   "metadata": {
    "ExecuteTime": {
     "end_time": "2022-02-05T17:25:12.381119Z",
     "start_time": "2022-02-05T17:25:12.364616Z"
    }
   },
   "outputs": [],
   "source": [
    "#(e)\n",
    "def sum_upto(k):\n",
    "    if k <= 0:\n",
    "        return 0\n",
    "    else:\n",
    "        return k + sum_upto(k-1)"
   ]
  },
  {
   "cell_type": "code",
   "execution_count": 16,
   "id": "52af1a75",
   "metadata": {
    "ExecuteTime": {
     "end_time": "2022-02-05T17:25:50.414615Z",
     "start_time": "2022-02-05T17:25:50.407614Z"
    }
   },
   "outputs": [
    {
     "data": {
      "text/plain": [
       "15"
      ]
     },
     "execution_count": 16,
     "metadata": {},
     "output_type": "execute_result"
    }
   ],
   "source": [
    "#(e1)\n",
    "sum_upto(5)"
   ]
  },
  {
   "cell_type": "code",
   "execution_count": 17,
   "id": "7d7f43b5",
   "metadata": {
    "ExecuteTime": {
     "end_time": "2022-02-05T17:26:04.363726Z",
     "start_time": "2022-02-05T17:26:04.350724Z"
    }
   },
   "outputs": [
    {
     "data": {
      "text/plain": [
       "0"
      ]
     },
     "execution_count": 17,
     "metadata": {},
     "output_type": "execute_result"
    }
   ],
   "source": [
    "#(e2)\n",
    "sum_upto(-1)"
   ]
  },
  {
   "cell_type": "code",
   "execution_count": 19,
   "id": "25889249",
   "metadata": {
    "ExecuteTime": {
     "end_time": "2022-02-05T17:26:54.754690Z",
     "start_time": "2022-02-05T17:26:54.750190Z"
    }
   },
   "outputs": [],
   "source": [
    "#(f)\n",
    "def fb(n):\n",
    "    if n==0: x = 0\n",
    "    elif n==1: x = 1\n",
    "    else:\n",
    "        x = fb(n-1) + fb(n-2)\n",
    "    return x"
   ]
  },
  {
   "cell_type": "code",
   "execution_count": 27,
   "id": "79851618",
   "metadata": {
    "ExecuteTime": {
     "end_time": "2022-02-05T17:29:20.139801Z",
     "start_time": "2022-02-05T17:28:52.850019Z"
    }
   },
   "outputs": [
    {
     "data": {
      "text/plain": [
       "102334155"
      ]
     },
     "execution_count": 27,
     "metadata": {},
     "output_type": "execute_result"
    }
   ],
   "source": [
    "#(f1)\n",
    "fb(40)"
   ]
  },
  {
   "cell_type": "code",
   "execution_count": 21,
   "id": "335b0095",
   "metadata": {
    "ExecuteTime": {
     "end_time": "2022-02-05T17:27:18.450074Z",
     "start_time": "2022-02-05T17:27:18.439572Z"
    }
   },
   "outputs": [
    {
     "data": {
      "text/plain": [
       "8"
      ]
     },
     "execution_count": 21,
     "metadata": {},
     "output_type": "execute_result"
    }
   ],
   "source": [
    "#(f2)\n",
    "fb(5)+fb(4)"
   ]
  },
  {
   "cell_type": "markdown",
   "id": "c73e3d5b",
   "metadata": {},
   "source": [
    "# 5.2 Positional Argument와 Keyword Argument"
   ]
  },
  {
   "cell_type": "code",
   "execution_count": 32,
   "id": "1c57380c",
   "metadata": {
    "ExecuteTime": {
     "end_time": "2022-02-05T17:33:13.479989Z",
     "start_time": "2022-02-05T17:33:13.470987Z"
    }
   },
   "outputs": [
    {
     "name": "stdout",
     "output_type": "stream",
     "text": [
      "Gil D. 홍의 취미는 낚시입니다.\n"
     ]
    }
   ],
   "source": [
    "#(a)\n",
    "def introduce(hobby, **names):\n",
    "    name = names['first_name'] + ' '\n",
    "    if len(names)>2: name += names['middle_name'] + ' '\n",
    "    name += names['last_name']\n",
    "    print(f\"{name}의 취미는 {hobby}입니다.\")\n",
    "    \n",
    "introduce('낚시', last_name='홍', first_name='Gil', middle_name='D.')"
   ]
  },
  {
   "cell_type": "code",
   "execution_count": 38,
   "id": "5c386642",
   "metadata": {
    "ExecuteTime": {
     "end_time": "2022-02-05T17:34:47.417513Z",
     "start_time": "2022-02-05T17:34:47.399885Z"
    }
   },
   "outputs": [
    {
     "name": "stdout",
     "output_type": "stream",
     "text": [
      "Gil 홍의 취미는 낚시입니다.\n"
     ]
    }
   ],
   "source": [
    "#(b)\n",
    "def introduce(hobby, **names):\n",
    "    name = names['first_name'] + ' '\n",
    "#    if len(names)>2: name += names['middle_name'] + ' '\n",
    "    name += names['last_name']\n",
    "    print(f\"{name}의 취미는 {hobby}입니다.\")\n",
    "    \n",
    "introduce('낚시', last_name='홍', first_name='Gil', middle_name='')"
   ]
  },
  {
   "cell_type": "markdown",
   "id": "be9496c0",
   "metadata": {},
   "source": [
    "# 5.3 입력인자의 Default 값"
   ]
  },
  {
   "cell_type": "code",
   "execution_count": 39,
   "id": "b5611ace",
   "metadata": {
    "ExecuteTime": {
     "end_time": "2022-02-05T17:37:31.302311Z",
     "start_time": "2022-02-05T17:37:31.286309Z"
    }
   },
   "outputs": [],
   "source": [
    "#(a)\n",
    "def append_lista(item, L=[]):\n",
    "    L.append(item)\n",
    "    return L"
   ]
  },
  {
   "cell_type": "code",
   "execution_count": 40,
   "id": "ea207f1a",
   "metadata": {
    "ExecuteTime": {
     "end_time": "2022-02-05T17:37:43.934953Z",
     "start_time": "2022-02-05T17:37:43.926952Z"
    }
   },
   "outputs": [
    {
     "name": "stdout",
     "output_type": "stream",
     "text": [
      "['A']\n"
     ]
    }
   ],
   "source": [
    "L1 = append_lista('A'); print(L1)"
   ]
  },
  {
   "cell_type": "code",
   "execution_count": 41,
   "id": "548ca8c3",
   "metadata": {
    "ExecuteTime": {
     "end_time": "2022-02-05T17:37:55.862886Z",
     "start_time": "2022-02-05T17:37:55.858885Z"
    }
   },
   "outputs": [
    {
     "name": "stdout",
     "output_type": "stream",
     "text": [
      "['A', 'B']\n"
     ]
    }
   ],
   "source": [
    "L2 = append_lista('B'); print(L2)"
   ]
  },
  {
   "cell_type": "code",
   "execution_count": 42,
   "id": "4999debf",
   "metadata": {
    "ExecuteTime": {
     "end_time": "2022-02-05T17:38:38.999244Z",
     "start_time": "2022-02-05T17:38:38.994243Z"
    }
   },
   "outputs": [
    {
     "name": "stdout",
     "output_type": "stream",
     "text": [
      "['A', 'B', 'C']\n"
     ]
    }
   ],
   "source": [
    "L3 = append_lista('C',L1); print(L3)"
   ]
  },
  {
   "cell_type": "code",
   "execution_count": 43,
   "id": "2515117f",
   "metadata": {
    "ExecuteTime": {
     "end_time": "2022-02-05T17:38:46.751038Z",
     "start_time": "2022-02-05T17:38:46.737035Z"
    }
   },
   "outputs": [
    {
     "name": "stdout",
     "output_type": "stream",
     "text": [
      "['A', 'B', 'C']\n"
     ]
    }
   ],
   "source": [
    "print(L1)"
   ]
  },
  {
   "cell_type": "code",
   "execution_count": 44,
   "id": "bc890bd7",
   "metadata": {
    "ExecuteTime": {
     "end_time": "2022-02-05T17:39:00.839241Z",
     "start_time": "2022-02-05T17:39:00.827240Z"
    }
   },
   "outputs": [
    {
     "data": {
      "text/plain": [
       "(2430344870528, 2430344870528, 2430344870528)"
      ]
     },
     "execution_count": 44,
     "metadata": {},
     "output_type": "execute_result"
    }
   ],
   "source": [
    "id(L1), id(L2), id(L3)"
   ]
  },
  {
   "cell_type": "code",
   "execution_count": 45,
   "id": "f38cd9e5",
   "metadata": {
    "ExecuteTime": {
     "end_time": "2022-02-05T17:40:10.609686Z",
     "start_time": "2022-02-05T17:40:10.604185Z"
    }
   },
   "outputs": [],
   "source": [
    "#(b)\n",
    "def append_listb(item, L=None):\n",
    "    if L is None: L=[]\n",
    "    L.append(item)\n",
    "    return L"
   ]
  },
  {
   "cell_type": "code",
   "execution_count": 46,
   "id": "d41afb5c",
   "metadata": {
    "ExecuteTime": {
     "end_time": "2022-02-05T17:40:25.822160Z",
     "start_time": "2022-02-05T17:40:25.819660Z"
    }
   },
   "outputs": [
    {
     "name": "stdout",
     "output_type": "stream",
     "text": [
      "['A']\n"
     ]
    }
   ],
   "source": [
    "L1 = append_listb('A'); print(L1)"
   ]
  },
  {
   "cell_type": "code",
   "execution_count": 47,
   "id": "a1437d51",
   "metadata": {
    "ExecuteTime": {
     "end_time": "2022-02-05T17:42:30.176485Z",
     "start_time": "2022-02-05T17:42:30.168984Z"
    }
   },
   "outputs": [
    {
     "name": "stdout",
     "output_type": "stream",
     "text": [
      "['B']\n"
     ]
    }
   ],
   "source": [
    "L2 = append_listb('B'); print(L2)"
   ]
  },
  {
   "cell_type": "code",
   "execution_count": 48,
   "id": "141fe1fd",
   "metadata": {
    "ExecuteTime": {
     "end_time": "2022-02-05T17:42:55.306944Z",
     "start_time": "2022-02-05T17:42:55.299443Z"
    }
   },
   "outputs": [],
   "source": [
    "#(c)\n",
    "def append_listc(item,L=[]):\n",
    "    L = L + [item]\n",
    "    return L"
   ]
  },
  {
   "cell_type": "code",
   "execution_count": 49,
   "id": "5b69f907",
   "metadata": {
    "ExecuteTime": {
     "end_time": "2022-02-05T17:43:13.919948Z",
     "start_time": "2022-02-05T17:43:13.917449Z"
    }
   },
   "outputs": [
    {
     "name": "stdout",
     "output_type": "stream",
     "text": [
      "['A']\n"
     ]
    }
   ],
   "source": [
    "L1 = append_listc('A'); print(L1)"
   ]
  },
  {
   "cell_type": "code",
   "execution_count": 50,
   "id": "cd4b9f4d",
   "metadata": {
    "ExecuteTime": {
     "end_time": "2022-02-05T17:43:23.655065Z",
     "start_time": "2022-02-05T17:43:23.652565Z"
    }
   },
   "outputs": [
    {
     "name": "stdout",
     "output_type": "stream",
     "text": [
      "['B']\n"
     ]
    }
   ],
   "source": [
    "L2 = append_listc('B'); print(L2)"
   ]
  },
  {
   "cell_type": "markdown",
   "id": "5beaa50b",
   "metadata": {},
   "source": [
    "# 5.4 함수의 return문에서 출력인자에 따라붙은 Trailing Comma"
   ]
  },
  {
   "cell_type": "code",
   "execution_count": 51,
   "id": "86579dfd",
   "metadata": {
    "ExecuteTime": {
     "end_time": "2022-02-05T18:46:00.212132Z",
     "start_time": "2022-02-05T18:46:00.203131Z"
    }
   },
   "outputs": [
    {
     "name": "stdout",
     "output_type": "stream",
     "text": [
      "Output without , = [1, 2, 4]\n",
      "Output with , = ([1, 2, 4],)\n"
     ]
    }
   ],
   "source": [
    "def no_trailing_comma(x):\n",
    "    return x + [4]\n",
    "def trailing_comma(x):\n",
    "    return x + [4],\n",
    "data = [1,2]\n",
    "print(\"Output without , =\", no_trailing_comma(data))\n",
    "print(\"Output with , =\", trailing_comma(data))"
   ]
  },
  {
   "cell_type": "markdown",
   "id": "7ebd3900",
   "metadata": {},
   "source": [
    "# 5.5 Global(전역) 변수와 함수 안 Local(지역) 변수"
   ]
  },
  {
   "cell_type": "code",
   "execution_count": 54,
   "id": "ec267c6e",
   "metadata": {
    "ExecuteTime": {
     "end_time": "2022-02-05T18:47:19.809155Z",
     "start_time": "2022-02-05T18:47:19.805154Z"
    }
   },
   "outputs": [],
   "source": [
    "#(a)\n",
    "def incrementa(): print(x)"
   ]
  },
  {
   "cell_type": "code",
   "execution_count": 55,
   "id": "4b80f8b4",
   "metadata": {
    "ExecuteTime": {
     "end_time": "2022-02-05T18:47:25.306884Z",
     "start_time": "2022-02-05T18:47:25.301883Z"
    }
   },
   "outputs": [
    {
     "name": "stdout",
     "output_type": "stream",
     "text": [
      "1\n"
     ]
    }
   ],
   "source": [
    "x = 1\n",
    "incrementa()"
   ]
  },
  {
   "cell_type": "code",
   "execution_count": 56,
   "id": "4f526f94",
   "metadata": {
    "ExecuteTime": {
     "end_time": "2022-02-05T18:48:08.822332Z",
     "start_time": "2022-02-05T18:48:08.817332Z"
    }
   },
   "outputs": [],
   "source": [
    "#(b)\n",
    "def incrementb():\n",
    "    print(x)\n",
    "    x = x+1"
   ]
  },
  {
   "cell_type": "code",
   "execution_count": 57,
   "id": "3fd62ab4",
   "metadata": {
    "ExecuteTime": {
     "end_time": "2022-02-05T18:48:14.135856Z",
     "start_time": "2022-02-05T18:48:14.124855Z"
    }
   },
   "outputs": [
    {
     "ename": "NameError",
     "evalue": "name 'incrementab' is not defined",
     "output_type": "error",
     "traceback": [
      "\u001b[1;31m---------------------------------------------------------------------------\u001b[0m",
      "\u001b[1;31mNameError\u001b[0m                                 Traceback (most recent call last)",
      "\u001b[1;32m~\\AppData\\Local\\Temp/ipykernel_4300/2611465546.py\u001b[0m in \u001b[0;36m<module>\u001b[1;34m\u001b[0m\n\u001b[1;32m----> 1\u001b[1;33m \u001b[0mincrementab\u001b[0m\u001b[1;33m(\u001b[0m\u001b[1;33m)\u001b[0m\u001b[1;33m\u001b[0m\u001b[1;33m\u001b[0m\u001b[0m\n\u001b[0m",
      "\u001b[1;31mNameError\u001b[0m: name 'incrementab' is not defined"
     ]
    }
   ],
   "source": [
    "incrementab()"
   ]
  },
  {
   "cell_type": "code",
   "execution_count": 58,
   "id": "5d79210e",
   "metadata": {
    "ExecuteTime": {
     "end_time": "2022-02-05T18:48:33.265841Z",
     "start_time": "2022-02-05T18:48:33.258840Z"
    }
   },
   "outputs": [],
   "source": [
    "#(c)\n",
    "def incrementc(x):\n",
    "    x = x+1\n",
    "    return x"
   ]
  },
  {
   "cell_type": "code",
   "execution_count": 59,
   "id": "879c9cb1",
   "metadata": {
    "ExecuteTime": {
     "end_time": "2022-02-05T18:48:42.186107Z",
     "start_time": "2022-02-05T18:48:42.181607Z"
    }
   },
   "outputs": [
    {
     "name": "stdout",
     "output_type": "stream",
     "text": [
      "2\n"
     ]
    }
   ],
   "source": [
    "x = incrementc(x); print(x)"
   ]
  },
  {
   "cell_type": "code",
   "execution_count": 60,
   "id": "5399615e",
   "metadata": {
    "ExecuteTime": {
     "end_time": "2022-02-05T18:49:04.310397Z",
     "start_time": "2022-02-05T18:49:04.293395Z"
    }
   },
   "outputs": [],
   "source": [
    "#(d)\n",
    "def incrementd():\n",
    "    global x\n",
    "    x = x+1"
   ]
  },
  {
   "cell_type": "code",
   "execution_count": 61,
   "id": "6b169691",
   "metadata": {
    "ExecuteTime": {
     "end_time": "2022-02-05T18:49:11.612938Z",
     "start_time": "2022-02-05T18:49:11.600936Z"
    }
   },
   "outputs": [
    {
     "name": "stdout",
     "output_type": "stream",
     "text": [
      "3\n"
     ]
    }
   ],
   "source": [
    "incrementd(); print(x)"
   ]
  },
  {
   "cell_type": "code",
   "execution_count": 62,
   "id": "dfd201de",
   "metadata": {
    "ExecuteTime": {
     "end_time": "2022-02-05T18:49:32.601423Z",
     "start_time": "2022-02-05T18:49:32.592922Z"
    }
   },
   "outputs": [
    {
     "name": "stdout",
     "output_type": "stream",
     "text": [
      "None\n"
     ]
    }
   ],
   "source": [
    "#(e)\n",
    "x = incrementd(); print(x)"
   ]
  },
  {
   "cell_type": "markdown",
   "id": "b642637e",
   "metadata": {},
   "source": [
    "# 5.6 Global(전역), Local(지역), Nonlocal(비지역) 변수와 그 유효범위"
   ]
  },
  {
   "cell_type": "code",
   "execution_count": 70,
   "id": "5c4229d6",
   "metadata": {
    "ExecuteTime": {
     "end_time": "2022-02-05T18:58:11.370486Z",
     "start_time": "2022-02-05T18:58:11.363984Z"
    }
   },
   "outputs": [
    {
     "name": "stdout",
     "output_type": "stream",
     "text": [
      "x (inner):  1\n",
      "y (inner):  2\n",
      "z (inner):  3\n",
      "x (outer):  4\n",
      "y (outer):  2\n",
      " z doesn't exist in outer().\n",
      "x = 1\n",
      " y doesn't exist in main().\n",
      " z doesn't exist in main().\n"
     ]
    }
   ],
   "source": [
    "def outer():\n",
    "    x = 4; y = 5\n",
    "    def inner():\n",
    "        global x\n",
    "        nonlocal y\n",
    "        x = 1; y = 2; z = 3\n",
    "        print(\"x (inner): \", x)\n",
    "        print(\"y (inner): \", y)\n",
    "        print(\"z (inner): \", z)\n",
    "    inner()\n",
    "    print(\"x (outer): \", x)\n",
    "    print(\"y (outer): \", y)\n",
    "    try: print(\"z (outer): \", z)\n",
    "    except: print(\" z doesn't exist in outer().\")\n",
    "        \n",
    "outer()\n",
    "print('x =', x)\n",
    "try: print(\"y (inner): \", y)\n",
    "except: print(\" y doesn't exist in main().\")\n",
    "try: print(\"z (inner): \", z)\n",
    "except: print(\" z doesn't exist in main().\")"
   ]
  },
  {
   "cell_type": "code",
   "execution_count": null,
   "id": "284224dc",
   "metadata": {},
   "outputs": [],
   "source": [
    "# global x: main + inner\n",
    "# nonlocal y: outer + inner\n",
    "# z: inner"
   ]
  },
  {
   "cell_type": "markdown",
   "id": "8fa736c5",
   "metadata": {},
   "source": [
    "# 5.7 함수(function) 파일을 Module로 사용하기"
   ]
  },
  {
   "cell_type": "code",
   "execution_count": 2,
   "id": "fbc38b52",
   "metadata": {
    "ExecuteTime": {
     "end_time": "2022-02-06T08:37:02.942886Z",
     "start_time": "2022-02-06T08:37:02.938885Z"
    }
   },
   "outputs": [],
   "source": [
    "#(a)\n",
    "from my_calculator import *"
   ]
  },
  {
   "cell_type": "code",
   "execution_count": 3,
   "id": "f93ab4aa",
   "metadata": {
    "ExecuteTime": {
     "end_time": "2022-02-06T08:37:03.342129Z",
     "start_time": "2022-02-06T08:37:03.323124Z"
    }
   },
   "outputs": [
    {
     "data": {
      "text/plain": [
       "6"
      ]
     },
     "execution_count": 3,
     "metadata": {},
     "output_type": "execute_result"
    }
   ],
   "source": [
    "multiply(3,2)"
   ]
  },
  {
   "cell_type": "code",
   "execution_count": 4,
   "id": "e1bb49f2",
   "metadata": {
    "ExecuteTime": {
     "end_time": "2022-02-06T08:37:03.771616Z",
     "start_time": "2022-02-06T08:37:03.760613Z"
    }
   },
   "outputs": [
    {
     "data": {
      "text/plain": [
       "1.5"
      ]
     },
     "execution_count": 4,
     "metadata": {},
     "output_type": "execute_result"
    }
   ],
   "source": [
    "divide(3,2)"
   ]
  },
  {
   "cell_type": "code",
   "execution_count": 5,
   "id": "f562f62e",
   "metadata": {
    "ExecuteTime": {
     "end_time": "2022-02-06T08:37:20.111058Z",
     "start_time": "2022-02-06T08:37:20.102057Z"
    }
   },
   "outputs": [],
   "source": [
    "#(b)\n",
    "import my_calculator as mycal"
   ]
  },
  {
   "cell_type": "code",
   "execution_count": 7,
   "id": "eb66eead",
   "metadata": {
    "ExecuteTime": {
     "end_time": "2022-02-06T08:37:32.143248Z",
     "start_time": "2022-02-06T08:37:32.130746Z"
    }
   },
   "outputs": [
    {
     "data": {
      "text/plain": [
       "6"
      ]
     },
     "execution_count": 7,
     "metadata": {},
     "output_type": "execute_result"
    }
   ],
   "source": [
    "mycal.multiply(3,2)"
   ]
  },
  {
   "cell_type": "code",
   "execution_count": 8,
   "id": "baf75844",
   "metadata": {
    "ExecuteTime": {
     "end_time": "2022-02-06T08:37:38.769271Z",
     "start_time": "2022-02-06T08:37:38.759769Z"
    }
   },
   "outputs": [
    {
     "data": {
      "text/plain": [
       "1.5"
      ]
     },
     "execution_count": 8,
     "metadata": {},
     "output_type": "execute_result"
    }
   ],
   "source": [
    "mycal.divide(3,2)"
   ]
  },
  {
   "cell_type": "markdown",
   "id": "f283a9b2",
   "metadata": {},
   "source": [
    "# 5.8 함수내 함수(Function inside Function) - 내포함수(Nested Function)"
   ]
  },
  {
   "cell_type": "code",
   "execution_count": 9,
   "id": "4a1b7832",
   "metadata": {
    "ExecuteTime": {
     "end_time": "2022-02-06T08:40:09.936620Z",
     "start_time": "2022-02-06T08:40:09.922617Z"
    }
   },
   "outputs": [],
   "source": [
    "from my_calculator1 import *"
   ]
  },
  {
   "cell_type": "code",
   "execution_count": 10,
   "id": "65facd21",
   "metadata": {
    "ExecuteTime": {
     "end_time": "2022-02-06T08:40:16.237933Z",
     "start_time": "2022-02-06T08:40:16.230431Z"
    }
   },
   "outputs": [
    {
     "data": {
      "text/plain": [
       "(6, 1.5)"
      ]
     },
     "execution_count": 10,
     "metadata": {},
     "output_type": "execute_result"
    }
   ],
   "source": [
    "mul_div(3,2)"
   ]
  },
  {
   "cell_type": "markdown",
   "id": "f3dbca67",
   "metadata": {},
   "source": [
    "# 5.9 Labmda 함수와 Callback 함수"
   ]
  },
  {
   "cell_type": "code",
   "execution_count": 11,
   "id": "5c170a05",
   "metadata": {
    "ExecuteTime": {
     "end_time": "2022-02-06T08:41:07.085494Z",
     "start_time": "2022-02-06T08:41:07.071492Z"
    }
   },
   "outputs": [],
   "source": [
    "#(a)\n",
    "my_sum = lambda x1, x2: x1 + x2"
   ]
  },
  {
   "cell_type": "code",
   "execution_count": 12,
   "id": "e1abf9a8",
   "metadata": {
    "ExecuteTime": {
     "end_time": "2022-02-06T08:41:21.370495Z",
     "start_time": "2022-02-06T08:41:21.363494Z"
    }
   },
   "outputs": [
    {
     "data": {
      "text/plain": [
       "5"
      ]
     },
     "execution_count": 12,
     "metadata": {},
     "output_type": "execute_result"
    }
   ],
   "source": [
    "my_sum(2,3)"
   ]
  },
  {
   "cell_type": "code",
   "execution_count": 14,
   "id": "70e16e70",
   "metadata": {
    "ExecuteTime": {
     "end_time": "2022-02-06T08:44:16.890149Z",
     "start_time": "2022-02-06T08:44:16.872646Z"
    }
   },
   "outputs": [],
   "source": [
    "#(b)\n",
    "from my_callback import *"
   ]
  },
  {
   "cell_type": "code",
   "execution_count": 15,
   "id": "4602ff5e",
   "metadata": {
    "ExecuteTime": {
     "end_time": "2022-02-06T08:44:52.904748Z",
     "start_time": "2022-02-06T08:44:52.891246Z"
    }
   },
   "outputs": [
    {
     "data": {
      "text/plain": [
       "5"
      ]
     },
     "execution_count": 15,
     "metadata": {},
     "output_type": "execute_result"
    }
   ],
   "source": [
    "my_calc(2,3,my_sum)"
   ]
  },
  {
   "cell_type": "code",
   "execution_count": 16,
   "id": "9a550f18",
   "metadata": {
    "ExecuteTime": {
     "end_time": "2022-02-06T08:45:07.390952Z",
     "start_time": "2022-02-06T08:45:07.387451Z"
    }
   },
   "outputs": [
    {
     "data": {
      "text/plain": [
       "6"
      ]
     },
     "execution_count": 16,
     "metadata": {},
     "output_type": "execute_result"
    }
   ],
   "source": [
    "my_calc(2,3,my_mul)"
   ]
  },
  {
   "cell_type": "code",
   "execution_count": 18,
   "id": "18923a9c",
   "metadata": {
    "ExecuteTime": {
     "end_time": "2022-02-06T08:45:41.231325Z",
     "start_time": "2022-02-06T08:45:41.214321Z"
    }
   },
   "outputs": [
    {
     "data": {
      "text/plain": [
       "5"
      ]
     },
     "execution_count": 18,
     "metadata": {},
     "output_type": "execute_result"
    }
   ],
   "source": [
    "#(c)\n",
    "my_calc1 = lambda x1, x2, callback: callback(x1,x2)\n",
    "my_calc1(2,3,my_sum)"
   ]
  },
  {
   "cell_type": "code",
   "execution_count": 19,
   "id": "5895f114",
   "metadata": {
    "ExecuteTime": {
     "end_time": "2022-02-06T08:45:50.951162Z",
     "start_time": "2022-02-06T08:45:50.939160Z"
    }
   },
   "outputs": [
    {
     "data": {
      "text/plain": [
       "6"
      ]
     },
     "execution_count": 19,
     "metadata": {},
     "output_type": "execute_result"
    }
   ],
   "source": [
    "my_calc1(2,3,my_mul)"
   ]
  },
  {
   "cell_type": "markdown",
   "id": "0e7b39f8",
   "metadata": {},
   "source": [
    "# 5.10 Closure를 사용해서 함수를 정의하기"
   ]
  },
  {
   "cell_type": "code",
   "execution_count": 21,
   "id": "288d4fb0",
   "metadata": {
    "ExecuteTime": {
     "end_time": "2022-02-06T08:47:51.763169Z",
     "start_time": "2022-02-06T08:47:51.756667Z"
    }
   },
   "outputs": [
    {
     "name": "stdout",
     "output_type": "stream",
     "text": [
      "9\n",
      "14\n"
     ]
    }
   ],
   "source": [
    "#(a)\n",
    "def outer(n):\n",
    "    result = 0\n",
    "    def inner(x):\n",
    "        nonlocal result\n",
    "        while x > 0:\n",
    "            result += x**n\n",
    "            x -= 1\n",
    "        return result\n",
    "    return inner\n",
    "\n",
    "f3 = outer(3)\n",
    "print(f3(2))\n",
    "f2 = outer(2)\n",
    "print(f2(3))"
   ]
  },
  {
   "cell_type": "code",
   "execution_count": 22,
   "id": "cdcd871e",
   "metadata": {
    "ExecuteTime": {
     "end_time": "2022-02-06T08:52:49.507668Z",
     "start_time": "2022-02-06T08:52:49.497666Z"
    }
   },
   "outputs": [
    {
     "name": "stdout",
     "output_type": "stream",
     "text": [
      "10\n",
      "24\n"
     ]
    }
   ],
   "source": [
    "#(b)\n",
    "def my_closure(func):\n",
    "    def f(L):\n",
    "        return func(L)\n",
    "    return f\n",
    "\n",
    "def mul(L):\n",
    "    if type(L) != list: return L\n",
    "    if len(L) < 2: return L[0]\n",
    "    else: return L[0] * mul(L[1:])\n",
    "    \n",
    "sum_list = my_closure(sum)\n",
    "mul_list = my_closure(mul)\n",
    "L = [1,2,3,4]\n",
    "print(sum_list(L))\n",
    "print(mul_list(L))"
   ]
  },
  {
   "cell_type": "markdown",
   "id": "e8241a7c",
   "metadata": {},
   "source": [
    "# 5.11  Closure를 사용한 정적 변수(Static Variable) 구현"
   ]
  },
  {
   "cell_type": "code",
   "execution_count": 28,
   "id": "086118f4",
   "metadata": {
    "ExecuteTime": {
     "end_time": "2022-02-06T08:59:39.398500Z",
     "start_time": "2022-02-06T08:59:39.391500Z"
    }
   },
   "outputs": [],
   "source": [
    "def closure_summer():\n",
    "    S = 0\n",
    "    def summer(val):\n",
    "        nonlocal S\n",
    "        S = S + val\n",
    "        return S\n",
    "    return summer\n",
    "\n",
    "#closure를 적절히 이용하면 하나의 함수가 호출되어 실행된 후 또 다시 실행될 때까지도 그 내부 변수가\n",
    "#값을 그대로 간직하는 정적 변수기능을 구현할 수 있다."
   ]
  },
  {
   "cell_type": "code",
   "execution_count": 29,
   "id": "d1b6100f",
   "metadata": {
    "ExecuteTime": {
     "end_time": "2022-02-06T08:59:39.768817Z",
     "start_time": "2022-02-06T08:59:39.755814Z"
    }
   },
   "outputs": [],
   "source": [
    "sum1 = closure_summer(); sum2 = closure_summer()"
   ]
  },
  {
   "cell_type": "code",
   "execution_count": 30,
   "id": "76121d5c",
   "metadata": {
    "ExecuteTime": {
     "end_time": "2022-02-06T08:59:40.122561Z",
     "start_time": "2022-02-06T08:59:40.108059Z"
    }
   },
   "outputs": [
    {
     "data": {
      "text/plain": [
       "1"
      ]
     },
     "execution_count": 30,
     "metadata": {},
     "output_type": "execute_result"
    },
    {
     "data": {
      "text/plain": [
       "4"
      ]
     },
     "execution_count": 30,
     "metadata": {},
     "output_type": "execute_result"
    },
    {
     "data": {
      "text/plain": [
       "2"
      ]
     },
     "execution_count": 30,
     "metadata": {},
     "output_type": "execute_result"
    }
   ],
   "source": [
    "sum1(1); sum1(3); s1 = sum1(-2); s1"
   ]
  },
  {
   "cell_type": "code",
   "execution_count": 31,
   "id": "b07160bc",
   "metadata": {
    "ExecuteTime": {
     "end_time": "2022-02-06T09:00:16.824696Z",
     "start_time": "2022-02-06T09:00:16.816694Z"
    }
   },
   "outputs": [
    {
     "data": {
      "text/plain": [
       "3"
      ]
     },
     "execution_count": 31,
     "metadata": {},
     "output_type": "execute_result"
    },
    {
     "data": {
      "text/plain": [
       "1"
      ]
     },
     "execution_count": 31,
     "metadata": {},
     "output_type": "execute_result"
    },
    {
     "data": {
      "text/plain": [
       "2"
      ]
     },
     "execution_count": 31,
     "metadata": {},
     "output_type": "execute_result"
    }
   ],
   "source": [
    "sum2(3); sum2(-2); s2 = sum2(1); s2"
   ]
  },
  {
   "cell_type": "markdown",
   "id": "6ce17e02",
   "metadata": {},
   "source": [
    "# 5.12 Lambda 함수를 사용한 Closure"
   ]
  },
  {
   "cell_type": "code",
   "execution_count": 32,
   "id": "bed78091",
   "metadata": {
    "ExecuteTime": {
     "end_time": "2022-02-06T09:05:00.447454Z",
     "start_time": "2022-02-06T09:05:00.437453Z"
    }
   },
   "outputs": [],
   "source": [
    "f = lambda x, a=1, b=0: a*x + b"
   ]
  },
  {
   "cell_type": "code",
   "execution_count": 33,
   "id": "8a651a0a",
   "metadata": {
    "ExecuteTime": {
     "end_time": "2022-02-06T09:05:26.183196Z",
     "start_time": "2022-02-06T09:05:26.165694Z"
    }
   },
   "outputs": [],
   "source": [
    "f1 = lambda x: f(x,a=2,b=1)"
   ]
  },
  {
   "cell_type": "code",
   "execution_count": 34,
   "id": "697a4ed2",
   "metadata": {
    "ExecuteTime": {
     "end_time": "2022-02-06T09:05:33.424965Z",
     "start_time": "2022-02-06T09:05:33.408462Z"
    }
   },
   "outputs": [
    {
     "data": {
      "text/plain": [
       "7"
      ]
     },
     "execution_count": 34,
     "metadata": {},
     "output_type": "execute_result"
    }
   ],
   "source": [
    "y = f1(3); y"
   ]
  },
  {
   "cell_type": "markdown",
   "id": "afcd69b1",
   "metadata": {},
   "source": [
    "# 5.13 다중 Decorator의 연쇄적 사용 (Multiple Decorator Chaining)"
   ]
  },
  {
   "cell_type": "code",
   "execution_count": 43,
   "id": "9d67e3f4",
   "metadata": {
    "ExecuteTime": {
     "end_time": "2022-02-06T09:12:37.528319Z",
     "start_time": "2022-02-06T09:12:37.520817Z"
    }
   },
   "outputs": [],
   "source": [
    "def decorate_with_star(func):\n",
    "    def inner(*args, **kwargs):\n",
    "        print(\"*\"*10 + func.__name__ + ' begins' + \"*\"*10)\n",
    "        func(*args, **kwargs)\n",
    "        print(\"*\"*10 + func.__name__ + ' ends' + \"*\"*10)\n",
    "    return inner\n",
    "\n",
    "def divide(a,b):\n",
    "    print(a/b)\n",
    "    \n",
    "def decorate_divide(func):\n",
    "    def div(a,b):\n",
    "        print(\"I am going to divide\", a, 'by', b)\n",
    "        if b==0:\n",
    "            print(\"Whoops! Zero-division is impossible.\")\n",
    "            return\n",
    "        return func(a,b)\n",
    "    return div"
   ]
  },
  {
   "cell_type": "code",
   "execution_count": 44,
   "id": "cf0b39de",
   "metadata": {
    "ExecuteTime": {
     "end_time": "2022-02-06T09:12:38.191999Z",
     "start_time": "2022-02-06T09:12:38.181997Z"
    }
   },
   "outputs": [],
   "source": [
    "@decorate_with_star\n",
    "@decorate_divide\n",
    "def divide(a,b):\n",
    "    print(a/b)"
   ]
  },
  {
   "cell_type": "code",
   "execution_count": 45,
   "id": "717b0df0",
   "metadata": {
    "ExecuteTime": {
     "end_time": "2022-02-06T09:12:38.453573Z",
     "start_time": "2022-02-06T09:12:38.439071Z"
    }
   },
   "outputs": [
    {
     "name": "stdout",
     "output_type": "stream",
     "text": [
      "**********div begins**********\n",
      "I am going to divide 3 by 2\n",
      "1.5\n",
      "**********div ends**********\n"
     ]
    }
   ],
   "source": [
    "divide(3,2)"
   ]
  },
  {
   "cell_type": "code",
   "execution_count": 46,
   "id": "cb1b23e3",
   "metadata": {
    "ExecuteTime": {
     "end_time": "2022-02-06T09:13:49.506882Z",
     "start_time": "2022-02-06T09:13:49.498881Z"
    }
   },
   "outputs": [
    {
     "name": "stdout",
     "output_type": "stream",
     "text": [
      "**********div begins**********\n",
      "I am going to divide 3 by 0\n",
      "Whoops! Zero-division is impossible.\n",
      "**********div ends**********\n"
     ]
    }
   ],
   "source": [
    "divide(3,0)"
   ]
  },
  {
   "cell_type": "markdown",
   "id": "9c4d1bd7",
   "metadata": {},
   "source": [
    "# 5.14 Iterator(반복자)와 Generator(발생자)의 일회성"
   ]
  },
  {
   "cell_type": "code",
   "execution_count": 47,
   "id": "748b55e1",
   "metadata": {
    "ExecuteTime": {
     "end_time": "2022-02-06T09:16:00.820386Z",
     "start_time": "2022-02-06T09:16:00.812885Z"
    }
   },
   "outputs": [
    {
     "name": "stdout",
     "output_type": "stream",
     "text": [
      "0\n",
      "2\n"
     ]
    }
   ],
   "source": [
    "#(a)\n",
    "L = [i*2 for i in range(4)]\n",
    "Iterator = iter(L)\n",
    "n = 0\n",
    "for item in Iterator:\n",
    "    print(item)\n",
    "    n += 1\n",
    "    if n > 1:\n",
    "        break"
   ]
  },
  {
   "cell_type": "code",
   "execution_count": 48,
   "id": "ea898ed4",
   "metadata": {
    "ExecuteTime": {
     "end_time": "2022-02-06T09:16:37.106804Z",
     "start_time": "2022-02-06T09:16:37.093301Z"
    }
   },
   "outputs": [
    {
     "name": "stdout",
     "output_type": "stream",
     "text": [
      "[4, 6]\n"
     ]
    }
   ],
   "source": [
    "print(list(Iterator))"
   ]
  },
  {
   "cell_type": "code",
   "execution_count": 49,
   "id": "80ef389f",
   "metadata": {
    "ExecuteTime": {
     "end_time": "2022-02-06T09:17:12.179325Z",
     "start_time": "2022-02-06T09:17:12.173823Z"
    }
   },
   "outputs": [
    {
     "name": "stdout",
     "output_type": "stream",
     "text": [
      "[0, 2, 4, 6]\n"
     ]
    }
   ],
   "source": [
    "#(b)\n",
    "G = (i*2 for i in range(4))\n",
    "print(list(G))"
   ]
  },
  {
   "cell_type": "code",
   "execution_count": 50,
   "id": "8bf27a36",
   "metadata": {
    "ExecuteTime": {
     "end_time": "2022-02-06T09:17:25.028864Z",
     "start_time": "2022-02-06T09:17:25.013361Z"
    }
   },
   "outputs": [
    {
     "name": "stdout",
     "output_type": "stream",
     "text": [
      "[]\n"
     ]
    }
   ],
   "source": [
    "print(list(G))"
   ]
  },
  {
   "cell_type": "code",
   "execution_count": 51,
   "id": "347d67c0",
   "metadata": {
    "ExecuteTime": {
     "end_time": "2022-02-06T09:19:05.622808Z",
     "start_time": "2022-02-06T09:19:05.609306Z"
    }
   },
   "outputs": [],
   "source": [
    "#iterator나 generator는 한 번 인용되면 그만큼 줄어들며 따라서 또 한번 사용하려면 다시 만들어야한다."
   ]
  },
  {
   "cell_type": "markdown",
   "id": "eab9c1dd",
   "metadata": {},
   "source": [
    "# 5.15 Generator를 사용해서 매우 큰 파일을 읽기"
   ]
  },
  {
   "cell_type": "code",
   "execution_count": 1,
   "id": "ce9037d1",
   "metadata": {
    "ExecuteTime": {
     "end_time": "2022-02-06T09:22:07.540362Z",
     "start_time": "2022-02-06T09:21:47.211735Z"
    }
   },
   "outputs": [],
   "source": [
    "#(a)\n",
    "fname = \"py05p15.txt\"\n",
    "N = 3e7; i = 0\n",
    "with open(fname,'w') as f:\n",
    "    while i<N:\n",
    "        i += 1\n",
    "        data = f'{i+1:2d}th line.\\n'\n",
    "        f.write(data)"
   ]
  },
  {
   "cell_type": "code",
   "execution_count": 4,
   "id": "64147b1f",
   "metadata": {
    "ExecuteTime": {
     "end_time": "2022-02-06T12:07:25.417716Z",
     "start_time": "2022-02-06T12:07:19.263136Z"
    },
    "code_folding": []
   },
   "outputs": [
    {
     "name": "stdout",
     "output_type": "stream",
     "text": [
      "10000001th line.20000001th line.30000001th line."
     ]
    }
   ],
   "source": [
    "#(b)\n",
    "def csv_reader(fname):\n",
    "    f = open(fname)\n",
    "    result = f.read().split('\\n')\n",
    "    return result\n",
    "\n",
    "fname = 'py05p15.txt'\n",
    "csv_gen = csv_reader(fname)\n",
    "row_count = 0\n",
    "for row in csv_gen:\n",
    "    row_count += 1\n",
    "    if row_count % 1e7 == 0:\n",
    "        print(row, end='')"
   ]
  },
  {
   "cell_type": "code",
   "execution_count": 5,
   "id": "de45ff3c",
   "metadata": {
    "ExecuteTime": {
     "end_time": "2022-02-06T12:07:34.391259Z",
     "start_time": "2022-02-06T12:07:27.241000Z"
    }
   },
   "outputs": [
    {
     "name": "stdout",
     "output_type": "stream",
     "text": [
      "10000001th line.\n",
      "20000001th line.\n",
      "30000001th line.\n"
     ]
    }
   ],
   "source": [
    "#(c)\n",
    "def csv_reader(fname):\n",
    "    for row in open(fname, 'r'):\n",
    "        yield row\n",
    "        \n",
    "fname = 'py05p15.txt'\n",
    "csv_gen = csv_reader(fname)\n",
    "row_count = 0\n",
    "for row in csv_gen:\n",
    "    row_count += 1\n",
    "    if row_count % 1e7 == 0:\n",
    "        print(row, end='')"
   ]
  },
  {
   "cell_type": "markdown",
   "id": "1eac9b17",
   "metadata": {},
   "source": [
    "# 5.16 Generator를 사용한 무한길이 수열 발생"
   ]
  },
  {
   "cell_type": "code",
   "execution_count": 6,
   "id": "137ff34f",
   "metadata": {
    "ExecuteTime": {
     "end_time": "2022-02-06T12:08:54.056049Z",
     "start_time": "2022-02-06T12:08:54.048547Z"
    }
   },
   "outputs": [
    {
     "name": "stdout",
     "output_type": "stream",
     "text": [
      "fibonacci nos using gen_fibo() =\n",
      "[1, 1, 2, 3, 5]\n"
     ]
    }
   ],
   "source": [
    "def gen_fibo():\n",
    "    x, y = 0, 1\n",
    "    while True:\n",
    "        x, y = y, x+y\n",
    "        yield x\n",
    "        \n",
    "g_fb = gen_fibo()\n",
    "fbs = [next(g_fb) for i in range(5)]\n",
    "print(f\"fibonacci nos using gen_fibo() =\\n{fbs}\")"
   ]
  },
  {
   "cell_type": "code",
   "execution_count": null,
   "id": "73f78b40",
   "metadata": {},
   "outputs": [],
   "source": []
  }
 ],
 "metadata": {
  "kernelspec": {
   "display_name": "Python 3 (ipykernel)",
   "language": "python",
   "name": "python3"
  },
  "language_info": {
   "codemirror_mode": {
    "name": "ipython",
    "version": 3
   },
   "file_extension": ".py",
   "mimetype": "text/x-python",
   "name": "python",
   "nbconvert_exporter": "python",
   "pygments_lexer": "ipython3",
   "version": "3.9.7"
  },
  "toc": {
   "base_numbering": 1,
   "nav_menu": {},
   "number_sections": true,
   "sideBar": true,
   "skip_h1_title": false,
   "title_cell": "Table of Contents",
   "title_sidebar": "Contents",
   "toc_cell": false,
   "toc_position": {},
   "toc_section_display": true,
   "toc_window_display": false
  }
 },
 "nbformat": 4,
 "nbformat_minor": 5
}
