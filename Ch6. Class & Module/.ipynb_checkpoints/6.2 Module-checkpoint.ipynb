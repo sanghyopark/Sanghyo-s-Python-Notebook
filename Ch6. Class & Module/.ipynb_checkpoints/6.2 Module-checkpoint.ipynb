{
 "cells": [
  {
   "cell_type": "code",
   "execution_count": 7,
   "id": "28014f8b",
   "metadata": {
    "ExecuteTime": {
     "end_time": "2022-02-09T04:29:53.300502Z",
     "start_time": "2022-02-09T04:29:53.296001Z"
    }
   },
   "outputs": [],
   "source": [
    "from IPython.core.interactiveshell import InteractiveShell\n",
    "InteractiveShell.ast_node_interactivity = \"all\""
   ]
  },
  {
   "cell_type": "markdown",
   "id": "ee75cc46",
   "metadata": {},
   "source": [
    "# 6.2 Module"
   ]
  },
  {
   "cell_type": "markdown",
   "id": "f524f1a3",
   "metadata": {},
   "source": [
    "## 6.2.1 Module 가져와서 사용하기"
   ]
  },
  {
   "cell_type": "code",
   "execution_count": 1,
   "id": "514193ef",
   "metadata": {
    "ExecuteTime": {
     "end_time": "2022-02-09T04:27:57.895405Z",
     "start_time": "2022-02-09T04:27:57.881402Z"
    }
   },
   "outputs": [],
   "source": [
    "import math"
   ]
  },
  {
   "cell_type": "code",
   "execution_count": 3,
   "id": "32f40cf3",
   "metadata": {
    "ExecuteTime": {
     "end_time": "2022-02-09T04:28:22.946854Z",
     "start_time": "2022-02-09T04:28:22.932284Z"
    }
   },
   "outputs": [
    {
     "data": {
      "text/plain": [
       "2.00028879648171"
      ]
     },
     "execution_count": 3,
     "metadata": {},
     "output_type": "execute_result"
    }
   ],
   "source": [
    "A = 12.57\n",
    "r = math.sqrt(A/math.pi); r"
   ]
  },
  {
   "cell_type": "code",
   "execution_count": 4,
   "id": "b0345040",
   "metadata": {
    "ExecuteTime": {
     "end_time": "2022-02-09T04:28:53.399660Z",
     "start_time": "2022-02-09T04:28:53.386657Z"
    }
   },
   "outputs": [
    {
     "data": {
      "text/plain": [
       "2.00028879648171"
      ]
     },
     "execution_count": 4,
     "metadata": {},
     "output_type": "execute_result"
    }
   ],
   "source": [
    "import math as m\n",
    "A = 12.57; r = m.sqrt(A/m.pi)\n",
    "r"
   ]
  },
  {
   "cell_type": "code",
   "execution_count": 9,
   "id": "b1aba631",
   "metadata": {
    "ExecuteTime": {
     "end_time": "2022-02-09T04:30:02.723533Z",
     "start_time": "2022-02-09T04:30:02.711531Z"
    }
   },
   "outputs": [
    {
     "data": {
      "text/plain": [
       "2.00028879648171"
      ]
     },
     "execution_count": 9,
     "metadata": {},
     "output_type": "execute_result"
    },
    {
     "data": {
      "text/plain": [
       "1.0"
      ]
     },
     "execution_count": 9,
     "metadata": {},
     "output_type": "execute_result"
    }
   ],
   "source": [
    "from math import pi, sqrt as sq, e, log\n",
    "A = 12.57; r = sq(A/pi); B = log(e); r; B"
   ]
  },
  {
   "cell_type": "code",
   "execution_count": 10,
   "id": "ffbb6e6a",
   "metadata": {
    "ExecuteTime": {
     "end_time": "2022-02-09T04:30:22.059858Z",
     "start_time": "2022-02-09T04:30:22.052357Z"
    }
   },
   "outputs": [],
   "source": [
    "from math import * # *는 모든 것을 있는 그대로라는 뜻"
   ]
  },
  {
   "cell_type": "markdown",
   "id": "d33ec36d",
   "metadata": {},
   "source": [
    "## 6.2.2 Module 만들기"
   ]
  },
  {
   "cell_type": "code",
   "execution_count": 11,
   "id": "1b27b582",
   "metadata": {
    "ExecuteTime": {
     "end_time": "2022-02-09T04:31:45.643928Z",
     "start_time": "2022-02-09T04:31:45.629926Z"
    }
   },
   "outputs": [],
   "source": [
    "from class_Book1 import *"
   ]
  },
  {
   "cell_type": "code",
   "execution_count": 6,
   "id": "20271917",
   "metadata": {
    "ExecuteTime": {
     "end_time": "2022-02-09T04:36:01.186778Z",
     "start_time": "2022-02-09T04:36:01.177276Z"
    }
   },
   "outputs": [
    {
     "ename": "NameError",
     "evalue": "name 'Book1' is not defined",
     "output_type": "error",
     "traceback": [
      "\u001b[1;31m---------------------------------------------------------------------------\u001b[0m",
      "\u001b[1;31mNameError\u001b[0m                                 Traceback (most recent call last)",
      "\u001b[1;32m~\\AppData\\Local\\Temp/ipykernel_18172/3982996573.py\u001b[0m in \u001b[0;36m<module>\u001b[1;34m\u001b[0m\n\u001b[1;32m----> 1\u001b[1;33m \u001b[0mbook0\u001b[0m \u001b[1;33m=\u001b[0m \u001b[0mBook1\u001b[0m\u001b[1;33m(\u001b[0m\u001b[1;33m[\u001b[0m\u001b[1;34m'Introd. to Math'\u001b[0m\u001b[1;33m,\u001b[0m \u001b[1;36m105\u001b[0m\u001b[1;33m,\u001b[0m \u001b[1;36m65\u001b[0m\u001b[1;33m]\u001b[0m\u001b[1;33m)\u001b[0m\u001b[1;33m\u001b[0m\u001b[1;33m\u001b[0m\u001b[0m\n\u001b[0m",
      "\u001b[1;31mNameError\u001b[0m: name 'Book1' is not defined"
     ]
    }
   ],
   "source": [
    "book0 = Book1(['Introd. to Math', 105, 65])"
   ]
  },
  {
   "cell_type": "code",
   "execution_count": 13,
   "id": "1ca508b5",
   "metadata": {
    "ExecuteTime": {
     "end_time": "2022-02-09T04:32:24.576178Z",
     "start_time": "2022-02-09T04:32:24.564676Z"
    }
   },
   "outputs": [],
   "source": [
    "book0.change_price(97)"
   ]
  },
  {
   "cell_type": "code",
   "execution_count": 16,
   "id": "81f87645",
   "metadata": {
    "ExecuteTime": {
     "end_time": "2022-02-09T04:32:40.809182Z",
     "start_time": "2022-02-09T04:32:40.792626Z"
    }
   },
   "outputs": [],
   "source": [
    "book0.change_stock(9)"
   ]
  },
  {
   "cell_type": "code",
   "execution_count": 17,
   "id": "db96b8c1",
   "metadata": {
    "ExecuteTime": {
     "end_time": "2022-02-09T04:32:49.306033Z",
     "start_time": "2022-02-09T04:32:49.289530Z"
    }
   },
   "outputs": [
    {
     "name": "stdout",
     "output_type": "stream",
     "text": [
      "Introd. to Math:   97.0원  74권\n"
     ]
    }
   ],
   "source": [
    "book0.showinfo()"
   ]
  },
  {
   "cell_type": "code",
   "execution_count": 1,
   "id": "559ba98c",
   "metadata": {
    "ExecuteTime": {
     "end_time": "2022-02-09T04:35:00.530991Z",
     "start_time": "2022-02-09T04:35:00.520986Z"
    }
   },
   "outputs": [],
   "source": [
    "import class_Book1"
   ]
  },
  {
   "cell_type": "code",
   "execution_count": 7,
   "id": "1b13c291",
   "metadata": {
    "ExecuteTime": {
     "end_time": "2022-02-09T04:36:15.464822Z",
     "start_time": "2022-02-09T04:36:15.447405Z"
    }
   },
   "outputs": [],
   "source": [
    "book0 = class_Book1.Book1(['Introd. to Math', 105, 65])"
   ]
  },
  {
   "cell_type": "code",
   "execution_count": 9,
   "id": "8a617352",
   "metadata": {
    "ExecuteTime": {
     "end_time": "2022-02-09T04:36:37.846597Z",
     "start_time": "2022-02-09T04:36:37.832319Z"
    }
   },
   "outputs": [],
   "source": [
    "book0.change_price(97)"
   ]
  },
  {
   "cell_type": "code",
   "execution_count": 10,
   "id": "0c87d239",
   "metadata": {
    "ExecuteTime": {
     "end_time": "2022-02-09T04:36:46.160021Z",
     "start_time": "2022-02-09T04:36:46.154520Z"
    }
   },
   "outputs": [],
   "source": [
    "book0.change_stock(9)"
   ]
  },
  {
   "cell_type": "code",
   "execution_count": 11,
   "id": "252594c5",
   "metadata": {
    "ExecuteTime": {
     "end_time": "2022-02-09T04:36:53.425074Z",
     "start_time": "2022-02-09T04:36:53.411071Z"
    }
   },
   "outputs": [
    {
     "name": "stdout",
     "output_type": "stream",
     "text": [
      "Introd. to Math:   97.0원  74권\n"
     ]
    }
   ],
   "source": [
    "book0.showinfo()"
   ]
  },
  {
   "cell_type": "code",
   "execution_count": 14,
   "id": "3ac32c5d",
   "metadata": {
    "ExecuteTime": {
     "end_time": "2022-02-09T05:26:17.877532Z",
     "start_time": "2022-02-09T05:26:17.862283Z"
    }
   },
   "outputs": [],
   "source": [
    "import mycal"
   ]
  },
  {
   "cell_type": "code",
   "execution_count": 15,
   "id": "bf108a2e",
   "metadata": {
    "ExecuteTime": {
     "end_time": "2022-02-09T05:26:30.306988Z",
     "start_time": "2022-02-09T05:26:30.297487Z"
    }
   },
   "outputs": [
    {
     "name": "stdout",
     "output_type": "stream",
     "text": [
      "10\n"
     ]
    }
   ],
   "source": [
    "print(mycal.mul(5,2))"
   ]
  },
  {
   "cell_type": "code",
   "execution_count": 16,
   "id": "5f4c4787",
   "metadata": {
    "ExecuteTime": {
     "end_time": "2022-02-09T05:26:39.017868Z",
     "start_time": "2022-02-09T05:26:39.011867Z"
    }
   },
   "outputs": [
    {
     "name": "stdout",
     "output_type": "stream",
     "text": [
      "2.5\n"
     ]
    }
   ],
   "source": [
    "print(mycal.div(5,2))"
   ]
  },
  {
   "cell_type": "code",
   "execution_count": 17,
   "id": "3231626c",
   "metadata": {
    "ExecuteTime": {
     "end_time": "2022-02-09T05:26:49.344973Z",
     "start_time": "2022-02-09T05:26:49.333471Z"
    }
   },
   "outputs": [
    {
     "name": "stdout",
     "output_type": "stream",
     "text": [
      "28.274333882308138\n"
     ]
    }
   ],
   "source": [
    "print(mycal.circle_area(3))"
   ]
  },
  {
   "cell_type": "markdown",
   "id": "79de1e33",
   "metadata": {},
   "source": [
    "### [Remark 6.2.2]  if \\_\\_name\\_\\_==\"\\_\\_main\\_\\_\":"
   ]
  },
  {
   "cell_type": "raw",
   "id": "3f4d3dc1",
   "metadata": {},
   "source": [
    "__name__이라는 변수는 파이썬의 내장변수이다. 이 변수에는 해당 파이썬 파일의 이름이 담기게 된다. (예: function1.py이면 function1이 __name__이 된다.)\n",
    "\n",
    "그런데 \"그 파일 안에서\" 파일 안의 함수를 실행시키면 __name__ 변수에 담기는 것은 그 파일 혹은, 모듈의 이름이 아니고 __main__이라는 값이 되도록 정해져 있다.\n",
    "반면, 그 파일 안에서 그 함수를 실행시키는 것이 아니라 새로운 파일에서 모듈을 import해서 사용하는 경우에는 __name__변수에 그 모듈의 이름이 담긴다.\n",
    "\n",
    "즉, 파일 안에서 함수를 실행시키면 __name__ == \"__main__\" 이 되어 if문이 실행되고\n",
    "파일 밖에서 함수를 import해 실행시키면 __name != \"__main__\"이 되어 if문이 실행되지 않는다."
   ]
  }
 ],
 "metadata": {
  "kernelspec": {
   "display_name": "Python 3 (ipykernel)",
   "language": "python",
   "name": "python3"
  },
  "language_info": {
   "codemirror_mode": {
    "name": "ipython",
    "version": 3
   },
   "file_extension": ".py",
   "mimetype": "text/x-python",
   "name": "python",
   "nbconvert_exporter": "python",
   "pygments_lexer": "ipython3",
   "version": "3.9.7"
  },
  "toc": {
   "base_numbering": 1,
   "nav_menu": {},
   "number_sections": true,
   "sideBar": true,
   "skip_h1_title": false,
   "title_cell": "Table of Contents",
   "title_sidebar": "Contents",
   "toc_cell": false,
   "toc_position": {},
   "toc_section_display": true,
   "toc_window_display": false
  }
 },
 "nbformat": 4,
 "nbformat_minor": 5
}
