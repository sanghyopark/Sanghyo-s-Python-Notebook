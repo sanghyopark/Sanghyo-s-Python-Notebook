{
 "cells": [
  {
   "cell_type": "code",
   "execution_count": 58,
   "id": "ffa1ec81",
   "metadata": {
    "ExecuteTime": {
     "end_time": "2022-02-09T04:23:25.702238Z",
     "start_time": "2022-02-09T04:23:25.695737Z"
    }
   },
   "outputs": [],
   "source": [
    "from IPython.core.interactiveshell import InteractiveShell\n",
    "InteractiveShell.ast_node_interactivity = \"all\""
   ]
  },
  {
   "cell_type": "markdown",
   "id": "8433d175",
   "metadata": {},
   "source": [
    "# 6.1 Class"
   ]
  },
  {
   "cell_type": "code",
   "execution_count": 4,
   "id": "2b482276",
   "metadata": {
    "ExecuteTime": {
     "end_time": "2022-02-09T00:53:12.140447Z",
     "start_time": "2022-02-09T00:53:12.135946Z"
    }
   },
   "outputs": [],
   "source": [
    "class Person: #Person이라는 이름을 가진 class 생성자 (constructor)\n",
    "    def __init__(self, name, 취미): #Initializer\n",
    "        self.이름 = name #data field\n",
    "        self.취미 = 취미 #data field\n",
    "        \n",
    "    def greeting(self): #이 class에 속한 method\n",
    "        print(f'{self.hi}, {self.이름}!')\n",
    "    \n",
    "    hi = '안녕하세요' #An instance variable"
   ]
  },
  {
   "cell_type": "code",
   "execution_count": 6,
   "id": "a4793d02",
   "metadata": {
    "ExecuteTime": {
     "end_time": "2022-02-09T00:53:17.883606Z",
     "start_time": "2022-02-09T00:53:17.879605Z"
    }
   },
   "outputs": [],
   "source": [
    "p1 = Person('홍길동', 'python') #class 생성자를 호출하여 생성한 object, 즉 instance"
   ]
  },
  {
   "cell_type": "code",
   "execution_count": 8,
   "id": "a911f8cd",
   "metadata": {
    "ExecuteTime": {
     "end_time": "2022-02-09T00:53:39.808216Z",
     "start_time": "2022-02-09T00:53:39.791713Z"
    }
   },
   "outputs": [
    {
     "data": {
      "text/plain": [
       "'홍길동'"
      ]
     },
     "execution_count": 8,
     "metadata": {},
     "output_type": "execute_result"
    },
    {
     "data": {
      "text/plain": [
       "'python'"
      ]
     },
     "execution_count": 8,
     "metadata": {},
     "output_type": "execute_result"
    }
   ],
   "source": [
    "p1.이름; p1.취미"
   ]
  },
  {
   "cell_type": "code",
   "execution_count": 11,
   "id": "62efd6c3",
   "metadata": {
    "ExecuteTime": {
     "end_time": "2022-02-09T01:05:51.864205Z",
     "start_time": "2022-02-09T01:05:51.854204Z"
    }
   },
   "outputs": [
    {
     "name": "stdout",
     "output_type": "stream",
     "text": [
      "안녕하세요, 홍길동!\n"
     ]
    }
   ],
   "source": [
    "p1.greeting() #class의 member function, 즉 method"
   ]
  },
  {
   "cell_type": "code",
   "execution_count": 10,
   "id": "475e830f",
   "metadata": {
    "ExecuteTime": {
     "end_time": "2022-02-09T01:02:40.721019Z",
     "start_time": "2022-02-09T01:02:40.710517Z"
    }
   },
   "outputs": [
    {
     "name": "stdout",
     "output_type": "stream",
     "text": [
      "안녕하세요, 홍길동. 당신의 취미는 python이군요.\n"
     ]
    }
   ],
   "source": [
    "print(f'{p1.hi}, {p1.이름}. 당신의 취미는 {p1.취미}이군요.')"
   ]
  },
  {
   "cell_type": "markdown",
   "id": "8e58025c",
   "metadata": {},
   "source": [
    "(1) class 생성자(constructor) 내에 정의된 \\_\\_init\\_\\_이라는 익명의 method는 그 constructor가 사용되어 하나의 class instance가 생성될 때에만 자동으로 실행된다는 것이다.\n",
    "\n",
    "(2) class 생성자를 호출해서 생성된 object는 그 생성자의 instance라고 하며, 그런 작업을 instantiation이라고 한다.\n",
    "\n",
    "(3) class 생성자 내에서 일관성/고유성만 있으면 self대신 다른 이름을 사용해도 된다.\n",
    "\n",
    "(4) class 생성자 내에서 (self를 형식상 제 0입력인자로 하여)정의된 함수, 즉 class의 member function을 method라고 한다."
   ]
  },
  {
   "cell_type": "code",
   "execution_count": 19,
   "id": "111668cb",
   "metadata": {
    "ExecuteTime": {
     "end_time": "2022-02-09T01:12:59.494377Z",
     "start_time": "2022-02-09T01:12:59.480985Z"
    }
   },
   "outputs": [],
   "source": [
    "class Book:\n",
    "    def __init__(self, 제목, 단가, 재고):\n",
    "        self.title = 제목\n",
    "        self.price = 단가\n",
    "        self.stock = 재고\n",
    "        \n",
    "    def change_price(self, 가격):\n",
    "        self.price = 가격\n",
    "        \n",
    "    def change_stock(self, 수량):\n",
    "        self.stock += 수량\n",
    "        \n",
    "    def show_stock(self):\n",
    "        print(self.stock)"
   ]
  },
  {
   "cell_type": "code",
   "execution_count": 20,
   "id": "f50ca854",
   "metadata": {
    "ExecuteTime": {
     "end_time": "2022-02-09T01:12:59.708481Z",
     "start_time": "2022-02-09T01:12:59.702979Z"
    }
   },
   "outputs": [],
   "source": [
    "books = [Book('book0',95,10),\n",
    "         Book('book1',85,23),\n",
    "         Book('book2',90,15)]"
   ]
  },
  {
   "cell_type": "code",
   "execution_count": 21,
   "id": "3af46517",
   "metadata": {
    "ExecuteTime": {
     "end_time": "2022-02-09T01:12:59.893086Z",
     "start_time": "2022-02-09T01:12:59.889085Z"
    }
   },
   "outputs": [],
   "source": [
    "books[0].change_stock(-3) #0번째 책을 3권 출고"
   ]
  },
  {
   "cell_type": "code",
   "execution_count": 22,
   "id": "02365041",
   "metadata": {
    "ExecuteTime": {
     "end_time": "2022-02-09T01:13:00.077816Z",
     "start_time": "2022-02-09T01:13:00.074315Z"
    }
   },
   "outputs": [],
   "source": [
    "books[1].change_price(77) #1번째 책의 가격을 77원으로"
   ]
  },
  {
   "cell_type": "code",
   "execution_count": 23,
   "id": "bb33e903",
   "metadata": {
    "ExecuteTime": {
     "end_time": "2022-02-09T01:13:45.577109Z",
     "start_time": "2022-02-09T01:13:45.563607Z"
    }
   },
   "outputs": [
    {
     "name": "stdout",
     "output_type": "stream",
     "text": [
      "book0:   95.0원   7권\n",
      "book1:   77.0원  23권\n",
      "book2:   90.0원  15권\n"
     ]
    }
   ],
   "source": [
    "for i in range(len(books)):\n",
    "    book = books[i]\n",
    "    print(f'{book.title}: {book.price:6.1f}원 {book.stock:3d}권')"
   ]
  },
  {
   "cell_type": "code",
   "execution_count": 24,
   "id": "7f19554b",
   "metadata": {
    "ExecuteTime": {
     "end_time": "2022-02-09T01:14:34.677714Z",
     "start_time": "2022-02-09T01:14:34.666713Z"
    }
   },
   "outputs": [
    {
     "name": "stdout",
     "output_type": "stream",
     "text": [
      "<class '__main__.Book'>\n"
     ]
    }
   ],
   "source": [
    "print(type(books[1]))"
   ]
  },
  {
   "cell_type": "code",
   "execution_count": 25,
   "id": "205ceca4",
   "metadata": {
    "ExecuteTime": {
     "end_time": "2022-02-09T01:15:10.496721Z",
     "start_time": "2022-02-09T01:15:10.488720Z"
    }
   },
   "outputs": [
    {
     "data": {
      "text/plain": [
       "True"
      ]
     },
     "execution_count": 25,
     "metadata": {},
     "output_type": "execute_result"
    }
   ],
   "source": [
    "isinstance(books[1], Book) #books[1]은 Book class의 instance?"
   ]
  },
  {
   "cell_type": "code",
   "execution_count": 48,
   "id": "406c4640",
   "metadata": {
    "ExecuteTime": {
     "end_time": "2022-02-09T01:30:35.848413Z",
     "start_time": "2022-02-09T01:30:35.833910Z"
    }
   },
   "outputs": [],
   "source": [
    "def change_price(book, 가격):\n",
    "    book['price'] = 가격\n",
    "    return book\n",
    "\n",
    "def change_stock(book, 수량):\n",
    "    book['stock'] += 수량\n",
    "    return book\n",
    "\n",
    "#왜 class가 필요할까 dictionary 형태의 data type을 이용하면 같은 작업을 할수 있지 않나?\n",
    "#code면에서는 class를 사용하는 것보다 더 간단해 보이지만 data를 생성하고 처리하는 과정은\n",
    "#class를 사용하는게 더 간편한것을 볼 수 있다."
   ]
  },
  {
   "cell_type": "code",
   "execution_count": 31,
   "id": "a1d4c4ff",
   "metadata": {
    "ExecuteTime": {
     "end_time": "2022-02-09T01:18:52.256846Z",
     "start_time": "2022-02-09T01:18:52.250347Z"
    }
   },
   "outputs": [],
   "source": [
    "books = {}\n",
    "books['book0'] = {'price': 95, 'stock': 10}\n",
    "books['book1'] = {'price': 85, 'stock': 23}\n",
    "books['book2'] = {'price': 90, 'stock': 15}"
   ]
  },
  {
   "cell_type": "code",
   "execution_count": 44,
   "id": "c7daeb9f",
   "metadata": {
    "ExecuteTime": {
     "end_time": "2022-02-09T01:26:54.398467Z",
     "start_time": "2022-02-09T01:26:54.388967Z"
    }
   },
   "outputs": [],
   "source": [
    "books['book0'] = change_stock(books['book0'],-3)"
   ]
  },
  {
   "cell_type": "code",
   "execution_count": 45,
   "id": "34922141",
   "metadata": {
    "ExecuteTime": {
     "end_time": "2022-02-09T01:27:00.961717Z",
     "start_time": "2022-02-09T01:27:00.954716Z"
    }
   },
   "outputs": [
    {
     "data": {
      "text/plain": [
       "{'book0': {'price': 95, 'stock': 4},\n",
       " 'book1': {'price': 85, 'stock': 23},\n",
       " 'book2': {'price': 90, 'stock': 15}}"
      ]
     },
     "execution_count": 45,
     "metadata": {},
     "output_type": "execute_result"
    }
   ],
   "source": [
    "books"
   ]
  },
  {
   "cell_type": "code",
   "execution_count": 47,
   "id": "8ce324bc",
   "metadata": {
    "ExecuteTime": {
     "end_time": "2022-02-09T01:27:16.376764Z",
     "start_time": "2022-02-09T01:27:16.366762Z"
    }
   },
   "outputs": [
    {
     "data": {
      "text/plain": [
       "dict_items([('book0', {'price': 95, 'stock': 4}), ('book1', {'price': 85, 'stock': 23}), ('book2', {'price': 90, 'stock': 15})])"
      ]
     },
     "execution_count": 47,
     "metadata": {},
     "output_type": "execute_result"
    }
   ],
   "source": [
    "books.items()"
   ]
  },
  {
   "cell_type": "code",
   "execution_count": 35,
   "id": "b0479e90",
   "metadata": {
    "ExecuteTime": {
     "end_time": "2022-02-09T01:19:59.041999Z",
     "start_time": "2022-02-09T01:19:59.031497Z"
    }
   },
   "outputs": [
    {
     "name": "stdout",
     "output_type": "stream",
     "text": [
      "book0:   95.0원   7권\n",
      "book1:   85.0원  23권\n",
      "book2:   90.0원  15권\n"
     ]
    }
   ],
   "source": [
    "for key, value in books.items():\n",
    "    price = value['price']; stock = value['stock']\n",
    "    print(f'{key}: {price: 6.1f}원 {stock:3d}권')"
   ]
  },
  {
   "cell_type": "markdown",
   "id": "5b26577d",
   "metadata": {
    "ExecuteTime": {
     "end_time": "2022-02-09T01:24:58.931023Z",
     "start_time": "2022-02-09T01:24:58.918021Z"
    }
   },
   "source": [
    "## 6.1.1 Class 내 변수를 (바깥에서는 안보이도록) 감추는 방법 - Data Hiding"
   ]
  },
  {
   "cell_type": "code",
   "execution_count": 51,
   "id": "9c4e9f17",
   "metadata": {
    "ExecuteTime": {
     "end_time": "2022-02-09T01:34:50.081388Z",
     "start_time": "2022-02-09T01:34:50.063384Z"
    }
   },
   "outputs": [],
   "source": [
    "class Book_:\n",
    "    def __init__(self, 제목, 단가, 재고):\n",
    "        self.title = 제목\n",
    "        self.price = 단가\n",
    "        self.__stock = 재고 #stock은 private로 해서 감춘다.\n",
    "    \n",
    "    def change_price(self, 가격):\n",
    "        self.price = 가격\n",
    "        \n",
    "    def change_stock(self, 수량):\n",
    "        self.__stock += 수량 #stock은 감춘다.\n",
    "        \n",
    "    def show_stock(self):\n",
    "        print(self.__stock) #stock을 print한다.\n",
    "        \n",
    "#class 생성자 내에서 변수명 앞에 두개의 밑줄 __을 붙이면 그 변수는 class바깥에서는 (그 변수를\n",
    "#출력하는 method를 통하지 않고서는) 직접 접근할 수 없는, 그 class의 private data field에\n",
    "#속하게 된다."
   ]
  },
  {
   "cell_type": "code",
   "execution_count": 52,
   "id": "c05e323c",
   "metadata": {
    "ExecuteTime": {
     "end_time": "2022-02-09T01:35:12.026641Z",
     "start_time": "2022-02-09T01:35:12.012139Z"
    }
   },
   "outputs": [],
   "source": [
    "b0 = Book_('Python',80,7) #instance"
   ]
  },
  {
   "cell_type": "code",
   "execution_count": 53,
   "id": "b1b02cba",
   "metadata": {
    "ExecuteTime": {
     "end_time": "2022-02-09T01:35:15.207958Z",
     "start_time": "2022-02-09T01:35:15.192956Z"
    }
   },
   "outputs": [
    {
     "data": {
      "text/plain": [
       "80"
      ]
     },
     "execution_count": 53,
     "metadata": {},
     "output_type": "execute_result"
    }
   ],
   "source": [
    "b0.price"
   ]
  },
  {
   "cell_type": "code",
   "execution_count": 54,
   "id": "03d4eb90",
   "metadata": {
    "ExecuteTime": {
     "end_time": "2022-02-09T01:35:27.160330Z",
     "start_time": "2022-02-09T01:35:27.156329Z"
    }
   },
   "outputs": [
    {
     "ename": "AttributeError",
     "evalue": "'Book_' object has no attribute '__stock'",
     "output_type": "error",
     "traceback": [
      "\u001b[1;31m---------------------------------------------------------------------------\u001b[0m",
      "\u001b[1;31mAttributeError\u001b[0m                            Traceback (most recent call last)",
      "\u001b[1;32m~\\AppData\\Local\\Temp/ipykernel_6756/773990640.py\u001b[0m in \u001b[0;36m<module>\u001b[1;34m\u001b[0m\n\u001b[1;32m----> 1\u001b[1;33m \u001b[0mb0\u001b[0m\u001b[1;33m.\u001b[0m\u001b[0m__stock\u001b[0m\u001b[1;33m\u001b[0m\u001b[1;33m\u001b[0m\u001b[0m\n\u001b[0m",
      "\u001b[1;31mAttributeError\u001b[0m: 'Book_' object has no attribute '__stock'"
     ]
    }
   ],
   "source": [
    "b0.__stock"
   ]
  },
  {
   "cell_type": "code",
   "execution_count": 55,
   "id": "290e6df8",
   "metadata": {
    "ExecuteTime": {
     "end_time": "2022-02-09T01:35:46.352657Z",
     "start_time": "2022-02-09T01:35:46.348656Z"
    }
   },
   "outputs": [
    {
     "name": "stdout",
     "output_type": "stream",
     "text": [
      "7\n"
     ]
    }
   ],
   "source": [
    "b0.show_stock()"
   ]
  },
  {
   "cell_type": "markdown",
   "id": "17707120",
   "metadata": {},
   "source": [
    "## 6.1.2 Special Method들: \\_\\_init\\_\\_()와 \\_\\_del\\_\\_()"
   ]
  },
  {
   "cell_type": "code",
   "execution_count": 11,
   "id": "27a03d83",
   "metadata": {
    "ExecuteTime": {
     "end_time": "2022-02-09T01:47:22.424167Z",
     "start_time": "2022-02-09T01:47:22.409664Z"
    }
   },
   "outputs": [],
   "source": [
    "class Fwrite:\n",
    "    def __init__(self, filename): #Class (instance) initializer\n",
    "        self.fname = filename\n",
    "        self.fw = open(filename,\"w\")\n",
    "        print('__init__ method has been excuted.')\n",
    "        \n",
    "    def write(self, data):\n",
    "        self.fw.write(data)\n",
    "    \n",
    "    def __del__(self): #Class (instance) dstructor(소멸자)\n",
    "        self.fw.close()\n",
    "        print('__del__ method has been executed.')"
   ]
  },
  {
   "cell_type": "markdown",
   "id": "2ce8664b",
   "metadata": {},
   "source": [
    "class 생성자를 정의하는 데 있어 \\_\\_init\\_\\_() method가 있다면 그것은 그 생성자가 호출되어 class instance가 생성될 때 실행되는데, 그 때 수행되어야 할 작업이 없다면 \\_\\_init()\\_\\_() method가 없어도 된다. 마찬가지로, 그 생성자가 꼭 호출되어 만들어진 class instance가 소멸될 때 자동으로 수행되는 method인 \\_\\_del\\_\\_()도, 그 때 수행되어야 할 작업이 없다면 필요가 없다."
   ]
  },
  {
   "cell_type": "code",
   "execution_count": 12,
   "id": "c3425574",
   "metadata": {
    "ExecuteTime": {
     "end_time": "2022-02-09T01:47:22.886205Z",
     "start_time": "2022-02-09T01:47:22.873703Z"
    }
   },
   "outputs": [
    {
     "name": "stdout",
     "output_type": "stream",
     "text": [
      "__init__ method has been excuted.\n"
     ]
    }
   ],
   "source": [
    "f = Fwrite(\"test.txt\")"
   ]
  },
  {
   "cell_type": "code",
   "execution_count": 13,
   "id": "961e8e4d",
   "metadata": {
    "ExecuteTime": {
     "end_time": "2022-02-09T01:47:23.162905Z",
     "start_time": "2022-02-09T01:47:23.157903Z"
    }
   },
   "outputs": [],
   "source": [
    "f.write(\"Hello World\")"
   ]
  },
  {
   "cell_type": "code",
   "execution_count": 14,
   "id": "55ef6748",
   "metadata": {
    "ExecuteTime": {
     "end_time": "2022-02-09T01:47:23.455756Z",
     "start_time": "2022-02-09T01:47:23.441996Z"
    }
   },
   "outputs": [
    {
     "name": "stdout",
     "output_type": "stream",
     "text": [
      "__del__ method has been executed.\n"
     ]
    }
   ],
   "source": [
    "del f"
   ]
  },
  {
   "cell_type": "code",
   "execution_count": 15,
   "id": "83c978a6",
   "metadata": {
    "ExecuteTime": {
     "end_time": "2022-02-09T01:47:25.163426Z",
     "start_time": "2022-02-09T01:47:25.146923Z"
    }
   },
   "outputs": [
    {
     "data": {
      "text/plain": [
       "'Hello World'"
      ]
     },
     "execution_count": 15,
     "metadata": {},
     "output_type": "execute_result"
    }
   ],
   "source": [
    "open('test.txt','r').read()"
   ]
  },
  {
   "cell_type": "markdown",
   "id": "221ede8a",
   "metadata": {},
   "source": [
    "## 6.1.3 Special Method들: \\_\\_dict\\_\\_(), \\_\\_str\\_\\_(), \\_\\_repr\\_\\_()"
   ]
  },
  {
   "cell_type": "code",
   "execution_count": 28,
   "id": "6bb4d357",
   "metadata": {
    "ExecuteTime": {
     "end_time": "2022-02-09T02:01:54.211152Z",
     "start_time": "2022-02-09T02:01:54.205151Z"
    }
   },
   "outputs": [],
   "source": [
    "class Student:\n",
    "    def __init__(self, name, age, school=None):\n",
    "        self.name = name\n",
    "        self.age = age\n",
    "        self.school = school\n",
    "    \n",
    "    def __str__(self):\n",
    "        dic = self.__dict__\n",
    "        info= ', '.join([f'{key}={dic.get(key)}' for key in dic])\n",
    "        return 'Student(' + info + ')'\n",
    "\n",
    "    def __repr__(self):\n",
    "        return str(self.__dict__)\n",
    "    \n",
    "    #__dict__는 Student class의 입력 매개변수들을 key로, 호출될 때 주어질 입력인자들을\n",
    "    #value로 가진 dictionary값을 갖게 된다.\n",
    "    #__repr__() method는 바로 __dict__를 string type으로 변환해서 반환하게 되어 있다."
   ]
  },
  {
   "cell_type": "code",
   "execution_count": 29,
   "id": "7ae211f4",
   "metadata": {
    "ExecuteTime": {
     "end_time": "2022-02-09T02:01:54.735274Z",
     "start_time": "2022-02-09T02:01:54.723771Z"
    }
   },
   "outputs": [],
   "source": [
    "student = Student('John', 23, 'USC')"
   ]
  },
  {
   "cell_type": "code",
   "execution_count": 30,
   "id": "2f1ee8d1",
   "metadata": {
    "ExecuteTime": {
     "end_time": "2022-02-09T02:01:54.981237Z",
     "start_time": "2022-02-09T02:01:54.972235Z"
    }
   },
   "outputs": [
    {
     "data": {
      "text/plain": [
       "{'name': 'John', 'age': 23, 'school': 'USC'}"
      ]
     },
     "execution_count": 30,
     "metadata": {},
     "output_type": "execute_result"
    }
   ],
   "source": [
    "student #student라는 class instance에 관한 정보를 보기위해 그냥 이름을 부르면 __repr__()이 실행된다."
   ]
  },
  {
   "cell_type": "code",
   "execution_count": 31,
   "id": "e2e8f536",
   "metadata": {
    "ExecuteTime": {
     "end_time": "2022-02-09T02:01:55.197419Z",
     "start_time": "2022-02-09T02:01:55.181413Z"
    }
   },
   "outputs": [
    {
     "name": "stdout",
     "output_type": "stream",
     "text": [
      "Student(name=John, age=23, school=USC)\n"
     ]
    }
   ],
   "source": [
    "print(student) #student를 print()함수의 입력인자로 넣어 실행시키면 __str__()이 실행된다."
   ]
  },
  {
   "cell_type": "markdown",
   "id": "af7ca594",
   "metadata": {},
   "source": [
    "### [Remark 6.2] \\_\\_str\\_\\_() Method 와 \\_\\_repr\\_\\_() Method"
   ]
  },
  {
   "cell_type": "markdown",
   "id": "35c42517",
   "metadata": {},
   "source": [
    "(1) \\_\\_str\\_\\_()와 \\_\\_repr\\_\\_()는 둘 다 class 자체에 관한 정보를 출력하는 데 사용되며, \\_\\_str\\_\\_()은 문자열을 반환하도록 정의되어야 하는데 비해 \\_\\_repr\\_\\_()이 반환해야 할 object는 꼭 문자열이어야 되는 건 아니지만 실행오류를 예방하기 위해 문자열을 반환하도록 정의하는 것이 바람직하다."
   ]
  },
  {
   "cell_type": "markdown",
   "id": "e7722676",
   "metadata": {},
   "source": [
    "(2) \\_\\_repr\\_\\_()만 정의되어 있는 경우 그 class instance의 이름이 그냥 불리워지든 print()함수에 넣어져서 실행되든, \\_\\_repr\\_\\_()이 싱행된다."
   ]
  },
  {
   "cell_type": "markdown",
   "id": "d937bd02",
   "metadata": {},
   "source": [
    "(3) \\_\\_str\\_\\_()만 정의되어 있는 경우 그 class instance의 이름이 print()함수에 넣어져 실행될때만 \\_\\_str\\_\\_()이 실행된다. 그냥 불리워지면 그 class instance가 어떤 종류의 object인지만 보여준다."
   ]
  },
  {
   "cell_type": "markdown",
   "id": "f6aed476",
   "metadata": {},
   "source": [
    "(4) 종합적으로 class자체의 정보를 출력하는 용도로 둘중 하나만 있으면 되고, 굳이 비교하자면 \\_\\_repr\\_\\_()이 더 편리한 것 같다."
   ]
  },
  {
   "cell_type": "markdown",
   "id": "de88accc",
   "metadata": {},
   "source": [
    "## 6.1.4 Operator Overloading"
   ]
  },
  {
   "cell_type": "markdown",
   "id": "916c17c1",
   "metadata": {},
   "source": [
    "'+' 는 원래 숫자들간의 연산에 적용되는 산술연산자이지만 string이나 list, tuple 등에도 적용되어 +로 상징되는 작업을 수행하듯이, 우리가 만드는 class instance간의 연산에도 어떤 연산자들이 적용될 수 있도록 overriding시키는 것이 operator overloading이다.\n",
    "\n",
    "('+': \\_\\_add\\_\\_, '-': \\_\\_sub\\_\\_, '*': \\_\\_mul\\_\\_)"
   ]
  },
  {
   "cell_type": "code",
   "execution_count": 32,
   "id": "cd478845",
   "metadata": {
    "ExecuteTime": {
     "end_time": "2022-02-09T02:14:19.736694Z",
     "start_time": "2022-02-09T02:14:19.725692Z"
    }
   },
   "outputs": [],
   "source": [
    "import math\n",
    "\n",
    "class Vector2D:\n",
    "    def __init__(self,x,y):\n",
    "        self.x = x\n",
    "        self.y = y\n",
    "        \n",
    "    def __add__(self,other):\n",
    "        return Vector2D(self.x + other.x, self.y + other.y)\n",
    "    \n",
    "    def __sub__(self,other):\n",
    "        return Vector2D(self.x - other.x, self.y - other.y)\n",
    "    \n",
    "    def mag(self):\n",
    "        return math.sqrt(self.x**2 + self.y**2)\n",
    "    \n",
    "    def __repr__(self):\n",
    "        return f\"({str(self.x)}, {str(self.y)})\""
   ]
  },
  {
   "cell_type": "code",
   "execution_count": 33,
   "id": "ce3562ad",
   "metadata": {
    "ExecuteTime": {
     "end_time": "2022-02-09T02:15:09.055682Z",
     "start_time": "2022-02-09T02:15:09.052681Z"
    }
   },
   "outputs": [],
   "source": [
    "v1 = Vector2D(1,2); v2 = Vector2D(3,4)"
   ]
  },
  {
   "cell_type": "code",
   "execution_count": 34,
   "id": "4b4dfc09",
   "metadata": {
    "ExecuteTime": {
     "end_time": "2022-02-09T02:15:11.008685Z",
     "start_time": "2022-02-09T02:15:11.000183Z"
    }
   },
   "outputs": [
    {
     "data": {
      "text/plain": [
       "(4, 6)"
      ]
     },
     "execution_count": 34,
     "metadata": {},
     "output_type": "execute_result"
    }
   ],
   "source": [
    "v1 + v2"
   ]
  },
  {
   "cell_type": "code",
   "execution_count": 36,
   "id": "d3f2fcec",
   "metadata": {
    "ExecuteTime": {
     "end_time": "2022-02-09T02:16:15.679175Z",
     "start_time": "2022-02-09T02:16:15.668174Z"
    }
   },
   "outputs": [
    {
     "data": {
      "text/plain": [
       "(-2, -2)"
      ]
     },
     "execution_count": 36,
     "metadata": {},
     "output_type": "execute_result"
    }
   ],
   "source": [
    "v1 - v2\n",
    "#Vector2D class에 속한 __add__()와 __sub__()이 실행되고 그 결과가\n",
    "#__repr__() method를 통해 나타난다."
   ]
  },
  {
   "cell_type": "code",
   "execution_count": 37,
   "id": "54a4b1b3",
   "metadata": {
    "ExecuteTime": {
     "end_time": "2022-02-09T02:16:19.939489Z",
     "start_time": "2022-02-09T02:16:19.925486Z"
    }
   },
   "outputs": [
    {
     "data": {
      "text/plain": [
       "2.23606797749979"
      ]
     },
     "execution_count": 37,
     "metadata": {},
     "output_type": "execute_result"
    }
   ],
   "source": [
    "v1.mag()"
   ]
  },
  {
   "cell_type": "markdown",
   "id": "ba686d68",
   "metadata": {},
   "source": [
    "## 6.1.5 Class 상속 (Class Inheritance)"
   ]
  },
  {
   "cell_type": "markdown",
   "id": "64ed74fd",
   "metadata": {},
   "source": [
    "calss ingeritance(상속)란, 어떤 class를 모체로 해서 그 기존의 속성/기능을 상속하면서도 그에 더하여 새롭거나 변경된 속성/기능을 가질 수도 있는 또 다른 class를 만드는 것을 말하며, 그렇게 해서 태어난 class를 child class, 그 모체가 된 class를 parent class라고 한다. 이를 잘 활용하면 code의 재활용성, 가독성, 확장성 등을 높일 수 있다."
   ]
  },
  {
   "cell_type": "code",
   "execution_count": 39,
   "id": "0ad0ddce",
   "metadata": {
    "ExecuteTime": {
     "end_time": "2022-02-09T03:56:03.136709Z",
     "start_time": "2022-02-09T03:56:03.122207Z"
    }
   },
   "outputs": [],
   "source": [
    "#\"class_Book.py\"에 정의된 Book class로부터의 ingeritance\n",
    "\n",
    "from class_Book import Book\n",
    "\n",
    "class Book1(Book): #'Book' class의 child class\n",
    "    def __init__(self,book): #parent의 __init__ method를 override(대체)\n",
    "        self.title = book[0]\n",
    "        self.price = book[1]\n",
    "        self.stock = book[2]\n",
    "        if len(book) >3:\n",
    "            self.publisher = book[3]\n",
    "    \n",
    "    def showinfo(self):\n",
    "        print(f'{self.title}: {self.price:6.1f}원 {self.stock:3d}권')"
   ]
  },
  {
   "cell_type": "code",
   "execution_count": 41,
   "id": "3156f511",
   "metadata": {
    "ExecuteTime": {
     "end_time": "2022-02-09T03:58:47.217956Z",
     "start_time": "2022-02-09T03:58:47.203454Z"
    }
   },
   "outputs": [],
   "source": [
    "books = [Book1(['book0', 95, 10, 'Wiley']),\n",
    "         Book1(['book1', 85, 23, 'Springer']),\n",
    "         Book1(['book2', 90, 15, 'PH'])]"
   ]
  },
  {
   "cell_type": "code",
   "execution_count": 42,
   "id": "5969fef5",
   "metadata": {
    "ExecuteTime": {
     "end_time": "2022-02-09T04:05:04.954923Z",
     "start_time": "2022-02-09T04:05:04.949923Z"
    }
   },
   "outputs": [],
   "source": [
    "books[0].change_stock(-3)"
   ]
  },
  {
   "cell_type": "code",
   "execution_count": 43,
   "id": "6c950ebe",
   "metadata": {
    "ExecuteTime": {
     "end_time": "2022-02-09T04:05:14.393806Z",
     "start_time": "2022-02-09T04:05:14.378303Z"
    }
   },
   "outputs": [],
   "source": [
    "books[1].change_price(77)"
   ]
  },
  {
   "cell_type": "code",
   "execution_count": 45,
   "id": "20fc4a9b",
   "metadata": {
    "ExecuteTime": {
     "end_time": "2022-02-09T04:05:43.286184Z",
     "start_time": "2022-02-09T04:05:43.271181Z"
    }
   },
   "outputs": [
    {
     "name": "stdout",
     "output_type": "stream",
     "text": [
      "book0:   95.0원   7권\n"
     ]
    }
   ],
   "source": [
    "books[0].showinfo()"
   ]
  },
  {
   "cell_type": "code",
   "execution_count": 46,
   "id": "487fe03e",
   "metadata": {
    "ExecuteTime": {
     "end_time": "2022-02-09T04:05:51.496471Z",
     "start_time": "2022-02-09T04:05:51.483468Z"
    }
   },
   "outputs": [
    {
     "name": "stdout",
     "output_type": "stream",
     "text": [
      "book1:   77.0원  23권\n"
     ]
    }
   ],
   "source": [
    "books[1].showinfo()"
   ]
  },
  {
   "cell_type": "code",
   "execution_count": 47,
   "id": "3d9b892a",
   "metadata": {
    "ExecuteTime": {
     "end_time": "2022-02-09T04:06:13.777256Z",
     "start_time": "2022-02-09T04:06:13.774256Z"
    }
   },
   "outputs": [
    {
     "data": {
      "text/plain": [
       "True"
      ]
     },
     "execution_count": 47,
     "metadata": {},
     "output_type": "execute_result"
    }
   ],
   "source": [
    "issubclass(Book1, Book) #Book1이 Book의 child class인가?"
   ]
  },
  {
   "cell_type": "markdown",
   "id": "52c1ff0f",
   "metadata": {},
   "source": [
    "## 6.1.6 Class의 상속기능을 활용한 예외처리 (Exception Handling)"
   ]
  },
  {
   "cell_type": "code",
   "execution_count": 59,
   "id": "a83f7acd",
   "metadata": {
    "ExecuteTime": {
     "end_time": "2022-02-09T04:23:30.162388Z",
     "start_time": "2022-02-09T04:23:30.150886Z"
    }
   },
   "outputs": [
    {
     "name": "stdout",
     "output_type": "stream",
     "text": [
      "Yang has been handled in the except clause.\n"
     ]
    },
    {
     "ename": "UserException",
     "evalue": "My Exception",
     "output_type": "error",
     "traceback": [
      "\u001b[1;31m---------------------------------------------------------------------------\u001b[0m",
      "\u001b[1;31mUserException\u001b[0m                             Traceback (most recent call last)",
      "\u001b[1;32m~\\AppData\\Local\\Temp/ipykernel_19024/3010404951.py\u001b[0m in \u001b[0;36m<module>\u001b[1;34m\u001b[0m\n\u001b[0;32m     12\u001b[0m     \u001b[0mprint\u001b[0m\u001b[1;33m(\u001b[0m\u001b[0mer\u001b[0m\u001b[1;33m,\u001b[0m \u001b[1;34m'has been handled in the except clause.'\u001b[0m\u001b[1;33m)\u001b[0m\u001b[1;33m\u001b[0m\u001b[1;33m\u001b[0m\u001b[0m\n\u001b[0;32m     13\u001b[0m \u001b[1;33m\u001b[0m\u001b[0m\n\u001b[1;32m---> 14\u001b[1;33m \u001b[1;32mraise\u001b[0m \u001b[0mUserException\u001b[0m\u001b[1;33m(\u001b[0m\u001b[1;34m'My Exception'\u001b[0m\u001b[1;33m)\u001b[0m\u001b[1;33m\u001b[0m\u001b[1;33m\u001b[0m\u001b[0m\n\u001b[0m",
      "\u001b[1;31mUserException\u001b[0m: My Exception"
     ]
    }
   ],
   "source": [
    "class UserException(Exception):\n",
    "    def __init__(self, name):\n",
    "        self.name = name\n",
    "    \n",
    "    def __repr__(self):\n",
    "        return self.name + \" exception\"\n",
    "\n",
    "try:\n",
    "    raise UserException('Yang') # Yang이라는 오류 발생\n",
    "    \n",
    "except UserException as er: # try문에서 Yang이라는 오류가 발생하여 except문 으로 넘어옴\n",
    "    print(er, 'has been handled in the except clause.')\n",
    "    \n",
    "raise UserException('My Exception')"
   ]
  },
  {
   "cell_type": "code",
   "execution_count": 61,
   "id": "70c73a8e",
   "metadata": {
    "ExecuteTime": {
     "end_time": "2022-02-09T04:25:39.117508Z",
     "start_time": "2022-02-09T04:25:39.107507Z"
    }
   },
   "outputs": [
    {
     "data": {
      "text/plain": [
       "Yang exception"
      ]
     },
     "execution_count": 61,
     "metadata": {},
     "output_type": "execute_result"
    }
   ],
   "source": [
    "UserException('Yang')"
   ]
  },
  {
   "cell_type": "code",
   "execution_count": null,
   "id": "24fbf5f9",
   "metadata": {},
   "outputs": [],
   "source": []
  }
 ],
 "metadata": {
  "kernelspec": {
   "display_name": "Python 3 (ipykernel)",
   "language": "python",
   "name": "python3"
  },
  "language_info": {
   "codemirror_mode": {
    "name": "ipython",
    "version": 3
   },
   "file_extension": ".py",
   "mimetype": "text/x-python",
   "name": "python",
   "nbconvert_exporter": "python",
   "pygments_lexer": "ipython3",
   "version": "3.9.7"
  },
  "toc": {
   "base_numbering": 1,
   "nav_menu": {},
   "number_sections": true,
   "sideBar": true,
   "skip_h1_title": false,
   "title_cell": "Table of Contents",
   "title_sidebar": "Contents",
   "toc_cell": false,
   "toc_position": {},
   "toc_section_display": true,
   "toc_window_display": false
  }
 },
 "nbformat": 4,
 "nbformat_minor": 5
}
