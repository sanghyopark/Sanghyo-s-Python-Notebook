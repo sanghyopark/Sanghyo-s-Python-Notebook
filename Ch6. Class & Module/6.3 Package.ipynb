{
 "cells": [
  {
   "cell_type": "code",
   "execution_count": 6,
   "id": "3e1fd52f",
   "metadata": {
    "ExecuteTime": {
     "end_time": "2022-02-09T06:46:04.480687Z",
     "start_time": "2022-02-09T06:46:04.475687Z"
    }
   },
   "outputs": [],
   "source": [
    "from IPython.core.interactiveshell import InteractiveShell\n",
    "InteractiveShell.ast_node_interactivity = \"all\""
   ]
  },
  {
   "cell_type": "markdown",
   "id": "a632cc38",
   "metadata": {},
   "source": [
    "# 6.3 Package"
   ]
  },
  {
   "cell_type": "code",
   "execution_count": 1,
   "id": "fb210aa4",
   "metadata": {
    "ExecuteTime": {
     "end_time": "2022-02-09T06:41:08.741178Z",
     "start_time": "2022-02-09T06:41:08.731177Z"
    }
   },
   "outputs": [
    {
     "name": "stdout",
     "output_type": "stream",
     "text": [
      "Math1:   97.0원  14권\n"
     ]
    }
   ],
   "source": [
    "from mypkg.book.class_Book1 import *\n",
    "\n",
    "book0 = Book1(['Math1', 95, 14])\n",
    "book0.change_price(97);\n",
    "book0.showinfo()"
   ]
  },
  {
   "cell_type": "code",
   "execution_count": 2,
   "id": "563cc106",
   "metadata": {
    "ExecuteTime": {
     "end_time": "2022-02-09T06:41:13.952313Z",
     "start_time": "2022-02-09T06:41:13.947812Z"
    }
   },
   "outputs": [
    {
     "name": "stdout",
     "output_type": "stream",
     "text": [
      "12\n",
      "3.5\n",
      "314.1592653589793\n",
      "10.0\n"
     ]
    }
   ],
   "source": [
    "from mypkg.math.cal import *\n",
    "from mypkg.math.area import *\n",
    "\n",
    "print(mul(3,4))\n",
    "print(div(7,2))\n",
    "print(circle(10))\n",
    "print(triangle(5,4))"
   ]
  },
  {
   "cell_type": "code",
   "execution_count": 4,
   "id": "0ac13d17",
   "metadata": {
    "ExecuteTime": {
     "end_time": "2022-02-09T06:44:38.803965Z",
     "start_time": "2022-02-09T06:44:38.788691Z"
    }
   },
   "outputs": [
    {
     "name": "stdout",
     "output_type": "stream",
     "text": [
      "12\n",
      "3.5\n",
      "314.1592653589793\n",
      "10.0\n"
     ]
    }
   ],
   "source": [
    "from mypkg.math import *\n",
    "print(cal.mul(3,4))\n",
    "print(cal.div(7,2))\n",
    "print(area.circle(10))\n",
    "print(area.triangle(5,4))\n",
    "\n",
    "# math안에 있는 두개의 파일을 한꺼번에 import하면 import하는 문장은 줄어들었지만 함수명에\n",
    "#출신 module을 덧붙여줘야 하는 번거로움을 감수해야한다. 또한 하나의 folder에 있는 여러 개의\n",
    "#module을 한꺼번에 import하기 위해서는 그 folder에 있는 \"__init__.py\"파일에다 반드시\n",
    "#그 module명들을 포함한 list를 __all__이라는 변수의 값으로 할당하는 문장을 넣어주어야한다."
   ]
  },
  {
   "cell_type": "code",
   "execution_count": 2,
   "id": "28ca08b6",
   "metadata": {
    "ExecuteTime": {
     "end_time": "2022-02-09T06:48:36.191376Z",
     "start_time": "2022-02-09T06:48:36.185875Z"
    }
   },
   "outputs": [
    {
     "name": "stdout",
     "output_type": "stream",
     "text": [
      "12\n",
      "314.1592653589793\n",
      "Matth1:   97.0원  23권\n"
     ]
    }
   ],
   "source": [
    "from mypkg import *\n",
    "print(math.cal.mul(3,4))\n",
    "print(math.area.circle(10))\n",
    "book0 = book.class_Book1.Book1(['Matth1',95,14])\n",
    "book0.change_price(97); book0.change_stock(9)\n",
    "book0.showinfo()\n",
    "\n",
    "#mypkg를 import하여 math와 book을 한번에 가져오기 위해서는 mypkg에 있는 \"__init__.py\"에다가\n",
    "#from .book import *, from .math import * 문장을 추가해야한다.\n",
    "#또한 Book1 class는 Book class의 child class이기 때문에 parent class인\n",
    "#class_Book.py파일을 book folder에 저장해야한다."
   ]
  },
  {
   "cell_type": "code",
   "execution_count": null,
   "id": "7e5ff9bf",
   "metadata": {},
   "outputs": [],
   "source": []
  }
 ],
 "metadata": {
  "kernelspec": {
   "display_name": "Python 3 (ipykernel)",
   "language": "python",
   "name": "python3"
  },
  "language_info": {
   "codemirror_mode": {
    "name": "ipython",
    "version": 3
   },
   "file_extension": ".py",
   "mimetype": "text/x-python",
   "name": "python",
   "nbconvert_exporter": "python",
   "pygments_lexer": "ipython3",
   "version": "3.9.7"
  },
  "toc": {
   "base_numbering": 1,
   "nav_menu": {},
   "number_sections": true,
   "sideBar": true,
   "skip_h1_title": false,
   "title_cell": "Table of Contents",
   "title_sidebar": "Contents",
   "toc_cell": false,
   "toc_position": {},
   "toc_section_display": true,
   "toc_window_display": false
  }
 },
 "nbformat": 4,
 "nbformat_minor": 5
}
