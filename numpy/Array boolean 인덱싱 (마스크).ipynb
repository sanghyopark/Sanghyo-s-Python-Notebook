{
 "cells": [
  {
   "cell_type": "code",
   "execution_count": 1,
   "id": "4fb45987",
   "metadata": {},
   "outputs": [],
   "source": [
    "import numpy as np"
   ]
  },
  {
   "cell_type": "code",
   "execution_count": 2,
   "id": "0252dddd",
   "metadata": {},
   "outputs": [
    {
     "data": {
      "text/plain": [
       "array(['Beomwoo', 'Bemwoo', 'Kim', 'Joan', 'Lee', 'Beomwoo', 'Park',\n",
       "       'Beomwoo'], dtype='<U7')"
      ]
     },
     "execution_count": 2,
     "metadata": {},
     "output_type": "execute_result"
    }
   ],
   "source": [
    "names = np.array(['Beomwoo','Bemwoo','Kim','Joan','Lee','Beomwoo','Park','Beomwoo'])\n",
    "names"
   ]
  },
  {
   "cell_type": "code",
   "execution_count": 3,
   "id": "4f9bd7ec",
   "metadata": {},
   "outputs": [
    {
     "data": {
      "text/plain": [
       "(8,)"
      ]
     },
     "execution_count": 3,
     "metadata": {},
     "output_type": "execute_result"
    }
   ],
   "source": [
    "names.shape"
   ]
  },
  {
   "cell_type": "code",
   "execution_count": 6,
   "id": "15f9c4c0",
   "metadata": {},
   "outputs": [
    {
     "data": {
      "text/plain": [
       "array([[-1.33983709,  0.38753615, -1.59149929, -1.14769466],\n",
       "       [-1.09105066,  0.77293973,  1.0587485 ,  0.58829177],\n",
       "       [-0.09108669,  0.07230086, -1.76196973,  0.36664878],\n",
       "       [ 1.12467909, -0.23258515, -0.39158065,  0.7567663 ],\n",
       "       [-0.31845384, -1.08102706,  0.69182289,  0.915221  ],\n",
       "       [ 0.45463799, -0.77485903,  1.64278572,  2.2332238 ],\n",
       "       [ 2.22095845, -0.14892573, -0.89451892, -1.22970396],\n",
       "       [-0.63199734, -0.69587933,  2.6647023 , -1.33270408]])"
      ]
     },
     "execution_count": 6,
     "metadata": {},
     "output_type": "execute_result"
    }
   ],
   "source": [
    "data = np.random.randn(8,4)\n",
    "data\n",
    "#np.random.randn() 함수는 기대값이 0이고 표준편차가 1인 가우시안 정규분표를 따르는 난수를 발생시킨다. 받은 크기만큼  array를 만든다."
   ]
  },
  {
   "cell_type": "code",
   "execution_count": 7,
   "id": "ce90bcba",
   "metadata": {},
   "outputs": [
    {
     "data": {
      "text/plain": [
       "(8, 4)"
      ]
     },
     "execution_count": 7,
     "metadata": {},
     "output_type": "execute_result"
    }
   ],
   "source": [
    "data.shape"
   ]
  },
  {
   "cell_type": "markdown",
   "id": "fad46bd7",
   "metadata": {},
   "source": [
    "위와 같은 names와 data라는 array가 있다.\n",
    "이때, names의 각 요소가 data의 각 행과 연결된다고 가정해보자\n",
    "그리고 이 때, names가 Beomwoo인 행의 data만 보고 싶을 때\n",
    "다음과 같이 마스크를 사용한다."
   ]
  },
  {
   "cell_type": "code",
   "execution_count": 8,
   "id": "b2675a31",
   "metadata": {},
   "outputs": [
    {
     "data": {
      "text/plain": [
       "array([ True, False, False, False, False,  True, False,  True])"
      ]
     },
     "execution_count": 8,
     "metadata": {},
     "output_type": "execute_result"
    }
   ],
   "source": [
    "names_Beomwoo_mask = (names == 'Beomwoo')\n",
    "names_Beomwoo_mask"
   ]
  },
  {
   "cell_type": "code",
   "execution_count": 9,
   "id": "bddf35d5",
   "metadata": {},
   "outputs": [
    {
     "data": {
      "text/plain": [
       "array([[-1.33983709,  0.38753615, -1.59149929, -1.14769466],\n",
       "       [ 0.45463799, -0.77485903,  1.64278572,  2.2332238 ],\n",
       "       [-0.63199734, -0.69587933,  2.6647023 , -1.33270408]])"
      ]
     },
     "execution_count": 9,
     "metadata": {},
     "output_type": "execute_result"
    }
   ],
   "source": [
    "data[names_Beomwoo_mask,:]"
   ]
  },
  {
   "cell_type": "markdown",
   "id": "fe2a497f",
   "metadata": {},
   "source": [
    "위의 결과를 보면, 요소가 Beomwoo인 것은 0번째, 1번째, 5번째, 7번째 이므로 data에서 0,1,5,7행의 모든 요소를 꺼내와야 한다\n",
    "이를 위해 요소가 Beomwoo인 것에 대한 boolean값을 가지는 mask를 만들었고 마스크를 인덱싱에 응용하여 data의 0,1,5,7행을 꺼냈다."
   ]
  },
  {
   "cell_type": "code",
   "execution_count": 10,
   "id": "083839ea",
   "metadata": {
    "scrolled": true
   },
   "outputs": [
    {
     "data": {
      "text/plain": [
       "array([[-0.09108669,  0.07230086, -1.76196973,  0.36664878]])"
      ]
     },
     "execution_count": 10,
     "metadata": {},
     "output_type": "execute_result"
    }
   ],
   "source": [
    "data[names == 'Kim',:]\n",
    "#요소가 Kim인 행의 데이터만 꺼내기"
   ]
  },
  {
   "cell_type": "code",
   "execution_count": 12,
   "id": "be21ef45",
   "metadata": {},
   "outputs": [
    {
     "data": {
      "text/plain": [
       "array([[-0.09108669,  0.07230086, -1.76196973,  0.36664878],\n",
       "       [ 2.22095845, -0.14892573, -0.89451892, -1.22970396]])"
      ]
     },
     "execution_count": 12,
     "metadata": {},
     "output_type": "execute_result"
    }
   ],
   "source": [
    "data[(names == 'Kim')|(names == 'Park'),:]\n",
    "#논리연산을 응용하여, 요소가 Kim 또는 Park인 행의 데이터만 꺼내기"
   ]
  },
  {
   "cell_type": "markdown",
   "id": "d536a64d",
   "metadata": {},
   "source": [
    "data array 자체적으로도 마스크를 만들고, 이를 응용하여 인덱싱이 가능하다.\n",
    "data array에서 0번째 열의 값이 0보다 작은 행을 구해보자."
   ]
  },
  {
   "cell_type": "code",
   "execution_count": 13,
   "id": "29d5fe9c",
   "metadata": {},
   "outputs": [
    {
     "data": {
      "text/plain": [
       "array([ True,  True,  True, False,  True, False, False,  True])"
      ]
     },
     "execution_count": 13,
     "metadata": {},
     "output_type": "execute_result"
    }
   ],
   "source": [
    "data[:,0] < 0\n",
    "#먼저 마스크를 만든다\n",
    "#data array에서 0번째 열이 0보다 작은 요소의 boolean값은 다음과 같다"
   ]
  },
  {
   "cell_type": "code",
   "execution_count": 14,
   "id": "03ebfba1",
   "metadata": {},
   "outputs": [
    {
     "data": {
      "text/plain": [
       "array([[-1.33983709,  0.38753615, -1.59149929, -1.14769466],\n",
       "       [-1.09105066,  0.77293973,  1.0587485 ,  0.58829177],\n",
       "       [-0.09108669,  0.07230086, -1.76196973,  0.36664878],\n",
       "       [-0.31845384, -1.08102706,  0.69182289,  0.915221  ],\n",
       "       [-0.63199734, -0.69587933,  2.6647023 , -1.33270408]])"
      ]
     },
     "execution_count": 14,
     "metadata": {},
     "output_type": "execute_result"
    }
   ],
   "source": [
    "data[data[:,0]<0,:]\n",
    "#위에서 만든 마스크를 이용하여 0번째 열의 값이 0보다 작은 행을 구한다."
   ]
  },
  {
   "cell_type": "markdown",
   "id": "fd06402a",
   "metadata": {},
   "source": [
    "이를 통해 특정 위치에만 우리가 원하는 값을 대입할 수 있다.\n",
    "위에서 얻은, 0번째 열의 값이 0보다 작은 행의 2,3번째 열값에 0을 대입해보자."
   ]
  },
  {
   "cell_type": "code",
   "execution_count": 15,
   "id": "e0439aa7",
   "metadata": {},
   "outputs": [
    {
     "data": {
      "text/plain": [
       "array([[-1.59149929, -1.14769466],\n",
       "       [ 1.0587485 ,  0.58829177],\n",
       "       [-1.76196973,  0.36664878],\n",
       "       [ 0.69182289,  0.915221  ],\n",
       "       [ 2.6647023 , -1.33270408]])"
      ]
     },
     "execution_count": 15,
     "metadata": {},
     "output_type": "execute_result"
    }
   ],
   "source": [
    "data[data[:,0]<0,2:4]\n",
    "#0번째 열의 값이 0보다 작은 행의 2,3번째 열 값"
   ]
  },
  {
   "cell_type": "code",
   "execution_count": null,
   "id": "0e53c51c",
   "metadata": {},
   "outputs": [],
   "source": []
  }
 ],
 "metadata": {
  "kernelspec": {
   "display_name": "Python 3 (ipykernel)",
   "language": "python",
   "name": "python3"
  },
  "language_info": {
   "codemirror_mode": {
    "name": "ipython",
    "version": 3
   },
   "file_extension": ".py",
   "mimetype": "text/x-python",
   "name": "python",
   "nbconvert_exporter": "python",
   "pygments_lexer": "ipython3",
   "version": "3.9.7"
  }
 },
 "nbformat": 4,
 "nbformat_minor": 5
}
