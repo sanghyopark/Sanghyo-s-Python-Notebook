{
 "cells": [
  {
   "cell_type": "markdown",
   "id": "beded8da",
   "metadata": {},
   "source": [
    "하나의 array에 적용되는 함수"
   ]
  },
  {
   "cell_type": "code",
   "execution_count": 1,
   "id": "ff56b943",
   "metadata": {},
   "outputs": [],
   "source": [
    "import numpy as np"
   ]
  },
  {
   "cell_type": "code",
   "execution_count": 2,
   "id": "7efcd8df",
   "metadata": {},
   "outputs": [
    {
     "data": {
      "text/plain": [
       "array([[-0.23140394,  0.33555542,  0.52347635],\n",
       "       [-0.01747135,  0.10191311, -1.40627927],\n",
       "       [-0.1569677 , -0.37141807, -0.78823118],\n",
       "       [ 0.75971329,  0.1045167 ,  1.40339088],\n",
       "       [-1.17493323, -0.04352878,  0.71667052]])"
      ]
     },
     "execution_count": 2,
     "metadata": {},
     "output_type": "execute_result"
    }
   ],
   "source": [
    "arr1 = np.random.randn(5,3)\n",
    "arr1"
   ]
  },
  {
   "cell_type": "code",
   "execution_count": 3,
   "id": "a29a6c22",
   "metadata": {},
   "outputs": [
    {
     "data": {
      "text/plain": [
       "array([[0.23140394, 0.33555542, 0.52347635],\n",
       "       [0.01747135, 0.10191311, 1.40627927],\n",
       "       [0.1569677 , 0.37141807, 0.78823118],\n",
       "       [0.75971329, 0.1045167 , 1.40339088],\n",
       "       [1.17493323, 0.04352878, 0.71667052]])"
      ]
     },
     "execution_count": 3,
     "metadata": {},
     "output_type": "execute_result"
    }
   ],
   "source": [
    "np.abs(arr1)\n",
    "#각 성분의 절대값"
   ]
  },
  {
   "cell_type": "code",
   "execution_count": 6,
   "id": "24faa7f6",
   "metadata": {},
   "outputs": [
    {
     "data": {
      "text/plain": [
       "array([[0.48104463, 0.57927146, 0.72351665],\n",
       "       [0.13217924, 0.31923833, 1.18586646],\n",
       "       [0.3961915 , 0.60944078, 0.88782384],\n",
       "       [0.87161533, 0.32329043, 1.184648  ],\n",
       "       [1.08394337, 0.20863552, 0.84656395]])"
      ]
     },
     "execution_count": 6,
     "metadata": {},
     "output_type": "execute_result"
    }
   ],
   "source": [
    "np.sqrt(np.abs(arr1))\n",
    "#각 성분의 제곱근"
   ]
  },
  {
   "cell_type": "code",
   "execution_count": 7,
   "id": "1cbec44c",
   "metadata": {},
   "outputs": [
    {
     "data": {
      "text/plain": [
       "array([[5.35477811e-02, 1.12597441e-01, 2.74027486e-01],\n",
       "       [3.05248151e-04, 1.03862818e-02, 1.97762137e+00],\n",
       "       [2.46388598e-02, 1.37951381e-01, 6.21308392e-01],\n",
       "       [5.77164280e-01, 1.09237414e-02, 1.96950596e+00],\n",
       "       [1.38046810e+00, 1.89475473e-03, 5.13616640e-01]])"
      ]
     },
     "execution_count": 7,
     "metadata": {},
     "output_type": "execute_result"
    }
   ],
   "source": [
    "np.square(arr1)\n",
    "#각 성분의 제곱 계산"
   ]
  },
  {
   "cell_type": "code",
   "execution_count": 8,
   "id": "79830c94",
   "metadata": {},
   "outputs": [
    {
     "data": {
      "text/plain": [
       "array([[0.79341891, 1.39871705, 1.68788514],\n",
       "       [0.98268039, 1.10728725, 0.24505337],\n",
       "       [0.85473166, 0.68975552, 0.45464828],\n",
       "       [2.13766324, 1.11017394, 4.06897399],\n",
       "       [0.3088396 , 0.957405  , 2.0476044 ]])"
      ]
     },
     "execution_count": 8,
     "metadata": {},
     "output_type": "execute_result"
    }
   ],
   "source": [
    "np.exp(arr1)\n",
    "#각 성분을 e의 지수로 삼은 값 계산"
   ]
  },
  {
   "cell_type": "code",
   "execution_count": 10,
   "id": "54a8de2c",
   "metadata": {},
   "outputs": [
    {
     "name": "stderr",
     "output_type": "stream",
     "text": [
      "C:\\Users\\shpar\\AppData\\Local\\Temp/ipykernel_32688/159011308.py:1: RuntimeWarning: invalid value encountered in log\n",
      "  np.log(arr1)\n",
      "C:\\Users\\shpar\\AppData\\Local\\Temp/ipykernel_32688/159011308.py:2: RuntimeWarning: invalid value encountered in log10\n",
      "  np.log10(arr1)\n",
      "C:\\Users\\shpar\\AppData\\Local\\Temp/ipykernel_32688/159011308.py:3: RuntimeWarning: invalid value encountered in log2\n",
      "  np.log2(arr1)\n"
     ]
    },
    {
     "data": {
      "text/plain": [
       "array([[        nan, -1.57537703, -0.93380374],\n",
       "       [        nan, -3.29458846,         nan],\n",
       "       [        nan,         nan,         nan],\n",
       "       [-0.39647304, -3.25819456,  0.48891689],\n",
       "       [        nan,         nan, -0.48061808]])"
      ]
     },
     "execution_count": 10,
     "metadata": {},
     "output_type": "execute_result"
    }
   ],
   "source": [
    "np.log(arr1)\n",
    "np.log10(arr1)\n",
    "np.log2(arr1)\n",
    "#각 성분을 로그를 씌운 값을 계산하기"
   ]
  },
  {
   "cell_type": "code",
   "execution_count": 11,
   "id": "20263915",
   "metadata": {},
   "outputs": [
    {
     "data": {
      "text/plain": [
       "array([[-1.,  1.,  1.],\n",
       "       [-1.,  1., -1.],\n",
       "       [-1., -1., -1.],\n",
       "       [ 1.,  1.,  1.],\n",
       "       [-1., -1.,  1.]])"
      ]
     },
     "execution_count": 11,
     "metadata": {},
     "output_type": "execute_result"
    }
   ],
   "source": [
    "np.sign(arr1)\n",
    "#각 성분의 부호 계산"
   ]
  },
  {
   "cell_type": "code",
   "execution_count": 12,
   "id": "1ad558bd",
   "metadata": {},
   "outputs": [
    {
     "data": {
      "text/plain": [
       "array([[-0.,  1.,  1.],\n",
       "       [-0.,  1., -1.],\n",
       "       [-0., -0., -0.],\n",
       "       [ 1.,  1.,  2.],\n",
       "       [-1., -0.,  1.]])"
      ]
     },
     "execution_count": 12,
     "metadata": {},
     "output_type": "execute_result"
    }
   ],
   "source": [
    "np.ceil(arr1)\n",
    "#각 성분의 소수 첫번째 자리 올림 값"
   ]
  },
  {
   "cell_type": "code",
   "execution_count": 13,
   "id": "dd05d587",
   "metadata": {},
   "outputs": [
    {
     "data": {
      "text/plain": [
       "array([[-1.,  0.,  0.],\n",
       "       [-1.,  0., -2.],\n",
       "       [-1., -1., -1.],\n",
       "       [ 0.,  0.,  1.],\n",
       "       [-2., -1.,  0.]])"
      ]
     },
     "execution_count": 13,
     "metadata": {},
     "output_type": "execute_result"
    }
   ],
   "source": [
    "np.floor(arr1)\n",
    "#각 성분의 소수 첫번째 자리 내림 값"
   ]
  },
  {
   "cell_type": "code",
   "execution_count": 14,
   "id": "dd0259c6",
   "metadata": {},
   "outputs": [
    {
     "data": {
      "text/plain": [
       "array([[False, False, False],\n",
       "       [False, False, False],\n",
       "       [False, False, False],\n",
       "       [False, False, False],\n",
       "       [False, False, False]])"
      ]
     },
     "execution_count": 14,
     "metadata": {},
     "output_type": "execute_result"
    }
   ],
   "source": [
    "np.isnan(arr1)\n",
    "#각 성분이 NaN인 경우 True를, 아닌 경우 False를 반환하기"
   ]
  },
  {
   "cell_type": "code",
   "execution_count": 16,
   "id": "bac2affe",
   "metadata": {},
   "outputs": [
    {
     "name": "stderr",
     "output_type": "stream",
     "text": [
      "C:\\Users\\shpar\\AppData\\Local\\Temp/ipykernel_32688/3789410203.py:1: RuntimeWarning: invalid value encountered in log\n",
      "  np.isnan(np.log(arr1))\n"
     ]
    },
    {
     "data": {
      "text/plain": [
       "array([[ True, False, False],\n",
       "       [ True, False,  True],\n",
       "       [ True,  True,  True],\n",
       "       [False, False, False],\n",
       "       [ True,  True, False]])"
      ]
     },
     "execution_count": 16,
     "metadata": {},
     "output_type": "execute_result"
    }
   ],
   "source": [
    "np.isnan(np.log(arr1))"
   ]
  },
  {
   "cell_type": "code",
   "execution_count": 17,
   "id": "3d26987d",
   "metadata": {},
   "outputs": [
    {
     "data": {
      "text/plain": [
       "array([[False, False, False],\n",
       "       [False, False, False],\n",
       "       [False, False, False],\n",
       "       [False, False, False],\n",
       "       [False, False, False]])"
      ]
     },
     "execution_count": 17,
     "metadata": {},
     "output_type": "execute_result"
    }
   ],
   "source": [
    "np.isinf(arr1)\n",
    "#각 성분이 무한대인 경우 True를, 아닌 경우 Flase를 반환"
   ]
  },
  {
   "cell_type": "code",
   "execution_count": 20,
   "id": "ddc6cae6",
   "metadata": {},
   "outputs": [
    {
     "data": {
      "text/plain": [
       "array([[0.97334537, 0.94422756, 0.86608661],\n",
       "       [0.99984738, 0.99481135, 0.16377593],\n",
       "       [0.98770584, 0.93181361, 0.7051007 ],\n",
       "       [0.7250335 , 0.9945431 , 0.16662463],\n",
       "       [0.38560468, 0.99905277, 0.75399696]])"
      ]
     },
     "execution_count": 20,
     "metadata": {},
     "output_type": "execute_result"
    }
   ],
   "source": [
    "np.cos(arr1)\n",
    "#각 성분에 삼각함수 값 계산"
   ]
  },
  {
   "cell_type": "code",
   "execution_count": 21,
   "id": "6a75adb6",
   "metadata": {},
   "outputs": [
    {
     "data": {
      "text/plain": [
       "array([[-0.22736014,  0.3235037 ,  0.48037861],\n",
       "       [-0.01746957,  0.10156174, -0.88670141],\n",
       "       [-0.15569111, -0.35523146, -0.65740584],\n",
       "       [ 0.64090805,  0.10413779,  0.8860824 ],\n",
       "       [-0.82584723, -0.04350131,  0.61484271]])"
      ]
     },
     "execution_count": 21,
     "metadata": {},
     "output_type": "execute_result"
    }
   ],
   "source": [
    "np.tanh(arr1)"
   ]
  },
  {
   "cell_type": "markdown",
   "id": "3db5a7a0",
   "metadata": {},
   "source": [
    "두 개의 array에 적용되는 함수"
   ]
  },
  {
   "cell_type": "code",
   "execution_count": 22,
   "id": "3be98c45",
   "metadata": {},
   "outputs": [
    {
     "data": {
      "text/plain": [
       "array([[-0.23140394,  0.33555542,  0.52347635],\n",
       "       [-0.01747135,  0.10191311, -1.40627927],\n",
       "       [-0.1569677 , -0.37141807, -0.78823118],\n",
       "       [ 0.75971329,  0.1045167 ,  1.40339088],\n",
       "       [-1.17493323, -0.04352878,  0.71667052]])"
      ]
     },
     "execution_count": 22,
     "metadata": {},
     "output_type": "execute_result"
    }
   ],
   "source": [
    "arr1"
   ]
  },
  {
   "cell_type": "code",
   "execution_count": 23,
   "id": "c98b3756",
   "metadata": {},
   "outputs": [
    {
     "data": {
      "text/plain": [
       "array([[ 0.17581431, -0.9942876 , -0.68279707],\n",
       "       [ 1.92432604, -0.71541626, -2.2039767 ],\n",
       "       [ 0.92335123, -1.07413472, -1.80763574],\n",
       "       [ 0.94213836,  1.16853817,  1.93816956],\n",
       "       [ 1.08340896, -0.96227318,  0.4740245 ]])"
      ]
     },
     "execution_count": 23,
     "metadata": {},
     "output_type": "execute_result"
    }
   ],
   "source": [
    "arr2 = np.random.randn(5,3)\n",
    "arr2"
   ]
  },
  {
   "cell_type": "code",
   "execution_count": 27,
   "id": "e1c7976d",
   "metadata": {},
   "outputs": [
    {
     "data": {
      "text/plain": [
       "array([[-1.31618376, -0.33748326, -0.76666461],\n",
       "       [-0.00907921, -0.14245288,  0.63806449],\n",
       "       [-0.16999783,  0.3457835 ,  0.43605642],\n",
       "       [ 0.80637125,  0.08944227,  0.72408055],\n",
       "       [-1.08447804,  0.04523537,  1.51188498]])"
      ]
     },
     "execution_count": 27,
     "metadata": {},
     "output_type": "execute_result"
    }
   ],
   "source": [
    "np.add(arr1,arr2)\n",
    "np.subtract(arr1,arr2)\n",
    "np.multiply(arr1,arr2)\n",
    "np.divide(arr1,arr2)\n",
    "\n",
    "\n",
    "#두 개의 array에 대해 동일한 위치의 성분끼리 연산하기"
   ]
  },
  {
   "cell_type": "code",
   "execution_count": 28,
   "id": "ad141919",
   "metadata": {},
   "outputs": [
    {
     "data": {
      "text/plain": [
       "array([[-0.23140394, -0.9942876 , -0.68279707],\n",
       "       [-0.01747135, -0.71541626, -2.2039767 ],\n",
       "       [-0.1569677 , -1.07413472, -1.80763574],\n",
       "       [ 0.75971329,  0.1045167 ,  1.40339088],\n",
       "       [-1.17493323, -0.96227318,  0.4740245 ]])"
      ]
     },
     "execution_count": 28,
     "metadata": {},
     "output_type": "execute_result"
    }
   ],
   "source": [
    "np.maximum(arr1,arr2)\n",
    "np.minimum(arr1,arr2)\n",
    "#두 개의 array에 대해 동일한 위치의 성분끼리 비교하여 최대값 또는 최소값 계산하기"
   ]
  },
  {
   "cell_type": "markdown",
   "id": "dd0f9fe1",
   "metadata": {},
   "source": [
    "통계 함수"
   ]
  },
  {
   "cell_type": "code",
   "execution_count": 29,
   "id": "31df3d6f",
   "metadata": {},
   "outputs": [
    {
     "data": {
      "text/plain": [
       "array([[-0.23140394,  0.33555542,  0.52347635],\n",
       "       [-0.01747135,  0.10191311, -1.40627927],\n",
       "       [-0.1569677 , -0.37141807, -0.78823118],\n",
       "       [ 0.75971329,  0.1045167 ,  1.40339088],\n",
       "       [-1.17493323, -0.04352878,  0.71667052]])"
      ]
     },
     "execution_count": 29,
     "metadata": {},
     "output_type": "execute_result"
    }
   ],
   "source": [
    "arr1"
   ]
  },
  {
   "cell_type": "code",
   "execution_count": 30,
   "id": "97cf6611",
   "metadata": {},
   "outputs": [
    {
     "data": {
      "text/plain": [
       "-0.24499724120578215"
      ]
     },
     "execution_count": 30,
     "metadata": {},
     "output_type": "execute_result"
    }
   ],
   "source": [
    "np.sum(arr1)\n",
    "#전체 성분의 합을 계산"
   ]
  },
  {
   "cell_type": "code",
   "execution_count": 31,
   "id": "c6ffbaaf",
   "metadata": {},
   "outputs": [
    {
     "data": {
      "text/plain": [
       "array([ 0.62762783, -1.32183751, -1.31661695,  2.26762087, -0.50179149])"
      ]
     },
     "execution_count": 31,
     "metadata": {},
     "output_type": "execute_result"
    }
   ],
   "source": [
    "np.sum(arr1,axis=1)\n",
    "#열 간의 합을 계산"
   ]
  },
  {
   "cell_type": "code",
   "execution_count": 32,
   "id": "aef50fac",
   "metadata": {},
   "outputs": [
    {
     "data": {
      "text/plain": [
       "array([-0.82106293,  0.12703839,  0.44902731])"
      ]
     },
     "execution_count": 32,
     "metadata": {},
     "output_type": "execute_result"
    }
   ],
   "source": [
    "np.sum(arr1,axis=0)\n",
    "#행 간의 합을 계산"
   ]
  },
  {
   "cell_type": "code",
   "execution_count": 33,
   "id": "3d03cf38",
   "metadata": {},
   "outputs": [
    {
     "data": {
      "text/plain": [
       "-0.01633314941371881"
      ]
     },
     "execution_count": 33,
     "metadata": {},
     "output_type": "execute_result"
    }
   ],
   "source": [
    "np.mean(arr1)\n",
    "#전체 성분의 평균을 계산"
   ]
  },
  {
   "cell_type": "code",
   "execution_count": 34,
   "id": "e9c188c0",
   "metadata": {},
   "outputs": [
    {
     "data": {
      "text/plain": [
       "array([-0.16421259,  0.02540768,  0.08980546])"
      ]
     },
     "execution_count": 34,
     "metadata": {},
     "output_type": "execute_result"
    }
   ],
   "source": [
    "np.mean(arr1, axis=0)\n",
    "#행 간의 평균을 계산"
   ]
  },
  {
   "cell_type": "code",
   "execution_count": 35,
   "id": "dceb000d",
   "metadata": {},
   "outputs": [
    {
     "data": {
      "text/plain": [
       "1.403390877941109"
      ]
     },
     "execution_count": 35,
     "metadata": {},
     "output_type": "execute_result"
    }
   ],
   "source": [
    "np.std(arr1)\n",
    "np.var(arr1)\n",
    "np.min(arr1)\n",
    "np.max(arr1)\n",
    "#전체 성분의 표준편차, 분산, 최소값, 최대값 계산(std, var, min, max)"
   ]
  },
  {
   "cell_type": "code",
   "execution_count": 37,
   "id": "16dfe6aa",
   "metadata": {},
   "outputs": [
    {
     "data": {
      "text/plain": [
       "array([-0.23140394, -1.40627927, -0.78823118,  0.1045167 , -1.17493323])"
      ]
     },
     "execution_count": 37,
     "metadata": {},
     "output_type": "execute_result"
    }
   ],
   "source": [
    "np.min(arr1,axis=1)"
   ]
  },
  {
   "cell_type": "code",
   "execution_count": 43,
   "id": "22bc0698",
   "metadata": {},
   "outputs": [
    {
     "data": {
      "text/plain": [
       "5"
      ]
     },
     "execution_count": 43,
     "metadata": {},
     "output_type": "execute_result"
    }
   ],
   "source": [
    "np.argmax(arr1)\n",
    "np.argmin(arr1)\n",
    "#전체 성분의 최소, 최대값이 위치한 인덱스를 반환"
   ]
  },
  {
   "cell_type": "code",
   "execution_count": 40,
   "id": "afa123cc",
   "metadata": {},
   "outputs": [
    {
     "data": {
      "text/plain": [
       "array([3, 0, 3], dtype=int64)"
      ]
     },
     "execution_count": 40,
     "metadata": {},
     "output_type": "execute_result"
    }
   ],
   "source": [
    "np.argmax(arr1,axis=0)\n",
    "#행간 최대값이 위치한 인덱스 반환"
   ]
  },
  {
   "cell_type": "code",
   "execution_count": 44,
   "id": "de4e3b88",
   "metadata": {},
   "outputs": [
    {
     "data": {
      "text/plain": [
       "array([-2.31403935e-01, -7.76488450e-02, -4.06473338e-02,  7.10163888e-04,\n",
       "        7.23750097e-05, -1.01779476e-04,  1.59760905e-05, -5.93380867e-06,\n",
       "        4.67721300e-06,  3.55334087e-06,  3.71383475e-07,  5.21196181e-07,\n",
       "       -6.12370712e-07,  2.66557503e-08,  1.91033905e-08])"
      ]
     },
     "execution_count": 44,
     "metadata": {},
     "output_type": "execute_result"
    }
   ],
   "source": [
    "np.cumsum(arr1)\n",
    "np.cumprod(arr1)\n",
    "#맨 처음 성분부터 각 성분까지의 누적합 또는 누적곲을 계산"
   ]
  },
  {
   "cell_type": "code",
   "execution_count": 45,
   "id": "db23f926",
   "metadata": {},
   "outputs": [
    {
     "data": {
      "text/plain": [
       "array([[-0.23140394,  0.10415149,  0.62762783],\n",
       "       [-0.01747135,  0.08444176, -1.32183751],\n",
       "       [-0.1569677 , -0.52838577, -1.31661695],\n",
       "       [ 0.75971329,  0.86422999,  2.26762087],\n",
       "       [-1.17493323, -1.21846201, -0.50179149]])"
      ]
     },
     "execution_count": 45,
     "metadata": {},
     "output_type": "execute_result"
    }
   ],
   "source": [
    "np.cumsum(arr1,axis=1)"
   ]
  },
  {
   "cell_type": "markdown",
   "id": "7ba66b9c",
   "metadata": {},
   "source": [
    "기타 함수"
   ]
  },
  {
   "cell_type": "code",
   "execution_count": 46,
   "id": "8a1c912e",
   "metadata": {},
   "outputs": [
    {
     "data": {
      "text/plain": [
       "array([[-0.23140394,  0.33555542,  0.52347635],\n",
       "       [-0.01747135,  0.10191311, -1.40627927],\n",
       "       [-0.1569677 , -0.37141807, -0.78823118],\n",
       "       [ 0.75971329,  0.1045167 ,  1.40339088],\n",
       "       [-1.17493323, -0.04352878,  0.71667052]])"
      ]
     },
     "execution_count": 46,
     "metadata": {},
     "output_type": "execute_result"
    }
   ],
   "source": [
    "arr1"
   ]
  },
  {
   "cell_type": "code",
   "execution_count": 47,
   "id": "f8e632b3",
   "metadata": {},
   "outputs": [
    {
     "data": {
      "text/plain": [
       "array([[-0.23140394,  0.33555542,  0.52347635],\n",
       "       [-1.40627927, -0.01747135,  0.10191311],\n",
       "       [-0.78823118, -0.37141807, -0.1569677 ],\n",
       "       [ 0.1045167 ,  0.75971329,  1.40339088],\n",
       "       [-1.17493323, -0.04352878,  0.71667052]])"
      ]
     },
     "execution_count": 47,
     "metadata": {},
     "output_type": "execute_result"
    }
   ],
   "source": [
    "np.sort(arr1)\n",
    "#전체 성분에 대해서 오름차순으로 정렬"
   ]
  },
  {
   "cell_type": "code",
   "execution_count": 50,
   "id": "77ee0b13",
   "metadata": {},
   "outputs": [
    {
     "data": {
      "text/plain": [
       "array([[-1.17493323, -0.04352878,  0.71667052],\n",
       "       [ 0.1045167 ,  0.75971329,  1.40339088],\n",
       "       [-0.78823118, -0.37141807, -0.1569677 ],\n",
       "       [-1.40627927, -0.01747135,  0.10191311],\n",
       "       [-0.23140394,  0.33555542,  0.52347635]])"
      ]
     },
     "execution_count": 50,
     "metadata": {},
     "output_type": "execute_result"
    }
   ],
   "source": [
    "np.sort(arr1)[::-1]\n",
    "#전체 성분에 대해서 내림차 순으로 정렬"
   ]
  },
  {
   "cell_type": "code",
   "execution_count": 51,
   "id": "8a72f09b",
   "metadata": {},
   "outputs": [
    {
     "data": {
      "text/plain": [
       "array([[-1.17493323, -0.37141807, -1.40627927],\n",
       "       [-0.23140394, -0.04352878, -0.78823118],\n",
       "       [-0.1569677 ,  0.10191311,  0.52347635],\n",
       "       [-0.01747135,  0.1045167 ,  0.71667052],\n",
       "       [ 0.75971329,  0.33555542,  1.40339088]])"
      ]
     },
     "execution_count": 51,
     "metadata": {},
     "output_type": "execute_result"
    }
   ],
   "source": [
    "np.sort(arr1,axis=0)\n",
    "#행 방향으로 오름차순으로 정렬"
   ]
  },
  {
   "cell_type": "code",
   "execution_count": null,
   "id": "724713e2",
   "metadata": {},
   "outputs": [],
   "source": []
  }
 ],
 "metadata": {
  "kernelspec": {
   "display_name": "Python 3 (ipykernel)",
   "language": "python",
   "name": "python3"
  },
  "language_info": {
   "codemirror_mode": {
    "name": "ipython",
    "version": 3
   },
   "file_extension": ".py",
   "mimetype": "text/x-python",
   "name": "python",
   "nbconvert_exporter": "python",
   "pygments_lexer": "ipython3",
   "version": "3.9.7"
  }
 },
 "nbformat": 4,
 "nbformat_minor": 5
}
