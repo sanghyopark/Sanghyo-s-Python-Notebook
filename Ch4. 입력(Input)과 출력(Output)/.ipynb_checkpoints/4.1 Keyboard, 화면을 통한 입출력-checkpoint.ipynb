{
 "cells": [
  {
   "cell_type": "code",
   "execution_count": 2,
   "id": "a64880eb",
   "metadata": {
    "ExecuteTime": {
     "end_time": "2022-01-27T07:19:00.750669Z",
     "start_time": "2022-01-27T07:18:59.734757Z"
    }
   },
   "outputs": [
    {
     "name": "stdout",
     "output_type": "stream",
     "text": [
      "x값을 입력하세요: 12\n"
     ]
    }
   ],
   "source": [
    "x = input('x값을 입력하세요: ')"
   ]
  },
  {
   "cell_type": "code",
   "execution_count": 3,
   "id": "16c08035",
   "metadata": {
    "ExecuteTime": {
     "end_time": "2022-01-27T07:19:25.952801Z",
     "start_time": "2022-01-27T07:19:25.932797Z"
    }
   },
   "outputs": [
    {
     "data": {
      "text/plain": [
       "'12'"
      ]
     },
     "execution_count": 3,
     "metadata": {},
     "output_type": "execute_result"
    }
   ],
   "source": [
    "x #input은 항상 입력을 문자로 받아들인다."
   ]
  },
  {
   "cell_type": "code",
   "execution_count": 4,
   "id": "54024026",
   "metadata": {
    "ExecuteTime": {
     "end_time": "2022-01-27T07:19:49.152816Z",
     "start_time": "2022-01-27T07:19:47.949569Z"
    }
   },
   "outputs": [
    {
     "name": "stdout",
     "output_type": "stream",
     "text": [
      "x값을 입력하세요: 12\n"
     ]
    }
   ],
   "source": [
    "x = int(input('x값을 입력하세요: '))"
   ]
  },
  {
   "cell_type": "code",
   "execution_count": 5,
   "id": "0d04797b",
   "metadata": {
    "ExecuteTime": {
     "end_time": "2022-01-27T07:19:53.549777Z",
     "start_time": "2022-01-27T07:19:53.533275Z"
    }
   },
   "outputs": [
    {
     "data": {
      "text/plain": [
       "12"
      ]
     },
     "execution_count": 5,
     "metadata": {},
     "output_type": "execute_result"
    }
   ],
   "source": [
    "x"
   ]
  },
  {
   "cell_type": "code",
   "execution_count": 6,
   "id": "416a9970",
   "metadata": {
    "ExecuteTime": {
     "end_time": "2022-01-27T07:20:07.989402Z",
     "start_time": "2022-01-27T07:20:06.697337Z"
    }
   },
   "outputs": [
    {
     "name": "stdout",
     "output_type": "stream",
     "text": [
      "y = 12\n"
     ]
    }
   ],
   "source": [
    "y = float(input('y = '))"
   ]
  },
  {
   "cell_type": "code",
   "execution_count": 7,
   "id": "264770be",
   "metadata": {
    "ExecuteTime": {
     "end_time": "2022-01-27T07:20:09.726642Z",
     "start_time": "2022-01-27T07:20:09.709139Z"
    }
   },
   "outputs": [
    {
     "data": {
      "text/plain": [
       "12.0"
      ]
     },
     "execution_count": 7,
     "metadata": {},
     "output_type": "execute_result"
    }
   ],
   "source": [
    "y"
   ]
  },
  {
   "cell_type": "markdown",
   "id": "19242c61",
   "metadata": {},
   "source": [
    "#  4.1.1 %-Formatting"
   ]
  },
  {
   "cell_type": "code",
   "execution_count": 9,
   "id": "0977f67e",
   "metadata": {
    "ExecuteTime": {
     "end_time": "2022-01-27T07:23:25.322058Z",
     "start_time": "2022-01-27T07:23:25.306055Z"
    }
   },
   "outputs": [
    {
     "name": "stdout",
     "output_type": "stream",
     "text": [
      "x=   2, y=  0.33: Sum x+y= 2.333  ,  1.6e+06\n"
     ]
    }
   ],
   "source": [
    "x = 2; y = 1/3; z = 1628000\n",
    "print('x= %3d, y= %5.2f: %s %-7.3f, %8.1e' %(x,y,'Sum x+y=',x+y,z))"
   ]
  },
  {
   "cell_type": "code",
   "execution_count": 13,
   "id": "4b8f82d9",
   "metadata": {
    "ExecuteTime": {
     "end_time": "2022-01-27T07:26:17.862788Z",
     "start_time": "2022-01-27T07:26:17.852286Z"
    }
   },
   "outputs": [
    {
     "name": "stdout",
     "output_type": "stream",
     "text": [
      "012"
     ]
    }
   ],
   "source": [
    "for i in range(0,3):\n",
    "    print(i, end='')"
   ]
  },
  {
   "cell_type": "code",
   "execution_count": 16,
   "id": "f44d010c",
   "metadata": {
    "ExecuteTime": {
     "end_time": "2022-01-27T07:26:20.416900Z",
     "start_time": "2022-01-27T07:26:20.402898Z"
    }
   },
   "outputs": [
    {
     "name": "stdout",
     "output_type": "stream",
     "text": [
      "0, 1, 2, "
     ]
    }
   ],
   "source": [
    "for i in range(0,3):\n",
    "    print(i, end=', ')"
   ]
  },
  {
   "cell_type": "code",
   "execution_count": 15,
   "id": "c428465e",
   "metadata": {
    "ExecuteTime": {
     "end_time": "2022-01-27T07:26:18.154744Z",
     "start_time": "2022-01-27T07:26:18.146243Z"
    }
   },
   "outputs": [
    {
     "name": "stdout",
     "output_type": "stream",
     "text": [
      "0\n",
      "1\n",
      "2\n"
     ]
    }
   ],
   "source": [
    "for i in range(0,3):\n",
    "    print(i)"
   ]
  },
  {
   "cell_type": "markdown",
   "id": "35cd5334",
   "metadata": {},
   "source": [
    "# 4.1.2 String Formatting"
   ]
  },
  {
   "cell_type": "code",
   "execution_count": 17,
   "id": "95c56f85",
   "metadata": {
    "ExecuteTime": {
     "end_time": "2022-01-27T07:28:19.561470Z",
     "start_time": "2022-01-27T07:28:19.552969Z"
    }
   },
   "outputs": [
    {
     "name": "stdout",
     "output_type": "stream",
     "text": [
      "x=   2, y = 0.3333333333333333:   Sum x+y=   2.333\n"
     ]
    }
   ],
   "source": [
    "x = 2; y = 1/3\n",
    "print('x= {:3d}, y = {}:{:>11} {:7.3f}'.format(x,y,'Sum x+y=',x+y))"
   ]
  },
  {
   "cell_type": "code",
   "execution_count": 19,
   "id": "43bbe05c",
   "metadata": {
    "ExecuteTime": {
     "end_time": "2022-01-27T07:30:19.345750Z",
     "start_time": "2022-01-27T07:30:19.337749Z"
    }
   },
   "outputs": [
    {
     "name": "stdout",
     "output_type": "stream",
     "text": [
      "y= 0.3333333333333333, x =   2:Sum x+y=   2.333\n"
     ]
    }
   ],
   "source": [
    "x = 2; y = 1/3\n",
    "print('y= {1}, x = {0:3d}:{2} {3:7.3f}'.format(x,y,'Sum x+y=',x+y))\n",
    "#format의 순서대로 하기 싫다면 index를 넣어준다"
   ]
  },
  {
   "cell_type": "code",
   "execution_count": 21,
   "id": "6505fc4a",
   "metadata": {
    "ExecuteTime": {
     "end_time": "2022-01-27T07:32:07.725822Z",
     "start_time": "2022-01-27T07:32:07.722321Z"
    }
   },
   "outputs": [
    {
     "name": "stdout",
     "output_type": "stream",
     "text": [
      "y=0.3333333333333333, x=2:Sum=        2.333\n"
     ]
    }
   ],
   "source": [
    "x = 2; y = 1/3\n",
    "print('y={y}, x={x}:{s:9} {sum:7.3f}'.format(x=x,y=y,s='Sum=',sum=x+y))\n",
    "#이름을 지정해주어서 쓸수도 있다."
   ]
  },
  {
   "cell_type": "markdown",
   "id": "01c420dd",
   "metadata": {},
   "source": [
    "# 4.1.3 f - String"
   ]
  },
  {
   "cell_type": "code",
   "execution_count": 22,
   "id": "eb4088c9",
   "metadata": {
    "ExecuteTime": {
     "end_time": "2022-01-27T07:33:26.544252Z",
     "start_time": "2022-01-27T07:33:26.529750Z"
    }
   },
   "outputs": [
    {
     "name": "stdout",
     "output_type": "stream",
     "text": [
      "x =   2, y = 0.3333333333333333: Sum x+y=   2.333\n"
     ]
    }
   ],
   "source": [
    "x = 2; y = 1/3\n",
    "print(f'x = {x:3d}, y = {y}: Sum x+y= {x+y:7.3f}')"
   ]
  },
  {
   "cell_type": "code",
   "execution_count": 23,
   "id": "e7a68d56",
   "metadata": {
    "ExecuteTime": {
     "end_time": "2022-01-27T07:34:13.911763Z",
     "start_time": "2022-01-27T07:34:13.894760Z"
    }
   },
   "outputs": [
    {
     "data": {
      "text/plain": [
       "\"t1= (1, 2, 'Sum', 5)\""
      ]
     },
     "execution_count": 23,
     "metadata": {},
     "output_type": "execute_result"
    }
   ],
   "source": [
    "t1 = (1,2,'Sum',5)\n",
    "str_to_print = 't1= %s' %str(t1); str_to_print\n",
    "# %-Formatting으로 print하려면 str형 data로 변환시켜주어야하지만\n",
    "#String formatting이나 f-string을 사용한다면 그럴 필요가 없다."
   ]
  },
  {
   "cell_type": "code",
   "execution_count": 27,
   "id": "ab0a9e71",
   "metadata": {
    "ExecuteTime": {
     "end_time": "2022-01-27T07:36:06.381440Z",
     "start_time": "2022-01-27T07:36:06.375439Z"
    }
   },
   "outputs": [
    {
     "data": {
      "text/plain": [
       "\"t1= (1, 2, 'Sum', 5)\""
      ]
     },
     "execution_count": 27,
     "metadata": {},
     "output_type": "execute_result"
    }
   ],
   "source": [
    "'t1= {}'.format(t1)"
   ]
  },
  {
   "cell_type": "code",
   "execution_count": 26,
   "id": "7b7a942c",
   "metadata": {
    "ExecuteTime": {
     "end_time": "2022-01-27T07:36:05.025208Z",
     "start_time": "2022-01-27T07:36:05.019707Z"
    }
   },
   "outputs": [
    {
     "data": {
      "text/plain": [
       "\"t1= (1, 2, 'Sum', 5)\""
      ]
     },
     "execution_count": 26,
     "metadata": {},
     "output_type": "execute_result"
    }
   ],
   "source": [
    "f't1= {t1}'"
   ]
  },
  {
   "cell_type": "code",
   "execution_count": null,
   "id": "82c5f795",
   "metadata": {},
   "outputs": [],
   "source": []
  }
 ],
 "metadata": {
  "kernelspec": {
   "display_name": "Python 3 (ipykernel)",
   "language": "python",
   "name": "python3"
  },
  "language_info": {
   "codemirror_mode": {
    "name": "ipython",
    "version": 3
   },
   "file_extension": ".py",
   "mimetype": "text/x-python",
   "name": "python",
   "nbconvert_exporter": "python",
   "pygments_lexer": "ipython3",
   "version": "3.9.7"
  },
  "toc": {
   "base_numbering": 1,
   "nav_menu": {},
   "number_sections": true,
   "sideBar": true,
   "skip_h1_title": false,
   "title_cell": "Table of Contents",
   "title_sidebar": "Contents",
   "toc_cell": false,
   "toc_position": {},
   "toc_section_display": true,
   "toc_window_display": false
  }
 },
 "nbformat": 4,
 "nbformat_minor": 5
}
