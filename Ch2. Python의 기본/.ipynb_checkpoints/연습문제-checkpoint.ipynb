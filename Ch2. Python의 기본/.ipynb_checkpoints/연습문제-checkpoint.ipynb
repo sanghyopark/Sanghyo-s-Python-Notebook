{
 "cells": [
  {
   "cell_type": "code",
   "execution_count": 6,
   "id": "f24ce551",
   "metadata": {
    "ExecuteTime": {
     "end_time": "2022-01-26T03:21:34.447672Z",
     "start_time": "2022-01-26T03:21:34.433170Z"
    }
   },
   "outputs": [],
   "source": [
    "from IPython.core.interactiveshell import InteractiveShell\n",
    "InteractiveShell.ast_node_interactivity = \"all\""
   ]
  },
  {
   "cell_type": "markdown",
   "id": "24675e7b",
   "metadata": {},
   "source": [
    "# 2.1 숫자(Number)"
   ]
  },
  {
   "cell_type": "code",
   "execution_count": 8,
   "id": "859c432c",
   "metadata": {
    "ExecuteTime": {
     "end_time": "2022-01-25T10:37:04.122124Z",
     "start_time": "2022-01-25T10:37:04.114623Z"
    },
    "code_folding": []
   },
   "outputs": [
    {
     "data": {
      "text/plain": [
       "81"
      ]
     },
     "execution_count": 8,
     "metadata": {},
     "output_type": "execute_result"
    }
   ],
   "source": [
    "#(a)\n",
    "3**4"
   ]
  },
  {
   "cell_type": "code",
   "execution_count": 3,
   "id": "868dd315",
   "metadata": {
    "ExecuteTime": {
     "end_time": "2022-01-25T10:35:24.199808Z",
     "start_time": "2022-01-25T10:35:24.192306Z"
    }
   },
   "outputs": [
    {
     "data": {
      "text/plain": [
       "(3.5, 3, 1)"
      ]
     },
     "execution_count": 3,
     "metadata": {},
     "output_type": "execute_result"
    }
   ],
   "source": [
    "#(b)\n",
    "7/2, 7//2, 7%2"
   ]
  },
  {
   "cell_type": "code",
   "execution_count": 5,
   "id": "84f6c632",
   "metadata": {
    "ExecuteTime": {
     "end_time": "2022-01-25T10:36:14.264906Z",
     "start_time": "2022-01-25T10:36:14.251705Z"
    }
   },
   "outputs": [
    {
     "data": {
      "text/plain": [
       "(11, 15, 60)"
      ]
     },
     "execution_count": 5,
     "metadata": {},
     "output_type": "execute_result"
    }
   ],
   "source": [
    "#(c)\n",
    "0b1011, 0o17, 0x3c"
   ]
  },
  {
   "cell_type": "code",
   "execution_count": 6,
   "id": "71413196",
   "metadata": {
    "ExecuteTime": {
     "end_time": "2022-01-25T10:36:24.260882Z",
     "start_time": "2022-01-25T10:36:24.255880Z"
    }
   },
   "outputs": [
    {
     "data": {
      "text/plain": [
       "('0b1011', '0o17', '0x3c')"
      ]
     },
     "execution_count": 6,
     "metadata": {},
     "output_type": "execute_result"
    }
   ],
   "source": [
    "#(d)\n",
    "bin(11), oct(15), hex(60)"
   ]
  },
  {
   "cell_type": "code",
   "execution_count": 7,
   "id": "3ac001be",
   "metadata": {
    "ExecuteTime": {
     "end_time": "2022-01-25T10:36:36.087123Z",
     "start_time": "2022-01-25T10:36:36.083123Z"
    }
   },
   "outputs": [
    {
     "data": {
      "text/plain": [
       "(3, 1)"
      ]
     },
     "execution_count": 7,
     "metadata": {},
     "output_type": "execute_result"
    }
   ],
   "source": [
    "#(f)\n",
    "q, r = divmod(7,2); q, r"
   ]
  },
  {
   "cell_type": "markdown",
   "id": "42d5c5eb",
   "metadata": {},
   "source": [
    "# 2.2 Raw String"
   ]
  },
  {
   "cell_type": "code",
   "execution_count": 2,
   "id": "9ed3c4cc",
   "metadata": {
    "ExecuteTime": {
     "end_time": "2022-01-25T23:20:47.361230Z",
     "start_time": "2022-01-25T23:20:47.355729Z"
    }
   },
   "outputs": [],
   "source": [
    "#(a)\n",
    "sa = '\\' Python\\' \\n is fun.\\\\n'"
   ]
  },
  {
   "cell_type": "code",
   "execution_count": 3,
   "id": "bb63e5e2",
   "metadata": {
    "ExecuteTime": {
     "end_time": "2022-01-25T23:20:47.546104Z",
     "start_time": "2022-01-25T23:20:47.537603Z"
    }
   },
   "outputs": [
    {
     "data": {
      "text/plain": [
       "\"' Python' \\n is fun.\\\\n\""
      ]
     },
     "execution_count": 3,
     "metadata": {},
     "output_type": "execute_result"
    }
   ],
   "source": [
    "sa"
   ]
  },
  {
   "cell_type": "code",
   "execution_count": 4,
   "id": "10a121a0",
   "metadata": {
    "ExecuteTime": {
     "end_time": "2022-01-25T23:20:47.714183Z",
     "start_time": "2022-01-25T23:20:47.710682Z"
    }
   },
   "outputs": [
    {
     "name": "stdout",
     "output_type": "stream",
     "text": [
      "' Python' \n",
      " is fun.\\n\n"
     ]
    }
   ],
   "source": [
    "print(sa)"
   ]
  },
  {
   "cell_type": "code",
   "execution_count": 5,
   "id": "0fde0c0b",
   "metadata": {
    "ExecuteTime": {
     "end_time": "2022-01-25T23:20:47.898389Z",
     "start_time": "2022-01-25T23:20:47.881385Z"
    }
   },
   "outputs": [
    {
     "name": "stdout",
     "output_type": "stream",
     "text": [
      "b\"' Python' \\\\n is fun.\\\\\\\\n\"\n"
     ]
    }
   ],
   "source": [
    "#(a1)\n",
    "print(sa.encode(\"unicode_escape\"))"
   ]
  },
  {
   "cell_type": "code",
   "execution_count": 6,
   "id": "15b4abf2",
   "metadata": {
    "ExecuteTime": {
     "end_time": "2022-01-25T23:21:21.422727Z",
     "start_time": "2022-01-25T23:21:21.412226Z"
    }
   },
   "outputs": [
    {
     "name": "stdout",
     "output_type": "stream",
     "text": [
      "' Python' \\n is fun.\\\\n\n"
     ]
    }
   ],
   "source": [
    "#(a2)\n",
    "print(sa.encode(\"unicode_escape\").decode(\"utf-8\"))"
   ]
  },
  {
   "cell_type": "code",
   "execution_count": 7,
   "id": "893795cb",
   "metadata": {
    "ExecuteTime": {
     "end_time": "2022-01-25T23:21:48.121532Z",
     "start_time": "2022-01-25T23:21:48.108030Z"
    }
   },
   "outputs": [
    {
     "name": "stdout",
     "output_type": "stream",
     "text": [
      "\"' Python' \\n is fun.\\\\n\"\n"
     ]
    }
   ],
   "source": [
    "#(a3)\n",
    "print(repr(sa))"
   ]
  },
  {
   "cell_type": "code",
   "execution_count": 12,
   "id": "97d180b1",
   "metadata": {
    "ExecuteTime": {
     "end_time": "2022-01-25T23:23:42.068689Z",
     "start_time": "2022-01-25T23:23:42.061687Z"
    }
   },
   "outputs": [],
   "source": [
    "#(b)\n",
    "sb = r'python \\n is fun.' + '\\\\n' # r: Raw string"
   ]
  },
  {
   "cell_type": "code",
   "execution_count": 13,
   "id": "cc25db1e",
   "metadata": {
    "ExecuteTime": {
     "end_time": "2022-01-25T23:23:42.298885Z",
     "start_time": "2022-01-25T23:23:42.296384Z"
    }
   },
   "outputs": [
    {
     "name": "stdout",
     "output_type": "stream",
     "text": [
      "===================\n",
      "python \\n is fun.\\n\n",
      "===================\n"
     ]
    }
   ],
   "source": [
    "#(b1)\n",
    "print(\"=\"*19 + '\\n' + sb + '\\n' + \"=\"*19)"
   ]
  },
  {
   "cell_type": "code",
   "execution_count": 14,
   "id": "4bd28818",
   "metadata": {
    "ExecuteTime": {
     "end_time": "2022-01-25T23:24:20.000014Z",
     "start_time": "2022-01-25T23:24:19.984012Z"
    }
   },
   "outputs": [
    {
     "name": "stdout",
     "output_type": "stream",
     "text": [
      "python n.\\ n.\\n n.\\n \\n\n"
     ]
    }
   ],
   "source": [
    "#(b2)\n",
    "print(sb[:6], sb[-4:-1], sb[-4:], sb[len(sb)-4:], sb[7:9])"
   ]
  },
  {
   "cell_type": "markdown",
   "id": "94944607",
   "metadata": {},
   "source": [
    "# 2.3 문자열(String)의 교정"
   ]
  },
  {
   "cell_type": "code",
   "execution_count": 15,
   "id": "a0a66c84",
   "metadata": {
    "ExecuteTime": {
     "end_time": "2022-01-25T23:26:53.807618Z",
     "start_time": "2022-01-25T23:26:53.793116Z"
    }
   },
   "outputs": [],
   "source": [
    "data = '20200414는 대한민국 총선이자 한일전 날짜입니다.'"
   ]
  },
  {
   "cell_type": "code",
   "execution_count": 17,
   "id": "a8c31e07",
   "metadata": {
    "ExecuteTime": {
     "end_time": "2022-01-25T23:27:26.541218Z",
     "start_time": "2022-01-25T23:27:26.530716Z"
    }
   },
   "outputs": [
    {
     "ename": "TypeError",
     "evalue": "'str' object does not support item assignment",
     "output_type": "error",
     "traceback": [
      "\u001b[1;31m---------------------------------------------------------------------------\u001b[0m",
      "\u001b[1;31mTypeError\u001b[0m                                 Traceback (most recent call last)",
      "\u001b[1;32m~\\AppData\\Local\\Temp/ipykernel_17944/1363126414.py\u001b[0m in \u001b[0;36m<module>\u001b[1;34m\u001b[0m\n\u001b[0;32m      1\u001b[0m \u001b[1;31m#(a)\u001b[0m\u001b[1;33m\u001b[0m\u001b[1;33m\u001b[0m\u001b[0m\n\u001b[1;32m----> 2\u001b[1;33m \u001b[0mdata\u001b[0m\u001b[1;33m[\u001b[0m\u001b[1;36m4\u001b[0m\u001b[1;33m:\u001b[0m\u001b[1;36m8\u001b[0m\u001b[1;33m]\u001b[0m \u001b[1;33m=\u001b[0m \u001b[1;34m'0415'\u001b[0m\u001b[1;33m\u001b[0m\u001b[1;33m\u001b[0m\u001b[0m\n\u001b[0m",
      "\u001b[1;31mTypeError\u001b[0m: 'str' object does not support item assignment"
     ]
    }
   ],
   "source": [
    "#(a)\n",
    "data[4:8] = '0415'"
   ]
  },
  {
   "cell_type": "code",
   "execution_count": 24,
   "id": "02db5620",
   "metadata": {
    "ExecuteTime": {
     "end_time": "2022-01-25T23:29:28.550168Z",
     "start_time": "2022-01-25T23:29:28.547168Z"
    }
   },
   "outputs": [
    {
     "name": "stdout",
     "output_type": "stream",
     "text": [
      "20200415는 대한민국 총선이자 한일전 날짜입니다.\n"
     ]
    }
   ],
   "source": [
    "#(b)\n",
    "data1 = data[:6] + '15' + data[8:]; print(data1)"
   ]
  },
  {
   "cell_type": "code",
   "execution_count": 29,
   "id": "2d7e56b9",
   "metadata": {
    "ExecuteTime": {
     "end_time": "2022-01-25T23:33:38.057054Z",
     "start_time": "2022-01-25T23:33:38.042050Z"
    }
   },
   "outputs": [
    {
     "name": "stdout",
     "output_type": "stream",
     "text": [
      "20200415는 대한민국 총선이자 한일전 날짜입니다.\n"
     ]
    }
   ],
   "source": [
    "#(c)\n",
    "data2 = data.replace('14','15'); print(data2)"
   ]
  },
  {
   "cell_type": "code",
   "execution_count": 30,
   "id": "b1f799eb",
   "metadata": {
    "ExecuteTime": {
     "end_time": "2022-01-25T23:33:44.538467Z",
     "start_time": "2022-01-25T23:33:44.533467Z"
    }
   },
   "outputs": [
    {
     "name": "stdout",
     "output_type": "stream",
     "text": [
      "선거일: 2020년 04월 15일\n"
     ]
    }
   ],
   "source": [
    "#(d)\n",
    "print(f'선거일: {data2[:4]}년 {data2[4:6]}월 {data2[6:8]}일')"
   ]
  },
  {
   "cell_type": "markdown",
   "id": "875d4b0b",
   "metadata": {},
   "source": [
    "#  2.4 문자열(String)의 교정"
   ]
  },
  {
   "cell_type": "code",
   "execution_count": 40,
   "id": "d5763dcd",
   "metadata": {
    "ExecuteTime": {
     "end_time": "2022-01-25T23:43:10.339487Z",
     "start_time": "2022-01-25T23:43:10.326486Z"
    }
   },
   "outputs": [],
   "source": [
    "s = '내 이름은      홍길똥인데 똥을     자주 쌉니다.'"
   ]
  },
  {
   "cell_type": "code",
   "execution_count": 41,
   "id": "98392a96",
   "metadata": {
    "ExecuteTime": {
     "end_time": "2022-01-25T23:43:10.508617Z",
     "start_time": "2022-01-25T23:43:10.500115Z"
    }
   },
   "outputs": [
    {
     "data": {
      "text/plain": [
       "'내 이름은      홍길동인데 똥을     자주 쌉니다.'"
      ]
     },
     "execution_count": 41,
     "metadata": {},
     "output_type": "execute_result"
    }
   ],
   "source": [
    "#(a)\n",
    "s.replace('똥','동', 1)"
   ]
  },
  {
   "cell_type": "code",
   "execution_count": 43,
   "id": "2ff1754b",
   "metadata": {
    "ExecuteTime": {
     "end_time": "2022-01-25T23:43:29.926253Z",
     "start_time": "2022-01-25T23:43:29.913751Z"
    }
   },
   "outputs": [
    {
     "name": "stdout",
     "output_type": "stream",
     "text": [
      "내 이름은 홍길똥인데 똥을 자주 쌉니다.\n"
     ]
    }
   ],
   "source": [
    "#(b)\n",
    "s1 = ' '.join(s.split( )); print(s1)"
   ]
  },
  {
   "cell_type": "markdown",
   "id": "dedff683",
   "metadata": {},
   "source": [
    "# 2.5 문자열(String)의 Formatting"
   ]
  },
  {
   "cell_type": "code",
   "execution_count": 44,
   "id": "b1ba9646",
   "metadata": {
    "ExecuteTime": {
     "end_time": "2022-01-25T23:44:25.421867Z",
     "start_time": "2022-01-25T23:44:25.407364Z"
    }
   },
   "outputs": [],
   "source": [
    "weekday = '화'; temp = 27.6"
   ]
  },
  {
   "cell_type": "code",
   "execution_count": 45,
   "id": "245c3621",
   "metadata": {
    "ExecuteTime": {
     "end_time": "2022-01-25T23:44:53.239493Z",
     "start_time": "2022-01-25T23:44:53.230496Z"
    }
   },
   "outputs": [
    {
     "name": "stdout",
     "output_type": "stream",
     "text": [
      "오늘은 화요일, 온도는  28 도\n"
     ]
    }
   ],
   "source": [
    "print('오늘은 %s요일, 온도는 %3.0f 도' %(weekday,temp))"
   ]
  },
  {
   "cell_type": "code",
   "execution_count": 48,
   "id": "facc161e",
   "metadata": {
    "ExecuteTime": {
     "end_time": "2022-01-25T23:45:44.087688Z",
     "start_time": "2022-01-25T23:45:44.079186Z"
    }
   },
   "outputs": [
    {
     "name": "stdout",
     "output_type": "stream",
     "text": [
      "오늘은 화요일, 온도는  28도\n"
     ]
    }
   ],
   "source": [
    "print('오늘은 {:s}요일, 온도는 {:3.0f}도'.format(weekday,temp))"
   ]
  },
  {
   "cell_type": "code",
   "execution_count": 53,
   "id": "c4bff886",
   "metadata": {
    "ExecuteTime": {
     "end_time": "2022-01-25T23:47:19.698357Z",
     "start_time": "2022-01-25T23:47:19.683856Z"
    }
   },
   "outputs": [
    {
     "name": "stdout",
     "output_type": "stream",
     "text": [
      "오늘은 화요일, 온도는 27.6도\n"
     ]
    }
   ],
   "source": [
    "print('오늘은 {0}요일, 온도는 {1}도'.format(weekday,temp))"
   ]
  },
  {
   "cell_type": "code",
   "execution_count": 54,
   "id": "517f3370",
   "metadata": {
    "ExecuteTime": {
     "end_time": "2022-01-25T23:47:41.765414Z",
     "start_time": "2022-01-25T23:47:41.759914Z"
    }
   },
   "outputs": [
    {
     "name": "stdout",
     "output_type": "stream",
     "text": [
      "오늘은 화요일, 온도는 27.6도\n"
     ]
    }
   ],
   "source": [
    "print(f'오늘은 {weekday:s}요일, 온도는 {temp:.1f}도')"
   ]
  },
  {
   "cell_type": "markdown",
   "id": "2d107577",
   "metadata": {},
   "source": [
    "# 2.6 List"
   ]
  },
  {
   "cell_type": "code",
   "execution_count": 56,
   "id": "4a8e6803",
   "metadata": {
    "ExecuteTime": {
     "end_time": "2022-01-26T00:32:32.223540Z",
     "start_time": "2022-01-26T00:32:32.217539Z"
    }
   },
   "outputs": [
    {
     "data": {
      "text/plain": [
       "[0, 2, 4]"
      ]
     },
     "execution_count": 56,
     "metadata": {},
     "output_type": "execute_result"
    }
   ],
   "source": [
    "#(a)\n",
    "La = list(range(5)); La[0:5:2]"
   ]
  },
  {
   "cell_type": "code",
   "execution_count": 57,
   "id": "8c3eeafa",
   "metadata": {
    "ExecuteTime": {
     "end_time": "2022-01-26T00:32:54.820764Z",
     "start_time": "2022-01-26T00:32:54.802761Z"
    }
   },
   "outputs": [
    {
     "data": {
      "text/plain": [
       "[3, 2]"
      ]
     },
     "execution_count": 57,
     "metadata": {},
     "output_type": "execute_result"
    }
   ],
   "source": [
    "#(b)\n",
    "Lb = list(range(1,4)); Lb[3:0:-1]"
   ]
  },
  {
   "cell_type": "code",
   "execution_count": 58,
   "id": "cf565090",
   "metadata": {
    "ExecuteTime": {
     "end_time": "2022-01-26T00:33:24.874534Z",
     "start_time": "2022-01-26T00:33:24.860031Z"
    }
   },
   "outputs": [
    {
     "data": {
      "text/plain": [
       "[5, 3, 1]"
      ]
     },
     "execution_count": 58,
     "metadata": {},
     "output_type": "execute_result"
    }
   ],
   "source": [
    "#(c)\n",
    "Lc = list(range(1,7,2)); Lc[::-1]"
   ]
  },
  {
   "cell_type": "code",
   "execution_count": 64,
   "id": "826d185a",
   "metadata": {
    "ExecuteTime": {
     "end_time": "2022-01-26T00:34:36.379781Z",
     "start_time": "2022-01-26T00:34:36.373282Z"
    }
   },
   "outputs": [
    {
     "data": {
      "text/plain": [
       "[-2, 4, 1]"
      ]
     },
     "execution_count": 64,
     "metadata": {},
     "output_type": "execute_result"
    }
   ],
   "source": [
    "#(d)\n",
    "Ld = list(range(4,-3,-3)); Ld[-1:] + Ld[:-1]"
   ]
  },
  {
   "cell_type": "markdown",
   "id": "2376aae0",
   "metadata": {},
   "source": [
    "# 2.7 List"
   ]
  },
  {
   "cell_type": "code",
   "execution_count": 65,
   "id": "5c397f36",
   "metadata": {
    "ExecuteTime": {
     "end_time": "2022-01-26T00:35:28.561072Z",
     "start_time": "2022-01-26T00:35:28.549069Z"
    }
   },
   "outputs": [],
   "source": [
    "L = [4,2]"
   ]
  },
  {
   "cell_type": "code",
   "execution_count": 66,
   "id": "b9831721",
   "metadata": {
    "ExecuteTime": {
     "end_time": "2022-01-26T00:35:39.248007Z",
     "start_time": "2022-01-26T00:35:39.245006Z"
    }
   },
   "outputs": [
    {
     "data": {
      "text/plain": [
       "[4, 2, 4, 2]"
      ]
     },
     "execution_count": 66,
     "metadata": {},
     "output_type": "execute_result"
    }
   ],
   "source": [
    "#(a)\n",
    "L1 = L*2; L1"
   ]
  },
  {
   "cell_type": "code",
   "execution_count": 67,
   "id": "0769ffa2",
   "metadata": {
    "ExecuteTime": {
     "end_time": "2022-01-26T00:35:56.565929Z",
     "start_time": "2022-01-26T00:35:56.554927Z"
    }
   },
   "outputs": [
    {
     "data": {
      "text/plain": [
       "[4, 2, 4, 2, 5, 3]"
      ]
     },
     "execution_count": 67,
     "metadata": {},
     "output_type": "execute_result"
    }
   ],
   "source": [
    "#(b)\n",
    "L1.extend([5,3]); L1"
   ]
  },
  {
   "cell_type": "code",
   "execution_count": 68,
   "id": "3bac8275",
   "metadata": {
    "ExecuteTime": {
     "end_time": "2022-01-26T00:36:06.703917Z",
     "start_time": "2022-01-26T00:36:06.687914Z"
    }
   },
   "outputs": [
    {
     "data": {
      "text/plain": [
       "[2, 4, 2, 5, 3]"
      ]
     },
     "execution_count": 68,
     "metadata": {},
     "output_type": "execute_result"
    }
   ],
   "source": [
    "L1.remove(4); L1"
   ]
  },
  {
   "cell_type": "code",
   "execution_count": 69,
   "id": "fe8712ef",
   "metadata": {
    "ExecuteTime": {
     "end_time": "2022-01-26T00:36:22.857080Z",
     "start_time": "2022-01-26T00:36:22.854580Z"
    }
   },
   "outputs": [
    {
     "data": {
      "text/plain": [
       "[2, 4, 2]"
      ]
     },
     "execution_count": 69,
     "metadata": {},
     "output_type": "execute_result"
    }
   ],
   "source": [
    "L1.pop(), L1.pop(3); L1"
   ]
  },
  {
   "cell_type": "code",
   "execution_count": 70,
   "id": "c5b4e69b",
   "metadata": {
    "ExecuteTime": {
     "end_time": "2022-01-26T00:36:46.183630Z",
     "start_time": "2022-01-26T00:36:46.172629Z"
    }
   },
   "outputs": [
    {
     "data": {
      "text/plain": [
       "[2, 3, 4, 2]"
      ]
     },
     "execution_count": 70,
     "metadata": {},
     "output_type": "execute_result"
    }
   ],
   "source": [
    "L1.insert(1,3); L1"
   ]
  },
  {
   "cell_type": "code",
   "execution_count": 71,
   "id": "36479a55",
   "metadata": {
    "ExecuteTime": {
     "end_time": "2022-01-26T00:37:30.319056Z",
     "start_time": "2022-01-26T00:37:30.308555Z"
    }
   },
   "outputs": [
    {
     "data": {
      "text/plain": [
       "[2, 3, 4, 2, 7]"
      ]
     },
     "execution_count": 71,
     "metadata": {},
     "output_type": "execute_result"
    }
   ],
   "source": [
    "L1.append(7); L1"
   ]
  },
  {
   "cell_type": "code",
   "execution_count": 72,
   "id": "f0334775",
   "metadata": {
    "ExecuteTime": {
     "end_time": "2022-01-26T00:37:38.807751Z",
     "start_time": "2022-01-26T00:37:38.797749Z"
    }
   },
   "outputs": [
    {
     "data": {
      "text/plain": [
       "2"
      ]
     },
     "execution_count": 72,
     "metadata": {},
     "output_type": "execute_result"
    }
   ],
   "source": [
    "L1.count(2)"
   ]
  },
  {
   "cell_type": "code",
   "execution_count": 73,
   "id": "9712089c",
   "metadata": {
    "ExecuteTime": {
     "end_time": "2022-01-26T00:37:43.530074Z",
     "start_time": "2022-01-26T00:37:43.523073Z"
    }
   },
   "outputs": [
    {
     "data": {
      "text/plain": [
       "[2, 2, 3, 4, 7]"
      ]
     },
     "execution_count": 73,
     "metadata": {},
     "output_type": "execute_result"
    }
   ],
   "source": [
    "L1.sort(); L1"
   ]
  },
  {
   "cell_type": "code",
   "execution_count": 74,
   "id": "b35b843c",
   "metadata": {
    "ExecuteTime": {
     "end_time": "2022-01-26T00:37:49.396852Z",
     "start_time": "2022-01-26T00:37:49.379348Z"
    }
   },
   "outputs": [
    {
     "data": {
      "text/plain": [
       "[7, 4, 3, 2, 2]"
      ]
     },
     "execution_count": 74,
     "metadata": {},
     "output_type": "execute_result"
    }
   ],
   "source": [
    "L1.reverse(); L1"
   ]
  },
  {
   "cell_type": "code",
   "execution_count": 75,
   "id": "a9d56f39",
   "metadata": {
    "ExecuteTime": {
     "end_time": "2022-01-26T00:38:01.238799Z",
     "start_time": "2022-01-26T00:38:01.225297Z"
    }
   },
   "outputs": [
    {
     "data": {
      "text/plain": [
       "['b', 'a', 4, 2]"
      ]
     },
     "execution_count": 75,
     "metadata": {},
     "output_type": "execute_result"
    }
   ],
   "source": [
    "L2 = ['b','a'] + L; L2"
   ]
  },
  {
   "cell_type": "code",
   "execution_count": 76,
   "id": "0a5b80db",
   "metadata": {
    "ExecuteTime": {
     "end_time": "2022-01-26T00:38:13.217987Z",
     "start_time": "2022-01-26T00:38:13.201984Z"
    }
   },
   "outputs": [
    {
     "data": {
      "text/plain": [
       "['b', 8, 4, 2]"
      ]
     },
     "execution_count": 76,
     "metadata": {},
     "output_type": "execute_result"
    }
   ],
   "source": [
    "L2[1] = 8; L2"
   ]
  },
  {
   "cell_type": "code",
   "execution_count": 77,
   "id": "fbb22afa",
   "metadata": {
    "ExecuteTime": {
     "end_time": "2022-01-26T00:38:21.400015Z",
     "start_time": "2022-01-26T00:38:21.392014Z"
    }
   },
   "outputs": [
    {
     "data": {
      "text/plain": [
       "2"
      ]
     },
     "execution_count": 77,
     "metadata": {},
     "output_type": "execute_result"
    }
   ],
   "source": [
    "L2.index(4)"
   ]
  },
  {
   "cell_type": "code",
   "execution_count": 78,
   "id": "3e92c951",
   "metadata": {
    "ExecuteTime": {
     "end_time": "2022-01-26T00:38:30.388934Z",
     "start_time": "2022-01-26T00:38:30.380432Z"
    }
   },
   "outputs": [
    {
     "data": {
      "text/plain": [
       "4"
      ]
     },
     "execution_count": 78,
     "metadata": {},
     "output_type": "execute_result"
    }
   ],
   "source": [
    "len(L2)"
   ]
  },
  {
   "cell_type": "code",
   "execution_count": 79,
   "id": "b7d1a0aa",
   "metadata": {
    "ExecuteTime": {
     "end_time": "2022-01-26T00:38:37.611481Z",
     "start_time": "2022-01-26T00:38:37.596479Z"
    }
   },
   "outputs": [
    {
     "data": {
      "text/plain": [
       "['P', 'y', 't', 'h', 'o', 'n']"
      ]
     },
     "execution_count": 79,
     "metadata": {},
     "output_type": "execute_result"
    }
   ],
   "source": [
    "list('Python')"
   ]
  },
  {
   "cell_type": "code",
   "execution_count": 80,
   "id": "87147eed",
   "metadata": {
    "ExecuteTime": {
     "end_time": "2022-01-26T00:39:00.637495Z",
     "start_time": "2022-01-26T00:39:00.630994Z"
    }
   },
   "outputs": [
    {
     "name": "stdout",
     "output_type": "stream",
     "text": [
      "1 3\n"
     ]
    }
   ],
   "source": [
    "a, b = [1,3]; print(a,b)"
   ]
  },
  {
   "cell_type": "markdown",
   "id": "399693ca",
   "metadata": {},
   "source": [
    "# 2.8 List 내 List, 즉 Nested List의 Indexing"
   ]
  },
  {
   "cell_type": "code",
   "execution_count": 81,
   "id": "f6b8c6c0",
   "metadata": {
    "ExecuteTime": {
     "end_time": "2022-01-26T00:39:48.590376Z",
     "start_time": "2022-01-26T00:39:48.580374Z"
    }
   },
   "outputs": [],
   "source": [
    "L = [4,2,['a','b','c']]"
   ]
  },
  {
   "cell_type": "code",
   "execution_count": 83,
   "id": "ba8aa819",
   "metadata": {
    "ExecuteTime": {
     "end_time": "2022-01-26T00:40:19.306227Z",
     "start_time": "2022-01-26T00:40:19.303727Z"
    }
   },
   "outputs": [
    {
     "data": {
      "text/plain": [
       "'b'"
      ]
     },
     "execution_count": 83,
     "metadata": {},
     "output_type": "execute_result"
    }
   ],
   "source": [
    "L[2][1]"
   ]
  },
  {
   "cell_type": "markdown",
   "id": "529fb1b5",
   "metadata": {},
   "source": [
    "#  2.9 input()함수와 str.split() method"
   ]
  },
  {
   "cell_type": "code",
   "execution_count": 84,
   "id": "d30a8f97",
   "metadata": {
    "ExecuteTime": {
     "end_time": "2022-01-26T00:41:28.490413Z",
     "start_time": "2022-01-26T00:41:17.180037Z"
    }
   },
   "outputs": [
    {
     "name": "stdout",
     "output_type": "stream",
     "text": [
      "x: 1 2 #\n"
     ]
    }
   ],
   "source": [
    "#(a)\n",
    "x = input('x: ')"
   ]
  },
  {
   "cell_type": "code",
   "execution_count": 85,
   "id": "e7885444",
   "metadata": {
    "ExecuteTime": {
     "end_time": "2022-01-26T00:41:40.897948Z",
     "start_time": "2022-01-26T00:41:40.887447Z"
    }
   },
   "outputs": [
    {
     "data": {
      "text/plain": [
       "(['1', '2', '#'], list)"
      ]
     },
     "execution_count": 85,
     "metadata": {},
     "output_type": "execute_result"
    }
   ],
   "source": [
    "x = x.split(); x, type(x)"
   ]
  },
  {
   "cell_type": "code",
   "execution_count": 86,
   "id": "af321680",
   "metadata": {
    "ExecuteTime": {
     "end_time": "2022-01-26T00:42:13.170262Z",
     "start_time": "2022-01-26T00:42:09.159865Z"
    }
   },
   "outputs": [
    {
     "name": "stdout",
     "output_type": "stream",
     "text": [
      "x: 1 2 #\n"
     ]
    }
   ],
   "source": [
    "#(b)\n",
    "x = input('x: ').split()"
   ]
  },
  {
   "cell_type": "code",
   "execution_count": 87,
   "id": "f78bdb4b",
   "metadata": {
    "ExecuteTime": {
     "end_time": "2022-01-26T00:42:20.860690Z",
     "start_time": "2022-01-26T00:42:20.849689Z"
    }
   },
   "outputs": [
    {
     "data": {
      "text/plain": [
       "(['1', '2', '#'], list)"
      ]
     },
     "execution_count": 87,
     "metadata": {},
     "output_type": "execute_result"
    }
   ],
   "source": [
    "x, type(x)"
   ]
  },
  {
   "cell_type": "markdown",
   "id": "14755e77",
   "metadata": {},
   "source": [
    "# 2.10 str.split() method와 str.strip() method"
   ]
  },
  {
   "cell_type": "code",
   "execution_count": 88,
   "id": "e0d3bf36",
   "metadata": {
    "ExecuteTime": {
     "end_time": "2022-01-26T00:42:55.586295Z",
     "start_time": "2022-01-26T00:42:55.584295Z"
    }
   },
   "outputs": [],
   "source": [
    "s = 'Aa, Bb, Cc'"
   ]
  },
  {
   "cell_type": "code",
   "execution_count": 89,
   "id": "fc520fc7",
   "metadata": {
    "ExecuteTime": {
     "end_time": "2022-01-26T00:43:13.861324Z",
     "start_time": "2022-01-26T00:43:13.856824Z"
    }
   },
   "outputs": [
    {
     "data": {
      "text/plain": [
       "['Aa,', 'Bb,', 'Cc']"
      ]
     },
     "execution_count": 89,
     "metadata": {},
     "output_type": "execute_result"
    }
   ],
   "source": [
    "#(a)\n",
    "s1 = s.split(); s1"
   ]
  },
  {
   "cell_type": "code",
   "execution_count": 90,
   "id": "cbc7f7aa",
   "metadata": {
    "ExecuteTime": {
     "end_time": "2022-01-26T00:43:31.009517Z",
     "start_time": "2022-01-26T00:43:30.999015Z"
    }
   },
   "outputs": [
    {
     "data": {
      "text/plain": [
       "['Aa', ' Bb', ' Cc']"
      ]
     },
     "execution_count": 90,
     "metadata": {},
     "output_type": "execute_result"
    }
   ],
   "source": [
    "s2 = s.split(','); s2"
   ]
  },
  {
   "cell_type": "code",
   "execution_count": 92,
   "id": "13b59606",
   "metadata": {
    "ExecuteTime": {
     "end_time": "2022-01-26T00:45:44.325588Z",
     "start_time": "2022-01-26T00:45:44.315587Z"
    }
   },
   "outputs": [
    {
     "data": {
      "text/plain": [
       "['Aa', 'Bb', 'Cc']"
      ]
     },
     "execution_count": 92,
     "metadata": {},
     "output_type": "execute_result"
    }
   ],
   "source": [
    "#(b)\n",
    "sb1 = list(map(lambda x: x.strip(','), s1)); sb1"
   ]
  },
  {
   "cell_type": "code",
   "execution_count": 94,
   "id": "1d1788bd",
   "metadata": {
    "ExecuteTime": {
     "end_time": "2022-01-26T00:46:48.885936Z",
     "start_time": "2022-01-26T00:46:48.872934Z"
    }
   },
   "outputs": [
    {
     "data": {
      "text/plain": [
       "['Aa', 'Bb', 'Cc']"
      ]
     },
     "execution_count": 94,
     "metadata": {},
     "output_type": "execute_result"
    }
   ],
   "source": [
    "sb2 = list(map(lambda x: x.strip(), s2)); sb2"
   ]
  },
  {
   "cell_type": "markdown",
   "id": "018100f2",
   "metadata": {},
   "source": [
    "# 2.11 숫자(Number)로 구성된 List의 정렬(Sorting)"
   ]
  },
  {
   "cell_type": "code",
   "execution_count": 95,
   "id": "c34cbb76",
   "metadata": {
    "ExecuteTime": {
     "end_time": "2022-01-26T00:47:21.424173Z",
     "start_time": "2022-01-26T00:47:21.419173Z"
    }
   },
   "outputs": [],
   "source": [
    "L = [4, -2, 3, -1]"
   ]
  },
  {
   "cell_type": "code",
   "execution_count": 96,
   "id": "9b20aa6f",
   "metadata": {
    "ExecuteTime": {
     "end_time": "2022-01-26T00:47:44.850062Z",
     "start_time": "2022-01-26T00:47:44.844062Z"
    }
   },
   "outputs": [
    {
     "data": {
      "text/plain": [
       "[-2, -1, 3, 4]"
      ]
     },
     "execution_count": 96,
     "metadata": {},
     "output_type": "execute_result"
    }
   ],
   "source": [
    "#(a)\n",
    "L.sort(); L"
   ]
  },
  {
   "cell_type": "code",
   "execution_count": 97,
   "id": "69fec6e4",
   "metadata": {
    "ExecuteTime": {
     "end_time": "2022-01-26T00:47:53.866898Z",
     "start_time": "2022-01-26T00:47:53.861897Z"
    }
   },
   "outputs": [
    {
     "data": {
      "text/plain": [
       "[4, 3, -1, -2]"
      ]
     },
     "execution_count": 97,
     "metadata": {},
     "output_type": "execute_result"
    }
   ],
   "source": [
    "L.sort(reverse=True); L"
   ]
  },
  {
   "cell_type": "code",
   "execution_count": 98,
   "id": "50d98926",
   "metadata": {
    "ExecuteTime": {
     "end_time": "2022-01-26T00:48:08.210408Z",
     "start_time": "2022-01-26T00:48:08.197905Z"
    }
   },
   "outputs": [
    {
     "name": "stdout",
     "output_type": "stream",
     "text": [
      "None [-2, -1, 3, 4]\n"
     ]
    }
   ],
   "source": [
    "L1 = L.sort(); print(L1,L)"
   ]
  },
  {
   "cell_type": "code",
   "execution_count": 99,
   "id": "9588c800",
   "metadata": {
    "ExecuteTime": {
     "end_time": "2022-01-26T00:49:06.271174Z",
     "start_time": "2022-01-26T00:49:06.261672Z"
    }
   },
   "outputs": [
    {
     "data": {
      "text/plain": [
       "[-2, -1, 3, 4]"
      ]
     },
     "execution_count": 99,
     "metadata": {},
     "output_type": "execute_result"
    }
   ],
   "source": [
    "#(b)\n",
    "L2 = sorted(L); L2"
   ]
  },
  {
   "cell_type": "code",
   "execution_count": 101,
   "id": "0fc1b5f6",
   "metadata": {
    "ExecuteTime": {
     "end_time": "2022-01-26T00:49:31.916520Z",
     "start_time": "2022-01-26T00:49:31.903017Z"
    }
   },
   "outputs": [
    {
     "data": {
      "text/plain": [
       "[4, 3, -1, -2]"
      ]
     },
     "execution_count": 101,
     "metadata": {},
     "output_type": "execute_result"
    }
   ],
   "source": [
    "L3 = sorted(L, reverse=True); L3"
   ]
  },
  {
   "cell_type": "code",
   "execution_count": 103,
   "id": "713a1f5a",
   "metadata": {
    "ExecuteTime": {
     "end_time": "2022-01-26T00:50:25.705850Z",
     "start_time": "2022-01-26T00:50:25.690847Z"
    }
   },
   "outputs": [
    {
     "data": {
      "text/plain": [
       "[-1, -2, 3, 4]"
      ]
     },
     "execution_count": 103,
     "metadata": {},
     "output_type": "execute_result"
    }
   ],
   "source": [
    "#(c)\n",
    "Lc = sorted(L, key=abs); Lc"
   ]
  },
  {
   "cell_type": "markdown",
   "id": "ec20cd82",
   "metadata": {},
   "source": [
    "#  2.12 문자열(String)로 구성된 List의 정렬(Sorting)"
   ]
  },
  {
   "cell_type": "code",
   "execution_count": 104,
   "id": "56855860",
   "metadata": {
    "ExecuteTime": {
     "end_time": "2022-01-26T00:51:08.343470Z",
     "start_time": "2022-01-26T00:51:08.326467Z"
    }
   },
   "outputs": [],
   "source": [
    "L = ['robert', 'Bob', 'Ted']"
   ]
  },
  {
   "cell_type": "code",
   "execution_count": 105,
   "id": "16dab977",
   "metadata": {
    "ExecuteTime": {
     "end_time": "2022-01-26T00:51:19.052033Z",
     "start_time": "2022-01-26T00:51:19.042031Z"
    }
   },
   "outputs": [
    {
     "data": {
      "text/plain": [
       "['Bob', 'Ted', 'robert']"
      ]
     },
     "execution_count": 105,
     "metadata": {},
     "output_type": "execute_result"
    }
   ],
   "source": [
    "#(a)\n",
    "L.sort(); L"
   ]
  },
  {
   "cell_type": "code",
   "execution_count": 106,
   "id": "61ea76a4",
   "metadata": {
    "ExecuteTime": {
     "end_time": "2022-01-26T00:51:29.140688Z",
     "start_time": "2022-01-26T00:51:29.133687Z"
    }
   },
   "outputs": [
    {
     "data": {
      "text/plain": [
       "['robert', 'Ted', 'Bob']"
      ]
     },
     "execution_count": 106,
     "metadata": {},
     "output_type": "execute_result"
    }
   ],
   "source": [
    "L.sort(reverse=True); L"
   ]
  },
  {
   "cell_type": "code",
   "execution_count": 111,
   "id": "8aab20cc",
   "metadata": {
    "ExecuteTime": {
     "end_time": "2022-01-26T00:57:17.382639Z",
     "start_time": "2022-01-26T00:57:17.365636Z"
    }
   },
   "outputs": [
    {
     "data": {
      "text/plain": [
       "['Bob', 'Ted', 'robert']"
      ]
     },
     "execution_count": 111,
     "metadata": {},
     "output_type": "execute_result"
    },
    {
     "data": {
      "text/plain": [
       "['robert', 'Ted', 'Bob']"
      ]
     },
     "execution_count": 111,
     "metadata": {},
     "output_type": "execute_result"
    }
   ],
   "source": [
    "#(b)\n",
    "L1 = sorted(L); L1\n",
    "L2 = sorted(L, reverse=True); L2"
   ]
  },
  {
   "cell_type": "code",
   "execution_count": 112,
   "id": "0f804716",
   "metadata": {
    "ExecuteTime": {
     "end_time": "2022-01-26T00:58:26.425918Z",
     "start_time": "2022-01-26T00:58:26.419416Z"
    }
   },
   "outputs": [
    {
     "data": {
      "text/plain": [
       "['Ted', 'Bob', 'robert']"
      ]
     },
     "execution_count": 112,
     "metadata": {},
     "output_type": "execute_result"
    }
   ],
   "source": [
    "#(c)\n",
    "Lc = sorted(L, key=len); Lc"
   ]
  },
  {
   "cell_type": "code",
   "execution_count": 113,
   "id": "65fe77b1",
   "metadata": {
    "ExecuteTime": {
     "end_time": "2022-01-26T00:59:21.394961Z",
     "start_time": "2022-01-26T00:59:21.388460Z"
    }
   },
   "outputs": [
    {
     "data": {
      "text/plain": [
       "['Bob', 'robert', 'Ted']"
      ]
     },
     "execution_count": 113,
     "metadata": {},
     "output_type": "execute_result"
    }
   ],
   "source": [
    "#(d)\n",
    "Ld = sorted(L, key =lambda x: x.upper()); Ld"
   ]
  },
  {
   "cell_type": "markdown",
   "id": "218446e5",
   "metadata": {},
   "source": [
    "# 2.13 Nested List의 다중 기준에 의한 정렬(Sorting)"
   ]
  },
  {
   "cell_type": "code",
   "execution_count": 114,
   "id": "2d136e0e",
   "metadata": {
    "ExecuteTime": {
     "end_time": "2022-01-26T01:00:22.295911Z",
     "start_time": "2022-01-26T01:00:22.279408Z"
    }
   },
   "outputs": [],
   "source": [
    "L = [['Park',96],['Bob',85],['Adam',85],['Robert',77]]"
   ]
  },
  {
   "cell_type": "code",
   "execution_count": 115,
   "id": "d3ffc3b3",
   "metadata": {
    "ExecuteTime": {
     "end_time": "2022-01-26T01:00:43.470903Z",
     "start_time": "2022-01-26T01:00:43.465902Z"
    }
   },
   "outputs": [
    {
     "data": {
      "text/plain": [
       "[['Adam', 85], ['Bob', 85], ['Park', 96], ['Robert', 77]]"
      ]
     },
     "execution_count": 115,
     "metadata": {},
     "output_type": "execute_result"
    }
   ],
   "source": [
    "#(a)\n",
    "La = sorted(L, key=lambda x: x[0]); La"
   ]
  },
  {
   "cell_type": "code",
   "execution_count": 117,
   "id": "2be4407e",
   "metadata": {
    "ExecuteTime": {
     "end_time": "2022-01-26T01:01:21.865897Z",
     "start_time": "2022-01-26T01:01:21.859396Z"
    }
   },
   "outputs": [
    {
     "data": {
      "text/plain": [
       "[['Robert', 77], ['Bob', 85], ['Adam', 85], ['Park', 96]]"
      ]
     },
     "execution_count": 117,
     "metadata": {},
     "output_type": "execute_result"
    }
   ],
   "source": [
    "#(b)\n",
    "Lb = sorted(L, key=lambda x: x[1]); Lb"
   ]
  },
  {
   "cell_type": "code",
   "execution_count": 118,
   "id": "c7a5fe21",
   "metadata": {
    "ExecuteTime": {
     "end_time": "2022-01-26T01:01:42.547900Z",
     "start_time": "2022-01-26T01:01:42.540399Z"
    }
   },
   "outputs": [
    {
     "data": {
      "text/plain": [
       "[['Park', 96], ['Bob', 85], ['Adam', 85], ['Robert', 77]]"
      ]
     },
     "execution_count": 118,
     "metadata": {},
     "output_type": "execute_result"
    }
   ],
   "source": [
    "#(c)\n",
    "Lc = sorted(L, key=lambda x: x[1], reverse=True); Lc"
   ]
  },
  {
   "cell_type": "code",
   "execution_count": 119,
   "id": "fa46aa59",
   "metadata": {
    "ExecuteTime": {
     "end_time": "2022-01-26T01:02:05.760231Z",
     "start_time": "2022-01-26T01:02:05.754730Z"
    }
   },
   "outputs": [
    {
     "data": {
      "text/plain": [
       "[['Park', 96], ['Bob', 85], ['Adam', 85], ['Robert', 77]]"
      ]
     },
     "execution_count": 119,
     "metadata": {},
     "output_type": "execute_result"
    }
   ],
   "source": [
    "#(d)\n",
    "Ld = sorted(L, key=lambda x: -x[1]); Ld"
   ]
  },
  {
   "cell_type": "code",
   "execution_count": 120,
   "id": "cc3007b5",
   "metadata": {
    "ExecuteTime": {
     "end_time": "2022-01-26T01:02:31.558568Z",
     "start_time": "2022-01-26T01:02:31.542566Z"
    }
   },
   "outputs": [
    {
     "data": {
      "text/plain": [
       "[['Robert', 77], ['Adam', 85], ['Bob', 85], ['Park', 96]]"
      ]
     },
     "execution_count": 120,
     "metadata": {},
     "output_type": "execute_result"
    }
   ],
   "source": [
    "Le = sorted(L, key=lambda x: (x[1],x[0])); Le"
   ]
  },
  {
   "cell_type": "markdown",
   "id": "fd7f6d8d",
   "metadata": {},
   "source": [
    "# 2.14 List의 모든 요소들에 대한 일괄적인 작업 -list comprehension과 map(), filter(), lambda 함수"
   ]
  },
  {
   "cell_type": "code",
   "execution_count": 121,
   "id": "608dd7ea",
   "metadata": {
    "ExecuteTime": {
     "end_time": "2022-01-26T01:03:53.378080Z",
     "start_time": "2022-01-26T01:03:53.368579Z"
    }
   },
   "outputs": [],
   "source": [
    "L = [1,-3,2,-4]; L1=[2,1,4,3]"
   ]
  },
  {
   "cell_type": "code",
   "execution_count": 122,
   "id": "37c18d39",
   "metadata": {
    "ExecuteTime": {
     "end_time": "2022-01-26T01:05:21.977375Z",
     "start_time": "2022-01-26T01:05:21.960372Z"
    }
   },
   "outputs": [
    {
     "data": {
      "text/plain": [
       "[2, -3, 8, -12]"
      ]
     },
     "execution_count": 122,
     "metadata": {},
     "output_type": "execute_result"
    }
   ],
   "source": [
    "#(a)\n",
    "La = list(map(lambda x, y: x*y, L, L1)); La"
   ]
  },
  {
   "cell_type": "code",
   "execution_count": 124,
   "id": "5c83c196",
   "metadata": {
    "ExecuteTime": {
     "end_time": "2022-01-26T01:06:40.648467Z",
     "start_time": "2022-01-26T01:06:40.644467Z"
    }
   },
   "outputs": [
    {
     "data": {
      "text/plain": [
       "[9, 16]"
      ]
     },
     "execution_count": 124,
     "metadata": {},
     "output_type": "execute_result"
    }
   ],
   "source": [
    "#(b)\n",
    "Lb = [x**2 for x in L if x<0]; Lb"
   ]
  },
  {
   "cell_type": "code",
   "execution_count": 125,
   "id": "06c16296",
   "metadata": {
    "ExecuteTime": {
     "end_time": "2022-01-26T01:08:02.361873Z",
     "start_time": "2022-01-26T01:08:02.357872Z"
    }
   },
   "outputs": [
    {
     "data": {
      "text/plain": [
       "[9, 16]"
      ]
     },
     "execution_count": 125,
     "metadata": {},
     "output_type": "execute_result"
    }
   ],
   "source": [
    "#(c)\n",
    "square = lambda x: x**2\n",
    "Lc = list(map(square, filter(lambda x: x<0, L))); Lc"
   ]
  },
  {
   "cell_type": "markdown",
   "id": "1a54be3d",
   "metadata": {},
   "source": [
    "# 2.15 하나의 문자열로부터 Separator로 구분된 요소들을 분리해 내기 - str.split() method"
   ]
  },
  {
   "cell_type": "code",
   "execution_count": 128,
   "id": "fae829a9",
   "metadata": {
    "ExecuteTime": {
     "end_time": "2022-01-26T01:12:34.151537Z",
     "start_time": "2022-01-26T01:12:34.141035Z"
    }
   },
   "outputs": [],
   "source": [
    "email_addrs = \"ywy@cau.ac.kr; tch@gmail.com; yjh@hanmail.net\""
   ]
  },
  {
   "cell_type": "code",
   "execution_count": 129,
   "id": "2f791578",
   "metadata": {
    "ExecuteTime": {
     "end_time": "2022-01-26T01:12:36.519227Z",
     "start_time": "2022-01-26T01:12:36.506725Z"
    }
   },
   "outputs": [],
   "source": [
    "email_addrs1 = email_addrs.split(';')"
   ]
  },
  {
   "cell_type": "code",
   "execution_count": 130,
   "id": "4d83aab4",
   "metadata": {
    "ExecuteTime": {
     "end_time": "2022-01-26T01:13:33.372017Z",
     "start_time": "2022-01-26T01:13:33.368517Z"
    }
   },
   "outputs": [],
   "source": [
    "email_addrs2 = list(map(lambda x: x.strip(), email_addrs1))"
   ]
  },
  {
   "cell_type": "code",
   "execution_count": 131,
   "id": "408e8b04",
   "metadata": {
    "ExecuteTime": {
     "end_time": "2022-01-26T01:13:39.393745Z",
     "start_time": "2022-01-26T01:13:39.389745Z"
    }
   },
   "outputs": [
    {
     "data": {
      "text/plain": [
       "['ywy@cau.ac.kr', 'tch@gmail.com', 'yjh@hanmail.net']"
      ]
     },
     "execution_count": 131,
     "metadata": {},
     "output_type": "execute_result"
    }
   ],
   "source": [
    "email_addrs2"
   ]
  },
  {
   "cell_type": "markdown",
   "id": "ed671d67",
   "metadata": {},
   "source": [
    "# 2.16 Dictionary"
   ]
  },
  {
   "cell_type": "code",
   "execution_count": 140,
   "id": "57990e63",
   "metadata": {
    "ExecuteTime": {
     "end_time": "2022-01-26T01:24:16.679685Z",
     "start_time": "2022-01-26T01:24:16.671184Z"
    }
   },
   "outputs": [
    {
     "name": "stdout",
     "output_type": "stream",
     "text": [
      "{'홍길동': {'나이': 36, 'Corona': '치료중'}, '장비': {'나이': 33, 'Corona': '치료중'}, '관우': {'나이': 35, 'Corona': '음성'}, '조자룡': {'나이': 32, 'Corona': '완치'}, '제갈량': {'나이': 30, 'Corona': '음성'}}\n"
     ]
    },
    {
     "data": {
      "text/plain": [
       "{'나이': 35, 'Corona': '음성'}"
      ]
     },
     "execution_count": 140,
     "metadata": {},
     "output_type": "execute_result"
    },
    {
     "data": {
      "text/plain": [
       "{'나이': 30, 'Corona': '음성'}"
      ]
     },
     "execution_count": 140,
     "metadata": {},
     "output_type": "execute_result"
    },
    {
     "name": "stdout",
     "output_type": "stream",
     "text": [
      "{'홍길동': {'나이': 36, 'Corona': '치료중'}, '장비': {'나이': 33, 'Corona': '치료중'}, '조자룡': {'나이': 32, 'Corona': '완치'}}\n",
      "['홍길동', '장비', '조자룡']\n",
      "{'나이': 32, 'Corona': '완치'}\n",
      "{'홍길동': {'나이': 36, 'Corona': '치료중'}, '장비': {'나이': 33, 'Corona': '완치'}, '조자룡': {'나이': 32, 'Corona': '완치'}}\n",
      "홍길동 = {'나이': 36, 'Corona': '치료중'}\n",
      "장비 = {'나이': 33, 'Corona': '완치'}\n",
      "조자룡 = {'나이': 32, 'Corona': '완치'}\n"
     ]
    }
   ],
   "source": [
    "#(a) ~ (f)\n",
    "dic = {'홍길동': {'나이': 36, 'Corona': '치료중'},\n",
    "       '장비': {'나이': 33, 'Corona': '치료중'},\n",
    "       '관우': {'나이':35, 'Corona': '음성'},\n",
    "       '조자룡': {'나이': 32, 'Corona': '완치'}}\n",
    "dic['제갈량'] = {'나이': 30, 'Corona': '음성'}\n",
    "print(dic)\n",
    "dicitems = dic.copy().items()\n",
    "for key, val in dicitems:\n",
    "    if val['Corona'] == '음성':\n",
    "        dic.pop(key)\n",
    "print(dic)\n",
    "dickeys = list(dic.keys()); print(dickeys)\n",
    "print(dic['조자룡'])\n",
    "dic['장비']['Corona'] = '완치'; print(dic)\n",
    "for key, val in dic.items():\n",
    "    print(f'{key} = {val}')"
   ]
  },
  {
   "cell_type": "code",
   "execution_count": 141,
   "id": "f44d99c5",
   "metadata": {
    "ExecuteTime": {
     "end_time": "2022-01-26T01:26:00.371141Z",
     "start_time": "2022-01-26T01:26:00.357640Z"
    }
   },
   "outputs": [
    {
     "data": {
      "text/plain": [
       "[('조자룡', {'나이': 32, 'Corona': '완치'}),\n",
       " ('장비', {'나이': 33, 'Corona': '완치'}),\n",
       " ('홍길동', {'나이': 36, 'Corona': '치료중'})]"
      ]
     },
     "execution_count": 141,
     "metadata": {},
     "output_type": "execute_result"
    }
   ],
   "source": [
    "#(g)\n",
    "sorted(dic.items(), key=lambda x: x[1]['나이'])"
   ]
  },
  {
   "cell_type": "markdown",
   "id": "1909ef11",
   "metadata": {},
   "source": [
    "# 2.17 Dictionary Merging(합치기)"
   ]
  },
  {
   "cell_type": "code",
   "execution_count": 142,
   "id": "569c5564",
   "metadata": {
    "ExecuteTime": {
     "end_time": "2022-01-26T01:26:50.922690Z",
     "start_time": "2022-01-26T01:26:50.909187Z"
    }
   },
   "outputs": [],
   "source": [
    "d1 = {'A': 1,'B': 2}\n",
    "d2 = {'B': 3,'C': 4,'D': 5}"
   ]
  },
  {
   "cell_type": "code",
   "execution_count": 144,
   "id": "ef426c6d",
   "metadata": {
    "ExecuteTime": {
     "end_time": "2022-01-26T01:27:13.910745Z",
     "start_time": "2022-01-26T01:27:13.897243Z"
    }
   },
   "outputs": [
    {
     "data": {
      "text/plain": [
       "{'A': 1, 'B': 3, 'C': 4, 'D': 5}"
      ]
     },
     "execution_count": 144,
     "metadata": {},
     "output_type": "execute_result"
    }
   ],
   "source": [
    "#(a)\n",
    "d3 = d1.copy()\n",
    "d3.update(d2); d3"
   ]
  },
  {
   "cell_type": "code",
   "execution_count": 145,
   "id": "bc3d9996",
   "metadata": {
    "ExecuteTime": {
     "end_time": "2022-01-26T01:27:51.400527Z",
     "start_time": "2022-01-26T01:27:51.391526Z"
    }
   },
   "outputs": [
    {
     "data": {
      "text/plain": [
       "{'A': 1, 'B': 3, 'C': 4, 'D': 5}"
      ]
     },
     "execution_count": 145,
     "metadata": {},
     "output_type": "execute_result"
    }
   ],
   "source": [
    "#(b)\n",
    "d4 = {**d1, **d2}; d4"
   ]
  },
  {
   "cell_type": "code",
   "execution_count": 148,
   "id": "6fa71732",
   "metadata": {
    "ExecuteTime": {
     "end_time": "2022-01-26T01:32:11.699822Z",
     "start_time": "2022-01-26T01:32:11.683820Z"
    }
   },
   "outputs": [
    {
     "name": "stdout",
     "output_type": "stream",
     "text": [
      "{'A': 1, 'B': 5, 'C': 4, 'D': 5}\n"
     ]
    }
   ],
   "source": [
    "#(c)\n",
    "d5 = {**d1, **d2}\n",
    "for k, v in d5.items():\n",
    "    if k in d1 and k in d2:\n",
    "        if type(d5[k]) is str or type(d1[k]) is str:\n",
    "            d5[k] = [d5[k]] + [d1[k]]\n",
    "        else:\n",
    "            d5[k] = d5[k] + d1[k]\n",
    "print(d5)"
   ]
  },
  {
   "cell_type": "markdown",
   "id": "ff34248c",
   "metadata": {},
   "source": [
    "# 2.18 Tuple"
   ]
  },
  {
   "cell_type": "code",
   "execution_count": 150,
   "id": "090faf34",
   "metadata": {
    "ExecuteTime": {
     "end_time": "2022-01-26T01:34:00.184989Z",
     "start_time": "2022-01-26T01:34:00.169486Z"
    }
   },
   "outputs": [
    {
     "data": {
      "text/plain": [
       "(int, tuple, int)"
      ]
     },
     "execution_count": 150,
     "metadata": {},
     "output_type": "execute_result"
    }
   ],
   "source": [
    "#(a)\n",
    "a1 = (3); a2 = (3,); a3 = 3; type(a1), type(a2), type(a3)"
   ]
  },
  {
   "cell_type": "code",
   "execution_count": 151,
   "id": "0472bd10",
   "metadata": {
    "ExecuteTime": {
     "end_time": "2022-01-26T01:34:22.424322Z",
     "start_time": "2022-01-26T01:34:22.416822Z"
    }
   },
   "outputs": [
    {
     "data": {
      "text/plain": [
       "(1, 'a')"
      ]
     },
     "execution_count": 151,
     "metadata": {},
     "output_type": "execute_result"
    }
   ],
   "source": [
    "#(b)\n",
    "tb = (1, 'a'); tb"
   ]
  },
  {
   "cell_type": "code",
   "execution_count": 153,
   "id": "7bb964ce",
   "metadata": {
    "ExecuteTime": {
     "end_time": "2022-01-26T01:34:42.007566Z",
     "start_time": "2022-01-26T01:34:42.004566Z"
    }
   },
   "outputs": [
    {
     "data": {
      "text/plain": [
       "(1, 'a')"
      ]
     },
     "execution_count": 153,
     "metadata": {},
     "output_type": "execute_result"
    }
   ],
   "source": [
    "#(c)\n",
    "tc = 1, 'a'; tc"
   ]
  },
  {
   "cell_type": "code",
   "execution_count": 154,
   "id": "b9d72df0",
   "metadata": {
    "ExecuteTime": {
     "end_time": "2022-01-26T01:34:55.570143Z",
     "start_time": "2022-01-26T01:34:55.554139Z"
    }
   },
   "outputs": [
    {
     "data": {
      "text/plain": [
       "(1, 'a')"
      ]
     },
     "execution_count": 154,
     "metadata": {},
     "output_type": "execute_result"
    }
   ],
   "source": [
    "#(d)\n",
    "td = tuple([1,'a']); td"
   ]
  },
  {
   "cell_type": "code",
   "execution_count": 155,
   "id": "80acb2bf",
   "metadata": {
    "ExecuteTime": {
     "end_time": "2022-01-26T01:35:15.070464Z",
     "start_time": "2022-01-26T01:35:15.065463Z"
    }
   },
   "outputs": [
    {
     "data": {
      "text/plain": [
       "(-1, 1, 3, 5)"
      ]
     },
     "execution_count": 155,
     "metadata": {},
     "output_type": "execute_result"
    }
   ],
   "source": [
    "#(e)\n",
    "te = tuple(range(-1,6,2)); te"
   ]
  },
  {
   "cell_type": "code",
   "execution_count": 156,
   "id": "e31bc530",
   "metadata": {
    "ExecuteTime": {
     "end_time": "2022-01-26T01:35:42.666463Z",
     "start_time": "2022-01-26T01:35:42.661462Z"
    }
   },
   "outputs": [
    {
     "data": {
      "text/plain": [
       "(0, 2, 4, 6)"
      ]
     },
     "execution_count": 156,
     "metadata": {},
     "output_type": "execute_result"
    }
   ],
   "source": [
    "#(f)\n",
    "tf = tuple(i for i in range(8) if i%2 == 0); tf"
   ]
  },
  {
   "cell_type": "code",
   "execution_count": 158,
   "id": "6acc60bb",
   "metadata": {
    "ExecuteTime": {
     "end_time": "2022-01-26T01:36:05.480838Z",
     "start_time": "2022-01-26T01:36:05.474337Z"
    }
   },
   "outputs": [
    {
     "data": {
      "text/plain": [
       "[1, 'a']"
      ]
     },
     "execution_count": 158,
     "metadata": {},
     "output_type": "execute_result"
    }
   ],
   "source": [
    "#(g)\n",
    "g = list(tb); g"
   ]
  },
  {
   "cell_type": "code",
   "execution_count": 159,
   "id": "ceb6408f",
   "metadata": {
    "ExecuteTime": {
     "end_time": "2022-01-26T01:36:21.632997Z",
     "start_time": "2022-01-26T01:36:21.616994Z"
    }
   },
   "outputs": [
    {
     "data": {
      "text/plain": [
       "(1, 'a', 1, 'a', 'c')"
      ]
     },
     "execution_count": 159,
     "metadata": {},
     "output_type": "execute_result"
    }
   ],
   "source": [
    "#(h)\n",
    "ti = tb*2 + ('c',); ti"
   ]
  },
  {
   "cell_type": "code",
   "execution_count": 160,
   "id": "57b88db7",
   "metadata": {
    "ExecuteTime": {
     "end_time": "2022-01-26T01:36:29.908718Z",
     "start_time": "2022-01-26T01:36:29.905719Z"
    }
   },
   "outputs": [
    {
     "data": {
      "text/plain": [
       "'a'"
      ]
     },
     "execution_count": 160,
     "metadata": {},
     "output_type": "execute_result"
    }
   ],
   "source": [
    "#(i)\n",
    "ti[3]"
   ]
  },
  {
   "cell_type": "code",
   "execution_count": 161,
   "id": "cb5b1523",
   "metadata": {
    "ExecuteTime": {
     "end_time": "2022-01-26T01:36:39.037242Z",
     "start_time": "2022-01-26T01:36:39.032741Z"
    }
   },
   "outputs": [
    {
     "data": {
      "text/plain": [
       "1"
      ]
     },
     "execution_count": 161,
     "metadata": {},
     "output_type": "execute_result"
    }
   ],
   "source": [
    "#(j)\n",
    "ti.index('a')"
   ]
  },
  {
   "cell_type": "code",
   "execution_count": 162,
   "id": "50af9ef0",
   "metadata": {
    "ExecuteTime": {
     "end_time": "2022-01-26T01:36:46.898467Z",
     "start_time": "2022-01-26T01:36:46.891466Z"
    }
   },
   "outputs": [
    {
     "data": {
      "text/plain": [
       "2"
      ]
     },
     "execution_count": 162,
     "metadata": {},
     "output_type": "execute_result"
    }
   ],
   "source": [
    "#(k)\n",
    "ti.count('a')"
   ]
  },
  {
   "cell_type": "code",
   "execution_count": 163,
   "id": "209aa276",
   "metadata": {
    "ExecuteTime": {
     "end_time": "2022-01-26T01:36:56.648214Z",
     "start_time": "2022-01-26T01:36:56.644213Z"
    }
   },
   "outputs": [
    {
     "data": {
      "text/plain": [
       "5"
      ]
     },
     "execution_count": 163,
     "metadata": {},
     "output_type": "execute_result"
    }
   ],
   "source": [
    "#(l)\n",
    "len(ti)"
   ]
  },
  {
   "cell_type": "code",
   "execution_count": 164,
   "id": "31e02dd5",
   "metadata": {
    "ExecuteTime": {
     "end_time": "2022-01-26T01:37:02.253702Z",
     "start_time": "2022-01-26T01:37:02.235199Z"
    }
   },
   "outputs": [
    {
     "ename": "TypeError",
     "evalue": "'tuple' object does not support item assignment",
     "output_type": "error",
     "traceback": [
      "\u001b[1;31m---------------------------------------------------------------------------\u001b[0m",
      "\u001b[1;31mTypeError\u001b[0m                                 Traceback (most recent call last)",
      "\u001b[1;32m~\\AppData\\Local\\Temp/ipykernel_17944/1823368799.py\u001b[0m in \u001b[0;36m<module>\u001b[1;34m\u001b[0m\n\u001b[0;32m      1\u001b[0m \u001b[1;31m#(m)\u001b[0m\u001b[1;33m\u001b[0m\u001b[1;33m\u001b[0m\u001b[0m\n\u001b[1;32m----> 2\u001b[1;33m \u001b[0mti\u001b[0m\u001b[1;33m[\u001b[0m\u001b[1;36m2\u001b[0m\u001b[1;33m]\u001b[0m \u001b[1;33m=\u001b[0m \u001b[1;36m3\u001b[0m\u001b[1;33m\u001b[0m\u001b[1;33m\u001b[0m\u001b[0m\n\u001b[0m",
      "\u001b[1;31mTypeError\u001b[0m: 'tuple' object does not support item assignment"
     ]
    }
   ],
   "source": [
    "#(m)\n",
    "ti[2] = 3"
   ]
  },
  {
   "cell_type": "code",
   "execution_count": 165,
   "id": "9d466774",
   "metadata": {
    "ExecuteTime": {
     "end_time": "2022-01-26T01:37:25.118980Z",
     "start_time": "2022-01-26T01:37:25.100978Z"
    }
   },
   "outputs": [
    {
     "data": {
      "text/plain": [
       "('P', 'y', 't', 'h', 'o', 'n')"
      ]
     },
     "execution_count": 165,
     "metadata": {},
     "output_type": "execute_result"
    }
   ],
   "source": [
    "#(n)\n",
    "tuple('Python')"
   ]
  },
  {
   "cell_type": "code",
   "execution_count": 166,
   "id": "574ebcdd",
   "metadata": {
    "ExecuteTime": {
     "end_time": "2022-01-26T01:37:42.013782Z",
     "start_time": "2022-01-26T01:37:42.011781Z"
    }
   },
   "outputs": [
    {
     "name": "stdout",
     "output_type": "stream",
     "text": [
      "1 3\n"
     ]
    }
   ],
   "source": [
    "#(o)\n",
    "a, b = (1,3); print(a,b)"
   ]
  },
  {
   "cell_type": "code",
   "execution_count": 167,
   "id": "60c39068",
   "metadata": {
    "ExecuteTime": {
     "end_time": "2022-01-26T01:38:06.119657Z",
     "start_time": "2022-01-26T01:38:06.115157Z"
    }
   },
   "outputs": [
    {
     "data": {
      "text/plain": [
       "(2, 1)"
      ]
     },
     "execution_count": 167,
     "metadata": {},
     "output_type": "execute_result"
    }
   ],
   "source": [
    "#(p)\n",
    "a = 1; b = 2; (a,b) = (b,a); a, b"
   ]
  },
  {
   "cell_type": "markdown",
   "id": "bb36ac4d",
   "metadata": {},
   "source": [
    "# 2.19 Tuple의 모든 요소들에 대한 일괄적인 작업"
   ]
  },
  {
   "cell_type": "code",
   "execution_count": 168,
   "id": "adde50de",
   "metadata": {
    "ExecuteTime": {
     "end_time": "2022-01-26T01:38:57.012229Z",
     "start_time": "2022-01-26T01:38:57.002728Z"
    }
   },
   "outputs": [],
   "source": [
    "T = (1,-3,2,-4)"
   ]
  },
  {
   "cell_type": "code",
   "execution_count": 176,
   "id": "355f1d42",
   "metadata": {
    "ExecuteTime": {
     "end_time": "2022-01-26T01:41:31.403982Z",
     "start_time": "2022-01-26T01:41:31.399481Z"
    }
   },
   "outputs": [
    {
     "data": {
      "text/plain": [
       "(9, 16)"
      ]
     },
     "execution_count": 176,
     "metadata": {},
     "output_type": "execute_result"
    }
   ],
   "source": [
    "#(a)\n",
    "square = lambda x: x**2\n",
    "Ta = tuple(map(square, filter(lambda x: x<0, T))); Ta"
   ]
  },
  {
   "cell_type": "code",
   "execution_count": 177,
   "id": "6a8d3271",
   "metadata": {
    "ExecuteTime": {
     "end_time": "2022-01-26T01:41:35.424878Z",
     "start_time": "2022-01-26T01:41:35.417377Z"
    }
   },
   "outputs": [
    {
     "data": {
      "text/plain": [
       "(-1, 3, -2, 4)"
      ]
     },
     "execution_count": 177,
     "metadata": {},
     "output_type": "execute_result"
    }
   ],
   "source": [
    "#(b)\n",
    "neg = lambda x: -x\n",
    "Tb = tuple(map(neg, T)); Tb"
   ]
  },
  {
   "cell_type": "code",
   "execution_count": 178,
   "id": "608a3f3f",
   "metadata": {
    "ExecuteTime": {
     "end_time": "2022-01-26T01:41:48.988528Z",
     "start_time": "2022-01-26T01:41:48.979027Z"
    }
   },
   "outputs": [
    {
     "data": {
      "text/plain": [
       "(1, 3, 2, 4)"
      ]
     },
     "execution_count": 178,
     "metadata": {},
     "output_type": "execute_result"
    }
   ],
   "source": [
    "#(c)\n",
    "Tc = tuple(map(abs, T)); Tc"
   ]
  },
  {
   "cell_type": "markdown",
   "id": "44bd0b97",
   "metadata": {},
   "source": [
    "# 2.20 Set"
   ]
  },
  {
   "cell_type": "code",
   "execution_count": 179,
   "id": "78f3787c",
   "metadata": {
    "ExecuteTime": {
     "end_time": "2022-01-26T01:42:36.912902Z",
     "start_time": "2022-01-26T01:42:36.903401Z"
    }
   },
   "outputs": [
    {
     "name": "stdout",
     "output_type": "stream",
     "text": [
      "set() {}\n"
     ]
    }
   ],
   "source": [
    "#(a)\n",
    "Sa = set(); Ta = {}; print(Sa, Ta)"
   ]
  },
  {
   "cell_type": "code",
   "execution_count": 180,
   "id": "bf942ffd",
   "metadata": {
    "ExecuteTime": {
     "end_time": "2022-01-26T01:43:05.989291Z",
     "start_time": "2022-01-26T01:43:05.980290Z"
    }
   },
   "outputs": [
    {
     "name": "stdout",
     "output_type": "stream",
     "text": [
      "{'A', 'B', 'C'}\n"
     ]
    }
   ],
   "source": [
    "#(b)\n",
    "Sb = {'A','B','C','B'}; print(Sb)"
   ]
  },
  {
   "cell_type": "code",
   "execution_count": 181,
   "id": "58c57c76",
   "metadata": {
    "ExecuteTime": {
     "end_time": "2022-01-26T01:43:28.172964Z",
     "start_time": "2022-01-26T01:43:28.159462Z"
    }
   },
   "outputs": [
    {
     "ename": "TypeError",
     "evalue": "set expected at most 1 argument, got 4",
     "output_type": "error",
     "traceback": [
      "\u001b[1;31m---------------------------------------------------------------------------\u001b[0m",
      "\u001b[1;31mTypeError\u001b[0m                                 Traceback (most recent call last)",
      "\u001b[1;32m~\\AppData\\Local\\Temp/ipykernel_17944/2777283309.py\u001b[0m in \u001b[0;36m<module>\u001b[1;34m\u001b[0m\n\u001b[0;32m      1\u001b[0m \u001b[1;31m#(c)\u001b[0m\u001b[1;33m\u001b[0m\u001b[1;33m\u001b[0m\u001b[0m\n\u001b[1;32m----> 2\u001b[1;33m \u001b[0mSc\u001b[0m \u001b[1;33m=\u001b[0m \u001b[0mset\u001b[0m\u001b[1;33m(\u001b[0m\u001b[1;34m'A'\u001b[0m\u001b[1;33m,\u001b[0m\u001b[1;34m'B'\u001b[0m\u001b[1;33m,\u001b[0m\u001b[1;34m'C'\u001b[0m\u001b[1;33m,\u001b[0m\u001b[1;34m'B'\u001b[0m\u001b[1;33m)\u001b[0m\u001b[1;33m;\u001b[0m \u001b[0mprint\u001b[0m\u001b[1;33m(\u001b[0m\u001b[0mSc\u001b[0m\u001b[1;33m)\u001b[0m\u001b[1;33m\u001b[0m\u001b[1;33m\u001b[0m\u001b[0m\n\u001b[0m",
      "\u001b[1;31mTypeError\u001b[0m: set expected at most 1 argument, got 4"
     ]
    }
   ],
   "source": [
    "#(c)\n",
    "Sc = set('A','B','C','B'); print(Sc)"
   ]
  },
  {
   "cell_type": "code",
   "execution_count": 182,
   "id": "23443e60",
   "metadata": {
    "ExecuteTime": {
     "end_time": "2022-01-26T01:43:53.631555Z",
     "start_time": "2022-01-26T01:43:53.623553Z"
    }
   },
   "outputs": [
    {
     "name": "stdout",
     "output_type": "stream",
     "text": [
      "{'A', 'B', 'C'}\n"
     ]
    }
   ],
   "source": [
    "#(d)\n",
    "Sd = set(['A','B','C','B']); print(Sb)"
   ]
  },
  {
   "cell_type": "code",
   "execution_count": 183,
   "id": "d5686cf6",
   "metadata": {
    "ExecuteTime": {
     "end_time": "2022-01-26T01:44:05.671241Z",
     "start_time": "2022-01-26T01:44:05.664740Z"
    }
   },
   "outputs": [
    {
     "name": "stdout",
     "output_type": "stream",
     "text": [
      "{'l', 'A', 'e', 'p'}\n"
     ]
    }
   ],
   "source": [
    "#(e)\n",
    "Se = set('Apple'); print(Se)"
   ]
  },
  {
   "cell_type": "code",
   "execution_count": 184,
   "id": "847cfd49",
   "metadata": {
    "ExecuteTime": {
     "end_time": "2022-01-26T01:44:21.105112Z",
     "start_time": "2022-01-26T01:44:21.101612Z"
    }
   },
   "outputs": [
    {
     "name": "stdout",
     "output_type": "stream",
     "text": [
      "{0, 1, 2, 3, 4}\n"
     ]
    }
   ],
   "source": [
    "#(f)\n",
    "Sf = set(range(5)); print(Sf)"
   ]
  },
  {
   "cell_type": "code",
   "execution_count": 185,
   "id": "ae919d9d",
   "metadata": {
    "ExecuteTime": {
     "end_time": "2022-01-26T01:44:27.499806Z",
     "start_time": "2022-01-26T01:44:27.489805Z"
    }
   },
   "outputs": [
    {
     "ename": "TypeError",
     "evalue": "'set' object is not subscriptable",
     "output_type": "error",
     "traceback": [
      "\u001b[1;31m---------------------------------------------------------------------------\u001b[0m",
      "\u001b[1;31mTypeError\u001b[0m                                 Traceback (most recent call last)",
      "\u001b[1;32m~\\AppData\\Local\\Temp/ipykernel_17944/3382311500.py\u001b[0m in \u001b[0;36m<module>\u001b[1;34m\u001b[0m\n\u001b[0;32m      1\u001b[0m \u001b[1;31m#(g)\u001b[0m\u001b[1;33m\u001b[0m\u001b[1;33m\u001b[0m\u001b[0m\n\u001b[1;32m----> 2\u001b[1;33m \u001b[0mprint\u001b[0m\u001b[1;33m(\u001b[0m\u001b[0mSb\u001b[0m\u001b[1;33m[\u001b[0m\u001b[1;36m1\u001b[0m\u001b[1;33m]\u001b[0m\u001b[1;33m)\u001b[0m\u001b[1;33m\u001b[0m\u001b[1;33m\u001b[0m\u001b[0m\n\u001b[0m",
      "\u001b[1;31mTypeError\u001b[0m: 'set' object is not subscriptable"
     ]
    }
   ],
   "source": [
    "#(g)\n",
    "print(Sb[1])"
   ]
  },
  {
   "cell_type": "code",
   "execution_count": 186,
   "id": "38241678",
   "metadata": {
    "ExecuteTime": {
     "end_time": "2022-01-26T01:44:55.191462Z",
     "start_time": "2022-01-26T01:44:55.173458Z"
    }
   },
   "outputs": [
    {
     "name": "stdout",
     "output_type": "stream",
     "text": [
      "{'D', 'A', 'B', 'C'}\n"
     ]
    }
   ],
   "source": [
    "#(h)\n",
    "Sb.add('D'); print(Sb)"
   ]
  },
  {
   "cell_type": "code",
   "execution_count": 187,
   "id": "dbab6407",
   "metadata": {
    "ExecuteTime": {
     "end_time": "2022-01-26T01:45:17.594754Z",
     "start_time": "2022-01-26T01:45:17.586752Z"
    }
   },
   "outputs": [
    {
     "name": "stdout",
     "output_type": "stream",
     "text": [
      "None\n"
     ]
    }
   ],
   "source": [
    "#(i)\n",
    "Si = Sa.update(['E','F']); print(Si)"
   ]
  },
  {
   "cell_type": "code",
   "execution_count": 188,
   "id": "eb53eab2",
   "metadata": {
    "ExecuteTime": {
     "end_time": "2022-01-26T01:46:17.260209Z",
     "start_time": "2022-01-26T01:46:17.244207Z"
    }
   },
   "outputs": [
    {
     "name": "stdout",
     "output_type": "stream",
     "text": [
      "{'D', 'A', 'B', 'C'}\n"
     ]
    }
   ],
   "source": [
    "#(j)\n",
    "print(Sb)"
   ]
  },
  {
   "cell_type": "code",
   "execution_count": 189,
   "id": "982ee260",
   "metadata": {
    "ExecuteTime": {
     "end_time": "2022-01-26T01:46:46.761607Z",
     "start_time": "2022-01-26T01:46:46.752605Z"
    }
   },
   "outputs": [
    {
     "name": "stdout",
     "output_type": "stream",
     "text": [
      "{'D', 'A', 'C'}\n"
     ]
    }
   ],
   "source": [
    "#(k)\n",
    "Sb.remove('B'); print(Sb)"
   ]
  },
  {
   "cell_type": "code",
   "execution_count": 190,
   "id": "5488f033",
   "metadata": {
    "ExecuteTime": {
     "end_time": "2022-01-26T01:46:57.570166Z",
     "start_time": "2022-01-26T01:46:57.554664Z"
    }
   },
   "outputs": [
    {
     "data": {
      "text/plain": [
       "'D'"
      ]
     },
     "execution_count": 190,
     "metadata": {},
     "output_type": "execute_result"
    },
    {
     "name": "stdout",
     "output_type": "stream",
     "text": [
      "{'A', 'C'}\n"
     ]
    }
   ],
   "source": [
    "#(l)\n",
    "Sb.pop(); print(Sb)"
   ]
  },
  {
   "cell_type": "code",
   "execution_count": 191,
   "id": "17a23c1d",
   "metadata": {
    "ExecuteTime": {
     "end_time": "2022-01-26T01:47:08.345929Z",
     "start_time": "2022-01-26T01:47:08.340428Z"
    }
   },
   "outputs": [
    {
     "name": "stdout",
     "output_type": "stream",
     "text": [
      "2\n"
     ]
    }
   ],
   "source": [
    "#(m)\n",
    "print(len(Sb))"
   ]
  },
  {
   "cell_type": "code",
   "execution_count": 192,
   "id": "d43c19e9",
   "metadata": {
    "ExecuteTime": {
     "end_time": "2022-01-26T01:47:15.061953Z",
     "start_time": "2022-01-26T01:47:15.053452Z"
    }
   },
   "outputs": [
    {
     "data": {
      "text/plain": [
       "True"
      ]
     },
     "execution_count": 192,
     "metadata": {},
     "output_type": "execute_result"
    }
   ],
   "source": [
    "#(n)\n",
    "'A' in Sb"
   ]
  },
  {
   "cell_type": "code",
   "execution_count": 193,
   "id": "b6b2cdad",
   "metadata": {
    "ExecuteTime": {
     "end_time": "2022-01-26T01:47:22.510112Z",
     "start_time": "2022-01-26T01:47:22.499611Z"
    }
   },
   "outputs": [
    {
     "data": {
      "text/plain": [
       "True"
      ]
     },
     "execution_count": 193,
     "metadata": {},
     "output_type": "execute_result"
    }
   ],
   "source": [
    "#(o)\n",
    "'B' not in Sb"
   ]
  },
  {
   "cell_type": "markdown",
   "id": "ecfe0de6",
   "metadata": {},
   "source": [
    "# 2.21 Set안의 Set - Frozenset"
   ]
  },
  {
   "cell_type": "code",
   "execution_count": 194,
   "id": "93c91a1e",
   "metadata": {
    "ExecuteTime": {
     "end_time": "2022-01-26T01:47:43.495765Z",
     "start_time": "2022-01-26T01:47:43.478762Z"
    }
   },
   "outputs": [
    {
     "ename": "TypeError",
     "evalue": "unhashable type: 'set'",
     "output_type": "error",
     "traceback": [
      "\u001b[1;31m---------------------------------------------------------------------------\u001b[0m",
      "\u001b[1;31mTypeError\u001b[0m                                 Traceback (most recent call last)",
      "\u001b[1;32m~\\AppData\\Local\\Temp/ipykernel_17944/3527766167.py\u001b[0m in \u001b[0;36m<module>\u001b[1;34m\u001b[0m\n\u001b[0;32m      1\u001b[0m \u001b[1;31m#(a)\u001b[0m\u001b[1;33m\u001b[0m\u001b[1;33m\u001b[0m\u001b[0m\n\u001b[1;32m----> 2\u001b[1;33m \u001b[0mS\u001b[0m \u001b[1;33m=\u001b[0m \u001b[1;33m{\u001b[0m\u001b[1;36m1\u001b[0m\u001b[1;33m,\u001b[0m \u001b[1;33m{\u001b[0m\u001b[1;36m2\u001b[0m\u001b[1;33m,\u001b[0m\u001b[1;36m3\u001b[0m\u001b[1;33m}\u001b[0m\u001b[1;33m}\u001b[0m\u001b[1;33m\u001b[0m\u001b[1;33m\u001b[0m\u001b[0m\n\u001b[0m",
      "\u001b[1;31mTypeError\u001b[0m: unhashable type: 'set'"
     ]
    }
   ],
   "source": [
    "#(a)\n",
    "S = {1, {2,3}}"
   ]
  },
  {
   "cell_type": "markdown",
   "id": "6e0b3fdc",
   "metadata": {},
   "source": [
    "# 2.22 Set - 공배수 (L.C.M: Least Common Multiple)"
   ]
  },
  {
   "cell_type": "code",
   "execution_count": 197,
   "id": "7c67c6eb",
   "metadata": {
    "ExecuteTime": {
     "end_time": "2022-01-26T01:50:48.683074Z",
     "start_time": "2022-01-26T01:50:48.670572Z"
    }
   },
   "outputs": [
    {
     "data": {
      "text/plain": [
       "{2, 4, 6, 8, 10, 12, 14, 16, 18, 20}"
      ]
     },
     "execution_count": 197,
     "metadata": {},
     "output_type": "execute_result"
    }
   ],
   "source": [
    "#(a)\n",
    "S1 = {i for i in range(1, 21) if i%2 == 0}; S1"
   ]
  },
  {
   "cell_type": "code",
   "execution_count": 204,
   "id": "d25654fd",
   "metadata": {
    "ExecuteTime": {
     "end_time": "2022-01-26T01:52:54.402211Z",
     "start_time": "2022-01-26T01:52:54.384208Z"
    }
   },
   "outputs": [
    {
     "data": {
      "text/plain": [
       "{3, 6, 9, 12, 15, 18}"
      ]
     },
     "execution_count": 204,
     "metadata": {},
     "output_type": "execute_result"
    },
    {
     "data": {
      "text/plain": [
       "{2, 3, 4, 6, 8, 9, 10, 12, 14, 15, 16, 18, 20}"
      ]
     },
     "execution_count": 204,
     "metadata": {},
     "output_type": "execute_result"
    }
   ],
   "source": [
    "S2 = {i for i in range(1,21) if i%3 == 0}; S2\n",
    "S3 = S1.union(S2); S3"
   ]
  },
  {
   "cell_type": "code",
   "execution_count": 203,
   "id": "130b42b5",
   "metadata": {
    "ExecuteTime": {
     "end_time": "2022-01-26T01:52:51.094757Z",
     "start_time": "2022-01-26T01:52:51.077754Z"
    }
   },
   "outputs": [
    {
     "data": {
      "text/plain": [
       "{2, 3, 4, 6, 8, 9, 10, 12, 14, 15, 16, 18, 20}"
      ]
     },
     "execution_count": 203,
     "metadata": {},
     "output_type": "execute_result"
    }
   ],
   "source": [
    "S4 = {i for i in range(1, 21) if i%2 == 0 or i%3 == 0}; S4"
   ]
  },
  {
   "cell_type": "markdown",
   "id": "df688192",
   "metadata": {},
   "source": [
    "#  2.23 Boolean"
   ]
  },
  {
   "cell_type": "code",
   "execution_count": 205,
   "id": "46caa530",
   "metadata": {
    "ExecuteTime": {
     "end_time": "2022-01-26T01:53:44.488055Z",
     "start_time": "2022-01-26T01:53:44.476554Z"
    }
   },
   "outputs": [
    {
     "data": {
      "text/plain": [
       "True"
      ]
     },
     "execution_count": 205,
     "metadata": {},
     "output_type": "execute_result"
    }
   ],
   "source": [
    "#(a)\n",
    "bool('Flase')"
   ]
  },
  {
   "cell_type": "code",
   "execution_count": 206,
   "id": "68cf51bf",
   "metadata": {
    "ExecuteTime": {
     "end_time": "2022-01-26T01:53:50.356228Z",
     "start_time": "2022-01-26T01:53:50.353227Z"
    }
   },
   "outputs": [
    {
     "data": {
      "text/plain": [
       "False"
      ]
     },
     "execution_count": 206,
     "metadata": {},
     "output_type": "execute_result"
    }
   ],
   "source": [
    "#(b)\n",
    "bool('')"
   ]
  },
  {
   "cell_type": "code",
   "execution_count": 208,
   "id": "04d1bace",
   "metadata": {
    "ExecuteTime": {
     "end_time": "2022-01-26T01:54:09.187242Z",
     "start_time": "2022-01-26T01:54:09.171739Z"
    }
   },
   "outputs": [
    {
     "data": {
      "text/plain": [
       "(False, False, False)"
      ]
     },
     "execution_count": 208,
     "metadata": {},
     "output_type": "execute_result"
    }
   ],
   "source": [
    "#(c)\n",
    "bool([]), bool(()), bool({})"
   ]
  },
  {
   "cell_type": "code",
   "execution_count": 209,
   "id": "523ef5f0",
   "metadata": {
    "ExecuteTime": {
     "end_time": "2022-01-26T01:54:17.548304Z",
     "start_time": "2022-01-26T01:54:17.534302Z"
    }
   },
   "outputs": [
    {
     "data": {
      "text/plain": [
       "(True, False)"
      ]
     },
     "execution_count": 209,
     "metadata": {},
     "output_type": "execute_result"
    }
   ],
   "source": [
    "#(d)\n",
    "bool(1), bool(0)"
   ]
  },
  {
   "cell_type": "code",
   "execution_count": 210,
   "id": "dd1ee1ea",
   "metadata": {
    "ExecuteTime": {
     "end_time": "2022-01-26T01:54:22.925635Z",
     "start_time": "2022-01-26T01:54:22.916133Z"
    }
   },
   "outputs": [
    {
     "data": {
      "text/plain": [
       "False"
      ]
     },
     "execution_count": 210,
     "metadata": {},
     "output_type": "execute_result"
    }
   ],
   "source": [
    "#(e)\n",
    "bool(None)"
   ]
  },
  {
   "cell_type": "code",
   "execution_count": 211,
   "id": "33acbfb2",
   "metadata": {
    "ExecuteTime": {
     "end_time": "2022-01-26T01:54:31.016925Z",
     "start_time": "2022-01-26T01:54:31.008423Z"
    }
   },
   "outputs": [
    {
     "data": {
      "text/plain": [
       "True"
      ]
     },
     "execution_count": 211,
     "metadata": {},
     "output_type": "execute_result"
    }
   ],
   "source": [
    "#(f)\n",
    "bool([1,2])"
   ]
  },
  {
   "cell_type": "markdown",
   "id": "8943f638",
   "metadata": {},
   "source": [
    "# 2.24 If 구문"
   ]
  },
  {
   "cell_type": "code",
   "execution_count": 212,
   "id": "9ad97205",
   "metadata": {
    "ExecuteTime": {
     "end_time": "2022-01-26T02:56:36.270763Z",
     "start_time": "2022-01-26T02:56:36.265262Z"
    }
   },
   "outputs": [
    {
     "name": "stdout",
     "output_type": "stream",
     "text": [
      "2000년은 윤년입니다.\n"
     ]
    }
   ],
   "source": [
    "#(a)\n",
    "year = 2000\n",
    "if (year % 4) == 0:\n",
    "    if (year % 100) == 0:\n",
    "        if (year % 400) == 0:\n",
    "            print(f\"{year}년은 윤년입니다.\")\n",
    "        else:\n",
    "            print(f\"{year}년은 평년입니다.\")\n",
    "    else: print(f\"{year}년은 윤년입니다.\")\n",
    "else:\n",
    "    print(f\"{year}년은 평년입니다.\")"
   ]
  },
  {
   "cell_type": "code",
   "execution_count": 213,
   "id": "c376691d",
   "metadata": {
    "ExecuteTime": {
     "end_time": "2022-01-26T03:04:19.679341Z",
     "start_time": "2022-01-26T03:04:19.666839Z"
    }
   },
   "outputs": [
    {
     "name": "stdout",
     "output_type": "stream",
     "text": [
      "2000년은 윤년입니다.\n"
     ]
    }
   ],
   "source": [
    "#(b)\n",
    "year = 2000\n",
    "if ((year%400 == 0) or (year%4 == 0) and (year%100 !=0)):\n",
    "    print(f\"{year}년은 윤년입니다.\")\n",
    "else:\n",
    "    print(f\"{year}년은 평년입니다.\")"
   ]
  },
  {
   "cell_type": "markdown",
   "id": "ef8d22e7",
   "metadata": {},
   "source": [
    "# 2.25 for Loop"
   ]
  },
  {
   "cell_type": "code",
   "execution_count": 214,
   "id": "a5830b44",
   "metadata": {
    "ExecuteTime": {
     "end_time": "2022-01-26T03:07:31.039750Z",
     "start_time": "2022-01-26T03:07:31.027747Z"
    }
   },
   "outputs": [
    {
     "name": "stdout",
     "output_type": "stream",
     "text": [
      "2 at [4] of L.\n"
     ]
    }
   ],
   "source": [
    "L = [1,7,3,6,2,8,4,9,5]\n",
    "Item = 2\n",
    "pos = []\n",
    "for n in range(0,len(L)):\n",
    "    if L[n] == Item: pos.append(n)\n",
    "    else: continue\n",
    "if len(pos) > 0: print(f\"{str(Item)} at {pos} of L.\")\n",
    "else: print(f\"{str(Item)} has not been found in L.\")"
   ]
  },
  {
   "cell_type": "markdown",
   "id": "a1910bce",
   "metadata": {},
   "source": [
    "# 2.26 for Loop"
   ]
  },
  {
   "cell_type": "code",
   "execution_count": 2,
   "id": "1b81614e",
   "metadata": {
    "ExecuteTime": {
     "end_time": "2022-01-26T03:20:16.880560Z",
     "start_time": "2022-01-26T03:20:16.753037Z"
    }
   },
   "outputs": [
    {
     "name": "stdout",
     "output_type": "stream",
     "text": [
      "3\n",
      "4\n"
     ]
    },
    {
     "ename": "TypeError",
     "evalue": "'int' object is not callable",
     "output_type": "error",
     "traceback": [
      "\u001b[1;31m---------------------------------------------------------------------------\u001b[0m",
      "\u001b[1;31mTypeError\u001b[0m                                 Traceback (most recent call last)",
      "\u001b[1;32m~\\AppData\\Local\\Temp/ipykernel_4112/2035097815.py\u001b[0m in \u001b[0;36m<module>\u001b[1;34m\u001b[0m\n\u001b[0;32m      4\u001b[0m \u001b[1;32mfor\u001b[0m \u001b[0mn\u001b[0m \u001b[1;32min\u001b[0m \u001b[0mrange\u001b[0m\u001b[1;33m(\u001b[0m\u001b[1;36m1\u001b[0m\u001b[1;33m,\u001b[0m\u001b[1;36m5\u001b[0m\u001b[1;33m,\u001b[0m\u001b[1;36m2\u001b[0m\u001b[1;33m)\u001b[0m\u001b[1;33m:\u001b[0m \u001b[0msum\u001b[0m \u001b[1;33m=\u001b[0m \u001b[0msum\u001b[0m \u001b[1;33m+\u001b[0m \u001b[0mn\u001b[0m\u001b[1;33m\u001b[0m\u001b[1;33m\u001b[0m\u001b[0m\n\u001b[0;32m      5\u001b[0m \u001b[0mprint\u001b[0m\u001b[1;33m(\u001b[0m\u001b[0msum\u001b[0m\u001b[1;33m)\u001b[0m\u001b[1;33m\u001b[0m\u001b[1;33m\u001b[0m\u001b[0m\n\u001b[1;32m----> 6\u001b[1;33m \u001b[0mprint\u001b[0m\u001b[1;33m(\u001b[0m\u001b[0msum\u001b[0m\u001b[1;33m(\u001b[0m\u001b[1;33m[\u001b[0m\u001b[1;36m1\u001b[0m\u001b[1;33m,\u001b[0m\u001b[1;36m2\u001b[0m\u001b[1;33m]\u001b[0m\u001b[1;33m)\u001b[0m\u001b[1;33m)\u001b[0m\u001b[1;33m\u001b[0m\u001b[1;33m\u001b[0m\u001b[0m\n\u001b[0m",
      "\u001b[1;31mTypeError\u001b[0m: 'int' object is not callable"
     ]
    }
   ],
   "source": [
    "#(a)\n",
    "print(sum([1,2]))\n",
    "sum = 0\n",
    "for n in range(1,5,2): sum = sum + n\n",
    "print(sum)\n",
    "print(sum([1,2]))"
   ]
  },
  {
   "cell_type": "code",
   "execution_count": 3,
   "id": "c89d5b94",
   "metadata": {
    "ExecuteTime": {
     "end_time": "2022-01-26T04:14:17.044601Z",
     "start_time": "2022-01-26T04:14:17.030099Z"
    }
   },
   "outputs": [
    {
     "data": {
      "text/plain": [
       "[0,\n",
       " 1,\n",
       " 1,\n",
       " 2,\n",
       " 3,\n",
       " 5,\n",
       " 8,\n",
       " 13,\n",
       " 21,\n",
       " 34,\n",
       " 55,\n",
       " 89,\n",
       " 144,\n",
       " 233,\n",
       " 377,\n",
       " 610,\n",
       " 987,\n",
       " 1597,\n",
       " 2584,\n",
       " 4181,\n",
       " 6765,\n",
       " 10946,\n",
       " 17711,\n",
       " 28657,\n",
       " 46368,\n",
       " 75025,\n",
       " 121393,\n",
       " 196418,\n",
       " 317811,\n",
       " 514229,\n",
       " 832040,\n",
       " 1346269,\n",
       " 2178309,\n",
       " 3524578,\n",
       " 5702887,\n",
       " 9227465,\n",
       " 14930352,\n",
       " 24157817,\n",
       " 39088169,\n",
       " 63245986,\n",
       " 102334155,\n",
       " 165580141,\n",
       " 267914296,\n",
       " 433494437,\n",
       " 701408733,\n",
       " 1134903170,\n",
       " 1836311903,\n",
       " 2971215073,\n",
       " 4807526976,\n",
       " 7778742049,\n",
       " 12586269025,\n",
       " 20365011074,\n",
       " 32951280099,\n",
       " 53316291173,\n",
       " 86267571272,\n",
       " 139583862445,\n",
       " 225851433717,\n",
       " 365435296162,\n",
       " 591286729879,\n",
       " 956722026041,\n",
       " 1548008755920,\n",
       " 2504730781961,\n",
       " 4052739537881,\n",
       " 6557470319842,\n",
       " 10610209857723,\n",
       " 17167680177565,\n",
       " 27777890035288,\n",
       " 44945570212853,\n",
       " 72723460248141,\n",
       " 117669030460994,\n",
       " 190392490709135,\n",
       " 308061521170129,\n",
       " 498454011879264,\n",
       " 806515533049393,\n",
       " 1304969544928657,\n",
       " 2111485077978050,\n",
       " 3416454622906707,\n",
       " 5527939700884757,\n",
       " 8944394323791464,\n",
       " 14472334024676221,\n",
       " 23416728348467685,\n",
       " 37889062373143906,\n",
       " 61305790721611591,\n",
       " 99194853094755497,\n",
       " 160500643816367088,\n",
       " 259695496911122585,\n",
       " 420196140727489673,\n",
       " 679891637638612258,\n",
       " 1100087778366101931,\n",
       " 1779979416004714189,\n",
       " 2880067194370816120,\n",
       " 4660046610375530309,\n",
       " 7540113804746346429,\n",
       " 12200160415121876738,\n",
       " 19740274219868223167,\n",
       " 31940434634990099905,\n",
       " 51680708854858323072,\n",
       " 83621143489848422977,\n",
       " 135301852344706746049,\n",
       " 218922995834555169026,\n",
       " 354224848179261915075]"
      ]
     },
     "execution_count": 3,
     "metadata": {},
     "output_type": "execute_result"
    }
   ],
   "source": [
    "#(b)\n",
    "xs = []\n",
    "x, y = 0, 1\n",
    "xs.append(x)\n",
    "for i in range(100):\n",
    "    x, y = y, x+y\n",
    "    xs.append(x)\n",
    "xs"
   ]
  },
  {
   "cell_type": "code",
   "execution_count": 9,
   "id": "92afc0f2",
   "metadata": {
    "ExecuteTime": {
     "end_time": "2022-01-26T04:17:36.875115Z",
     "start_time": "2022-01-26T04:17:36.669577Z"
    }
   },
   "outputs": [
    {
     "data": {
      "text/plain": [
       "[2,\n",
       " 3,\n",
       " 5,\n",
       " 7,\n",
       " 11,\n",
       " 13,\n",
       " 17,\n",
       " 19,\n",
       " 23,\n",
       " 29,\n",
       " 31,\n",
       " 37,\n",
       " 41,\n",
       " 43,\n",
       " 47,\n",
       " 53,\n",
       " 59,\n",
       " 61,\n",
       " 67,\n",
       " 71,\n",
       " 73,\n",
       " 79,\n",
       " 83,\n",
       " 89,\n",
       " 97,\n",
       " 101,\n",
       " 103,\n",
       " 107,\n",
       " 109,\n",
       " 113,\n",
       " 127,\n",
       " 131,\n",
       " 137,\n",
       " 139,\n",
       " 149,\n",
       " 151,\n",
       " 157,\n",
       " 163,\n",
       " 167,\n",
       " 173,\n",
       " 179,\n",
       " 181,\n",
       " 191,\n",
       " 193,\n",
       " 197,\n",
       " 199,\n",
       " 211,\n",
       " 223,\n",
       " 227,\n",
       " 229,\n",
       " 233,\n",
       " 239,\n",
       " 241,\n",
       " 251,\n",
       " 257,\n",
       " 263,\n",
       " 269,\n",
       " 271,\n",
       " 277,\n",
       " 281,\n",
       " 283,\n",
       " 293,\n",
       " 307,\n",
       " 311,\n",
       " 313,\n",
       " 317,\n",
       " 331,\n",
       " 337,\n",
       " 347,\n",
       " 349,\n",
       " 353,\n",
       " 359,\n",
       " 367,\n",
       " 373,\n",
       " 379,\n",
       " 383,\n",
       " 389,\n",
       " 397,\n",
       " 401,\n",
       " 409,\n",
       " 419,\n",
       " 421,\n",
       " 431,\n",
       " 433,\n",
       " 439,\n",
       " 443,\n",
       " 449,\n",
       " 457,\n",
       " 461,\n",
       " 463,\n",
       " 467,\n",
       " 479,\n",
       " 487,\n",
       " 491,\n",
       " 499,\n",
       " 503,\n",
       " 509,\n",
       " 521,\n",
       " 523,\n",
       " 541,\n",
       " 547,\n",
       " 557,\n",
       " 563,\n",
       " 569,\n",
       " 571,\n",
       " 577,\n",
       " 587,\n",
       " 593,\n",
       " 599,\n",
       " 601,\n",
       " 607,\n",
       " 613,\n",
       " 617,\n",
       " 619,\n",
       " 631,\n",
       " 641,\n",
       " 643,\n",
       " 647,\n",
       " 653,\n",
       " 659,\n",
       " 661,\n",
       " 673,\n",
       " 677,\n",
       " 683,\n",
       " 691,\n",
       " 701,\n",
       " 709,\n",
       " 719,\n",
       " 727,\n",
       " 733,\n",
       " 739,\n",
       " 743,\n",
       " 751,\n",
       " 757,\n",
       " 761,\n",
       " 769,\n",
       " 773,\n",
       " 787,\n",
       " 797,\n",
       " 809,\n",
       " 811,\n",
       " 821,\n",
       " 823,\n",
       " 827,\n",
       " 829,\n",
       " 839,\n",
       " 853,\n",
       " 857,\n",
       " 859,\n",
       " 863,\n",
       " 877,\n",
       " 881,\n",
       " 883,\n",
       " 887,\n",
       " 907,\n",
       " 911,\n",
       " 919,\n",
       " 929,\n",
       " 937,\n",
       " 941,\n",
       " 947,\n",
       " 953,\n",
       " 967,\n",
       " 971,\n",
       " 977,\n",
       " 983,\n",
       " 991,\n",
       " 997,\n",
       " 1009,\n",
       " 1013,\n",
       " 1019,\n",
       " 1021,\n",
       " 1031,\n",
       " 1033,\n",
       " 1039,\n",
       " 1049,\n",
       " 1051,\n",
       " 1061,\n",
       " 1063,\n",
       " 1069,\n",
       " 1087,\n",
       " 1091,\n",
       " 1093,\n",
       " 1097,\n",
       " 1103,\n",
       " 1109,\n",
       " 1117,\n",
       " 1123,\n",
       " 1129,\n",
       " 1151,\n",
       " 1153,\n",
       " 1163,\n",
       " 1171,\n",
       " 1181,\n",
       " 1187,\n",
       " 1193,\n",
       " 1201,\n",
       " 1213,\n",
       " 1217,\n",
       " 1223,\n",
       " 1229,\n",
       " 1231,\n",
       " 1237,\n",
       " 1249,\n",
       " 1259,\n",
       " 1277,\n",
       " 1279,\n",
       " 1283,\n",
       " 1289,\n",
       " 1291,\n",
       " 1297,\n",
       " 1301,\n",
       " 1303,\n",
       " 1307,\n",
       " 1319,\n",
       " 1321,\n",
       " 1327,\n",
       " 1361,\n",
       " 1367,\n",
       " 1373,\n",
       " 1381,\n",
       " 1399,\n",
       " 1409,\n",
       " 1423,\n",
       " 1427,\n",
       " 1429,\n",
       " 1433,\n",
       " 1439,\n",
       " 1447,\n",
       " 1451,\n",
       " 1453,\n",
       " 1459,\n",
       " 1471,\n",
       " 1481,\n",
       " 1483,\n",
       " 1487,\n",
       " 1489,\n",
       " 1493,\n",
       " 1499,\n",
       " 1511,\n",
       " 1523,\n",
       " 1531,\n",
       " 1543,\n",
       " 1549,\n",
       " 1553,\n",
       " 1559,\n",
       " 1567,\n",
       " 1571,\n",
       " 1579,\n",
       " 1583,\n",
       " 1597,\n",
       " 1601,\n",
       " 1607,\n",
       " 1609,\n",
       " 1613,\n",
       " 1619,\n",
       " 1621,\n",
       " 1627,\n",
       " 1637,\n",
       " 1657,\n",
       " 1663,\n",
       " 1667,\n",
       " 1669,\n",
       " 1693,\n",
       " 1697,\n",
       " 1699,\n",
       " 1709,\n",
       " 1721,\n",
       " 1723,\n",
       " 1733,\n",
       " 1741,\n",
       " 1747,\n",
       " 1753,\n",
       " 1759,\n",
       " 1777,\n",
       " 1783,\n",
       " 1787,\n",
       " 1789,\n",
       " 1801,\n",
       " 1811,\n",
       " 1823,\n",
       " 1831,\n",
       " 1847,\n",
       " 1861,\n",
       " 1867,\n",
       " 1871,\n",
       " 1873,\n",
       " 1877,\n",
       " 1879,\n",
       " 1889,\n",
       " 1901,\n",
       " 1907,\n",
       " 1913,\n",
       " 1931,\n",
       " 1933,\n",
       " 1949,\n",
       " 1951,\n",
       " 1973,\n",
       " 1979,\n",
       " 1987,\n",
       " 1993,\n",
       " 1997,\n",
       " 1999,\n",
       " 2003,\n",
       " 2011,\n",
       " 2017,\n",
       " 2027,\n",
       " 2029,\n",
       " 2039,\n",
       " 2053,\n",
       " 2063,\n",
       " 2069,\n",
       " 2081,\n",
       " 2083,\n",
       " 2087,\n",
       " 2089,\n",
       " 2099,\n",
       " 2111,\n",
       " 2113,\n",
       " 2129,\n",
       " 2131,\n",
       " 2137,\n",
       " 2141,\n",
       " 2143,\n",
       " 2153,\n",
       " 2161,\n",
       " 2179,\n",
       " 2203,\n",
       " 2207,\n",
       " 2213,\n",
       " 2221,\n",
       " 2237,\n",
       " 2239,\n",
       " 2243,\n",
       " 2251,\n",
       " 2267,\n",
       " 2269,\n",
       " 2273,\n",
       " 2281,\n",
       " 2287,\n",
       " 2293,\n",
       " 2297,\n",
       " 2309,\n",
       " 2311,\n",
       " 2333,\n",
       " 2339,\n",
       " 2341,\n",
       " 2347,\n",
       " 2351,\n",
       " 2357,\n",
       " 2371,\n",
       " 2377,\n",
       " 2381,\n",
       " 2383,\n",
       " 2389,\n",
       " 2393,\n",
       " 2399,\n",
       " 2411,\n",
       " 2417,\n",
       " 2423,\n",
       " 2437,\n",
       " 2441,\n",
       " 2447,\n",
       " 2459,\n",
       " 2467,\n",
       " 2473,\n",
       " 2477,\n",
       " 2503,\n",
       " 2521,\n",
       " 2531,\n",
       " 2539,\n",
       " 2543,\n",
       " 2549,\n",
       " 2551,\n",
       " 2557,\n",
       " 2579,\n",
       " 2591,\n",
       " 2593,\n",
       " 2609,\n",
       " 2617,\n",
       " 2621,\n",
       " 2633,\n",
       " 2647,\n",
       " 2657,\n",
       " 2659,\n",
       " 2663,\n",
       " 2671,\n",
       " 2677,\n",
       " 2683,\n",
       " 2687,\n",
       " 2689,\n",
       " 2693,\n",
       " 2699,\n",
       " 2707,\n",
       " 2711,\n",
       " 2713,\n",
       " 2719,\n",
       " 2729,\n",
       " 2731,\n",
       " 2741,\n",
       " 2749,\n",
       " 2753,\n",
       " 2767,\n",
       " 2777,\n",
       " 2789,\n",
       " 2791,\n",
       " 2797,\n",
       " 2801,\n",
       " 2803,\n",
       " 2819,\n",
       " 2833,\n",
       " 2837,\n",
       " 2843,\n",
       " 2851,\n",
       " 2857,\n",
       " 2861,\n",
       " 2879,\n",
       " 2887,\n",
       " 2897,\n",
       " 2903,\n",
       " 2909,\n",
       " 2917,\n",
       " 2927,\n",
       " 2939,\n",
       " 2953,\n",
       " 2957,\n",
       " 2963,\n",
       " 2969,\n",
       " 2971,\n",
       " 2999,\n",
       " 3001,\n",
       " 3011,\n",
       " 3019,\n",
       " 3023,\n",
       " 3037,\n",
       " 3041,\n",
       " 3049,\n",
       " 3061,\n",
       " 3067,\n",
       " 3079,\n",
       " 3083,\n",
       " 3089,\n",
       " 3109,\n",
       " 3119,\n",
       " 3121,\n",
       " 3137,\n",
       " 3163,\n",
       " 3167,\n",
       " 3169,\n",
       " 3181,\n",
       " 3187,\n",
       " 3191,\n",
       " 3203,\n",
       " 3209,\n",
       " 3217,\n",
       " 3221,\n",
       " 3229,\n",
       " 3251,\n",
       " 3253,\n",
       " 3257,\n",
       " 3259,\n",
       " 3271,\n",
       " 3299,\n",
       " 3301,\n",
       " 3307,\n",
       " 3313,\n",
       " 3319,\n",
       " 3323,\n",
       " 3329,\n",
       " 3331,\n",
       " 3343,\n",
       " 3347,\n",
       " 3359,\n",
       " 3361,\n",
       " 3371,\n",
       " 3373,\n",
       " 3389,\n",
       " 3391,\n",
       " 3407,\n",
       " 3413,\n",
       " 3433,\n",
       " 3449,\n",
       " 3457,\n",
       " 3461,\n",
       " 3463,\n",
       " 3467,\n",
       " 3469,\n",
       " 3491,\n",
       " 3499,\n",
       " 3511,\n",
       " 3517,\n",
       " 3527,\n",
       " 3529,\n",
       " 3533,\n",
       " 3539,\n",
       " 3541,\n",
       " 3547,\n",
       " 3557,\n",
       " 3559,\n",
       " 3571,\n",
       " 3581,\n",
       " 3583,\n",
       " 3593,\n",
       " 3607,\n",
       " 3613,\n",
       " 3617,\n",
       " 3623,\n",
       " 3631,\n",
       " 3637,\n",
       " 3643,\n",
       " 3659,\n",
       " 3671,\n",
       " 3673,\n",
       " 3677,\n",
       " 3691,\n",
       " 3697,\n",
       " 3701,\n",
       " 3709,\n",
       " 3719,\n",
       " 3727,\n",
       " 3733,\n",
       " 3739,\n",
       " 3761,\n",
       " 3767,\n",
       " 3769,\n",
       " 3779,\n",
       " 3793,\n",
       " 3797,\n",
       " 3803,\n",
       " 3821,\n",
       " 3823,\n",
       " 3833,\n",
       " 3847,\n",
       " 3851,\n",
       " 3853,\n",
       " 3863,\n",
       " 3877,\n",
       " 3881,\n",
       " 3889,\n",
       " 3907,\n",
       " 3911,\n",
       " 3917,\n",
       " 3919,\n",
       " 3923,\n",
       " 3929,\n",
       " 3931,\n",
       " 3943,\n",
       " 3947,\n",
       " 3967,\n",
       " 3989,\n",
       " 4001,\n",
       " 4003,\n",
       " 4007,\n",
       " 4013,\n",
       " 4019,\n",
       " 4021,\n",
       " 4027,\n",
       " 4049,\n",
       " 4051,\n",
       " 4057,\n",
       " 4073,\n",
       " 4079,\n",
       " 4091,\n",
       " 4093,\n",
       " 4099,\n",
       " 4111,\n",
       " 4127,\n",
       " 4129,\n",
       " 4133,\n",
       " 4139,\n",
       " 4153,\n",
       " 4157,\n",
       " 4159,\n",
       " 4177,\n",
       " 4201,\n",
       " 4211,\n",
       " 4217,\n",
       " 4219,\n",
       " 4229,\n",
       " 4231,\n",
       " 4241,\n",
       " 4243,\n",
       " 4253,\n",
       " 4259,\n",
       " 4261,\n",
       " 4271,\n",
       " 4273,\n",
       " 4283,\n",
       " 4289,\n",
       " 4297,\n",
       " 4327,\n",
       " 4337,\n",
       " 4339,\n",
       " 4349,\n",
       " 4357,\n",
       " 4363,\n",
       " 4373,\n",
       " 4391,\n",
       " 4397,\n",
       " 4409,\n",
       " 4421,\n",
       " 4423,\n",
       " 4441,\n",
       " 4447,\n",
       " 4451,\n",
       " 4457,\n",
       " 4463,\n",
       " 4481,\n",
       " 4483,\n",
       " 4493,\n",
       " 4507,\n",
       " 4513,\n",
       " 4517,\n",
       " 4519,\n",
       " 4523,\n",
       " 4547,\n",
       " 4549,\n",
       " 4561,\n",
       " 4567,\n",
       " 4583,\n",
       " 4591,\n",
       " 4597,\n",
       " 4603,\n",
       " 4621,\n",
       " 4637,\n",
       " 4639,\n",
       " 4643,\n",
       " 4649,\n",
       " 4651,\n",
       " 4657,\n",
       " 4663,\n",
       " 4673,\n",
       " 4679,\n",
       " 4691,\n",
       " 4703,\n",
       " 4721,\n",
       " 4723,\n",
       " 4729,\n",
       " 4733,\n",
       " 4751,\n",
       " 4759,\n",
       " 4783,\n",
       " 4787,\n",
       " 4789,\n",
       " 4793,\n",
       " 4799,\n",
       " 4801,\n",
       " 4813,\n",
       " 4817,\n",
       " 4831,\n",
       " 4861,\n",
       " 4871,\n",
       " 4877,\n",
       " 4889,\n",
       " 4903,\n",
       " 4909,\n",
       " 4919,\n",
       " 4931,\n",
       " 4933,\n",
       " 4937,\n",
       " 4943,\n",
       " 4951,\n",
       " 4957,\n",
       " 4967,\n",
       " 4969,\n",
       " 4973,\n",
       " 4987,\n",
       " 4993,\n",
       " 4999,\n",
       " 5003,\n",
       " 5009,\n",
       " 5011,\n",
       " 5021,\n",
       " 5023,\n",
       " 5039,\n",
       " 5051,\n",
       " 5059,\n",
       " 5077,\n",
       " 5081,\n",
       " 5087,\n",
       " 5099,\n",
       " 5101,\n",
       " 5107,\n",
       " 5113,\n",
       " 5119,\n",
       " 5147,\n",
       " 5153,\n",
       " 5167,\n",
       " 5171,\n",
       " 5179,\n",
       " 5189,\n",
       " 5197,\n",
       " 5209,\n",
       " 5227,\n",
       " 5231,\n",
       " 5233,\n",
       " 5237,\n",
       " 5261,\n",
       " 5273,\n",
       " 5279,\n",
       " 5281,\n",
       " 5297,\n",
       " 5303,\n",
       " 5309,\n",
       " 5323,\n",
       " 5333,\n",
       " 5347,\n",
       " 5351,\n",
       " 5381,\n",
       " 5387,\n",
       " 5393,\n",
       " 5399,\n",
       " 5407,\n",
       " 5413,\n",
       " 5417,\n",
       " 5419,\n",
       " 5431,\n",
       " 5437,\n",
       " 5441,\n",
       " 5443,\n",
       " 5449,\n",
       " 5471,\n",
       " 5477,\n",
       " 5479,\n",
       " 5483,\n",
       " 5501,\n",
       " 5503,\n",
       " 5507,\n",
       " 5519,\n",
       " 5521,\n",
       " 5527,\n",
       " 5531,\n",
       " 5557,\n",
       " 5563,\n",
       " 5569,\n",
       " 5573,\n",
       " 5581,\n",
       " 5591,\n",
       " 5623,\n",
       " 5639,\n",
       " 5641,\n",
       " 5647,\n",
       " 5651,\n",
       " 5653,\n",
       " 5657,\n",
       " 5659,\n",
       " 5669,\n",
       " 5683,\n",
       " 5689,\n",
       " 5693,\n",
       " 5701,\n",
       " 5711,\n",
       " 5717,\n",
       " 5737,\n",
       " 5741,\n",
       " 5743,\n",
       " 5749,\n",
       " 5779,\n",
       " 5783,\n",
       " 5791,\n",
       " 5801,\n",
       " 5807,\n",
       " 5813,\n",
       " 5821,\n",
       " 5827,\n",
       " 5839,\n",
       " 5843,\n",
       " 5849,\n",
       " 5851,\n",
       " 5857,\n",
       " 5861,\n",
       " 5867,\n",
       " 5869,\n",
       " 5879,\n",
       " 5881,\n",
       " 5897,\n",
       " 5903,\n",
       " 5923,\n",
       " 5927,\n",
       " 5939,\n",
       " 5953,\n",
       " 5981,\n",
       " 5987,\n",
       " 6007,\n",
       " 6011,\n",
       " 6029,\n",
       " 6037,\n",
       " 6043,\n",
       " 6047,\n",
       " 6053,\n",
       " 6067,\n",
       " 6073,\n",
       " 6079,\n",
       " 6089,\n",
       " 6091,\n",
       " 6101,\n",
       " 6113,\n",
       " 6121,\n",
       " 6131,\n",
       " 6133,\n",
       " 6143,\n",
       " 6151,\n",
       " 6163,\n",
       " 6173,\n",
       " 6197,\n",
       " 6199,\n",
       " 6203,\n",
       " 6211,\n",
       " 6217,\n",
       " 6221,\n",
       " 6229,\n",
       " 6247,\n",
       " 6257,\n",
       " 6263,\n",
       " 6269,\n",
       " 6271,\n",
       " 6277,\n",
       " 6287,\n",
       " 6299,\n",
       " 6301,\n",
       " 6311,\n",
       " 6317,\n",
       " 6323,\n",
       " 6329,\n",
       " 6337,\n",
       " 6343,\n",
       " 6353,\n",
       " 6359,\n",
       " 6361,\n",
       " 6367,\n",
       " 6373,\n",
       " 6379,\n",
       " 6389,\n",
       " 6397,\n",
       " 6421,\n",
       " 6427,\n",
       " 6449,\n",
       " 6451,\n",
       " 6469,\n",
       " 6473,\n",
       " 6481,\n",
       " 6491,\n",
       " 6521,\n",
       " 6529,\n",
       " 6547,\n",
       " 6551,\n",
       " 6553,\n",
       " 6563,\n",
       " 6569,\n",
       " 6571,\n",
       " 6577,\n",
       " 6581,\n",
       " 6599,\n",
       " 6607,\n",
       " 6619,\n",
       " 6637,\n",
       " 6653,\n",
       " 6659,\n",
       " 6661,\n",
       " 6673,\n",
       " 6679,\n",
       " 6689,\n",
       " 6691,\n",
       " 6701,\n",
       " 6703,\n",
       " 6709,\n",
       " 6719,\n",
       " 6733,\n",
       " 6737,\n",
       " 6761,\n",
       " 6763,\n",
       " 6779,\n",
       " 6781,\n",
       " 6791,\n",
       " 6793,\n",
       " 6803,\n",
       " 6823,\n",
       " 6827,\n",
       " 6829,\n",
       " 6833,\n",
       " 6841,\n",
       " 6857,\n",
       " 6863,\n",
       " 6869,\n",
       " 6871,\n",
       " 6883,\n",
       " 6899,\n",
       " 6907,\n",
       " 6911,\n",
       " 6917,\n",
       " 6947,\n",
       " 6949,\n",
       " 6959,\n",
       " 6961,\n",
       " 6967,\n",
       " 6971,\n",
       " 6977,\n",
       " 6983,\n",
       " 6991,\n",
       " 6997,\n",
       " 7001,\n",
       " 7013,\n",
       " 7019,\n",
       " 7027,\n",
       " 7039,\n",
       " 7043,\n",
       " 7057,\n",
       " 7069,\n",
       " 7079,\n",
       " 7103,\n",
       " 7109,\n",
       " 7121,\n",
       " 7127,\n",
       " 7129,\n",
       " 7151,\n",
       " 7159,\n",
       " 7177,\n",
       " 7187,\n",
       " 7193,\n",
       " 7207,\n",
       " 7211,\n",
       " 7213,\n",
       " 7219,\n",
       " 7229,\n",
       " 7237,\n",
       " 7243,\n",
       " 7247,\n",
       " 7253,\n",
       " 7283,\n",
       " 7297,\n",
       " 7307,\n",
       " 7309,\n",
       " 7321,\n",
       " 7331,\n",
       " 7333,\n",
       " 7349,\n",
       " 7351,\n",
       " 7369,\n",
       " 7393,\n",
       " 7411,\n",
       " 7417,\n",
       " 7433,\n",
       " 7451,\n",
       " 7457,\n",
       " 7459,\n",
       " 7477,\n",
       " 7481,\n",
       " 7487,\n",
       " 7489,\n",
       " 7499,\n",
       " 7507,\n",
       " 7517,\n",
       " 7523,\n",
       " 7529,\n",
       " 7537,\n",
       " 7541,\n",
       " 7547,\n",
       " 7549,\n",
       " 7559,\n",
       " 7561,\n",
       " 7573,\n",
       " 7577,\n",
       " 7583,\n",
       " 7589,\n",
       " 7591,\n",
       " 7603,\n",
       " 7607,\n",
       " 7621,\n",
       " 7639,\n",
       " 7643,\n",
       " 7649,\n",
       " 7669,\n",
       " 7673,\n",
       " 7681,\n",
       " 7687,\n",
       " 7691,\n",
       " 7699,\n",
       " 7703,\n",
       " 7717,\n",
       " 7723,\n",
       " 7727,\n",
       " 7741,\n",
       " 7753,\n",
       " 7757,\n",
       " 7759,\n",
       " 7789,\n",
       " 7793,\n",
       " 7817,\n",
       " 7823,\n",
       " 7829,\n",
       " 7841,\n",
       " 7853,\n",
       " 7867,\n",
       " 7873,\n",
       " 7877,\n",
       " 7879,\n",
       " 7883,\n",
       " 7901,\n",
       " 7907,\n",
       " 7919,\n",
       " ...]"
      ]
     },
     "execution_count": 9,
     "metadata": {},
     "output_type": "execute_result"
    }
   ],
   "source": [
    "#(c)\n",
    "N = 9999\n",
    "primes = []\n",
    "for n in range(2,N):\n",
    "    count = 0\n",
    "    for i in range(2, n//2 + 1):\n",
    "        if n%i == 0:\n",
    "            count = count + 1\n",
    "            break\n",
    "    if count <1: primes.append(n)\n",
    "\n",
    "primes"
   ]
  },
  {
   "cell_type": "markdown",
   "id": "96bcfe96",
   "metadata": {},
   "source": [
    "# 2.27 for Loop"
   ]
  },
  {
   "cell_type": "code",
   "execution_count": 14,
   "id": "220f8873",
   "metadata": {
    "ExecuteTime": {
     "end_time": "2022-01-26T04:22:06.999338Z",
     "start_time": "2022-01-26T04:22:06.990837Z"
    }
   },
   "outputs": [
    {
     "name": "stdout",
     "output_type": "stream",
     "text": [
      "4\n",
      "2\n",
      "a\n",
      "b\n",
      "c\n"
     ]
    }
   ],
   "source": [
    "#(a)\n",
    "L1 = [4,2,['a','b','c']]\n",
    "for Li in L1:\n",
    "    if type(Li) != list: print(Li)\n",
    "    else:\n",
    "        for x in Li: print(x)"
   ]
  },
  {
   "cell_type": "code",
   "execution_count": 15,
   "id": "184c83df",
   "metadata": {
    "ExecuteTime": {
     "end_time": "2022-01-26T04:23:54.616969Z",
     "start_time": "2022-01-26T04:23:54.611967Z"
    }
   },
   "outputs": [
    {
     "name": "stdout",
     "output_type": "stream",
     "text": [
      "[1, 2, 3, 4, 5]\n"
     ]
    }
   ],
   "source": [
    "#(b)\n",
    "L = [1,4,3,2,5]\n",
    "for n in range(len(L)-1,0,-1):\n",
    "    for i in range(n):\n",
    "        if L[i] > L[i+1]:\n",
    "            L[i], L[i+1] = L[i+1], L[i]\n",
    "print(L)"
   ]
  },
  {
   "cell_type": "markdown",
   "id": "9673f426",
   "metadata": {},
   "source": [
    "# 2.28 for - if - break 문과 else 문"
   ]
  },
  {
   "cell_type": "code",
   "execution_count": 18,
   "id": "eb8af9e1",
   "metadata": {
    "ExecuteTime": {
     "end_time": "2022-01-26T04:27:28.525693Z",
     "start_time": "2022-01-26T04:27:28.511190Z"
    }
   },
   "outputs": [
    {
     "name": "stdout",
     "output_type": "stream",
     "text": [
      "L has None\n"
     ]
    }
   ],
   "source": [
    "#(a)\n",
    "L = [[1,2,3],[5,None,7],[9,10,None,12]]\n",
    "for e in L:\n",
    "    for n in e:\n",
    "        if n==None:\n",
    "            print('L has None')\n",
    "            break\n",
    "    else:\n",
    "        continue\n",
    "    break"
   ]
  },
  {
   "cell_type": "code",
   "execution_count": 24,
   "id": "2ce94707",
   "metadata": {
    "ExecuteTime": {
     "end_time": "2022-01-26T04:31:25.600470Z",
     "start_time": "2022-01-26T04:31:25.589968Z"
    }
   },
   "outputs": [
    {
     "name": "stdout",
     "output_type": "stream",
     "text": [
      "L has None\n"
     ]
    }
   ],
   "source": [
    "#(b)\n",
    "L = [[1,2,3],[5,None,7],[9,10,None,12]]\n",
    "flag = 0\n",
    "for e in L:\n",
    "    for n in e:\n",
    "        if n==None:\n",
    "            print('L has None'); flag = 1\n",
    "            break\n",
    "    if flag == 1:\n",
    "        break"
   ]
  },
  {
   "cell_type": "markdown",
   "id": "ffc19647",
   "metadata": {},
   "source": [
    "# 2.29 for Loop와 List Comprehension"
   ]
  },
  {
   "cell_type": "code",
   "execution_count": 25,
   "id": "88968f22",
   "metadata": {
    "ExecuteTime": {
     "end_time": "2022-01-26T04:32:48.800735Z",
     "start_time": "2022-01-26T04:32:48.795234Z"
    }
   },
   "outputs": [
    {
     "name": "stdout",
     "output_type": "stream",
     "text": [
      "L1 = [2, 6, 10]\n"
     ]
    }
   ],
   "source": [
    "#(a)\n",
    "L = [1,2,3,4,5]\n",
    "L1 = []\n",
    "for n in L:\n",
    "    if n%2 == 1:\n",
    "        L1.append(n*2)\n",
    "print(\"L1 =\", L1)"
   ]
  },
  {
   "cell_type": "code",
   "execution_count": 27,
   "id": "3e4e5c28",
   "metadata": {
    "ExecuteTime": {
     "end_time": "2022-01-26T04:33:30.854846Z",
     "start_time": "2022-01-26T04:33:30.850346Z"
    }
   },
   "outputs": [
    {
     "name": "stdout",
     "output_type": "stream",
     "text": [
      "L1 = [1, 2, 3, 4, 5]\n"
     ]
    }
   ],
   "source": [
    "L = [1,2,3,4,5]\n",
    "L1 = [x for x in L if n%2 == 1]\n",
    "print(\"L1 =\", L1)"
   ]
  },
  {
   "cell_type": "code",
   "execution_count": 37,
   "id": "cb32d437",
   "metadata": {
    "ExecuteTime": {
     "end_time": "2022-01-26T05:04:05.704092Z",
     "start_time": "2022-01-26T05:04:05.696590Z"
    }
   },
   "outputs": [
    {
     "name": "stdout",
     "output_type": "stream",
     "text": [
      "[[1, 4], [2, 5], [3, 6], [4, 8]]\n"
     ]
    }
   ],
   "source": [
    "#(b)\n",
    "A = [[1,2,3,4],[4,5,6,8]]\n",
    "AT = []\n",
    "for i in range(len(A[0])):\n",
    "    rowT = []\n",
    "    for row in A:\n",
    "        rowT.append(row[i])\n",
    "    AT.append(rowT)\n",
    "print(AT)"
   ]
  },
  {
   "cell_type": "code",
   "execution_count": 38,
   "id": "3edabb3e",
   "metadata": {
    "ExecuteTime": {
     "end_time": "2022-01-26T05:04:05.889215Z",
     "start_time": "2022-01-26T05:04:05.871712Z"
    }
   },
   "outputs": [
    {
     "data": {
      "text/plain": [
       "[(1, 4), (2, 5), (3, 6), (4, 8)]"
      ]
     },
     "execution_count": 38,
     "metadata": {},
     "output_type": "execute_result"
    }
   ],
   "source": [
    "AT = list(zip(A[0],A[1])); AT"
   ]
  },
  {
   "cell_type": "markdown",
   "id": "b3c987a3",
   "metadata": {},
   "source": [
    "# 2.31 for Loop와 zip() 함수"
   ]
  },
  {
   "cell_type": "code",
   "execution_count": 39,
   "id": "7e4430bf",
   "metadata": {
    "ExecuteTime": {
     "end_time": "2022-01-26T05:07:42.212951Z",
     "start_time": "2022-01-26T05:07:42.202449Z"
    }
   },
   "outputs": [
    {
     "name": "stdout",
     "output_type": "stream",
     "text": [
      "Student : Charley , Score :  92\n",
      "Student : jessica , Score :  85\n",
      "Student : Tom     , Score :  76\n"
     ]
    }
   ],
   "source": [
    "#(a)\n",
    "students = [\"Charley\", \"jessica\", \"Tom\"]; scores = [92,85,76]\n",
    "for n in range(len(students)):\n",
    "    print(f\"Student : {students[n]:8}, Score : {scores[n]:3}\")"
   ]
  },
  {
   "cell_type": "code",
   "execution_count": 42,
   "id": "51b27e02",
   "metadata": {
    "ExecuteTime": {
     "end_time": "2022-01-26T05:08:58.523485Z",
     "start_time": "2022-01-26T05:08:58.518485Z"
    }
   },
   "outputs": [
    {
     "name": "stdout",
     "output_type": "stream",
     "text": [
      "student : Charley , Score:  92\n",
      "student : jessica , Score:  85\n",
      "student : Tom     , Score:  76\n"
     ]
    }
   ],
   "source": [
    "#(b)\n",
    "students = [\"Charley\", \"jessica\", \"Tom\"]; scores = [92,85,76]\n",
    "for students, score in zip(students, scores):\n",
    "    print(f\"student : {students:8}, Score: {score:3}\")"
   ]
  },
  {
   "cell_type": "markdown",
   "id": "8a74ed08",
   "metadata": {},
   "source": [
    "# 2.32 for Loop - 긴 string에서 짧은 string을 찾아내기"
   ]
  },
  {
   "cell_type": "code",
   "execution_count": 44,
   "id": "797422e9",
   "metadata": {
    "ExecuteTime": {
     "end_time": "2022-01-26T05:12:07.253373Z",
     "start_time": "2022-01-26T05:12:07.240871Z"
    }
   },
   "outputs": [
    {
     "name": "stdout",
     "output_type": "stream",
     "text": [
      "The 1th 'apple' is located at [9:13].\n",
      "The 2th 'apple' is located at [25:29].\n"
     ]
    },
    {
     "data": {
      "text/plain": [
       "'Is a pine----- a kind of -----?'"
      ]
     },
     "execution_count": 44,
     "metadata": {},
     "output_type": "execute_result"
    }
   ],
   "source": [
    "s = 'Is a pineapple a kind of apple?'\n",
    "w = 'apple'; lw = len(w)\n",
    "N = s.count(w)\n",
    "for n in range(0,N):\n",
    "    if n==0: s1=s\n",
    "    m = s1.index(w)\n",
    "    print(f\"The {n+1}th 'apple' is located at [{m}:{m+lw-1}].\")\n",
    "    s1 = s1[0:m] + '-'*lw + s1[m+lw:]\n",
    "    \n",
    "s1"
   ]
  },
  {
   "cell_type": "markdown",
   "id": "8f501503",
   "metadata": {},
   "source": [
    "# 2.33 for Loop - list로부터 dictionary를 만들기"
   ]
  },
  {
   "cell_type": "code",
   "execution_count": 45,
   "id": "32079e62",
   "metadata": {
    "ExecuteTime": {
     "end_time": "2022-01-26T05:16:23.316406Z",
     "start_time": "2022-01-26T05:16:23.299902Z"
    }
   },
   "outputs": [
    {
     "name": "stdout",
     "output_type": "stream",
     "text": [
      "{'Apple': 3, 'Orange': 1, 'Orage': 1, 'Strawberry': 1}\n"
     ]
    }
   ],
   "source": [
    "L = [\"Apple\",\"Orange\",\"Apple\",\"Orage\",\"Strawberry\",\"Apple\"]\n",
    "d = {}\n",
    "for item in L:\n",
    "    if item in d:\n",
    "        d[item] = d[item] + 1\n",
    "    else:\n",
    "        d[item] = 1\n",
    "print(d)\n",
    "        "
   ]
  },
  {
   "cell_type": "markdown",
   "id": "9f5948e4",
   "metadata": {},
   "source": [
    "# 2.34 for Loop - dictionary를 사용한 사물함관리"
   ]
  },
  {
   "cell_type": "code",
   "execution_count": 47,
   "id": "19d9504e",
   "metadata": {
    "ExecuteTime": {
     "end_time": "2022-01-26T05:21:55.363247Z",
     "start_time": "2022-01-26T05:21:55.345243Z"
    }
   },
   "outputs": [
    {
     "name": "stdout",
     "output_type": "stream",
     "text": [
      "101번 사물함의 사용자는 우도연입니다.\n"
     ]
    }
   ],
   "source": [
    "#(a)\n",
    "d = {101: \"우도연\", 123: \"우주한\", 247: \"정진혁\", 251: \"양하린\",\n",
    "     289: \"양하윤\", 456: \"비어있음\"}\n",
    "box_no = 101\n",
    "user = None\n",
    "for key, val in d.items():\n",
    "    if key == box_no:\n",
    "        user = val\n",
    "if user:\n",
    "    print(str(box_no) + \"번 사물함의 사용자는 \" + user + \"입니다.\")\n",
    "else:\n",
    "    print(\"번호가 \" + str(box_no) + \"인 사물함은 없습니다.\")"
   ]
  },
  {
   "cell_type": "code",
   "execution_count": 51,
   "id": "8da7b572",
   "metadata": {
    "ExecuteTime": {
     "end_time": "2022-01-26T05:25:15.556557Z",
     "start_time": "2022-01-26T05:25:15.545555Z"
    }
   },
   "outputs": [
    {
     "name": "stdout",
     "output_type": "stream",
     "text": [
      "양하린님이 사용하는 사물함 번호: 251\n"
     ]
    }
   ],
   "source": [
    "#(b)\n",
    "d = {101: \"우도연\", 123: \"우주한\", 247: \"정진혁\", 251: \"양하린\",\n",
    "     289: \"양하윤\", 456: \"비어있음\"}\n",
    "name = \"양하린\"\n",
    "box_no = None\n",
    "for key, val in d.items():\n",
    "    if val == name:\n",
    "        box_no = key\n",
    "\n",
    "if box_no:\n",
    "    print(name + \"님이 사용하는 사물함 번호: \" + str(box_no))\n",
    "else:\n",
    "    print(name + \"님이 사용하는 사물함은 없습니다.\")"
   ]
  },
  {
   "cell_type": "code",
   "execution_count": 52,
   "id": "722179ba",
   "metadata": {
    "ExecuteTime": {
     "end_time": "2022-01-26T05:26:37.638579Z",
     "start_time": "2022-01-26T05:26:37.625076Z"
    }
   },
   "outputs": [
    {
     "name": "stdout",
     "output_type": "stream",
     "text": [
      "비어있는 사물함번호:\n",
      " [456]\n"
     ]
    }
   ],
   "source": [
    "#(c)\n",
    "L_empty = []\n",
    "for key, val in d.items():\n",
    "    if val == \"비어있음\":\n",
    "        L_empty.append(key)\n",
    "print(\"비어있는 사물함번호:\\n\", L_empty)"
   ]
  },
  {
   "cell_type": "markdown",
   "id": "aa864599",
   "metadata": {},
   "source": [
    "# 2.35 while Loop"
   ]
  },
  {
   "cell_type": "code",
   "execution_count": 58,
   "id": "ac8f6342",
   "metadata": {
    "ExecuteTime": {
     "end_time": "2022-01-26T05:29:49.566394Z",
     "start_time": "2022-01-26T05:29:49.551392Z"
    }
   },
   "outputs": [
    {
     "name": "stdout",
     "output_type": "stream",
     "text": [
      "4\n"
     ]
    }
   ],
   "source": [
    "x, y = 8, 12\n",
    "while(y):\n",
    "    x,y = y,x%y\n",
    "print(x)"
   ]
  },
  {
   "cell_type": "code",
   "execution_count": 59,
   "id": "2d423a32",
   "metadata": {
    "ExecuteTime": {
     "end_time": "2022-01-26T05:30:56.591802Z",
     "start_time": "2022-01-26T05:30:56.583300Z"
    }
   },
   "outputs": [
    {
     "name": "stdout",
     "output_type": "stream",
     "text": [
      "10\n"
     ]
    }
   ],
   "source": [
    "x = 1\n",
    "while True:\n",
    "    if x >= 9: break\n",
    "    if x > 5: x = x + 2; continue\n",
    "    x = x * 2\n",
    "print(x)"
   ]
  },
  {
   "cell_type": "markdown",
   "id": "382672fe",
   "metadata": {},
   "source": [
    "# 2.36 while Loop"
   ]
  },
  {
   "cell_type": "code",
   "execution_count": 1,
   "id": "b45bd516",
   "metadata": {
    "ExecuteTime": {
     "end_time": "2022-01-26T05:34:54.334617Z",
     "start_time": "2022-01-26T05:34:43.611400Z"
    }
   },
   "outputs": [
    {
     "name": "stdout",
     "output_type": "stream",
     "text": [
      "돈을 넣으세요(500원 이상): 1\n",
      "돈이 모자라니 끄지세요.\n",
      "돈을 넣으세요(500원 이상): 30\n",
      "돈이 모자라니 끄지세요.\n",
      "돈을 넣으세요(500원 이상): 3000\n",
      "커피 나가신다!\n",
      "잔돈 2500원도 가져가세요.\n",
      "돈을 넣으세요(500원 이상): 2500\n",
      "커피 나가신다!\n",
      "잔돈 2000원도 가져가세요.\n",
      "돈을 넣으세요(500원 이상): 999999999\n",
      "커피 나가신다!\n",
      "잔돈 999999499원도 가져가세요.\n",
      "커피가 다 떨어졌으니 끄지세요.\n"
     ]
    }
   ],
   "source": [
    "커피 = 3; 가격 = 500\n",
    "while 커피:\n",
    "    현금 = int(input(\"돈을 넣으세요(500원 이상): \"))\n",
    "    if 현금 >= 가격:\n",
    "        print(\"커피 나가신다!\")\n",
    "        커피 = 커피 - 1\n",
    "        잔돈 = 현금 - 가격\n",
    "        if 잔돈 > 0: print(f\"잔돈 {잔돈}원도 가져가세요.\")\n",
    "    else:\n",
    "        print(\"돈이 모자라니 끄지세요.\")\n",
    "print(\"커피가 다 떨어졌으니 끄지세요.\")"
   ]
  },
  {
   "cell_type": "markdown",
   "id": "5b44c631",
   "metadata": {},
   "source": [
    "# 2.37 while Loop"
   ]
  },
  {
   "cell_type": "code",
   "execution_count": 9,
   "id": "ca32c323",
   "metadata": {
    "ExecuteTime": {
     "end_time": "2022-01-26T05:38:59.003660Z",
     "start_time": "2022-01-26T05:38:53.690909Z"
    }
   },
   "outputs": [
    {
     "name": "stdout",
     "output_type": "stream",
     "text": [
      "Input a number:tlqkf\n",
      "Input a number:tlqkf\n",
      "Input a number:tlqkf\n",
      "Input a number:12\n",
      "Input a number:12\n",
      "Input a number:12\n",
      "[12, 12, 12]\n"
     ]
    }
   ],
   "source": [
    "user_numbers = []\n",
    "while len(user_numbers)<3:\n",
    "    user_number = input('Input a number:')\n",
    "    if not user_number.isnumeric():\n",
    "        continue\n",
    "    user_numbers.append(int(user_number))\n",
    "print(user_numbers)"
   ]
  },
  {
   "cell_type": "markdown",
   "id": "14efb23a",
   "metadata": {},
   "source": [
    "# 2.38 while Loop"
   ]
  },
  {
   "cell_type": "code",
   "execution_count": 18,
   "id": "0763aa81",
   "metadata": {
    "ExecuteTime": {
     "end_time": "2022-01-26T05:46:32.931891Z",
     "start_time": "2022-01-26T05:46:32.916388Z"
    }
   },
   "outputs": [
    {
     "name": "stdout",
     "output_type": "stream",
     "text": [
      "3 [1, 2, 3, 4, 5, 6, 7]\n"
     ]
    }
   ],
   "source": [
    "L = [1,2,[3,4,[5,6,7]]]; L1 = []\n",
    "list_nested = 1\n",
    "n = 0\n",
    "while list_nested > 0:\n",
    "    L1 = []; n += 1\n",
    "    for item in L:\n",
    "        list_nested = 0\n",
    "        if type(item) == list:\n",
    "            L1.extend(item)\n",
    "            list_nested = 1\n",
    "        else:\n",
    "            L1.append(item)\n",
    "    L = L1.copy()\n",
    "print(n,L1)"
   ]
  },
  {
   "cell_type": "markdown",
   "id": "6d96fe14",
   "metadata": {},
   "source": [
    "# 2.39 while Loop 내 break, continue"
   ]
  },
  {
   "cell_type": "code",
   "execution_count": 2,
   "id": "a9844bce",
   "metadata": {
    "ExecuteTime": {
     "end_time": "2022-01-26T05:58:14.372149Z",
     "start_time": "2022-01-26T05:56:49.010209Z"
    }
   },
   "outputs": [
    {
     "name": "stdout",
     "output_type": "stream",
     "text": [
      "A = {'가격': 10, '재고': 2}\n",
      "B = {'가격': 5, '재고': 3}\n",
      "Which one do you want in the above list? ... (Press Enter to quit)1\n",
      "\n",
      " 그딴거 없다 끄지라\n",
      "\n",
      "A = {'가격': 10, '재고': 2}\n",
      "B = {'가격': 5, '재고': 3}\n",
      "Which one do you want in the above list? ... (Press Enter to quit)A\n",
      "돈을 넣으세요: 1\n",
      "\n",
      " 그지새끼 끄지라\n",
      "\n",
      "A = {'가격': 10, '재고': 2}\n",
      "B = {'가격': 5, '재고': 3}\n",
      "Which one do you want in the above list? ... (Press Enter to quit)A\n",
      "돈을 넣으세요: 11\n",
      "여기 상품 A와 잔돈 1원입니다.\n",
      "\n",
      "A = {'가격': 10, '재고': 1}\n",
      "B = {'가격': 5, '재고': 3}\n",
      "Which one do you want in the above list? ... (Press Enter to quit)A\n",
      "돈을 넣으세요: 10\n",
      "여기 상품 A와 잔돈 0원입니다.\n",
      "\n",
      "A = {'가격': 10, '재고': 0}\n",
      "B = {'가격': 5, '재고': 3}\n",
      "Which one do you want in the above list? ... (Press Enter to quit)A\n",
      "\n",
      " 다 떨어졌어요!\n",
      "\n",
      "A = {'가격': 10, '재고': 0}\n",
      "B = {'가격': 5, '재고': 3}\n",
      "Which one do you want in the above list? ... (Press Enter to quit)B\n",
      "돈을 넣으세요: 10\n",
      "여기 상품 B와 잔돈 5원입니다.\n",
      "\n",
      "A = {'가격': 10, '재고': 0}\n",
      "B = {'가격': 5, '재고': 2}\n",
      "Which one do you want in the above list? ... (Press Enter to quit)B\n",
      "돈을 넣으세요: 10\n",
      "여기 상품 B와 잔돈 5원입니다.\n",
      "\n",
      "A = {'가격': 10, '재고': 0}\n",
      "B = {'가격': 5, '재고': 1}\n",
      "Which one do you want in the above list? ... (Press Enter to quit)B\n",
      "돈을 넣으세요: 10\n",
      "여기 상품 B와 잔돈 5원입니다.\n",
      "\n",
      "A = {'가격': 10, '재고': 0}\n",
      "B = {'가격': 5, '재고': 0}\n",
      "죄송하지만 재고가 없습니다!\n"
     ]
    }
   ],
   "source": [
    "goods = {'A': {'가격':10, '재고':2},\n",
    "         'B': {'가격':5, '재고':3}}\n",
    "prompt = '''Which one do you want in the above list? ... (Press Enter to quit)'''\n",
    "while True:\n",
    "    재고 = 0\n",
    "    for key, item in goods.items():\n",
    "        재고 += goods[key]['재고']\n",
    "        print(f'{key} = {item}')\n",
    "    if 재고 <=0:\n",
    "        print(\"죄송하지만 재고가 없습니다!\")\n",
    "        break\n",
    "    상품 = input(prompt)\n",
    "    if 상품 == '':\n",
    "        break\n",
    "    if 상품 not in goods.keys():\n",
    "        print(\"\\n 그딴거 없다 끄지라\\n\")\n",
    "        continue\n",
    "    가격 = goods[상품]['가격']\n",
    "    재고 = goods[상품]['재고']\n",
    "    if 재고 < 1:\n",
    "        print('\\n 다 떨어졌어요!\\n')\n",
    "        continue\n",
    "    현금 = int(input(\"돈을 넣으세요: \"))\n",
    "    잔돈 = 현금 - 가격\n",
    "    if 잔돈 >= 0:\n",
    "        print(f'여기 상품 {상품}와 잔돈 {잔돈}원입니다.\\n')\n",
    "        goods[상품]['재고'] = 재고 - 1\n",
    "    else:\n",
    "        print('\\n 그지새끼 끄지라\\n')"
   ]
  },
  {
   "cell_type": "code",
   "execution_count": null,
   "id": "e71bd34d",
   "metadata": {},
   "outputs": [],
   "source": []
  },
  {
   "cell_type": "code",
   "execution_count": null,
   "id": "0959e787",
   "metadata": {},
   "outputs": [],
   "source": []
  },
  {
   "cell_type": "markdown",
   "id": "aee1a4a7",
   "metadata": {},
   "source": [
    "# \n"
   ]
  }
 ],
 "metadata": {
  "kernelspec": {
   "display_name": "Python 3 (ipykernel)",
   "language": "python",
   "name": "python3"
  },
  "language_info": {
   "codemirror_mode": {
    "name": "ipython",
    "version": 3
   },
   "file_extension": ".py",
   "mimetype": "text/x-python",
   "name": "python",
   "nbconvert_exporter": "python",
   "pygments_lexer": "ipython3",
   "version": "3.9.7"
  },
  "toc": {
   "base_numbering": 1,
   "nav_menu": {},
   "number_sections": true,
   "sideBar": true,
   "skip_h1_title": false,
   "title_cell": "Table of Contents",
   "title_sidebar": "Contents",
   "toc_cell": false,
   "toc_position": {},
   "toc_section_display": true,
   "toc_window_display": false
  }
 },
 "nbformat": 4,
 "nbformat_minor": 5
}
