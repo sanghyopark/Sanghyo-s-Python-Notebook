{
 "cells": [
  {
   "cell_type": "code",
   "execution_count": 3,
   "id": "dd9a4626",
   "metadata": {
    "scrolled": true
   },
   "outputs": [
    {
     "name": "stdout",
     "output_type": "stream",
     "text": [
      "\n",
      " z = 3\n"
     ]
    }
   ],
   "source": [
    "x = 1; y = 2\n",
    "case = 'a'\n",
    "if case == 'a':\n",
    "    z = x + y\n",
    "else:\n",
    "    z = x - y\n",
    "print(f'\\n z = {z}')"
   ]
  },
  {
   "cell_type": "code",
   "execution_count": null,
   "id": "4a722768",
   "metadata": {},
   "outputs": [],
   "source": []
  },
  {
   "cell_type": "markdown",
   "id": "143986d1",
   "metadata": {},
   "source": [
    "구문 안에 변수를 넣는 여러가지 방법"
   ]
  },
  {
   "cell_type": "code",
   "execution_count": 4,
   "id": "3053caa3",
   "metadata": {},
   "outputs": [],
   "source": [
    "First_Name = 'Jae-in'; Last_Name = 'Moon'"
   ]
  },
  {
   "cell_type": "code",
   "execution_count": 5,
   "id": "9fe74992",
   "metadata": {},
   "outputs": [
    {
     "name": "stdout",
     "output_type": "stream",
     "text": [
      "My name is Jae-in Moon.\n"
     ]
    }
   ],
   "source": [
    "print('My name is ' + First_Name + ' ' + Last_Name + '.')"
   ]
  },
  {
   "cell_type": "code",
   "execution_count": 6,
   "id": "f9867fbd",
   "metadata": {},
   "outputs": [
    {
     "name": "stdout",
     "output_type": "stream",
     "text": [
      "My name is Jae-in Moon.\n"
     ]
    }
   ],
   "source": [
    "print(f'My name is {First_Name} {Last_Name}.')"
   ]
  },
  {
   "cell_type": "code",
   "execution_count": 7,
   "id": "92d72262",
   "metadata": {},
   "outputs": [
    {
     "name": "stdout",
     "output_type": "stream",
     "text": [
      "My name is Jae-in Moon.\n"
     ]
    }
   ],
   "source": [
    "print('My name is {} {}.'.format(First_Name, Last_Name))"
   ]
  },
  {
   "cell_type": "code",
   "execution_count": null,
   "id": "5c7b838a",
   "metadata": {},
   "outputs": [],
   "source": []
  },
  {
   "cell_type": "code",
   "execution_count": 8,
   "id": "3a1071ae",
   "metadata": {},
   "outputs": [],
   "source": [
    "yes_votes = 42572654; no_votes = 43_132_495"
   ]
  },
  {
   "cell_type": "code",
   "execution_count": 9,
   "id": "bcd3165e",
   "metadata": {},
   "outputs": [],
   "source": [
    "approval_rate = yes_votes/(yes_votes + no_votes)"
   ]
  },
  {
   "cell_type": "code",
   "execution_count": 10,
   "id": "d3e9acc5",
   "metadata": {},
   "outputs": [
    {
     "name": "stdout",
     "output_type": "stream",
     "text": [
      "0.496733912684756\n"
     ]
    }
   ],
   "source": [
    "print(approval_rate)"
   ]
  },
  {
   "cell_type": "code",
   "execution_count": 11,
   "id": "b855742c",
   "metadata": {},
   "outputs": [
    {
     "data": {
      "text/plain": [
       "' 42572654 Yes votes:   49.7%'"
      ]
     },
     "execution_count": 11,
     "metadata": {},
     "output_type": "execute_result"
    }
   ],
   "source": [
    "'{:9} Yes votes: {:7.1%}'.format(yes_votes, approval_rate)\n",
    "#{:9}: yes_votes의 자리수를 9개로\n",
    "#{:7.1%}: approval_rate의 자리수를 7개로 그중 소수점 이하 자리수를 1개로 반올림"
   ]
  },
  {
   "cell_type": "code",
   "execution_count": 12,
   "id": "5fb4bcfb",
   "metadata": {},
   "outputs": [
    {
     "data": {
      "text/plain": [
       "' 42572654 Yes votes :   49.7%'"
      ]
     },
     "execution_count": 12,
     "metadata": {},
     "output_type": "execute_result"
    }
   ],
   "source": [
    "f'{yes_votes:9} Yes votes : {approval_rate:7.1%}'"
   ]
  },
  {
   "cell_type": "code",
   "execution_count": 13,
   "id": "00b33da2",
   "metadata": {},
   "outputs": [],
   "source": [
    "import math"
   ]
  },
  {
   "cell_type": "code",
   "execution_count": 15,
   "id": "3b866113",
   "metadata": {},
   "outputs": [
    {
     "name": "stdout",
     "output_type": "stream",
     "text": [
      "The value of pi is approximately 3.142\n"
     ]
    }
   ],
   "source": [
    "print(f'The value of pi is approximately {math.pi:.3f}')\n",
    "#{.3f}: 전체 자리수는 지정하지 않고 소수점 이하 자리수만 3개 반올림"
   ]
  },
  {
   "cell_type": "code",
   "execution_count": null,
   "id": "a9d66d6c",
   "metadata": {},
   "outputs": [],
   "source": []
  }
 ],
 "metadata": {
  "kernelspec": {
   "display_name": "Python 3 (ipykernel)",
   "language": "python",
   "name": "python3"
  },
  "language_info": {
   "codemirror_mode": {
    "name": "ipython",
    "version": 3
   },
   "file_extension": ".py",
   "mimetype": "text/x-python",
   "name": "python",
   "nbconvert_exporter": "python",
   "pygments_lexer": "ipython3",
   "version": "3.9.7"
  }
 },
 "nbformat": 4,
 "nbformat_minor": 5
}
