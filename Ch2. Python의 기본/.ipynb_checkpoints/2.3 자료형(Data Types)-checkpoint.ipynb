{
 "cells": [
  {
   "cell_type": "code",
   "execution_count": 1,
   "id": "e7b11a23",
   "metadata": {},
   "outputs": [
    {
     "data": {
      "text/plain": [
       "int"
      ]
     },
     "execution_count": 1,
     "metadata": {},
     "output_type": "execute_result"
    }
   ],
   "source": [
    "type(2) #2의 Data type은?"
   ]
  },
  {
   "cell_type": "code",
   "execution_count": 2,
   "id": "143dcd57",
   "metadata": {},
   "outputs": [
    {
     "data": {
      "text/plain": [
       "float"
      ]
     },
     "execution_count": 2,
     "metadata": {},
     "output_type": "execute_result"
    }
   ],
   "source": [
    "type(3.3) #3.3의 Data type은?"
   ]
  },
  {
   "cell_type": "code",
   "execution_count": 3,
   "id": "fc440fd9",
   "metadata": {},
   "outputs": [
    {
     "data": {
      "text/plain": [
       "complex"
      ]
     },
     "execution_count": 3,
     "metadata": {},
     "output_type": "execute_result"
    }
   ],
   "source": [
    "type(1j) #1j의 Data type은?"
   ]
  },
  {
   "cell_type": "code",
   "execution_count": 5,
   "id": "4a851c66",
   "metadata": {},
   "outputs": [
    {
     "data": {
      "text/plain": [
       "str"
      ]
     },
     "execution_count": 5,
     "metadata": {},
     "output_type": "execute_result"
    }
   ],
   "source": [
    "type('Python') #'Python'의 Data type은?"
   ]
  },
  {
   "cell_type": "code",
   "execution_count": 6,
   "id": "ac038fd9",
   "metadata": {},
   "outputs": [],
   "source": [
    "L1 = [1, 'Hi', 2j, '6', True]"
   ]
  },
  {
   "cell_type": "code",
   "execution_count": 7,
   "id": "3a5e2add",
   "metadata": {},
   "outputs": [
    {
     "data": {
      "text/plain": [
       "list"
      ]
     },
     "execution_count": 7,
     "metadata": {},
     "output_type": "execute_result"
    }
   ],
   "source": [
    "type(L1) #L1의 Data type은?"
   ]
  },
  {
   "cell_type": "code",
   "execution_count": 8,
   "id": "e79a26f9",
   "metadata": {},
   "outputs": [],
   "source": [
    "D1 = {'Key1': 'Value1', 'Key2': 'Value2'}"
   ]
  },
  {
   "cell_type": "code",
   "execution_count": 9,
   "id": "64b0594f",
   "metadata": {},
   "outputs": [
    {
     "data": {
      "text/plain": [
       "dict"
      ]
     },
     "execution_count": 9,
     "metadata": {},
     "output_type": "execute_result"
    }
   ],
   "source": [
    "type(D1)"
   ]
  },
  {
   "cell_type": "code",
   "execution_count": 10,
   "id": "4a8be80b",
   "metadata": {},
   "outputs": [],
   "source": [
    "T1 = ('Item', 1, 'Member')"
   ]
  },
  {
   "cell_type": "code",
   "execution_count": 11,
   "id": "481969f5",
   "metadata": {},
   "outputs": [
    {
     "data": {
      "text/plain": [
       "tuple"
      ]
     },
     "execution_count": 11,
     "metadata": {},
     "output_type": "execute_result"
    }
   ],
   "source": [
    "type(T1)"
   ]
  },
  {
   "cell_type": "markdown",
   "id": "c816f337",
   "metadata": {},
   "source": [
    "# 2.3.1 수(Number)"
   ]
  },
  {
   "cell_type": "code",
   "execution_count": 12,
   "id": "32c21ebc",
   "metadata": {},
   "outputs": [
    {
     "data": {
      "text/plain": [
       "3"
      ]
     },
     "execution_count": 12,
     "metadata": {},
     "output_type": "execute_result"
    }
   ],
   "source": [
    "int(3.5)"
   ]
  },
  {
   "cell_type": "code",
   "execution_count": 13,
   "id": "22a9d870",
   "metadata": {},
   "outputs": [
    {
     "data": {
      "text/plain": [
       "2000.0"
      ]
     },
     "execution_count": 13,
     "metadata": {},
     "output_type": "execute_result"
    }
   ],
   "source": [
    "2e3"
   ]
  },
  {
   "cell_type": "code",
   "execution_count": 14,
   "id": "0f7ce9c5",
   "metadata": {},
   "outputs": [
    {
     "data": {
      "text/plain": [
       "1.6"
      ]
     },
     "execution_count": 14,
     "metadata": {},
     "output_type": "execute_result"
    }
   ],
   "source": [
    "float('1.6')"
   ]
  },
  {
   "cell_type": "code",
   "execution_count": 15,
   "id": "2587680e",
   "metadata": {},
   "outputs": [
    {
     "data": {
      "text/plain": [
       "inf"
      ]
     },
     "execution_count": 15,
     "metadata": {},
     "output_type": "execute_result"
    }
   ],
   "source": [
    "float('inf')"
   ]
  },
  {
   "cell_type": "code",
   "execution_count": 16,
   "id": "96658c39",
   "metadata": {},
   "outputs": [
    {
     "data": {
      "text/plain": [
       "-inf"
      ]
     },
     "execution_count": 16,
     "metadata": {},
     "output_type": "execute_result"
    }
   ],
   "source": [
    "float('-inf')"
   ]
  },
  {
   "cell_type": "markdown",
   "id": "1bff63ba",
   "metadata": {},
   "source": [
    "bin(57) #2진수"
   ]
  },
  {
   "cell_type": "code",
   "execution_count": 18,
   "id": "4dffdb0a",
   "metadata": {},
   "outputs": [
    {
     "data": {
      "text/plain": [
       "'0x39'"
      ]
     },
     "execution_count": 18,
     "metadata": {},
     "output_type": "execute_result"
    }
   ],
   "source": [
    "hex(57) #16진수"
   ]
  },
  {
   "cell_type": "code",
   "execution_count": 20,
   "id": "ed6f0eec",
   "metadata": {},
   "outputs": [
    {
     "data": {
      "text/plain": [
       "False"
      ]
     },
     "execution_count": 20,
     "metadata": {},
     "output_type": "execute_result"
    }
   ],
   "source": [
    "bool(0) #숫자에서 0만 False"
   ]
  },
  {
   "cell_type": "code",
   "execution_count": 22,
   "id": "431a4ee0",
   "metadata": {},
   "outputs": [
    {
     "data": {
      "text/plain": [
       "True"
      ]
     },
     "execution_count": 22,
     "metadata": {},
     "output_type": "execute_result"
    }
   ],
   "source": [
    "bool(-1) #숫자에서 0만 아니면 True"
   ]
  },
  {
   "cell_type": "code",
   "execution_count": 23,
   "id": "e5b15ef3",
   "metadata": {},
   "outputs": [
    {
     "data": {
      "text/plain": [
       "True"
      ]
     },
     "execution_count": 23,
     "metadata": {},
     "output_type": "execute_result"
    }
   ],
   "source": [
    "bool('Flase') #0 외엔 모두 True"
   ]
  },
  {
   "cell_type": "markdown",
   "id": "77b9e622",
   "metadata": {},
   "source": [
    "# 2.3.2 문자열(String)"
   ]
  },
  {
   "cell_type": "code",
   "execution_count": 25,
   "id": "c697d936",
   "metadata": {},
   "outputs": [],
   "source": [
    "s1 = 'Mary\\'s favorite hobby is hiking.'\n",
    "s2 = \"Mary's favorite hobby is hiking.\"\n",
    "#작은따옴표나 큰따옴표를 문자열에 넣기"
   ]
  },
  {
   "cell_type": "code",
   "execution_count": 39,
   "id": "3cbdf080",
   "metadata": {},
   "outputs": [
    {
     "name": "stdout",
     "output_type": "stream",
     "text": [
      "Mary's favorite hobby is hiking.\n",
      "Mary's favorite hobby is hiking.\n"
     ]
    }
   ],
   "source": [
    "print(f'{s1}\\n{s2}')"
   ]
  },
  {
   "cell_type": "code",
   "execution_count": 42,
   "id": "a0467079",
   "metadata": {},
   "outputs": [],
   "source": [
    "multiline = \"Art is long\\nlife is short.\"\n",
    "# \\n을 이용해 여러줄을 한 문자열로 만들기"
   ]
  },
  {
   "cell_type": "code",
   "execution_count": 43,
   "id": "6b1eafaf",
   "metadata": {},
   "outputs": [
    {
     "name": "stdout",
     "output_type": "stream",
     "text": [
      "Art is long\n",
      "life is short.\n"
     ]
    }
   ],
   "source": [
    "print(multline)"
   ]
  },
  {
   "cell_type": "code",
   "execution_count": 46,
   "id": "15c9ac3c",
   "metadata": {},
   "outputs": [],
   "source": [
    "multiline1 = '''Art is long,\n",
    "    life is short.'''\n",
    "multiline2 = \"\"\"Art is long,\n",
    "    life is short.\"\"\"\n",
    "# 3개의 따옴표 사용하여 여러줄을 한 문자열로 만들기"
   ]
  },
  {
   "cell_type": "code",
   "execution_count": 55,
   "id": "ea5f6033",
   "metadata": {},
   "outputs": [
    {
     "name": "stdout",
     "output_type": "stream",
     "text": [
      "Art is long,\n",
      "    life is short.\n",
      "Art is long,\n",
      "    life is short.\n"
     ]
    }
   ],
   "source": [
    "print(multiline1,'\\n',multiline2,sep='')"
   ]
  },
  {
   "cell_type": "markdown",
   "id": "a79d8901",
   "metadata": {},
   "source": [
    "## 2.3.2.3 문자열에 대한 연산"
   ]
  },
  {
   "cell_type": "code",
   "execution_count": 57,
   "id": "fb84a122",
   "metadata": {},
   "outputs": [
    {
     "name": "stdout",
     "output_type": "stream",
     "text": [
      "Art is long, life is short.\n"
     ]
    }
   ],
   "source": [
    "s1 = 'Art is long, '\n",
    "s2 = \"life is short.\"\n",
    "print(s1+s2)\n",
    "# 문자열을 더해서 연결하기"
   ]
  },
  {
   "cell_type": "code",
   "execution_count": 58,
   "id": "7fdac845",
   "metadata": {},
   "outputs": [
    {
     "data": {
      "text/plain": [
       "'I like pythonI like pythonI like python'"
      ]
     },
     "execution_count": 58,
     "metadata": {},
     "output_type": "execute_result"
    }
   ],
   "source": [
    "s = \"I like python\"; s3 = s*3\n",
    "s3\n",
    "# 문자열에 자연수를 곱해서 그 수만큼 반복하기"
   ]
  },
  {
   "cell_type": "markdown",
   "id": "cce4bfdf",
   "metadata": {},
   "source": [
    "### (3) 문자열에서 문자들을 꺼내보거나(Indexing) 문자열을 나누기(Slicing)"
   ]
  },
  {
   "cell_type": "code",
   "execution_count": 11,
   "id": "85bef9e2",
   "metadata": {},
   "outputs": [],
   "source": [
    "s = \"Art is long.\""
   ]
  },
  {
   "cell_type": "code",
   "execution_count": 3,
   "id": "0331fd0e",
   "metadata": {},
   "outputs": [
    {
     "data": {
      "text/plain": [
       "'s'"
      ]
     },
     "execution_count": 3,
     "metadata": {},
     "output_type": "execute_result"
    }
   ],
   "source": [
    "s[5]"
   ]
  },
  {
   "cell_type": "code",
   "execution_count": 4,
   "id": "9ece7d13",
   "metadata": {},
   "outputs": [
    {
     "data": {
      "text/plain": [
       "('.', 'g', 's')"
      ]
     },
     "execution_count": 4,
     "metadata": {},
     "output_type": "execute_result"
    }
   ],
   "source": [
    "s[-1], s[-2], s[-7]"
   ]
  },
  {
   "cell_type": "code",
   "execution_count": 5,
   "id": "bf05f520",
   "metadata": {},
   "outputs": [
    {
     "name": "stdout",
     "output_type": "stream",
     "text": [
      "Art Art\n"
     ]
    }
   ],
   "source": [
    "print(s[0:3], s[:3])\n",
    "# 3번째 문자 포함 안됨"
   ]
  },
  {
   "cell_type": "code",
   "execution_count": 6,
   "id": "1545b9c4",
   "metadata": {},
   "outputs": [
    {
     "data": {
      "text/plain": [
       "'t i'"
      ]
     },
     "execution_count": 6,
     "metadata": {},
     "output_type": "execute_result"
    }
   ],
   "source": [
    "s[2:5]"
   ]
  },
  {
   "cell_type": "code",
   "execution_count": 7,
   "id": "f910d2a5",
   "metadata": {},
   "outputs": [
    {
     "data": {
      "text/plain": [
       "'lon'"
      ]
     },
     "execution_count": 7,
     "metadata": {},
     "output_type": "execute_result"
    }
   ],
   "source": [
    "s[7:-2]"
   ]
  },
  {
   "cell_type": "code",
   "execution_count": 8,
   "id": "4a525eec",
   "metadata": {},
   "outputs": [
    {
     "data": {
      "text/plain": [
       "'ong.'"
      ]
     },
     "execution_count": 8,
     "metadata": {},
     "output_type": "execute_result"
    }
   ],
   "source": [
    "s[-4:]"
   ]
  },
  {
   "cell_type": "code",
   "execution_count": 10,
   "id": "feafac1c",
   "metadata": {},
   "outputs": [
    {
     "ename": "TypeError",
     "evalue": "'str' object does not support item assignment",
     "output_type": "error",
     "traceback": [
      "\u001b[1;31m---------------------------------------------------------------------------\u001b[0m",
      "\u001b[1;31mTypeError\u001b[0m                                 Traceback (most recent call last)",
      "\u001b[1;32m~\\AppData\\Local\\Temp/ipykernel_16488/3691104945.py\u001b[0m in \u001b[0;36m<module>\u001b[1;34m\u001b[0m\n\u001b[1;32m----> 1\u001b[1;33m \u001b[0ms\u001b[0m\u001b[1;33m[\u001b[0m\u001b[1;33m-\u001b[0m\u001b[1;36m1\u001b[0m\u001b[1;33m]\u001b[0m \u001b[1;33m=\u001b[0m \u001b[1;34m'!'\u001b[0m\u001b[1;33m\u001b[0m\u001b[1;33m\u001b[0m\u001b[0m\n\u001b[0m\u001b[0;32m      2\u001b[0m \u001b[1;31m# 문자열은 요소값을 바꿀 수 없는 immutable한 data type\u001b[0m\u001b[1;33m\u001b[0m\u001b[1;33m\u001b[0m\u001b[0m\n",
      "\u001b[1;31mTypeError\u001b[0m: 'str' object does not support item assignment"
     ]
    }
   ],
   "source": [
    "s[-1] = '!'\n",
    "# 문자열은 요소값을 바꿀 수 없는 immutable한 data type"
   ]
  },
  {
   "cell_type": "markdown",
   "id": "8d012648",
   "metadata": {},
   "source": [
    "### (4) %를 사용한 문자열 형식 (%-Formatting)"
   ]
  },
  {
   "cell_type": "code",
   "execution_count": 16,
   "id": "2b56b5e7",
   "metadata": {},
   "outputs": [
    {
     "name": "stdout",
     "output_type": "stream",
     "text": [
      "Today's temperature is   15[degree Celsius].\n"
     ]
    }
   ],
   "source": [
    "T = 15; s = 'Celsius'\n",
    "s0 = 'Today\\'s temperature is %4d[degree %s].' %(T,s)\n",
    "print(s0)\n",
    "\n",
    "# %s: string 문자열\n",
    "# %c: charater 문자 1개\n",
    "# %d: integer 정수\n",
    "# %f: floating-point 부동소수점 소수\n",
    "# %o: 8진수\n",
    "# %x: 16진수\n",
    "# %%: 문자 % 자체\n",
    "\n",
    "# %4d: 정수 T를 우측 정렬로 총 4개 문자 만큼의 자리에 대입 (%-4d 좌측정렬)"
   ]
  },
  {
   "cell_type": "code",
   "execution_count": 18,
   "id": "0fe602fd",
   "metadata": {},
   "outputs": [
    {
     "name": "stdout",
     "output_type": "stream",
     "text": [
      "13.5679\n",
      "  13.57%,  11.3\n"
     ]
    }
   ],
   "source": [
    "f1 = 13.56789; f2 = 11.25763\n",
    "s1 = '%0.4f' %f1; print(s1)\n",
    "# 소수점 이하 4자리까지 반올림, 총 자리수는 최소\n",
    "s2 = '%7.2f%%, %5.1f' %(f1,f2); print(s2)"
   ]
  },
  {
   "cell_type": "markdown",
   "id": "8c27d078",
   "metadata": {},
   "source": [
    "### (5) {}를 사용한 문자열 형식 (String Formatting)"
   ]
  },
  {
   "cell_type": "code",
   "execution_count": 19,
   "id": "b60597a9",
   "metadata": {},
   "outputs": [
    {
     "name": "stdout",
     "output_type": "stream",
     "text": [
      "오늘의 온도는 섭씨   15[도]입니다.\n"
     ]
    }
   ],
   "source": [
    "T = 15; s = '섭씨'\n",
    "s1 = '오늘의 온도는 {:s} {:4d}[도]입니다.'.format(s,T)\n",
    "print(s1)\n",
    "# {:4d}: 총 4자리 오른쪽 정렬"
   ]
  },
  {
   "cell_type": "code",
   "execution_count": 26,
   "id": "487896e8",
   "metadata": {},
   "outputs": [
    {
     "name": "stdout",
     "output_type": "stream",
     "text": [
      "오늘의 온도는 섭씨 15  [도]입니다.\n"
     ]
    }
   ],
   "source": [
    "s2 = '오늘의 온도는 {:s} {:<4d}[도]입니다.'.format(s,T)\n",
    "print(s2)\n",
    "# {:<4d}: 총 4자리 왼쪽 정렬"
   ]
  },
  {
   "cell_type": "code",
   "execution_count": 27,
   "id": "e6e796e6",
   "metadata": {},
   "outputs": [
    {
     "name": "stdout",
     "output_type": "stream",
     "text": [
      "오늘의 온도는 섭씨  15 [도]입니다.\n"
     ]
    }
   ],
   "source": [
    "s3 = '오늘의 온도는 {:s} {:^4d}[도]입니다.'.format(s,T)\n",
    "print(s3)\n",
    "# {:^4d}: 총 4자리 가운데 정렬"
   ]
  },
  {
   "cell_type": "code",
   "execution_count": 28,
   "id": "d61c4f76",
   "metadata": {},
   "outputs": [
    {
     "name": "stdout",
     "output_type": "stream",
     "text": [
      "오늘의 온도는 섭씨 15!!![도]입니다.\n"
     ]
    }
   ],
   "source": [
    "s4 = '오늘의 온도는 {:s} {:!<5d}[도]입니다.'.format(s,T)\n",
    "print(s4)\n",
    "# {:!<5d}: 총 5자리 왼쪽 정렬, 빈자리 !로 채우기"
   ]
  },
  {
   "cell_type": "code",
   "execution_count": 31,
   "id": "b807686d",
   "metadata": {},
   "outputs": [
    {
     "name": "stdout",
     "output_type": "stream",
     "text": [
      "오늘의 온도는 섭씨 !!!15[도]입니다.\n"
     ]
    }
   ],
   "source": [
    "s5 = '오늘의 온도는 {:s} {:!>5d}[도]입니다.'.format(s,T)\n",
    "print(s5)\n",
    "# {:!<5d}: 총 5자리 오른쪽 정렬, 빈자리 !로 채우기"
   ]
  },
  {
   "cell_type": "code",
   "execution_count": 32,
   "id": "d7f8d712",
   "metadata": {},
   "outputs": [
    {
     "name": "stdout",
     "output_type": "stream",
     "text": [
      "오늘의 온도는 섭씨   15{[도]}입니다.\n"
     ]
    }
   ],
   "source": [
    "s6 = '오늘의 온도는 {:s} {:4d}{{[도]}}입니다.'.format(s,T)\n",
    "print(s1)\n",
    "# { }출력하고 싶을땐 {{}}"
   ]
  },
  {
   "cell_type": "markdown",
   "id": "72b6b4cb",
   "metadata": {},
   "source": [
    "### (6) f-String을 사용한 문자열 형식 (f-formatting)"
   ]
  },
  {
   "cell_type": "code",
   "execution_count": 34,
   "id": "3c13bacd",
   "metadata": {},
   "outputs": [
    {
     "data": {
      "text/plain": [
       "'오늘의 온도는 섭씨 15[도]입니다.'"
      ]
     },
     "execution_count": 34,
     "metadata": {},
     "output_type": "execute_result"
    }
   ],
   "source": [
    "s7 = f\"오늘의 온도는 {s} {T}[도]입니다.\"; s7"
   ]
  },
  {
   "cell_type": "code",
   "execution_count": 38,
   "id": "487a7676",
   "metadata": {},
   "outputs": [
    {
     "name": "stdout",
     "output_type": "stream",
     "text": [
      "오늘의 온도는 섭씨 !!15.0[도]입니다.\n"
     ]
    }
   ],
   "source": [
    "s8 = f'오늘의 온도는 {s} {T:!>6.1f}[도]입니다.'\n",
    "print(s8)"
   ]
  },
  {
   "cell_type": "code",
   "execution_count": 1,
   "id": "6a68edc8",
   "metadata": {
    "ExecuteTime": {
     "end_time": "2022-01-23T11:01:18.039383Z",
     "start_time": "2022-01-23T11:01:18.021880Z"
    }
   },
   "outputs": [
    {
     "name": "stdout",
     "output_type": "stream",
     "text": [
      "a=   111001\n",
      "a= 0b111001\n",
      "a=       39,      0x39\n",
      "a=       71,      0o71\n"
     ]
    }
   ],
   "source": [
    "a = 57\n",
    "print(f'a={a:9b}') # 9개 문자만큼의 자리에 2진수로\n",
    "print(f'a={a:#9b}') # 0b를 앞세운 2진수 형식으로\n",
    "print(f'a={a:9x}, {a:#9x}') #9개 문자만큼의 자리에 16진수\n",
    "print(f'a={a:9o}, {a:#9o}') #9개 문자만큼의 자리에 8진수"
   ]
  },
  {
   "cell_type": "markdown",
   "id": "05f5c441",
   "metadata": {},
   "source": [
    "### (7) String Built-in Method 를 사용한 문자열 형식 지정"
   ]
  },
  {
   "cell_type": "code",
   "execution_count": 3,
   "id": "c3469f00",
   "metadata": {
    "ExecuteTime": {
     "end_time": "2022-01-23T11:04:37.011267Z",
     "start_time": "2022-01-23T11:04:36.996265Z"
    }
   },
   "outputs": [
    {
     "data": {
      "text/plain": [
       "3"
      ]
     },
     "execution_count": 3,
     "metadata": {},
     "output_type": "execute_result"
    }
   ],
   "source": [
    "s = 'Art is long, but life is short.'\n",
    "s.count('t') # 문자열 s에 't'가 몇개 포함되어있는지"
   ]
  },
  {
   "cell_type": "code",
   "execution_count": 4,
   "id": "0b6583d9",
   "metadata": {
    "ExecuteTime": {
     "end_time": "2022-01-23T11:05:01.093257Z",
     "start_time": "2022-01-23T11:05:01.050749Z"
    }
   },
   "outputs": [
    {
     "data": {
      "text/plain": [
       "2"
      ]
     },
     "execution_count": 4,
     "metadata": {},
     "output_type": "execute_result"
    }
   ],
   "source": [
    "s.find('t') # 문자열 s안에 't'의 위치"
   ]
  },
  {
   "cell_type": "code",
   "execution_count": 5,
   "id": "3dac6e48",
   "metadata": {
    "ExecuteTime": {
     "end_time": "2022-01-23T11:05:24.597175Z",
     "start_time": "2022-01-23T11:05:24.585173Z"
    }
   },
   "outputs": [
    {
     "data": {
      "text/plain": [
       "29"
      ]
     },
     "execution_count": 5,
     "metadata": {},
     "output_type": "execute_result"
    }
   ],
   "source": [
    "s.rfind('t') # 문자열 s안에 오른쪽에서 't'의 위치"
   ]
  },
  {
   "cell_type": "code",
   "execution_count": 6,
   "id": "a55eb0b1",
   "metadata": {
    "ExecuteTime": {
     "end_time": "2022-01-23T11:05:38.788427Z",
     "start_time": "2022-01-23T11:05:38.774925Z"
    }
   },
   "outputs": [
    {
     "data": {
      "text/plain": [
       "-1"
      ]
     },
     "execution_count": 6,
     "metadata": {},
     "output_type": "execute_result"
    }
   ],
   "source": [
    "s.find('k') #하나도 없음"
   ]
  },
  {
   "cell_type": "code",
   "execution_count": 7,
   "id": "1276a0bf",
   "metadata": {
    "ExecuteTime": {
     "end_time": "2022-01-23T11:06:42.105269Z",
     "start_time": "2022-01-23T11:06:42.098767Z"
    }
   },
   "outputs": [
    {
     "data": {
      "text/plain": [
       "2"
      ]
     },
     "execution_count": 7,
     "metadata": {},
     "output_type": "execute_result"
    }
   ],
   "source": [
    "s.index('t') # 문자열  s안에 't'의 위치"
   ]
  },
  {
   "cell_type": "code",
   "execution_count": 8,
   "id": "3f00ae60",
   "metadata": {
    "ExecuteTime": {
     "end_time": "2022-01-23T11:06:50.407939Z",
     "start_time": "2022-01-23T11:06:50.264913Z"
    }
   },
   "outputs": [
    {
     "ename": "ValueError",
     "evalue": "substring not found",
     "output_type": "error",
     "traceback": [
      "\u001b[1;31m---------------------------------------------------------------------------\u001b[0m",
      "\u001b[1;31mValueError\u001b[0m                                Traceback (most recent call last)",
      "\u001b[1;32m~\\AppData\\Local\\Temp/ipykernel_23060/4244286030.py\u001b[0m in \u001b[0;36m<module>\u001b[1;34m\u001b[0m\n\u001b[1;32m----> 1\u001b[1;33m \u001b[0ms\u001b[0m\u001b[1;33m.\u001b[0m\u001b[0mindex\u001b[0m\u001b[1;33m(\u001b[0m\u001b[1;34m'k'\u001b[0m\u001b[1;33m)\u001b[0m\u001b[1;33m\u001b[0m\u001b[1;33m\u001b[0m\u001b[0m\n\u001b[0m",
      "\u001b[1;31mValueError\u001b[0m: substring not found"
     ]
    }
   ],
   "source": [
    "s.index('k')"
   ]
  },
  {
   "cell_type": "code",
   "execution_count": 10,
   "id": "45280c3a",
   "metadata": {
    "ExecuteTime": {
     "end_time": "2022-01-23T11:07:21.079221Z",
     "start_time": "2022-01-23T11:07:21.075219Z"
    }
   },
   "outputs": [
    {
     "data": {
      "text/plain": [
       "'A-r-t- -i-s- -l-o-n-g-,- -b-u-t- -l-i-f-e- -i-s- -s-h-o-r-t-.'"
      ]
     },
     "execution_count": 10,
     "metadata": {},
     "output_type": "execute_result"
    }
   ],
   "source": [
    "'-'.join(s) #문자열 s사이마다 - 삽입"
   ]
  },
  {
   "cell_type": "code",
   "execution_count": 12,
   "id": "c3756b83",
   "metadata": {
    "ExecuteTime": {
     "end_time": "2022-01-23T11:07:54.519958Z",
     "start_time": "2022-01-23T11:07:54.515457Z"
    }
   },
   "outputs": [
    {
     "data": {
      "text/plain": [
       "'ab bc cd'"
      ]
     },
     "execution_count": 12,
     "metadata": {},
     "output_type": "execute_result"
    }
   ],
   "source": [
    "' '.join(['ab','bc','cd']) # list의 각 요소마다 빈칸 삽입해서 연결"
   ]
  },
  {
   "cell_type": "code",
   "execution_count": 13,
   "id": "a32d5555",
   "metadata": {
    "ExecuteTime": {
     "end_time": "2022-01-23T11:08:12.795495Z",
     "start_time": "2022-01-23T11:08:12.781493Z"
    }
   },
   "outputs": [
    {
     "data": {
      "text/plain": [
       "'ART IS LONG, BUT LIFE IS SHORT.'"
      ]
     },
     "execution_count": 13,
     "metadata": {},
     "output_type": "execute_result"
    }
   ],
   "source": [
    "s.upper() # 문자열 s를 모두 대문자로"
   ]
  },
  {
   "cell_type": "code",
   "execution_count": 14,
   "id": "a6730d8e",
   "metadata": {
    "ExecuteTime": {
     "end_time": "2022-01-23T11:08:20.843506Z",
     "start_time": "2022-01-23T11:08:20.831504Z"
    }
   },
   "outputs": [
    {
     "data": {
      "text/plain": [
       "'art is long, but life is short.'"
      ]
     },
     "execution_count": 14,
     "metadata": {},
     "output_type": "execute_result"
    }
   ],
   "source": [
    "s.lower() # 문자열 s를 모두 소문자로"
   ]
  },
  {
   "cell_type": "code",
   "execution_count": 16,
   "id": "dbfac6e3",
   "metadata": {
    "ExecuteTime": {
     "end_time": "2022-01-23T11:09:46.057273Z",
     "start_time": "2022-01-23T11:09:46.050772Z"
    }
   },
   "outputs": [
    {
     "data": {
      "text/plain": [
       "'A is long, but life is short.'"
      ]
     },
     "execution_count": 16,
     "metadata": {},
     "output_type": "execute_result"
    }
   ],
   "source": [
    "s.replace('Art','A') #모든 'Art'를 'A'로 바꾸기\n",
    "\n",
    "# 위의 모든 명령어를 실행하더라도 원래의 문자열은 바뀌지 않기 때문에\n",
    "# 그 결과를 가지고 가려면 새롭게 변수의 값으로 지정해주어야 한다."
   ]
  },
  {
   "cell_type": "code",
   "execution_count": 17,
   "id": "e8d0d807",
   "metadata": {
    "ExecuteTime": {
     "end_time": "2022-01-23T11:10:25.641424Z",
     "start_time": "2022-01-23T11:10:25.624921Z"
    }
   },
   "outputs": [
    {
     "data": {
      "text/plain": [
       "['Art', 'is', 'long,', 'but', 'life', 'is', 'short.']"
      ]
     },
     "execution_count": 17,
     "metadata": {},
     "output_type": "execute_result"
    }
   ],
   "source": [
    "s.split() # 공백을 경계로 쪼개서 list 만들기"
   ]
  },
  {
   "cell_type": "code",
   "execution_count": 18,
   "id": "18414a17",
   "metadata": {
    "ExecuteTime": {
     "end_time": "2022-01-23T11:10:42.923412Z",
     "start_time": "2022-01-23T11:10:42.907909Z"
    }
   },
   "outputs": [
    {
     "data": {
      "text/plain": [
       "['Art is long', ' but life is short.']"
      ]
     },
     "execution_count": 18,
     "metadata": {},
     "output_type": "execute_result"
    }
   ],
   "source": [
    "s.split(',') # 쉼표를 경계로 쪼개서 list 만들기"
   ]
  },
  {
   "cell_type": "code",
   "execution_count": 20,
   "id": "125198b8",
   "metadata": {
    "ExecuteTime": {
     "end_time": "2022-01-23T11:11:37.234030Z",
     "start_time": "2022-01-23T11:11:37.216027Z"
    }
   },
   "outputs": [
    {
     "data": {
      "text/plain": [
       "('hi ', ' hi')"
      ]
     },
     "execution_count": 20,
     "metadata": {},
     "output_type": "execute_result"
    }
   ],
   "source": [
    "s1 = ' hi '\n",
    "s1.lstrip(), s1.rstrip() #왼쪽 / 오른쪽 공백 지우기"
   ]
  },
  {
   "cell_type": "code",
   "execution_count": 22,
   "id": "dc51dd29",
   "metadata": {
    "ExecuteTime": {
     "end_time": "2022-01-23T11:11:56.228997Z",
     "start_time": "2022-01-23T11:11:56.216996Z"
    }
   },
   "outputs": [
    {
     "data": {
      "text/plain": [
       "'hi'"
      ]
     },
     "execution_count": 22,
     "metadata": {},
     "output_type": "execute_result"
    }
   ],
   "source": [
    "s1.strip() #양쪽 공백 모두 지우기"
   ]
  },
  {
   "cell_type": "code",
   "execution_count": 23,
   "id": "e1cb431d",
   "metadata": {
    "ExecuteTime": {
     "end_time": "2022-01-23T11:12:24.061947Z",
     "start_time": "2022-01-23T11:12:24.046945Z"
    }
   },
   "outputs": [
    {
     "data": {
      "text/plain": [
       "31"
      ]
     },
     "execution_count": 23,
     "metadata": {},
     "output_type": "execute_result"
    }
   ],
   "source": [
    "len(s) #문자열의 길이"
   ]
  },
  {
   "cell_type": "markdown",
   "id": "72d9ec9a",
   "metadata": {},
   "source": [
    "### String과 Number간의 Type 변환 (Converting 또는 Type-casting)"
   ]
  },
  {
   "cell_type": "code",
   "execution_count": 25,
   "id": "a22fa837",
   "metadata": {
    "ExecuteTime": {
     "end_time": "2022-01-23T11:13:23.026301Z",
     "start_time": "2022-01-23T11:13:23.020801Z"
    }
   },
   "outputs": [
    {
     "data": {
      "text/plain": [
       "123"
      ]
     },
     "execution_count": 25,
     "metadata": {},
     "output_type": "execute_result"
    }
   ],
   "source": [
    "int('123') # 문자열 '123'을 정수형 수로 변환"
   ]
  },
  {
   "cell_type": "code",
   "execution_count": 27,
   "id": "fd14fd07",
   "metadata": {
    "ExecuteTime": {
     "end_time": "2022-01-23T11:13:52.859421Z",
     "start_time": "2022-01-23T11:13:52.851920Z"
    }
   },
   "outputs": [
    {
     "data": {
      "text/plain": [
       "123.0"
      ]
     },
     "execution_count": 27,
     "metadata": {},
     "output_type": "execute_result"
    }
   ],
   "source": [
    "float('123') # 실수형 (floating number) 으로 변환"
   ]
  },
  {
   "cell_type": "code",
   "execution_count": 28,
   "id": "00a2f186",
   "metadata": {
    "ExecuteTime": {
     "end_time": "2022-01-23T11:14:01.205365Z",
     "start_time": "2022-01-23T11:14:01.193864Z"
    }
   },
   "outputs": [
    {
     "data": {
      "text/plain": [
       "'123'"
      ]
     },
     "execution_count": 28,
     "metadata": {},
     "output_type": "execute_result"
    }
   ],
   "source": [
    "str(123) # 문자형으로 변환"
   ]
  },
  {
   "cell_type": "markdown",
   "id": "02c0d3a2",
   "metadata": {},
   "source": [
    "# 2.3.3 List "
   ]
  },
  {
   "cell_type": "code",
   "execution_count": 29,
   "id": "c3e47538",
   "metadata": {
    "ExecuteTime": {
     "end_time": "2022-01-23T11:16:03.765537Z",
     "start_time": "2022-01-23T11:16:03.756534Z"
    }
   },
   "outputs": [],
   "source": [
    "# list는 대괄호 []로 둘러싸인 가운데 쉼표 ,를 사이에 두고 모아진 여러가지 type의 data들로 구성되는데,\n",
    "# 부분적으로 변경가능(mutable)하며 그 요소의 순서가 유의미하다."
   ]
  },
  {
   "cell_type": "code",
   "execution_count": 30,
   "id": "d743cf93",
   "metadata": {
    "ExecuteTime": {
     "end_time": "2022-01-23T11:16:26.572740Z",
     "start_time": "2022-01-23T11:16:26.564239Z"
    }
   },
   "outputs": [
    {
     "data": {
      "text/plain": [
       "[273, 32, 103, '문자열', True, False]"
      ]
     },
     "execution_count": 30,
     "metadata": {},
     "output_type": "execute_result"
    }
   ],
   "source": [
    "L1 = [273, 32, 103, '문자열', True, False]\n",
    "L1"
   ]
  },
  {
   "cell_type": "code",
   "execution_count": 31,
   "id": "3bf15d12",
   "metadata": {
    "ExecuteTime": {
     "end_time": "2022-01-23T11:16:38.866559Z",
     "start_time": "2022-01-23T11:16:38.861058Z"
    }
   },
   "outputs": [
    {
     "data": {
      "text/plain": [
       "273"
      ]
     },
     "execution_count": 31,
     "metadata": {},
     "output_type": "execute_result"
    }
   ],
   "source": [
    "L1[0] #L1의 0번째 요소"
   ]
  },
  {
   "cell_type": "code",
   "execution_count": 32,
   "id": "c0575fdd",
   "metadata": {
    "ExecuteTime": {
     "end_time": "2022-01-23T11:16:57.419391Z",
     "start_time": "2022-01-23T11:16:57.405888Z"
    }
   },
   "outputs": [
    {
     "data": {
      "text/plain": [
       "[32, 103, '문자열']"
      ]
     },
     "execution_count": 32,
     "metadata": {},
     "output_type": "execute_result"
    }
   ],
   "source": [
    "L1[1:4] #1에서 3요소까지"
   ]
  },
  {
   "cell_type": "code",
   "execution_count": 33,
   "id": "92acef61",
   "metadata": {
    "ExecuteTime": {
     "end_time": "2022-01-23T11:17:50.777170Z",
     "start_time": "2022-01-23T11:17:50.764169Z"
    }
   },
   "outputs": [
    {
     "data": {
      "text/plain": [
       "False"
      ]
     },
     "execution_count": 33,
     "metadata": {},
     "output_type": "execute_result"
    }
   ],
   "source": [
    "L1[-1] #L1의 마지막 요소"
   ]
  },
  {
   "cell_type": "code",
   "execution_count": 34,
   "id": "8894efe3",
   "metadata": {
    "ExecuteTime": {
     "end_time": "2022-01-23T11:18:12.609376Z",
     "start_time": "2022-01-23T11:18:12.593374Z"
    }
   },
   "outputs": [
    {
     "data": {
      "text/plain": [
       "'자'"
      ]
     },
     "execution_count": 34,
     "metadata": {},
     "output_type": "execute_result"
    }
   ],
   "source": [
    "L1[3][1] #L1의 제 3요소의 제 1요소"
   ]
  },
  {
   "cell_type": "code",
   "execution_count": 36,
   "id": "e5f2e6e7",
   "metadata": {
    "ExecuteTime": {
     "end_time": "2022-01-23T11:18:45.340715Z",
     "start_time": "2022-01-23T11:18:45.335715Z"
    }
   },
   "outputs": [
    {
     "data": {
      "text/plain": [
       "['변경', 32, 103, '문자열', True, False]"
      ]
     },
     "execution_count": 36,
     "metadata": {},
     "output_type": "execute_result"
    }
   ],
   "source": [
    "L1[0] = '변경' #0번째 요소를 '변경'으로 변경\n",
    "L1"
   ]
  },
  {
   "cell_type": "code",
   "execution_count": 37,
   "id": "2cea93ac",
   "metadata": {
    "ExecuteTime": {
     "end_time": "2022-01-23T11:19:14.640073Z",
     "start_time": "2022-01-23T11:19:14.635572Z"
    }
   },
   "outputs": [
    {
     "name": "stdout",
     "output_type": "stream",
     "text": [
      "2 3\n"
     ]
    }
   ],
   "source": [
    "[a, b] = [2, 3]; print(a,b) #두 개 이상의 변수를 한번에 지정"
   ]
  },
  {
   "cell_type": "code",
   "execution_count": 38,
   "id": "c3081803",
   "metadata": {
    "ExecuteTime": {
     "end_time": "2022-01-23T11:19:39.442792Z",
     "start_time": "2022-01-23T11:19:39.437292Z"
    }
   },
   "outputs": [
    {
     "name": "stdout",
     "output_type": "stream",
     "text": [
      "3 2\n"
     ]
    }
   ],
   "source": [
    "[a, b] = [b, a]; print(a,b) #값을 서로 맞바꿈 (Switching)"
   ]
  },
  {
   "cell_type": "markdown",
   "id": "f28206af",
   "metadata": {},
   "source": [
    "## 2.3.3.1 List를 포함한 List의 Indexing"
   ]
  },
  {
   "cell_type": "code",
   "execution_count": 39,
   "id": "81b39284",
   "metadata": {
    "ExecuteTime": {
     "end_time": "2022-01-23T11:23:47.283322Z",
     "start_time": "2022-01-23T11:23:47.278320Z"
    }
   },
   "outputs": [
    {
     "data": {
      "text/plain": [
       "[['변경', 32, 103, '문자열', True, False], [4, 5, 6], [7, 8]]"
      ]
     },
     "execution_count": 39,
     "metadata": {},
     "output_type": "execute_result"
    }
   ],
   "source": [
    "L2 = [L1, [4,5,6], [7,8]]; L2 #list는 그 안에 요소의 개수가 다른 list를 가질 수 있다"
   ]
  },
  {
   "cell_type": "code",
   "execution_count": 40,
   "id": "b1d70cec",
   "metadata": {
    "ExecuteTime": {
     "end_time": "2022-01-23T11:24:04.876137Z",
     "start_time": "2022-01-23T11:24:04.867635Z"
    }
   },
   "outputs": [
    {
     "data": {
      "text/plain": [
       "['변경', 32, 103, '문자열', True, False]"
      ]
     },
     "execution_count": 40,
     "metadata": {},
     "output_type": "execute_result"
    }
   ],
   "source": [
    "L2[0]"
   ]
  },
  {
   "cell_type": "code",
   "execution_count": 41,
   "id": "da207cf8",
   "metadata": {
    "ExecuteTime": {
     "end_time": "2022-01-23T11:24:23.319468Z",
     "start_time": "2022-01-23T11:24:23.308466Z"
    }
   },
   "outputs": [
    {
     "data": {
      "text/plain": [
       "6"
      ]
     },
     "execution_count": 41,
     "metadata": {},
     "output_type": "execute_result"
    }
   ],
   "source": [
    "L2[1][2] #L2의 1번째 요소의 2번째 요소"
   ]
  },
  {
   "cell_type": "markdown",
   "id": "4675fbe9",
   "metadata": {},
   "source": [
    "## 2.3.3.2 2D List의 Indexing"
   ]
  },
  {
   "cell_type": "code",
   "execution_count": 42,
   "id": "330d40a4",
   "metadata": {
    "ExecuteTime": {
     "end_time": "2022-01-23T11:28:53.329082Z",
     "start_time": "2022-01-23T11:28:53.320580Z"
    }
   },
   "outputs": [],
   "source": [
    "L = [[1,2,3,4], [5,6,7,8], [9,10,11,12]]"
   ]
  },
  {
   "cell_type": "code",
   "execution_count": 43,
   "id": "889782b2",
   "metadata": {
    "ExecuteTime": {
     "end_time": "2022-01-23T11:29:00.000757Z",
     "start_time": "2022-01-23T11:28:59.988255Z"
    }
   },
   "outputs": [
    {
     "data": {
      "text/plain": [
       "7"
      ]
     },
     "execution_count": 43,
     "metadata": {},
     "output_type": "execute_result"
    }
   ],
   "source": [
    "L[1][2]"
   ]
  },
  {
   "cell_type": "code",
   "execution_count": 45,
   "id": "95b9fbff",
   "metadata": {
    "ExecuteTime": {
     "end_time": "2022-01-23T11:30:16.597499Z",
     "start_time": "2022-01-23T11:30:16.594499Z"
    }
   },
   "outputs": [
    {
     "data": {
      "text/plain": [
       "[5, 6, 7, 8]"
      ]
     },
     "execution_count": 45,
     "metadata": {},
     "output_type": "execute_result"
    }
   ],
   "source": [
    "L[1][:] #제 1행"
   ]
  },
  {
   "cell_type": "code",
   "execution_count": 46,
   "id": "6ea719e4",
   "metadata": {
    "ExecuteTime": {
     "end_time": "2022-01-23T11:30:27.893681Z",
     "start_time": "2022-01-23T11:30:27.883179Z"
    }
   },
   "outputs": [
    {
     "data": {
      "text/plain": [
       "[5, 6, 7, 8]"
      ]
     },
     "execution_count": 46,
     "metadata": {},
     "output_type": "execute_result"
    }
   ],
   "source": [
    "L[:][1] #제 1열? 안나옴 numpy 사용하는게 편함"
   ]
  },
  {
   "cell_type": "code",
   "execution_count": 47,
   "id": "fc531e29",
   "metadata": {
    "ExecuteTime": {
     "end_time": "2022-01-23T11:30:44.787705Z",
     "start_time": "2022-01-23T11:30:44.702705Z"
    }
   },
   "outputs": [],
   "source": [
    "import numpy as np"
   ]
  },
  {
   "cell_type": "code",
   "execution_count": 48,
   "id": "48e74673",
   "metadata": {
    "ExecuteTime": {
     "end_time": "2022-01-23T11:30:52.873607Z",
     "start_time": "2022-01-23T11:30:52.865106Z"
    }
   },
   "outputs": [
    {
     "data": {
      "text/plain": [
       "array([[ 1,  2,  3,  4],\n",
       "       [ 5,  6,  7,  8],\n",
       "       [ 9, 10, 11, 12]])"
      ]
     },
     "execution_count": 48,
     "metadata": {},
     "output_type": "execute_result"
    }
   ],
   "source": [
    "A = np.array(L); A"
   ]
  },
  {
   "cell_type": "code",
   "execution_count": 49,
   "id": "accd7cab",
   "metadata": {
    "ExecuteTime": {
     "end_time": "2022-01-23T11:31:05.570297Z",
     "start_time": "2022-01-23T11:31:05.563296Z"
    }
   },
   "outputs": [
    {
     "data": {
      "text/plain": [
       "array([ 2,  6, 10])"
      ]
     },
     "execution_count": 49,
     "metadata": {},
     "output_type": "execute_result"
    }
   ],
   "source": [
    "A[:,1] # 제 1열"
   ]
  },
  {
   "cell_type": "code",
   "execution_count": 50,
   "id": "5a9b97e8",
   "metadata": {
    "ExecuteTime": {
     "end_time": "2022-01-23T11:31:26.162937Z",
     "start_time": "2022-01-23T11:31:26.156436Z"
    }
   },
   "outputs": [
    {
     "data": {
      "text/plain": [
       "array([5, 6, 7, 8])"
      ]
     },
     "execution_count": 50,
     "metadata": {},
     "output_type": "execute_result"
    }
   ],
   "source": [
    "A[1,:] # 제 1행"
   ]
  },
  {
   "cell_type": "markdown",
   "id": "6d831e68",
   "metadata": {
    "ExecuteTime": {
     "end_time": "2022-01-23T11:31:36.846031Z",
     "start_time": "2022-01-23T11:31:36.828027Z"
    }
   },
   "source": [
    "##  2.3.3.3 List 다루기"
   ]
  },
  {
   "cell_type": "code",
   "execution_count": 87,
   "id": "b300defd",
   "metadata": {
    "ExecuteTime": {
     "end_time": "2022-01-23T13:21:59.595698Z",
     "start_time": "2022-01-23T13:21:59.584696Z"
    }
   },
   "outputs": [
    {
     "data": {
      "text/plain": [
       "[1, 2, 3, 4, 5, 6, 7]"
      ]
     },
     "execution_count": 87,
     "metadata": {},
     "output_type": "execute_result"
    }
   ],
   "source": [
    "L1 = [1,2]; L2 = [3,4,5,6,7]\n",
    "L = L1 + L2; L"
   ]
  },
  {
   "cell_type": "code",
   "execution_count": 88,
   "id": "0e103d0e",
   "metadata": {
    "ExecuteTime": {
     "end_time": "2022-01-23T13:21:59.827344Z",
     "start_time": "2022-01-23T13:21:59.820343Z"
    }
   },
   "outputs": [
    {
     "data": {
      "text/plain": [
       "[1, 2, 1, 2, 1, 2]"
      ]
     },
     "execution_count": 88,
     "metadata": {},
     "output_type": "execute_result"
    }
   ],
   "source": [
    "L1*3"
   ]
  },
  {
   "cell_type": "code",
   "execution_count": 89,
   "id": "94cd4ee8",
   "metadata": {
    "ExecuteTime": {
     "end_time": "2022-01-23T13:22:00.012642Z",
     "start_time": "2022-01-23T13:22:00.001141Z"
    }
   },
   "outputs": [
    {
     "data": {
      "text/plain": [
       "7"
      ]
     },
     "execution_count": 89,
     "metadata": {},
     "output_type": "execute_result"
    }
   ],
   "source": [
    "len(L)"
   ]
  },
  {
   "cell_type": "code",
   "execution_count": 90,
   "id": "31b1997d",
   "metadata": {
    "ExecuteTime": {
     "end_time": "2022-01-23T13:22:00.166984Z",
     "start_time": "2022-01-23T13:22:00.160983Z"
    }
   },
   "outputs": [
    {
     "data": {
      "text/plain": [
       "[1, 2, 3, 4, 5, 6, 7, 8, 9]"
      ]
     },
     "execution_count": 90,
     "metadata": {},
     "output_type": "execute_result"
    }
   ],
   "source": [
    "L.extend([8,9]); L #list의 맨 뒤에 요소 덧붙이기"
   ]
  },
  {
   "cell_type": "code",
   "execution_count": 91,
   "id": "b783d714",
   "metadata": {
    "ExecuteTime": {
     "end_time": "2022-01-23T13:22:00.351174Z",
     "start_time": "2022-01-23T13:22:00.343672Z"
    }
   },
   "outputs": [
    {
     "data": {
      "text/plain": [
       "[1, 2, 3, 4, 5, 6, 7, 8, 9, [10, 11]]"
      ]
     },
     "execution_count": 91,
     "metadata": {},
     "output_type": "execute_result"
    }
   ],
   "source": [
    "L.append([10,11]); L #list의 맨 뒤에 하나의 요소 덧붙이기"
   ]
  },
  {
   "cell_type": "code",
   "execution_count": 92,
   "id": "e7ca4134",
   "metadata": {
    "ExecuteTime": {
     "end_time": "2022-01-23T13:22:00.813440Z",
     "start_time": "2022-01-23T13:22:00.799438Z"
    }
   },
   "outputs": [],
   "source": [
    "#L = L.extend([11,12]); print(L)\n",
    "#list의 내용은 변경되지만 반환해주는 출력인자 값은 None이다"
   ]
  },
  {
   "cell_type": "code",
   "execution_count": 60,
   "id": "5a5254ff",
   "metadata": {
    "ExecuteTime": {
     "end_time": "2022-01-23T13:10:17.715021Z",
     "start_time": "2022-01-23T13:10:17.701019Z"
    }
   },
   "outputs": [
    {
     "data": {
      "text/plain": [
       "[1, 16, 49]"
      ]
     },
     "execution_count": 60,
     "metadata": {},
     "output_type": "execute_result"
    }
   ],
   "source": [
    "La = []\n",
    "for i in range(1,10,3): # i = 1,4,7\n",
    "    La.append(i**2)\n",
    "La"
   ]
  },
  {
   "cell_type": "code",
   "execution_count": 63,
   "id": "18d9e526",
   "metadata": {
    "ExecuteTime": {
     "end_time": "2022-01-23T13:12:14.166450Z",
     "start_time": "2022-01-23T13:12:14.156448Z"
    }
   },
   "outputs": [
    {
     "data": {
      "text/plain": [
       "[1, 16, 49]"
      ]
     },
     "execution_count": 63,
     "metadata": {},
     "output_type": "execute_result"
    }
   ],
   "source": [
    "Lb = [i**2 for i in range(1,10,3)]; Lb #list 안에 for loop을 포함시켜도 된다"
   ]
  },
  {
   "cell_type": "markdown",
   "id": "52b63d5d",
   "metadata": {},
   "source": [
    "range() 함수의 용법\n",
    " range([start,] stop [, step])\n",
    " 이 함수는 초항이 start, 공차가 step, 그리고 말항은 stop에 미쳐 도달하지 못한 수인 등차수열을 생성한다. 이때 start와 step은 선택적 인자이고 default 값은 각각 0과 1이다."
   ]
  },
  {
   "cell_type": "code",
   "execution_count": 66,
   "id": "0a5da9cd",
   "metadata": {
    "ExecuteTime": {
     "end_time": "2022-01-23T13:17:02.338364Z",
     "start_time": "2022-01-23T13:17:02.329863Z"
    }
   },
   "outputs": [
    {
     "data": {
      "text/plain": [
       "[0, 1, 2]"
      ]
     },
     "execution_count": 66,
     "metadata": {},
     "output_type": "execute_result"
    }
   ],
   "source": [
    "list(range(3))"
   ]
  },
  {
   "cell_type": "code",
   "execution_count": 67,
   "id": "00dde60e",
   "metadata": {
    "ExecuteTime": {
     "end_time": "2022-01-23T13:17:23.107678Z",
     "start_time": "2022-01-23T13:17:23.096177Z"
    }
   },
   "outputs": [
    {
     "data": {
      "text/plain": [
       "[2, 3, 4, 5, 6, 7, 8, 9]"
      ]
     },
     "execution_count": 67,
     "metadata": {},
     "output_type": "execute_result"
    }
   ],
   "source": [
    "list(range(2,10))"
   ]
  },
  {
   "cell_type": "code",
   "execution_count": 68,
   "id": "8087ba1d",
   "metadata": {
    "ExecuteTime": {
     "end_time": "2022-01-23T13:18:41.803903Z",
     "start_time": "2022-01-23T13:18:41.785400Z"
    }
   },
   "outputs": [
    {
     "data": {
      "text/plain": [
       "[2, 5, 8]"
      ]
     },
     "execution_count": 68,
     "metadata": {},
     "output_type": "execute_result"
    }
   ],
   "source": [
    "list(range(2,10,3))"
   ]
  },
  {
   "cell_type": "code",
   "execution_count": 69,
   "id": "b18a6f12",
   "metadata": {
    "ExecuteTime": {
     "end_time": "2022-01-23T13:18:49.625557Z",
     "start_time": "2022-01-23T13:18:49.619055Z"
    }
   },
   "outputs": [
    {
     "data": {
      "text/plain": [
       "[10, 7, 4, 1]"
      ]
     },
     "execution_count": 69,
     "metadata": {},
     "output_type": "execute_result"
    }
   ],
   "source": [
    "list(range(10,-1,-3))"
   ]
  },
  {
   "cell_type": "code",
   "execution_count": 93,
   "id": "bd1f4f10",
   "metadata": {
    "ExecuteTime": {
     "end_time": "2022-01-23T13:22:04.355695Z",
     "start_time": "2022-01-23T13:22:04.345693Z"
    }
   },
   "outputs": [
    {
     "data": {
      "text/plain": [
       "[1, 2, 2.5, 3, 4, 5, 6, 7, 8, 9, [10, 11]]"
      ]
     },
     "execution_count": 93,
     "metadata": {},
     "output_type": "execute_result"
    }
   ],
   "source": [
    "L.insert(2,2.5); L # 2.5를 list L의 2번째 요소로 삽입"
   ]
  },
  {
   "cell_type": "code",
   "execution_count": 94,
   "id": "80d7aa36",
   "metadata": {
    "ExecuteTime": {
     "end_time": "2022-01-23T13:22:04.973735Z",
     "start_time": "2022-01-23T13:22:04.962233Z"
    }
   },
   "outputs": [
    {
     "data": {
      "text/plain": [
       "[1, 2, 3, 4, 5, 6, 7, 8, 9, [10, 11]]"
      ]
     },
     "execution_count": 94,
     "metadata": {},
     "output_type": "execute_result"
    }
   ],
   "source": [
    "del L[2]; L #L의 2번째 요소 제거"
   ]
  },
  {
   "cell_type": "code",
   "execution_count": 95,
   "id": "af826bd7",
   "metadata": {
    "ExecuteTime": {
     "end_time": "2022-01-23T13:22:27.989980Z",
     "start_time": "2022-01-23T13:22:27.977978Z"
    }
   },
   "outputs": [
    {
     "data": {
      "text/plain": [
       "[1, 2, 3, 4, 5, 6, 7, 8, 9]"
      ]
     },
     "execution_count": 95,
     "metadata": {},
     "output_type": "execute_result"
    }
   ],
   "source": [
    "del L[9:11]; L #L의 9~10번째 요소 제거"
   ]
  },
  {
   "cell_type": "code",
   "execution_count": 96,
   "id": "d3241fa0",
   "metadata": {
    "ExecuteTime": {
     "end_time": "2022-01-23T13:22:42.772853Z",
     "start_time": "2022-01-23T13:22:42.755351Z"
    }
   },
   "outputs": [
    {
     "data": {
      "text/plain": [
       "[3, 4, 5, 6, 7, 8, 9]"
      ]
     },
     "execution_count": 96,
     "metadata": {},
     "output_type": "execute_result"
    }
   ],
   "source": [
    "del L[:2]; L #L의 ~1번째 요소 제거"
   ]
  },
  {
   "cell_type": "code",
   "execution_count": 97,
   "id": "59048849",
   "metadata": {
    "ExecuteTime": {
     "end_time": "2022-01-23T13:22:57.282624Z",
     "start_time": "2022-01-23T13:22:57.270621Z"
    }
   },
   "outputs": [
    {
     "data": {
      "text/plain": [
       "[3, 4, 5, 6, 7]"
      ]
     },
     "execution_count": 97,
     "metadata": {},
     "output_type": "execute_result"
    }
   ],
   "source": [
    "del L[5:]; L #L의 5~번째 요소 제거"
   ]
  },
  {
   "cell_type": "code",
   "execution_count": 100,
   "id": "8a90f676",
   "metadata": {
    "ExecuteTime": {
     "end_time": "2022-01-23T13:23:57.537803Z",
     "start_time": "2022-01-23T13:23:57.520300Z"
    }
   },
   "outputs": [
    {
     "data": {
      "text/plain": [
       "[3, 4, 5, 6, 7]"
      ]
     },
     "execution_count": 100,
     "metadata": {},
     "output_type": "execute_result"
    }
   ],
   "source": [
    "L3 = L.copy(); L3 #L을 복제해서 새로운 L3생성"
   ]
  },
  {
   "cell_type": "code",
   "execution_count": 101,
   "id": "0dff8472",
   "metadata": {
    "ExecuteTime": {
     "end_time": "2022-01-23T13:24:00.446408Z",
     "start_time": "2022-01-23T13:24:00.438406Z"
    }
   },
   "outputs": [
    {
     "data": {
      "text/plain": [
       "5"
      ]
     },
     "execution_count": 101,
     "metadata": {},
     "output_type": "execute_result"
    }
   ],
   "source": [
    "L3.pop(2) #L3의 2번째 요소를 보여주고 제거"
   ]
  },
  {
   "cell_type": "code",
   "execution_count": 102,
   "id": "5d2aa930",
   "metadata": {
    "ExecuteTime": {
     "end_time": "2022-01-23T13:24:23.027644Z",
     "start_time": "2022-01-23T13:24:23.018143Z"
    }
   },
   "outputs": [
    {
     "data": {
      "text/plain": [
       "7"
      ]
     },
     "execution_count": 102,
     "metadata": {},
     "output_type": "execute_result"
    }
   ],
   "source": [
    "L3.pop() #마지막 요소를 보여주고 제거"
   ]
  },
  {
   "cell_type": "code",
   "execution_count": 103,
   "id": "7b33975c",
   "metadata": {
    "ExecuteTime": {
     "end_time": "2022-01-23T13:24:42.193815Z",
     "start_time": "2022-01-23T13:24:42.182313Z"
    }
   },
   "outputs": [
    {
     "data": {
      "text/plain": [
       "[]"
      ]
     },
     "execution_count": 103,
     "metadata": {},
     "output_type": "execute_result"
    }
   ],
   "source": [
    "L3.clear(); L3 #L3의 모든 요소를 지워 빈 list"
   ]
  },
  {
   "cell_type": "code",
   "execution_count": 104,
   "id": "3a9df46c",
   "metadata": {
    "ExecuteTime": {
     "end_time": "2022-01-23T13:25:37.669262Z",
     "start_time": "2022-01-23T13:25:37.652759Z"
    }
   },
   "outputs": [
    {
     "data": {
      "text/plain": [
       "[7, 6, 5, 4, 3]"
      ]
     },
     "execution_count": 104,
     "metadata": {},
     "output_type": "execute_result"
    }
   ],
   "source": [
    "#list 내 요소들의 순서를 거꾸로 하는 방법\n",
    "L_r = L[::-1]; L_r"
   ]
  },
  {
   "cell_type": "code",
   "execution_count": 105,
   "id": "a95f9903",
   "metadata": {
    "ExecuteTime": {
     "end_time": "2022-01-23T13:25:50.236824Z",
     "start_time": "2022-01-23T13:25:50.231323Z"
    }
   },
   "outputs": [
    {
     "data": {
      "text/plain": [
       "[7, 6, 5, 4, 3]"
      ]
     },
     "execution_count": 105,
     "metadata": {},
     "output_type": "execute_result"
    }
   ],
   "source": [
    "L.reverse(); L"
   ]
  },
  {
   "cell_type": "code",
   "execution_count": 106,
   "id": "36036be2",
   "metadata": {
    "ExecuteTime": {
     "end_time": "2022-01-23T13:26:02.048734Z",
     "start_time": "2022-01-23T13:26:02.039232Z"
    }
   },
   "outputs": [
    {
     "data": {
      "text/plain": [
       "[3, 4, 5, 6, 7]"
      ]
     },
     "execution_count": 106,
     "metadata": {},
     "output_type": "execute_result"
    }
   ],
   "source": [
    "L = list(reversed(L)); L"
   ]
  },
  {
   "cell_type": "code",
   "execution_count": 107,
   "id": "d27a3411",
   "metadata": {
    "ExecuteTime": {
     "end_time": "2022-01-23T13:26:23.186095Z",
     "start_time": "2022-01-23T13:26:23.168593Z"
    }
   },
   "outputs": [
    {
     "data": {
      "text/plain": [
       "3"
      ]
     },
     "execution_count": 107,
     "metadata": {},
     "output_type": "execute_result"
    }
   ],
   "source": [
    "L.index(6) # L에 6이 몇번째 요소인가"
   ]
  },
  {
   "cell_type": "code",
   "execution_count": 108,
   "id": "5a9208ee",
   "metadata": {
    "ExecuteTime": {
     "end_time": "2022-01-23T13:26:33.309083Z",
     "start_time": "2022-01-23T13:26:33.304581Z"
    }
   },
   "outputs": [
    {
     "data": {
      "text/plain": [
       "1"
      ]
     },
     "execution_count": 108,
     "metadata": {},
     "output_type": "execute_result"
    }
   ],
   "source": [
    "L.count(6) #L에 6이 몇개있나"
   ]
  },
  {
   "cell_type": "code",
   "execution_count": 109,
   "id": "5993a048",
   "metadata": {
    "ExecuteTime": {
     "end_time": "2022-01-23T13:26:53.186675Z",
     "start_time": "2022-01-23T13:26:53.176173Z"
    }
   },
   "outputs": [
    {
     "data": {
      "text/plain": [
       "[3, 5, 6, 7]"
      ]
     },
     "execution_count": 109,
     "metadata": {},
     "output_type": "execute_result"
    }
   ],
   "source": [
    "L.remove(4); L #L로부터 첫번째 4를 제거"
   ]
  },
  {
   "cell_type": "code",
   "execution_count": 110,
   "id": "74c0c354",
   "metadata": {
    "ExecuteTime": {
     "end_time": "2022-01-23T13:27:12.476729Z",
     "start_time": "2022-01-23T13:27:12.459726Z"
    }
   },
   "outputs": [],
   "source": [
    "L4 = [7,3,5,6,5,2.5,9] #숫자로만 이루어진 list"
   ]
  },
  {
   "cell_type": "code",
   "execution_count": 111,
   "id": "017395e7",
   "metadata": {
    "ExecuteTime": {
     "end_time": "2022-01-23T13:27:28.875266Z",
     "start_time": "2022-01-23T13:27:28.865264Z"
    }
   },
   "outputs": [
    {
     "data": {
      "text/plain": [
       "(2.5, 9)"
      ]
     },
     "execution_count": 111,
     "metadata": {},
     "output_type": "execute_result"
    }
   ],
   "source": [
    "min(L4), max(L4) #요소중 최소 최대"
   ]
  },
  {
   "cell_type": "code",
   "execution_count": 112,
   "id": "6a2d0018",
   "metadata": {
    "ExecuteTime": {
     "end_time": "2022-01-23T13:27:42.615717Z",
     "start_time": "2022-01-23T13:27:42.611716Z"
    }
   },
   "outputs": [
    {
     "data": {
      "text/plain": [
       "37.5"
      ]
     },
     "execution_count": 112,
     "metadata": {},
     "output_type": "execute_result"
    }
   ],
   "source": [
    "sum(L4) #모든 요소들의 합"
   ]
  },
  {
   "cell_type": "code",
   "execution_count": 113,
   "id": "fcf439fd",
   "metadata": {
    "ExecuteTime": {
     "end_time": "2022-01-23T13:30:57.901862Z",
     "start_time": "2022-01-23T13:30:57.885859Z"
    }
   },
   "outputs": [
    {
     "data": {
      "text/plain": [
       "[9, 7, 6, 5, 5, 3, 2.5]"
      ]
     },
     "execution_count": 113,
     "metadata": {},
     "output_type": "execute_result"
    }
   ],
   "source": [
    "L4.sort(reverse=True); L4 #L4의 요소들을 내림차순으로 정렬"
   ]
  },
  {
   "cell_type": "code",
   "execution_count": 114,
   "id": "4c3aca0f",
   "metadata": {
    "ExecuteTime": {
     "end_time": "2022-01-23T13:31:11.892087Z",
     "start_time": "2022-01-23T13:31:11.877584Z"
    }
   },
   "outputs": [
    {
     "data": {
      "text/plain": [
       "[2.5, 3, 5, 5, 6, 7, 9]"
      ]
     },
     "execution_count": 114,
     "metadata": {},
     "output_type": "execute_result"
    }
   ],
   "source": [
    "L4.sort(); L4 #L4의 요소들을 오름차 순으로 정렬"
   ]
  },
  {
   "cell_type": "code",
   "execution_count": 115,
   "id": "7b13452c",
   "metadata": {
    "ExecuteTime": {
     "end_time": "2022-01-23T13:32:07.382040Z",
     "start_time": "2022-01-23T13:32:07.379040Z"
    }
   },
   "outputs": [
    {
     "data": {
      "text/plain": [
       "('a1', 'color')"
      ]
     },
     "execution_count": 115,
     "metadata": {},
     "output_type": "execute_result"
    }
   ],
   "source": [
    "L5 = ['cloud', 'a2', 'color', 'a1', 'brave'] #문자로만 이루어진 list\n",
    "min(L5), max(L5) # 알파벳-숫자 순서로 맨 처음, 끝 요소"
   ]
  },
  {
   "cell_type": "code",
   "execution_count": 116,
   "id": "bec2faaa",
   "metadata": {
    "ExecuteTime": {
     "end_time": "2022-01-23T13:32:21.612563Z",
     "start_time": "2022-01-23T13:32:21.601062Z"
    }
   },
   "outputs": [
    {
     "data": {
      "text/plain": [
       "['a1', 'a2', 'brave', 'cloud', 'color']"
      ]
     },
     "execution_count": 116,
     "metadata": {},
     "output_type": "execute_result"
    }
   ],
   "source": [
    "L5.sort(); L5"
   ]
  },
  {
   "cell_type": "code",
   "execution_count": 117,
   "id": "034e5ee2",
   "metadata": {
    "ExecuteTime": {
     "end_time": "2022-01-23T13:33:07.067724Z",
     "start_time": "2022-01-23T13:33:07.051220Z"
    }
   },
   "outputs": [
    {
     "data": {
      "text/plain": [
       "(True, False, True)"
      ]
     },
     "execution_count": 117,
     "metadata": {},
     "output_type": "execute_result"
    }
   ],
   "source": [
    "L = [5, 3, 6] #List에 특정 요소가 있는지 없는지 판별하기\n",
    "6 in L, 4 in L, 4 not in L # 6이나 4가 list L에 있나 없나"
   ]
  },
  {
   "cell_type": "code",
   "execution_count": 119,
   "id": "a9e18c2f",
   "metadata": {
    "ExecuteTime": {
     "end_time": "2022-01-23T13:55:08.344907Z",
     "start_time": "2022-01-23T13:55:08.340907Z"
    }
   },
   "outputs": [
    {
     "data": {
      "text/plain": [
       "[\"don't\", 'love', 'me', 'you']"
      ]
     },
     "execution_count": 119,
     "metadata": {},
     "output_type": "execute_result"
    }
   ],
   "source": [
    "L1 = ['love', 'me', 'you', \"don't\"]\n",
    "sorted(L1) #sort와 달리 출력값이 존제하여 method가 아닌 함수"
   ]
  },
  {
   "cell_type": "code",
   "execution_count": 120,
   "id": "6d45a8bd",
   "metadata": {
    "ExecuteTime": {
     "end_time": "2022-01-23T13:55:30.784657Z",
     "start_time": "2022-01-23T13:55:30.777155Z"
    }
   },
   "outputs": [
    {
     "data": {
      "text/plain": [
       "['you', 'me', 'love', \"don't\"]"
      ]
     },
     "execution_count": 120,
     "metadata": {},
     "output_type": "execute_result"
    }
   ],
   "source": [
    "sorted(L1, reverse=True)"
   ]
  },
  {
   "cell_type": "code",
   "execution_count": 121,
   "id": "ce31d140",
   "metadata": {
    "ExecuteTime": {
     "end_time": "2022-01-23T13:56:13.347867Z",
     "start_time": "2022-01-23T13:56:13.344366Z"
    }
   },
   "outputs": [
    {
     "data": {
      "text/plain": [
       "['me', 'you', 'love', \"don't\"]"
      ]
     },
     "execution_count": 121,
     "metadata": {},
     "output_type": "execute_result"
    }
   ],
   "source": [
    "sorted(L1, key=len) # key 입력인자를 넣어주어 문자열 길이의 오름차 순으로 정렬"
   ]
  },
  {
   "cell_type": "code",
   "execution_count": 137,
   "id": "75c534bf",
   "metadata": {
    "ExecuteTime": {
     "end_time": "2022-01-23T14:25:29.684420Z",
     "start_time": "2022-01-23T14:25:29.673418Z"
    }
   },
   "outputs": [
    {
     "data": {
      "text/plain": [
       "[15, 11, 7, 3]"
      ]
     },
     "execution_count": 137,
     "metadata": {},
     "output_type": "execute_result"
    }
   ],
   "source": [
    "L2 = [15, 3, 11, 7]\n",
    "rem5 = lambda x: x%5 #x를 5로 나눈 나머지\n",
    "sorted(L2, key=rem5) #L2에 포함된 수들을 5로 나눈 나머지 값 순으로 정렬시킨다"
   ]
  },
  {
   "cell_type": "markdown",
   "id": "02b6f7e7",
   "metadata": {},
   "source": [
    "## 2.3.3.6 여러 List의 요소별 묶음 -zip()"
   ]
  },
  {
   "cell_type": "code",
   "execution_count": 122,
   "id": "283adceb",
   "metadata": {
    "ExecuteTime": {
     "end_time": "2022-01-23T14:04:41.899307Z",
     "start_time": "2022-01-23T14:04:41.896307Z"
    }
   },
   "outputs": [],
   "source": [
    "#같은 개수의 요소를 가진 여러 list 또는 tuple들의 같은 순번 요소들끼리 모아놓은 쌍들을\n",
    "#결합시켜서 하나의 iterable한 묶음을 만들어 주는 함수를 zip()함수라 한다."
   ]
  },
  {
   "cell_type": "code",
   "execution_count": 124,
   "id": "6e4768c7",
   "metadata": {
    "ExecuteTime": {
     "end_time": "2022-01-23T14:06:09.589237Z",
     "start_time": "2022-01-23T14:06:09.578735Z"
    }
   },
   "outputs": [
    {
     "data": {
      "text/plain": [
       "<zip at 0x123a5a538c0>"
      ]
     },
     "execution_count": 124,
     "metadata": {},
     "output_type": "execute_result"
    }
   ],
   "source": [
    "L1 = [0, 1]; L2 = [2, 3]; L3 = [4, 5]\n",
    "z = zip(L1, L2, L3); z"
   ]
  },
  {
   "cell_type": "code",
   "execution_count": 125,
   "id": "75d5b9ec",
   "metadata": {
    "ExecuteTime": {
     "end_time": "2022-01-23T14:07:47.156937Z",
     "start_time": "2022-01-23T14:07:47.143936Z"
    }
   },
   "outputs": [
    {
     "data": {
      "text/plain": [
       "[(0, 2, 4), (1, 3, 5)]"
      ]
     },
     "execution_count": 125,
     "metadata": {},
     "output_type": "execute_result"
    }
   ],
   "source": [
    "L = list(z); L #L1, L2, L3 list들의 같은 순번 요소들끼리 하나의 요소를 만듬"
   ]
  },
  {
   "cell_type": "code",
   "execution_count": 127,
   "id": "544e6ca2",
   "metadata": {
    "ExecuteTime": {
     "end_time": "2022-01-23T14:08:59.488333Z",
     "start_time": "2022-01-23T14:08:59.477331Z"
    }
   },
   "outputs": [
    {
     "data": {
      "text/plain": [
       "()"
      ]
     },
     "execution_count": 127,
     "metadata": {},
     "output_type": "execute_result"
    }
   ],
   "source": [
    "T = tuple(z); T #zip object인 z를 list화하면서 한번 사용했기 때문에 묶음이 해제되었다."
   ]
  },
  {
   "cell_type": "code",
   "execution_count": 128,
   "id": "3fb0b5eb",
   "metadata": {
    "ExecuteTime": {
     "end_time": "2022-01-23T14:09:29.317291Z",
     "start_time": "2022-01-23T14:09:29.313789Z"
    }
   },
   "outputs": [
    {
     "data": {
      "text/plain": [
       "[]"
      ]
     },
     "execution_count": 128,
     "metadata": {},
     "output_type": "execute_result"
    }
   ],
   "source": [
    "L6 = [x1+x2+x3 for x1, x2, x3 in z]; L6"
   ]
  },
  {
   "cell_type": "code",
   "execution_count": 129,
   "id": "a2b4e450",
   "metadata": {
    "ExecuteTime": {
     "end_time": "2022-01-23T14:11:43.566950Z",
     "start_time": "2022-01-23T14:11:43.560949Z"
    }
   },
   "outputs": [
    {
     "data": {
      "text/plain": [
       "[6, 9]"
      ]
     },
     "execution_count": 129,
     "metadata": {},
     "output_type": "execute_result"
    }
   ],
   "source": [
    "L6 = [x1+x2+x3 for x1, x2, x3 in zip(L1,L2,L3)]; L6 #zip object를 새로만들어 list생성\n",
    "#각 요소들의 합"
   ]
  },
  {
   "cell_type": "code",
   "execution_count": 135,
   "id": "6fa14f1a",
   "metadata": {
    "ExecuteTime": {
     "end_time": "2022-01-23T14:15:14.676719Z",
     "start_time": "2022-01-23T14:15:14.671217Z"
    }
   },
   "outputs": [
    {
     "data": {
      "text/plain": [
       "((0, 1), (2, 3), (4, 5))"
      ]
     },
     "execution_count": 135,
     "metadata": {},
     "output_type": "execute_result"
    }
   ],
   "source": [
    "z = zip(L1,L2,L3)\n",
    "La, Lb, Lc = zip(*z) #zip으로 부터 원래의 list를 찾기 대신 list가 아닌 tuple로 나오게된다.\n",
    "La, Lb, Lc"
   ]
  },
  {
   "cell_type": "code",
   "execution_count": 136,
   "id": "9f066191",
   "metadata": {
    "ExecuteTime": {
     "end_time": "2022-01-23T14:15:40.210526Z",
     "start_time": "2022-01-23T14:15:40.196024Z"
    }
   },
   "outputs": [],
   "source": [
    "#zip object는 어떤 용도로든 한번 사용되고 나면 사라지기 때문에 사용할때마다 새로 만들어야한다."
   ]
  },
  {
   "cell_type": "markdown",
   "id": "87acc108",
   "metadata": {},
   "source": [
    "###  (예제 2.1) 하나의 list를 (똑같은 개수의 요소를 가진) 다른 list에 따라 정렬시키기"
   ]
  },
  {
   "cell_type": "code",
   "execution_count": 138,
   "id": "85d42ba1",
   "metadata": {
    "ExecuteTime": {
     "end_time": "2022-01-23T14:27:21.472022Z",
     "start_time": "2022-01-23T14:27:21.455019Z"
    }
   },
   "outputs": [],
   "source": [
    "L1 = ['B','C','A','D']; L2 = [1,4,2,3]"
   ]
  },
  {
   "cell_type": "code",
   "execution_count": 140,
   "id": "71b61398",
   "metadata": {
    "ExecuteTime": {
     "end_time": "2022-01-23T14:28:18.309590Z",
     "start_time": "2022-01-23T14:28:18.298588Z"
    }
   },
   "outputs": [
    {
     "data": {
      "text/plain": [
       "[('B', 1), ('C', 4), ('A', 2), ('D', 3)]"
      ]
     },
     "execution_count": 140,
     "metadata": {},
     "output_type": "execute_result"
    }
   ],
   "source": [
    "L = list(zip(L1,L2)); L"
   ]
  },
  {
   "cell_type": "code",
   "execution_count": 143,
   "id": "645ea21e",
   "metadata": {
    "ExecuteTime": {
     "end_time": "2022-01-23T14:31:38.009980Z",
     "start_time": "2022-01-23T14:31:37.997478Z"
    }
   },
   "outputs": [
    {
     "data": {
      "text/plain": [
       "[('B', 1), ('A', 2), ('D', 3), ('C', 4)]"
      ]
     },
     "execution_count": 143,
     "metadata": {},
     "output_type": "execute_result"
    }
   ],
   "source": [
    "take_2nd = lambda x: x[1] #L의 요소인 tuple들의 1번째 요소를 취하는 함수\n",
    "L_sorted = sorted(L, key=take_2nd); L_sorted"
   ]
  },
  {
   "cell_type": "code",
   "execution_count": 144,
   "id": "7b5e4450",
   "metadata": {
    "ExecuteTime": {
     "end_time": "2022-01-23T14:32:06.911921Z",
     "start_time": "2022-01-23T14:32:06.907419Z"
    }
   },
   "outputs": [
    {
     "data": {
      "text/plain": [
       "(('B', 'A', 'D', 'C'), (1, 2, 3, 4))"
      ]
     },
     "execution_count": 144,
     "metadata": {},
     "output_type": "execute_result"
    }
   ],
   "source": [
    "L1_sorted, L2_sorted = zip(*L_sorted)\n",
    "L1_sorted, L2_sorted"
   ]
  },
  {
   "cell_type": "markdown",
   "id": "3e06ecb9",
   "metadata": {},
   "source": [
    "##  2.3.3.7 List의 모든 요소들에 대해 특정 함수를 일률적으로 적용하기 - map()"
   ]
  },
  {
   "cell_type": "code",
   "execution_count": 145,
   "id": "1476282a",
   "metadata": {
    "ExecuteTime": {
     "end_time": "2022-01-23T14:42:36.805303Z",
     "start_time": "2022-01-23T14:42:36.801303Z"
    }
   },
   "outputs": [],
   "source": [
    "#map() 함수는 0번째 입력인자로 주어진 함수를 1번째 입력인자로 주어진 list의 요소들 하나하나에 대해\n",
    "#일률적으로 적용한 결과의 모음을 map object로 만들어 반환해준다."
   ]
  },
  {
   "cell_type": "code",
   "execution_count": 146,
   "id": "b53ccab2",
   "metadata": {
    "ExecuteTime": {
     "end_time": "2022-01-23T14:43:21.247505Z",
     "start_time": "2022-01-23T14:43:21.233004Z"
    }
   },
   "outputs": [
    {
     "data": {
      "text/plain": [
       "<map at 0x123a629c430>"
      ]
     },
     "execution_count": 146,
     "metadata": {},
     "output_type": "execute_result"
    }
   ],
   "source": [
    "L7 = ['12', 3, '45', 678]\n",
    "mo = map(int,L7); mo #L7의 모든 요소를 정수형으로 바꾸기"
   ]
  },
  {
   "cell_type": "code",
   "execution_count": 147,
   "id": "21f6e1e9",
   "metadata": {
    "ExecuteTime": {
     "end_time": "2022-01-23T14:43:34.138398Z",
     "start_time": "2022-01-23T14:43:34.126896Z"
    }
   },
   "outputs": [
    {
     "data": {
      "text/plain": [
       "[12, 3, 45, 678]"
      ]
     },
     "execution_count": 147,
     "metadata": {},
     "output_type": "execute_result"
    }
   ],
   "source": [
    "L8 = list(mo); L8"
   ]
  },
  {
   "cell_type": "markdown",
   "id": "d31ddd1f",
   "metadata": {},
   "source": [
    "##  2.3.3.8 List의 요소들 중 특정 조건을 만족시키는 것들로만 구성된 List 만들기 - filter()"
   ]
  },
  {
   "cell_type": "code",
   "execution_count": 148,
   "id": "6e4bd2ce",
   "metadata": {
    "ExecuteTime": {
     "end_time": "2022-01-23T14:49:12.415902Z",
     "start_time": "2022-01-23T14:49:12.399899Z"
    }
   },
   "outputs": [],
   "source": [
    "#filter() 함수는 1번째 입력입자로 주어진 list나 range object의 요소들 중, 0번째 입력인자로\n",
    "#주어진 조건을 만족시키는 요소들만의 모음을 filter object로 만들어 반환해준다."
   ]
  },
  {
   "cell_type": "code",
   "execution_count": 149,
   "id": "625b3b2f",
   "metadata": {
    "ExecuteTime": {
     "end_time": "2022-01-23T14:50:02.969299Z",
     "start_time": "2022-01-23T14:50:02.951296Z"
    }
   },
   "outputs": [
    {
     "data": {
      "text/plain": [
       "<filter at 0x123a629c310>"
      ]
     },
     "execution_count": 149,
     "metadata": {},
     "output_type": "execute_result"
    }
   ],
   "source": [
    "fo = filter(lambda x: type(x)==str, L7); fo\n",
    "#L7안의 요소중 str type data만 filtering"
   ]
  },
  {
   "cell_type": "code",
   "execution_count": 150,
   "id": "a3f40197",
   "metadata": {
    "ExecuteTime": {
     "end_time": "2022-01-23T14:50:14.396951Z",
     "start_time": "2022-01-23T14:50:14.379448Z"
    }
   },
   "outputs": [
    {
     "data": {
      "text/plain": [
       "['12', '45']"
      ]
     },
     "execution_count": 150,
     "metadata": {},
     "output_type": "execute_result"
    }
   ],
   "source": [
    "L9 = list(fo); L9"
   ]
  },
  {
   "cell_type": "markdown",
   "id": "76d0e11b",
   "metadata": {},
   "source": [
    "## 2.3.3.9 List의 요소들에 대해 특정 함수를 Nesting 방식으로 적용하기 - functools.reduce()"
   ]
  },
  {
   "cell_type": "code",
   "execution_count": 1,
   "id": "f2c7ba55",
   "metadata": {
    "ExecuteTime": {
     "end_time": "2022-01-23T14:59:19.812033Z",
     "start_time": "2022-01-23T14:59:19.801032Z"
    }
   },
   "outputs": [],
   "source": [
    "#functools module에 포함된 reduce() 함수는, 0번째 입력인자로 주어진 특정함수를 1번째 입력인자로\n",
    "#주어진 list의 처음 두 개의 요소에 대해 적용하고, 그 결과와 세번째 요소에 대해 적용하고,\n",
    "#다시 그 결과와 그 다음 요소에 대해 적용하는 과정을 list의 맨 끝 요소까지 진행한 결과를 돌려준다."
   ]
  },
  {
   "cell_type": "code",
   "execution_count": 3,
   "id": "062afade",
   "metadata": {
    "ExecuteTime": {
     "end_time": "2022-01-23T15:00:33.076636Z",
     "start_time": "2022-01-23T15:00:33.060133Z"
    }
   },
   "outputs": [
    {
     "data": {
      "text/plain": [
       "10"
      ]
     },
     "execution_count": 3,
     "metadata": {},
     "output_type": "execute_result"
    }
   ],
   "source": [
    "import functools\n",
    "sum2 = lambda x, y: x+y\n",
    "S = functools.reduce(sum2, [1,2,3,4]); S"
   ]
  },
  {
   "cell_type": "code",
   "execution_count": null,
   "id": "44c37de0",
   "metadata": {},
   "outputs": [],
   "source": [
    "\n"
   ]
  }
 ],
 "metadata": {
  "kernelspec": {
   "display_name": "Python 3 (ipykernel)",
   "language": "python",
   "name": "python3"
  },
  "language_info": {
   "codemirror_mode": {
    "name": "ipython",
    "version": 3
   },
   "file_extension": ".py",
   "mimetype": "text/x-python",
   "name": "python",
   "nbconvert_exporter": "python",
   "pygments_lexer": "ipython3",
   "version": "3.9.7"
  },
  "toc": {
   "base_numbering": 1,
   "nav_menu": {},
   "number_sections": true,
   "sideBar": true,
   "skip_h1_title": false,
   "title_cell": "Table of Contents",
   "title_sidebar": "Contents",
   "toc_cell": false,
   "toc_position": {},
   "toc_section_display": true,
   "toc_window_display": false
  }
 },
 "nbformat": 4,
 "nbformat_minor": 5
}
