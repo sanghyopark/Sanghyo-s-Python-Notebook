{
 "cells": [
  {
   "cell_type": "raw",
   "id": "f784452a",
   "metadata": {},
   "source": [
    "os module은 환경변수나 디렉터리, 파일 등의 OS (Operating System) 자원을 제어할 수 있게 해주는 함수들의 모음이다."
   ]
  },
  {
   "cell_type": "code",
   "execution_count": 1,
   "id": "5f1b984f",
   "metadata": {
    "ExecuteTime": {
     "end_time": "2022-02-10T07:39:20.468399Z",
     "start_time": "2022-02-10T07:39:20.456396Z"
    }
   },
   "outputs": [],
   "source": [
    "import os"
   ]
  },
  {
   "cell_type": "raw",
   "id": "4847c2fa",
   "metadata": {},
   "source": [
    "os.chdir('path'): 지정된 path로 이동\n",
    "os.getcwd(): 현재 주소는?\n",
    "os.listdir(): directory 보여줘\n",
    "os.mkdir('somedir'): directory 생성\n",
    "os.rmdir('somedir'): 해당 directory가 비어있으면 삭제\n",
    "os.unlink('file'): 지정된 파일 삭제\n",
    "os.remove('file'): 지정된 파일 삭제\n",
    "os.rename('src','dst'): 파일명을 'src'에서 'dst'로 바꿔\n",
    "os.sysyem('cmd or file'): 명령어 또는 파일을 실행\n",
    "f = ~.popen(\"dir\");\n",
    "print(f.read()) :directory 보여줘"
   ]
  },
  {
   "cell_type": "markdown",
   "id": "8a47ce8f",
   "metadata": {},
   "source": [
    "# (예제 7.1) os.listdir()을 사용하여 파일 목록 보기"
   ]
  },
  {
   "cell_type": "code",
   "execution_count": 5,
   "id": "d8db179f",
   "metadata": {
    "ExecuteTime": {
     "end_time": "2022-02-10T07:46:58.350187Z",
     "start_time": "2022-02-10T07:46:58.341686Z"
    }
   },
   "outputs": [
    {
     "name": "stdout",
     "output_type": "stream",
     "text": [
      "C:/Users/shpar/OQT/python/Ch7. Python Standard Library/.ipynb_checkpoints\n",
      "C:/Users/shpar/OQT/python/Ch7. Python Standard Library/7.1 OS Module.ipynb\n"
     ]
    }
   ],
   "source": [
    "import os\n",
    "Mypath = 'C:/Users/shpar/OQT/python/Ch7. Python Standard Library/'\n",
    "files = [file for file in os.listdir(Mypath)]\n",
    "for file in files:\n",
    "    print(Mypath + file)"
   ]
  }
 ],
 "metadata": {
  "kernelspec": {
   "display_name": "Python 3 (ipykernel)",
   "language": "python",
   "name": "python3"
  },
  "language_info": {
   "codemirror_mode": {
    "name": "ipython",
    "version": 3
   },
   "file_extension": ".py",
   "mimetype": "text/x-python",
   "name": "python",
   "nbconvert_exporter": "python",
   "pygments_lexer": "ipython3",
   "version": "3.9.7"
  },
  "toc": {
   "base_numbering": 1,
   "nav_menu": {},
   "number_sections": true,
   "sideBar": true,
   "skip_h1_title": false,
   "title_cell": "Table of Contents",
   "title_sidebar": "Contents",
   "toc_cell": false,
   "toc_position": {},
   "toc_section_display": true,
   "toc_window_display": false
  }
 },
 "nbformat": 4,
 "nbformat_minor": 5
}
