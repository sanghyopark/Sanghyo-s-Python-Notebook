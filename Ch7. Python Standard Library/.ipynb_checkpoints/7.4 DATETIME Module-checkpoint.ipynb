{
 "cells": [
  {
   "cell_type": "markdown",
   "id": "024e4ce5",
   "metadata": {},
   "source": [
    "# 7.4 DATETIME Module"
   ]
  },
  {
   "cell_type": "code",
   "execution_count": 2,
   "id": "25778702",
   "metadata": {
    "ExecuteTime": {
     "end_time": "2022-02-11T00:32:17.172010Z",
     "start_time": "2022-02-11T00:32:17.152136Z"
    }
   },
   "outputs": [],
   "source": [
    "from datetime import datetime, timedelta, tzinfo\n",
    "import pytz\n",
    "\n",
    "#pytz 지역별 시간대(timezone)을 보기위한 모듈"
   ]
  },
  {
   "cell_type": "markdown",
   "id": "14a5f24d",
   "metadata": {},
   "source": [
    "## 7.4.1 현재시각 포착"
   ]
  },
  {
   "cell_type": "raw",
   "id": "b3aedc3c",
   "metadata": {},
   "source": [
    "datetime.now(), datetime.today() 현재시각(year, month, day, hour, minute, second, microsecond)"
   ]
  },
  {
   "cell_type": "code",
   "execution_count": 3,
   "id": "d6ecf603",
   "metadata": {
    "ExecuteTime": {
     "end_time": "2022-02-11T00:32:17.785765Z",
     "start_time": "2022-02-11T00:32:17.770123Z"
    }
   },
   "outputs": [
    {
     "data": {
      "text/plain": [
       "datetime.datetime(2022, 2, 11, 9, 32, 17, 770623)"
      ]
     },
     "execution_count": 3,
     "metadata": {},
     "output_type": "execute_result"
    }
   ],
   "source": [
    "now = datetime.now(); now"
   ]
  },
  {
   "cell_type": "code",
   "execution_count": 4,
   "id": "176bbf25",
   "metadata": {
    "ExecuteTime": {
     "end_time": "2022-02-11T00:32:32.005274Z",
     "start_time": "2022-02-11T00:32:31.996773Z"
    }
   },
   "outputs": [
    {
     "data": {
      "text/plain": [
       "datetime.datetime(2022, 2, 11, 9, 32, 31, 997274)"
      ]
     },
     "execution_count": 4,
     "metadata": {},
     "output_type": "execute_result"
    }
   ],
   "source": [
    "today = datetime.today(); today"
   ]
  },
  {
   "cell_type": "code",
   "execution_count": 6,
   "id": "58b1da56",
   "metadata": {
    "ExecuteTime": {
     "end_time": "2022-02-11T00:35:01.830895Z",
     "start_time": "2022-02-11T00:35:01.822393Z"
    }
   },
   "outputs": [
    {
     "data": {
      "text/plain": [
       "datetime.datetime(2022, 2, 11, 0, 35, 1, 822894, tzinfo=<UTC>)"
      ]
     },
     "execution_count": 6,
     "metadata": {},
     "output_type": "execute_result"
    }
   ],
   "source": [
    "datetime.now(pytz.timezone('UTC'))\n",
    "#세계 표준시"
   ]
  },
  {
   "cell_type": "markdown",
   "id": "cb7395aa",
   "metadata": {},
   "source": [
    "## 7.4.2 특정시각을 Datetime Object로 생성하기"
   ]
  },
  {
   "cell_type": "code",
   "execution_count": 7,
   "id": "af212fd5",
   "metadata": {
    "ExecuteTime": {
     "end_time": "2022-02-11T00:36:01.549278Z",
     "start_time": "2022-02-11T00:36:01.545276Z"
    }
   },
   "outputs": [
    {
     "data": {
      "text/plain": [
       "datetime.datetime(2022, 2, 11, 0, 0)"
      ]
     },
     "execution_count": 7,
     "metadata": {},
     "output_type": "execute_result"
    }
   ],
   "source": [
    "dt = datetime(2022, 2, 11); dt"
   ]
  },
  {
   "cell_type": "markdown",
   "id": "6099cf64",
   "metadata": {},
   "source": [
    "## 7.4.3 문자열(String)로 표현된 시각을 Datetime Object로 변환하기"
   ]
  },
  {
   "cell_type": "code",
   "execution_count": 12,
   "id": "1288816a",
   "metadata": {
    "ExecuteTime": {
     "end_time": "2022-02-11T00:39:48.479828Z",
     "start_time": "2022-02-11T00:39:48.473327Z"
    }
   },
   "outputs": [
    {
     "data": {
      "text/plain": [
       "datetime.datetime(2022, 2, 11, 9, 39, 24)"
      ]
     },
     "execution_count": 12,
     "metadata": {},
     "output_type": "execute_result"
    }
   ],
   "source": [
    "dt = datetime.strptime('2022-2-11 09:39:24', '%Y-%m-%d %H:%M:%S'); dt"
   ]
  },
  {
   "cell_type": "markdown",
   "id": "e226c4a4",
   "metadata": {},
   "source": [
    "## 7.4.4 Datetime Object를 문자열(String)로 변환하기"
   ]
  },
  {
   "cell_type": "code",
   "execution_count": 13,
   "id": "9a6cfeec",
   "metadata": {
    "ExecuteTime": {
     "end_time": "2022-02-11T00:39:49.262701Z",
     "start_time": "2022-02-11T00:39:49.254699Z"
    }
   },
   "outputs": [
    {
     "data": {
      "text/plain": [
       "'2022-02-11'"
      ]
     },
     "execution_count": 13,
     "metadata": {},
     "output_type": "execute_result"
    }
   ],
   "source": [
    "dt.strftime('%Y-%m-%d')"
   ]
  },
  {
   "cell_type": "code",
   "execution_count": 14,
   "id": "0a1d0c03",
   "metadata": {
    "ExecuteTime": {
     "end_time": "2022-02-11T00:39:49.692459Z",
     "start_time": "2022-02-11T00:39:49.689459Z"
    }
   },
   "outputs": [
    {
     "data": {
      "text/plain": [
       "'Fri Feb 11 09:39:24 2022'"
      ]
     },
     "execution_count": 14,
     "metadata": {},
     "output_type": "execute_result"
    }
   ],
   "source": [
    "dt.strftime('%c')"
   ]
  },
  {
   "cell_type": "code",
   "execution_count": 17,
   "id": "5cec4f93",
   "metadata": {
    "ExecuteTime": {
     "end_time": "2022-02-11T00:40:49.403143Z",
     "start_time": "2022-02-11T00:40:49.386957Z"
    }
   },
   "outputs": [
    {
     "data": {
      "text/plain": [
       "'Fri Feb 11 09:40:49 2022'"
      ]
     },
     "execution_count": 17,
     "metadata": {},
     "output_type": "execute_result"
    }
   ],
   "source": [
    "datetime.now().strftime('%c')"
   ]
  },
  {
   "cell_type": "code",
   "execution_count": 18,
   "id": "26380b61",
   "metadata": {
    "ExecuteTime": {
     "end_time": "2022-02-11T00:41:06.473546Z",
     "start_time": "2022-02-11T00:41:06.461545Z"
    }
   },
   "outputs": [
    {
     "data": {
      "text/plain": [
       "'2022-02-11 09:39:24'"
      ]
     },
     "execution_count": 18,
     "metadata": {},
     "output_type": "execute_result"
    }
   ],
   "source": [
    "str(dt)"
   ]
  },
  {
   "cell_type": "markdown",
   "id": "37b74f8d",
   "metadata": {},
   "source": [
    "## 7.4.5 Datetime Object의 속성(년,월,일,시,분,...) 꺼내기"
   ]
  },
  {
   "cell_type": "code",
   "execution_count": 19,
   "id": "9fd2c8ae",
   "metadata": {
    "ExecuteTime": {
     "end_time": "2022-02-11T00:43:14.356021Z",
     "start_time": "2022-02-11T00:43:14.340518Z"
    }
   },
   "outputs": [
    {
     "data": {
      "text/plain": [
       "(2022, 2, 11, 9, 39, 24, 0)"
      ]
     },
     "execution_count": 19,
     "metadata": {},
     "output_type": "execute_result"
    }
   ],
   "source": [
    "dt.year, dt.month, dt.day, dt.hour, dt.minute, dt.second, dt.microsecond"
   ]
  },
  {
   "cell_type": "code",
   "execution_count": 20,
   "id": "6ff52bac",
   "metadata": {
    "ExecuteTime": {
     "end_time": "2022-02-11T00:43:26.519391Z",
     "start_time": "2022-02-11T00:43:26.515390Z"
    }
   },
   "outputs": [
    {
     "data": {
      "text/plain": [
       "(datetime.date(2022, 2, 11), datetime.time(9, 39, 24))"
      ]
     },
     "execution_count": 20,
     "metadata": {},
     "output_type": "execute_result"
    }
   ],
   "source": [
    "dt.date(), dt.time()"
   ]
  },
  {
   "cell_type": "code",
   "execution_count": 21,
   "id": "260a2cbc",
   "metadata": {
    "ExecuteTime": {
     "end_time": "2022-02-11T00:43:38.770815Z",
     "start_time": "2022-02-11T00:43:38.753812Z"
    }
   },
   "outputs": [
    {
     "data": {
      "text/plain": [
       "'2022-02-11T09:39:24'"
      ]
     },
     "execution_count": 21,
     "metadata": {},
     "output_type": "execute_result"
    }
   ],
   "source": [
    "dt.isoformat()"
   ]
  },
  {
   "cell_type": "code",
   "execution_count": 26,
   "id": "d366971a",
   "metadata": {
    "ExecuteTime": {
     "end_time": "2022-02-11T00:47:01.337455Z",
     "start_time": "2022-02-11T00:47:01.334955Z"
    }
   },
   "outputs": [
    {
     "data": {
      "text/plain": [
       "'2022년 2월 11일 9시 39분'"
      ]
     },
     "execution_count": 26,
     "metadata": {},
     "output_type": "execute_result"
    }
   ],
   "source": [
    "'{0.year}년 {0.month}월 {0.day}일 {0.hour}시 {0.minute}분'.format(dt)"
   ]
  },
  {
   "cell_type": "code",
   "execution_count": 31,
   "id": "9dea57f2",
   "metadata": {
    "ExecuteTime": {
     "end_time": "2022-02-11T00:48:08.815558Z",
     "start_time": "2022-02-11T00:48:08.810058Z"
    }
   },
   "outputs": [
    {
     "data": {
      "text/plain": [
       "'2022/02/11'"
      ]
     },
     "execution_count": 31,
     "metadata": {},
     "output_type": "execute_result"
    }
   ],
   "source": [
    "f'{dt.year:04}/{dt.month:02}/{dt.day:02}'"
   ]
  },
  {
   "cell_type": "markdown",
   "id": "bb1a106d",
   "metadata": {},
   "source": [
    "## 7.4.6 시각간 차이 또는 시간간격"
   ]
  },
  {
   "cell_type": "code",
   "execution_count": 35,
   "id": "4a0889d0",
   "metadata": {
    "ExecuteTime": {
     "end_time": "2022-02-11T01:02:36.958583Z",
     "start_time": "2022-02-11T01:02:36.953081Z"
    }
   },
   "outputs": [],
   "source": [
    "dt = timedelta(weeks=3, days=2, hours=12)"
   ]
  },
  {
   "cell_type": "code",
   "execution_count": 36,
   "id": "3acd192e",
   "metadata": {
    "ExecuteTime": {
     "end_time": "2022-02-11T01:02:37.265191Z",
     "start_time": "2022-02-11T01:02:37.247282Z"
    }
   },
   "outputs": [
    {
     "data": {
      "text/plain": [
       "datetime.timedelta(days=23, seconds=43200)"
      ]
     },
     "execution_count": 36,
     "metadata": {},
     "output_type": "execute_result"
    }
   ],
   "source": [
    "dt"
   ]
  },
  {
   "cell_type": "code",
   "execution_count": 37,
   "id": "962adde3",
   "metadata": {
    "ExecuteTime": {
     "end_time": "2022-02-11T01:02:51.318949Z",
     "start_time": "2022-02-11T01:02:51.308447Z"
    }
   },
   "outputs": [
    {
     "data": {
      "text/plain": [
       "datetime.timedelta(days=21)"
      ]
     },
     "execution_count": 37,
     "metadata": {},
     "output_type": "execute_result"
    }
   ],
   "source": [
    "dt0 = dt - timedelta(days=2, hours=12); dt0"
   ]
  },
  {
   "cell_type": "code",
   "execution_count": 38,
   "id": "8d82c6e6",
   "metadata": {
    "ExecuteTime": {
     "end_time": "2022-02-11T01:03:33.688953Z",
     "start_time": "2022-02-11T01:03:33.676952Z"
    }
   },
   "outputs": [
    {
     "data": {
      "text/plain": [
       "datetime.timedelta(days=2, seconds=43200)"
      ]
     },
     "execution_count": 38,
     "metadata": {},
     "output_type": "execute_result"
    }
   ],
   "source": [
    "td = dt - dt0; td"
   ]
  },
  {
   "cell_type": "code",
   "execution_count": 40,
   "id": "e0551833",
   "metadata": {
    "ExecuteTime": {
     "end_time": "2022-02-11T01:06:26.498654Z",
     "start_time": "2022-02-11T01:06:26.481650Z"
    }
   },
   "outputs": [
    {
     "name": "stdout",
     "output_type": "stream",
     "text": [
      "태어난 지 8907일\n"
     ]
    }
   ],
   "source": [
    "from datetime import datetime\n",
    "def age_in_days(dob):\n",
    "    # dob = date of birth = (year, month, day)\n",
    "    birth_date = datetime(dob[0],dob[1],dob[2])\n",
    "    time_after_birth = datetime.today() - birth_date\n",
    "    days_after_birth = time_after_birth.days\n",
    "    return days_after_birth\n",
    "\n",
    "생년월일 = (1997, 9, 23)\n",
    "생후몇일 = age_in_days(생년월일)\n",
    "print(f'태어난 지 {생후몇일}일')"
   ]
  },
  {
   "cell_type": "code",
   "execution_count": 41,
   "id": "2980f33a",
   "metadata": {
    "ExecuteTime": {
     "end_time": "2022-02-11T01:13:16.522881Z",
     "start_time": "2022-02-11T01:13:16.514879Z"
    }
   },
   "outputs": [
    {
     "name": "stdout",
     "output_type": "stream",
     "text": [
      "90061.0[초] = 1[날], 1[시간], 1[분], and 1[초]\n"
     ]
    }
   ],
   "source": [
    "from datetime import datetime, timedelta, tzinfo\n",
    "def sec2day(time_in_sec):\n",
    "    D_ = divmod(time_in_sec, 86400) # 1 day = 86400 sec\n",
    "    H_ = divmod(D_[1], 3600) # 1 hour = 3600 sec\n",
    "    m_ = divmod(H_[1], 60) # 1 min = 60 sec\n",
    "    s = m_[1]\n",
    "    return int(D_[0]), int(H_[0]), int(m_[0]), int(s)\n",
    "\n",
    "날 = 1; 시간 = 1; 분 = 1; 초 = 1\n",
    "td = timedelta(days = 날, hours = 시간, minutes = 분, seconds = 초)\n",
    "time_in_sec = td.total_seconds()\n",
    "D, H, m, s = sec2day(time_in_sec)\n",
    "print(f\"{time_in_sec}[초] = {D}[날], {H}[시간], {m}[분], and {s}[초]\")"
   ]
  },
  {
   "cell_type": "code",
   "execution_count": null,
   "id": "424740e6",
   "metadata": {},
   "outputs": [],
   "source": []
  }
 ],
 "metadata": {
  "kernelspec": {
   "display_name": "Python 3 (ipykernel)",
   "language": "python",
   "name": "python3"
  },
  "language_info": {
   "codemirror_mode": {
    "name": "ipython",
    "version": 3
   },
   "file_extension": ".py",
   "mimetype": "text/x-python",
   "name": "python",
   "nbconvert_exporter": "python",
   "pygments_lexer": "ipython3",
   "version": "3.9.7"
  },
  "toc": {
   "base_numbering": 1,
   "nav_menu": {},
   "number_sections": true,
   "sideBar": true,
   "skip_h1_title": false,
   "title_cell": "Table of Contents",
   "title_sidebar": "Contents",
   "toc_cell": false,
   "toc_position": {},
   "toc_section_display": true,
   "toc_window_display": false
  }
 },
 "nbformat": 4,
 "nbformat_minor": 5
}
