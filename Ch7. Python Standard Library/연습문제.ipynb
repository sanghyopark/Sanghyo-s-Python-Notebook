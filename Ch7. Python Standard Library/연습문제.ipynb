{
 "cells": [
  {
   "cell_type": "markdown",
   "id": "a8a57331",
   "metadata": {},
   "source": [
    "# 7.1 OS Module을 이용하여 임의 경로에 새 파일 생성하기"
   ]
  },
  {
   "cell_type": "code",
   "execution_count": 11,
   "id": "d9452eb2",
   "metadata": {
    "ExecuteTime": {
     "end_time": "2022-02-11T01:33:16.940524Z",
     "start_time": "2022-02-11T01:33:16.925613Z"
    }
   },
   "outputs": [
    {
     "name": "stdout",
     "output_type": "stream",
     "text": [
      "\n",
      " dirs = ['.ipynb_checkpoints', 'myfolder']\n"
     ]
    }
   ],
   "source": [
    "import os\n",
    "path = os.getcwd()\n",
    "directory = os.listdir(path)\n",
    "files = list(filter(os.path.isfile, directory))\n",
    "dirs = list(filter(os.path.isdir, directory))\n",
    "print(\"\\n dirs =\", dirs)\n",
    "newpath = \"myfolder\"\n",
    "if newpath not in dirs:\n",
    "    os.mkdir(newpath)\n",
    "    \n",
    "fname = 'py07p01.txt'\n",
    "f = open(path + '/' + newpath + '/' + fname, 'w', encoding='utf8')\n",
    "s = \"\"\"헉\"\"\"\n",
    "f.write(s)\n",
    "f.close()\n",
    "            "
   ]
  },
  {
   "cell_type": "markdown",
   "id": "235639e8",
   "metadata": {},
   "source": [
    "# 7.3 RANDOM module - random.seed() 함수"
   ]
  },
  {
   "cell_type": "code",
   "execution_count": 12,
   "id": "e7616145",
   "metadata": {
    "ExecuteTime": {
     "end_time": "2022-02-11T01:47:22.812236Z",
     "start_time": "2022-02-11T01:47:22.804735Z"
    }
   },
   "outputs": [],
   "source": [
    "import random\n",
    "\n",
    "def random_seq(N):\n",
    "    L = []\n",
    "    for n in range(N):\n",
    "        L.append(random.randrange(1,21,2))\n",
    "    return L"
   ]
  },
  {
   "cell_type": "code",
   "execution_count": 13,
   "id": "9de22ad6",
   "metadata": {
    "ExecuteTime": {
     "end_time": "2022-02-11T01:47:33.787891Z",
     "start_time": "2022-02-11T01:47:33.777389Z"
    }
   },
   "outputs": [
    {
     "data": {
      "text/plain": [
       "[19, 5, 11, 17, 15, 5, 17, 19, 15, 5]"
      ]
     },
     "execution_count": 13,
     "metadata": {},
     "output_type": "execute_result"
    }
   ],
   "source": [
    "N = 10; random_seq(10)"
   ]
  },
  {
   "cell_type": "code",
   "execution_count": 14,
   "id": "d1f142b0",
   "metadata": {
    "ExecuteTime": {
     "end_time": "2022-02-11T01:47:38.955795Z",
     "start_time": "2022-02-11T01:47:38.945293Z"
    }
   },
   "outputs": [
    {
     "data": {
      "text/plain": [
       "[15, 13, 11, 15, 3, 9, 15, 7, 9, 1]"
      ]
     },
     "execution_count": 14,
     "metadata": {},
     "output_type": "execute_result"
    }
   ],
   "source": [
    "random_seq(10)"
   ]
  },
  {
   "cell_type": "code",
   "execution_count": 16,
   "id": "a24ef732",
   "metadata": {
    "ExecuteTime": {
     "end_time": "2022-02-11T01:48:06.293045Z",
     "start_time": "2022-02-11T01:48:06.282044Z"
    }
   },
   "outputs": [
    {
     "data": {
      "text/plain": [
       "[3, 13, 19, 15, 15, 13, 11, 17, 13, 5]"
      ]
     },
     "execution_count": 16,
     "metadata": {},
     "output_type": "execute_result"
    }
   ],
   "source": [
    "seed = 888\n",
    "random.seed(seed); random_seq(10)"
   ]
  },
  {
   "cell_type": "code",
   "execution_count": 18,
   "id": "046ea7ee",
   "metadata": {
    "ExecuteTime": {
     "end_time": "2022-02-11T01:48:10.731893Z",
     "start_time": "2022-02-11T01:48:10.728893Z"
    }
   },
   "outputs": [
    {
     "data": {
      "text/plain": [
       "[3, 13, 19, 15, 15, 13, 11, 17, 13, 5]"
      ]
     },
     "execution_count": 18,
     "metadata": {},
     "output_type": "execute_result"
    }
   ],
   "source": [
    "random.seed(seed); random_seq(10)"
   ]
  },
  {
   "cell_type": "markdown",
   "id": "ee69c5a9",
   "metadata": {},
   "source": [
    "# 7.4 RANDOM Module - random.choices() 함수"
   ]
  },
  {
   "cell_type": "code",
   "execution_count": 22,
   "id": "49e36394",
   "metadata": {
    "ExecuteTime": {
     "end_time": "2022-02-11T01:50:37.065945Z",
     "start_time": "2022-02-11T01:50:33.000587Z"
    }
   },
   "outputs": [
    {
     "name": "stdout",
     "output_type": "stream",
     "text": [
      "{'H': 5001313, 'T': 4998687}\n"
     ]
    }
   ],
   "source": [
    "#(a)\n",
    "import random\n",
    "event_freq = {'H': 0, 'T': 0}\n",
    "events = list(event_freq.keys())\n",
    "for i in range(10000000):\n",
    "    event_freq[random.choice(events)] += 1\n",
    "print(event_freq)"
   ]
  },
  {
   "cell_type": "code",
   "execution_count": 27,
   "id": "85d42c66",
   "metadata": {
    "ExecuteTime": {
     "end_time": "2022-02-11T01:58:18.123551Z",
     "start_time": "2022-02-11T01:58:16.457763Z"
    }
   },
   "outputs": [
    {
     "name": "stdout",
     "output_type": "stream",
     "text": [
      "{'모': 57841, '도': 240244, '개': 374528, '걸': 259797, '윷': 67590}\n",
      "[0.05764800999999999, 0.24000396, 0.37470005999999995, 0.25999596, 0.06765201]\n"
     ]
    }
   ],
   "source": [
    "#(b)\n",
    "import random\n",
    "from math import factorial\n",
    "\n",
    "event_freq = {'모': 0, '도': 0, '개': 0, '걸': 0, '윷': 0}\n",
    "events = list(event_freq.keys())\n",
    "(PH, PT) = (0.51, 0.49)\n",
    "for i in range(1000000):\n",
    "    outcome = random.choices(['H','T'], weights = [PH,PT], k=4)\n",
    "    event = events[outcome.count('H')]\n",
    "    event_freq[event] += 1\n",
    "print(event_freq)\n",
    "\n",
    "def comb(n, k):\n",
    "    return factorial(n)/factorial(k)/factorial(n-k)\n",
    "\n",
    "P = []\n",
    "\n",
    "for n in range(5):\n",
    "    P.append(comb(4,n)*PH**n*PT**(4-n))\n",
    "\n",
    "print(P)"
   ]
  },
  {
   "cell_type": "markdown",
   "id": "8f580678",
   "metadata": {},
   "source": [
    "# 7.5 RANDOM Module - random.uniform/triangular() 함수"
   ]
  },
  {
   "cell_type": "code",
   "execution_count": 29,
   "id": "eb4e975e",
   "metadata": {
    "ExecuteTime": {
     "end_time": "2022-02-11T02:01:39.461377Z",
     "start_time": "2022-02-11T02:01:37.651571Z"
    }
   },
   "outputs": [
    {
     "data": {
      "image/png": "[encoded data removed]",
      "text/plain": [
       "<Figure size 432x288 with 2 Axes>"
      ]
     },
     "metadata": {
      "needs_background": "light"
     },
     "output_type": "display_data"
    }
   ],
   "source": [
    "import random\n",
    "import matplotlib.pyplot as plt\n",
    "\n",
    "N = 100000\n",
    "(a,b,c) = (-1,2,1)\n",
    "\n",
    "#uniform random numbers\n",
    "xu = []\n",
    "for n in range(N):\n",
    "    xu.append(random.uniform(a,b))\n",
    "    \n",
    "#Triangular random numbers\n",
    "xt = []\n",
    "for n in range(N):\n",
    "    xt.append(random.triangular(a,b,c))\n",
    "    \n",
    "Nb = 20\n",
    "plt.subplot(1,2,1); plt.hist(xu, bins = Nb)\n",
    "plt.subplot(1,2,2); plt.hist(xt, bins = Nb)\n",
    "plt.show()"
   ]
  },
  {
   "cell_type": "code",
   "execution_count": null,
   "id": "a16d1ed5",
   "metadata": {},
   "outputs": [],
   "source": []
  }
 ],
 "metadata": {
  "kernelspec": {
   "display_name": "Python 3 (ipykernel)",
   "language": "python",
   "name": "python3"
  },
  "language_info": {
   "codemirror_mode": {
    "name": "ipython",
    "version": 3
   },
   "file_extension": ".py",
   "mimetype": "text/x-python",
   "name": "python",
   "nbconvert_exporter": "python",
   "pygments_lexer": "ipython3",
   "version": "3.9.7"
  },
  "toc": {
   "base_numbering": 1,
   "nav_menu": {},
   "number_sections": true,
   "sideBar": true,
   "skip_h1_title": false,
   "title_cell": "Table of Contents",
   "title_sidebar": "Contents",
   "toc_cell": false,
   "toc_position": {},
   "toc_section_display": true,
   "toc_window_display": false
  }
 },
 "nbformat": 4,
 "nbformat_minor": 5
}
