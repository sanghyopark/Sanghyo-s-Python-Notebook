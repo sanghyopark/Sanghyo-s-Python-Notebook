{
 "cells": [
  {
   "cell_type": "code",
   "execution_count": 10,
   "id": "941086d9",
   "metadata": {
    "ExecuteTime": {
     "end_time": "2022-02-16T05:45:20.568203Z",
     "start_time": "2022-02-16T05:45:20.558391Z"
    }
   },
   "outputs": [],
   "source": [
    "from IPython.core.interactiveshell import InteractiveShell\n",
    "InteractiveShell.ast_node_interactivity = \"all\""
   ]
  },
  {
   "cell_type": "markdown",
   "id": "a336a9d0",
   "metadata": {},
   "source": [
    "# 10.3 두 Pandas DataFrame의 통합"
   ]
  },
  {
   "cell_type": "markdown",
   "id": "ba935898",
   "metadata": {
    "ExecuteTime": {
     "end_time": "2022-02-16T05:42:08.768974Z",
     "start_time": "2022-02-16T05:42:08.760973Z"
    }
   },
   "source": [
    "## 10.3.1 Concatenating과 Combining - ~.concat(), ~.combine_first()"
   ]
  },
  {
   "cell_type": "code",
   "execution_count": 3,
   "id": "592a9267",
   "metadata": {
    "ExecuteTime": {
     "end_time": "2022-02-16T05:43:37.449304Z",
     "start_time": "2022-02-16T05:43:37.161121Z"
    }
   },
   "outputs": [],
   "source": [
    "import pandas as pd\n",
    "import numpy as np"
   ]
  },
  {
   "cell_type": "code",
   "execution_count": 4,
   "id": "4cbf245d",
   "metadata": {
    "ExecuteTime": {
     "end_time": "2022-02-16T05:43:39.369240Z",
     "start_time": "2022-02-16T05:43:39.365239Z"
    }
   },
   "outputs": [],
   "source": [
    "df1 = pd.DataFrame({'이름': ['홍길동','최참판','성춘향'],\n",
    "                    '보통예금': [1200,2300,1400],\n",
    "                    '정기예금': [3400,2900,2600]},\n",
    "                   index=[1012,1011,2010])"
   ]
  },
  {
   "cell_type": "code",
   "execution_count": 5,
   "id": "efb85a61",
   "metadata": {
    "ExecuteTime": {
     "end_time": "2022-02-16T05:43:50.203169Z",
     "start_time": "2022-02-16T05:43:50.198668Z"
    }
   },
   "outputs": [],
   "source": [
    "df1.index.name = 'ID'"
   ]
  },
  {
   "cell_type": "code",
   "execution_count": 8,
   "id": "64421385",
   "metadata": {
    "ExecuteTime": {
     "end_time": "2022-02-16T05:44:56.310253Z",
     "start_time": "2022-02-16T05:44:56.302252Z"
    }
   },
   "outputs": [],
   "source": [
    "df2 = pd.DataFrame({'이름': ['홍길동','이몽룡'],\n",
    "                    '보통예금': [2100,3400],\n",
    "                    '저축예금': [2700,4700]},\n",
    "                   index=[1012,1010])\n",
    "df2.index.name = 'ID'"
   ]
  },
  {
   "cell_type": "code",
   "execution_count": 11,
   "id": "050228e9",
   "metadata": {
    "ExecuteTime": {
     "end_time": "2022-02-16T05:45:22.506469Z",
     "start_time": "2022-02-16T05:45:22.497468Z"
    }
   },
   "outputs": [
    {
     "data": {
      "text/html": [
       "<div>\n",
       "<style scoped>\n",
       "    .dataframe tbody tr th:only-of-type {\n",
       "        vertical-align: middle;\n",
       "    }\n",
       "\n",
       "    .dataframe tbody tr th {\n",
       "        vertical-align: top;\n",
       "    }\n",
       "\n",
       "    .dataframe thead th {\n",
       "        text-align: right;\n",
       "    }\n",
       "</style>\n",
       "<table border=\"1\" class=\"dataframe\">\n",
       "  <thead>\n",
       "    <tr style=\"text-align: right;\">\n",
       "      <th></th>\n",
       "      <th>이름</th>\n",
       "      <th>보통예금</th>\n",
       "      <th>정기예금</th>\n",
       "    </tr>\n",
       "    <tr>\n",
       "      <th>ID</th>\n",
       "      <th></th>\n",
       "      <th></th>\n",
       "      <th></th>\n",
       "    </tr>\n",
       "  </thead>\n",
       "  <tbody>\n",
       "    <tr>\n",
       "      <th>1012</th>\n",
       "      <td>홍길동</td>\n",
       "      <td>1200</td>\n",
       "      <td>3400</td>\n",
       "    </tr>\n",
       "    <tr>\n",
       "      <th>1011</th>\n",
       "      <td>최참판</td>\n",
       "      <td>2300</td>\n",
       "      <td>2900</td>\n",
       "    </tr>\n",
       "    <tr>\n",
       "      <th>2010</th>\n",
       "      <td>성춘향</td>\n",
       "      <td>1400</td>\n",
       "      <td>2600</td>\n",
       "    </tr>\n",
       "  </tbody>\n",
       "</table>\n",
       "</div>"
      ],
      "text/plain": [
       "       이름  보통예금  정기예금\n",
       "ID                   \n",
       "1012  홍길동  1200  3400\n",
       "1011  최참판  2300  2900\n",
       "2010  성춘향  1400  2600"
      ]
     },
     "execution_count": 11,
     "metadata": {},
     "output_type": "execute_result"
    },
    {
     "data": {
      "text/html": [
       "<div>\n",
       "<style scoped>\n",
       "    .dataframe tbody tr th:only-of-type {\n",
       "        vertical-align: middle;\n",
       "    }\n",
       "\n",
       "    .dataframe tbody tr th {\n",
       "        vertical-align: top;\n",
       "    }\n",
       "\n",
       "    .dataframe thead th {\n",
       "        text-align: right;\n",
       "    }\n",
       "</style>\n",
       "<table border=\"1\" class=\"dataframe\">\n",
       "  <thead>\n",
       "    <tr style=\"text-align: right;\">\n",
       "      <th></th>\n",
       "      <th>이름</th>\n",
       "      <th>보통예금</th>\n",
       "      <th>저축예금</th>\n",
       "    </tr>\n",
       "    <tr>\n",
       "      <th>ID</th>\n",
       "      <th></th>\n",
       "      <th></th>\n",
       "      <th></th>\n",
       "    </tr>\n",
       "  </thead>\n",
       "  <tbody>\n",
       "    <tr>\n",
       "      <th>1012</th>\n",
       "      <td>홍길동</td>\n",
       "      <td>2100</td>\n",
       "      <td>2700</td>\n",
       "    </tr>\n",
       "    <tr>\n",
       "      <th>1010</th>\n",
       "      <td>이몽룡</td>\n",
       "      <td>3400</td>\n",
       "      <td>4700</td>\n",
       "    </tr>\n",
       "  </tbody>\n",
       "</table>\n",
       "</div>"
      ],
      "text/plain": [
       "       이름  보통예금  저축예금\n",
       "ID                   \n",
       "1012  홍길동  2100  2700\n",
       "1010  이몽룡  3400  4700"
      ]
     },
     "execution_count": 11,
     "metadata": {},
     "output_type": "execute_result"
    }
   ],
   "source": [
    "df1;df2"
   ]
  },
  {
   "cell_type": "raw",
   "id": "4c139e5c",
   "metadata": {
    "ExecuteTime": {
     "end_time": "2022-02-16T05:45:43.241269Z",
     "start_time": "2022-02-16T05:45:43.232768Z"
    }
   },
   "source": [
    "같은 label을 가진 column이 있다면 같은 column으로 합성되고, 그렇지 않은 column들은 독립적으로 들어갔으며, 수직방향으로는 두 df-pds의 index들 중 서로 일치하는 것이 있든 말든 data row들이 합쳐지면서, 빈자리는 NaN으로 채워진다."
   ]
  },
  {
   "cell_type": "code",
   "execution_count": 14,
   "id": "7e8cda0d",
   "metadata": {
    "ExecuteTime": {
     "end_time": "2022-02-16T05:47:49.773885Z",
     "start_time": "2022-02-16T05:47:49.759383Z"
    }
   },
   "outputs": [
    {
     "data": {
      "text/html": [
       "<div>\n",
       "<style scoped>\n",
       "    .dataframe tbody tr th:only-of-type {\n",
       "        vertical-align: middle;\n",
       "    }\n",
       "\n",
       "    .dataframe tbody tr th {\n",
       "        vertical-align: top;\n",
       "    }\n",
       "\n",
       "    .dataframe thead th {\n",
       "        text-align: right;\n",
       "    }\n",
       "</style>\n",
       "<table border=\"1\" class=\"dataframe\">\n",
       "  <thead>\n",
       "    <tr style=\"text-align: right;\">\n",
       "      <th></th>\n",
       "      <th>이름</th>\n",
       "      <th>보통예금</th>\n",
       "      <th>정기예금</th>\n",
       "      <th>이름</th>\n",
       "      <th>보통예금</th>\n",
       "      <th>저축예금</th>\n",
       "    </tr>\n",
       "    <tr>\n",
       "      <th>ID</th>\n",
       "      <th></th>\n",
       "      <th></th>\n",
       "      <th></th>\n",
       "      <th></th>\n",
       "      <th></th>\n",
       "      <th></th>\n",
       "    </tr>\n",
       "  </thead>\n",
       "  <tbody>\n",
       "    <tr>\n",
       "      <th>1010</th>\n",
       "      <td>NaN</td>\n",
       "      <td>NaN</td>\n",
       "      <td>NaN</td>\n",
       "      <td>이몽룡</td>\n",
       "      <td>3400.0</td>\n",
       "      <td>4700.0</td>\n",
       "    </tr>\n",
       "    <tr>\n",
       "      <th>1011</th>\n",
       "      <td>최참판</td>\n",
       "      <td>2300.0</td>\n",
       "      <td>2900.0</td>\n",
       "      <td>NaN</td>\n",
       "      <td>NaN</td>\n",
       "      <td>NaN</td>\n",
       "    </tr>\n",
       "    <tr>\n",
       "      <th>1012</th>\n",
       "      <td>홍길동</td>\n",
       "      <td>1200.0</td>\n",
       "      <td>3400.0</td>\n",
       "      <td>홍길동</td>\n",
       "      <td>2100.0</td>\n",
       "      <td>2700.0</td>\n",
       "    </tr>\n",
       "    <tr>\n",
       "      <th>2010</th>\n",
       "      <td>성춘향</td>\n",
       "      <td>1400.0</td>\n",
       "      <td>2600.0</td>\n",
       "      <td>NaN</td>\n",
       "      <td>NaN</td>\n",
       "      <td>NaN</td>\n",
       "    </tr>\n",
       "  </tbody>\n",
       "</table>\n",
       "</div>"
      ],
      "text/plain": [
       "       이름    보통예금    정기예금   이름    보통예금    저축예금\n",
       "ID                                            \n",
       "1010  NaN     NaN     NaN  이몽룡  3400.0  4700.0\n",
       "1011  최참판  2300.0  2900.0  NaN     NaN     NaN\n",
       "1012  홍길동  1200.0  3400.0  홍길동  2100.0  2700.0\n",
       "2010  성춘향  1400.0  2600.0  NaN     NaN     NaN"
      ]
     },
     "execution_count": 14,
     "metadata": {},
     "output_type": "execute_result"
    }
   ],
   "source": [
    "pd.concat([df1,df2],axis=1)"
   ]
  },
  {
   "cell_type": "raw",
   "id": "f20d9def",
   "metadata": {},
   "source": [
    "동일한 index를 가진 data row들은 합쳐지고, 그렇지 않은 data row들은 독립적으로 들어갔으며, 두 df-pds의 column label중 서로 일치하는 것이 있든 말든 data row들이 합쳐지면서, 빈자리는 NaN으로 채워졌다."
   ]
  },
  {
   "cell_type": "code",
   "execution_count": 15,
   "id": "a26f05f9",
   "metadata": {
    "ExecuteTime": {
     "end_time": "2022-02-16T05:49:40.574847Z",
     "start_time": "2022-02-16T05:49:40.551843Z"
    }
   },
   "outputs": [
    {
     "data": {
      "text/html": [
       "<div>\n",
       "<style scoped>\n",
       "    .dataframe tbody tr th:only-of-type {\n",
       "        vertical-align: middle;\n",
       "    }\n",
       "\n",
       "    .dataframe tbody tr th {\n",
       "        vertical-align: top;\n",
       "    }\n",
       "\n",
       "    .dataframe thead tr th {\n",
       "        text-align: left;\n",
       "    }\n",
       "\n",
       "    .dataframe thead tr:last-of-type th {\n",
       "        text-align: right;\n",
       "    }\n",
       "</style>\n",
       "<table border=\"1\" class=\"dataframe\">\n",
       "  <thead>\n",
       "    <tr>\n",
       "      <th></th>\n",
       "      <th colspan=\"3\" halign=\"left\">df1</th>\n",
       "      <th colspan=\"3\" halign=\"left\">df2</th>\n",
       "    </tr>\n",
       "    <tr>\n",
       "      <th></th>\n",
       "      <th>이름</th>\n",
       "      <th>보통예금</th>\n",
       "      <th>정기예금</th>\n",
       "      <th>이름</th>\n",
       "      <th>보통예금</th>\n",
       "      <th>저축예금</th>\n",
       "    </tr>\n",
       "    <tr>\n",
       "      <th>ID</th>\n",
       "      <th></th>\n",
       "      <th></th>\n",
       "      <th></th>\n",
       "      <th></th>\n",
       "      <th></th>\n",
       "      <th></th>\n",
       "    </tr>\n",
       "  </thead>\n",
       "  <tbody>\n",
       "    <tr>\n",
       "      <th>1010</th>\n",
       "      <td>NaN</td>\n",
       "      <td>NaN</td>\n",
       "      <td>NaN</td>\n",
       "      <td>이몽룡</td>\n",
       "      <td>3400.0</td>\n",
       "      <td>4700.0</td>\n",
       "    </tr>\n",
       "    <tr>\n",
       "      <th>1011</th>\n",
       "      <td>최참판</td>\n",
       "      <td>2300.0</td>\n",
       "      <td>2900.0</td>\n",
       "      <td>NaN</td>\n",
       "      <td>NaN</td>\n",
       "      <td>NaN</td>\n",
       "    </tr>\n",
       "    <tr>\n",
       "      <th>1012</th>\n",
       "      <td>홍길동</td>\n",
       "      <td>1200.0</td>\n",
       "      <td>3400.0</td>\n",
       "      <td>홍길동</td>\n",
       "      <td>2100.0</td>\n",
       "      <td>2700.0</td>\n",
       "    </tr>\n",
       "    <tr>\n",
       "      <th>2010</th>\n",
       "      <td>성춘향</td>\n",
       "      <td>1400.0</td>\n",
       "      <td>2600.0</td>\n",
       "      <td>NaN</td>\n",
       "      <td>NaN</td>\n",
       "      <td>NaN</td>\n",
       "    </tr>\n",
       "  </tbody>\n",
       "</table>\n",
       "</div>"
      ],
      "text/plain": [
       "      df1                  df2                \n",
       "       이름    보통예금    정기예금   이름    보통예금    저축예금\n",
       "ID                                            \n",
       "1010  NaN     NaN     NaN  이몽룡  3400.0  4700.0\n",
       "1011  최참판  2300.0  2900.0  NaN     NaN     NaN\n",
       "1012  홍길동  1200.0  3400.0  홍길동  2100.0  2700.0\n",
       "2010  성춘향  1400.0  2600.0  NaN     NaN     NaN"
      ]
     },
     "execution_count": 15,
     "metadata": {},
     "output_type": "execute_result"
    }
   ],
   "source": [
    "pd.concat({'df1':df1, 'df2':df2}, axis=1)"
   ]
  },
  {
   "cell_type": "code",
   "execution_count": 16,
   "id": "6b32944d",
   "metadata": {
    "ExecuteTime": {
     "end_time": "2022-02-16T05:50:17.873198Z",
     "start_time": "2022-02-16T05:50:17.857696Z"
    }
   },
   "outputs": [
    {
     "data": {
      "text/html": [
       "<div>\n",
       "<style scoped>\n",
       "    .dataframe tbody tr th:only-of-type {\n",
       "        vertical-align: middle;\n",
       "    }\n",
       "\n",
       "    .dataframe tbody tr th {\n",
       "        vertical-align: top;\n",
       "    }\n",
       "\n",
       "    .dataframe thead th {\n",
       "        text-align: right;\n",
       "    }\n",
       "</style>\n",
       "<table border=\"1\" class=\"dataframe\">\n",
       "  <thead>\n",
       "    <tr style=\"text-align: right;\">\n",
       "      <th></th>\n",
       "      <th>보통예금</th>\n",
       "      <th>이름</th>\n",
       "      <th>저축예금</th>\n",
       "      <th>정기예금</th>\n",
       "    </tr>\n",
       "    <tr>\n",
       "      <th>ID</th>\n",
       "      <th></th>\n",
       "      <th></th>\n",
       "      <th></th>\n",
       "      <th></th>\n",
       "    </tr>\n",
       "  </thead>\n",
       "  <tbody>\n",
       "    <tr>\n",
       "      <th>1010</th>\n",
       "      <td>3400</td>\n",
       "      <td>이몽룡</td>\n",
       "      <td>4700.0</td>\n",
       "      <td>NaN</td>\n",
       "    </tr>\n",
       "    <tr>\n",
       "      <th>1011</th>\n",
       "      <td>2300</td>\n",
       "      <td>최참판</td>\n",
       "      <td>NaN</td>\n",
       "      <td>2900.0</td>\n",
       "    </tr>\n",
       "    <tr>\n",
       "      <th>1012</th>\n",
       "      <td>1200</td>\n",
       "      <td>홍길동</td>\n",
       "      <td>2700.0</td>\n",
       "      <td>3400.0</td>\n",
       "    </tr>\n",
       "    <tr>\n",
       "      <th>2010</th>\n",
       "      <td>1400</td>\n",
       "      <td>성춘향</td>\n",
       "      <td>NaN</td>\n",
       "      <td>2600.0</td>\n",
       "    </tr>\n",
       "  </tbody>\n",
       "</table>\n",
       "</div>"
      ],
      "text/plain": [
       "      보통예금   이름    저축예금    정기예금\n",
       "ID                             \n",
       "1010  3400  이몽룡  4700.0     NaN\n",
       "1011  2300  최참판     NaN  2900.0\n",
       "1012  1200  홍길동  2700.0  3400.0\n",
       "2010  1400  성춘향     NaN  2600.0"
      ]
     },
     "execution_count": 16,
     "metadata": {},
     "output_type": "execute_result"
    }
   ],
   "source": [
    "df1.combine_first(df2)"
   ]
  },
  {
   "cell_type": "raw",
   "id": "1f30e6d3",
   "metadata": {},
   "source": [
    " 동일한 index를 가진 data row들이 하나의 data row로 합성되고, 그렇지 않은 data row들은 독립적으로 들어갔으며, 두 column label중 서로 일치하는 것이 있으면 하나의 column으로 합성되고, 그렇지 않은 column들은 독립적으로 들어갔다.\n",
    " 어떤 자리에 두 df-pds중 하나만 값을 가지고 있다면 바로 그 값이 그 자리에 채워지고, 어떤 자리에 서로 다른 값을 가지고 있다면 그 자리는 df1의 값으로 채워자고, 어떤자리에 모두 값을 가지고 있지 않다면 NaN으로 채워진다."
   ]
  },
  {
   "cell_type": "code",
   "execution_count": 17,
   "id": "2373d360",
   "metadata": {
    "ExecuteTime": {
     "end_time": "2022-02-16T05:53:47.742128Z",
     "start_time": "2022-02-16T05:53:47.733627Z"
    }
   },
   "outputs": [
    {
     "data": {
      "text/html": [
       "<div>\n",
       "<style scoped>\n",
       "    .dataframe tbody tr th:only-of-type {\n",
       "        vertical-align: middle;\n",
       "    }\n",
       "\n",
       "    .dataframe tbody tr th {\n",
       "        vertical-align: top;\n",
       "    }\n",
       "\n",
       "    .dataframe thead th {\n",
       "        text-align: right;\n",
       "    }\n",
       "</style>\n",
       "<table border=\"1\" class=\"dataframe\">\n",
       "  <thead>\n",
       "    <tr style=\"text-align: right;\">\n",
       "      <th></th>\n",
       "      <th>보통예금</th>\n",
       "      <th>이름</th>\n",
       "      <th>저축예금</th>\n",
       "      <th>정기예금</th>\n",
       "    </tr>\n",
       "    <tr>\n",
       "      <th>ID</th>\n",
       "      <th></th>\n",
       "      <th></th>\n",
       "      <th></th>\n",
       "      <th></th>\n",
       "    </tr>\n",
       "  </thead>\n",
       "  <tbody>\n",
       "    <tr>\n",
       "      <th>1010</th>\n",
       "      <td>3400</td>\n",
       "      <td>이몽룡</td>\n",
       "      <td>4700.0</td>\n",
       "      <td>0.0</td>\n",
       "    </tr>\n",
       "    <tr>\n",
       "      <th>1011</th>\n",
       "      <td>2300</td>\n",
       "      <td>최참판</td>\n",
       "      <td>0.0</td>\n",
       "      <td>2900.0</td>\n",
       "    </tr>\n",
       "    <tr>\n",
       "      <th>1012</th>\n",
       "      <td>1200</td>\n",
       "      <td>홍길동</td>\n",
       "      <td>2700.0</td>\n",
       "      <td>3400.0</td>\n",
       "    </tr>\n",
       "    <tr>\n",
       "      <th>2010</th>\n",
       "      <td>1400</td>\n",
       "      <td>성춘향</td>\n",
       "      <td>0.0</td>\n",
       "      <td>2600.0</td>\n",
       "    </tr>\n",
       "  </tbody>\n",
       "</table>\n",
       "</div>"
      ],
      "text/plain": [
       "      보통예금   이름    저축예금    정기예금\n",
       "ID                             \n",
       "1010  3400  이몽룡  4700.0     0.0\n",
       "1011  2300  최참판     0.0  2900.0\n",
       "1012  1200  홍길동  2700.0  3400.0\n",
       "2010  1400  성춘향     0.0  2600.0"
      ]
     },
     "execution_count": 17,
     "metadata": {},
     "output_type": "execute_result"
    }
   ],
   "source": [
    "df1.combine_first(df2).fillna(0) #NaN 값을 0으로 바꾼다."
   ]
  },
  {
   "cell_type": "raw",
   "id": "390bb6bf",
   "metadata": {},
   "source": [
    " 따라서 pd.concat()함수와 ~.combine_first() method가 둘 다 확실히 의미있는 data 통합결과를 보여주는 경우는, 두 df가 index들끼리는 전혀 중복되지 않으면서 그 column label끼리는 완벽하게 일치하는 경우 뿐이다."
   ]
  },
  {
   "cell_type": "code",
   "execution_count": 22,
   "id": "2b7d7c19",
   "metadata": {
    "ExecuteTime": {
     "end_time": "2022-02-16T06:04:09.463186Z",
     "start_time": "2022-02-16T06:04:09.443026Z"
    }
   },
   "outputs": [
    {
     "name": "stdout",
     "output_type": "stream",
     "text": [
      "      Name  Math  Physics Gender  Class  Python   C++\n",
      "0  Charley  90.0     86.0      M      1     NaN   NaN\n",
      "1  Jessica  85.0     90.0      F      1     NaN   NaN\n",
      "2     Anna  72.0     83.0      F      1     NaN   NaN\n",
      "3      Ted  92.0      NaN      M      2    65.0   NaN\n",
      "4     Jane  68.0      NaN      F      2    88.0   NaN\n",
      "5     John   NaN     59.0      M      3     NaN  83.0\n",
      "6   Olivia   NaN     64.0      F      3     NaN  71.0\n"
     ]
    }
   ],
   "source": [
    "import pandas as pd\n",
    "\n",
    "file_nos = [1,2,3]\n",
    "n = 0\n",
    "for file_no in file_nos:\n",
    "    filename = f'grade0{file_no}.csv'\n",
    "    dfn = pd.read_csv(filename)\n",
    "    dfn['Class'] = file_no\n",
    "    if n == 0: dfs = dfn\n",
    "    else: dfs = pd.concat([dfs, dfn], ignore_index=True) #기존 index무시 0부터 새로붙임\n",
    "    n = n+1\n",
    "print(dfs)\n"
   ]
  },
  {
   "cell_type": "code",
   "execution_count": 24,
   "id": "1fd6f3b7",
   "metadata": {
    "ExecuteTime": {
     "end_time": "2022-02-16T06:06:07.055725Z",
     "start_time": "2022-02-16T06:06:07.045723Z"
    }
   },
   "outputs": [
    {
     "name": "stdout",
     "output_type": "stream",
     "text": [
      "      Name  Math  Physics Gender  Class  Python   C++\n",
      "0  Charley  90.0     86.0      M      1     NaN   NaN\n",
      "1  Jessica  85.0     90.0      F      1     NaN   NaN\n",
      "2     Anna  72.0     83.0      F      1     NaN   NaN\n",
      "3      Ted  92.0      NaN      M      2    65.0   NaN\n",
      "4     Jane  68.0      NaN      F      2    88.0   NaN\n",
      "5     John   NaN     59.0      M      3     NaN  83.0\n",
      "6   Olivia   NaN     64.0      F      3     NaN  71.0\n"
     ]
    }
   ],
   "source": [
    "import pandas as pd\n",
    "\n",
    "file_nos = [1,2,3]\n",
    "dfns = []\n",
    "for file_no in file_nos:\n",
    "    filename = f'grade0{file_no}.csv'\n",
    "    dfn = pd.read_csv(filename)\n",
    "    dfn['Class'] = file_no\n",
    "    dfns.append(dfn)\n",
    "    \n",
    "dfs = pd.concat(dfns, ignore_index=True)\n",
    "print(dfs)"
   ]
  },
  {
   "cell_type": "code",
   "execution_count": 26,
   "id": "b83156ff",
   "metadata": {
    "ExecuteTime": {
     "end_time": "2022-02-16T06:10:22.240591Z",
     "start_time": "2022-02-16T06:10:22.227088Z"
    }
   },
   "outputs": [
    {
     "name": "stdout",
     "output_type": "stream",
     "text": [
      "         Math  Physics Gender  Class  Python   C++\n",
      "Name                                              \n",
      "Charley  90.0     86.0      M      1     NaN   NaN\n",
      "Jessica  85.0     90.0      F      1     NaN   NaN\n",
      "Anna     72.0     83.0      F      1     NaN   NaN\n",
      "Ted      92.0      NaN      M      2    65.0   NaN\n",
      "Jane     68.0      NaN      F      2    88.0   NaN\n",
      "John      NaN     59.0      M      3     NaN  83.0\n",
      "Olivia    NaN     64.0      F      3     NaN  71.0\n"
     ]
    }
   ],
   "source": [
    "import pandas as pd\n",
    "\n",
    "file_nos = [1,2,3]\n",
    "dfns = []\n",
    "for file_no in file_nos:\n",
    "    filename = f'grade0{file_no}.csv'\n",
    "    dfn = pd.read_csv(filename, index_col=['Name']) #index값으로 'Name' column 가져오기\n",
    "    dfn['Class'] = file_no\n",
    "    dfns.append(dfn)\n",
    "    \n",
    "dfs2 = pd.concat(dfns, ignore_index=False)\n",
    "print(dfs2)\n",
    "foname = 'grade_out.csv'\n",
    "dfs2.to_csv(foname, sep=',', index=True)\n"
   ]
  },
  {
   "cell_type": "markdown",
   "id": "d4efd26f",
   "metadata": {},
   "source": [
    "## 10.3.2 Merging과 Joining - ~.merge(), ~.join()"
   ]
  },
  {
   "cell_type": "code",
   "execution_count": 27,
   "id": "3b0e49db",
   "metadata": {
    "ExecuteTime": {
     "end_time": "2022-02-16T06:12:42.860803Z",
     "start_time": "2022-02-16T06:12:42.856802Z"
    }
   },
   "outputs": [],
   "source": [
    "df1 = pd.DataFrame({'ID': [1012,1011,2010],\n",
    "                    '이름': ['홍길동','최참판','성춘향'],\n",
    "                    '보통예금': [1200,2300,1400],\n",
    "                    '정기예금': [3400,2900,2600]})\n",
    "\n",
    "df2 = pd.DataFrame({'ID': [1012,1010],\n",
    "                    '이름': ['홍길동','이몽룡'],\n",
    "                    '보통예금': [2100,3400],\n",
    "                    '저축예금': [2700,4700]})"
   ]
  },
  {
   "cell_type": "code",
   "execution_count": 30,
   "id": "c6988c74",
   "metadata": {
    "ExecuteTime": {
     "end_time": "2022-02-16T06:15:06.920642Z",
     "start_time": "2022-02-16T06:15:06.902314Z"
    }
   },
   "outputs": [
    {
     "data": {
      "text/html": [
       "<div>\n",
       "<style scoped>\n",
       "    .dataframe tbody tr th:only-of-type {\n",
       "        vertical-align: middle;\n",
       "    }\n",
       "\n",
       "    .dataframe tbody tr th {\n",
       "        vertical-align: top;\n",
       "    }\n",
       "\n",
       "    .dataframe thead th {\n",
       "        text-align: right;\n",
       "    }\n",
       "</style>\n",
       "<table border=\"1\" class=\"dataframe\">\n",
       "  <thead>\n",
       "    <tr style=\"text-align: right;\">\n",
       "      <th></th>\n",
       "      <th>ID</th>\n",
       "      <th>이름</th>\n",
       "      <th>보통예금_1</th>\n",
       "      <th>정기예금</th>\n",
       "      <th>보통예금_2</th>\n",
       "      <th>저축예금</th>\n",
       "    </tr>\n",
       "  </thead>\n",
       "  <tbody>\n",
       "    <tr>\n",
       "      <th>0</th>\n",
       "      <td>1012</td>\n",
       "      <td>홍길동</td>\n",
       "      <td>1200.0</td>\n",
       "      <td>3400.0</td>\n",
       "      <td>2100.0</td>\n",
       "      <td>2700.0</td>\n",
       "    </tr>\n",
       "    <tr>\n",
       "      <th>1</th>\n",
       "      <td>1011</td>\n",
       "      <td>최참판</td>\n",
       "      <td>2300.0</td>\n",
       "      <td>2900.0</td>\n",
       "      <td>NaN</td>\n",
       "      <td>NaN</td>\n",
       "    </tr>\n",
       "    <tr>\n",
       "      <th>2</th>\n",
       "      <td>2010</td>\n",
       "      <td>성춘향</td>\n",
       "      <td>1400.0</td>\n",
       "      <td>2600.0</td>\n",
       "      <td>NaN</td>\n",
       "      <td>NaN</td>\n",
       "    </tr>\n",
       "    <tr>\n",
       "      <th>3</th>\n",
       "      <td>1010</td>\n",
       "      <td>이몽룡</td>\n",
       "      <td>NaN</td>\n",
       "      <td>NaN</td>\n",
       "      <td>3400.0</td>\n",
       "      <td>4700.0</td>\n",
       "    </tr>\n",
       "  </tbody>\n",
       "</table>\n",
       "</div>"
      ],
      "text/plain": [
       "     ID   이름  보통예금_1    정기예금  보통예금_2    저축예금\n",
       "0  1012  홍길동  1200.0  3400.0  2100.0  2700.0\n",
       "1  1011  최참판  2300.0  2900.0     NaN     NaN\n",
       "2  2010  성춘향  1400.0  2600.0     NaN     NaN\n",
       "3  1010  이몽룡     NaN     NaN  3400.0  4700.0"
      ]
     },
     "execution_count": 30,
     "metadata": {},
     "output_type": "execute_result"
    }
   ],
   "source": [
    "df1.merge(df2, on=('ID','이름'), how='outer', suffixes=('_1','_2'))"
   ]
  },
  {
   "cell_type": "raw",
   "id": "79dacbb8",
   "metadata": {},
   "source": [
    "on=(): 통합 기준이 되는 column\n",
    "how='outer': 통합이 합집합으로 data를 모두 포함\n",
    "suffixes=(): 통합 기준이된 column을 제외한 공통된 column label을 구분해주기 위해 어미를 붙임"
   ]
  },
  {
   "cell_type": "code",
   "execution_count": 31,
   "id": "766bc964",
   "metadata": {
    "ExecuteTime": {
     "end_time": "2022-02-16T06:17:46.185208Z",
     "start_time": "2022-02-16T06:17:46.173705Z"
    }
   },
   "outputs": [
    {
     "data": {
      "text/html": [
       "<div>\n",
       "<style scoped>\n",
       "    .dataframe tbody tr th:only-of-type {\n",
       "        vertical-align: middle;\n",
       "    }\n",
       "\n",
       "    .dataframe tbody tr th {\n",
       "        vertical-align: top;\n",
       "    }\n",
       "\n",
       "    .dataframe thead th {\n",
       "        text-align: right;\n",
       "    }\n",
       "</style>\n",
       "<table border=\"1\" class=\"dataframe\">\n",
       "  <thead>\n",
       "    <tr style=\"text-align: right;\">\n",
       "      <th></th>\n",
       "      <th>ID</th>\n",
       "      <th>이름</th>\n",
       "      <th>보통예금_1</th>\n",
       "      <th>정기예금</th>\n",
       "      <th>보통예금_2</th>\n",
       "      <th>저축예금</th>\n",
       "    </tr>\n",
       "  </thead>\n",
       "  <tbody>\n",
       "    <tr>\n",
       "      <th>0</th>\n",
       "      <td>1012</td>\n",
       "      <td>홍길동</td>\n",
       "      <td>1200.0</td>\n",
       "      <td>3400.0</td>\n",
       "      <td>2100.0</td>\n",
       "      <td>2700.0</td>\n",
       "    </tr>\n",
       "    <tr>\n",
       "      <th>1</th>\n",
       "      <td>1011</td>\n",
       "      <td>최참판</td>\n",
       "      <td>2300.0</td>\n",
       "      <td>2900.0</td>\n",
       "      <td>NaN</td>\n",
       "      <td>NaN</td>\n",
       "    </tr>\n",
       "    <tr>\n",
       "      <th>2</th>\n",
       "      <td>2010</td>\n",
       "      <td>성춘향</td>\n",
       "      <td>1400.0</td>\n",
       "      <td>2600.0</td>\n",
       "      <td>NaN</td>\n",
       "      <td>NaN</td>\n",
       "    </tr>\n",
       "    <tr>\n",
       "      <th>3</th>\n",
       "      <td>1010</td>\n",
       "      <td>이몽룡</td>\n",
       "      <td>NaN</td>\n",
       "      <td>NaN</td>\n",
       "      <td>3400.0</td>\n",
       "      <td>4700.0</td>\n",
       "    </tr>\n",
       "  </tbody>\n",
       "</table>\n",
       "</div>"
      ],
      "text/plain": [
       "     ID   이름  보통예금_1    정기예금  보통예금_2    저축예금\n",
       "0  1012  홍길동  1200.0  3400.0  2100.0  2700.0\n",
       "1  1011  최참판  2300.0  2900.0     NaN     NaN\n",
       "2  2010  성춘향  1400.0  2600.0     NaN     NaN\n",
       "3  1010  이몽룡     NaN     NaN  3400.0  4700.0"
      ]
     },
     "execution_count": 31,
     "metadata": {},
     "output_type": "execute_result"
    }
   ],
   "source": [
    "pd.merge(df1, df2, on=('ID','이름'), how='outer', suffixes=('_1','_2'))\n",
    "#같은결과"
   ]
  },
  {
   "cell_type": "raw",
   "id": "fcc0c89f",
   "metadata": {},
   "source": [
    "~.merge() 함수는 두 개의 df-pds가 통합기준이 일부 중복되면서도 일치하지는 않은 경우에 그 둘을 대조 검토하는 목적으로 사용하기 적절하다."
   ]
  }
 ],
 "metadata": {
  "kernelspec": {
   "display_name": "Python 3 (ipykernel)",
   "language": "python",
   "name": "python3"
  },
  "language_info": {
   "codemirror_mode": {
    "name": "ipython",
    "version": 3
   },
   "file_extension": ".py",
   "mimetype": "text/x-python",
   "name": "python",
   "nbconvert_exporter": "python",
   "pygments_lexer": "ipython3",
   "version": "3.9.7"
  },
  "toc": {
   "base_numbering": 1,
   "nav_menu": {},
   "number_sections": true,
   "sideBar": true,
   "skip_h1_title": false,
   "title_cell": "Table of Contents",
   "title_sidebar": "Contents",
   "toc_cell": false,
   "toc_position": {},
   "toc_section_display": true,
   "toc_window_display": false
  }
 },
 "nbformat": 4,
 "nbformat_minor": 5
}
