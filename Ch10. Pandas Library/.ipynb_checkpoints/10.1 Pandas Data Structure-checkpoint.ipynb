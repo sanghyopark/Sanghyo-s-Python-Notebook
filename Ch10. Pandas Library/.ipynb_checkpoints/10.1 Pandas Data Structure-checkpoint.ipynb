{
 "cells": [
  {
   "cell_type": "markdown",
   "id": "acac139f",
   "metadata": {},
   "source": [
    "# 10.1 Pandas Data Structure"
   ]
  },
  {
   "cell_type": "markdown",
   "id": "c45ea365",
   "metadata": {},
   "source": [
    "## 10.1.1 Series형 Pandas Data Structure (PDS)"
   ]
  },
  {
   "cell_type": "code",
   "execution_count": 24,
   "id": "4a548b79",
   "metadata": {
    "ExecuteTime": {
     "end_time": "2022-02-16T01:20:30.877229Z",
     "start_time": "2022-02-16T01:20:30.862726Z"
    }
   },
   "outputs": [],
   "source": [
    "import pandas as pd; import numpy as np"
   ]
  },
  {
   "cell_type": "code",
   "execution_count": 25,
   "id": "47149718",
   "metadata": {
    "ExecuteTime": {
     "end_time": "2022-02-16T01:20:31.384966Z",
     "start_time": "2022-02-16T01:20:31.375465Z"
    }
   },
   "outputs": [
    {
     "data": {
      "text/plain": [
       "0    4\n",
       "1    2\n",
       "2    1\n",
       "dtype: int64"
      ]
     },
     "execution_count": 25,
     "metadata": {},
     "output_type": "execute_result"
    }
   ],
   "source": [
    "ds1 = pd.Series([4,2,1]); ds1"
   ]
  },
  {
   "cell_type": "raw",
   "id": "251385e5",
   "metadata": {},
   "source": [
    " Series형 pds(s-pds)는 value들로 구성된 1D array와 그 요소들에 대한 (똑같은 길이의) index array로 구성되며, 그것을 생성하기 위해서는 pd.Series() class 생성자에 입력인자로 Python list나 dictionary를 넣어 실행시킴으로 그 instance (class)를 만든다"
   ]
  },
  {
   "cell_type": "code",
   "execution_count": 26,
   "id": "f88eeaa9",
   "metadata": {
    "ExecuteTime": {
     "end_time": "2022-02-16T01:20:31.677183Z",
     "start_time": "2022-02-16T01:20:31.670182Z"
    }
   },
   "outputs": [
    {
     "data": {
      "text/plain": [
       "array([4, 2, 1], dtype=int64)"
      ]
     },
     "execution_count": 26,
     "metadata": {},
     "output_type": "execute_result"
    }
   ],
   "source": [
    "ds1.values"
   ]
  },
  {
   "cell_type": "code",
   "execution_count": 27,
   "id": "61f5bbf5",
   "metadata": {
    "ExecuteTime": {
     "end_time": "2022-02-16T01:20:31.708189Z",
     "start_time": "2022-02-16T01:20:31.697686Z"
    }
   },
   "outputs": [
    {
     "data": {
      "text/plain": [
       "RangeIndex(start=0, stop=3, step=1)"
      ]
     },
     "execution_count": 27,
     "metadata": {},
     "output_type": "execute_result"
    }
   ],
   "source": [
    "ds1.index"
   ]
  },
  {
   "cell_type": "code",
   "execution_count": 28,
   "id": "98d8c58a",
   "metadata": {
    "ExecuteTime": {
     "end_time": "2022-02-16T01:20:31.739194Z",
     "start_time": "2022-02-16T01:20:31.728693Z"
    }
   },
   "outputs": [
    {
     "data": {
      "text/plain": [
       "0    4\n",
       "1    2\n",
       "dtype: int64"
      ]
     },
     "execution_count": 28,
     "metadata": {},
     "output_type": "execute_result"
    }
   ],
   "source": [
    "ds1[0:2]"
   ]
  },
  {
   "cell_type": "code",
   "execution_count": 29,
   "id": "2456ef71",
   "metadata": {
    "ExecuteTime": {
     "end_time": "2022-02-16T01:20:31.770200Z",
     "start_time": "2022-02-16T01:20:31.764198Z"
    }
   },
   "outputs": [
    {
     "data": {
      "text/plain": [
       "0    4\n",
       "2    1\n",
       "dtype: int64"
      ]
     },
     "execution_count": 29,
     "metadata": {},
     "output_type": "execute_result"
    }
   ],
   "source": [
    "ds1[0:3:2]"
   ]
  },
  {
   "cell_type": "code",
   "execution_count": 30,
   "id": "1aee3061",
   "metadata": {
    "ExecuteTime": {
     "end_time": "2022-02-16T01:20:31.816410Z",
     "start_time": "2022-02-16T01:20:31.804408Z"
    }
   },
   "outputs": [
    {
     "data": {
      "text/plain": [
       "1    2\n",
       "2    1\n",
       "dtype: int64"
      ]
     },
     "execution_count": 30,
     "metadata": {},
     "output_type": "execute_result"
    }
   ],
   "source": [
    "ds1[[1,2]]"
   ]
  },
  {
   "cell_type": "code",
   "execution_count": 31,
   "id": "a9ee173b",
   "metadata": {
    "ExecuteTime": {
     "end_time": "2022-02-16T01:20:31.862918Z",
     "start_time": "2022-02-16T01:20:31.839914Z"
    }
   },
   "outputs": [
    {
     "ename": "KeyError",
     "evalue": "-1",
     "output_type": "error",
     "traceback": [
      "\u001b[1;31m---------------------------------------------------------------------------\u001b[0m",
      "\u001b[1;31mValueError\u001b[0m                                Traceback (most recent call last)",
      "\u001b[1;32m~\\anaconda3\\lib\\site-packages\\pandas\\core\\indexes\\range.py\u001b[0m in \u001b[0;36mget_loc\u001b[1;34m(self, key, method, tolerance)\u001b[0m\n\u001b[0;32m    384\u001b[0m                 \u001b[1;32mtry\u001b[0m\u001b[1;33m:\u001b[0m\u001b[1;33m\u001b[0m\u001b[1;33m\u001b[0m\u001b[0m\n\u001b[1;32m--> 385\u001b[1;33m                     \u001b[1;32mreturn\u001b[0m \u001b[0mself\u001b[0m\u001b[1;33m.\u001b[0m\u001b[0m_range\u001b[0m\u001b[1;33m.\u001b[0m\u001b[0mindex\u001b[0m\u001b[1;33m(\u001b[0m\u001b[0mnew_key\u001b[0m\u001b[1;33m)\u001b[0m\u001b[1;33m\u001b[0m\u001b[1;33m\u001b[0m\u001b[0m\n\u001b[0m\u001b[0;32m    386\u001b[0m                 \u001b[1;32mexcept\u001b[0m \u001b[0mValueError\u001b[0m \u001b[1;32mas\u001b[0m \u001b[0merr\u001b[0m\u001b[1;33m:\u001b[0m\u001b[1;33m\u001b[0m\u001b[1;33m\u001b[0m\u001b[0m\n",
      "\u001b[1;31mValueError\u001b[0m: -1 is not in range",
      "\nThe above exception was the direct cause of the following exception:\n",
      "\u001b[1;31mKeyError\u001b[0m                                  Traceback (most recent call last)",
      "\u001b[1;32m~\\AppData\\Local\\Temp/ipykernel_12656/90168391.py\u001b[0m in \u001b[0;36m<module>\u001b[1;34m\u001b[0m\n\u001b[1;32m----> 1\u001b[1;33m \u001b[0mds1\u001b[0m\u001b[1;33m[\u001b[0m\u001b[1;33m-\u001b[0m\u001b[1;36m1\u001b[0m\u001b[1;33m]\u001b[0m\u001b[1;33m\u001b[0m\u001b[1;33m\u001b[0m\u001b[0m\n\u001b[0m",
      "\u001b[1;32m~\\anaconda3\\lib\\site-packages\\pandas\\core\\series.py\u001b[0m in \u001b[0;36m__getitem__\u001b[1;34m(self, key)\u001b[0m\n\u001b[0;32m    940\u001b[0m \u001b[1;33m\u001b[0m\u001b[0m\n\u001b[0;32m    941\u001b[0m         \u001b[1;32melif\u001b[0m \u001b[0mkey_is_scalar\u001b[0m\u001b[1;33m:\u001b[0m\u001b[1;33m\u001b[0m\u001b[1;33m\u001b[0m\u001b[0m\n\u001b[1;32m--> 942\u001b[1;33m             \u001b[1;32mreturn\u001b[0m \u001b[0mself\u001b[0m\u001b[1;33m.\u001b[0m\u001b[0m_get_value\u001b[0m\u001b[1;33m(\u001b[0m\u001b[0mkey\u001b[0m\u001b[1;33m)\u001b[0m\u001b[1;33m\u001b[0m\u001b[1;33m\u001b[0m\u001b[0m\n\u001b[0m\u001b[0;32m    943\u001b[0m \u001b[1;33m\u001b[0m\u001b[0m\n\u001b[0;32m    944\u001b[0m         \u001b[1;32mif\u001b[0m \u001b[0mis_hashable\u001b[0m\u001b[1;33m(\u001b[0m\u001b[0mkey\u001b[0m\u001b[1;33m)\u001b[0m\u001b[1;33m:\u001b[0m\u001b[1;33m\u001b[0m\u001b[1;33m\u001b[0m\u001b[0m\n",
      "\u001b[1;32m~\\anaconda3\\lib\\site-packages\\pandas\\core\\series.py\u001b[0m in \u001b[0;36m_get_value\u001b[1;34m(self, label, takeable)\u001b[0m\n\u001b[0;32m   1049\u001b[0m \u001b[1;33m\u001b[0m\u001b[0m\n\u001b[0;32m   1050\u001b[0m         \u001b[1;31m# Similar to Index.get_value, but we do not fall back to positional\u001b[0m\u001b[1;33m\u001b[0m\u001b[1;33m\u001b[0m\u001b[0m\n\u001b[1;32m-> 1051\u001b[1;33m         \u001b[0mloc\u001b[0m \u001b[1;33m=\u001b[0m \u001b[0mself\u001b[0m\u001b[1;33m.\u001b[0m\u001b[0mindex\u001b[0m\u001b[1;33m.\u001b[0m\u001b[0mget_loc\u001b[0m\u001b[1;33m(\u001b[0m\u001b[0mlabel\u001b[0m\u001b[1;33m)\u001b[0m\u001b[1;33m\u001b[0m\u001b[1;33m\u001b[0m\u001b[0m\n\u001b[0m\u001b[0;32m   1052\u001b[0m         \u001b[1;32mreturn\u001b[0m \u001b[0mself\u001b[0m\u001b[1;33m.\u001b[0m\u001b[0mindex\u001b[0m\u001b[1;33m.\u001b[0m\u001b[0m_get_values_for_loc\u001b[0m\u001b[1;33m(\u001b[0m\u001b[0mself\u001b[0m\u001b[1;33m,\u001b[0m \u001b[0mloc\u001b[0m\u001b[1;33m,\u001b[0m \u001b[0mlabel\u001b[0m\u001b[1;33m)\u001b[0m\u001b[1;33m\u001b[0m\u001b[1;33m\u001b[0m\u001b[0m\n\u001b[0;32m   1053\u001b[0m \u001b[1;33m\u001b[0m\u001b[0m\n",
      "\u001b[1;32m~\\anaconda3\\lib\\site-packages\\pandas\\core\\indexes\\range.py\u001b[0m in \u001b[0;36mget_loc\u001b[1;34m(self, key, method, tolerance)\u001b[0m\n\u001b[0;32m    385\u001b[0m                     \u001b[1;32mreturn\u001b[0m \u001b[0mself\u001b[0m\u001b[1;33m.\u001b[0m\u001b[0m_range\u001b[0m\u001b[1;33m.\u001b[0m\u001b[0mindex\u001b[0m\u001b[1;33m(\u001b[0m\u001b[0mnew_key\u001b[0m\u001b[1;33m)\u001b[0m\u001b[1;33m\u001b[0m\u001b[1;33m\u001b[0m\u001b[0m\n\u001b[0;32m    386\u001b[0m                 \u001b[1;32mexcept\u001b[0m \u001b[0mValueError\u001b[0m \u001b[1;32mas\u001b[0m \u001b[0merr\u001b[0m\u001b[1;33m:\u001b[0m\u001b[1;33m\u001b[0m\u001b[1;33m\u001b[0m\u001b[0m\n\u001b[1;32m--> 387\u001b[1;33m                     \u001b[1;32mraise\u001b[0m \u001b[0mKeyError\u001b[0m\u001b[1;33m(\u001b[0m\u001b[0mkey\u001b[0m\u001b[1;33m)\u001b[0m \u001b[1;32mfrom\u001b[0m \u001b[0merr\u001b[0m\u001b[1;33m\u001b[0m\u001b[1;33m\u001b[0m\u001b[0m\n\u001b[0m\u001b[0;32m    388\u001b[0m             \u001b[1;32mraise\u001b[0m \u001b[0mKeyError\u001b[0m\u001b[1;33m(\u001b[0m\u001b[0mkey\u001b[0m\u001b[1;33m)\u001b[0m\u001b[1;33m\u001b[0m\u001b[1;33m\u001b[0m\u001b[0m\n\u001b[0;32m    389\u001b[0m         \u001b[1;32mreturn\u001b[0m \u001b[0msuper\u001b[0m\u001b[1;33m(\u001b[0m\u001b[1;33m)\u001b[0m\u001b[1;33m.\u001b[0m\u001b[0mget_loc\u001b[0m\u001b[1;33m(\u001b[0m\u001b[0mkey\u001b[0m\u001b[1;33m,\u001b[0m \u001b[0mmethod\u001b[0m\u001b[1;33m=\u001b[0m\u001b[0mmethod\u001b[0m\u001b[1;33m,\u001b[0m \u001b[0mtolerance\u001b[0m\u001b[1;33m=\u001b[0m\u001b[0mtolerance\u001b[0m\u001b[1;33m)\u001b[0m\u001b[1;33m\u001b[0m\u001b[1;33m\u001b[0m\u001b[0m\n",
      "\u001b[1;31mKeyError\u001b[0m: -1"
     ]
    }
   ],
   "source": [
    "ds1[-1]"
   ]
  },
  {
   "cell_type": "code",
   "execution_count": 32,
   "id": "25d7864b",
   "metadata": {
    "ExecuteTime": {
     "end_time": "2022-02-16T01:20:31.878421Z",
     "start_time": "2022-02-16T01:20:31.867919Z"
    }
   },
   "outputs": [
    {
     "data": {
      "text/plain": [
       "1"
      ]
     },
     "execution_count": 32,
     "metadata": {},
     "output_type": "execute_result"
    }
   ],
   "source": [
    "ds1[2]"
   ]
  },
  {
   "cell_type": "code",
   "execution_count": 33,
   "id": "862d92b1",
   "metadata": {
    "ExecuteTime": {
     "end_time": "2022-02-16T01:20:31.909426Z",
     "start_time": "2022-02-16T01:20:31.896924Z"
    }
   },
   "outputs": [
    {
     "data": {
      "text/plain": [
       "0    4\n",
       "1    2\n",
       "2   -1\n",
       "dtype: int64"
      ]
     },
     "execution_count": 33,
     "metadata": {},
     "output_type": "execute_result"
    }
   ],
   "source": [
    "ds1[2] = -1; ds1"
   ]
  },
  {
   "cell_type": "code",
   "execution_count": 34,
   "id": "c4e7fda9",
   "metadata": {
    "ExecuteTime": {
     "end_time": "2022-02-16T01:20:31.940432Z",
     "start_time": "2022-02-16T01:20:31.928430Z"
    }
   },
   "outputs": [
    {
     "data": {
      "text/plain": [
       "0    4.0\n",
       "1    2.0\n",
       "2   -1.0\n",
       "4    3.0\n",
       "dtype: float64"
      ]
     },
     "execution_count": 34,
     "metadata": {},
     "output_type": "execute_result"
    }
   ],
   "source": [
    "ds1[4] = 3. #새로운 요소 추가\n",
    "ds1"
   ]
  },
  {
   "cell_type": "code",
   "execution_count": 35,
   "id": "87b86091",
   "metadata": {
    "ExecuteTime": {
     "end_time": "2022-02-16T01:20:31.971440Z",
     "start_time": "2022-02-16T01:20:31.964438Z"
    }
   },
   "outputs": [
    {
     "data": {
      "text/plain": [
       "0    4.0\n",
       "4    3.0\n",
       "dtype: float64"
      ]
     },
     "execution_count": 35,
     "metadata": {},
     "output_type": "execute_result"
    }
   ],
   "source": [
    "ds1[ds1>2]"
   ]
  },
  {
   "cell_type": "code",
   "execution_count": 36,
   "id": "46a8c990",
   "metadata": {
    "ExecuteTime": {
     "end_time": "2022-02-16T01:20:32.002445Z",
     "start_time": "2022-02-16T01:20:31.994445Z"
    }
   },
   "outputs": [
    {
     "data": {
      "text/plain": [
       "0    8.0\n",
       "1    4.0\n",
       "2   -2.0\n",
       "4    6.0\n",
       "dtype: float64"
      ]
     },
     "execution_count": 36,
     "metadata": {},
     "output_type": "execute_result"
    }
   ],
   "source": [
    "ds1*2"
   ]
  },
  {
   "cell_type": "code",
   "execution_count": 37,
   "id": "b47d78df",
   "metadata": {
    "ExecuteTime": {
     "end_time": "2022-02-16T01:20:32.033451Z",
     "start_time": "2022-02-16T01:20:32.026450Z"
    }
   },
   "outputs": [
    {
     "data": {
      "text/plain": [
       "0    54.598150\n",
       "1     7.389056\n",
       "2     0.367879\n",
       "4    20.085537\n",
       "dtype: float64"
      ]
     },
     "execution_count": 37,
     "metadata": {},
     "output_type": "execute_result"
    }
   ],
   "source": [
    "np.exp(ds1)"
   ]
  },
  {
   "cell_type": "code",
   "execution_count": 38,
   "id": "1d8727a0",
   "metadata": {
    "ExecuteTime": {
     "end_time": "2022-02-16T01:20:32.079964Z",
     "start_time": "2022-02-16T01:20:32.067961Z"
    }
   },
   "outputs": [
    {
     "data": {
      "text/plain": [
       "b    4\n",
       "c    2\n",
       "a   -1\n",
       "d    3\n",
       "dtype: int64"
      ]
     },
     "execution_count": 38,
     "metadata": {},
     "output_type": "execute_result"
    }
   ],
   "source": [
    "ds2 = pd.Series([4,2,-1,3], index=['b','c','a','d']); ds2\n",
    "#default로 들어가는 index array가 아닌 다른 index array를 넣어줄 수도 있다."
   ]
  },
  {
   "cell_type": "raw",
   "id": "baa7819a",
   "metadata": {},
   "source": [
    "위에서처럼 list가 아닌 dictionary도 그 안에 또 다른 dictionary를 포함하지 않은 단순한 구조이면서, 모든 key에 대한 value를 구성하는 요소들의 개수가 동일하다면, pd.Series() class에 입력인자로 그 dictionary를 넣어줌으로써 s-pds로 변환할 수 있다."
   ]
  },
  {
   "cell_type": "code",
   "execution_count": 39,
   "id": "d734766b",
   "metadata": {
    "ExecuteTime": {
     "end_time": "2022-02-16T01:20:32.141974Z",
     "start_time": "2022-02-16T01:20:32.133973Z"
    }
   },
   "outputs": [],
   "source": [
    "dic1 = {'2015':[36,-15.5], '2016': [36.6,-15], '2017': [35.4,-14]}"
   ]
  },
  {
   "cell_type": "code",
   "execution_count": 40,
   "id": "f81bdd8a",
   "metadata": {
    "ExecuteTime": {
     "end_time": "2022-02-16T01:20:32.172980Z",
     "start_time": "2022-02-16T01:20:32.161477Z"
    }
   },
   "outputs": [
    {
     "data": {
      "text/plain": [
       "2015    [36, -15.5]\n",
       "2016    [36.6, -15]\n",
       "2017    [35.4, -14]\n",
       "dtype: object"
      ]
     },
     "execution_count": 40,
     "metadata": {},
     "output_type": "execute_result"
    }
   ],
   "source": [
    "ds3 = pd.Series(dic1); ds3"
   ]
  },
  {
   "cell_type": "code",
   "execution_count": 41,
   "id": "63b8667b",
   "metadata": {
    "ExecuteTime": {
     "end_time": "2022-02-16T01:20:32.203985Z",
     "start_time": "2022-02-16T01:20:32.193483Z"
    }
   },
   "outputs": [
    {
     "data": {
      "text/plain": [
       "15    [36, -15.5]\n",
       "16    [36.6, -15]\n",
       "17    [35.4, -14]\n",
       "dtype: object"
      ]
     },
     "execution_count": 41,
     "metadata": {},
     "output_type": "execute_result"
    }
   ],
   "source": [
    "ds3.index = ['15','16','17']; ds3"
   ]
  },
  {
   "cell_type": "markdown",
   "id": "7a9c0982",
   "metadata": {},
   "source": [
    "## 10.1.2 DataFrame형 Pandas Data Structure (PDS)"
   ]
  },
  {
   "cell_type": "raw",
   "id": "5c6e6ab9",
   "metadata": {},
   "source": [
    " DataFrame형 pds(df-pds)는 여러개의 column으로 구성된 표와 비슷하며, 각 column 별로 그 type이 다를 수 있다. 전 절에 나왔던 Series형 pds(s-pds)가 row index만 있고 column index는 없다는 점이 아쉽게 느껴졌다면, 이 df-pds가 대안이 될 수 있을것이다."
   ]
  },
  {
   "cell_type": "code",
   "execution_count": 123,
   "id": "28f18d73",
   "metadata": {
    "ExecuteTime": {
     "end_time": "2022-02-16T01:23:09.724341Z",
     "start_time": "2022-02-16T01:23:09.718340Z"
    }
   },
   "outputs": [],
   "source": [
    "npa = np.array( [['Tom','NY',45,'M'], ['Judy','CA',36,'F'], ['Fred','PA',21,'M']] )"
   ]
  },
  {
   "cell_type": "code",
   "execution_count": 124,
   "id": "4debc65b",
   "metadata": {
    "ExecuteTime": {
     "end_time": "2022-02-16T01:23:09.985569Z",
     "start_time": "2022-02-16T01:23:09.973066Z"
    }
   },
   "outputs": [],
   "source": [
    "labels = ['Name','State','Age','Gender']"
   ]
  },
  {
   "cell_type": "code",
   "execution_count": 125,
   "id": "e2b5888a",
   "metadata": {
    "ExecuteTime": {
     "end_time": "2022-02-16T01:23:10.292913Z",
     "start_time": "2022-02-16T01:23:10.276410Z"
    }
   },
   "outputs": [
    {
     "data": {
      "text/html": [
       "<div>\n",
       "<style scoped>\n",
       "    .dataframe tbody tr th:only-of-type {\n",
       "        vertical-align: middle;\n",
       "    }\n",
       "\n",
       "    .dataframe tbody tr th {\n",
       "        vertical-align: top;\n",
       "    }\n",
       "\n",
       "    .dataframe thead th {\n",
       "        text-align: right;\n",
       "    }\n",
       "</style>\n",
       "<table border=\"1\" class=\"dataframe\">\n",
       "  <thead>\n",
       "    <tr style=\"text-align: right;\">\n",
       "      <th></th>\n",
       "      <th>Name</th>\n",
       "      <th>State</th>\n",
       "      <th>Age</th>\n",
       "      <th>Gender</th>\n",
       "    </tr>\n",
       "  </thead>\n",
       "  <tbody>\n",
       "    <tr>\n",
       "      <th>0</th>\n",
       "      <td>Tom</td>\n",
       "      <td>NY</td>\n",
       "      <td>45</td>\n",
       "      <td>M</td>\n",
       "    </tr>\n",
       "    <tr>\n",
       "      <th>1</th>\n",
       "      <td>Judy</td>\n",
       "      <td>CA</td>\n",
       "      <td>36</td>\n",
       "      <td>F</td>\n",
       "    </tr>\n",
       "    <tr>\n",
       "      <th>2</th>\n",
       "      <td>Fred</td>\n",
       "      <td>PA</td>\n",
       "      <td>21</td>\n",
       "      <td>M</td>\n",
       "    </tr>\n",
       "  </tbody>\n",
       "</table>\n",
       "</div>"
      ],
      "text/plain": [
       "   Name State Age Gender\n",
       "0   Tom    NY  45      M\n",
       "1  Judy    CA  36      F\n",
       "2  Fred    PA  21      M"
      ]
     },
     "execution_count": 125,
     "metadata": {},
     "output_type": "execute_result"
    }
   ],
   "source": [
    "df1 = pd.DataFrame(npa, columns=labels); df1"
   ]
  },
  {
   "cell_type": "code",
   "execution_count": 45,
   "id": "5784d090",
   "metadata": {
    "ExecuteTime": {
     "end_time": "2022-02-16T01:20:32.405523Z",
     "start_time": "2022-02-16T01:20:32.395022Z"
    }
   },
   "outputs": [
    {
     "data": {
      "text/plain": [
       "array([['Tom', 'NY', '45', 'M'],\n",
       "       ['Judy', 'CA', '36', 'F'],\n",
       "       ['Fred', 'PA', '21', 'M']], dtype=object)"
      ]
     },
     "execution_count": 45,
     "metadata": {},
     "output_type": "execute_result"
    }
   ],
   "source": [
    "npa1 = df1.to_numpy(); npa1 #Pandas dataframe을 numpy ndarray로"
   ]
  },
  {
   "cell_type": "code",
   "execution_count": 46,
   "id": "fa80f2b1",
   "metadata": {
    "ExecuteTime": {
     "end_time": "2022-02-16T01:20:32.436529Z",
     "start_time": "2022-02-16T01:20:32.428527Z"
    }
   },
   "outputs": [],
   "source": [
    "dic2 = {'Name':['Tom','Judy','Fred'],\n",
    "        'State':['NY','CA','PA'],\n",
    "        'Age':[45,36,21],\n",
    "        'Gender':['M','F','M']}"
   ]
  },
  {
   "cell_type": "code",
   "execution_count": 47,
   "id": "2977ad55",
   "metadata": {
    "ExecuteTime": {
     "end_time": "2022-02-16T01:20:32.467534Z",
     "start_time": "2022-02-16T01:20:32.456033Z"
    }
   },
   "outputs": [
    {
     "data": {
      "text/html": [
       "<div>\n",
       "<style scoped>\n",
       "    .dataframe tbody tr th:only-of-type {\n",
       "        vertical-align: middle;\n",
       "    }\n",
       "\n",
       "    .dataframe tbody tr th {\n",
       "        vertical-align: top;\n",
       "    }\n",
       "\n",
       "    .dataframe thead th {\n",
       "        text-align: right;\n",
       "    }\n",
       "</style>\n",
       "<table border=\"1\" class=\"dataframe\">\n",
       "  <thead>\n",
       "    <tr style=\"text-align: right;\">\n",
       "      <th></th>\n",
       "      <th>Name</th>\n",
       "      <th>State</th>\n",
       "      <th>Age</th>\n",
       "      <th>Gender</th>\n",
       "    </tr>\n",
       "  </thead>\n",
       "  <tbody>\n",
       "    <tr>\n",
       "      <th>0</th>\n",
       "      <td>Tom</td>\n",
       "      <td>NY</td>\n",
       "      <td>45</td>\n",
       "      <td>M</td>\n",
       "    </tr>\n",
       "    <tr>\n",
       "      <th>1</th>\n",
       "      <td>Judy</td>\n",
       "      <td>CA</td>\n",
       "      <td>36</td>\n",
       "      <td>F</td>\n",
       "    </tr>\n",
       "    <tr>\n",
       "      <th>2</th>\n",
       "      <td>Fred</td>\n",
       "      <td>PA</td>\n",
       "      <td>21</td>\n",
       "      <td>M</td>\n",
       "    </tr>\n",
       "  </tbody>\n",
       "</table>\n",
       "</div>"
      ],
      "text/plain": [
       "   Name State  Age Gender\n",
       "0   Tom    NY   45      M\n",
       "1  Judy    CA   36      F\n",
       "2  Fred    PA   21      M"
      ]
     },
     "execution_count": 47,
     "metadata": {},
     "output_type": "execute_result"
    }
   ],
   "source": [
    "df2 = pd.DataFrame(dic2); df2"
   ]
  },
  {
   "cell_type": "code",
   "execution_count": 48,
   "id": "b8619719",
   "metadata": {
    "ExecuteTime": {
     "end_time": "2022-02-16T01:20:32.498540Z",
     "start_time": "2022-02-16T01:20:32.491539Z"
    }
   },
   "outputs": [
    {
     "data": {
      "text/html": [
       "<div>\n",
       "<style scoped>\n",
       "    .dataframe tbody tr th:only-of-type {\n",
       "        vertical-align: middle;\n",
       "    }\n",
       "\n",
       "    .dataframe tbody tr th {\n",
       "        vertical-align: top;\n",
       "    }\n",
       "\n",
       "    .dataframe thead th {\n",
       "        text-align: right;\n",
       "    }\n",
       "</style>\n",
       "<table border=\"1\" class=\"dataframe\">\n",
       "  <thead>\n",
       "    <tr style=\"text-align: right;\">\n",
       "      <th></th>\n",
       "      <th>Name</th>\n",
       "      <th>State</th>\n",
       "      <th>Age</th>\n",
       "      <th>Gender</th>\n",
       "    </tr>\n",
       "  </thead>\n",
       "  <tbody>\n",
       "    <tr>\n",
       "      <th>1</th>\n",
       "      <td>Tom</td>\n",
       "      <td>NY</td>\n",
       "      <td>45</td>\n",
       "      <td>M</td>\n",
       "    </tr>\n",
       "    <tr>\n",
       "      <th>2</th>\n",
       "      <td>Judy</td>\n",
       "      <td>CA</td>\n",
       "      <td>36</td>\n",
       "      <td>F</td>\n",
       "    </tr>\n",
       "    <tr>\n",
       "      <th>3</th>\n",
       "      <td>Fred</td>\n",
       "      <td>PA</td>\n",
       "      <td>21</td>\n",
       "      <td>M</td>\n",
       "    </tr>\n",
       "  </tbody>\n",
       "</table>\n",
       "</div>"
      ],
      "text/plain": [
       "   Name State  Age Gender\n",
       "1   Tom    NY   45      M\n",
       "2  Judy    CA   36      F\n",
       "3  Fred    PA   21      M"
      ]
     },
     "execution_count": 48,
     "metadata": {},
     "output_type": "execute_result"
    }
   ],
   "source": [
    "df2 = pd.DataFrame(dic2, index=[1,2,3]); df2"
   ]
  },
  {
   "cell_type": "code",
   "execution_count": 49,
   "id": "ce0b8db2",
   "metadata": {
    "ExecuteTime": {
     "end_time": "2022-02-16T01:20:32.529545Z",
     "start_time": "2022-02-16T01:20:32.519043Z"
    }
   },
   "outputs": [],
   "source": [
    "dic3 = {'Name':{1:'Tom',2:'Judy',3:'Fred'},\n",
    "        'State':{1:'NY',2:'CA',3:'PA'},\n",
    "        'Age':{1:45,2:36,3:21},\n",
    "        'Gender':{1:'M',2:'F',3:'M'}}"
   ]
  },
  {
   "cell_type": "code",
   "execution_count": 50,
   "id": "283db564",
   "metadata": {
    "ExecuteTime": {
     "end_time": "2022-02-16T01:20:32.560551Z",
     "start_time": "2022-02-16T01:20:32.549049Z"
    }
   },
   "outputs": [
    {
     "data": {
      "text/html": [
       "<div>\n",
       "<style scoped>\n",
       "    .dataframe tbody tr th:only-of-type {\n",
       "        vertical-align: middle;\n",
       "    }\n",
       "\n",
       "    .dataframe tbody tr th {\n",
       "        vertical-align: top;\n",
       "    }\n",
       "\n",
       "    .dataframe thead th {\n",
       "        text-align: right;\n",
       "    }\n",
       "</style>\n",
       "<table border=\"1\" class=\"dataframe\">\n",
       "  <thead>\n",
       "    <tr style=\"text-align: right;\">\n",
       "      <th></th>\n",
       "      <th>Name</th>\n",
       "      <th>State</th>\n",
       "      <th>Age</th>\n",
       "      <th>Gender</th>\n",
       "    </tr>\n",
       "  </thead>\n",
       "  <tbody>\n",
       "    <tr>\n",
       "      <th>1</th>\n",
       "      <td>Tom</td>\n",
       "      <td>NY</td>\n",
       "      <td>45</td>\n",
       "      <td>M</td>\n",
       "    </tr>\n",
       "    <tr>\n",
       "      <th>2</th>\n",
       "      <td>Judy</td>\n",
       "      <td>CA</td>\n",
       "      <td>36</td>\n",
       "      <td>F</td>\n",
       "    </tr>\n",
       "    <tr>\n",
       "      <th>3</th>\n",
       "      <td>Fred</td>\n",
       "      <td>PA</td>\n",
       "      <td>21</td>\n",
       "      <td>M</td>\n",
       "    </tr>\n",
       "  </tbody>\n",
       "</table>\n",
       "</div>"
      ],
      "text/plain": [
       "   Name State  Age Gender\n",
       "1   Tom    NY   45      M\n",
       "2  Judy    CA   36      F\n",
       "3  Fred    PA   21      M"
      ]
     },
     "execution_count": 50,
     "metadata": {},
     "output_type": "execute_result"
    }
   ],
   "source": [
    "df3 = pd.DataFrame(dic3);df3"
   ]
  },
  {
   "cell_type": "code",
   "execution_count": 51,
   "id": "fd87d49f",
   "metadata": {
    "ExecuteTime": {
     "end_time": "2022-02-16T01:20:32.606916Z",
     "start_time": "2022-02-16T01:20:32.594914Z"
    }
   },
   "outputs": [
    {
     "data": {
      "text/plain": [
       "array([['Tom', 'NY', 45, 'M'],\n",
       "       ['Judy', 'CA', 36, 'F'],\n",
       "       ['Fred', 'PA', 21, 'M']], dtype=object)"
      ]
     },
     "execution_count": 51,
     "metadata": {},
     "output_type": "execute_result"
    }
   ],
   "source": [
    "df3.values"
   ]
  },
  {
   "cell_type": "code",
   "execution_count": 52,
   "id": "1c934e3f",
   "metadata": {
    "ExecuteTime": {
     "end_time": "2022-02-16T01:20:32.637921Z",
     "start_time": "2022-02-16T01:20:32.626920Z"
    }
   },
   "outputs": [
    {
     "data": {
      "text/plain": [
       "Index(['Name', 'State', 'Age', 'Gender'], dtype='object')"
      ]
     },
     "execution_count": 52,
     "metadata": {},
     "output_type": "execute_result"
    }
   ],
   "source": [
    "df3.columns"
   ]
  },
  {
   "cell_type": "code",
   "execution_count": 53,
   "id": "79cddc88",
   "metadata": {
    "ExecuteTime": {
     "end_time": "2022-02-16T01:20:32.668927Z",
     "start_time": "2022-02-16T01:20:32.658925Z"
    }
   },
   "outputs": [
    {
     "data": {
      "text/plain": [
       "['Name', 'State', 'Age', 'Gender']"
      ]
     },
     "execution_count": 53,
     "metadata": {},
     "output_type": "execute_result"
    }
   ],
   "source": [
    "list(df3.columns)"
   ]
  },
  {
   "cell_type": "code",
   "execution_count": 54,
   "id": "046caed0",
   "metadata": {
    "ExecuteTime": {
     "end_time": "2022-02-16T01:20:32.699932Z",
     "start_time": "2022-02-16T01:20:32.689431Z"
    }
   },
   "outputs": [
    {
     "data": {
      "text/plain": [
       "[1, 2, 3]"
      ]
     },
     "execution_count": 54,
     "metadata": {},
     "output_type": "execute_result"
    }
   ],
   "source": [
    "list(df3.index)"
   ]
  },
  {
   "cell_type": "code",
   "execution_count": 103,
   "id": "219af99d",
   "metadata": {
    "ExecuteTime": {
     "end_time": "2022-02-16T01:21:27.372584Z",
     "start_time": "2022-02-16T01:21:27.358081Z"
    }
   },
   "outputs": [
    {
     "data": {
      "text/plain": [
       "[Int64Index([1, 2, 3], dtype='int64'),\n",
       " Index(['Name', 'State', 'Age', 'Gender'], dtype='object')]"
      ]
     },
     "execution_count": 103,
     "metadata": {},
     "output_type": "execute_result"
    }
   ],
   "source": [
    "df3.axes"
   ]
  },
  {
   "cell_type": "markdown",
   "id": "829b0ab2",
   "metadata": {},
   "source": [
    "### 10.1.2.1 색인(Indexing)"
   ]
  },
  {
   "cell_type": "code",
   "execution_count": 149,
   "id": "6316a371",
   "metadata": {
    "ExecuteTime": {
     "end_time": "2022-02-16T01:25:57.385372Z",
     "start_time": "2022-02-16T01:25:57.368368Z"
    }
   },
   "outputs": [
    {
     "data": {
      "text/html": [
       "<div>\n",
       "<style scoped>\n",
       "    .dataframe tbody tr th:only-of-type {\n",
       "        vertical-align: middle;\n",
       "    }\n",
       "\n",
       "    .dataframe tbody tr th {\n",
       "        vertical-align: top;\n",
       "    }\n",
       "\n",
       "    .dataframe thead th {\n",
       "        text-align: right;\n",
       "    }\n",
       "</style>\n",
       "<table border=\"1\" class=\"dataframe\">\n",
       "  <thead>\n",
       "    <tr style=\"text-align: right;\">\n",
       "      <th></th>\n",
       "      <th>Name</th>\n",
       "      <th>State</th>\n",
       "      <th>Age</th>\n",
       "      <th>Gender</th>\n",
       "    </tr>\n",
       "  </thead>\n",
       "  <tbody>\n",
       "    <tr>\n",
       "      <th>0</th>\n",
       "      <td>Tom</td>\n",
       "      <td>NY</td>\n",
       "      <td>45</td>\n",
       "      <td>M</td>\n",
       "    </tr>\n",
       "    <tr>\n",
       "      <th>1</th>\n",
       "      <td>Judy</td>\n",
       "      <td>CA</td>\n",
       "      <td>36</td>\n",
       "      <td>F</td>\n",
       "    </tr>\n",
       "    <tr>\n",
       "      <th>2</th>\n",
       "      <td>Fred</td>\n",
       "      <td>PA</td>\n",
       "      <td>21</td>\n",
       "      <td>M</td>\n",
       "    </tr>\n",
       "  </tbody>\n",
       "</table>\n",
       "</div>"
      ],
      "text/plain": [
       "   Name State Age Gender\n",
       "0   Tom    NY  45      M\n",
       "1  Judy    CA  36      F\n",
       "2  Fred    PA  21      M"
      ]
     },
     "execution_count": 149,
     "metadata": {},
     "output_type": "execute_result"
    }
   ],
   "source": [
    "df1"
   ]
  },
  {
   "cell_type": "code",
   "execution_count": 150,
   "id": "ce358742",
   "metadata": {
    "ExecuteTime": {
     "end_time": "2022-02-16T01:25:57.569521Z",
     "start_time": "2022-02-16T01:25:57.555518Z"
    }
   },
   "outputs": [
    {
     "data": {
      "text/plain": [
       "'Tom'"
      ]
     },
     "execution_count": 150,
     "metadata": {},
     "output_type": "execute_result"
    }
   ],
   "source": [
    "df1.iloc[0][0]"
   ]
  },
  {
   "cell_type": "code",
   "execution_count": 151,
   "id": "5f6f7acf",
   "metadata": {
    "ExecuteTime": {
     "end_time": "2022-02-16T01:25:57.738557Z",
     "start_time": "2022-02-16T01:25:57.729556Z"
    }
   },
   "outputs": [
    {
     "data": {
      "text/plain": [
       "'Tom'"
      ]
     },
     "execution_count": 151,
     "metadata": {},
     "output_type": "execute_result"
    }
   ],
   "source": [
    "df1.loc[0][0]"
   ]
  },
  {
   "cell_type": "code",
   "execution_count": 152,
   "id": "15eab255",
   "metadata": {
    "ExecuteTime": {
     "end_time": "2022-02-16T01:25:57.892760Z",
     "start_time": "2022-02-16T01:25:57.888760Z"
    }
   },
   "outputs": [
    {
     "data": {
      "text/plain": [
       "'Tom'"
      ]
     },
     "execution_count": 152,
     "metadata": {},
     "output_type": "execute_result"
    }
   ],
   "source": [
    "df1.at[0,'Name']"
   ]
  },
  {
   "cell_type": "code",
   "execution_count": 153,
   "id": "1a24acef",
   "metadata": {
    "ExecuteTime": {
     "end_time": "2022-02-16T01:25:58.046771Z",
     "start_time": "2022-02-16T01:25:58.041271Z"
    }
   },
   "outputs": [
    {
     "data": {
      "text/plain": [
       "'Tom'"
      ]
     },
     "execution_count": 153,
     "metadata": {},
     "output_type": "execute_result"
    }
   ],
   "source": [
    "df1.iat[0,0]"
   ]
  },
  {
   "cell_type": "code",
   "execution_count": 154,
   "id": "6f1fe929",
   "metadata": {
    "ExecuteTime": {
     "end_time": "2022-02-16T01:25:58.216906Z",
     "start_time": "2022-02-16T01:25:58.202403Z"
    }
   },
   "outputs": [
    {
     "data": {
      "text/plain": [
       "0    45\n",
       "1    36\n",
       "2    21\n",
       "Name: Age, dtype: object"
      ]
     },
     "execution_count": 154,
     "metadata": {},
     "output_type": "execute_result"
    }
   ],
   "source": [
    "df1.loc[:]['Age']"
   ]
  },
  {
   "cell_type": "code",
   "execution_count": 155,
   "id": "8c56df0b",
   "metadata": {
    "ExecuteTime": {
     "end_time": "2022-02-16T01:25:58.371264Z",
     "start_time": "2022-02-16T01:25:58.360262Z"
    }
   },
   "outputs": [
    {
     "data": {
      "text/plain": [
       "0    45\n",
       "1    36\n",
       "2    21\n",
       "Name: Age, dtype: object"
      ]
     },
     "execution_count": 155,
     "metadata": {},
     "output_type": "execute_result"
    }
   ],
   "source": [
    "df1['Age']"
   ]
  },
  {
   "cell_type": "code",
   "execution_count": 156,
   "id": "e57a1d6b",
   "metadata": {
    "ExecuteTime": {
     "end_time": "2022-02-16T01:25:58.541251Z",
     "start_time": "2022-02-16T01:25:58.523748Z"
    }
   },
   "outputs": [
    {
     "data": {
      "text/plain": [
       "0    45\n",
       "1    36\n",
       "2    21\n",
       "Name: Age, dtype: object"
      ]
     },
     "execution_count": 156,
     "metadata": {},
     "output_type": "execute_result"
    }
   ],
   "source": [
    "df1.Age"
   ]
  },
  {
   "cell_type": "code",
   "execution_count": 157,
   "id": "b3de6fc6",
   "metadata": {
    "ExecuteTime": {
     "end_time": "2022-02-16T01:25:58.648992Z",
     "start_time": "2022-02-16T01:25:58.643491Z"
    }
   },
   "outputs": [
    {
     "data": {
      "text/html": [
       "<div>\n",
       "<style scoped>\n",
       "    .dataframe tbody tr th:only-of-type {\n",
       "        vertical-align: middle;\n",
       "    }\n",
       "\n",
       "    .dataframe tbody tr th {\n",
       "        vertical-align: top;\n",
       "    }\n",
       "\n",
       "    .dataframe thead th {\n",
       "        text-align: right;\n",
       "    }\n",
       "</style>\n",
       "<table border=\"1\" class=\"dataframe\">\n",
       "  <thead>\n",
       "    <tr style=\"text-align: right;\">\n",
       "      <th></th>\n",
       "      <th>Name</th>\n",
       "      <th>Gender</th>\n",
       "    </tr>\n",
       "  </thead>\n",
       "  <tbody>\n",
       "    <tr>\n",
       "      <th>1</th>\n",
       "      <td>Judy</td>\n",
       "      <td>F</td>\n",
       "    </tr>\n",
       "    <tr>\n",
       "      <th>2</th>\n",
       "      <td>Fred</td>\n",
       "      <td>M</td>\n",
       "    </tr>\n",
       "  </tbody>\n",
       "</table>\n",
       "</div>"
      ],
      "text/plain": [
       "   Name Gender\n",
       "1  Judy      F\n",
       "2  Fred      M"
      ]
     },
     "execution_count": 157,
     "metadata": {},
     "output_type": "execute_result"
    }
   ],
   "source": [
    "df1[['Name','Gender']][1:3]"
   ]
  },
  {
   "cell_type": "code",
   "execution_count": 158,
   "id": "3a18c142",
   "metadata": {
    "ExecuteTime": {
     "end_time": "2022-02-16T01:25:58.818866Z",
     "start_time": "2022-02-16T01:25:58.796862Z"
    }
   },
   "outputs": [
    {
     "data": {
      "text/html": [
       "<div>\n",
       "<style scoped>\n",
       "    .dataframe tbody tr th:only-of-type {\n",
       "        vertical-align: middle;\n",
       "    }\n",
       "\n",
       "    .dataframe tbody tr th {\n",
       "        vertical-align: top;\n",
       "    }\n",
       "\n",
       "    .dataframe thead th {\n",
       "        text-align: right;\n",
       "    }\n",
       "</style>\n",
       "<table border=\"1\" class=\"dataframe\">\n",
       "  <thead>\n",
       "    <tr style=\"text-align: right;\">\n",
       "      <th></th>\n",
       "      <th>Name</th>\n",
       "      <th>State</th>\n",
       "      <th>Age</th>\n",
       "      <th>Gender</th>\n",
       "    </tr>\n",
       "  </thead>\n",
       "  <tbody>\n",
       "    <tr>\n",
       "      <th>2</th>\n",
       "      <td>Fred</td>\n",
       "      <td>PA</td>\n",
       "      <td>21</td>\n",
       "      <td>M</td>\n",
       "    </tr>\n",
       "  </tbody>\n",
       "</table>\n",
       "</div>"
      ],
      "text/plain": [
       "   Name State Age Gender\n",
       "2  Fred    PA  21      M"
      ]
     },
     "execution_count": 158,
     "metadata": {},
     "output_type": "execute_result"
    }
   ],
   "source": [
    "df1[:][2:3]"
   ]
  },
  {
   "cell_type": "code",
   "execution_count": 159,
   "id": "8544310c",
   "metadata": {
    "ExecuteTime": {
     "end_time": "2022-02-16T01:25:58.942112Z",
     "start_time": "2022-02-16T01:25:58.925609Z"
    }
   },
   "outputs": [
    {
     "data": {
      "text/plain": [
       "Name      Judy\n",
       "State       CA\n",
       "Age         36\n",
       "Gender       F\n",
       "Name: 1, dtype: object"
      ]
     },
     "execution_count": 159,
     "metadata": {},
     "output_type": "execute_result"
    }
   ],
   "source": [
    "df1.loc[1]"
   ]
  },
  {
   "cell_type": "code",
   "execution_count": 160,
   "id": "4dc86455",
   "metadata": {
    "ExecuteTime": {
     "end_time": "2022-02-16T01:25:59.340239Z",
     "start_time": "2022-02-16T01:25:59.322235Z"
    }
   },
   "outputs": [
    {
     "data": {
      "text/plain": [
       "1    CA\n",
       "2    PA\n",
       "Name: State, dtype: object"
      ]
     },
     "execution_count": 160,
     "metadata": {},
     "output_type": "execute_result"
    }
   ],
   "source": [
    "df1.loc[1:3]['State']"
   ]
  },
  {
   "cell_type": "code",
   "execution_count": 161,
   "id": "7a33e67b",
   "metadata": {
    "ExecuteTime": {
     "end_time": "2022-02-16T01:25:59.632791Z",
     "start_time": "2022-02-16T01:25:59.624789Z"
    }
   },
   "outputs": [
    {
     "data": {
      "text/plain": [
       "3"
      ]
     },
     "execution_count": 161,
     "metadata": {},
     "output_type": "execute_result"
    }
   ],
   "source": [
    "len(df1)"
   ]
  },
  {
   "cell_type": "code",
   "execution_count": 162,
   "id": "f8d58b3c",
   "metadata": {
    "ExecuteTime": {
     "end_time": "2022-02-16T01:26:00.048085Z",
     "start_time": "2022-02-16T01:26:00.043084Z"
    }
   },
   "outputs": [
    {
     "data": {
      "text/plain": [
       "(3, 4)"
      ]
     },
     "execution_count": 162,
     "metadata": {},
     "output_type": "execute_result"
    }
   ],
   "source": [
    "df1.shape"
   ]
  },
  {
   "cell_type": "markdown",
   "id": "1defba2a",
   "metadata": {},
   "source": [
    "### 10.1.2.2 행(Row) 첨가하기"
   ]
  },
  {
   "cell_type": "code",
   "execution_count": 163,
   "id": "31b7fa75",
   "metadata": {
    "ExecuteTime": {
     "end_time": "2022-02-16T01:26:16.723420Z",
     "start_time": "2022-02-16T01:26:16.715418Z"
    }
   },
   "outputs": [
    {
     "data": {
      "text/html": [
       "<div>\n",
       "<style scoped>\n",
       "    .dataframe tbody tr th:only-of-type {\n",
       "        vertical-align: middle;\n",
       "    }\n",
       "\n",
       "    .dataframe tbody tr th {\n",
       "        vertical-align: top;\n",
       "    }\n",
       "\n",
       "    .dataframe thead th {\n",
       "        text-align: right;\n",
       "    }\n",
       "</style>\n",
       "<table border=\"1\" class=\"dataframe\">\n",
       "  <thead>\n",
       "    <tr style=\"text-align: right;\">\n",
       "      <th></th>\n",
       "      <th>Name</th>\n",
       "      <th>State</th>\n",
       "      <th>Age</th>\n",
       "      <th>Gender</th>\n",
       "    </tr>\n",
       "  </thead>\n",
       "  <tbody>\n",
       "    <tr>\n",
       "      <th>0</th>\n",
       "      <td>Tom</td>\n",
       "      <td>NY</td>\n",
       "      <td>45</td>\n",
       "      <td>M</td>\n",
       "    </tr>\n",
       "    <tr>\n",
       "      <th>1</th>\n",
       "      <td>Judy</td>\n",
       "      <td>CA</td>\n",
       "      <td>36</td>\n",
       "      <td>F</td>\n",
       "    </tr>\n",
       "    <tr>\n",
       "      <th>2</th>\n",
       "      <td>Fred</td>\n",
       "      <td>PA</td>\n",
       "      <td>21</td>\n",
       "      <td>M</td>\n",
       "    </tr>\n",
       "    <tr>\n",
       "      <th>3</th>\n",
       "      <td>Hellen</td>\n",
       "      <td>TX</td>\n",
       "      <td>4</td>\n",
       "      <td>F</td>\n",
       "    </tr>\n",
       "  </tbody>\n",
       "</table>\n",
       "</div>"
      ],
      "text/plain": [
       "     Name State Age Gender\n",
       "0     Tom    NY  45      M\n",
       "1    Judy    CA  36      F\n",
       "2    Fred    PA  21      M\n",
       "3  Hellen    TX   4      F"
      ]
     },
     "execution_count": 163,
     "metadata": {},
     "output_type": "execute_result"
    }
   ],
   "source": [
    "df1.loc[len(df1)] = ['Hellen','TX',4,'F']; df1"
   ]
  },
  {
   "cell_type": "markdown",
   "id": "30d05cb8",
   "metadata": {},
   "source": [
    "### 10.1.2.3 열(Column) 첨가하기"
   ]
  },
  {
   "cell_type": "code",
   "execution_count": 164,
   "id": "8108c22a",
   "metadata": {
    "ExecuteTime": {
     "end_time": "2022-02-16T01:26:24.046864Z",
     "start_time": "2022-02-16T01:26:24.035862Z"
    }
   },
   "outputs": [
    {
     "data": {
      "text/html": [
       "<div>\n",
       "<style scoped>\n",
       "    .dataframe tbody tr th:only-of-type {\n",
       "        vertical-align: middle;\n",
       "    }\n",
       "\n",
       "    .dataframe tbody tr th {\n",
       "        vertical-align: top;\n",
       "    }\n",
       "\n",
       "    .dataframe thead th {\n",
       "        text-align: right;\n",
       "    }\n",
       "</style>\n",
       "<table border=\"1\" class=\"dataframe\">\n",
       "  <thead>\n",
       "    <tr style=\"text-align: right;\">\n",
       "      <th></th>\n",
       "      <th>Name</th>\n",
       "      <th>State</th>\n",
       "      <th>Age</th>\n",
       "      <th>Gender</th>\n",
       "      <th>Major</th>\n",
       "    </tr>\n",
       "  </thead>\n",
       "  <tbody>\n",
       "    <tr>\n",
       "      <th>0</th>\n",
       "      <td>Tom</td>\n",
       "      <td>NY</td>\n",
       "      <td>45</td>\n",
       "      <td>M</td>\n",
       "      <td>Eng</td>\n",
       "    </tr>\n",
       "    <tr>\n",
       "      <th>1</th>\n",
       "      <td>Judy</td>\n",
       "      <td>CA</td>\n",
       "      <td>36</td>\n",
       "      <td>F</td>\n",
       "      <td>Math</td>\n",
       "    </tr>\n",
       "    <tr>\n",
       "      <th>2</th>\n",
       "      <td>Fred</td>\n",
       "      <td>PA</td>\n",
       "      <td>21</td>\n",
       "      <td>M</td>\n",
       "      <td>Physics</td>\n",
       "    </tr>\n",
       "    <tr>\n",
       "      <th>3</th>\n",
       "      <td>Hellen</td>\n",
       "      <td>TX</td>\n",
       "      <td>4</td>\n",
       "      <td>F</td>\n",
       "      <td>Arts</td>\n",
       "    </tr>\n",
       "  </tbody>\n",
       "</table>\n",
       "</div>"
      ],
      "text/plain": [
       "     Name State Age Gender    Major\n",
       "0     Tom    NY  45      M      Eng\n",
       "1    Judy    CA  36      F     Math\n",
       "2    Fred    PA  21      M  Physics\n",
       "3  Hellen    TX   4      F     Arts"
      ]
     },
     "execution_count": 164,
     "metadata": {},
     "output_type": "execute_result"
    }
   ],
   "source": [
    "df1['Major'] = ['Eng','Math','Physics','Arts']; df1"
   ]
  },
  {
   "cell_type": "code",
   "execution_count": 165,
   "id": "1a726782",
   "metadata": {
    "ExecuteTime": {
     "end_time": "2022-02-16T01:26:51.583825Z",
     "start_time": "2022-02-16T01:26:51.563821Z"
    }
   },
   "outputs": [
    {
     "data": {
      "text/html": [
       "<div>\n",
       "<style scoped>\n",
       "    .dataframe tbody tr th:only-of-type {\n",
       "        vertical-align: middle;\n",
       "    }\n",
       "\n",
       "    .dataframe tbody tr th {\n",
       "        vertical-align: top;\n",
       "    }\n",
       "\n",
       "    .dataframe thead th {\n",
       "        text-align: right;\n",
       "    }\n",
       "</style>\n",
       "<table border=\"1\" class=\"dataframe\">\n",
       "  <thead>\n",
       "    <tr style=\"text-align: right;\">\n",
       "      <th></th>\n",
       "      <th>Name</th>\n",
       "      <th>State</th>\n",
       "      <th>Age</th>\n",
       "      <th>Gender</th>\n",
       "      <th>Major</th>\n",
       "      <th>Adult</th>\n",
       "    </tr>\n",
       "  </thead>\n",
       "  <tbody>\n",
       "    <tr>\n",
       "      <th>0</th>\n",
       "      <td>Tom</td>\n",
       "      <td>NY</td>\n",
       "      <td>45</td>\n",
       "      <td>M</td>\n",
       "      <td>Eng</td>\n",
       "      <td>어른</td>\n",
       "    </tr>\n",
       "    <tr>\n",
       "      <th>1</th>\n",
       "      <td>Judy</td>\n",
       "      <td>CA</td>\n",
       "      <td>36</td>\n",
       "      <td>F</td>\n",
       "      <td>Math</td>\n",
       "      <td>어른</td>\n",
       "    </tr>\n",
       "    <tr>\n",
       "      <th>2</th>\n",
       "      <td>Fred</td>\n",
       "      <td>PA</td>\n",
       "      <td>21</td>\n",
       "      <td>M</td>\n",
       "      <td>Physics</td>\n",
       "      <td>어른</td>\n",
       "    </tr>\n",
       "    <tr>\n",
       "      <th>3</th>\n",
       "      <td>Hellen</td>\n",
       "      <td>TX</td>\n",
       "      <td>4</td>\n",
       "      <td>F</td>\n",
       "      <td>Arts</td>\n",
       "      <td>아이</td>\n",
       "    </tr>\n",
       "  </tbody>\n",
       "</table>\n",
       "</div>"
      ],
      "text/plain": [
       "     Name State Age Gender    Major Adult\n",
       "0     Tom    NY  45      M      Eng    어른\n",
       "1    Judy    CA  36      F     Math    어른\n",
       "2    Fred    PA  21      M  Physics    어른\n",
       "3  Hellen    TX   4      F     Arts    아이"
      ]
     },
     "execution_count": 165,
     "metadata": {},
     "output_type": "execute_result"
    }
   ],
   "source": [
    "adult = lambda x: '어른' if int(x)>18 else '아이'\n",
    "df1['Adult'] = list(map(adult,list(df1.Age)))\n",
    "df1"
   ]
  },
  {
   "cell_type": "markdown",
   "id": "3573ab6b",
   "metadata": {},
   "source": [
    "### 10.1.2.4 열(Column) 제거하기"
   ]
  },
  {
   "cell_type": "code",
   "execution_count": 166,
   "id": "29ef407d",
   "metadata": {
    "ExecuteTime": {
     "end_time": "2022-02-16T01:27:02.852363Z",
     "start_time": "2022-02-16T01:27:02.844361Z"
    }
   },
   "outputs": [
    {
     "data": {
      "text/html": [
       "<div>\n",
       "<style scoped>\n",
       "    .dataframe tbody tr th:only-of-type {\n",
       "        vertical-align: middle;\n",
       "    }\n",
       "\n",
       "    .dataframe tbody tr th {\n",
       "        vertical-align: top;\n",
       "    }\n",
       "\n",
       "    .dataframe thead th {\n",
       "        text-align: right;\n",
       "    }\n",
       "</style>\n",
       "<table border=\"1\" class=\"dataframe\">\n",
       "  <thead>\n",
       "    <tr style=\"text-align: right;\">\n",
       "      <th></th>\n",
       "      <th>Name</th>\n",
       "      <th>State</th>\n",
       "      <th>Age</th>\n",
       "      <th>Major</th>\n",
       "      <th>Adult</th>\n",
       "    </tr>\n",
       "  </thead>\n",
       "  <tbody>\n",
       "    <tr>\n",
       "      <th>0</th>\n",
       "      <td>Tom</td>\n",
       "      <td>NY</td>\n",
       "      <td>45</td>\n",
       "      <td>Eng</td>\n",
       "      <td>어른</td>\n",
       "    </tr>\n",
       "    <tr>\n",
       "      <th>1</th>\n",
       "      <td>Judy</td>\n",
       "      <td>CA</td>\n",
       "      <td>36</td>\n",
       "      <td>Math</td>\n",
       "      <td>어른</td>\n",
       "    </tr>\n",
       "    <tr>\n",
       "      <th>2</th>\n",
       "      <td>Fred</td>\n",
       "      <td>PA</td>\n",
       "      <td>21</td>\n",
       "      <td>Physics</td>\n",
       "      <td>어른</td>\n",
       "    </tr>\n",
       "    <tr>\n",
       "      <th>3</th>\n",
       "      <td>Hellen</td>\n",
       "      <td>TX</td>\n",
       "      <td>4</td>\n",
       "      <td>Arts</td>\n",
       "      <td>아이</td>\n",
       "    </tr>\n",
       "  </tbody>\n",
       "</table>\n",
       "</div>"
      ],
      "text/plain": [
       "     Name State Age    Major Adult\n",
       "0     Tom    NY  45      Eng    어른\n",
       "1    Judy    CA  36     Math    어른\n",
       "2    Fred    PA  21  Physics    어른\n",
       "3  Hellen    TX   4     Arts    아이"
      ]
     },
     "execution_count": 166,
     "metadata": {},
     "output_type": "execute_result"
    }
   ],
   "source": [
    "df1.drop('Gender',axis=1)"
   ]
  },
  {
   "cell_type": "code",
   "execution_count": 167,
   "id": "3b0420a9",
   "metadata": {
    "ExecuteTime": {
     "end_time": "2022-02-16T01:27:07.841904Z",
     "start_time": "2022-02-16T01:27:07.824901Z"
    }
   },
   "outputs": [
    {
     "data": {
      "text/html": [
       "<div>\n",
       "<style scoped>\n",
       "    .dataframe tbody tr th:only-of-type {\n",
       "        vertical-align: middle;\n",
       "    }\n",
       "\n",
       "    .dataframe tbody tr th {\n",
       "        vertical-align: top;\n",
       "    }\n",
       "\n",
       "    .dataframe thead th {\n",
       "        text-align: right;\n",
       "    }\n",
       "</style>\n",
       "<table border=\"1\" class=\"dataframe\">\n",
       "  <thead>\n",
       "    <tr style=\"text-align: right;\">\n",
       "      <th></th>\n",
       "      <th>Name</th>\n",
       "      <th>State</th>\n",
       "      <th>Age</th>\n",
       "      <th>Gender</th>\n",
       "      <th>Major</th>\n",
       "      <th>Adult</th>\n",
       "    </tr>\n",
       "  </thead>\n",
       "  <tbody>\n",
       "    <tr>\n",
       "      <th>0</th>\n",
       "      <td>Tom</td>\n",
       "      <td>NY</td>\n",
       "      <td>45</td>\n",
       "      <td>M</td>\n",
       "      <td>Eng</td>\n",
       "      <td>어른</td>\n",
       "    </tr>\n",
       "    <tr>\n",
       "      <th>1</th>\n",
       "      <td>Judy</td>\n",
       "      <td>CA</td>\n",
       "      <td>36</td>\n",
       "      <td>F</td>\n",
       "      <td>Math</td>\n",
       "      <td>어른</td>\n",
       "    </tr>\n",
       "    <tr>\n",
       "      <th>2</th>\n",
       "      <td>Fred</td>\n",
       "      <td>PA</td>\n",
       "      <td>21</td>\n",
       "      <td>M</td>\n",
       "      <td>Physics</td>\n",
       "      <td>어른</td>\n",
       "    </tr>\n",
       "    <tr>\n",
       "      <th>3</th>\n",
       "      <td>Hellen</td>\n",
       "      <td>TX</td>\n",
       "      <td>4</td>\n",
       "      <td>F</td>\n",
       "      <td>Arts</td>\n",
       "      <td>아이</td>\n",
       "    </tr>\n",
       "  </tbody>\n",
       "</table>\n",
       "</div>"
      ],
      "text/plain": [
       "     Name State Age Gender    Major Adult\n",
       "0     Tom    NY  45      M      Eng    어른\n",
       "1    Judy    CA  36      F     Math    어른\n",
       "2    Fred    PA  21      M  Physics    어른\n",
       "3  Hellen    TX   4      F     Arts    아이"
      ]
     },
     "execution_count": 167,
     "metadata": {},
     "output_type": "execute_result"
    }
   ],
   "source": [
    "df1"
   ]
  },
  {
   "cell_type": "code",
   "execution_count": 168,
   "id": "717da186",
   "metadata": {
    "ExecuteTime": {
     "end_time": "2022-02-16T01:27:09.503553Z",
     "start_time": "2022-02-16T01:27:09.483550Z"
    }
   },
   "outputs": [
    {
     "data": {
      "text/html": [
       "<div>\n",
       "<style scoped>\n",
       "    .dataframe tbody tr th:only-of-type {\n",
       "        vertical-align: middle;\n",
       "    }\n",
       "\n",
       "    .dataframe tbody tr th {\n",
       "        vertical-align: top;\n",
       "    }\n",
       "\n",
       "    .dataframe thead th {\n",
       "        text-align: right;\n",
       "    }\n",
       "</style>\n",
       "<table border=\"1\" class=\"dataframe\">\n",
       "  <thead>\n",
       "    <tr style=\"text-align: right;\">\n",
       "      <th></th>\n",
       "      <th>Name</th>\n",
       "      <th>State</th>\n",
       "      <th>Age</th>\n",
       "      <th>Major</th>\n",
       "      <th>Adult</th>\n",
       "    </tr>\n",
       "  </thead>\n",
       "  <tbody>\n",
       "    <tr>\n",
       "      <th>0</th>\n",
       "      <td>Tom</td>\n",
       "      <td>NY</td>\n",
       "      <td>45</td>\n",
       "      <td>Eng</td>\n",
       "      <td>어른</td>\n",
       "    </tr>\n",
       "    <tr>\n",
       "      <th>1</th>\n",
       "      <td>Judy</td>\n",
       "      <td>CA</td>\n",
       "      <td>36</td>\n",
       "      <td>Math</td>\n",
       "      <td>어른</td>\n",
       "    </tr>\n",
       "    <tr>\n",
       "      <th>2</th>\n",
       "      <td>Fred</td>\n",
       "      <td>PA</td>\n",
       "      <td>21</td>\n",
       "      <td>Physics</td>\n",
       "      <td>어른</td>\n",
       "    </tr>\n",
       "    <tr>\n",
       "      <th>3</th>\n",
       "      <td>Hellen</td>\n",
       "      <td>TX</td>\n",
       "      <td>4</td>\n",
       "      <td>Arts</td>\n",
       "      <td>아이</td>\n",
       "    </tr>\n",
       "  </tbody>\n",
       "</table>\n",
       "</div>"
      ],
      "text/plain": [
       "     Name State Age    Major Adult\n",
       "0     Tom    NY  45      Eng    어른\n",
       "1    Judy    CA  36     Math    어른\n",
       "2    Fred    PA  21  Physics    어른\n",
       "3  Hellen    TX   4     Arts    아이"
      ]
     },
     "execution_count": 168,
     "metadata": {},
     "output_type": "execute_result"
    }
   ],
   "source": [
    "df_new = df1.drop('Gender',axis=1); df_new"
   ]
  },
  {
   "cell_type": "code",
   "execution_count": 169,
   "id": "46b58ff5",
   "metadata": {
    "ExecuteTime": {
     "end_time": "2022-02-16T01:27:17.089423Z",
     "start_time": "2022-02-16T01:27:17.075920Z"
    }
   },
   "outputs": [
    {
     "data": {
      "text/html": [
       "<div>\n",
       "<style scoped>\n",
       "    .dataframe tbody tr th:only-of-type {\n",
       "        vertical-align: middle;\n",
       "    }\n",
       "\n",
       "    .dataframe tbody tr th {\n",
       "        vertical-align: top;\n",
       "    }\n",
       "\n",
       "    .dataframe thead th {\n",
       "        text-align: right;\n",
       "    }\n",
       "</style>\n",
       "<table border=\"1\" class=\"dataframe\">\n",
       "  <thead>\n",
       "    <tr style=\"text-align: right;\">\n",
       "      <th></th>\n",
       "      <th>Name</th>\n",
       "      <th>State</th>\n",
       "      <th>Age</th>\n",
       "      <th>Major</th>\n",
       "      <th>Adult</th>\n",
       "    </tr>\n",
       "  </thead>\n",
       "  <tbody>\n",
       "    <tr>\n",
       "      <th>0</th>\n",
       "      <td>Tom</td>\n",
       "      <td>NY</td>\n",
       "      <td>45</td>\n",
       "      <td>Eng</td>\n",
       "      <td>어른</td>\n",
       "    </tr>\n",
       "    <tr>\n",
       "      <th>1</th>\n",
       "      <td>Judy</td>\n",
       "      <td>CA</td>\n",
       "      <td>36</td>\n",
       "      <td>Math</td>\n",
       "      <td>어른</td>\n",
       "    </tr>\n",
       "    <tr>\n",
       "      <th>2</th>\n",
       "      <td>Fred</td>\n",
       "      <td>PA</td>\n",
       "      <td>21</td>\n",
       "      <td>Physics</td>\n",
       "      <td>어른</td>\n",
       "    </tr>\n",
       "    <tr>\n",
       "      <th>3</th>\n",
       "      <td>Hellen</td>\n",
       "      <td>TX</td>\n",
       "      <td>4</td>\n",
       "      <td>Arts</td>\n",
       "      <td>아이</td>\n",
       "    </tr>\n",
       "  </tbody>\n",
       "</table>\n",
       "</div>"
      ],
      "text/plain": [
       "     Name State Age    Major Adult\n",
       "0     Tom    NY  45      Eng    어른\n",
       "1    Judy    CA  36     Math    어른\n",
       "2    Fred    PA  21  Physics    어른\n",
       "3  Hellen    TX   4     Arts    아이"
      ]
     },
     "execution_count": 169,
     "metadata": {},
     "output_type": "execute_result"
    }
   ],
   "source": [
    "df1.drop('Gender',axis=1,inplace=True); df1"
   ]
  },
  {
   "cell_type": "markdown",
   "id": "354b3f08",
   "metadata": {},
   "source": [
    "### 10.1.2.5 행(Row) 제거하기"
   ]
  },
  {
   "cell_type": "code",
   "execution_count": 170,
   "id": "1a4622d3",
   "metadata": {
    "ExecuteTime": {
     "end_time": "2022-02-16T01:27:22.959681Z",
     "start_time": "2022-02-16T01:27:22.948179Z"
    }
   },
   "outputs": [
    {
     "data": {
      "text/html": [
       "<div>\n",
       "<style scoped>\n",
       "    .dataframe tbody tr th:only-of-type {\n",
       "        vertical-align: middle;\n",
       "    }\n",
       "\n",
       "    .dataframe tbody tr th {\n",
       "        vertical-align: top;\n",
       "    }\n",
       "\n",
       "    .dataframe thead th {\n",
       "        text-align: right;\n",
       "    }\n",
       "</style>\n",
       "<table border=\"1\" class=\"dataframe\">\n",
       "  <thead>\n",
       "    <tr style=\"text-align: right;\">\n",
       "      <th></th>\n",
       "      <th>Name</th>\n",
       "      <th>State</th>\n",
       "      <th>Age</th>\n",
       "      <th>Major</th>\n",
       "      <th>Adult</th>\n",
       "    </tr>\n",
       "  </thead>\n",
       "  <tbody>\n",
       "    <tr>\n",
       "      <th>0</th>\n",
       "      <td>Tom</td>\n",
       "      <td>NY</td>\n",
       "      <td>45</td>\n",
       "      <td>Eng</td>\n",
       "      <td>어른</td>\n",
       "    </tr>\n",
       "    <tr>\n",
       "      <th>2</th>\n",
       "      <td>Fred</td>\n",
       "      <td>PA</td>\n",
       "      <td>21</td>\n",
       "      <td>Physics</td>\n",
       "      <td>어른</td>\n",
       "    </tr>\n",
       "    <tr>\n",
       "      <th>3</th>\n",
       "      <td>Hellen</td>\n",
       "      <td>TX</td>\n",
       "      <td>4</td>\n",
       "      <td>Arts</td>\n",
       "      <td>아이</td>\n",
       "    </tr>\n",
       "  </tbody>\n",
       "</table>\n",
       "</div>"
      ],
      "text/plain": [
       "     Name State Age    Major Adult\n",
       "0     Tom    NY  45      Eng    어른\n",
       "2    Fred    PA  21  Physics    어른\n",
       "3  Hellen    TX   4     Arts    아이"
      ]
     },
     "execution_count": 170,
     "metadata": {},
     "output_type": "execute_result"
    }
   ],
   "source": [
    "df1.drop([1], inplace=True); df1"
   ]
  },
  {
   "cell_type": "code",
   "execution_count": 174,
   "id": "7fdff5d9",
   "metadata": {
    "ExecuteTime": {
     "end_time": "2022-02-16T01:28:03.684639Z",
     "start_time": "2022-02-16T01:28:03.678638Z"
    }
   },
   "outputs": [
    {
     "data": {
      "text/html": [
       "<div>\n",
       "<style scoped>\n",
       "    .dataframe tbody tr th:only-of-type {\n",
       "        vertical-align: middle;\n",
       "    }\n",
       "\n",
       "    .dataframe tbody tr th {\n",
       "        vertical-align: top;\n",
       "    }\n",
       "\n",
       "    .dataframe thead th {\n",
       "        text-align: right;\n",
       "    }\n",
       "</style>\n",
       "<table border=\"1\" class=\"dataframe\">\n",
       "  <thead>\n",
       "    <tr style=\"text-align: right;\">\n",
       "      <th></th>\n",
       "      <th>Name</th>\n",
       "      <th>State</th>\n",
       "      <th>Age</th>\n",
       "      <th>Major</th>\n",
       "      <th>Adult</th>\n",
       "    </tr>\n",
       "  </thead>\n",
       "  <tbody>\n",
       "    <tr>\n",
       "      <th>0</th>\n",
       "      <td>Tom</td>\n",
       "      <td>NY</td>\n",
       "      <td>45</td>\n",
       "      <td>Eng</td>\n",
       "      <td>어른</td>\n",
       "    </tr>\n",
       "    <tr>\n",
       "      <th>1</th>\n",
       "      <td>Fred</td>\n",
       "      <td>PA</td>\n",
       "      <td>21</td>\n",
       "      <td>Physics</td>\n",
       "      <td>어른</td>\n",
       "    </tr>\n",
       "    <tr>\n",
       "      <th>2</th>\n",
       "      <td>Hellen</td>\n",
       "      <td>TX</td>\n",
       "      <td>4</td>\n",
       "      <td>Arts</td>\n",
       "      <td>아이</td>\n",
       "    </tr>\n",
       "  </tbody>\n",
       "</table>\n",
       "</div>"
      ],
      "text/plain": [
       "     Name State Age    Major Adult\n",
       "0     Tom    NY  45      Eng    어른\n",
       "1    Fred    PA  21  Physics    어른\n",
       "2  Hellen    TX   4     Arts    아이"
      ]
     },
     "execution_count": 174,
     "metadata": {},
     "output_type": "execute_result"
    }
   ],
   "source": [
    "df1.reset_index(drop=True, inplace=True); df1"
   ]
  },
  {
   "cell_type": "markdown",
   "id": "9d5139fc",
   "metadata": {},
   "source": [
    "### 10.1.2.6 특정 행/열(들)만 골라내기(Reindexing)"
   ]
  },
  {
   "cell_type": "code",
   "execution_count": 191,
   "id": "07e1a11e",
   "metadata": {
    "ExecuteTime": {
     "end_time": "2022-02-16T01:34:02.894574Z",
     "start_time": "2022-02-16T01:34:02.891574Z"
    }
   },
   "outputs": [],
   "source": [
    "df_ = df1"
   ]
  },
  {
   "cell_type": "code",
   "execution_count": 192,
   "id": "a61a25fa",
   "metadata": {
    "ExecuteTime": {
     "end_time": "2022-02-16T01:34:03.140856Z",
     "start_time": "2022-02-16T01:34:03.135354Z"
    }
   },
   "outputs": [
    {
     "data": {
      "text/html": [
       "<div>\n",
       "<style scoped>\n",
       "    .dataframe tbody tr th:only-of-type {\n",
       "        vertical-align: middle;\n",
       "    }\n",
       "\n",
       "    .dataframe tbody tr th {\n",
       "        vertical-align: top;\n",
       "    }\n",
       "\n",
       "    .dataframe thead th {\n",
       "        text-align: right;\n",
       "    }\n",
       "</style>\n",
       "<table border=\"1\" class=\"dataframe\">\n",
       "  <thead>\n",
       "    <tr style=\"text-align: right;\">\n",
       "      <th></th>\n",
       "      <th>Name</th>\n",
       "      <th>Major</th>\n",
       "    </tr>\n",
       "  </thead>\n",
       "  <tbody>\n",
       "    <tr>\n",
       "      <th>0</th>\n",
       "      <td>Tom</td>\n",
       "      <td>NaN</td>\n",
       "    </tr>\n",
       "    <tr>\n",
       "      <th>2</th>\n",
       "      <td>Hellen</td>\n",
       "      <td>NaN</td>\n",
       "    </tr>\n",
       "  </tbody>\n",
       "</table>\n",
       "</div>"
      ],
      "text/plain": [
       "     Name Major\n",
       "0     Tom   NaN\n",
       "2  Hellen   NaN"
      ]
     },
     "execution_count": 192,
     "metadata": {},
     "output_type": "execute_result"
    }
   ],
   "source": [
    "df_.reindex(index=[0,2], columns=['Name','Major'])"
   ]
  },
  {
   "cell_type": "code",
   "execution_count": 193,
   "id": "10fe3681",
   "metadata": {
    "ExecuteTime": {
     "end_time": "2022-02-16T01:34:03.494338Z",
     "start_time": "2022-02-16T01:34:03.474335Z"
    }
   },
   "outputs": [
    {
     "data": {
      "text/html": [
       "<div>\n",
       "<style scoped>\n",
       "    .dataframe tbody tr th:only-of-type {\n",
       "        vertical-align: middle;\n",
       "    }\n",
       "\n",
       "    .dataframe tbody tr th {\n",
       "        vertical-align: top;\n",
       "    }\n",
       "\n",
       "    .dataframe thead th {\n",
       "        text-align: right;\n",
       "    }\n",
       "</style>\n",
       "<table border=\"1\" class=\"dataframe\">\n",
       "  <thead>\n",
       "    <tr style=\"text-align: right;\">\n",
       "      <th></th>\n",
       "      <th>Name</th>\n",
       "      <th>State</th>\n",
       "      <th>age</th>\n",
       "      <th>major</th>\n",
       "      <th>Adult</th>\n",
       "    </tr>\n",
       "  </thead>\n",
       "  <tbody>\n",
       "    <tr>\n",
       "      <th>0</th>\n",
       "      <td>Tom</td>\n",
       "      <td>NY</td>\n",
       "      <td>45</td>\n",
       "      <td>Eng</td>\n",
       "      <td>어른</td>\n",
       "    </tr>\n",
       "    <tr>\n",
       "      <th>1</th>\n",
       "      <td>Fred</td>\n",
       "      <td>Pen</td>\n",
       "      <td>21</td>\n",
       "      <td>Physics</td>\n",
       "      <td>어른</td>\n",
       "    </tr>\n",
       "    <tr>\n",
       "      <th>2</th>\n",
       "      <td>Hellen</td>\n",
       "      <td>Tex</td>\n",
       "      <td>4</td>\n",
       "      <td>Arts</td>\n",
       "      <td>아이</td>\n",
       "    </tr>\n",
       "  </tbody>\n",
       "</table>\n",
       "</div>"
      ],
      "text/plain": [
       "     Name State age    major Adult\n",
       "0     Tom    NY  45      Eng    어른\n",
       "1    Fred   Pen  21  Physics    어른\n",
       "2  Hellen   Tex   4     Arts    아이"
      ]
     },
     "execution_count": 193,
     "metadata": {},
     "output_type": "execute_result"
    }
   ],
   "source": [
    "df1"
   ]
  },
  {
   "cell_type": "markdown",
   "id": "823d2590",
   "metadata": {},
   "source": [
    "### 10.1.2.7 열이름(Column Label) 변경하기"
   ]
  },
  {
   "cell_type": "code",
   "execution_count": 194,
   "id": "17d2b0f8",
   "metadata": {
    "ExecuteTime": {
     "end_time": "2022-02-16T01:34:04.154034Z",
     "start_time": "2022-02-16T01:34:04.138531Z"
    }
   },
   "outputs": [],
   "source": [
    "newcols = {'Age': 'age', 'Major': 'major'}\n",
    "df1.rename(columns=newcols, inplace=True)"
   ]
  },
  {
   "cell_type": "code",
   "execution_count": 195,
   "id": "e18d2b2b",
   "metadata": {
    "ExecuteTime": {
     "end_time": "2022-02-16T01:34:04.446502Z",
     "start_time": "2022-02-16T01:34:04.432000Z"
    }
   },
   "outputs": [
    {
     "data": {
      "text/html": [
       "<div>\n",
       "<style scoped>\n",
       "    .dataframe tbody tr th:only-of-type {\n",
       "        vertical-align: middle;\n",
       "    }\n",
       "\n",
       "    .dataframe tbody tr th {\n",
       "        vertical-align: top;\n",
       "    }\n",
       "\n",
       "    .dataframe thead th {\n",
       "        text-align: right;\n",
       "    }\n",
       "</style>\n",
       "<table border=\"1\" class=\"dataframe\">\n",
       "  <thead>\n",
       "    <tr style=\"text-align: right;\">\n",
       "      <th></th>\n",
       "      <th>Name</th>\n",
       "      <th>State</th>\n",
       "      <th>age</th>\n",
       "      <th>major</th>\n",
       "      <th>Adult</th>\n",
       "    </tr>\n",
       "  </thead>\n",
       "  <tbody>\n",
       "    <tr>\n",
       "      <th>0</th>\n",
       "      <td>Tom</td>\n",
       "      <td>NY</td>\n",
       "      <td>45</td>\n",
       "      <td>Eng</td>\n",
       "      <td>어른</td>\n",
       "    </tr>\n",
       "    <tr>\n",
       "      <th>1</th>\n",
       "      <td>Fred</td>\n",
       "      <td>Pen</td>\n",
       "      <td>21</td>\n",
       "      <td>Physics</td>\n",
       "      <td>어른</td>\n",
       "    </tr>\n",
       "    <tr>\n",
       "      <th>2</th>\n",
       "      <td>Hellen</td>\n",
       "      <td>Tex</td>\n",
       "      <td>4</td>\n",
       "      <td>Arts</td>\n",
       "      <td>아이</td>\n",
       "    </tr>\n",
       "  </tbody>\n",
       "</table>\n",
       "</div>"
      ],
      "text/plain": [
       "     Name State age    major Adult\n",
       "0     Tom    NY  45      Eng    어른\n",
       "1    Fred   Pen  21  Physics    어른\n",
       "2  Hellen   Tex   4     Arts    아이"
      ]
     },
     "execution_count": 195,
     "metadata": {},
     "output_type": "execute_result"
    }
   ],
   "source": [
    "df1"
   ]
  },
  {
   "cell_type": "markdown",
   "id": "0743fe94",
   "metadata": {},
   "source": [
    "### 10.1.2.8 문자열 변경하기"
   ]
  },
  {
   "cell_type": "code",
   "execution_count": 196,
   "id": "9fc2a779",
   "metadata": {
    "ExecuteTime": {
     "end_time": "2022-02-16T01:34:05.063651Z",
     "start_time": "2022-02-16T01:34:05.045648Z"
    }
   },
   "outputs": [
    {
     "data": {
      "text/html": [
       "<div>\n",
       "<style scoped>\n",
       "    .dataframe tbody tr th:only-of-type {\n",
       "        vertical-align: middle;\n",
       "    }\n",
       "\n",
       "    .dataframe tbody tr th {\n",
       "        vertical-align: top;\n",
       "    }\n",
       "\n",
       "    .dataframe thead th {\n",
       "        text-align: right;\n",
       "    }\n",
       "</style>\n",
       "<table border=\"1\" class=\"dataframe\">\n",
       "  <thead>\n",
       "    <tr style=\"text-align: right;\">\n",
       "      <th></th>\n",
       "      <th>Name</th>\n",
       "      <th>State</th>\n",
       "      <th>age</th>\n",
       "      <th>major</th>\n",
       "      <th>Adult</th>\n",
       "    </tr>\n",
       "  </thead>\n",
       "  <tbody>\n",
       "    <tr>\n",
       "      <th>0</th>\n",
       "      <td>Tom</td>\n",
       "      <td>NY</td>\n",
       "      <td>45</td>\n",
       "      <td>Eng</td>\n",
       "      <td>어른</td>\n",
       "    </tr>\n",
       "    <tr>\n",
       "      <th>1</th>\n",
       "      <td>Fred</td>\n",
       "      <td>Pen</td>\n",
       "      <td>21</td>\n",
       "      <td>Physics</td>\n",
       "      <td>어른</td>\n",
       "    </tr>\n",
       "    <tr>\n",
       "      <th>2</th>\n",
       "      <td>Hellen</td>\n",
       "      <td>Tex</td>\n",
       "      <td>4</td>\n",
       "      <td>Arts</td>\n",
       "      <td>아이</td>\n",
       "    </tr>\n",
       "  </tbody>\n",
       "</table>\n",
       "</div>"
      ],
      "text/plain": [
       "     Name State age    major Adult\n",
       "0     Tom    NY  45      Eng    어른\n",
       "1    Fred   Pen  21  Physics    어른\n",
       "2  Hellen   Tex   4     Arts    아이"
      ]
     },
     "execution_count": 196,
     "metadata": {},
     "output_type": "execute_result"
    }
   ],
   "source": [
    "df1.replace(['TX','PA'], ['Tex','Pen'], inplace=True); df1"
   ]
  },
  {
   "cell_type": "markdown",
   "id": "c9b81b56",
   "metadata": {},
   "source": [
    "\n",
    "### 10.1.2.9 숫자 변경하기"
   ]
  },
  {
   "cell_type": "code",
   "execution_count": 197,
   "id": "5964b574",
   "metadata": {
    "ExecuteTime": {
     "end_time": "2022-02-16T01:34:05.738881Z",
     "start_time": "2022-02-16T01:34:05.724878Z"
    }
   },
   "outputs": [
    {
     "data": {
      "text/html": [
       "<div>\n",
       "<style scoped>\n",
       "    .dataframe tbody tr th:only-of-type {\n",
       "        vertical-align: middle;\n",
       "    }\n",
       "\n",
       "    .dataframe tbody tr th {\n",
       "        vertical-align: top;\n",
       "    }\n",
       "\n",
       "    .dataframe thead th {\n",
       "        text-align: right;\n",
       "    }\n",
       "</style>\n",
       "<table border=\"1\" class=\"dataframe\">\n",
       "  <thead>\n",
       "    <tr style=\"text-align: right;\">\n",
       "      <th></th>\n",
       "      <th>Name</th>\n",
       "      <th>State</th>\n",
       "      <th>age</th>\n",
       "      <th>major</th>\n",
       "      <th>Adult</th>\n",
       "    </tr>\n",
       "  </thead>\n",
       "  <tbody>\n",
       "    <tr>\n",
       "      <th>0</th>\n",
       "      <td>Tom</td>\n",
       "      <td>NY</td>\n",
       "      <td>90.0</td>\n",
       "      <td>Eng</td>\n",
       "      <td>어른</td>\n",
       "    </tr>\n",
       "    <tr>\n",
       "      <th>1</th>\n",
       "      <td>Fred</td>\n",
       "      <td>Pen</td>\n",
       "      <td>42.0</td>\n",
       "      <td>Physics</td>\n",
       "      <td>어른</td>\n",
       "    </tr>\n",
       "    <tr>\n",
       "      <th>2</th>\n",
       "      <td>Hellen</td>\n",
       "      <td>Tex</td>\n",
       "      <td>8.0</td>\n",
       "      <td>Arts</td>\n",
       "      <td>아이</td>\n",
       "    </tr>\n",
       "  </tbody>\n",
       "</table>\n",
       "</div>"
      ],
      "text/plain": [
       "     Name State   age    major Adult\n",
       "0     Tom    NY  90.0      Eng    어른\n",
       "1    Fred   Pen  42.0  Physics    어른\n",
       "2  Hellen   Tex   8.0     Arts    아이"
      ]
     },
     "execution_count": 197,
     "metadata": {},
     "output_type": "execute_result"
    }
   ],
   "source": [
    "df1['age'] = pd.to_numeric(df1['age'], downcast='float')*2; df1"
   ]
  },
  {
   "cell_type": "raw",
   "id": "ff429231",
   "metadata": {},
   "source": [
    "pd.to_numeric() 함수를 이용해 숫자형으로 변경해야 하는 이유는 대상이 문자열로 저장되었을 경우\n",
    "'45'*2 = '4545'로 변경될 수 있기 때문이다."
   ]
  },
  {
   "cell_type": "markdown",
   "id": "4bcbbca7",
   "metadata": {},
   "source": [
    "### 10.1.2.10 행/열의 배열순서 변경하기"
   ]
  },
  {
   "cell_type": "code",
   "execution_count": 198,
   "id": "1ee82071",
   "metadata": {
    "ExecuteTime": {
     "end_time": "2022-02-16T01:34:06.399488Z",
     "start_time": "2022-02-16T01:34:06.393487Z"
    }
   },
   "outputs": [],
   "source": [
    "df1 = pd.DataFrame(df1, index=df1.index[::-1], columns=df1.columns[::-1])"
   ]
  },
  {
   "cell_type": "code",
   "execution_count": 199,
   "id": "84188fab",
   "metadata": {
    "ExecuteTime": {
     "end_time": "2022-02-16T01:34:06.629733Z",
     "start_time": "2022-02-16T01:34:06.622231Z"
    }
   },
   "outputs": [
    {
     "data": {
      "text/html": [
       "<div>\n",
       "<style scoped>\n",
       "    .dataframe tbody tr th:only-of-type {\n",
       "        vertical-align: middle;\n",
       "    }\n",
       "\n",
       "    .dataframe tbody tr th {\n",
       "        vertical-align: top;\n",
       "    }\n",
       "\n",
       "    .dataframe thead th {\n",
       "        text-align: right;\n",
       "    }\n",
       "</style>\n",
       "<table border=\"1\" class=\"dataframe\">\n",
       "  <thead>\n",
       "    <tr style=\"text-align: right;\">\n",
       "      <th></th>\n",
       "      <th>Adult</th>\n",
       "      <th>major</th>\n",
       "      <th>age</th>\n",
       "      <th>State</th>\n",
       "      <th>Name</th>\n",
       "    </tr>\n",
       "  </thead>\n",
       "  <tbody>\n",
       "    <tr>\n",
       "      <th>2</th>\n",
       "      <td>아이</td>\n",
       "      <td>Arts</td>\n",
       "      <td>8.0</td>\n",
       "      <td>Tex</td>\n",
       "      <td>Hellen</td>\n",
       "    </tr>\n",
       "    <tr>\n",
       "      <th>1</th>\n",
       "      <td>어른</td>\n",
       "      <td>Physics</td>\n",
       "      <td>42.0</td>\n",
       "      <td>Pen</td>\n",
       "      <td>Fred</td>\n",
       "    </tr>\n",
       "    <tr>\n",
       "      <th>0</th>\n",
       "      <td>어른</td>\n",
       "      <td>Eng</td>\n",
       "      <td>90.0</td>\n",
       "      <td>NY</td>\n",
       "      <td>Tom</td>\n",
       "    </tr>\n",
       "  </tbody>\n",
       "</table>\n",
       "</div>"
      ],
      "text/plain": [
       "  Adult    major   age State    Name\n",
       "2    아이     Arts   8.0   Tex  Hellen\n",
       "1    어른  Physics  42.0   Pen    Fred\n",
       "0    어른      Eng  90.0    NY     Tom"
      ]
     },
     "execution_count": 199,
     "metadata": {},
     "output_type": "execute_result"
    }
   ],
   "source": [
    "df1"
   ]
  },
  {
   "cell_type": "markdown",
   "id": "1ffab612",
   "metadata": {},
   "source": [
    "### 10.1.2.11 (맨왼쪽) index 열과 (맨위) label 행에 이름 지정하기"
   ]
  },
  {
   "cell_type": "code",
   "execution_count": 200,
   "id": "c5cfa522",
   "metadata": {
    "ExecuteTime": {
     "end_time": "2022-02-16T01:34:07.091224Z",
     "start_time": "2022-02-16T01:34:07.071720Z"
    }
   },
   "outputs": [
    {
     "data": {
      "text/html": [
       "<div>\n",
       "<style scoped>\n",
       "    .dataframe tbody tr th:only-of-type {\n",
       "        vertical-align: middle;\n",
       "    }\n",
       "\n",
       "    .dataframe tbody tr th {\n",
       "        vertical-align: top;\n",
       "    }\n",
       "\n",
       "    .dataframe thead th {\n",
       "        text-align: right;\n",
       "    }\n",
       "</style>\n",
       "<table border=\"1\" class=\"dataframe\">\n",
       "  <thead>\n",
       "    <tr style=\"text-align: right;\">\n",
       "      <th>Item</th>\n",
       "      <th>Adult</th>\n",
       "      <th>major</th>\n",
       "      <th>age</th>\n",
       "      <th>State</th>\n",
       "      <th>Name</th>\n",
       "    </tr>\n",
       "    <tr>\n",
       "      <th>Index</th>\n",
       "      <th></th>\n",
       "      <th></th>\n",
       "      <th></th>\n",
       "      <th></th>\n",
       "      <th></th>\n",
       "    </tr>\n",
       "  </thead>\n",
       "  <tbody>\n",
       "    <tr>\n",
       "      <th>2</th>\n",
       "      <td>아이</td>\n",
       "      <td>Arts</td>\n",
       "      <td>8.0</td>\n",
       "      <td>Tex</td>\n",
       "      <td>Hellen</td>\n",
       "    </tr>\n",
       "    <tr>\n",
       "      <th>1</th>\n",
       "      <td>어른</td>\n",
       "      <td>Physics</td>\n",
       "      <td>42.0</td>\n",
       "      <td>Pen</td>\n",
       "      <td>Fred</td>\n",
       "    </tr>\n",
       "    <tr>\n",
       "      <th>0</th>\n",
       "      <td>어른</td>\n",
       "      <td>Eng</td>\n",
       "      <td>90.0</td>\n",
       "      <td>NY</td>\n",
       "      <td>Tom</td>\n",
       "    </tr>\n",
       "  </tbody>\n",
       "</table>\n",
       "</div>"
      ],
      "text/plain": [
       "Item  Adult    major   age State    Name\n",
       "Index                                   \n",
       "2        아이     Arts   8.0   Tex  Hellen\n",
       "1        어른  Physics  42.0   Pen    Fred\n",
       "0        어른      Eng  90.0    NY     Tom"
      ]
     },
     "execution_count": 200,
     "metadata": {},
     "output_type": "execute_result"
    }
   ],
   "source": [
    "df1.index.name='Index'; df1.columns.name='Item'\n",
    "df1"
   ]
  },
  {
   "cell_type": "markdown",
   "id": "30e27d2e",
   "metadata": {},
   "source": [
    "### 10.1.2.12 행과 열을 서로 맞바꾸기(Transpose)"
   ]
  },
  {
   "cell_type": "code",
   "execution_count": 201,
   "id": "f13dbdd0",
   "metadata": {
    "ExecuteTime": {
     "end_time": "2022-02-16T01:34:07.461086Z",
     "start_time": "2022-02-16T01:34:07.454585Z"
    }
   },
   "outputs": [
    {
     "data": {
      "text/html": [
       "<div>\n",
       "<style scoped>\n",
       "    .dataframe tbody tr th:only-of-type {\n",
       "        vertical-align: middle;\n",
       "    }\n",
       "\n",
       "    .dataframe tbody tr th {\n",
       "        vertical-align: top;\n",
       "    }\n",
       "\n",
       "    .dataframe thead th {\n",
       "        text-align: right;\n",
       "    }\n",
       "</style>\n",
       "<table border=\"1\" class=\"dataframe\">\n",
       "  <thead>\n",
       "    <tr style=\"text-align: right;\">\n",
       "      <th>Index</th>\n",
       "      <th>2</th>\n",
       "      <th>1</th>\n",
       "      <th>0</th>\n",
       "    </tr>\n",
       "    <tr>\n",
       "      <th>Item</th>\n",
       "      <th></th>\n",
       "      <th></th>\n",
       "      <th></th>\n",
       "    </tr>\n",
       "  </thead>\n",
       "  <tbody>\n",
       "    <tr>\n",
       "      <th>Adult</th>\n",
       "      <td>아이</td>\n",
       "      <td>어른</td>\n",
       "      <td>어른</td>\n",
       "    </tr>\n",
       "    <tr>\n",
       "      <th>major</th>\n",
       "      <td>Arts</td>\n",
       "      <td>Physics</td>\n",
       "      <td>Eng</td>\n",
       "    </tr>\n",
       "    <tr>\n",
       "      <th>age</th>\n",
       "      <td>8.0</td>\n",
       "      <td>42.0</td>\n",
       "      <td>90.0</td>\n",
       "    </tr>\n",
       "    <tr>\n",
       "      <th>State</th>\n",
       "      <td>Tex</td>\n",
       "      <td>Pen</td>\n",
       "      <td>NY</td>\n",
       "    </tr>\n",
       "    <tr>\n",
       "      <th>Name</th>\n",
       "      <td>Hellen</td>\n",
       "      <td>Fred</td>\n",
       "      <td>Tom</td>\n",
       "    </tr>\n",
       "  </tbody>\n",
       "</table>\n",
       "</div>"
      ],
      "text/plain": [
       "Index       2        1     0\n",
       "Item                        \n",
       "Adult      아이       어른    어른\n",
       "major    Arts  Physics   Eng\n",
       "age       8.0     42.0  90.0\n",
       "State     Tex      Pen    NY\n",
       "Name   Hellen     Fred   Tom"
      ]
     },
     "execution_count": 201,
     "metadata": {},
     "output_type": "execute_result"
    }
   ],
   "source": [
    "df1T = df1.T; df1T"
   ]
  },
  {
   "cell_type": "markdown",
   "id": "1f02c13e",
   "metadata": {},
   "source": [
    "### 10.1.2.13 Column Label 앞/뒤에 문자열 덧붙이기(Prefix/Suffix)"
   ]
  },
  {
   "cell_type": "code",
   "execution_count": 202,
   "id": "c0163193",
   "metadata": {
    "ExecuteTime": {
     "end_time": "2022-02-16T01:34:09.272789Z",
     "start_time": "2022-02-16T01:34:09.257286Z"
    }
   },
   "outputs": [
    {
     "data": {
      "text/html": [
       "<div>\n",
       "<style scoped>\n",
       "    .dataframe tbody tr th:only-of-type {\n",
       "        vertical-align: middle;\n",
       "    }\n",
       "\n",
       "    .dataframe tbody tr th {\n",
       "        vertical-align: top;\n",
       "    }\n",
       "\n",
       "    .dataframe thead th {\n",
       "        text-align: right;\n",
       "    }\n",
       "</style>\n",
       "<table border=\"1\" class=\"dataframe\">\n",
       "  <thead>\n",
       "    <tr style=\"text-align: right;\">\n",
       "      <th>Index</th>\n",
       "      <th>col_2</th>\n",
       "      <th>col_1</th>\n",
       "      <th>col_0</th>\n",
       "    </tr>\n",
       "    <tr>\n",
       "      <th>Item</th>\n",
       "      <th></th>\n",
       "      <th></th>\n",
       "      <th></th>\n",
       "    </tr>\n",
       "  </thead>\n",
       "  <tbody>\n",
       "    <tr>\n",
       "      <th>Adult</th>\n",
       "      <td>아이</td>\n",
       "      <td>어른</td>\n",
       "      <td>어른</td>\n",
       "    </tr>\n",
       "    <tr>\n",
       "      <th>major</th>\n",
       "      <td>Arts</td>\n",
       "      <td>Physics</td>\n",
       "      <td>Eng</td>\n",
       "    </tr>\n",
       "    <tr>\n",
       "      <th>age</th>\n",
       "      <td>8.0</td>\n",
       "      <td>42.0</td>\n",
       "      <td>90.0</td>\n",
       "    </tr>\n",
       "    <tr>\n",
       "      <th>State</th>\n",
       "      <td>Tex</td>\n",
       "      <td>Pen</td>\n",
       "      <td>NY</td>\n",
       "    </tr>\n",
       "    <tr>\n",
       "      <th>Name</th>\n",
       "      <td>Hellen</td>\n",
       "      <td>Fred</td>\n",
       "      <td>Tom</td>\n",
       "    </tr>\n",
       "  </tbody>\n",
       "</table>\n",
       "</div>"
      ],
      "text/plain": [
       "Index   col_2    col_1 col_0\n",
       "Item                        \n",
       "Adult      아이       어른    어른\n",
       "major    Arts  Physics   Eng\n",
       "age       8.0     42.0  90.0\n",
       "State     Tex      Pen    NY\n",
       "Name   Hellen     Fred   Tom"
      ]
     },
     "execution_count": 202,
     "metadata": {},
     "output_type": "execute_result"
    }
   ],
   "source": [
    "df1T.add_prefix('col_')"
   ]
  },
  {
   "cell_type": "code",
   "execution_count": 204,
   "id": "8f12d02a",
   "metadata": {
    "ExecuteTime": {
     "end_time": "2022-02-16T01:34:26.835011Z",
     "start_time": "2022-02-16T01:34:26.820508Z"
    }
   },
   "outputs": [
    {
     "data": {
      "text/html": [
       "<div>\n",
       "<style scoped>\n",
       "    .dataframe tbody tr th:only-of-type {\n",
       "        vertical-align: middle;\n",
       "    }\n",
       "\n",
       "    .dataframe tbody tr th {\n",
       "        vertical-align: top;\n",
       "    }\n",
       "\n",
       "    .dataframe thead th {\n",
       "        text-align: right;\n",
       "    }\n",
       "</style>\n",
       "<table border=\"1\" class=\"dataframe\">\n",
       "  <thead>\n",
       "    <tr style=\"text-align: right;\">\n",
       "      <th>Index</th>\n",
       "      <th>2_col</th>\n",
       "      <th>1_col</th>\n",
       "      <th>0_col</th>\n",
       "    </tr>\n",
       "    <tr>\n",
       "      <th>Item</th>\n",
       "      <th></th>\n",
       "      <th></th>\n",
       "      <th></th>\n",
       "    </tr>\n",
       "  </thead>\n",
       "  <tbody>\n",
       "    <tr>\n",
       "      <th>Adult</th>\n",
       "      <td>아이</td>\n",
       "      <td>어른</td>\n",
       "      <td>어른</td>\n",
       "    </tr>\n",
       "    <tr>\n",
       "      <th>major</th>\n",
       "      <td>Arts</td>\n",
       "      <td>Physics</td>\n",
       "      <td>Eng</td>\n",
       "    </tr>\n",
       "    <tr>\n",
       "      <th>age</th>\n",
       "      <td>8.0</td>\n",
       "      <td>42.0</td>\n",
       "      <td>90.0</td>\n",
       "    </tr>\n",
       "    <tr>\n",
       "      <th>State</th>\n",
       "      <td>Tex</td>\n",
       "      <td>Pen</td>\n",
       "      <td>NY</td>\n",
       "    </tr>\n",
       "    <tr>\n",
       "      <th>Name</th>\n",
       "      <td>Hellen</td>\n",
       "      <td>Fred</td>\n",
       "      <td>Tom</td>\n",
       "    </tr>\n",
       "  </tbody>\n",
       "</table>\n",
       "</div>"
      ],
      "text/plain": [
       "Index   2_col    1_col 0_col\n",
       "Item                        \n",
       "Adult      아이       어른    어른\n",
       "major    Arts  Physics   Eng\n",
       "age       8.0     42.0  90.0\n",
       "State     Tex      Pen    NY\n",
       "Name   Hellen     Fred   Tom"
      ]
     },
     "execution_count": 204,
     "metadata": {},
     "output_type": "execute_result"
    }
   ],
   "source": [
    "df1T.add_suffix('_col')"
   ]
  },
  {
   "cell_type": "markdown",
   "id": "75ffb9d2",
   "metadata": {},
   "source": [
    "### 10.1.3 계층적(Hierarchical) Indexing"
   ]
  },
  {
   "cell_type": "code",
   "execution_count": 211,
   "id": "0d8fa41c",
   "metadata": {
    "ExecuteTime": {
     "end_time": "2022-02-16T01:37:09.170576Z",
     "start_time": "2022-02-16T01:37:09.154573Z"
    }
   },
   "outputs": [],
   "source": [
    "df2 = pd.DataFrame({'x':[91,33,45,27,68,54],\n",
    "                    'y':[15,24,46,38,57,79]},\n",
    "                   index=[['A','A','A','B','B','C'],\n",
    "                          [1,2,3,1,2,1]])"
   ]
  },
  {
   "cell_type": "code",
   "execution_count": 212,
   "id": "da5b0852",
   "metadata": {
    "ExecuteTime": {
     "end_time": "2022-02-16T01:37:09.338810Z",
     "start_time": "2022-02-16T01:37:09.329308Z"
    }
   },
   "outputs": [
    {
     "data": {
      "text/html": [
       "<div>\n",
       "<style scoped>\n",
       "    .dataframe tbody tr th:only-of-type {\n",
       "        vertical-align: middle;\n",
       "    }\n",
       "\n",
       "    .dataframe tbody tr th {\n",
       "        vertical-align: top;\n",
       "    }\n",
       "\n",
       "    .dataframe thead th {\n",
       "        text-align: right;\n",
       "    }\n",
       "</style>\n",
       "<table border=\"1\" class=\"dataframe\">\n",
       "  <thead>\n",
       "    <tr style=\"text-align: right;\">\n",
       "      <th></th>\n",
       "      <th></th>\n",
       "      <th>x</th>\n",
       "      <th>y</th>\n",
       "    </tr>\n",
       "  </thead>\n",
       "  <tbody>\n",
       "    <tr>\n",
       "      <th rowspan=\"3\" valign=\"top\">A</th>\n",
       "      <th>1</th>\n",
       "      <td>91</td>\n",
       "      <td>15</td>\n",
       "    </tr>\n",
       "    <tr>\n",
       "      <th>2</th>\n",
       "      <td>33</td>\n",
       "      <td>24</td>\n",
       "    </tr>\n",
       "    <tr>\n",
       "      <th>3</th>\n",
       "      <td>45</td>\n",
       "      <td>46</td>\n",
       "    </tr>\n",
       "    <tr>\n",
       "      <th rowspan=\"2\" valign=\"top\">B</th>\n",
       "      <th>1</th>\n",
       "      <td>27</td>\n",
       "      <td>38</td>\n",
       "    </tr>\n",
       "    <tr>\n",
       "      <th>2</th>\n",
       "      <td>68</td>\n",
       "      <td>57</td>\n",
       "    </tr>\n",
       "    <tr>\n",
       "      <th>C</th>\n",
       "      <th>1</th>\n",
       "      <td>54</td>\n",
       "      <td>79</td>\n",
       "    </tr>\n",
       "  </tbody>\n",
       "</table>\n",
       "</div>"
      ],
      "text/plain": [
       "      x   y\n",
       "A 1  91  15\n",
       "  2  33  24\n",
       "  3  45  46\n",
       "B 1  27  38\n",
       "  2  68  57\n",
       "C 1  54  79"
      ]
     },
     "execution_count": 212,
     "metadata": {},
     "output_type": "execute_result"
    }
   ],
   "source": [
    "df2"
   ]
  },
  {
   "cell_type": "code",
   "execution_count": 213,
   "id": "38ee2558",
   "metadata": {
    "ExecuteTime": {
     "end_time": "2022-02-16T01:37:09.493851Z",
     "start_time": "2022-02-16T01:37:09.489350Z"
    }
   },
   "outputs": [
    {
     "data": {
      "text/plain": [
       "1    15\n",
       "2    24\n",
       "3    46\n",
       "Name: y, dtype: int64"
      ]
     },
     "execution_count": 213,
     "metadata": {},
     "output_type": "execute_result"
    }
   ],
   "source": [
    "df2.loc['A']['y']"
   ]
  },
  {
   "cell_type": "code",
   "execution_count": 214,
   "id": "da9ea030",
   "metadata": {
    "ExecuteTime": {
     "end_time": "2022-02-16T01:37:09.647681Z",
     "start_time": "2022-02-16T01:37:09.634178Z"
    }
   },
   "outputs": [
    {
     "data": {
      "text/plain": [
       "24"
      ]
     },
     "execution_count": 214,
     "metadata": {},
     "output_type": "execute_result"
    }
   ],
   "source": [
    "df2.loc['A',2]['y']"
   ]
  },
  {
   "cell_type": "code",
   "execution_count": 215,
   "id": "f4048b4d",
   "metadata": {
    "ExecuteTime": {
     "end_time": "2022-02-16T01:37:09.786925Z",
     "start_time": "2022-02-16T01:37:09.767922Z"
    }
   },
   "outputs": [
    {
     "data": {
      "text/html": [
       "<div>\n",
       "<style scoped>\n",
       "    .dataframe tbody tr th:only-of-type {\n",
       "        vertical-align: middle;\n",
       "    }\n",
       "\n",
       "    .dataframe tbody tr th {\n",
       "        vertical-align: top;\n",
       "    }\n",
       "\n",
       "    .dataframe thead th {\n",
       "        text-align: right;\n",
       "    }\n",
       "</style>\n",
       "<table border=\"1\" class=\"dataframe\">\n",
       "  <thead>\n",
       "    <tr style=\"text-align: right;\">\n",
       "      <th></th>\n",
       "      <th>y</th>\n",
       "      <th>x</th>\n",
       "    </tr>\n",
       "  </thead>\n",
       "  <tbody>\n",
       "    <tr>\n",
       "      <th>1</th>\n",
       "      <td>38</td>\n",
       "      <td>27</td>\n",
       "    </tr>\n",
       "    <tr>\n",
       "      <th>2</th>\n",
       "      <td>57</td>\n",
       "      <td>68</td>\n",
       "    </tr>\n",
       "  </tbody>\n",
       "</table>\n",
       "</div>"
      ],
      "text/plain": [
       "    y   x\n",
       "1  38  27\n",
       "2  57  68"
      ]
     },
     "execution_count": 215,
     "metadata": {},
     "output_type": "execute_result"
    }
   ],
   "source": [
    "df2.loc['B'][['y','x']]"
   ]
  },
  {
   "cell_type": "code",
   "execution_count": 216,
   "id": "84389b28",
   "metadata": {
    "ExecuteTime": {
     "end_time": "2022-02-16T01:37:09.879837Z",
     "start_time": "2022-02-16T01:37:09.871835Z"
    }
   },
   "outputs": [
    {
     "data": {
      "text/plain": [
       "B  1    38\n",
       "   2    57\n",
       "A  1    15\n",
       "   2    24\n",
       "   3    46\n",
       "Name: y, dtype: int64"
      ]
     },
     "execution_count": 216,
     "metadata": {},
     "output_type": "execute_result"
    }
   ],
   "source": [
    "df2.loc[['B','A']]['y']"
   ]
  },
  {
   "cell_type": "code",
   "execution_count": 217,
   "id": "6eb610fc",
   "metadata": {
    "ExecuteTime": {
     "end_time": "2022-02-16T01:37:10.019293Z",
     "start_time": "2022-02-16T01:37:10.010292Z"
    }
   },
   "outputs": [],
   "source": [
    "data44 = np.array([[1,4,2,7],\n",
    "                   [3,5,8,4],\n",
    "                   [8,3,6,1],\n",
    "                   [7,9,6,2]])"
   ]
  },
  {
   "cell_type": "code",
   "execution_count": 218,
   "id": "e5d9ac0a",
   "metadata": {
    "ExecuteTime": {
     "end_time": "2022-02-16T01:37:10.142888Z",
     "start_time": "2022-02-16T01:37:10.124884Z"
    }
   },
   "outputs": [],
   "source": [
    "df22 = pd.DataFrame(data44,\n",
    "                    index=[['Store1','Store1','Store2','Store2'],\n",
    "                           [1,2,1,2]],\n",
    "                    columns=[['Rose','Rose','Lily','Lily'],\n",
    "                             ['Red','White','White','Pink']])"
   ]
  },
  {
   "cell_type": "code",
   "execution_count": 219,
   "id": "729a5e56",
   "metadata": {
    "ExecuteTime": {
     "end_time": "2022-02-16T01:37:10.250737Z",
     "start_time": "2022-02-16T01:37:10.234234Z"
    }
   },
   "outputs": [
    {
     "data": {
      "text/html": [
       "<div>\n",
       "<style scoped>\n",
       "    .dataframe tbody tr th:only-of-type {\n",
       "        vertical-align: middle;\n",
       "    }\n",
       "\n",
       "    .dataframe tbody tr th {\n",
       "        vertical-align: top;\n",
       "    }\n",
       "\n",
       "    .dataframe thead tr th {\n",
       "        text-align: left;\n",
       "    }\n",
       "</style>\n",
       "<table border=\"1\" class=\"dataframe\">\n",
       "  <thead>\n",
       "    <tr>\n",
       "      <th></th>\n",
       "      <th></th>\n",
       "      <th colspan=\"2\" halign=\"left\">Rose</th>\n",
       "      <th colspan=\"2\" halign=\"left\">Lily</th>\n",
       "    </tr>\n",
       "    <tr>\n",
       "      <th></th>\n",
       "      <th></th>\n",
       "      <th>Red</th>\n",
       "      <th>White</th>\n",
       "      <th>White</th>\n",
       "      <th>Pink</th>\n",
       "    </tr>\n",
       "  </thead>\n",
       "  <tbody>\n",
       "    <tr>\n",
       "      <th rowspan=\"2\" valign=\"top\">Store1</th>\n",
       "      <th>1</th>\n",
       "      <td>1</td>\n",
       "      <td>4</td>\n",
       "      <td>2</td>\n",
       "      <td>7</td>\n",
       "    </tr>\n",
       "    <tr>\n",
       "      <th>2</th>\n",
       "      <td>3</td>\n",
       "      <td>5</td>\n",
       "      <td>8</td>\n",
       "      <td>4</td>\n",
       "    </tr>\n",
       "    <tr>\n",
       "      <th rowspan=\"2\" valign=\"top\">Store2</th>\n",
       "      <th>1</th>\n",
       "      <td>8</td>\n",
       "      <td>3</td>\n",
       "      <td>6</td>\n",
       "      <td>1</td>\n",
       "    </tr>\n",
       "    <tr>\n",
       "      <th>2</th>\n",
       "      <td>7</td>\n",
       "      <td>9</td>\n",
       "      <td>6</td>\n",
       "      <td>2</td>\n",
       "    </tr>\n",
       "  </tbody>\n",
       "</table>\n",
       "</div>"
      ],
      "text/plain": [
       "         Rose        Lily     \n",
       "          Red White White Pink\n",
       "Store1 1    1     4     2    7\n",
       "       2    3     5     8    4\n",
       "Store2 1    8     3     6    1\n",
       "       2    7     9     6    2"
      ]
     },
     "execution_count": 219,
     "metadata": {},
     "output_type": "execute_result"
    }
   ],
   "source": [
    "df22"
   ]
  },
  {
   "cell_type": "code",
   "execution_count": 220,
   "id": "a96b7941",
   "metadata": {
    "ExecuteTime": {
     "end_time": "2022-02-16T01:37:10.359102Z",
     "start_time": "2022-02-16T01:37:10.353601Z"
    }
   },
   "outputs": [],
   "source": [
    "df22.index.names = ['Store','Size']"
   ]
  },
  {
   "cell_type": "code",
   "execution_count": 221,
   "id": "5c5bbab3",
   "metadata": {
    "ExecuteTime": {
     "end_time": "2022-02-16T01:37:10.482008Z",
     "start_time": "2022-02-16T01:37:10.472006Z"
    }
   },
   "outputs": [
    {
     "data": {
      "text/html": [
       "<div>\n",
       "<style scoped>\n",
       "    .dataframe tbody tr th:only-of-type {\n",
       "        vertical-align: middle;\n",
       "    }\n",
       "\n",
       "    .dataframe tbody tr th {\n",
       "        vertical-align: top;\n",
       "    }\n",
       "\n",
       "    .dataframe thead tr th {\n",
       "        text-align: left;\n",
       "    }\n",
       "\n",
       "    .dataframe thead tr:last-of-type th {\n",
       "        text-align: right;\n",
       "    }\n",
       "</style>\n",
       "<table border=\"1\" class=\"dataframe\">\n",
       "  <thead>\n",
       "    <tr>\n",
       "      <th></th>\n",
       "      <th>Flower</th>\n",
       "      <th colspan=\"2\" halign=\"left\">Rose</th>\n",
       "      <th colspan=\"2\" halign=\"left\">Lily</th>\n",
       "    </tr>\n",
       "    <tr>\n",
       "      <th></th>\n",
       "      <th>Color</th>\n",
       "      <th>Red</th>\n",
       "      <th>White</th>\n",
       "      <th>White</th>\n",
       "      <th>Pink</th>\n",
       "    </tr>\n",
       "    <tr>\n",
       "      <th>Store</th>\n",
       "      <th>Size</th>\n",
       "      <th></th>\n",
       "      <th></th>\n",
       "      <th></th>\n",
       "      <th></th>\n",
       "    </tr>\n",
       "  </thead>\n",
       "  <tbody>\n",
       "    <tr>\n",
       "      <th rowspan=\"2\" valign=\"top\">Store1</th>\n",
       "      <th>1</th>\n",
       "      <td>1</td>\n",
       "      <td>4</td>\n",
       "      <td>2</td>\n",
       "      <td>7</td>\n",
       "    </tr>\n",
       "    <tr>\n",
       "      <th>2</th>\n",
       "      <td>3</td>\n",
       "      <td>5</td>\n",
       "      <td>8</td>\n",
       "      <td>4</td>\n",
       "    </tr>\n",
       "    <tr>\n",
       "      <th rowspan=\"2\" valign=\"top\">Store2</th>\n",
       "      <th>1</th>\n",
       "      <td>8</td>\n",
       "      <td>3</td>\n",
       "      <td>6</td>\n",
       "      <td>1</td>\n",
       "    </tr>\n",
       "    <tr>\n",
       "      <th>2</th>\n",
       "      <td>7</td>\n",
       "      <td>9</td>\n",
       "      <td>6</td>\n",
       "      <td>2</td>\n",
       "    </tr>\n",
       "  </tbody>\n",
       "</table>\n",
       "</div>"
      ],
      "text/plain": [
       "Flower      Rose        Lily     \n",
       "Color        Red White White Pink\n",
       "Store  Size                      \n",
       "Store1 1       1     4     2    7\n",
       "       2       3     5     8    4\n",
       "Store2 1       8     3     6    1\n",
       "       2       7     9     6    2"
      ]
     },
     "execution_count": 221,
     "metadata": {},
     "output_type": "execute_result"
    }
   ],
   "source": [
    "df22.columns.names = ['Flower','Color']; df22"
   ]
  }
 ],
 "metadata": {
  "kernelspec": {
   "display_name": "Python 3 (ipykernel)",
   "language": "python",
   "name": "python3"
  },
  "language_info": {
   "codemirror_mode": {
    "name": "ipython",
    "version": 3
   },
   "file_extension": ".py",
   "mimetype": "text/x-python",
   "name": "python",
   "nbconvert_exporter": "python",
   "pygments_lexer": "ipython3",
   "version": "3.9.7"
  },
  "toc": {
   "base_numbering": 1,
   "nav_menu": {},
   "number_sections": true,
   "sideBar": true,
   "skip_h1_title": false,
   "title_cell": "Table of Contents",
   "title_sidebar": "Contents",
   "toc_cell": false,
   "toc_position": {},
   "toc_section_display": true,
   "toc_window_display": false
  }
 },
 "nbformat": 4,
 "nbformat_minor": 5
}
